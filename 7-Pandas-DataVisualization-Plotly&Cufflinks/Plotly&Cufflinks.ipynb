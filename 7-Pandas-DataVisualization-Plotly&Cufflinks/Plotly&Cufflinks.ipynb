{
 "cells": [
  {
   "cell_type": "code",
   "execution_count": 2,
   "metadata": {},
   "outputs": [],
   "source": [
    "import pandas as pd\n",
    "%matplotlib inline"
   ]
  },
  {
   "cell_type": "code",
   "execution_count": 3,
   "metadata": {},
   "outputs": [],
   "source": [
    "import numpy as np"
   ]
  },
  {
   "cell_type": "code",
   "execution_count": 17,
   "metadata": {},
   "outputs": [],
   "source": [
    "# import chart_studio.plotly as py"
   ]
  },
  {
   "cell_type": "code",
   "execution_count": 4,
   "metadata": {},
   "outputs": [],
   "source": [
    "from plotly import __version__"
   ]
  },
  {
   "cell_type": "code",
   "execution_count": 5,
   "metadata": {},
   "outputs": [
    {
     "name": "stdout",
     "output_type": "stream",
     "text": [
      "4.8.1\n"
     ]
    }
   ],
   "source": [
    "print(__version__)"
   ]
  },
  {
   "cell_type": "code",
   "execution_count": 6,
   "metadata": {},
   "outputs": [],
   "source": [
    "import cufflinks as cf"
   ]
  },
  {
   "cell_type": "code",
   "execution_count": 21,
   "metadata": {},
   "outputs": [
    {
     "data": {
      "text/html": [
       "        <script type=\"text/javascript\">\n",
       "        window.PlotlyConfig = {MathJaxConfig: 'local'};\n",
       "        if (window.MathJax) {MathJax.Hub.Config({SVG: {font: \"STIX-Web\"}});}\n",
       "        if (typeof require !== 'undefined') {\n",
       "        require.undef(\"plotly\");\n",
       "        requirejs.config({\n",
       "            paths: {\n",
       "                'plotly': ['https://cdn.plot.ly/plotly-latest.min']\n",
       "            }\n",
       "        });\n",
       "        require(['plotly'], function(Plotly) {\n",
       "            window._Plotly = Plotly;\n",
       "        });\n",
       "        }\n",
       "        </script>\n",
       "        "
      ]
     },
     "metadata": {},
     "output_type": "display_data"
    }
   ],
   "source": [
    "cf.go_offline()"
   ]
  },
  {
   "cell_type": "code",
   "execution_count": 7,
   "metadata": {},
   "outputs": [],
   "source": [
    "from plotly.offline import download_plotlyjs,init_notebook_mode,plot,iplot"
   ]
  },
  {
   "cell_type": "code",
   "execution_count": 8,
   "metadata": {},
   "outputs": [
    {
     "data": {
      "text/html": [
       "        <script type=\"text/javascript\">\n",
       "        window.PlotlyConfig = {MathJaxConfig: 'local'};\n",
       "        if (window.MathJax) {MathJax.Hub.Config({SVG: {font: \"STIX-Web\"}});}\n",
       "        if (typeof require !== 'undefined') {\n",
       "        require.undef(\"plotly\");\n",
       "        requirejs.config({\n",
       "            paths: {\n",
       "                'plotly': ['https://cdn.plot.ly/plotly-latest.min']\n",
       "            }\n",
       "        });\n",
       "        require(['plotly'], function(Plotly) {\n",
       "            window._Plotly = Plotly;\n",
       "        });\n",
       "        }\n",
       "        </script>\n",
       "        "
      ]
     },
     "metadata": {},
     "output_type": "display_data"
    }
   ],
   "source": [
    "init_notebook_mode(connected=True)"
   ]
  },
  {
   "cell_type": "code",
   "execution_count": 9,
   "metadata": {},
   "outputs": [],
   "source": [
    "# DATA\n",
    "df = pd.DataFrame(np.random.randn(100,4),columns=['A','B','C','D'])"
   ]
  },
  {
   "cell_type": "code",
   "execution_count": 10,
   "metadata": {},
   "outputs": [
    {
     "data": {
      "text/html": [
       "<div>\n",
       "<style scoped>\n",
       "    .dataframe tbody tr th:only-of-type {\n",
       "        vertical-align: middle;\n",
       "    }\n",
       "\n",
       "    .dataframe tbody tr th {\n",
       "        vertical-align: top;\n",
       "    }\n",
       "\n",
       "    .dataframe thead th {\n",
       "        text-align: right;\n",
       "    }\n",
       "</style>\n",
       "<table border=\"1\" class=\"dataframe\">\n",
       "  <thead>\n",
       "    <tr style=\"text-align: right;\">\n",
       "      <th></th>\n",
       "      <th>A</th>\n",
       "      <th>B</th>\n",
       "      <th>C</th>\n",
       "      <th>D</th>\n",
       "    </tr>\n",
       "  </thead>\n",
       "  <tbody>\n",
       "    <tr>\n",
       "      <th>0</th>\n",
       "      <td>1.907231</td>\n",
       "      <td>0.539734</td>\n",
       "      <td>0.129052</td>\n",
       "      <td>-1.983916</td>\n",
       "    </tr>\n",
       "    <tr>\n",
       "      <th>1</th>\n",
       "      <td>0.456643</td>\n",
       "      <td>1.427365</td>\n",
       "      <td>-0.894269</td>\n",
       "      <td>0.770953</td>\n",
       "    </tr>\n",
       "    <tr>\n",
       "      <th>2</th>\n",
       "      <td>1.873559</td>\n",
       "      <td>-0.269947</td>\n",
       "      <td>-0.060389</td>\n",
       "      <td>1.035420</td>\n",
       "    </tr>\n",
       "    <tr>\n",
       "      <th>3</th>\n",
       "      <td>-1.276462</td>\n",
       "      <td>-0.009206</td>\n",
       "      <td>0.888857</td>\n",
       "      <td>1.441770</td>\n",
       "    </tr>\n",
       "    <tr>\n",
       "      <th>4</th>\n",
       "      <td>1.362853</td>\n",
       "      <td>0.382455</td>\n",
       "      <td>0.330322</td>\n",
       "      <td>-0.088964</td>\n",
       "    </tr>\n",
       "  </tbody>\n",
       "</table>\n",
       "</div>"
      ],
      "text/plain": [
       "          A         B         C         D\n",
       "0  1.907231  0.539734  0.129052 -1.983916\n",
       "1  0.456643  1.427365 -0.894269  0.770953\n",
       "2  1.873559 -0.269947 -0.060389  1.035420\n",
       "3 -1.276462 -0.009206  0.888857  1.441770\n",
       "4  1.362853  0.382455  0.330322 -0.088964"
      ]
     },
     "execution_count": 10,
     "metadata": {},
     "output_type": "execute_result"
    }
   ],
   "source": [
    "df.head()"
   ]
  },
  {
   "cell_type": "code",
   "execution_count": 11,
   "metadata": {},
   "outputs": [],
   "source": [
    "df2 = pd.DataFrame({'Category':['A','B','C'],'Values':[32,43,50]})"
   ]
  },
  {
   "cell_type": "code",
   "execution_count": 12,
   "metadata": {},
   "outputs": [
    {
     "data": {
      "text/html": [
       "<div>\n",
       "<style scoped>\n",
       "    .dataframe tbody tr th:only-of-type {\n",
       "        vertical-align: middle;\n",
       "    }\n",
       "\n",
       "    .dataframe tbody tr th {\n",
       "        vertical-align: top;\n",
       "    }\n",
       "\n",
       "    .dataframe thead th {\n",
       "        text-align: right;\n",
       "    }\n",
       "</style>\n",
       "<table border=\"1\" class=\"dataframe\">\n",
       "  <thead>\n",
       "    <tr style=\"text-align: right;\">\n",
       "      <th></th>\n",
       "      <th>Category</th>\n",
       "      <th>Values</th>\n",
       "    </tr>\n",
       "  </thead>\n",
       "  <tbody>\n",
       "    <tr>\n",
       "      <th>0</th>\n",
       "      <td>A</td>\n",
       "      <td>32</td>\n",
       "    </tr>\n",
       "    <tr>\n",
       "      <th>1</th>\n",
       "      <td>B</td>\n",
       "      <td>43</td>\n",
       "    </tr>\n",
       "    <tr>\n",
       "      <th>2</th>\n",
       "      <td>C</td>\n",
       "      <td>50</td>\n",
       "    </tr>\n",
       "  </tbody>\n",
       "</table>\n",
       "</div>"
      ],
      "text/plain": [
       "  Category  Values\n",
       "0        A      32\n",
       "1        B      43\n",
       "2        C      50"
      ]
     },
     "execution_count": 12,
     "metadata": {},
     "output_type": "execute_result"
    }
   ],
   "source": [
    "df2"
   ]
  },
  {
   "cell_type": "code",
   "execution_count": 13,
   "metadata": {},
   "outputs": [
    {
     "data": {
      "text/plain": [
       "<matplotlib.axes._subplots.AxesSubplot at 0x7fd1232bb250>"
      ]
     },
     "execution_count": 13,
     "metadata": {},
     "output_type": "execute_result"
    },
    {
     "data": {
      "image/png": "[encoded data removed]",
      "text/plain": [
       "<Figure size 432x288 with 1 Axes>"
      ]
     },
     "metadata": {
      "needs_background": "light"
     },
     "output_type": "display_data"
    }
   ],
   "source": [
    "df.plot()"
   ]
  },
  {
   "cell_type": "code",
   "execution_count": 22,
   "metadata": {},
   "outputs": [
    {
     "data": {
      "application/vnd.plotly.v1+json": {
       "config": {
        "linkText": "Export to plot.ly",
        "plotlyServerURL": "https://plot.ly",
        "showLink": true
       },
       "data": [
        {
         "line": {
          "color": "rgba(255, 153, 51, 1.0)",
          "dash": "solid",
          "shape": "linear",
          "width": 1.3
         },
         "mode": "lines",
         "name": "A",
         "text": "",
         "type": "scatter",
         "x": [
          0,
          1,
          2,
          3,
          4,
          5,
          6,
          7,
          8,
          9,
          10,
          11,
          12,
          13,
          14,
          15,
          16,
          17,
          18,
          19,
          20,
          21,
          22,
          23,
          24,
          25,
          26,
          27,
          28,
          29,
          30,
          31,
          32,
          33,
          34,
          35,
          36,
          37,
          38,
          39,
          40,
          41,
          42,
          43,
          44,
          45,
          46,
          47,
          48,
          49,
          50,
          51,
          52,
          53,
          54,
          55,
          56,
          57,
          58,
          59,
          60,
          61,
          62,
          63,
          64,
          65,
          66,
          67,
          68,
          69,
          70,
          71,
          72,
          73,
          74,
          75,
          76,
          77,
          78,
          79,
          80,
          81,
          82,
          83,
          84,
          85,
          86,
          87,
          88,
          89,
          90,
          91,
          92,
          93,
          94,
          95,
          96,
          97,
          98,
          99
         ],
         "y": [
          1.9072310072255976,
          0.45664251731057026,
          1.8735593319249753,
          -1.2764623848263121,
          1.3628530085372335,
          -0.4325085498941139,
          -2.130565106550025,
          -0.3478882665499311,
          -1.8065591069816318,
          1.2802855972530267,
          0.9099690101147678,
          -0.7254302350257974,
          -1.357689466572614,
          -0.2924728207932572,
          -0.6520631482874802,
          0.004148547838381575,
          0.6844015451212803,
          0.4768351538690697,
          0.6533129371097708,
          -0.8033735902053046,
          0.10436594645935798,
          0.5988000624309174,
          -0.6343639773656216,
          -0.13527773819219185,
          -0.20256767414639978,
          -0.015873236886170233,
          1.0333180007396285,
          0.6233280465126437,
          1.8054087268203456,
          -0.3483139337287294,
          -1.6450789071911471,
          -0.07367633128762816,
          0.9661664795196275,
          -3.554540119417503,
          -0.3517884347890016,
          -0.011080518665749637,
          0.621422551146316,
          -1.2531579594339688,
          -0.10051082015301586,
          -0.24054607341946016,
          -0.3839538033661071,
          -1.0575974259826995,
          -1.752757339947482,
          0.2774973963127115,
          -1.4494616998409102,
          0.16015295976718663,
          -1.5104556329789018,
          -0.8063273303499235,
          -0.3947630414938095,
          0.43441231346843795,
          1.226504273411426,
          0.2024939514122735,
          -0.00835533148028108,
          -0.36256325006618495,
          0.5359156853817274,
          -1.0969121025292958,
          0.43187469434509806,
          0.8496889764272824,
          -1.2082731388454349,
          -1.7089121213718867,
          -0.5170724026485997,
          -0.03994284400890909,
          -0.25932188432990816,
          0.07953898183032124,
          1.0458832881768172,
          -1.9579149340336046,
          0.5453127632430007,
          1.854844673262272,
          -2.5673923034531083,
          -0.09091067989192657,
          -0.3884470822677006,
          -1.8469698500964709,
          -1.5158324196916066,
          -0.38138223397344256,
          -0.05805129919084255,
          1.087493238981735,
          0.7534415222757022,
          -0.6284540050680987,
          -0.38751599288043437,
          -1.2084618045487636,
          0.0514634408368774,
          -1.082918557354612,
          -0.4992107264311093,
          -1.9452028837154631,
          0.7273056387902339,
          -0.8955610849268126,
          -0.8234617655936936,
          0.532065163647017,
          -1.1028862381850142,
          -1.7582423251578894,
          -1.3791246147712828,
          0.10042152710117103,
          -0.5716713526590748,
          -0.9735284618191417,
          -0.058716214204821274,
          0.5119956539665943,
          0.11718988426468993,
          0.006329341436323806,
          -0.620841952508306,
          0.8187717540053973
         ]
        },
        {
         "line": {
          "color": "rgba(55, 128, 191, 1.0)",
          "dash": "solid",
          "shape": "linear",
          "width": 1.3
         },
         "mode": "lines",
         "name": "B",
         "text": "",
         "type": "scatter",
         "x": [
          0,
          1,
          2,
          3,
          4,
          5,
          6,
          7,
          8,
          9,
          10,
          11,
          12,
          13,
          14,
          15,
          16,
          17,
          18,
          19,
          20,
          21,
          22,
          23,
          24,
          25,
          26,
          27,
          28,
          29,
          30,
          31,
          32,
          33,
          34,
          35,
          36,
          37,
          38,
          39,
          40,
          41,
          42,
          43,
          44,
          45,
          46,
          47,
          48,
          49,
          50,
          51,
          52,
          53,
          54,
          55,
          56,
          57,
          58,
          59,
          60,
          61,
          62,
          63,
          64,
          65,
          66,
          67,
          68,
          69,
          70,
          71,
          72,
          73,
          74,
          75,
          76,
          77,
          78,
          79,
          80,
          81,
          82,
          83,
          84,
          85,
          86,
          87,
          88,
          89,
          90,
          91,
          92,
          93,
          94,
          95,
          96,
          97,
          98,
          99
         ],
         "y": [
          0.5397341984256421,
          1.4273648820401585,
          -0.2699470460701567,
          -0.009205707259470066,
          0.38245509704051034,
          -0.6121410983025236,
          1.471122536385358,
          0.008852038627531702,
          -1.0322725314491903,
          0.8203466329622852,
          0.40274543333508517,
          1.1710113832309024,
          -0.8490119147891786,
          0.37012452704623977,
          0.6727839097825701,
          -0.7146490926729023,
          -1.1710925815152915,
          0.829667151217231,
          1.6254325510413408,
          -0.03523386729780477,
          0.8344690832208976,
          -0.013325006634558746,
          0.731317913467702,
          -0.34730864357214936,
          0.43023502387456686,
          1.4329446581756315,
          -0.7491845032709245,
          0.3510417309197764,
          0.14083899715516177,
          -1.1861006093411341,
          0.06372821563374959,
          -0.5482268710062057,
          0.5358156468037663,
          1.860518121810859,
          1.0586200684408351,
          -0.0639731090133942,
          -0.08212677769362468,
          -1.3644617085653952,
          2.306486236434318,
          0.2299424870881697,
          0.277553325627394,
          -0.7310389683951801,
          0.7855790026429404,
          1.991062673583806,
          0.42083892064389616,
          0.3312184872102766,
          -0.948280317204048,
          -0.9568068650540437,
          0.06219846171557773,
          -0.6894903418517699,
          0.9426582104357005,
          -0.6549530029210485,
          -0.27693993710331516,
          0.5794679612177993,
          -0.17445332930955162,
          1.973689765686015,
          -1.1221081740462968,
          -0.5689439814189605,
          -0.812476104079502,
          2.106994461930286,
          0.32736395155534453,
          0.1312433407250468,
          -0.18047861897329853,
          -0.772626615251416,
          0.3228290458457046,
          -0.3876374046636482,
          0.1833422829766309,
          1.9087468843804094,
          -0.15516628138100658,
          -1.4163623544697346,
          0.6147553608766299,
          0.6285689877845728,
          0.46983514730252834,
          -1.891043424119729,
          -0.41109171089752206,
          -0.19882089607141482,
          0.26050507326347166,
          -0.021940889213982018,
          0.35818838870948727,
          0.8607668916844468,
          -0.76838927683406,
          -0.627976710508572,
          -0.6366917226484422,
          0.04068231456785195,
          1.0800854230491712,
          -0.5362280813309173,
          0.9978930275747946,
          -1.7791250497361506,
          -0.677962460840107,
          0.7572816499590634,
          -0.287425248846891,
          -0.47888022308913814,
          -1.1274959646162466,
          0.2324095143049378,
          0.8683229396351135,
          1.829117056821466,
          -1.816751591989605,
          -0.5924861572089956,
          0.8017402458379345,
          -1.4002762640497939
         ]
        },
        {
         "line": {
          "color": "rgba(50, 171, 96, 1.0)",
          "dash": "solid",
          "shape": "linear",
          "width": 1.3
         },
         "mode": "lines",
         "name": "C",
         "text": "",
         "type": "scatter",
         "x": [
          0,
          1,
          2,
          3,
          4,
          5,
          6,
          7,
          8,
          9,
          10,
          11,
          12,
          13,
          14,
          15,
          16,
          17,
          18,
          19,
          20,
          21,
          22,
          23,
          24,
          25,
          26,
          27,
          28,
          29,
          30,
          31,
          32,
          33,
          34,
          35,
          36,
          37,
          38,
          39,
          40,
          41,
          42,
          43,
          44,
          45,
          46,
          47,
          48,
          49,
          50,
          51,
          52,
          53,
          54,
          55,
          56,
          57,
          58,
          59,
          60,
          61,
          62,
          63,
          64,
          65,
          66,
          67,
          68,
          69,
          70,
          71,
          72,
          73,
          74,
          75,
          76,
          77,
          78,
          79,
          80,
          81,
          82,
          83,
          84,
          85,
          86,
          87,
          88,
          89,
          90,
          91,
          92,
          93,
          94,
          95,
          96,
          97,
          98,
          99
         ],
         "y": [
          0.1290518449288295,
          -0.8942693898422739,
          -0.0603885969808389,
          0.8888571827253696,
          0.3303216544253686,
          -0.6962016615371871,
          0.6847180896334788,
          1.634685536133902,
          -0.7768311097265821,
          -1.0497817281496105,
          0.04260478899227552,
          0.2838691156189989,
          -0.2912038460934214,
          0.81625304472437,
          -1.3331321265578724,
          -0.911191847865561,
          -0.19687587859455705,
          -1.2485335063985736,
          1.6254466265754193,
          -0.13264571807983716,
          0.029233385616819835,
          -0.3835662646984012,
          -0.5998151436263172,
          0.06629171046788511,
          -0.5334147456940839,
          -1.4752559631396605,
          -2.043165615565392,
          -0.9073109239546666,
          -0.5635336272430629,
          -0.008789992072936102,
          -1.7101997598000038,
          1.918910794788815,
          0.12651018891030594,
          -2.6736508129888765,
          0.04090428461982828,
          -0.6267744176315131,
          1.3335525230802128,
          -0.4120113575547163,
          -0.5594431836696315,
          -0.22065240576609835,
          0.12305168424365334,
          -0.22595737428925225,
          0.5349659874982043,
          0.04224545942985787,
          0.08866425256121034,
          0.45401509544651464,
          -1.7797491351659889,
          0.19668438010122313,
          -0.004817687438065632,
          1.3282039365181113,
          0.7042870811841475,
          0.32056053960947095,
          -0.26560675795858235,
          -0.3716990673752184,
          -0.3452507209114012,
          1.44433585382595,
          -0.25495549926528543,
          -0.24335827103759927,
          -0.5360389588075302,
          0.8772550092169797,
          0.36905944121709056,
          0.687483714658491,
          -0.8763895837530766,
          2.151432620163798,
          0.9758341259438752,
          -0.4232591087195389,
          -0.7263409692947592,
          -1.4283884300059841,
          0.3749006863824324,
          1.2615256423879257,
          -0.47739720739320624,
          0.007655163420542726,
          -0.7326569236558824,
          -0.23816640030265812,
          0.5891064824477343,
          0.6667209587695969,
          -2.2238868518942123,
          0.7101794040876726,
          -1.1067475414415793,
          -0.43368631367219096,
          1.1127113699512454,
          -3.5180754076422085,
          1.6894351549143032,
          0.7375479091898545,
          2.273084648207982,
          0.2093410158696672,
          0.1275858696546415,
          0.5877413023474375,
          -0.7730905034289465,
          1.6960758468267494,
          -0.4795135980211943,
          -0.4670536994748242,
          -1.7923554266762372,
          -1.2489568643422548,
          0.4584963812339756,
          0.7321164288932169,
          0.5720135489933249,
          -0.8741127283123019,
          0.5753286511533514,
          0.7941319134540555
         ]
        },
        {
         "line": {
          "color": "rgba(128, 0, 128, 1.0)",
          "dash": "solid",
          "shape": "linear",
          "width": 1.3
         },
         "mode": "lines",
         "name": "D",
         "text": "",
         "type": "scatter",
         "x": [
          0,
          1,
          2,
          3,
          4,
          5,
          6,
          7,
          8,
          9,
          10,
          11,
          12,
          13,
          14,
          15,
          16,
          17,
          18,
          19,
          20,
          21,
          22,
          23,
          24,
          25,
          26,
          27,
          28,
          29,
          30,
          31,
          32,
          33,
          34,
          35,
          36,
          37,
          38,
          39,
          40,
          41,
          42,
          43,
          44,
          45,
          46,
          47,
          48,
          49,
          50,
          51,
          52,
          53,
          54,
          55,
          56,
          57,
          58,
          59,
          60,
          61,
          62,
          63,
          64,
          65,
          66,
          67,
          68,
          69,
          70,
          71,
          72,
          73,
          74,
          75,
          76,
          77,
          78,
          79,
          80,
          81,
          82,
          83,
          84,
          85,
          86,
          87,
          88,
          89,
          90,
          91,
          92,
          93,
          94,
          95,
          96,
          97,
          98,
          99
         ],
         "y": [
          -1.98391637917484,
          0.7709525668191602,
          1.035419861330941,
          1.4417704578205035,
          -0.08896422052327554,
          0.17092025951416737,
          -2.1080136681225032,
          -1.5250922351857676,
          -0.026762787820439168,
          1.0998460693649141,
          0.23091058917948548,
          0.6325655245214455,
          1.5835804818769312,
          -0.11428329863210708,
          -2.2778561659483683,
          0.891607490588241,
          0.31025493453159747,
          -0.8377068774275928,
          -0.807822956343638,
          0.8518053651312106,
          0.21457144606777215,
          1.0315235223368702,
          -1.5243672016317151,
          1.6683287308670112,
          -2.7931280269506984,
          0.6940655689111038,
          1.9623415527581394,
          -0.7624118235995387,
          -0.20056846446995488,
          -0.6501963503967874,
          0.9884059568672299,
          -1.633055927710676,
          -0.2494597122289142,
          0.8714462386930537,
          -1.0646442724071206,
          0.149190137888478,
          0.10274451793225345,
          0.03370701950596059,
          0.42813908436603065,
          -0.48177266293926635,
          -0.8879242106159551,
          0.23221415955640232,
          0.6842347650504285,
          -0.10955251785708613,
          0.4867956662898185,
          -0.7054283503401905,
          0.06474989591599337,
          -0.7876540054494298,
          0.5343136394302063,
          0.042684352308633405,
          -0.16673198141396978,
          1.7112143089213487,
          -0.38324163790884314,
          1.2098094860548758,
          1.8915333419114813,
          -0.661764747587267,
          0.25871649531212054,
          -0.4705028898091924,
          0.9897176320289679,
          -0.15343691337338916,
          0.42192977920907715,
          -0.12430850661724739,
          0.5981619565209743,
          0.482735136064605,
          -1.1030235985469987,
          1.242240587844812,
          -0.6021944852896283,
          -1.054917278224973,
          0.15523086441313563,
          -1.6450536445743458,
          -0.5380979389961633,
          -0.17748978975832785,
          -0.6296565012042219,
          0.3373686044484245,
          -1.1803469192277745,
          -0.967283447322248,
          -0.5570452871077222,
          -1.5746819791076703,
          0.7529814075319013,
          -0.9005719235209542,
          -0.5444797659642279,
          -1.2654592599808787,
          0.01627521893794739,
          0.7535658105375982,
          -0.20653782340574864,
          -0.37983754807719283,
          -0.6997601308318075,
          -0.325757900081184,
          0.4129298817199609,
          0.46756150246359696,
          -1.1029938903553604,
          -0.3530223408861881,
          1.0456733358176729,
          -0.4518373908910548,
          -0.9629326506667446,
          0.5473940570622489,
          -0.027340882510283653,
          -1.3424921764772848,
          0.07934729391308067,
          -0.41255363718070104
         ]
        }
       ],
       "layout": {
        "legend": {
         "bgcolor": "#F5F6F9",
         "font": {
          "color": "#4D5663"
         }
        },
        "paper_bgcolor": "#F5F6F9",
        "plot_bgcolor": "#F5F6F9",
        "template": {
         "data": {
          "bar": [
           {
            "error_x": {
             "color": "#2a3f5f"
            },
            "error_y": {
             "color": "#2a3f5f"
            },
            "marker": {
             "line": {
              "color": "#E5ECF6",
              "width": 0.5
             }
            },
            "type": "bar"
           }
          ],
          "barpolar": [
           {
            "marker": {
             "line": {
              "color": "#E5ECF6",
              "width": 0.5
             }
            },
            "type": "barpolar"
           }
          ],
          "carpet": [
           {
            "aaxis": {
             "endlinecolor": "#2a3f5f",
             "gridcolor": "white",
             "linecolor": "white",
             "minorgridcolor": "white",
             "startlinecolor": "#2a3f5f"
            },
            "baxis": {
             "endlinecolor": "#2a3f5f",
             "gridcolor": "white",
             "linecolor": "white",
             "minorgridcolor": "white",
             "startlinecolor": "#2a3f5f"
            },
            "type": "carpet"
           }
          ],
          "choropleth": [
           {
            "colorbar": {
             "outlinewidth": 0,
             "ticks": ""
            },
            "type": "choropleth"
           }
          ],
          "contour": [
           {
            "colorbar": {
             "outlinewidth": 0,
             "ticks": ""
            },
            "colorscale": [
             [
              0,
              "#0d0887"
             ],
             [
              0.1111111111111111,
              "#46039f"
             ],
             [
              0.2222222222222222,
              "#7201a8"
             ],
             [
              0.3333333333333333,
              "#9c179e"
             ],
             [
              0.4444444444444444,
              "#bd3786"
             ],
             [
              0.5555555555555556,
              "#d8576b"
             ],
             [
              0.6666666666666666,
              "#ed7953"
             ],
             [
              0.7777777777777778,
              "#fb9f3a"
             ],
             [
              0.8888888888888888,
              "#fdca26"
             ],
             [
              1,
              "#f0f921"
             ]
            ],
            "type": "contour"
           }
          ],
          "contourcarpet": [
           {
            "colorbar": {
             "outlinewidth": 0,
             "ticks": ""
            },
            "type": "contourcarpet"
           }
          ],
          "heatmap": [
           {
            "colorbar": {
             "outlinewidth": 0,
             "ticks": ""
            },
            "colorscale": [
             [
              0,
              "#0d0887"
             ],
             [
              0.1111111111111111,
              "#46039f"
             ],
             [
              0.2222222222222222,
              "#7201a8"
             ],
             [
              0.3333333333333333,
              "#9c179e"
             ],
             [
              0.4444444444444444,
              "#bd3786"
             ],
             [
              0.5555555555555556,
              "#d8576b"
             ],
             [
              0.6666666666666666,
              "#ed7953"
             ],
             [
              0.7777777777777778,
              "#fb9f3a"
             ],
             [
              0.8888888888888888,
              "#fdca26"
             ],
             [
              1,
              "#f0f921"
             ]
            ],
            "type": "heatmap"
           }
          ],
          "heatmapgl": [
           {
            "colorbar": {
             "outlinewidth": 0,
             "ticks": ""
            },
            "colorscale": [
             [
              0,
              "#0d0887"
             ],
             [
              0.1111111111111111,
              "#46039f"
             ],
             [
              0.2222222222222222,
              "#7201a8"
             ],
             [
              0.3333333333333333,
              "#9c179e"
             ],
             [
              0.4444444444444444,
              "#bd3786"
             ],
             [
              0.5555555555555556,
              "#d8576b"
             ],
             [
              0.6666666666666666,
              "#ed7953"
             ],
             [
              0.7777777777777778,
              "#fb9f3a"
             ],
             [
              0.8888888888888888,
              "#fdca26"
             ],
             [
              1,
              "#f0f921"
             ]
            ],
            "type": "heatmapgl"
           }
          ],
          "histogram": [
           {
            "marker": {
             "colorbar": {
              "outlinewidth": 0,
              "ticks": ""
             }
            },
            "type": "histogram"
           }
          ],
          "histogram2d": [
           {
            "colorbar": {
             "outlinewidth": 0,
             "ticks": ""
            },
            "colorscale": [
             [
              0,
              "#0d0887"
             ],
             [
              0.1111111111111111,
              "#46039f"
             ],
             [
              0.2222222222222222,
              "#7201a8"
             ],
             [
              0.3333333333333333,
              "#9c179e"
             ],
             [
              0.4444444444444444,
              "#bd3786"
             ],
             [
              0.5555555555555556,
              "#d8576b"
             ],
             [
              0.6666666666666666,
              "#ed7953"
             ],
             [
              0.7777777777777778,
              "#fb9f3a"
             ],
             [
              0.8888888888888888,
              "#fdca26"
             ],
             [
              1,
              "#f0f921"
             ]
            ],
            "type": "histogram2d"
           }
          ],
          "histogram2dcontour": [
           {
            "colorbar": {
             "outlinewidth": 0,
             "ticks": ""
            },
            "colorscale": [
             [
              0,
              "#0d0887"
             ],
             [
              0.1111111111111111,
              "#46039f"
             ],
             [
              0.2222222222222222,
              "#7201a8"
             ],
             [
              0.3333333333333333,
              "#9c179e"
             ],
             [
              0.4444444444444444,
              "#bd3786"
             ],
             [
              0.5555555555555556,
              "#d8576b"
             ],
             [
              0.6666666666666666,
              "#ed7953"
             ],
             [
              0.7777777777777778,
              "#fb9f3a"
             ],
             [
              0.8888888888888888,
              "#fdca26"
             ],
             [
              1,
              "#f0f921"
             ]
            ],
            "type": "histogram2dcontour"
           }
          ],
          "mesh3d": [
           {
            "colorbar": {
             "outlinewidth": 0,
             "ticks": ""
            },
            "type": "mesh3d"
           }
          ],
          "parcoords": [
           {
            "line": {
             "colorbar": {
              "outlinewidth": 0,
              "ticks": ""
             }
            },
            "type": "parcoords"
           }
          ],
          "pie": [
           {
            "automargin": true,
            "type": "pie"
           }
          ],
          "scatter": [
           {
            "marker": {
             "colorbar": {
              "outlinewidth": 0,
              "ticks": ""
             }
            },
            "type": "scatter"
           }
          ],
          "scatter3d": [
           {
            "line": {
             "colorbar": {
              "outlinewidth": 0,
              "ticks": ""
             }
            },
            "marker": {
             "colorbar": {
              "outlinewidth": 0,
              "ticks": ""
             }
            },
            "type": "scatter3d"
           }
          ],
          "scattercarpet": [
           {
            "marker": {
             "colorbar": {
              "outlinewidth": 0,
              "ticks": ""
             }
            },
            "type": "scattercarpet"
           }
          ],
          "scattergeo": [
           {
            "marker": {
             "colorbar": {
              "outlinewidth": 0,
              "ticks": ""
             }
            },
            "type": "scattergeo"
           }
          ],
          "scattergl": [
           {
            "marker": {
             "colorbar": {
              "outlinewidth": 0,
              "ticks": ""
             }
            },
            "type": "scattergl"
           }
          ],
          "scattermapbox": [
           {
            "marker": {
             "colorbar": {
              "outlinewidth": 0,
              "ticks": ""
             }
            },
            "type": "scattermapbox"
           }
          ],
          "scatterpolar": [
           {
            "marker": {
             "colorbar": {
              "outlinewidth": 0,
              "ticks": ""
             }
            },
            "type": "scatterpolar"
           }
          ],
          "scatterpolargl": [
           {
            "marker": {
             "colorbar": {
              "outlinewidth": 0,
              "ticks": ""
             }
            },
            "type": "scatterpolargl"
           }
          ],
          "scatterternary": [
           {
            "marker": {
             "colorbar": {
              "outlinewidth": 0,
              "ticks": ""
             }
            },
            "type": "scatterternary"
           }
          ],
          "surface": [
           {
            "colorbar": {
             "outlinewidth": 0,
             "ticks": ""
            },
            "colorscale": [
             [
              0,
              "#0d0887"
             ],
             [
              0.1111111111111111,
              "#46039f"
             ],
             [
              0.2222222222222222,
              "#7201a8"
             ],
             [
              0.3333333333333333,
              "#9c179e"
             ],
             [
              0.4444444444444444,
              "#bd3786"
             ],
             [
              0.5555555555555556,
              "#d8576b"
             ],
             [
              0.6666666666666666,
              "#ed7953"
             ],
             [
              0.7777777777777778,
              "#fb9f3a"
             ],
             [
              0.8888888888888888,
              "#fdca26"
             ],
             [
              1,
              "#f0f921"
             ]
            ],
            "type": "surface"
           }
          ],
          "table": [
           {
            "cells": {
             "fill": {
              "color": "#EBF0F8"
             },
             "line": {
              "color": "white"
             }
            },
            "header": {
             "fill": {
              "color": "#C8D4E3"
             },
             "line": {
              "color": "white"
             }
            },
            "type": "table"
           }
          ]
         },
         "layout": {
          "annotationdefaults": {
           "arrowcolor": "#2a3f5f",
           "arrowhead": 0,
           "arrowwidth": 1
          },
          "coloraxis": {
           "colorbar": {
            "outlinewidth": 0,
            "ticks": ""
           }
          },
          "colorscale": {
           "diverging": [
            [
             0,
             "#8e0152"
            ],
            [
             0.1,
             "#c51b7d"
            ],
            [
             0.2,
             "#de77ae"
            ],
            [
             0.3,
             "#f1b6da"
            ],
            [
             0.4,
             "#fde0ef"
            ],
            [
             0.5,
             "#f7f7f7"
            ],
            [
             0.6,
             "#e6f5d0"
            ],
            [
             0.7,
             "#b8e186"
            ],
            [
             0.8,
             "#7fbc41"
            ],
            [
             0.9,
             "#4d9221"
            ],
            [
             1,
             "#276419"
            ]
           ],
           "sequential": [
            [
             0,
             "#0d0887"
            ],
            [
             0.1111111111111111,
             "#46039f"
            ],
            [
             0.2222222222222222,
             "#7201a8"
            ],
            [
             0.3333333333333333,
             "#9c179e"
            ],
            [
             0.4444444444444444,
             "#bd3786"
            ],
            [
             0.5555555555555556,
             "#d8576b"
            ],
            [
             0.6666666666666666,
             "#ed7953"
            ],
            [
             0.7777777777777778,
             "#fb9f3a"
            ],
            [
             0.8888888888888888,
             "#fdca26"
            ],
            [
             1,
             "#f0f921"
            ]
           ],
           "sequentialminus": [
            [
             0,
             "#0d0887"
            ],
            [
             0.1111111111111111,
             "#46039f"
            ],
            [
             0.2222222222222222,
             "#7201a8"
            ],
            [
             0.3333333333333333,
             "#9c179e"
            ],
            [
             0.4444444444444444,
             "#bd3786"
            ],
            [
             0.5555555555555556,
             "#d8576b"
            ],
            [
             0.6666666666666666,
             "#ed7953"
            ],
            [
             0.7777777777777778,
             "#fb9f3a"
            ],
            [
             0.8888888888888888,
             "#fdca26"
            ],
            [
             1,
             "#f0f921"
            ]
           ]
          },
          "colorway": [
           "#636efa",
           "#EF553B",
           "#00cc96",
           "#ab63fa",
           "#FFA15A",
           "#19d3f3",
           "#FF6692",
           "#B6E880",
           "#FF97FF",
           "#FECB52"
          ],
          "font": {
           "color": "#2a3f5f"
          },
          "geo": {
           "bgcolor": "white",
           "lakecolor": "white",
           "landcolor": "#E5ECF6",
           "showlakes": true,
           "showland": true,
           "subunitcolor": "white"
          },
          "hoverlabel": {
           "align": "left"
          },
          "hovermode": "closest",
          "mapbox": {
           "style": "light"
          },
          "paper_bgcolor": "white",
          "plot_bgcolor": "#E5ECF6",
          "polar": {
           "angularaxis": {
            "gridcolor": "white",
            "linecolor": "white",
            "ticks": ""
           },
           "bgcolor": "#E5ECF6",
           "radialaxis": {
            "gridcolor": "white",
            "linecolor": "white",
            "ticks": ""
           }
          },
          "scene": {
           "xaxis": {
            "backgroundcolor": "#E5ECF6",
            "gridcolor": "white",
            "gridwidth": 2,
            "linecolor": "white",
            "showbackground": true,
            "ticks": "",
            "zerolinecolor": "white"
           },
           "yaxis": {
            "backgroundcolor": "#E5ECF6",
            "gridcolor": "white",
            "gridwidth": 2,
            "linecolor": "white",
            "showbackground": true,
            "ticks": "",
            "zerolinecolor": "white"
           },
           "zaxis": {
            "backgroundcolor": "#E5ECF6",
            "gridcolor": "white",
            "gridwidth": 2,
            "linecolor": "white",
            "showbackground": true,
            "ticks": "",
            "zerolinecolor": "white"
           }
          },
          "shapedefaults": {
           "line": {
            "color": "#2a3f5f"
           }
          },
          "ternary": {
           "aaxis": {
            "gridcolor": "white",
            "linecolor": "white",
            "ticks": ""
           },
           "baxis": {
            "gridcolor": "white",
            "linecolor": "white",
            "ticks": ""
           },
           "bgcolor": "#E5ECF6",
           "caxis": {
            "gridcolor": "white",
            "linecolor": "white",
            "ticks": ""
           }
          },
          "title": {
           "x": 0.05
          },
          "xaxis": {
           "automargin": true,
           "gridcolor": "white",
           "linecolor": "white",
           "ticks": "",
           "title": {
            "standoff": 15
           },
           "zerolinecolor": "white",
           "zerolinewidth": 2
          },
          "yaxis": {
           "automargin": true,
           "gridcolor": "white",
           "linecolor": "white",
           "ticks": "",
           "title": {
            "standoff": 15
           },
           "zerolinecolor": "white",
           "zerolinewidth": 2
          }
         }
        },
        "title": {
         "font": {
          "color": "#4D5663"
         }
        },
        "xaxis": {
         "gridcolor": "#E1E5ED",
         "showgrid": true,
         "tickfont": {
          "color": "#4D5663"
         },
         "title": {
          "font": {
           "color": "#4D5663"
          },
          "text": ""
         },
         "zerolinecolor": "#E1E5ED"
        },
        "yaxis": {
         "gridcolor": "#E1E5ED",
         "showgrid": true,
         "tickfont": {
          "color": "#4D5663"
         },
         "title": {
          "font": {
           "color": "#4D5663"
          },
          "text": ""
         },
         "zerolinecolor": "#E1E5ED"
        }
       }
      },
      "text/html": [
       "<div>\n",
       "        \n",
       "        \n",
       "            <div id=\"9b4d56e5-1784-4061-9839-827dd2cf3208\" class=\"plotly-graph-div\" style=\"height:525px; width:100%;\"></div>\n",
       "            <script type=\"text/javascript\">\n",
       "                require([\"plotly\"], function(Plotly) {\n",
       "                    window.PLOTLYENV=window.PLOTLYENV || {};\n",
       "                    window.PLOTLYENV.BASE_URL='https://plot.ly';\n",
       "                    \n",
       "                if (document.getElementById(\"9b4d56e5-1784-4061-9839-827dd2cf3208\")) {\n",
       "                    Plotly.newPlot(\n",
       "                        '9b4d56e5-1784-4061-9839-827dd2cf3208',\n",
       "                        [{\"line\": {\"color\": \"rgba(255, 153, 51, 1.0)\", \"dash\": \"solid\", \"shape\": \"linear\", \"width\": 1.3}, \"mode\": \"lines\", \"name\": \"A\", \"text\": \"\", \"type\": \"scatter\", \"x\": [0, 1, 2, 3, 4, 5, 6, 7, 8, 9, 10, 11, 12, 13, 14, 15, 16, 17, 18, 19, 20, 21, 22, 23, 24, 25, 26, 27, 28, 29, 30, 31, 32, 33, 34, 35, 36, 37, 38, 39, 40, 41, 42, 43, 44, 45, 46, 47, 48, 49, 50, 51, 52, 53, 54, 55, 56, 57, 58, 59, 60, 61, 62, 63, 64, 65, 66, 67, 68, 69, 70, 71, 72, 73, 74, 75, 76, 77, 78, 79, 80, 81, 82, 83, 84, 85, 86, 87, 88, 89, 90, 91, 92, 93, 94, 95, 96, 97, 98, 99], \"y\": [1.9072310072255976, 0.45664251731057026, 1.8735593319249753, -1.2764623848263121, 1.3628530085372335, -0.4325085498941139, -2.130565106550025, -0.3478882665499311, -1.8065591069816318, 1.2802855972530267, 0.9099690101147678, -0.7254302350257974, -1.357689466572614, -0.2924728207932572, -0.6520631482874802, 0.004148547838381575, 0.6844015451212803, 0.4768351538690697, 0.6533129371097708, -0.8033735902053046, 0.10436594645935798, 0.5988000624309174, -0.6343639773656216, -0.13527773819219185, -0.20256767414639978, -0.015873236886170233, 1.0333180007396285, 0.6233280465126437, 1.8054087268203456, -0.3483139337287294, -1.6450789071911471, -0.07367633128762816, 0.9661664795196275, -3.554540119417503, -0.3517884347890016, -0.011080518665749637, 0.621422551146316, -1.2531579594339688, -0.10051082015301586, -0.24054607341946016, -0.3839538033661071, -1.0575974259826995, -1.752757339947482, 0.2774973963127115, -1.4494616998409102, 0.16015295976718663, -1.5104556329789018, -0.8063273303499235, -0.3947630414938095, 0.43441231346843795, 1.226504273411426, 0.2024939514122735, -0.00835533148028108, -0.36256325006618495, 0.5359156853817274, -1.0969121025292958, 0.43187469434509806, 0.8496889764272824, -1.2082731388454349, -1.7089121213718867, -0.5170724026485997, -0.03994284400890909, -0.25932188432990816, 0.07953898183032124, 1.0458832881768172, -1.9579149340336046, 0.5453127632430007, 1.854844673262272, -2.5673923034531083, -0.09091067989192657, -0.3884470822677006, -1.8469698500964709, -1.5158324196916066, -0.38138223397344256, -0.05805129919084255, 1.087493238981735, 0.7534415222757022, -0.6284540050680987, -0.38751599288043437, -1.2084618045487636, 0.0514634408368774, -1.082918557354612, -0.4992107264311093, -1.9452028837154631, 0.7273056387902339, -0.8955610849268126, -0.8234617655936936, 0.532065163647017, -1.1028862381850142, -1.7582423251578894, -1.3791246147712828, 0.10042152710117103, -0.5716713526590748, -0.9735284618191417, -0.058716214204821274, 0.5119956539665943, 0.11718988426468993, 0.006329341436323806, -0.620841952508306, 0.8187717540053973]}, {\"line\": {\"color\": \"rgba(55, 128, 191, 1.0)\", \"dash\": \"solid\", \"shape\": \"linear\", \"width\": 1.3}, \"mode\": \"lines\", \"name\": \"B\", \"text\": \"\", \"type\": \"scatter\", \"x\": [0, 1, 2, 3, 4, 5, 6, 7, 8, 9, 10, 11, 12, 13, 14, 15, 16, 17, 18, 19, 20, 21, 22, 23, 24, 25, 26, 27, 28, 29, 30, 31, 32, 33, 34, 35, 36, 37, 38, 39, 40, 41, 42, 43, 44, 45, 46, 47, 48, 49, 50, 51, 52, 53, 54, 55, 56, 57, 58, 59, 60, 61, 62, 63, 64, 65, 66, 67, 68, 69, 70, 71, 72, 73, 74, 75, 76, 77, 78, 79, 80, 81, 82, 83, 84, 85, 86, 87, 88, 89, 90, 91, 92, 93, 94, 95, 96, 97, 98, 99], \"y\": [0.5397341984256421, 1.4273648820401585, -0.2699470460701567, -0.009205707259470066, 0.38245509704051034, -0.6121410983025236, 1.471122536385358, 0.008852038627531702, -1.0322725314491903, 0.8203466329622852, 0.40274543333508517, 1.1710113832309024, -0.8490119147891786, 0.37012452704623977, 0.6727839097825701, -0.7146490926729023, -1.1710925815152915, 0.829667151217231, 1.6254325510413408, -0.03523386729780477, 0.8344690832208976, -0.013325006634558746, 0.731317913467702, -0.34730864357214936, 0.43023502387456686, 1.4329446581756315, -0.7491845032709245, 0.3510417309197764, 0.14083899715516177, -1.1861006093411341, 0.06372821563374959, -0.5482268710062057, 0.5358156468037663, 1.860518121810859, 1.0586200684408351, -0.0639731090133942, -0.08212677769362468, -1.3644617085653952, 2.306486236434318, 0.2299424870881697, 0.277553325627394, -0.7310389683951801, 0.7855790026429404, 1.991062673583806, 0.42083892064389616, 0.3312184872102766, -0.948280317204048, -0.9568068650540437, 0.06219846171557773, -0.6894903418517699, 0.9426582104357005, -0.6549530029210485, -0.27693993710331516, 0.5794679612177993, -0.17445332930955162, 1.973689765686015, -1.1221081740462968, -0.5689439814189605, -0.812476104079502, 2.106994461930286, 0.32736395155534453, 0.1312433407250468, -0.18047861897329853, -0.772626615251416, 0.3228290458457046, -0.3876374046636482, 0.1833422829766309, 1.9087468843804094, -0.15516628138100658, -1.4163623544697346, 0.6147553608766299, 0.6285689877845728, 0.46983514730252834, -1.891043424119729, -0.41109171089752206, -0.19882089607141482, 0.26050507326347166, -0.021940889213982018, 0.35818838870948727, 0.8607668916844468, -0.76838927683406, -0.627976710508572, -0.6366917226484422, 0.04068231456785195, 1.0800854230491712, -0.5362280813309173, 0.9978930275747946, -1.7791250497361506, -0.677962460840107, 0.7572816499590634, -0.287425248846891, -0.47888022308913814, -1.1274959646162466, 0.2324095143049378, 0.8683229396351135, 1.829117056821466, -1.816751591989605, -0.5924861572089956, 0.8017402458379345, -1.4002762640497939]}, {\"line\": {\"color\": \"rgba(50, 171, 96, 1.0)\", \"dash\": \"solid\", \"shape\": \"linear\", \"width\": 1.3}, \"mode\": \"lines\", \"name\": \"C\", \"text\": \"\", \"type\": \"scatter\", \"x\": [0, 1, 2, 3, 4, 5, 6, 7, 8, 9, 10, 11, 12, 13, 14, 15, 16, 17, 18, 19, 20, 21, 22, 23, 24, 25, 26, 27, 28, 29, 30, 31, 32, 33, 34, 35, 36, 37, 38, 39, 40, 41, 42, 43, 44, 45, 46, 47, 48, 49, 50, 51, 52, 53, 54, 55, 56, 57, 58, 59, 60, 61, 62, 63, 64, 65, 66, 67, 68, 69, 70, 71, 72, 73, 74, 75, 76, 77, 78, 79, 80, 81, 82, 83, 84, 85, 86, 87, 88, 89, 90, 91, 92, 93, 94, 95, 96, 97, 98, 99], \"y\": [0.1290518449288295, -0.8942693898422739, -0.0603885969808389, 0.8888571827253696, 0.3303216544253686, -0.6962016615371871, 0.6847180896334788, 1.634685536133902, -0.7768311097265821, -1.0497817281496105, 0.04260478899227552, 0.2838691156189989, -0.2912038460934214, 0.81625304472437, -1.3331321265578724, -0.911191847865561, -0.19687587859455705, -1.2485335063985736, 1.6254466265754193, -0.13264571807983716, 0.029233385616819835, -0.3835662646984012, -0.5998151436263172, 0.06629171046788511, -0.5334147456940839, -1.4752559631396605, -2.043165615565392, -0.9073109239546666, -0.5635336272430629, -0.008789992072936102, -1.7101997598000038, 1.918910794788815, 0.12651018891030594, -2.6736508129888765, 0.04090428461982828, -0.6267744176315131, 1.3335525230802128, -0.4120113575547163, -0.5594431836696315, -0.22065240576609835, 0.12305168424365334, -0.22595737428925225, 0.5349659874982043, 0.04224545942985787, 0.08866425256121034, 0.45401509544651464, -1.7797491351659889, 0.19668438010122313, -0.004817687438065632, 1.3282039365181113, 0.7042870811841475, 0.32056053960947095, -0.26560675795858235, -0.3716990673752184, -0.3452507209114012, 1.44433585382595, -0.25495549926528543, -0.24335827103759927, -0.5360389588075302, 0.8772550092169797, 0.36905944121709056, 0.687483714658491, -0.8763895837530766, 2.151432620163798, 0.9758341259438752, -0.4232591087195389, -0.7263409692947592, -1.4283884300059841, 0.3749006863824324, 1.2615256423879257, -0.47739720739320624, 0.007655163420542726, -0.7326569236558824, -0.23816640030265812, 0.5891064824477343, 0.6667209587695969, -2.2238868518942123, 0.7101794040876726, -1.1067475414415793, -0.43368631367219096, 1.1127113699512454, -3.5180754076422085, 1.6894351549143032, 0.7375479091898545, 2.273084648207982, 0.2093410158696672, 0.1275858696546415, 0.5877413023474375, -0.7730905034289465, 1.6960758468267494, -0.4795135980211943, -0.4670536994748242, -1.7923554266762372, -1.2489568643422548, 0.4584963812339756, 0.7321164288932169, 0.5720135489933249, -0.8741127283123019, 0.5753286511533514, 0.7941319134540555]}, {\"line\": {\"color\": \"rgba(128, 0, 128, 1.0)\", \"dash\": \"solid\", \"shape\": \"linear\", \"width\": 1.3}, \"mode\": \"lines\", \"name\": \"D\", \"text\": \"\", \"type\": \"scatter\", \"x\": [0, 1, 2, 3, 4, 5, 6, 7, 8, 9, 10, 11, 12, 13, 14, 15, 16, 17, 18, 19, 20, 21, 22, 23, 24, 25, 26, 27, 28, 29, 30, 31, 32, 33, 34, 35, 36, 37, 38, 39, 40, 41, 42, 43, 44, 45, 46, 47, 48, 49, 50, 51, 52, 53, 54, 55, 56, 57, 58, 59, 60, 61, 62, 63, 64, 65, 66, 67, 68, 69, 70, 71, 72, 73, 74, 75, 76, 77, 78, 79, 80, 81, 82, 83, 84, 85, 86, 87, 88, 89, 90, 91, 92, 93, 94, 95, 96, 97, 98, 99], \"y\": [-1.98391637917484, 0.7709525668191602, 1.035419861330941, 1.4417704578205035, -0.08896422052327554, 0.17092025951416737, -2.1080136681225032, -1.5250922351857676, -0.026762787820439168, 1.0998460693649141, 0.23091058917948548, 0.6325655245214455, 1.5835804818769312, -0.11428329863210708, -2.2778561659483683, 0.891607490588241, 0.31025493453159747, -0.8377068774275928, -0.807822956343638, 0.8518053651312106, 0.21457144606777215, 1.0315235223368702, -1.5243672016317151, 1.6683287308670112, -2.7931280269506984, 0.6940655689111038, 1.9623415527581394, -0.7624118235995387, -0.20056846446995488, -0.6501963503967874, 0.9884059568672299, -1.633055927710676, -0.2494597122289142, 0.8714462386930537, -1.0646442724071206, 0.149190137888478, 0.10274451793225345, 0.03370701950596059, 0.42813908436603065, -0.48177266293926635, -0.8879242106159551, 0.23221415955640232, 0.6842347650504285, -0.10955251785708613, 0.4867956662898185, -0.7054283503401905, 0.06474989591599337, -0.7876540054494298, 0.5343136394302063, 0.042684352308633405, -0.16673198141396978, 1.7112143089213487, -0.38324163790884314, 1.2098094860548758, 1.8915333419114813, -0.661764747587267, 0.25871649531212054, -0.4705028898091924, 0.9897176320289679, -0.15343691337338916, 0.42192977920907715, -0.12430850661724739, 0.5981619565209743, 0.482735136064605, -1.1030235985469987, 1.242240587844812, -0.6021944852896283, -1.054917278224973, 0.15523086441313563, -1.6450536445743458, -0.5380979389961633, -0.17748978975832785, -0.6296565012042219, 0.3373686044484245, -1.1803469192277745, -0.967283447322248, -0.5570452871077222, -1.5746819791076703, 0.7529814075319013, -0.9005719235209542, -0.5444797659642279, -1.2654592599808787, 0.01627521893794739, 0.7535658105375982, -0.20653782340574864, -0.37983754807719283, -0.6997601308318075, -0.325757900081184, 0.4129298817199609, 0.46756150246359696, -1.1029938903553604, -0.3530223408861881, 1.0456733358176729, -0.4518373908910548, -0.9629326506667446, 0.5473940570622489, -0.027340882510283653, -1.3424921764772848, 0.07934729391308067, -0.41255363718070104]}],\n",
       "                        {\"legend\": {\"bgcolor\": \"#F5F6F9\", \"font\": {\"color\": \"#4D5663\"}}, \"paper_bgcolor\": \"#F5F6F9\", \"plot_bgcolor\": \"#F5F6F9\", \"template\": {\"data\": {\"bar\": [{\"error_x\": {\"color\": \"#2a3f5f\"}, \"error_y\": {\"color\": \"#2a3f5f\"}, \"marker\": {\"line\": {\"color\": \"#E5ECF6\", \"width\": 0.5}}, \"type\": \"bar\"}], \"barpolar\": [{\"marker\": {\"line\": {\"color\": \"#E5ECF6\", \"width\": 0.5}}, \"type\": \"barpolar\"}], \"carpet\": [{\"aaxis\": {\"endlinecolor\": \"#2a3f5f\", \"gridcolor\": \"white\", \"linecolor\": \"white\", \"minorgridcolor\": \"white\", \"startlinecolor\": \"#2a3f5f\"}, \"baxis\": {\"endlinecolor\": \"#2a3f5f\", \"gridcolor\": \"white\", \"linecolor\": \"white\", \"minorgridcolor\": \"white\", \"startlinecolor\": \"#2a3f5f\"}, \"type\": \"carpet\"}], \"choropleth\": [{\"colorbar\": {\"outlinewidth\": 0, \"ticks\": \"\"}, \"type\": \"choropleth\"}], \"contour\": [{\"colorbar\": {\"outlinewidth\": 0, \"ticks\": \"\"}, \"colorscale\": [[0.0, \"#0d0887\"], [0.1111111111111111, \"#46039f\"], [0.2222222222222222, \"#7201a8\"], [0.3333333333333333, \"#9c179e\"], [0.4444444444444444, \"#bd3786\"], [0.5555555555555556, \"#d8576b\"], [0.6666666666666666, \"#ed7953\"], [0.7777777777777778, \"#fb9f3a\"], [0.8888888888888888, \"#fdca26\"], [1.0, \"#f0f921\"]], \"type\": \"contour\"}], \"contourcarpet\": [{\"colorbar\": {\"outlinewidth\": 0, \"ticks\": \"\"}, \"type\": \"contourcarpet\"}], \"heatmap\": [{\"colorbar\": {\"outlinewidth\": 0, \"ticks\": \"\"}, \"colorscale\": [[0.0, \"#0d0887\"], [0.1111111111111111, \"#46039f\"], [0.2222222222222222, \"#7201a8\"], [0.3333333333333333, \"#9c179e\"], [0.4444444444444444, \"#bd3786\"], [0.5555555555555556, \"#d8576b\"], [0.6666666666666666, \"#ed7953\"], [0.7777777777777778, \"#fb9f3a\"], [0.8888888888888888, \"#fdca26\"], [1.0, \"#f0f921\"]], \"type\": \"heatmap\"}], \"heatmapgl\": [{\"colorbar\": {\"outlinewidth\": 0, \"ticks\": \"\"}, \"colorscale\": [[0.0, \"#0d0887\"], [0.1111111111111111, \"#46039f\"], [0.2222222222222222, \"#7201a8\"], [0.3333333333333333, \"#9c179e\"], [0.4444444444444444, \"#bd3786\"], [0.5555555555555556, \"#d8576b\"], [0.6666666666666666, \"#ed7953\"], [0.7777777777777778, \"#fb9f3a\"], [0.8888888888888888, \"#fdca26\"], [1.0, \"#f0f921\"]], \"type\": \"heatmapgl\"}], \"histogram\": [{\"marker\": {\"colorbar\": {\"outlinewidth\": 0, \"ticks\": \"\"}}, \"type\": \"histogram\"}], \"histogram2d\": [{\"colorbar\": {\"outlinewidth\": 0, \"ticks\": \"\"}, \"colorscale\": [[0.0, \"#0d0887\"], [0.1111111111111111, \"#46039f\"], [0.2222222222222222, \"#7201a8\"], [0.3333333333333333, \"#9c179e\"], [0.4444444444444444, \"#bd3786\"], [0.5555555555555556, \"#d8576b\"], [0.6666666666666666, \"#ed7953\"], [0.7777777777777778, \"#fb9f3a\"], [0.8888888888888888, \"#fdca26\"], [1.0, \"#f0f921\"]], \"type\": \"histogram2d\"}], \"histogram2dcontour\": [{\"colorbar\": {\"outlinewidth\": 0, \"ticks\": \"\"}, \"colorscale\": [[0.0, \"#0d0887\"], [0.1111111111111111, \"#46039f\"], [0.2222222222222222, \"#7201a8\"], [0.3333333333333333, \"#9c179e\"], [0.4444444444444444, \"#bd3786\"], [0.5555555555555556, \"#d8576b\"], [0.6666666666666666, \"#ed7953\"], [0.7777777777777778, \"#fb9f3a\"], [0.8888888888888888, \"#fdca26\"], [1.0, \"#f0f921\"]], \"type\": \"histogram2dcontour\"}], \"mesh3d\": [{\"colorbar\": {\"outlinewidth\": 0, \"ticks\": \"\"}, \"type\": \"mesh3d\"}], \"parcoords\": [{\"line\": {\"colorbar\": {\"outlinewidth\": 0, \"ticks\": \"\"}}, \"type\": \"parcoords\"}], \"pie\": [{\"automargin\": true, \"type\": \"pie\"}], \"scatter\": [{\"marker\": {\"colorbar\": {\"outlinewidth\": 0, \"ticks\": \"\"}}, \"type\": \"scatter\"}], \"scatter3d\": [{\"line\": {\"colorbar\": {\"outlinewidth\": 0, \"ticks\": \"\"}}, \"marker\": {\"colorbar\": {\"outlinewidth\": 0, \"ticks\": \"\"}}, \"type\": \"scatter3d\"}], \"scattercarpet\": [{\"marker\": {\"colorbar\": {\"outlinewidth\": 0, \"ticks\": \"\"}}, \"type\": \"scattercarpet\"}], \"scattergeo\": [{\"marker\": {\"colorbar\": {\"outlinewidth\": 0, \"ticks\": \"\"}}, \"type\": \"scattergeo\"}], \"scattergl\": [{\"marker\": {\"colorbar\": {\"outlinewidth\": 0, \"ticks\": \"\"}}, \"type\": \"scattergl\"}], \"scattermapbox\": [{\"marker\": {\"colorbar\": {\"outlinewidth\": 0, \"ticks\": \"\"}}, \"type\": \"scattermapbox\"}], \"scatterpolar\": [{\"marker\": {\"colorbar\": {\"outlinewidth\": 0, \"ticks\": \"\"}}, \"type\": \"scatterpolar\"}], \"scatterpolargl\": [{\"marker\": {\"colorbar\": {\"outlinewidth\": 0, \"ticks\": \"\"}}, \"type\": \"scatterpolargl\"}], \"scatterternary\": [{\"marker\": {\"colorbar\": {\"outlinewidth\": 0, \"ticks\": \"\"}}, \"type\": \"scatterternary\"}], \"surface\": [{\"colorbar\": {\"outlinewidth\": 0, \"ticks\": \"\"}, \"colorscale\": [[0.0, \"#0d0887\"], [0.1111111111111111, \"#46039f\"], [0.2222222222222222, \"#7201a8\"], [0.3333333333333333, \"#9c179e\"], [0.4444444444444444, \"#bd3786\"], [0.5555555555555556, \"#d8576b\"], [0.6666666666666666, \"#ed7953\"], [0.7777777777777778, \"#fb9f3a\"], [0.8888888888888888, \"#fdca26\"], [1.0, \"#f0f921\"]], \"type\": \"surface\"}], \"table\": [{\"cells\": {\"fill\": {\"color\": \"#EBF0F8\"}, \"line\": {\"color\": \"white\"}}, \"header\": {\"fill\": {\"color\": \"#C8D4E3\"}, \"line\": {\"color\": \"white\"}}, \"type\": \"table\"}]}, \"layout\": {\"annotationdefaults\": {\"arrowcolor\": \"#2a3f5f\", \"arrowhead\": 0, \"arrowwidth\": 1}, \"coloraxis\": {\"colorbar\": {\"outlinewidth\": 0, \"ticks\": \"\"}}, \"colorscale\": {\"diverging\": [[0, \"#8e0152\"], [0.1, \"#c51b7d\"], [0.2, \"#de77ae\"], [0.3, \"#f1b6da\"], [0.4, \"#fde0ef\"], [0.5, \"#f7f7f7\"], [0.6, \"#e6f5d0\"], [0.7, \"#b8e186\"], [0.8, \"#7fbc41\"], [0.9, \"#4d9221\"], [1, \"#276419\"]], \"sequential\": [[0.0, \"#0d0887\"], [0.1111111111111111, \"#46039f\"], [0.2222222222222222, \"#7201a8\"], [0.3333333333333333, \"#9c179e\"], [0.4444444444444444, \"#bd3786\"], [0.5555555555555556, \"#d8576b\"], [0.6666666666666666, \"#ed7953\"], [0.7777777777777778, \"#fb9f3a\"], [0.8888888888888888, \"#fdca26\"], [1.0, \"#f0f921\"]], \"sequentialminus\": [[0.0, \"#0d0887\"], [0.1111111111111111, \"#46039f\"], [0.2222222222222222, \"#7201a8\"], [0.3333333333333333, \"#9c179e\"], [0.4444444444444444, \"#bd3786\"], [0.5555555555555556, \"#d8576b\"], [0.6666666666666666, \"#ed7953\"], [0.7777777777777778, \"#fb9f3a\"], [0.8888888888888888, \"#fdca26\"], [1.0, \"#f0f921\"]]}, \"colorway\": [\"#636efa\", \"#EF553B\", \"#00cc96\", \"#ab63fa\", \"#FFA15A\", \"#19d3f3\", \"#FF6692\", \"#B6E880\", \"#FF97FF\", \"#FECB52\"], \"font\": {\"color\": \"#2a3f5f\"}, \"geo\": {\"bgcolor\": \"white\", \"lakecolor\": \"white\", \"landcolor\": \"#E5ECF6\", \"showlakes\": true, \"showland\": true, \"subunitcolor\": \"white\"}, \"hoverlabel\": {\"align\": \"left\"}, \"hovermode\": \"closest\", \"mapbox\": {\"style\": \"light\"}, \"paper_bgcolor\": \"white\", \"plot_bgcolor\": \"#E5ECF6\", \"polar\": {\"angularaxis\": {\"gridcolor\": \"white\", \"linecolor\": \"white\", \"ticks\": \"\"}, \"bgcolor\": \"#E5ECF6\", \"radialaxis\": {\"gridcolor\": \"white\", \"linecolor\": \"white\", \"ticks\": \"\"}}, \"scene\": {\"xaxis\": {\"backgroundcolor\": \"#E5ECF6\", \"gridcolor\": \"white\", \"gridwidth\": 2, \"linecolor\": \"white\", \"showbackground\": true, \"ticks\": \"\", \"zerolinecolor\": \"white\"}, \"yaxis\": {\"backgroundcolor\": \"#E5ECF6\", \"gridcolor\": \"white\", \"gridwidth\": 2, \"linecolor\": \"white\", \"showbackground\": true, \"ticks\": \"\", \"zerolinecolor\": \"white\"}, \"zaxis\": {\"backgroundcolor\": \"#E5ECF6\", \"gridcolor\": \"white\", \"gridwidth\": 2, \"linecolor\": \"white\", \"showbackground\": true, \"ticks\": \"\", \"zerolinecolor\": \"white\"}}, \"shapedefaults\": {\"line\": {\"color\": \"#2a3f5f\"}}, \"ternary\": {\"aaxis\": {\"gridcolor\": \"white\", \"linecolor\": \"white\", \"ticks\": \"\"}, \"baxis\": {\"gridcolor\": \"white\", \"linecolor\": \"white\", \"ticks\": \"\"}, \"bgcolor\": \"#E5ECF6\", \"caxis\": {\"gridcolor\": \"white\", \"linecolor\": \"white\", \"ticks\": \"\"}}, \"title\": {\"x\": 0.05}, \"xaxis\": {\"automargin\": true, \"gridcolor\": \"white\", \"linecolor\": \"white\", \"ticks\": \"\", \"title\": {\"standoff\": 15}, \"zerolinecolor\": \"white\", \"zerolinewidth\": 2}, \"yaxis\": {\"automargin\": true, \"gridcolor\": \"white\", \"linecolor\": \"white\", \"ticks\": \"\", \"title\": {\"standoff\": 15}, \"zerolinecolor\": \"white\", \"zerolinewidth\": 2}}}, \"title\": {\"font\": {\"color\": \"#4D5663\"}}, \"xaxis\": {\"gridcolor\": \"#E1E5ED\", \"showgrid\": true, \"tickfont\": {\"color\": \"#4D5663\"}, \"title\": {\"font\": {\"color\": \"#4D5663\"}, \"text\": \"\"}, \"zerolinecolor\": \"#E1E5ED\"}, \"yaxis\": {\"gridcolor\": \"#E1E5ED\", \"showgrid\": true, \"tickfont\": {\"color\": \"#4D5663\"}, \"title\": {\"font\": {\"color\": \"#4D5663\"}, \"text\": \"\"}, \"zerolinecolor\": \"#E1E5ED\"}},\n",
       "                        {\"showLink\": true, \"linkText\": \"Export to plot.ly\", \"plotlyServerURL\": \"https://plot.ly\", \"responsive\": true}\n",
       "                    ).then(function(){\n",
       "                            \n",
       "var gd = document.getElementById('9b4d56e5-1784-4061-9839-827dd2cf3208');\n",
       "var x = new MutationObserver(function (mutations, observer) {{\n",
       "        var display = window.getComputedStyle(gd).display;\n",
       "        if (!display || display === 'none') {{\n",
       "            console.log([gd, 'removed!']);\n",
       "            Plotly.purge(gd);\n",
       "            observer.disconnect();\n",
       "        }}\n",
       "}});\n",
       "\n",
       "// Listen for the removal of the full notebook cells\n",
       "var notebookContainer = gd.closest('#notebook-container');\n",
       "if (notebookContainer) {{\n",
       "    x.observe(notebookContainer, {childList: true});\n",
       "}}\n",
       "\n",
       "// Listen for the clearing of the current output cell\n",
       "var outputEl = gd.closest('.output');\n",
       "if (outputEl) {{\n",
       "    x.observe(outputEl, {childList: true});\n",
       "}}\n",
       "\n",
       "                        })\n",
       "                };\n",
       "                });\n",
       "            </script>\n",
       "        </div>"
      ]
     },
     "metadata": {},
     "output_type": "display_data"
    }
   ],
   "source": [
    "# interactive mode of plot\n",
    "df.iplot()"
   ]
  },
  {
   "cell_type": "code",
   "execution_count": 23,
   "metadata": {},
   "outputs": [
    {
     "data": {
      "application/vnd.plotly.v1+json": {
       "config": {
        "linkText": "Export to plot.ly",
        "plotlyServerURL": "https://plot.ly",
        "showLink": true
       },
       "data": [
        {
         "line": {
          "color": "rgba(255, 153, 51, 1.0)",
          "dash": "solid",
          "shape": "linear",
          "width": 1.3
         },
         "mode": "lines",
         "name": "B",
         "text": "",
         "type": "scatter",
         "x": [
          1.9072310072255976,
          0.45664251731057026,
          1.8735593319249753,
          -1.2764623848263121,
          1.3628530085372335,
          -0.4325085498941139,
          -2.130565106550025,
          -0.3478882665499311,
          -1.8065591069816318,
          1.2802855972530267,
          0.9099690101147678,
          -0.7254302350257974,
          -1.357689466572614,
          -0.2924728207932572,
          -0.6520631482874802,
          0.004148547838381575,
          0.6844015451212803,
          0.4768351538690697,
          0.6533129371097708,
          -0.8033735902053046,
          0.10436594645935798,
          0.5988000624309174,
          -0.6343639773656216,
          -0.13527773819219185,
          -0.20256767414639978,
          -0.015873236886170233,
          1.0333180007396285,
          0.6233280465126437,
          1.8054087268203456,
          -0.3483139337287294,
          -1.6450789071911471,
          -0.07367633128762816,
          0.9661664795196275,
          -3.554540119417503,
          -0.3517884347890016,
          -0.011080518665749637,
          0.621422551146316,
          -1.2531579594339688,
          -0.10051082015301586,
          -0.24054607341946016,
          -0.3839538033661071,
          -1.0575974259826995,
          -1.752757339947482,
          0.2774973963127115,
          -1.4494616998409102,
          0.16015295976718663,
          -1.5104556329789018,
          -0.8063273303499235,
          -0.3947630414938095,
          0.43441231346843795,
          1.226504273411426,
          0.2024939514122735,
          -0.00835533148028108,
          -0.36256325006618495,
          0.5359156853817274,
          -1.0969121025292958,
          0.43187469434509806,
          0.8496889764272824,
          -1.2082731388454349,
          -1.7089121213718867,
          -0.5170724026485997,
          -0.03994284400890909,
          -0.25932188432990816,
          0.07953898183032124,
          1.0458832881768172,
          -1.9579149340336046,
          0.5453127632430007,
          1.854844673262272,
          -2.5673923034531083,
          -0.09091067989192657,
          -0.3884470822677006,
          -1.8469698500964709,
          -1.5158324196916066,
          -0.38138223397344256,
          -0.05805129919084255,
          1.087493238981735,
          0.7534415222757022,
          -0.6284540050680987,
          -0.38751599288043437,
          -1.2084618045487636,
          0.0514634408368774,
          -1.082918557354612,
          -0.4992107264311093,
          -1.9452028837154631,
          0.7273056387902339,
          -0.8955610849268126,
          -0.8234617655936936,
          0.532065163647017,
          -1.1028862381850142,
          -1.7582423251578894,
          -1.3791246147712828,
          0.10042152710117103,
          -0.5716713526590748,
          -0.9735284618191417,
          -0.058716214204821274,
          0.5119956539665943,
          0.11718988426468993,
          0.006329341436323806,
          -0.620841952508306,
          0.8187717540053973
         ],
         "y": [
          0.5397341984256421,
          1.4273648820401585,
          -0.2699470460701567,
          -0.009205707259470066,
          0.38245509704051034,
          -0.6121410983025236,
          1.471122536385358,
          0.008852038627531702,
          -1.0322725314491903,
          0.8203466329622852,
          0.40274543333508517,
          1.1710113832309024,
          -0.8490119147891786,
          0.37012452704623977,
          0.6727839097825701,
          -0.7146490926729023,
          -1.1710925815152915,
          0.829667151217231,
          1.6254325510413408,
          -0.03523386729780477,
          0.8344690832208976,
          -0.013325006634558746,
          0.731317913467702,
          -0.34730864357214936,
          0.43023502387456686,
          1.4329446581756315,
          -0.7491845032709245,
          0.3510417309197764,
          0.14083899715516177,
          -1.1861006093411341,
          0.06372821563374959,
          -0.5482268710062057,
          0.5358156468037663,
          1.860518121810859,
          1.0586200684408351,
          -0.0639731090133942,
          -0.08212677769362468,
          -1.3644617085653952,
          2.306486236434318,
          0.2299424870881697,
          0.277553325627394,
          -0.7310389683951801,
          0.7855790026429404,
          1.991062673583806,
          0.42083892064389616,
          0.3312184872102766,
          -0.948280317204048,
          -0.9568068650540437,
          0.06219846171557773,
          -0.6894903418517699,
          0.9426582104357005,
          -0.6549530029210485,
          -0.27693993710331516,
          0.5794679612177993,
          -0.17445332930955162,
          1.973689765686015,
          -1.1221081740462968,
          -0.5689439814189605,
          -0.812476104079502,
          2.106994461930286,
          0.32736395155534453,
          0.1312433407250468,
          -0.18047861897329853,
          -0.772626615251416,
          0.3228290458457046,
          -0.3876374046636482,
          0.1833422829766309,
          1.9087468843804094,
          -0.15516628138100658,
          -1.4163623544697346,
          0.6147553608766299,
          0.6285689877845728,
          0.46983514730252834,
          -1.891043424119729,
          -0.41109171089752206,
          -0.19882089607141482,
          0.26050507326347166,
          -0.021940889213982018,
          0.35818838870948727,
          0.8607668916844468,
          -0.76838927683406,
          -0.627976710508572,
          -0.6366917226484422,
          0.04068231456785195,
          1.0800854230491712,
          -0.5362280813309173,
          0.9978930275747946,
          -1.7791250497361506,
          -0.677962460840107,
          0.7572816499590634,
          -0.287425248846891,
          -0.47888022308913814,
          -1.1274959646162466,
          0.2324095143049378,
          0.8683229396351135,
          1.829117056821466,
          -1.816751591989605,
          -0.5924861572089956,
          0.8017402458379345,
          -1.4002762640497939
         ]
        }
       ],
       "layout": {
        "legend": {
         "bgcolor": "#F5F6F9",
         "font": {
          "color": "#4D5663"
         }
        },
        "paper_bgcolor": "#F5F6F9",
        "plot_bgcolor": "#F5F6F9",
        "template": {
         "data": {
          "bar": [
           {
            "error_x": {
             "color": "#2a3f5f"
            },
            "error_y": {
             "color": "#2a3f5f"
            },
            "marker": {
             "line": {
              "color": "#E5ECF6",
              "width": 0.5
             }
            },
            "type": "bar"
           }
          ],
          "barpolar": [
           {
            "marker": {
             "line": {
              "color": "#E5ECF6",
              "width": 0.5
             }
            },
            "type": "barpolar"
           }
          ],
          "carpet": [
           {
            "aaxis": {
             "endlinecolor": "#2a3f5f",
             "gridcolor": "white",
             "linecolor": "white",
             "minorgridcolor": "white",
             "startlinecolor": "#2a3f5f"
            },
            "baxis": {
             "endlinecolor": "#2a3f5f",
             "gridcolor": "white",
             "linecolor": "white",
             "minorgridcolor": "white",
             "startlinecolor": "#2a3f5f"
            },
            "type": "carpet"
           }
          ],
          "choropleth": [
           {
            "colorbar": {
             "outlinewidth": 0,
             "ticks": ""
            },
            "type": "choropleth"
           }
          ],
          "contour": [
           {
            "colorbar": {
             "outlinewidth": 0,
             "ticks": ""
            },
            "colorscale": [
             [
              0,
              "#0d0887"
             ],
             [
              0.1111111111111111,
              "#46039f"
             ],
             [
              0.2222222222222222,
              "#7201a8"
             ],
             [
              0.3333333333333333,
              "#9c179e"
             ],
             [
              0.4444444444444444,
              "#bd3786"
             ],
             [
              0.5555555555555556,
              "#d8576b"
             ],
             [
              0.6666666666666666,
              "#ed7953"
             ],
             [
              0.7777777777777778,
              "#fb9f3a"
             ],
             [
              0.8888888888888888,
              "#fdca26"
             ],
             [
              1,
              "#f0f921"
             ]
            ],
            "type": "contour"
           }
          ],
          "contourcarpet": [
           {
            "colorbar": {
             "outlinewidth": 0,
             "ticks": ""
            },
            "type": "contourcarpet"
           }
          ],
          "heatmap": [
           {
            "colorbar": {
             "outlinewidth": 0,
             "ticks": ""
            },
            "colorscale": [
             [
              0,
              "#0d0887"
             ],
             [
              0.1111111111111111,
              "#46039f"
             ],
             [
              0.2222222222222222,
              "#7201a8"
             ],
             [
              0.3333333333333333,
              "#9c179e"
             ],
             [
              0.4444444444444444,
              "#bd3786"
             ],
             [
              0.5555555555555556,
              "#d8576b"
             ],
             [
              0.6666666666666666,
              "#ed7953"
             ],
             [
              0.7777777777777778,
              "#fb9f3a"
             ],
             [
              0.8888888888888888,
              "#fdca26"
             ],
             [
              1,
              "#f0f921"
             ]
            ],
            "type": "heatmap"
           }
          ],
          "heatmapgl": [
           {
            "colorbar": {
             "outlinewidth": 0,
             "ticks": ""
            },
            "colorscale": [
             [
              0,
              "#0d0887"
             ],
             [
              0.1111111111111111,
              "#46039f"
             ],
             [
              0.2222222222222222,
              "#7201a8"
             ],
             [
              0.3333333333333333,
              "#9c179e"
             ],
             [
              0.4444444444444444,
              "#bd3786"
             ],
             [
              0.5555555555555556,
              "#d8576b"
             ],
             [
              0.6666666666666666,
              "#ed7953"
             ],
             [
              0.7777777777777778,
              "#fb9f3a"
             ],
             [
              0.8888888888888888,
              "#fdca26"
             ],
             [
              1,
              "#f0f921"
             ]
            ],
            "type": "heatmapgl"
           }
          ],
          "histogram": [
           {
            "marker": {
             "colorbar": {
              "outlinewidth": 0,
              "ticks": ""
             }
            },
            "type": "histogram"
           }
          ],
          "histogram2d": [
           {
            "colorbar": {
             "outlinewidth": 0,
             "ticks": ""
            },
            "colorscale": [
             [
              0,
              "#0d0887"
             ],
             [
              0.1111111111111111,
              "#46039f"
             ],
             [
              0.2222222222222222,
              "#7201a8"
             ],
             [
              0.3333333333333333,
              "#9c179e"
             ],
             [
              0.4444444444444444,
              "#bd3786"
             ],
             [
              0.5555555555555556,
              "#d8576b"
             ],
             [
              0.6666666666666666,
              "#ed7953"
             ],
             [
              0.7777777777777778,
              "#fb9f3a"
             ],
             [
              0.8888888888888888,
              "#fdca26"
             ],
             [
              1,
              "#f0f921"
             ]
            ],
            "type": "histogram2d"
           }
          ],
          "histogram2dcontour": [
           {
            "colorbar": {
             "outlinewidth": 0,
             "ticks": ""
            },
            "colorscale": [
             [
              0,
              "#0d0887"
             ],
             [
              0.1111111111111111,
              "#46039f"
             ],
             [
              0.2222222222222222,
              "#7201a8"
             ],
             [
              0.3333333333333333,
              "#9c179e"
             ],
             [
              0.4444444444444444,
              "#bd3786"
             ],
             [
              0.5555555555555556,
              "#d8576b"
             ],
             [
              0.6666666666666666,
              "#ed7953"
             ],
             [
              0.7777777777777778,
              "#fb9f3a"
             ],
             [
              0.8888888888888888,
              "#fdca26"
             ],
             [
              1,
              "#f0f921"
             ]
            ],
            "type": "histogram2dcontour"
           }
          ],
          "mesh3d": [
           {
            "colorbar": {
             "outlinewidth": 0,
             "ticks": ""
            },
            "type": "mesh3d"
           }
          ],
          "parcoords": [
           {
            "line": {
             "colorbar": {
              "outlinewidth": 0,
              "ticks": ""
             }
            },
            "type": "parcoords"
           }
          ],
          "pie": [
           {
            "automargin": true,
            "type": "pie"
           }
          ],
          "scatter": [
           {
            "marker": {
             "colorbar": {
              "outlinewidth": 0,
              "ticks": ""
             }
            },
            "type": "scatter"
           }
          ],
          "scatter3d": [
           {
            "line": {
             "colorbar": {
              "outlinewidth": 0,
              "ticks": ""
             }
            },
            "marker": {
             "colorbar": {
              "outlinewidth": 0,
              "ticks": ""
             }
            },
            "type": "scatter3d"
           }
          ],
          "scattercarpet": [
           {
            "marker": {
             "colorbar": {
              "outlinewidth": 0,
              "ticks": ""
             }
            },
            "type": "scattercarpet"
           }
          ],
          "scattergeo": [
           {
            "marker": {
             "colorbar": {
              "outlinewidth": 0,
              "ticks": ""
             }
            },
            "type": "scattergeo"
           }
          ],
          "scattergl": [
           {
            "marker": {
             "colorbar": {
              "outlinewidth": 0,
              "ticks": ""
             }
            },
            "type": "scattergl"
           }
          ],
          "scattermapbox": [
           {
            "marker": {
             "colorbar": {
              "outlinewidth": 0,
              "ticks": ""
             }
            },
            "type": "scattermapbox"
           }
          ],
          "scatterpolar": [
           {
            "marker": {
             "colorbar": {
              "outlinewidth": 0,
              "ticks": ""
             }
            },
            "type": "scatterpolar"
           }
          ],
          "scatterpolargl": [
           {
            "marker": {
             "colorbar": {
              "outlinewidth": 0,
              "ticks": ""
             }
            },
            "type": "scatterpolargl"
           }
          ],
          "scatterternary": [
           {
            "marker": {
             "colorbar": {
              "outlinewidth": 0,
              "ticks": ""
             }
            },
            "type": "scatterternary"
           }
          ],
          "surface": [
           {
            "colorbar": {
             "outlinewidth": 0,
             "ticks": ""
            },
            "colorscale": [
             [
              0,
              "#0d0887"
             ],
             [
              0.1111111111111111,
              "#46039f"
             ],
             [
              0.2222222222222222,
              "#7201a8"
             ],
             [
              0.3333333333333333,
              "#9c179e"
             ],
             [
              0.4444444444444444,
              "#bd3786"
             ],
             [
              0.5555555555555556,
              "#d8576b"
             ],
             [
              0.6666666666666666,
              "#ed7953"
             ],
             [
              0.7777777777777778,
              "#fb9f3a"
             ],
             [
              0.8888888888888888,
              "#fdca26"
             ],
             [
              1,
              "#f0f921"
             ]
            ],
            "type": "surface"
           }
          ],
          "table": [
           {
            "cells": {
             "fill": {
              "color": "#EBF0F8"
             },
             "line": {
              "color": "white"
             }
            },
            "header": {
             "fill": {
              "color": "#C8D4E3"
             },
             "line": {
              "color": "white"
             }
            },
            "type": "table"
           }
          ]
         },
         "layout": {
          "annotationdefaults": {
           "arrowcolor": "#2a3f5f",
           "arrowhead": 0,
           "arrowwidth": 1
          },
          "coloraxis": {
           "colorbar": {
            "outlinewidth": 0,
            "ticks": ""
           }
          },
          "colorscale": {
           "diverging": [
            [
             0,
             "#8e0152"
            ],
            [
             0.1,
             "#c51b7d"
            ],
            [
             0.2,
             "#de77ae"
            ],
            [
             0.3,
             "#f1b6da"
            ],
            [
             0.4,
             "#fde0ef"
            ],
            [
             0.5,
             "#f7f7f7"
            ],
            [
             0.6,
             "#e6f5d0"
            ],
            [
             0.7,
             "#b8e186"
            ],
            [
             0.8,
             "#7fbc41"
            ],
            [
             0.9,
             "#4d9221"
            ],
            [
             1,
             "#276419"
            ]
           ],
           "sequential": [
            [
             0,
             "#0d0887"
            ],
            [
             0.1111111111111111,
             "#46039f"
            ],
            [
             0.2222222222222222,
             "#7201a8"
            ],
            [
             0.3333333333333333,
             "#9c179e"
            ],
            [
             0.4444444444444444,
             "#bd3786"
            ],
            [
             0.5555555555555556,
             "#d8576b"
            ],
            [
             0.6666666666666666,
             "#ed7953"
            ],
            [
             0.7777777777777778,
             "#fb9f3a"
            ],
            [
             0.8888888888888888,
             "#fdca26"
            ],
            [
             1,
             "#f0f921"
            ]
           ],
           "sequentialminus": [
            [
             0,
             "#0d0887"
            ],
            [
             0.1111111111111111,
             "#46039f"
            ],
            [
             0.2222222222222222,
             "#7201a8"
            ],
            [
             0.3333333333333333,
             "#9c179e"
            ],
            [
             0.4444444444444444,
             "#bd3786"
            ],
            [
             0.5555555555555556,
             "#d8576b"
            ],
            [
             0.6666666666666666,
             "#ed7953"
            ],
            [
             0.7777777777777778,
             "#fb9f3a"
            ],
            [
             0.8888888888888888,
             "#fdca26"
            ],
            [
             1,
             "#f0f921"
            ]
           ]
          },
          "colorway": [
           "#636efa",
           "#EF553B",
           "#00cc96",
           "#ab63fa",
           "#FFA15A",
           "#19d3f3",
           "#FF6692",
           "#B6E880",
           "#FF97FF",
           "#FECB52"
          ],
          "font": {
           "color": "#2a3f5f"
          },
          "geo": {
           "bgcolor": "white",
           "lakecolor": "white",
           "landcolor": "#E5ECF6",
           "showlakes": true,
           "showland": true,
           "subunitcolor": "white"
          },
          "hoverlabel": {
           "align": "left"
          },
          "hovermode": "closest",
          "mapbox": {
           "style": "light"
          },
          "paper_bgcolor": "white",
          "plot_bgcolor": "#E5ECF6",
          "polar": {
           "angularaxis": {
            "gridcolor": "white",
            "linecolor": "white",
            "ticks": ""
           },
           "bgcolor": "#E5ECF6",
           "radialaxis": {
            "gridcolor": "white",
            "linecolor": "white",
            "ticks": ""
           }
          },
          "scene": {
           "xaxis": {
            "backgroundcolor": "#E5ECF6",
            "gridcolor": "white",
            "gridwidth": 2,
            "linecolor": "white",
            "showbackground": true,
            "ticks": "",
            "zerolinecolor": "white"
           },
           "yaxis": {
            "backgroundcolor": "#E5ECF6",
            "gridcolor": "white",
            "gridwidth": 2,
            "linecolor": "white",
            "showbackground": true,
            "ticks": "",
            "zerolinecolor": "white"
           },
           "zaxis": {
            "backgroundcolor": "#E5ECF6",
            "gridcolor": "white",
            "gridwidth": 2,
            "linecolor": "white",
            "showbackground": true,
            "ticks": "",
            "zerolinecolor": "white"
           }
          },
          "shapedefaults": {
           "line": {
            "color": "#2a3f5f"
           }
          },
          "ternary": {
           "aaxis": {
            "gridcolor": "white",
            "linecolor": "white",
            "ticks": ""
           },
           "baxis": {
            "gridcolor": "white",
            "linecolor": "white",
            "ticks": ""
           },
           "bgcolor": "#E5ECF6",
           "caxis": {
            "gridcolor": "white",
            "linecolor": "white",
            "ticks": ""
           }
          },
          "title": {
           "x": 0.05
          },
          "xaxis": {
           "automargin": true,
           "gridcolor": "white",
           "linecolor": "white",
           "ticks": "",
           "title": {
            "standoff": 15
           },
           "zerolinecolor": "white",
           "zerolinewidth": 2
          },
          "yaxis": {
           "automargin": true,
           "gridcolor": "white",
           "linecolor": "white",
           "ticks": "",
           "title": {
            "standoff": 15
           },
           "zerolinecolor": "white",
           "zerolinewidth": 2
          }
         }
        },
        "title": {
         "font": {
          "color": "#4D5663"
         }
        },
        "xaxis": {
         "gridcolor": "#E1E5ED",
         "showgrid": true,
         "tickfont": {
          "color": "#4D5663"
         },
         "title": {
          "font": {
           "color": "#4D5663"
          },
          "text": ""
         },
         "zerolinecolor": "#E1E5ED"
        },
        "yaxis": {
         "gridcolor": "#E1E5ED",
         "showgrid": true,
         "tickfont": {
          "color": "#4D5663"
         },
         "title": {
          "font": {
           "color": "#4D5663"
          },
          "text": ""
         },
         "zerolinecolor": "#E1E5ED"
        }
       }
      },
      "text/html": [
       "<div>\n",
       "        \n",
       "        \n",
       "            <div id=\"a09c0a4d-8bde-4dc4-b830-8561ca1e7462\" class=\"plotly-graph-div\" style=\"height:525px; width:100%;\"></div>\n",
       "            <script type=\"text/javascript\">\n",
       "                require([\"plotly\"], function(Plotly) {\n",
       "                    window.PLOTLYENV=window.PLOTLYENV || {};\n",
       "                    window.PLOTLYENV.BASE_URL='https://plot.ly';\n",
       "                    \n",
       "                if (document.getElementById(\"a09c0a4d-8bde-4dc4-b830-8561ca1e7462\")) {\n",
       "                    Plotly.newPlot(\n",
       "                        'a09c0a4d-8bde-4dc4-b830-8561ca1e7462',\n",
       "                        [{\"line\": {\"color\": \"rgba(255, 153, 51, 1.0)\", \"dash\": \"solid\", \"shape\": \"linear\", \"width\": 1.3}, \"mode\": \"lines\", \"name\": \"B\", \"text\": \"\", \"type\": \"scatter\", \"x\": [1.9072310072255976, 0.45664251731057026, 1.8735593319249753, -1.2764623848263121, 1.3628530085372335, -0.4325085498941139, -2.130565106550025, -0.3478882665499311, -1.8065591069816318, 1.2802855972530267, 0.9099690101147678, -0.7254302350257974, -1.357689466572614, -0.2924728207932572, -0.6520631482874802, 0.004148547838381575, 0.6844015451212803, 0.4768351538690697, 0.6533129371097708, -0.8033735902053046, 0.10436594645935798, 0.5988000624309174, -0.6343639773656216, -0.13527773819219185, -0.20256767414639978, -0.015873236886170233, 1.0333180007396285, 0.6233280465126437, 1.8054087268203456, -0.3483139337287294, -1.6450789071911471, -0.07367633128762816, 0.9661664795196275, -3.554540119417503, -0.3517884347890016, -0.011080518665749637, 0.621422551146316, -1.2531579594339688, -0.10051082015301586, -0.24054607341946016, -0.3839538033661071, -1.0575974259826995, -1.752757339947482, 0.2774973963127115, -1.4494616998409102, 0.16015295976718663, -1.5104556329789018, -0.8063273303499235, -0.3947630414938095, 0.43441231346843795, 1.226504273411426, 0.2024939514122735, -0.00835533148028108, -0.36256325006618495, 0.5359156853817274, -1.0969121025292958, 0.43187469434509806, 0.8496889764272824, -1.2082731388454349, -1.7089121213718867, -0.5170724026485997, -0.03994284400890909, -0.25932188432990816, 0.07953898183032124, 1.0458832881768172, -1.9579149340336046, 0.5453127632430007, 1.854844673262272, -2.5673923034531083, -0.09091067989192657, -0.3884470822677006, -1.8469698500964709, -1.5158324196916066, -0.38138223397344256, -0.05805129919084255, 1.087493238981735, 0.7534415222757022, -0.6284540050680987, -0.38751599288043437, -1.2084618045487636, 0.0514634408368774, -1.082918557354612, -0.4992107264311093, -1.9452028837154631, 0.7273056387902339, -0.8955610849268126, -0.8234617655936936, 0.532065163647017, -1.1028862381850142, -1.7582423251578894, -1.3791246147712828, 0.10042152710117103, -0.5716713526590748, -0.9735284618191417, -0.058716214204821274, 0.5119956539665943, 0.11718988426468993, 0.006329341436323806, -0.620841952508306, 0.8187717540053973], \"y\": [0.5397341984256421, 1.4273648820401585, -0.2699470460701567, -0.009205707259470066, 0.38245509704051034, -0.6121410983025236, 1.471122536385358, 0.008852038627531702, -1.0322725314491903, 0.8203466329622852, 0.40274543333508517, 1.1710113832309024, -0.8490119147891786, 0.37012452704623977, 0.6727839097825701, -0.7146490926729023, -1.1710925815152915, 0.829667151217231, 1.6254325510413408, -0.03523386729780477, 0.8344690832208976, -0.013325006634558746, 0.731317913467702, -0.34730864357214936, 0.43023502387456686, 1.4329446581756315, -0.7491845032709245, 0.3510417309197764, 0.14083899715516177, -1.1861006093411341, 0.06372821563374959, -0.5482268710062057, 0.5358156468037663, 1.860518121810859, 1.0586200684408351, -0.0639731090133942, -0.08212677769362468, -1.3644617085653952, 2.306486236434318, 0.2299424870881697, 0.277553325627394, -0.7310389683951801, 0.7855790026429404, 1.991062673583806, 0.42083892064389616, 0.3312184872102766, -0.948280317204048, -0.9568068650540437, 0.06219846171557773, -0.6894903418517699, 0.9426582104357005, -0.6549530029210485, -0.27693993710331516, 0.5794679612177993, -0.17445332930955162, 1.973689765686015, -1.1221081740462968, -0.5689439814189605, -0.812476104079502, 2.106994461930286, 0.32736395155534453, 0.1312433407250468, -0.18047861897329853, -0.772626615251416, 0.3228290458457046, -0.3876374046636482, 0.1833422829766309, 1.9087468843804094, -0.15516628138100658, -1.4163623544697346, 0.6147553608766299, 0.6285689877845728, 0.46983514730252834, -1.891043424119729, -0.41109171089752206, -0.19882089607141482, 0.26050507326347166, -0.021940889213982018, 0.35818838870948727, 0.8607668916844468, -0.76838927683406, -0.627976710508572, -0.6366917226484422, 0.04068231456785195, 1.0800854230491712, -0.5362280813309173, 0.9978930275747946, -1.7791250497361506, -0.677962460840107, 0.7572816499590634, -0.287425248846891, -0.47888022308913814, -1.1274959646162466, 0.2324095143049378, 0.8683229396351135, 1.829117056821466, -1.816751591989605, -0.5924861572089956, 0.8017402458379345, -1.4002762640497939]}],\n",
       "                        {\"legend\": {\"bgcolor\": \"#F5F6F9\", \"font\": {\"color\": \"#4D5663\"}}, \"paper_bgcolor\": \"#F5F6F9\", \"plot_bgcolor\": \"#F5F6F9\", \"template\": {\"data\": {\"bar\": [{\"error_x\": {\"color\": \"#2a3f5f\"}, \"error_y\": {\"color\": \"#2a3f5f\"}, \"marker\": {\"line\": {\"color\": \"#E5ECF6\", \"width\": 0.5}}, \"type\": \"bar\"}], \"barpolar\": [{\"marker\": {\"line\": {\"color\": \"#E5ECF6\", \"width\": 0.5}}, \"type\": \"barpolar\"}], \"carpet\": [{\"aaxis\": {\"endlinecolor\": \"#2a3f5f\", \"gridcolor\": \"white\", \"linecolor\": \"white\", \"minorgridcolor\": \"white\", \"startlinecolor\": \"#2a3f5f\"}, \"baxis\": {\"endlinecolor\": \"#2a3f5f\", \"gridcolor\": \"white\", \"linecolor\": \"white\", \"minorgridcolor\": \"white\", \"startlinecolor\": \"#2a3f5f\"}, \"type\": \"carpet\"}], \"choropleth\": [{\"colorbar\": {\"outlinewidth\": 0, \"ticks\": \"\"}, \"type\": \"choropleth\"}], \"contour\": [{\"colorbar\": {\"outlinewidth\": 0, \"ticks\": \"\"}, \"colorscale\": [[0.0, \"#0d0887\"], [0.1111111111111111, \"#46039f\"], [0.2222222222222222, \"#7201a8\"], [0.3333333333333333, \"#9c179e\"], [0.4444444444444444, \"#bd3786\"], [0.5555555555555556, \"#d8576b\"], [0.6666666666666666, \"#ed7953\"], [0.7777777777777778, \"#fb9f3a\"], [0.8888888888888888, \"#fdca26\"], [1.0, \"#f0f921\"]], \"type\": \"contour\"}], \"contourcarpet\": [{\"colorbar\": {\"outlinewidth\": 0, \"ticks\": \"\"}, \"type\": \"contourcarpet\"}], \"heatmap\": [{\"colorbar\": {\"outlinewidth\": 0, \"ticks\": \"\"}, \"colorscale\": [[0.0, \"#0d0887\"], [0.1111111111111111, \"#46039f\"], [0.2222222222222222, \"#7201a8\"], [0.3333333333333333, \"#9c179e\"], [0.4444444444444444, \"#bd3786\"], [0.5555555555555556, \"#d8576b\"], [0.6666666666666666, \"#ed7953\"], [0.7777777777777778, \"#fb9f3a\"], [0.8888888888888888, \"#fdca26\"], [1.0, \"#f0f921\"]], \"type\": \"heatmap\"}], \"heatmapgl\": [{\"colorbar\": {\"outlinewidth\": 0, \"ticks\": \"\"}, \"colorscale\": [[0.0, \"#0d0887\"], [0.1111111111111111, \"#46039f\"], [0.2222222222222222, \"#7201a8\"], [0.3333333333333333, \"#9c179e\"], [0.4444444444444444, \"#bd3786\"], [0.5555555555555556, \"#d8576b\"], [0.6666666666666666, \"#ed7953\"], [0.7777777777777778, \"#fb9f3a\"], [0.8888888888888888, \"#fdca26\"], [1.0, \"#f0f921\"]], \"type\": \"heatmapgl\"}], \"histogram\": [{\"marker\": {\"colorbar\": {\"outlinewidth\": 0, \"ticks\": \"\"}}, \"type\": \"histogram\"}], \"histogram2d\": [{\"colorbar\": {\"outlinewidth\": 0, \"ticks\": \"\"}, \"colorscale\": [[0.0, \"#0d0887\"], [0.1111111111111111, \"#46039f\"], [0.2222222222222222, \"#7201a8\"], [0.3333333333333333, \"#9c179e\"], [0.4444444444444444, \"#bd3786\"], [0.5555555555555556, \"#d8576b\"], [0.6666666666666666, \"#ed7953\"], [0.7777777777777778, \"#fb9f3a\"], [0.8888888888888888, \"#fdca26\"], [1.0, \"#f0f921\"]], \"type\": \"histogram2d\"}], \"histogram2dcontour\": [{\"colorbar\": {\"outlinewidth\": 0, \"ticks\": \"\"}, \"colorscale\": [[0.0, \"#0d0887\"], [0.1111111111111111, \"#46039f\"], [0.2222222222222222, \"#7201a8\"], [0.3333333333333333, \"#9c179e\"], [0.4444444444444444, \"#bd3786\"], [0.5555555555555556, \"#d8576b\"], [0.6666666666666666, \"#ed7953\"], [0.7777777777777778, \"#fb9f3a\"], [0.8888888888888888, \"#fdca26\"], [1.0, \"#f0f921\"]], \"type\": \"histogram2dcontour\"}], \"mesh3d\": [{\"colorbar\": {\"outlinewidth\": 0, \"ticks\": \"\"}, \"type\": \"mesh3d\"}], \"parcoords\": [{\"line\": {\"colorbar\": {\"outlinewidth\": 0, \"ticks\": \"\"}}, \"type\": \"parcoords\"}], \"pie\": [{\"automargin\": true, \"type\": \"pie\"}], \"scatter\": [{\"marker\": {\"colorbar\": {\"outlinewidth\": 0, \"ticks\": \"\"}}, \"type\": \"scatter\"}], \"scatter3d\": [{\"line\": {\"colorbar\": {\"outlinewidth\": 0, \"ticks\": \"\"}}, \"marker\": {\"colorbar\": {\"outlinewidth\": 0, \"ticks\": \"\"}}, \"type\": \"scatter3d\"}], \"scattercarpet\": [{\"marker\": {\"colorbar\": {\"outlinewidth\": 0, \"ticks\": \"\"}}, \"type\": \"scattercarpet\"}], \"scattergeo\": [{\"marker\": {\"colorbar\": {\"outlinewidth\": 0, \"ticks\": \"\"}}, \"type\": \"scattergeo\"}], \"scattergl\": [{\"marker\": {\"colorbar\": {\"outlinewidth\": 0, \"ticks\": \"\"}}, \"type\": \"scattergl\"}], \"scattermapbox\": [{\"marker\": {\"colorbar\": {\"outlinewidth\": 0, \"ticks\": \"\"}}, \"type\": \"scattermapbox\"}], \"scatterpolar\": [{\"marker\": {\"colorbar\": {\"outlinewidth\": 0, \"ticks\": \"\"}}, \"type\": \"scatterpolar\"}], \"scatterpolargl\": [{\"marker\": {\"colorbar\": {\"outlinewidth\": 0, \"ticks\": \"\"}}, \"type\": \"scatterpolargl\"}], \"scatterternary\": [{\"marker\": {\"colorbar\": {\"outlinewidth\": 0, \"ticks\": \"\"}}, \"type\": \"scatterternary\"}], \"surface\": [{\"colorbar\": {\"outlinewidth\": 0, \"ticks\": \"\"}, \"colorscale\": [[0.0, \"#0d0887\"], [0.1111111111111111, \"#46039f\"], [0.2222222222222222, \"#7201a8\"], [0.3333333333333333, \"#9c179e\"], [0.4444444444444444, \"#bd3786\"], [0.5555555555555556, \"#d8576b\"], [0.6666666666666666, \"#ed7953\"], [0.7777777777777778, \"#fb9f3a\"], [0.8888888888888888, \"#fdca26\"], [1.0, \"#f0f921\"]], \"type\": \"surface\"}], \"table\": [{\"cells\": {\"fill\": {\"color\": \"#EBF0F8\"}, \"line\": {\"color\": \"white\"}}, \"header\": {\"fill\": {\"color\": \"#C8D4E3\"}, \"line\": {\"color\": \"white\"}}, \"type\": \"table\"}]}, \"layout\": {\"annotationdefaults\": {\"arrowcolor\": \"#2a3f5f\", \"arrowhead\": 0, \"arrowwidth\": 1}, \"coloraxis\": {\"colorbar\": {\"outlinewidth\": 0, \"ticks\": \"\"}}, \"colorscale\": {\"diverging\": [[0, \"#8e0152\"], [0.1, \"#c51b7d\"], [0.2, \"#de77ae\"], [0.3, \"#f1b6da\"], [0.4, \"#fde0ef\"], [0.5, \"#f7f7f7\"], [0.6, \"#e6f5d0\"], [0.7, \"#b8e186\"], [0.8, \"#7fbc41\"], [0.9, \"#4d9221\"], [1, \"#276419\"]], \"sequential\": [[0.0, \"#0d0887\"], [0.1111111111111111, \"#46039f\"], [0.2222222222222222, \"#7201a8\"], [0.3333333333333333, \"#9c179e\"], [0.4444444444444444, \"#bd3786\"], [0.5555555555555556, \"#d8576b\"], [0.6666666666666666, \"#ed7953\"], [0.7777777777777778, \"#fb9f3a\"], [0.8888888888888888, \"#fdca26\"], [1.0, \"#f0f921\"]], \"sequentialminus\": [[0.0, \"#0d0887\"], [0.1111111111111111, \"#46039f\"], [0.2222222222222222, \"#7201a8\"], [0.3333333333333333, \"#9c179e\"], [0.4444444444444444, \"#bd3786\"], [0.5555555555555556, \"#d8576b\"], [0.6666666666666666, \"#ed7953\"], [0.7777777777777778, \"#fb9f3a\"], [0.8888888888888888, \"#fdca26\"], [1.0, \"#f0f921\"]]}, \"colorway\": [\"#636efa\", \"#EF553B\", \"#00cc96\", \"#ab63fa\", \"#FFA15A\", \"#19d3f3\", \"#FF6692\", \"#B6E880\", \"#FF97FF\", \"#FECB52\"], \"font\": {\"color\": \"#2a3f5f\"}, \"geo\": {\"bgcolor\": \"white\", \"lakecolor\": \"white\", \"landcolor\": \"#E5ECF6\", \"showlakes\": true, \"showland\": true, \"subunitcolor\": \"white\"}, \"hoverlabel\": {\"align\": \"left\"}, \"hovermode\": \"closest\", \"mapbox\": {\"style\": \"light\"}, \"paper_bgcolor\": \"white\", \"plot_bgcolor\": \"#E5ECF6\", \"polar\": {\"angularaxis\": {\"gridcolor\": \"white\", \"linecolor\": \"white\", \"ticks\": \"\"}, \"bgcolor\": \"#E5ECF6\", \"radialaxis\": {\"gridcolor\": \"white\", \"linecolor\": \"white\", \"ticks\": \"\"}}, \"scene\": {\"xaxis\": {\"backgroundcolor\": \"#E5ECF6\", \"gridcolor\": \"white\", \"gridwidth\": 2, \"linecolor\": \"white\", \"showbackground\": true, \"ticks\": \"\", \"zerolinecolor\": \"white\"}, \"yaxis\": {\"backgroundcolor\": \"#E5ECF6\", \"gridcolor\": \"white\", \"gridwidth\": 2, \"linecolor\": \"white\", \"showbackground\": true, \"ticks\": \"\", \"zerolinecolor\": \"white\"}, \"zaxis\": {\"backgroundcolor\": \"#E5ECF6\", \"gridcolor\": \"white\", \"gridwidth\": 2, \"linecolor\": \"white\", \"showbackground\": true, \"ticks\": \"\", \"zerolinecolor\": \"white\"}}, \"shapedefaults\": {\"line\": {\"color\": \"#2a3f5f\"}}, \"ternary\": {\"aaxis\": {\"gridcolor\": \"white\", \"linecolor\": \"white\", \"ticks\": \"\"}, \"baxis\": {\"gridcolor\": \"white\", \"linecolor\": \"white\", \"ticks\": \"\"}, \"bgcolor\": \"#E5ECF6\", \"caxis\": {\"gridcolor\": \"white\", \"linecolor\": \"white\", \"ticks\": \"\"}}, \"title\": {\"x\": 0.05}, \"xaxis\": {\"automargin\": true, \"gridcolor\": \"white\", \"linecolor\": \"white\", \"ticks\": \"\", \"title\": {\"standoff\": 15}, \"zerolinecolor\": \"white\", \"zerolinewidth\": 2}, \"yaxis\": {\"automargin\": true, \"gridcolor\": \"white\", \"linecolor\": \"white\", \"ticks\": \"\", \"title\": {\"standoff\": 15}, \"zerolinecolor\": \"white\", \"zerolinewidth\": 2}}}, \"title\": {\"font\": {\"color\": \"#4D5663\"}}, \"xaxis\": {\"gridcolor\": \"#E1E5ED\", \"showgrid\": true, \"tickfont\": {\"color\": \"#4D5663\"}, \"title\": {\"font\": {\"color\": \"#4D5663\"}, \"text\": \"\"}, \"zerolinecolor\": \"#E1E5ED\"}, \"yaxis\": {\"gridcolor\": \"#E1E5ED\", \"showgrid\": true, \"tickfont\": {\"color\": \"#4D5663\"}, \"title\": {\"font\": {\"color\": \"#4D5663\"}, \"text\": \"\"}, \"zerolinecolor\": \"#E1E5ED\"}},\n",
       "                        {\"showLink\": true, \"linkText\": \"Export to plot.ly\", \"plotlyServerURL\": \"https://plot.ly\", \"responsive\": true}\n",
       "                    ).then(function(){\n",
       "                            \n",
       "var gd = document.getElementById('a09c0a4d-8bde-4dc4-b830-8561ca1e7462');\n",
       "var x = new MutationObserver(function (mutations, observer) {{\n",
       "        var display = window.getComputedStyle(gd).display;\n",
       "        if (!display || display === 'none') {{\n",
       "            console.log([gd, 'removed!']);\n",
       "            Plotly.purge(gd);\n",
       "            observer.disconnect();\n",
       "        }}\n",
       "}});\n",
       "\n",
       "// Listen for the removal of the full notebook cells\n",
       "var notebookContainer = gd.closest('#notebook-container');\n",
       "if (notebookContainer) {{\n",
       "    x.observe(notebookContainer, {childList: true});\n",
       "}}\n",
       "\n",
       "// Listen for the clearing of the current output cell\n",
       "var outputEl = gd.closest('.output');\n",
       "if (outputEl) {{\n",
       "    x.observe(outputEl, {childList: true});\n",
       "}}\n",
       "\n",
       "                        })\n",
       "                };\n",
       "                });\n",
       "            </script>\n",
       "        </div>"
      ]
     },
     "metadata": {},
     "output_type": "display_data"
    }
   ],
   "source": [
    "# are not running.. need to check on this more\n",
    "df.iplot(kind='scatter',x='A',y='B')"
   ]
  },
  {
   "cell_type": "code",
   "execution_count": 24,
   "metadata": {},
   "outputs": [
    {
     "data": {
      "application/vnd.plotly.v1+json": {
       "config": {
        "linkText": "Export to plot.ly",
        "plotlyServerURL": "https://plot.ly",
        "showLink": true
       },
       "data": [
        {
         "line": {
          "color": "rgba(255, 153, 51, 1.0)",
          "dash": "solid",
          "shape": "linear",
          "width": 1.3
         },
         "marker": {
          "size": 12,
          "symbol": "circle"
         },
         "mode": "markers",
         "name": "B",
         "text": "",
         "type": "scatter",
         "x": [
          1.9072310072255976,
          0.45664251731057026,
          1.8735593319249753,
          -1.2764623848263121,
          1.3628530085372335,
          -0.4325085498941139,
          -2.130565106550025,
          -0.3478882665499311,
          -1.8065591069816318,
          1.2802855972530267,
          0.9099690101147678,
          -0.7254302350257974,
          -1.357689466572614,
          -0.2924728207932572,
          -0.6520631482874802,
          0.004148547838381575,
          0.6844015451212803,
          0.4768351538690697,
          0.6533129371097708,
          -0.8033735902053046,
          0.10436594645935798,
          0.5988000624309174,
          -0.6343639773656216,
          -0.13527773819219185,
          -0.20256767414639978,
          -0.015873236886170233,
          1.0333180007396285,
          0.6233280465126437,
          1.8054087268203456,
          -0.3483139337287294,
          -1.6450789071911471,
          -0.07367633128762816,
          0.9661664795196275,
          -3.554540119417503,
          -0.3517884347890016,
          -0.011080518665749637,
          0.621422551146316,
          -1.2531579594339688,
          -0.10051082015301586,
          -0.24054607341946016,
          -0.3839538033661071,
          -1.0575974259826995,
          -1.752757339947482,
          0.2774973963127115,
          -1.4494616998409102,
          0.16015295976718663,
          -1.5104556329789018,
          -0.8063273303499235,
          -0.3947630414938095,
          0.43441231346843795,
          1.226504273411426,
          0.2024939514122735,
          -0.00835533148028108,
          -0.36256325006618495,
          0.5359156853817274,
          -1.0969121025292958,
          0.43187469434509806,
          0.8496889764272824,
          -1.2082731388454349,
          -1.7089121213718867,
          -0.5170724026485997,
          -0.03994284400890909,
          -0.25932188432990816,
          0.07953898183032124,
          1.0458832881768172,
          -1.9579149340336046,
          0.5453127632430007,
          1.854844673262272,
          -2.5673923034531083,
          -0.09091067989192657,
          -0.3884470822677006,
          -1.8469698500964709,
          -1.5158324196916066,
          -0.38138223397344256,
          -0.05805129919084255,
          1.087493238981735,
          0.7534415222757022,
          -0.6284540050680987,
          -0.38751599288043437,
          -1.2084618045487636,
          0.0514634408368774,
          -1.082918557354612,
          -0.4992107264311093,
          -1.9452028837154631,
          0.7273056387902339,
          -0.8955610849268126,
          -0.8234617655936936,
          0.532065163647017,
          -1.1028862381850142,
          -1.7582423251578894,
          -1.3791246147712828,
          0.10042152710117103,
          -0.5716713526590748,
          -0.9735284618191417,
          -0.058716214204821274,
          0.5119956539665943,
          0.11718988426468993,
          0.006329341436323806,
          -0.620841952508306,
          0.8187717540053973
         ],
         "y": [
          0.5397341984256421,
          1.4273648820401585,
          -0.2699470460701567,
          -0.009205707259470066,
          0.38245509704051034,
          -0.6121410983025236,
          1.471122536385358,
          0.008852038627531702,
          -1.0322725314491903,
          0.8203466329622852,
          0.40274543333508517,
          1.1710113832309024,
          -0.8490119147891786,
          0.37012452704623977,
          0.6727839097825701,
          -0.7146490926729023,
          -1.1710925815152915,
          0.829667151217231,
          1.6254325510413408,
          -0.03523386729780477,
          0.8344690832208976,
          -0.013325006634558746,
          0.731317913467702,
          -0.34730864357214936,
          0.43023502387456686,
          1.4329446581756315,
          -0.7491845032709245,
          0.3510417309197764,
          0.14083899715516177,
          -1.1861006093411341,
          0.06372821563374959,
          -0.5482268710062057,
          0.5358156468037663,
          1.860518121810859,
          1.0586200684408351,
          -0.0639731090133942,
          -0.08212677769362468,
          -1.3644617085653952,
          2.306486236434318,
          0.2299424870881697,
          0.277553325627394,
          -0.7310389683951801,
          0.7855790026429404,
          1.991062673583806,
          0.42083892064389616,
          0.3312184872102766,
          -0.948280317204048,
          -0.9568068650540437,
          0.06219846171557773,
          -0.6894903418517699,
          0.9426582104357005,
          -0.6549530029210485,
          -0.27693993710331516,
          0.5794679612177993,
          -0.17445332930955162,
          1.973689765686015,
          -1.1221081740462968,
          -0.5689439814189605,
          -0.812476104079502,
          2.106994461930286,
          0.32736395155534453,
          0.1312433407250468,
          -0.18047861897329853,
          -0.772626615251416,
          0.3228290458457046,
          -0.3876374046636482,
          0.1833422829766309,
          1.9087468843804094,
          -0.15516628138100658,
          -1.4163623544697346,
          0.6147553608766299,
          0.6285689877845728,
          0.46983514730252834,
          -1.891043424119729,
          -0.41109171089752206,
          -0.19882089607141482,
          0.26050507326347166,
          -0.021940889213982018,
          0.35818838870948727,
          0.8607668916844468,
          -0.76838927683406,
          -0.627976710508572,
          -0.6366917226484422,
          0.04068231456785195,
          1.0800854230491712,
          -0.5362280813309173,
          0.9978930275747946,
          -1.7791250497361506,
          -0.677962460840107,
          0.7572816499590634,
          -0.287425248846891,
          -0.47888022308913814,
          -1.1274959646162466,
          0.2324095143049378,
          0.8683229396351135,
          1.829117056821466,
          -1.816751591989605,
          -0.5924861572089956,
          0.8017402458379345,
          -1.4002762640497939
         ]
        }
       ],
       "layout": {
        "legend": {
         "bgcolor": "#F5F6F9",
         "font": {
          "color": "#4D5663"
         }
        },
        "paper_bgcolor": "#F5F6F9",
        "plot_bgcolor": "#F5F6F9",
        "template": {
         "data": {
          "bar": [
           {
            "error_x": {
             "color": "#2a3f5f"
            },
            "error_y": {
             "color": "#2a3f5f"
            },
            "marker": {
             "line": {
              "color": "#E5ECF6",
              "width": 0.5
             }
            },
            "type": "bar"
           }
          ],
          "barpolar": [
           {
            "marker": {
             "line": {
              "color": "#E5ECF6",
              "width": 0.5
             }
            },
            "type": "barpolar"
           }
          ],
          "carpet": [
           {
            "aaxis": {
             "endlinecolor": "#2a3f5f",
             "gridcolor": "white",
             "linecolor": "white",
             "minorgridcolor": "white",
             "startlinecolor": "#2a3f5f"
            },
            "baxis": {
             "endlinecolor": "#2a3f5f",
             "gridcolor": "white",
             "linecolor": "white",
             "minorgridcolor": "white",
             "startlinecolor": "#2a3f5f"
            },
            "type": "carpet"
           }
          ],
          "choropleth": [
           {
            "colorbar": {
             "outlinewidth": 0,
             "ticks": ""
            },
            "type": "choropleth"
           }
          ],
          "contour": [
           {
            "colorbar": {
             "outlinewidth": 0,
             "ticks": ""
            },
            "colorscale": [
             [
              0,
              "#0d0887"
             ],
             [
              0.1111111111111111,
              "#46039f"
             ],
             [
              0.2222222222222222,
              "#7201a8"
             ],
             [
              0.3333333333333333,
              "#9c179e"
             ],
             [
              0.4444444444444444,
              "#bd3786"
             ],
             [
              0.5555555555555556,
              "#d8576b"
             ],
             [
              0.6666666666666666,
              "#ed7953"
             ],
             [
              0.7777777777777778,
              "#fb9f3a"
             ],
             [
              0.8888888888888888,
              "#fdca26"
             ],
             [
              1,
              "#f0f921"
             ]
            ],
            "type": "contour"
           }
          ],
          "contourcarpet": [
           {
            "colorbar": {
             "outlinewidth": 0,
             "ticks": ""
            },
            "type": "contourcarpet"
           }
          ],
          "heatmap": [
           {
            "colorbar": {
             "outlinewidth": 0,
             "ticks": ""
            },
            "colorscale": [
             [
              0,
              "#0d0887"
             ],
             [
              0.1111111111111111,
              "#46039f"
             ],
             [
              0.2222222222222222,
              "#7201a8"
             ],
             [
              0.3333333333333333,
              "#9c179e"
             ],
             [
              0.4444444444444444,
              "#bd3786"
             ],
             [
              0.5555555555555556,
              "#d8576b"
             ],
             [
              0.6666666666666666,
              "#ed7953"
             ],
             [
              0.7777777777777778,
              "#fb9f3a"
             ],
             [
              0.8888888888888888,
              "#fdca26"
             ],
             [
              1,
              "#f0f921"
             ]
            ],
            "type": "heatmap"
           }
          ],
          "heatmapgl": [
           {
            "colorbar": {
             "outlinewidth": 0,
             "ticks": ""
            },
            "colorscale": [
             [
              0,
              "#0d0887"
             ],
             [
              0.1111111111111111,
              "#46039f"
             ],
             [
              0.2222222222222222,
              "#7201a8"
             ],
             [
              0.3333333333333333,
              "#9c179e"
             ],
             [
              0.4444444444444444,
              "#bd3786"
             ],
             [
              0.5555555555555556,
              "#d8576b"
             ],
             [
              0.6666666666666666,
              "#ed7953"
             ],
             [
              0.7777777777777778,
              "#fb9f3a"
             ],
             [
              0.8888888888888888,
              "#fdca26"
             ],
             [
              1,
              "#f0f921"
             ]
            ],
            "type": "heatmapgl"
           }
          ],
          "histogram": [
           {
            "marker": {
             "colorbar": {
              "outlinewidth": 0,
              "ticks": ""
             }
            },
            "type": "histogram"
           }
          ],
          "histogram2d": [
           {
            "colorbar": {
             "outlinewidth": 0,
             "ticks": ""
            },
            "colorscale": [
             [
              0,
              "#0d0887"
             ],
             [
              0.1111111111111111,
              "#46039f"
             ],
             [
              0.2222222222222222,
              "#7201a8"
             ],
             [
              0.3333333333333333,
              "#9c179e"
             ],
             [
              0.4444444444444444,
              "#bd3786"
             ],
             [
              0.5555555555555556,
              "#d8576b"
             ],
             [
              0.6666666666666666,
              "#ed7953"
             ],
             [
              0.7777777777777778,
              "#fb9f3a"
             ],
             [
              0.8888888888888888,
              "#fdca26"
             ],
             [
              1,
              "#f0f921"
             ]
            ],
            "type": "histogram2d"
           }
          ],
          "histogram2dcontour": [
           {
            "colorbar": {
             "outlinewidth": 0,
             "ticks": ""
            },
            "colorscale": [
             [
              0,
              "#0d0887"
             ],
             [
              0.1111111111111111,
              "#46039f"
             ],
             [
              0.2222222222222222,
              "#7201a8"
             ],
             [
              0.3333333333333333,
              "#9c179e"
             ],
             [
              0.4444444444444444,
              "#bd3786"
             ],
             [
              0.5555555555555556,
              "#d8576b"
             ],
             [
              0.6666666666666666,
              "#ed7953"
             ],
             [
              0.7777777777777778,
              "#fb9f3a"
             ],
             [
              0.8888888888888888,
              "#fdca26"
             ],
             [
              1,
              "#f0f921"
             ]
            ],
            "type": "histogram2dcontour"
           }
          ],
          "mesh3d": [
           {
            "colorbar": {
             "outlinewidth": 0,
             "ticks": ""
            },
            "type": "mesh3d"
           }
          ],
          "parcoords": [
           {
            "line": {
             "colorbar": {
              "outlinewidth": 0,
              "ticks": ""
             }
            },
            "type": "parcoords"
           }
          ],
          "pie": [
           {
            "automargin": true,
            "type": "pie"
           }
          ],
          "scatter": [
           {
            "marker": {
             "colorbar": {
              "outlinewidth": 0,
              "ticks": ""
             }
            },
            "type": "scatter"
           }
          ],
          "scatter3d": [
           {
            "line": {
             "colorbar": {
              "outlinewidth": 0,
              "ticks": ""
             }
            },
            "marker": {
             "colorbar": {
              "outlinewidth": 0,
              "ticks": ""
             }
            },
            "type": "scatter3d"
           }
          ],
          "scattercarpet": [
           {
            "marker": {
             "colorbar": {
              "outlinewidth": 0,
              "ticks": ""
             }
            },
            "type": "scattercarpet"
           }
          ],
          "scattergeo": [
           {
            "marker": {
             "colorbar": {
              "outlinewidth": 0,
              "ticks": ""
             }
            },
            "type": "scattergeo"
           }
          ],
          "scattergl": [
           {
            "marker": {
             "colorbar": {
              "outlinewidth": 0,
              "ticks": ""
             }
            },
            "type": "scattergl"
           }
          ],
          "scattermapbox": [
           {
            "marker": {
             "colorbar": {
              "outlinewidth": 0,
              "ticks": ""
             }
            },
            "type": "scattermapbox"
           }
          ],
          "scatterpolar": [
           {
            "marker": {
             "colorbar": {
              "outlinewidth": 0,
              "ticks": ""
             }
            },
            "type": "scatterpolar"
           }
          ],
          "scatterpolargl": [
           {
            "marker": {
             "colorbar": {
              "outlinewidth": 0,
              "ticks": ""
             }
            },
            "type": "scatterpolargl"
           }
          ],
          "scatterternary": [
           {
            "marker": {
             "colorbar": {
              "outlinewidth": 0,
              "ticks": ""
             }
            },
            "type": "scatterternary"
           }
          ],
          "surface": [
           {
            "colorbar": {
             "outlinewidth": 0,
             "ticks": ""
            },
            "colorscale": [
             [
              0,
              "#0d0887"
             ],
             [
              0.1111111111111111,
              "#46039f"
             ],
             [
              0.2222222222222222,
              "#7201a8"
             ],
             [
              0.3333333333333333,
              "#9c179e"
             ],
             [
              0.4444444444444444,
              "#bd3786"
             ],
             [
              0.5555555555555556,
              "#d8576b"
             ],
             [
              0.6666666666666666,
              "#ed7953"
             ],
             [
              0.7777777777777778,
              "#fb9f3a"
             ],
             [
              0.8888888888888888,
              "#fdca26"
             ],
             [
              1,
              "#f0f921"
             ]
            ],
            "type": "surface"
           }
          ],
          "table": [
           {
            "cells": {
             "fill": {
              "color": "#EBF0F8"
             },
             "line": {
              "color": "white"
             }
            },
            "header": {
             "fill": {
              "color": "#C8D4E3"
             },
             "line": {
              "color": "white"
             }
            },
            "type": "table"
           }
          ]
         },
         "layout": {
          "annotationdefaults": {
           "arrowcolor": "#2a3f5f",
           "arrowhead": 0,
           "arrowwidth": 1
          },
          "coloraxis": {
           "colorbar": {
            "outlinewidth": 0,
            "ticks": ""
           }
          },
          "colorscale": {
           "diverging": [
            [
             0,
             "#8e0152"
            ],
            [
             0.1,
             "#c51b7d"
            ],
            [
             0.2,
             "#de77ae"
            ],
            [
             0.3,
             "#f1b6da"
            ],
            [
             0.4,
             "#fde0ef"
            ],
            [
             0.5,
             "#f7f7f7"
            ],
            [
             0.6,
             "#e6f5d0"
            ],
            [
             0.7,
             "#b8e186"
            ],
            [
             0.8,
             "#7fbc41"
            ],
            [
             0.9,
             "#4d9221"
            ],
            [
             1,
             "#276419"
            ]
           ],
           "sequential": [
            [
             0,
             "#0d0887"
            ],
            [
             0.1111111111111111,
             "#46039f"
            ],
            [
             0.2222222222222222,
             "#7201a8"
            ],
            [
             0.3333333333333333,
             "#9c179e"
            ],
            [
             0.4444444444444444,
             "#bd3786"
            ],
            [
             0.5555555555555556,
             "#d8576b"
            ],
            [
             0.6666666666666666,
             "#ed7953"
            ],
            [
             0.7777777777777778,
             "#fb9f3a"
            ],
            [
             0.8888888888888888,
             "#fdca26"
            ],
            [
             1,
             "#f0f921"
            ]
           ],
           "sequentialminus": [
            [
             0,
             "#0d0887"
            ],
            [
             0.1111111111111111,
             "#46039f"
            ],
            [
             0.2222222222222222,
             "#7201a8"
            ],
            [
             0.3333333333333333,
             "#9c179e"
            ],
            [
             0.4444444444444444,
             "#bd3786"
            ],
            [
             0.5555555555555556,
             "#d8576b"
            ],
            [
             0.6666666666666666,
             "#ed7953"
            ],
            [
             0.7777777777777778,
             "#fb9f3a"
            ],
            [
             0.8888888888888888,
             "#fdca26"
            ],
            [
             1,
             "#f0f921"
            ]
           ]
          },
          "colorway": [
           "#636efa",
           "#EF553B",
           "#00cc96",
           "#ab63fa",
           "#FFA15A",
           "#19d3f3",
           "#FF6692",
           "#B6E880",
           "#FF97FF",
           "#FECB52"
          ],
          "font": {
           "color": "#2a3f5f"
          },
          "geo": {
           "bgcolor": "white",
           "lakecolor": "white",
           "landcolor": "#E5ECF6",
           "showlakes": true,
           "showland": true,
           "subunitcolor": "white"
          },
          "hoverlabel": {
           "align": "left"
          },
          "hovermode": "closest",
          "mapbox": {
           "style": "light"
          },
          "paper_bgcolor": "white",
          "plot_bgcolor": "#E5ECF6",
          "polar": {
           "angularaxis": {
            "gridcolor": "white",
            "linecolor": "white",
            "ticks": ""
           },
           "bgcolor": "#E5ECF6",
           "radialaxis": {
            "gridcolor": "white",
            "linecolor": "white",
            "ticks": ""
           }
          },
          "scene": {
           "xaxis": {
            "backgroundcolor": "#E5ECF6",
            "gridcolor": "white",
            "gridwidth": 2,
            "linecolor": "white",
            "showbackground": true,
            "ticks": "",
            "zerolinecolor": "white"
           },
           "yaxis": {
            "backgroundcolor": "#E5ECF6",
            "gridcolor": "white",
            "gridwidth": 2,
            "linecolor": "white",
            "showbackground": true,
            "ticks": "",
            "zerolinecolor": "white"
           },
           "zaxis": {
            "backgroundcolor": "#E5ECF6",
            "gridcolor": "white",
            "gridwidth": 2,
            "linecolor": "white",
            "showbackground": true,
            "ticks": "",
            "zerolinecolor": "white"
           }
          },
          "shapedefaults": {
           "line": {
            "color": "#2a3f5f"
           }
          },
          "ternary": {
           "aaxis": {
            "gridcolor": "white",
            "linecolor": "white",
            "ticks": ""
           },
           "baxis": {
            "gridcolor": "white",
            "linecolor": "white",
            "ticks": ""
           },
           "bgcolor": "#E5ECF6",
           "caxis": {
            "gridcolor": "white",
            "linecolor": "white",
            "ticks": ""
           }
          },
          "title": {
           "x": 0.05
          },
          "xaxis": {
           "automargin": true,
           "gridcolor": "white",
           "linecolor": "white",
           "ticks": "",
           "title": {
            "standoff": 15
           },
           "zerolinecolor": "white",
           "zerolinewidth": 2
          },
          "yaxis": {
           "automargin": true,
           "gridcolor": "white",
           "linecolor": "white",
           "ticks": "",
           "title": {
            "standoff": 15
           },
           "zerolinecolor": "white",
           "zerolinewidth": 2
          }
         }
        },
        "title": {
         "font": {
          "color": "#4D5663"
         }
        },
        "xaxis": {
         "gridcolor": "#E1E5ED",
         "showgrid": true,
         "tickfont": {
          "color": "#4D5663"
         },
         "title": {
          "font": {
           "color": "#4D5663"
          },
          "text": ""
         },
         "zerolinecolor": "#E1E5ED"
        },
        "yaxis": {
         "gridcolor": "#E1E5ED",
         "showgrid": true,
         "tickfont": {
          "color": "#4D5663"
         },
         "title": {
          "font": {
           "color": "#4D5663"
          },
          "text": ""
         },
         "zerolinecolor": "#E1E5ED"
        }
       }
      },
      "text/html": [
       "<div>\n",
       "        \n",
       "        \n",
       "            <div id=\"16fea731-d944-4c42-b8fc-87b232dc47d0\" class=\"plotly-graph-div\" style=\"height:525px; width:100%;\"></div>\n",
       "            <script type=\"text/javascript\">\n",
       "                require([\"plotly\"], function(Plotly) {\n",
       "                    window.PLOTLYENV=window.PLOTLYENV || {};\n",
       "                    window.PLOTLYENV.BASE_URL='https://plot.ly';\n",
       "                    \n",
       "                if (document.getElementById(\"16fea731-d944-4c42-b8fc-87b232dc47d0\")) {\n",
       "                    Plotly.newPlot(\n",
       "                        '16fea731-d944-4c42-b8fc-87b232dc47d0',\n",
       "                        [{\"line\": {\"color\": \"rgba(255, 153, 51, 1.0)\", \"dash\": \"solid\", \"shape\": \"linear\", \"width\": 1.3}, \"marker\": {\"size\": 12, \"symbol\": \"circle\"}, \"mode\": \"markers\", \"name\": \"B\", \"text\": \"\", \"type\": \"scatter\", \"x\": [1.9072310072255976, 0.45664251731057026, 1.8735593319249753, -1.2764623848263121, 1.3628530085372335, -0.4325085498941139, -2.130565106550025, -0.3478882665499311, -1.8065591069816318, 1.2802855972530267, 0.9099690101147678, -0.7254302350257974, -1.357689466572614, -0.2924728207932572, -0.6520631482874802, 0.004148547838381575, 0.6844015451212803, 0.4768351538690697, 0.6533129371097708, -0.8033735902053046, 0.10436594645935798, 0.5988000624309174, -0.6343639773656216, -0.13527773819219185, -0.20256767414639978, -0.015873236886170233, 1.0333180007396285, 0.6233280465126437, 1.8054087268203456, -0.3483139337287294, -1.6450789071911471, -0.07367633128762816, 0.9661664795196275, -3.554540119417503, -0.3517884347890016, -0.011080518665749637, 0.621422551146316, -1.2531579594339688, -0.10051082015301586, -0.24054607341946016, -0.3839538033661071, -1.0575974259826995, -1.752757339947482, 0.2774973963127115, -1.4494616998409102, 0.16015295976718663, -1.5104556329789018, -0.8063273303499235, -0.3947630414938095, 0.43441231346843795, 1.226504273411426, 0.2024939514122735, -0.00835533148028108, -0.36256325006618495, 0.5359156853817274, -1.0969121025292958, 0.43187469434509806, 0.8496889764272824, -1.2082731388454349, -1.7089121213718867, -0.5170724026485997, -0.03994284400890909, -0.25932188432990816, 0.07953898183032124, 1.0458832881768172, -1.9579149340336046, 0.5453127632430007, 1.854844673262272, -2.5673923034531083, -0.09091067989192657, -0.3884470822677006, -1.8469698500964709, -1.5158324196916066, -0.38138223397344256, -0.05805129919084255, 1.087493238981735, 0.7534415222757022, -0.6284540050680987, -0.38751599288043437, -1.2084618045487636, 0.0514634408368774, -1.082918557354612, -0.4992107264311093, -1.9452028837154631, 0.7273056387902339, -0.8955610849268126, -0.8234617655936936, 0.532065163647017, -1.1028862381850142, -1.7582423251578894, -1.3791246147712828, 0.10042152710117103, -0.5716713526590748, -0.9735284618191417, -0.058716214204821274, 0.5119956539665943, 0.11718988426468993, 0.006329341436323806, -0.620841952508306, 0.8187717540053973], \"y\": [0.5397341984256421, 1.4273648820401585, -0.2699470460701567, -0.009205707259470066, 0.38245509704051034, -0.6121410983025236, 1.471122536385358, 0.008852038627531702, -1.0322725314491903, 0.8203466329622852, 0.40274543333508517, 1.1710113832309024, -0.8490119147891786, 0.37012452704623977, 0.6727839097825701, -0.7146490926729023, -1.1710925815152915, 0.829667151217231, 1.6254325510413408, -0.03523386729780477, 0.8344690832208976, -0.013325006634558746, 0.731317913467702, -0.34730864357214936, 0.43023502387456686, 1.4329446581756315, -0.7491845032709245, 0.3510417309197764, 0.14083899715516177, -1.1861006093411341, 0.06372821563374959, -0.5482268710062057, 0.5358156468037663, 1.860518121810859, 1.0586200684408351, -0.0639731090133942, -0.08212677769362468, -1.3644617085653952, 2.306486236434318, 0.2299424870881697, 0.277553325627394, -0.7310389683951801, 0.7855790026429404, 1.991062673583806, 0.42083892064389616, 0.3312184872102766, -0.948280317204048, -0.9568068650540437, 0.06219846171557773, -0.6894903418517699, 0.9426582104357005, -0.6549530029210485, -0.27693993710331516, 0.5794679612177993, -0.17445332930955162, 1.973689765686015, -1.1221081740462968, -0.5689439814189605, -0.812476104079502, 2.106994461930286, 0.32736395155534453, 0.1312433407250468, -0.18047861897329853, -0.772626615251416, 0.3228290458457046, -0.3876374046636482, 0.1833422829766309, 1.9087468843804094, -0.15516628138100658, -1.4163623544697346, 0.6147553608766299, 0.6285689877845728, 0.46983514730252834, -1.891043424119729, -0.41109171089752206, -0.19882089607141482, 0.26050507326347166, -0.021940889213982018, 0.35818838870948727, 0.8607668916844468, -0.76838927683406, -0.627976710508572, -0.6366917226484422, 0.04068231456785195, 1.0800854230491712, -0.5362280813309173, 0.9978930275747946, -1.7791250497361506, -0.677962460840107, 0.7572816499590634, -0.287425248846891, -0.47888022308913814, -1.1274959646162466, 0.2324095143049378, 0.8683229396351135, 1.829117056821466, -1.816751591989605, -0.5924861572089956, 0.8017402458379345, -1.4002762640497939]}],\n",
       "                        {\"legend\": {\"bgcolor\": \"#F5F6F9\", \"font\": {\"color\": \"#4D5663\"}}, \"paper_bgcolor\": \"#F5F6F9\", \"plot_bgcolor\": \"#F5F6F9\", \"template\": {\"data\": {\"bar\": [{\"error_x\": {\"color\": \"#2a3f5f\"}, \"error_y\": {\"color\": \"#2a3f5f\"}, \"marker\": {\"line\": {\"color\": \"#E5ECF6\", \"width\": 0.5}}, \"type\": \"bar\"}], \"barpolar\": [{\"marker\": {\"line\": {\"color\": \"#E5ECF6\", \"width\": 0.5}}, \"type\": \"barpolar\"}], \"carpet\": [{\"aaxis\": {\"endlinecolor\": \"#2a3f5f\", \"gridcolor\": \"white\", \"linecolor\": \"white\", \"minorgridcolor\": \"white\", \"startlinecolor\": \"#2a3f5f\"}, \"baxis\": {\"endlinecolor\": \"#2a3f5f\", \"gridcolor\": \"white\", \"linecolor\": \"white\", \"minorgridcolor\": \"white\", \"startlinecolor\": \"#2a3f5f\"}, \"type\": \"carpet\"}], \"choropleth\": [{\"colorbar\": {\"outlinewidth\": 0, \"ticks\": \"\"}, \"type\": \"choropleth\"}], \"contour\": [{\"colorbar\": {\"outlinewidth\": 0, \"ticks\": \"\"}, \"colorscale\": [[0.0, \"#0d0887\"], [0.1111111111111111, \"#46039f\"], [0.2222222222222222, \"#7201a8\"], [0.3333333333333333, \"#9c179e\"], [0.4444444444444444, \"#bd3786\"], [0.5555555555555556, \"#d8576b\"], [0.6666666666666666, \"#ed7953\"], [0.7777777777777778, \"#fb9f3a\"], [0.8888888888888888, \"#fdca26\"], [1.0, \"#f0f921\"]], \"type\": \"contour\"}], \"contourcarpet\": [{\"colorbar\": {\"outlinewidth\": 0, \"ticks\": \"\"}, \"type\": \"contourcarpet\"}], \"heatmap\": [{\"colorbar\": {\"outlinewidth\": 0, \"ticks\": \"\"}, \"colorscale\": [[0.0, \"#0d0887\"], [0.1111111111111111, \"#46039f\"], [0.2222222222222222, \"#7201a8\"], [0.3333333333333333, \"#9c179e\"], [0.4444444444444444, \"#bd3786\"], [0.5555555555555556, \"#d8576b\"], [0.6666666666666666, \"#ed7953\"], [0.7777777777777778, \"#fb9f3a\"], [0.8888888888888888, \"#fdca26\"], [1.0, \"#f0f921\"]], \"type\": \"heatmap\"}], \"heatmapgl\": [{\"colorbar\": {\"outlinewidth\": 0, \"ticks\": \"\"}, \"colorscale\": [[0.0, \"#0d0887\"], [0.1111111111111111, \"#46039f\"], [0.2222222222222222, \"#7201a8\"], [0.3333333333333333, \"#9c179e\"], [0.4444444444444444, \"#bd3786\"], [0.5555555555555556, \"#d8576b\"], [0.6666666666666666, \"#ed7953\"], [0.7777777777777778, \"#fb9f3a\"], [0.8888888888888888, \"#fdca26\"], [1.0, \"#f0f921\"]], \"type\": \"heatmapgl\"}], \"histogram\": [{\"marker\": {\"colorbar\": {\"outlinewidth\": 0, \"ticks\": \"\"}}, \"type\": \"histogram\"}], \"histogram2d\": [{\"colorbar\": {\"outlinewidth\": 0, \"ticks\": \"\"}, \"colorscale\": [[0.0, \"#0d0887\"], [0.1111111111111111, \"#46039f\"], [0.2222222222222222, \"#7201a8\"], [0.3333333333333333, \"#9c179e\"], [0.4444444444444444, \"#bd3786\"], [0.5555555555555556, \"#d8576b\"], [0.6666666666666666, \"#ed7953\"], [0.7777777777777778, \"#fb9f3a\"], [0.8888888888888888, \"#fdca26\"], [1.0, \"#f0f921\"]], \"type\": \"histogram2d\"}], \"histogram2dcontour\": [{\"colorbar\": {\"outlinewidth\": 0, \"ticks\": \"\"}, \"colorscale\": [[0.0, \"#0d0887\"], [0.1111111111111111, \"#46039f\"], [0.2222222222222222, \"#7201a8\"], [0.3333333333333333, \"#9c179e\"], [0.4444444444444444, \"#bd3786\"], [0.5555555555555556, \"#d8576b\"], [0.6666666666666666, \"#ed7953\"], [0.7777777777777778, \"#fb9f3a\"], [0.8888888888888888, \"#fdca26\"], [1.0, \"#f0f921\"]], \"type\": \"histogram2dcontour\"}], \"mesh3d\": [{\"colorbar\": {\"outlinewidth\": 0, \"ticks\": \"\"}, \"type\": \"mesh3d\"}], \"parcoords\": [{\"line\": {\"colorbar\": {\"outlinewidth\": 0, \"ticks\": \"\"}}, \"type\": \"parcoords\"}], \"pie\": [{\"automargin\": true, \"type\": \"pie\"}], \"scatter\": [{\"marker\": {\"colorbar\": {\"outlinewidth\": 0, \"ticks\": \"\"}}, \"type\": \"scatter\"}], \"scatter3d\": [{\"line\": {\"colorbar\": {\"outlinewidth\": 0, \"ticks\": \"\"}}, \"marker\": {\"colorbar\": {\"outlinewidth\": 0, \"ticks\": \"\"}}, \"type\": \"scatter3d\"}], \"scattercarpet\": [{\"marker\": {\"colorbar\": {\"outlinewidth\": 0, \"ticks\": \"\"}}, \"type\": \"scattercarpet\"}], \"scattergeo\": [{\"marker\": {\"colorbar\": {\"outlinewidth\": 0, \"ticks\": \"\"}}, \"type\": \"scattergeo\"}], \"scattergl\": [{\"marker\": {\"colorbar\": {\"outlinewidth\": 0, \"ticks\": \"\"}}, \"type\": \"scattergl\"}], \"scattermapbox\": [{\"marker\": {\"colorbar\": {\"outlinewidth\": 0, \"ticks\": \"\"}}, \"type\": \"scattermapbox\"}], \"scatterpolar\": [{\"marker\": {\"colorbar\": {\"outlinewidth\": 0, \"ticks\": \"\"}}, \"type\": \"scatterpolar\"}], \"scatterpolargl\": [{\"marker\": {\"colorbar\": {\"outlinewidth\": 0, \"ticks\": \"\"}}, \"type\": \"scatterpolargl\"}], \"scatterternary\": [{\"marker\": {\"colorbar\": {\"outlinewidth\": 0, \"ticks\": \"\"}}, \"type\": \"scatterternary\"}], \"surface\": [{\"colorbar\": {\"outlinewidth\": 0, \"ticks\": \"\"}, \"colorscale\": [[0.0, \"#0d0887\"], [0.1111111111111111, \"#46039f\"], [0.2222222222222222, \"#7201a8\"], [0.3333333333333333, \"#9c179e\"], [0.4444444444444444, \"#bd3786\"], [0.5555555555555556, \"#d8576b\"], [0.6666666666666666, \"#ed7953\"], [0.7777777777777778, \"#fb9f3a\"], [0.8888888888888888, \"#fdca26\"], [1.0, \"#f0f921\"]], \"type\": \"surface\"}], \"table\": [{\"cells\": {\"fill\": {\"color\": \"#EBF0F8\"}, \"line\": {\"color\": \"white\"}}, \"header\": {\"fill\": {\"color\": \"#C8D4E3\"}, \"line\": {\"color\": \"white\"}}, \"type\": \"table\"}]}, \"layout\": {\"annotationdefaults\": {\"arrowcolor\": \"#2a3f5f\", \"arrowhead\": 0, \"arrowwidth\": 1}, \"coloraxis\": {\"colorbar\": {\"outlinewidth\": 0, \"ticks\": \"\"}}, \"colorscale\": {\"diverging\": [[0, \"#8e0152\"], [0.1, \"#c51b7d\"], [0.2, \"#de77ae\"], [0.3, \"#f1b6da\"], [0.4, \"#fde0ef\"], [0.5, \"#f7f7f7\"], [0.6, \"#e6f5d0\"], [0.7, \"#b8e186\"], [0.8, \"#7fbc41\"], [0.9, \"#4d9221\"], [1, \"#276419\"]], \"sequential\": [[0.0, \"#0d0887\"], [0.1111111111111111, \"#46039f\"], [0.2222222222222222, \"#7201a8\"], [0.3333333333333333, \"#9c179e\"], [0.4444444444444444, \"#bd3786\"], [0.5555555555555556, \"#d8576b\"], [0.6666666666666666, \"#ed7953\"], [0.7777777777777778, \"#fb9f3a\"], [0.8888888888888888, \"#fdca26\"], [1.0, \"#f0f921\"]], \"sequentialminus\": [[0.0, \"#0d0887\"], [0.1111111111111111, \"#46039f\"], [0.2222222222222222, \"#7201a8\"], [0.3333333333333333, \"#9c179e\"], [0.4444444444444444, \"#bd3786\"], [0.5555555555555556, \"#d8576b\"], [0.6666666666666666, \"#ed7953\"], [0.7777777777777778, \"#fb9f3a\"], [0.8888888888888888, \"#fdca26\"], [1.0, \"#f0f921\"]]}, \"colorway\": [\"#636efa\", \"#EF553B\", \"#00cc96\", \"#ab63fa\", \"#FFA15A\", \"#19d3f3\", \"#FF6692\", \"#B6E880\", \"#FF97FF\", \"#FECB52\"], \"font\": {\"color\": \"#2a3f5f\"}, \"geo\": {\"bgcolor\": \"white\", \"lakecolor\": \"white\", \"landcolor\": \"#E5ECF6\", \"showlakes\": true, \"showland\": true, \"subunitcolor\": \"white\"}, \"hoverlabel\": {\"align\": \"left\"}, \"hovermode\": \"closest\", \"mapbox\": {\"style\": \"light\"}, \"paper_bgcolor\": \"white\", \"plot_bgcolor\": \"#E5ECF6\", \"polar\": {\"angularaxis\": {\"gridcolor\": \"white\", \"linecolor\": \"white\", \"ticks\": \"\"}, \"bgcolor\": \"#E5ECF6\", \"radialaxis\": {\"gridcolor\": \"white\", \"linecolor\": \"white\", \"ticks\": \"\"}}, \"scene\": {\"xaxis\": {\"backgroundcolor\": \"#E5ECF6\", \"gridcolor\": \"white\", \"gridwidth\": 2, \"linecolor\": \"white\", \"showbackground\": true, \"ticks\": \"\", \"zerolinecolor\": \"white\"}, \"yaxis\": {\"backgroundcolor\": \"#E5ECF6\", \"gridcolor\": \"white\", \"gridwidth\": 2, \"linecolor\": \"white\", \"showbackground\": true, \"ticks\": \"\", \"zerolinecolor\": \"white\"}, \"zaxis\": {\"backgroundcolor\": \"#E5ECF6\", \"gridcolor\": \"white\", \"gridwidth\": 2, \"linecolor\": \"white\", \"showbackground\": true, \"ticks\": \"\", \"zerolinecolor\": \"white\"}}, \"shapedefaults\": {\"line\": {\"color\": \"#2a3f5f\"}}, \"ternary\": {\"aaxis\": {\"gridcolor\": \"white\", \"linecolor\": \"white\", \"ticks\": \"\"}, \"baxis\": {\"gridcolor\": \"white\", \"linecolor\": \"white\", \"ticks\": \"\"}, \"bgcolor\": \"#E5ECF6\", \"caxis\": {\"gridcolor\": \"white\", \"linecolor\": \"white\", \"ticks\": \"\"}}, \"title\": {\"x\": 0.05}, \"xaxis\": {\"automargin\": true, \"gridcolor\": \"white\", \"linecolor\": \"white\", \"ticks\": \"\", \"title\": {\"standoff\": 15}, \"zerolinecolor\": \"white\", \"zerolinewidth\": 2}, \"yaxis\": {\"automargin\": true, \"gridcolor\": \"white\", \"linecolor\": \"white\", \"ticks\": \"\", \"title\": {\"standoff\": 15}, \"zerolinecolor\": \"white\", \"zerolinewidth\": 2}}}, \"title\": {\"font\": {\"color\": \"#4D5663\"}}, \"xaxis\": {\"gridcolor\": \"#E1E5ED\", \"showgrid\": true, \"tickfont\": {\"color\": \"#4D5663\"}, \"title\": {\"font\": {\"color\": \"#4D5663\"}, \"text\": \"\"}, \"zerolinecolor\": \"#E1E5ED\"}, \"yaxis\": {\"gridcolor\": \"#E1E5ED\", \"showgrid\": true, \"tickfont\": {\"color\": \"#4D5663\"}, \"title\": {\"font\": {\"color\": \"#4D5663\"}, \"text\": \"\"}, \"zerolinecolor\": \"#E1E5ED\"}},\n",
       "                        {\"showLink\": true, \"linkText\": \"Export to plot.ly\", \"plotlyServerURL\": \"https://plot.ly\", \"responsive\": true}\n",
       "                    ).then(function(){\n",
       "                            \n",
       "var gd = document.getElementById('16fea731-d944-4c42-b8fc-87b232dc47d0');\n",
       "var x = new MutationObserver(function (mutations, observer) {{\n",
       "        var display = window.getComputedStyle(gd).display;\n",
       "        if (!display || display === 'none') {{\n",
       "            console.log([gd, 'removed!']);\n",
       "            Plotly.purge(gd);\n",
       "            observer.disconnect();\n",
       "        }}\n",
       "}});\n",
       "\n",
       "// Listen for the removal of the full notebook cells\n",
       "var notebookContainer = gd.closest('#notebook-container');\n",
       "if (notebookContainer) {{\n",
       "    x.observe(notebookContainer, {childList: true});\n",
       "}}\n",
       "\n",
       "// Listen for the clearing of the current output cell\n",
       "var outputEl = gd.closest('.output');\n",
       "if (outputEl) {{\n",
       "    x.observe(outputEl, {childList: true});\n",
       "}}\n",
       "\n",
       "                        })\n",
       "                };\n",
       "                });\n",
       "            </script>\n",
       "        </div>"
      ]
     },
     "metadata": {},
     "output_type": "display_data"
    }
   ],
   "source": [
    "df.iplot(kind='scatter',x='A',y='B',mode='markers')"
   ]
  },
  {
   "cell_type": "code",
   "execution_count": 25,
   "metadata": {},
   "outputs": [
    {
     "data": {
      "application/vnd.plotly.v1+json": {
       "config": {
        "linkText": "Export to plot.ly",
        "plotlyServerURL": "https://plot.ly",
        "showLink": true
       },
       "data": [
        {
         "line": {
          "color": "rgba(255, 153, 51, 1.0)",
          "dash": "solid",
          "shape": "linear",
          "width": 1.3
         },
         "marker": {
          "size": 20,
          "symbol": "circle"
         },
         "mode": "markers",
         "name": "B",
         "text": "",
         "type": "scatter",
         "x": [
          1.9072310072255976,
          0.45664251731057026,
          1.8735593319249753,
          -1.2764623848263121,
          1.3628530085372335,
          -0.4325085498941139,
          -2.130565106550025,
          -0.3478882665499311,
          -1.8065591069816318,
          1.2802855972530267,
          0.9099690101147678,
          -0.7254302350257974,
          -1.357689466572614,
          -0.2924728207932572,
          -0.6520631482874802,
          0.004148547838381575,
          0.6844015451212803,
          0.4768351538690697,
          0.6533129371097708,
          -0.8033735902053046,
          0.10436594645935798,
          0.5988000624309174,
          -0.6343639773656216,
          -0.13527773819219185,
          -0.20256767414639978,
          -0.015873236886170233,
          1.0333180007396285,
          0.6233280465126437,
          1.8054087268203456,
          -0.3483139337287294,
          -1.6450789071911471,
          -0.07367633128762816,
          0.9661664795196275,
          -3.554540119417503,
          -0.3517884347890016,
          -0.011080518665749637,
          0.621422551146316,
          -1.2531579594339688,
          -0.10051082015301586,
          -0.24054607341946016,
          -0.3839538033661071,
          -1.0575974259826995,
          -1.752757339947482,
          0.2774973963127115,
          -1.4494616998409102,
          0.16015295976718663,
          -1.5104556329789018,
          -0.8063273303499235,
          -0.3947630414938095,
          0.43441231346843795,
          1.226504273411426,
          0.2024939514122735,
          -0.00835533148028108,
          -0.36256325006618495,
          0.5359156853817274,
          -1.0969121025292958,
          0.43187469434509806,
          0.8496889764272824,
          -1.2082731388454349,
          -1.7089121213718867,
          -0.5170724026485997,
          -0.03994284400890909,
          -0.25932188432990816,
          0.07953898183032124,
          1.0458832881768172,
          -1.9579149340336046,
          0.5453127632430007,
          1.854844673262272,
          -2.5673923034531083,
          -0.09091067989192657,
          -0.3884470822677006,
          -1.8469698500964709,
          -1.5158324196916066,
          -0.38138223397344256,
          -0.05805129919084255,
          1.087493238981735,
          0.7534415222757022,
          -0.6284540050680987,
          -0.38751599288043437,
          -1.2084618045487636,
          0.0514634408368774,
          -1.082918557354612,
          -0.4992107264311093,
          -1.9452028837154631,
          0.7273056387902339,
          -0.8955610849268126,
          -0.8234617655936936,
          0.532065163647017,
          -1.1028862381850142,
          -1.7582423251578894,
          -1.3791246147712828,
          0.10042152710117103,
          -0.5716713526590748,
          -0.9735284618191417,
          -0.058716214204821274,
          0.5119956539665943,
          0.11718988426468993,
          0.006329341436323806,
          -0.620841952508306,
          0.8187717540053973
         ],
         "y": [
          0.5397341984256421,
          1.4273648820401585,
          -0.2699470460701567,
          -0.009205707259470066,
          0.38245509704051034,
          -0.6121410983025236,
          1.471122536385358,
          0.008852038627531702,
          -1.0322725314491903,
          0.8203466329622852,
          0.40274543333508517,
          1.1710113832309024,
          -0.8490119147891786,
          0.37012452704623977,
          0.6727839097825701,
          -0.7146490926729023,
          -1.1710925815152915,
          0.829667151217231,
          1.6254325510413408,
          -0.03523386729780477,
          0.8344690832208976,
          -0.013325006634558746,
          0.731317913467702,
          -0.34730864357214936,
          0.43023502387456686,
          1.4329446581756315,
          -0.7491845032709245,
          0.3510417309197764,
          0.14083899715516177,
          -1.1861006093411341,
          0.06372821563374959,
          -0.5482268710062057,
          0.5358156468037663,
          1.860518121810859,
          1.0586200684408351,
          -0.0639731090133942,
          -0.08212677769362468,
          -1.3644617085653952,
          2.306486236434318,
          0.2299424870881697,
          0.277553325627394,
          -0.7310389683951801,
          0.7855790026429404,
          1.991062673583806,
          0.42083892064389616,
          0.3312184872102766,
          -0.948280317204048,
          -0.9568068650540437,
          0.06219846171557773,
          -0.6894903418517699,
          0.9426582104357005,
          -0.6549530029210485,
          -0.27693993710331516,
          0.5794679612177993,
          -0.17445332930955162,
          1.973689765686015,
          -1.1221081740462968,
          -0.5689439814189605,
          -0.812476104079502,
          2.106994461930286,
          0.32736395155534453,
          0.1312433407250468,
          -0.18047861897329853,
          -0.772626615251416,
          0.3228290458457046,
          -0.3876374046636482,
          0.1833422829766309,
          1.9087468843804094,
          -0.15516628138100658,
          -1.4163623544697346,
          0.6147553608766299,
          0.6285689877845728,
          0.46983514730252834,
          -1.891043424119729,
          -0.41109171089752206,
          -0.19882089607141482,
          0.26050507326347166,
          -0.021940889213982018,
          0.35818838870948727,
          0.8607668916844468,
          -0.76838927683406,
          -0.627976710508572,
          -0.6366917226484422,
          0.04068231456785195,
          1.0800854230491712,
          -0.5362280813309173,
          0.9978930275747946,
          -1.7791250497361506,
          -0.677962460840107,
          0.7572816499590634,
          -0.287425248846891,
          -0.47888022308913814,
          -1.1274959646162466,
          0.2324095143049378,
          0.8683229396351135,
          1.829117056821466,
          -1.816751591989605,
          -0.5924861572089956,
          0.8017402458379345,
          -1.4002762640497939
         ]
        }
       ],
       "layout": {
        "legend": {
         "bgcolor": "#F5F6F9",
         "font": {
          "color": "#4D5663"
         }
        },
        "paper_bgcolor": "#F5F6F9",
        "plot_bgcolor": "#F5F6F9",
        "template": {
         "data": {
          "bar": [
           {
            "error_x": {
             "color": "#2a3f5f"
            },
            "error_y": {
             "color": "#2a3f5f"
            },
            "marker": {
             "line": {
              "color": "#E5ECF6",
              "width": 0.5
             }
            },
            "type": "bar"
           }
          ],
          "barpolar": [
           {
            "marker": {
             "line": {
              "color": "#E5ECF6",
              "width": 0.5
             }
            },
            "type": "barpolar"
           }
          ],
          "carpet": [
           {
            "aaxis": {
             "endlinecolor": "#2a3f5f",
             "gridcolor": "white",
             "linecolor": "white",
             "minorgridcolor": "white",
             "startlinecolor": "#2a3f5f"
            },
            "baxis": {
             "endlinecolor": "#2a3f5f",
             "gridcolor": "white",
             "linecolor": "white",
             "minorgridcolor": "white",
             "startlinecolor": "#2a3f5f"
            },
            "type": "carpet"
           }
          ],
          "choropleth": [
           {
            "colorbar": {
             "outlinewidth": 0,
             "ticks": ""
            },
            "type": "choropleth"
           }
          ],
          "contour": [
           {
            "colorbar": {
             "outlinewidth": 0,
             "ticks": ""
            },
            "colorscale": [
             [
              0,
              "#0d0887"
             ],
             [
              0.1111111111111111,
              "#46039f"
             ],
             [
              0.2222222222222222,
              "#7201a8"
             ],
             [
              0.3333333333333333,
              "#9c179e"
             ],
             [
              0.4444444444444444,
              "#bd3786"
             ],
             [
              0.5555555555555556,
              "#d8576b"
             ],
             [
              0.6666666666666666,
              "#ed7953"
             ],
             [
              0.7777777777777778,
              "#fb9f3a"
             ],
             [
              0.8888888888888888,
              "#fdca26"
             ],
             [
              1,
              "#f0f921"
             ]
            ],
            "type": "contour"
           }
          ],
          "contourcarpet": [
           {
            "colorbar": {
             "outlinewidth": 0,
             "ticks": ""
            },
            "type": "contourcarpet"
           }
          ],
          "heatmap": [
           {
            "colorbar": {
             "outlinewidth": 0,
             "ticks": ""
            },
            "colorscale": [
             [
              0,
              "#0d0887"
             ],
             [
              0.1111111111111111,
              "#46039f"
             ],
             [
              0.2222222222222222,
              "#7201a8"
             ],
             [
              0.3333333333333333,
              "#9c179e"
             ],
             [
              0.4444444444444444,
              "#bd3786"
             ],
             [
              0.5555555555555556,
              "#d8576b"
             ],
             [
              0.6666666666666666,
              "#ed7953"
             ],
             [
              0.7777777777777778,
              "#fb9f3a"
             ],
             [
              0.8888888888888888,
              "#fdca26"
             ],
             [
              1,
              "#f0f921"
             ]
            ],
            "type": "heatmap"
           }
          ],
          "heatmapgl": [
           {
            "colorbar": {
             "outlinewidth": 0,
             "ticks": ""
            },
            "colorscale": [
             [
              0,
              "#0d0887"
             ],
             [
              0.1111111111111111,
              "#46039f"
             ],
             [
              0.2222222222222222,
              "#7201a8"
             ],
             [
              0.3333333333333333,
              "#9c179e"
             ],
             [
              0.4444444444444444,
              "#bd3786"
             ],
             [
              0.5555555555555556,
              "#d8576b"
             ],
             [
              0.6666666666666666,
              "#ed7953"
             ],
             [
              0.7777777777777778,
              "#fb9f3a"
             ],
             [
              0.8888888888888888,
              "#fdca26"
             ],
             [
              1,
              "#f0f921"
             ]
            ],
            "type": "heatmapgl"
           }
          ],
          "histogram": [
           {
            "marker": {
             "colorbar": {
              "outlinewidth": 0,
              "ticks": ""
             }
            },
            "type": "histogram"
           }
          ],
          "histogram2d": [
           {
            "colorbar": {
             "outlinewidth": 0,
             "ticks": ""
            },
            "colorscale": [
             [
              0,
              "#0d0887"
             ],
             [
              0.1111111111111111,
              "#46039f"
             ],
             [
              0.2222222222222222,
              "#7201a8"
             ],
             [
              0.3333333333333333,
              "#9c179e"
             ],
             [
              0.4444444444444444,
              "#bd3786"
             ],
             [
              0.5555555555555556,
              "#d8576b"
             ],
             [
              0.6666666666666666,
              "#ed7953"
             ],
             [
              0.7777777777777778,
              "#fb9f3a"
             ],
             [
              0.8888888888888888,
              "#fdca26"
             ],
             [
              1,
              "#f0f921"
             ]
            ],
            "type": "histogram2d"
           }
          ],
          "histogram2dcontour": [
           {
            "colorbar": {
             "outlinewidth": 0,
             "ticks": ""
            },
            "colorscale": [
             [
              0,
              "#0d0887"
             ],
             [
              0.1111111111111111,
              "#46039f"
             ],
             [
              0.2222222222222222,
              "#7201a8"
             ],
             [
              0.3333333333333333,
              "#9c179e"
             ],
             [
              0.4444444444444444,
              "#bd3786"
             ],
             [
              0.5555555555555556,
              "#d8576b"
             ],
             [
              0.6666666666666666,
              "#ed7953"
             ],
             [
              0.7777777777777778,
              "#fb9f3a"
             ],
             [
              0.8888888888888888,
              "#fdca26"
             ],
             [
              1,
              "#f0f921"
             ]
            ],
            "type": "histogram2dcontour"
           }
          ],
          "mesh3d": [
           {
            "colorbar": {
             "outlinewidth": 0,
             "ticks": ""
            },
            "type": "mesh3d"
           }
          ],
          "parcoords": [
           {
            "line": {
             "colorbar": {
              "outlinewidth": 0,
              "ticks": ""
             }
            },
            "type": "parcoords"
           }
          ],
          "pie": [
           {
            "automargin": true,
            "type": "pie"
           }
          ],
          "scatter": [
           {
            "marker": {
             "colorbar": {
              "outlinewidth": 0,
              "ticks": ""
             }
            },
            "type": "scatter"
           }
          ],
          "scatter3d": [
           {
            "line": {
             "colorbar": {
              "outlinewidth": 0,
              "ticks": ""
             }
            },
            "marker": {
             "colorbar": {
              "outlinewidth": 0,
              "ticks": ""
             }
            },
            "type": "scatter3d"
           }
          ],
          "scattercarpet": [
           {
            "marker": {
             "colorbar": {
              "outlinewidth": 0,
              "ticks": ""
             }
            },
            "type": "scattercarpet"
           }
          ],
          "scattergeo": [
           {
            "marker": {
             "colorbar": {
              "outlinewidth": 0,
              "ticks": ""
             }
            },
            "type": "scattergeo"
           }
          ],
          "scattergl": [
           {
            "marker": {
             "colorbar": {
              "outlinewidth": 0,
              "ticks": ""
             }
            },
            "type": "scattergl"
           }
          ],
          "scattermapbox": [
           {
            "marker": {
             "colorbar": {
              "outlinewidth": 0,
              "ticks": ""
             }
            },
            "type": "scattermapbox"
           }
          ],
          "scatterpolar": [
           {
            "marker": {
             "colorbar": {
              "outlinewidth": 0,
              "ticks": ""
             }
            },
            "type": "scatterpolar"
           }
          ],
          "scatterpolargl": [
           {
            "marker": {
             "colorbar": {
              "outlinewidth": 0,
              "ticks": ""
             }
            },
            "type": "scatterpolargl"
           }
          ],
          "scatterternary": [
           {
            "marker": {
             "colorbar": {
              "outlinewidth": 0,
              "ticks": ""
             }
            },
            "type": "scatterternary"
           }
          ],
          "surface": [
           {
            "colorbar": {
             "outlinewidth": 0,
             "ticks": ""
            },
            "colorscale": [
             [
              0,
              "#0d0887"
             ],
             [
              0.1111111111111111,
              "#46039f"
             ],
             [
              0.2222222222222222,
              "#7201a8"
             ],
             [
              0.3333333333333333,
              "#9c179e"
             ],
             [
              0.4444444444444444,
              "#bd3786"
             ],
             [
              0.5555555555555556,
              "#d8576b"
             ],
             [
              0.6666666666666666,
              "#ed7953"
             ],
             [
              0.7777777777777778,
              "#fb9f3a"
             ],
             [
              0.8888888888888888,
              "#fdca26"
             ],
             [
              1,
              "#f0f921"
             ]
            ],
            "type": "surface"
           }
          ],
          "table": [
           {
            "cells": {
             "fill": {
              "color": "#EBF0F8"
             },
             "line": {
              "color": "white"
             }
            },
            "header": {
             "fill": {
              "color": "#C8D4E3"
             },
             "line": {
              "color": "white"
             }
            },
            "type": "table"
           }
          ]
         },
         "layout": {
          "annotationdefaults": {
           "arrowcolor": "#2a3f5f",
           "arrowhead": 0,
           "arrowwidth": 1
          },
          "coloraxis": {
           "colorbar": {
            "outlinewidth": 0,
            "ticks": ""
           }
          },
          "colorscale": {
           "diverging": [
            [
             0,
             "#8e0152"
            ],
            [
             0.1,
             "#c51b7d"
            ],
            [
             0.2,
             "#de77ae"
            ],
            [
             0.3,
             "#f1b6da"
            ],
            [
             0.4,
             "#fde0ef"
            ],
            [
             0.5,
             "#f7f7f7"
            ],
            [
             0.6,
             "#e6f5d0"
            ],
            [
             0.7,
             "#b8e186"
            ],
            [
             0.8,
             "#7fbc41"
            ],
            [
             0.9,
             "#4d9221"
            ],
            [
             1,
             "#276419"
            ]
           ],
           "sequential": [
            [
             0,
             "#0d0887"
            ],
            [
             0.1111111111111111,
             "#46039f"
            ],
            [
             0.2222222222222222,
             "#7201a8"
            ],
            [
             0.3333333333333333,
             "#9c179e"
            ],
            [
             0.4444444444444444,
             "#bd3786"
            ],
            [
             0.5555555555555556,
             "#d8576b"
            ],
            [
             0.6666666666666666,
             "#ed7953"
            ],
            [
             0.7777777777777778,
             "#fb9f3a"
            ],
            [
             0.8888888888888888,
             "#fdca26"
            ],
            [
             1,
             "#f0f921"
            ]
           ],
           "sequentialminus": [
            [
             0,
             "#0d0887"
            ],
            [
             0.1111111111111111,
             "#46039f"
            ],
            [
             0.2222222222222222,
             "#7201a8"
            ],
            [
             0.3333333333333333,
             "#9c179e"
            ],
            [
             0.4444444444444444,
             "#bd3786"
            ],
            [
             0.5555555555555556,
             "#d8576b"
            ],
            [
             0.6666666666666666,
             "#ed7953"
            ],
            [
             0.7777777777777778,
             "#fb9f3a"
            ],
            [
             0.8888888888888888,
             "#fdca26"
            ],
            [
             1,
             "#f0f921"
            ]
           ]
          },
          "colorway": [
           "#636efa",
           "#EF553B",
           "#00cc96",
           "#ab63fa",
           "#FFA15A",
           "#19d3f3",
           "#FF6692",
           "#B6E880",
           "#FF97FF",
           "#FECB52"
          ],
          "font": {
           "color": "#2a3f5f"
          },
          "geo": {
           "bgcolor": "white",
           "lakecolor": "white",
           "landcolor": "#E5ECF6",
           "showlakes": true,
           "showland": true,
           "subunitcolor": "white"
          },
          "hoverlabel": {
           "align": "left"
          },
          "hovermode": "closest",
          "mapbox": {
           "style": "light"
          },
          "paper_bgcolor": "white",
          "plot_bgcolor": "#E5ECF6",
          "polar": {
           "angularaxis": {
            "gridcolor": "white",
            "linecolor": "white",
            "ticks": ""
           },
           "bgcolor": "#E5ECF6",
           "radialaxis": {
            "gridcolor": "white",
            "linecolor": "white",
            "ticks": ""
           }
          },
          "scene": {
           "xaxis": {
            "backgroundcolor": "#E5ECF6",
            "gridcolor": "white",
            "gridwidth": 2,
            "linecolor": "white",
            "showbackground": true,
            "ticks": "",
            "zerolinecolor": "white"
           },
           "yaxis": {
            "backgroundcolor": "#E5ECF6",
            "gridcolor": "white",
            "gridwidth": 2,
            "linecolor": "white",
            "showbackground": true,
            "ticks": "",
            "zerolinecolor": "white"
           },
           "zaxis": {
            "backgroundcolor": "#E5ECF6",
            "gridcolor": "white",
            "gridwidth": 2,
            "linecolor": "white",
            "showbackground": true,
            "ticks": "",
            "zerolinecolor": "white"
           }
          },
          "shapedefaults": {
           "line": {
            "color": "#2a3f5f"
           }
          },
          "ternary": {
           "aaxis": {
            "gridcolor": "white",
            "linecolor": "white",
            "ticks": ""
           },
           "baxis": {
            "gridcolor": "white",
            "linecolor": "white",
            "ticks": ""
           },
           "bgcolor": "#E5ECF6",
           "caxis": {
            "gridcolor": "white",
            "linecolor": "white",
            "ticks": ""
           }
          },
          "title": {
           "x": 0.05
          },
          "xaxis": {
           "automargin": true,
           "gridcolor": "white",
           "linecolor": "white",
           "ticks": "",
           "title": {
            "standoff": 15
           },
           "zerolinecolor": "white",
           "zerolinewidth": 2
          },
          "yaxis": {
           "automargin": true,
           "gridcolor": "white",
           "linecolor": "white",
           "ticks": "",
           "title": {
            "standoff": 15
           },
           "zerolinecolor": "white",
           "zerolinewidth": 2
          }
         }
        },
        "title": {
         "font": {
          "color": "#4D5663"
         }
        },
        "xaxis": {
         "gridcolor": "#E1E5ED",
         "showgrid": true,
         "tickfont": {
          "color": "#4D5663"
         },
         "title": {
          "font": {
           "color": "#4D5663"
          },
          "text": ""
         },
         "zerolinecolor": "#E1E5ED"
        },
        "yaxis": {
         "gridcolor": "#E1E5ED",
         "showgrid": true,
         "tickfont": {
          "color": "#4D5663"
         },
         "title": {
          "font": {
           "color": "#4D5663"
          },
          "text": ""
         },
         "zerolinecolor": "#E1E5ED"
        }
       }
      },
      "text/html": [
       "<div>\n",
       "        \n",
       "        \n",
       "            <div id=\"25b66a77-eb70-4b3f-ab81-912a0c299387\" class=\"plotly-graph-div\" style=\"height:525px; width:100%;\"></div>\n",
       "            <script type=\"text/javascript\">\n",
       "                require([\"plotly\"], function(Plotly) {\n",
       "                    window.PLOTLYENV=window.PLOTLYENV || {};\n",
       "                    window.PLOTLYENV.BASE_URL='https://plot.ly';\n",
       "                    \n",
       "                if (document.getElementById(\"25b66a77-eb70-4b3f-ab81-912a0c299387\")) {\n",
       "                    Plotly.newPlot(\n",
       "                        '25b66a77-eb70-4b3f-ab81-912a0c299387',\n",
       "                        [{\"line\": {\"color\": \"rgba(255, 153, 51, 1.0)\", \"dash\": \"solid\", \"shape\": \"linear\", \"width\": 1.3}, \"marker\": {\"size\": 20, \"symbol\": \"circle\"}, \"mode\": \"markers\", \"name\": \"B\", \"text\": \"\", \"type\": \"scatter\", \"x\": [1.9072310072255976, 0.45664251731057026, 1.8735593319249753, -1.2764623848263121, 1.3628530085372335, -0.4325085498941139, -2.130565106550025, -0.3478882665499311, -1.8065591069816318, 1.2802855972530267, 0.9099690101147678, -0.7254302350257974, -1.357689466572614, -0.2924728207932572, -0.6520631482874802, 0.004148547838381575, 0.6844015451212803, 0.4768351538690697, 0.6533129371097708, -0.8033735902053046, 0.10436594645935798, 0.5988000624309174, -0.6343639773656216, -0.13527773819219185, -0.20256767414639978, -0.015873236886170233, 1.0333180007396285, 0.6233280465126437, 1.8054087268203456, -0.3483139337287294, -1.6450789071911471, -0.07367633128762816, 0.9661664795196275, -3.554540119417503, -0.3517884347890016, -0.011080518665749637, 0.621422551146316, -1.2531579594339688, -0.10051082015301586, -0.24054607341946016, -0.3839538033661071, -1.0575974259826995, -1.752757339947482, 0.2774973963127115, -1.4494616998409102, 0.16015295976718663, -1.5104556329789018, -0.8063273303499235, -0.3947630414938095, 0.43441231346843795, 1.226504273411426, 0.2024939514122735, -0.00835533148028108, -0.36256325006618495, 0.5359156853817274, -1.0969121025292958, 0.43187469434509806, 0.8496889764272824, -1.2082731388454349, -1.7089121213718867, -0.5170724026485997, -0.03994284400890909, -0.25932188432990816, 0.07953898183032124, 1.0458832881768172, -1.9579149340336046, 0.5453127632430007, 1.854844673262272, -2.5673923034531083, -0.09091067989192657, -0.3884470822677006, -1.8469698500964709, -1.5158324196916066, -0.38138223397344256, -0.05805129919084255, 1.087493238981735, 0.7534415222757022, -0.6284540050680987, -0.38751599288043437, -1.2084618045487636, 0.0514634408368774, -1.082918557354612, -0.4992107264311093, -1.9452028837154631, 0.7273056387902339, -0.8955610849268126, -0.8234617655936936, 0.532065163647017, -1.1028862381850142, -1.7582423251578894, -1.3791246147712828, 0.10042152710117103, -0.5716713526590748, -0.9735284618191417, -0.058716214204821274, 0.5119956539665943, 0.11718988426468993, 0.006329341436323806, -0.620841952508306, 0.8187717540053973], \"y\": [0.5397341984256421, 1.4273648820401585, -0.2699470460701567, -0.009205707259470066, 0.38245509704051034, -0.6121410983025236, 1.471122536385358, 0.008852038627531702, -1.0322725314491903, 0.8203466329622852, 0.40274543333508517, 1.1710113832309024, -0.8490119147891786, 0.37012452704623977, 0.6727839097825701, -0.7146490926729023, -1.1710925815152915, 0.829667151217231, 1.6254325510413408, -0.03523386729780477, 0.8344690832208976, -0.013325006634558746, 0.731317913467702, -0.34730864357214936, 0.43023502387456686, 1.4329446581756315, -0.7491845032709245, 0.3510417309197764, 0.14083899715516177, -1.1861006093411341, 0.06372821563374959, -0.5482268710062057, 0.5358156468037663, 1.860518121810859, 1.0586200684408351, -0.0639731090133942, -0.08212677769362468, -1.3644617085653952, 2.306486236434318, 0.2299424870881697, 0.277553325627394, -0.7310389683951801, 0.7855790026429404, 1.991062673583806, 0.42083892064389616, 0.3312184872102766, -0.948280317204048, -0.9568068650540437, 0.06219846171557773, -0.6894903418517699, 0.9426582104357005, -0.6549530029210485, -0.27693993710331516, 0.5794679612177993, -0.17445332930955162, 1.973689765686015, -1.1221081740462968, -0.5689439814189605, -0.812476104079502, 2.106994461930286, 0.32736395155534453, 0.1312433407250468, -0.18047861897329853, -0.772626615251416, 0.3228290458457046, -0.3876374046636482, 0.1833422829766309, 1.9087468843804094, -0.15516628138100658, -1.4163623544697346, 0.6147553608766299, 0.6285689877845728, 0.46983514730252834, -1.891043424119729, -0.41109171089752206, -0.19882089607141482, 0.26050507326347166, -0.021940889213982018, 0.35818838870948727, 0.8607668916844468, -0.76838927683406, -0.627976710508572, -0.6366917226484422, 0.04068231456785195, 1.0800854230491712, -0.5362280813309173, 0.9978930275747946, -1.7791250497361506, -0.677962460840107, 0.7572816499590634, -0.287425248846891, -0.47888022308913814, -1.1274959646162466, 0.2324095143049378, 0.8683229396351135, 1.829117056821466, -1.816751591989605, -0.5924861572089956, 0.8017402458379345, -1.4002762640497939]}],\n",
       "                        {\"legend\": {\"bgcolor\": \"#F5F6F9\", \"font\": {\"color\": \"#4D5663\"}}, \"paper_bgcolor\": \"#F5F6F9\", \"plot_bgcolor\": \"#F5F6F9\", \"template\": {\"data\": {\"bar\": [{\"error_x\": {\"color\": \"#2a3f5f\"}, \"error_y\": {\"color\": \"#2a3f5f\"}, \"marker\": {\"line\": {\"color\": \"#E5ECF6\", \"width\": 0.5}}, \"type\": \"bar\"}], \"barpolar\": [{\"marker\": {\"line\": {\"color\": \"#E5ECF6\", \"width\": 0.5}}, \"type\": \"barpolar\"}], \"carpet\": [{\"aaxis\": {\"endlinecolor\": \"#2a3f5f\", \"gridcolor\": \"white\", \"linecolor\": \"white\", \"minorgridcolor\": \"white\", \"startlinecolor\": \"#2a3f5f\"}, \"baxis\": {\"endlinecolor\": \"#2a3f5f\", \"gridcolor\": \"white\", \"linecolor\": \"white\", \"minorgridcolor\": \"white\", \"startlinecolor\": \"#2a3f5f\"}, \"type\": \"carpet\"}], \"choropleth\": [{\"colorbar\": {\"outlinewidth\": 0, \"ticks\": \"\"}, \"type\": \"choropleth\"}], \"contour\": [{\"colorbar\": {\"outlinewidth\": 0, \"ticks\": \"\"}, \"colorscale\": [[0.0, \"#0d0887\"], [0.1111111111111111, \"#46039f\"], [0.2222222222222222, \"#7201a8\"], [0.3333333333333333, \"#9c179e\"], [0.4444444444444444, \"#bd3786\"], [0.5555555555555556, \"#d8576b\"], [0.6666666666666666, \"#ed7953\"], [0.7777777777777778, \"#fb9f3a\"], [0.8888888888888888, \"#fdca26\"], [1.0, \"#f0f921\"]], \"type\": \"contour\"}], \"contourcarpet\": [{\"colorbar\": {\"outlinewidth\": 0, \"ticks\": \"\"}, \"type\": \"contourcarpet\"}], \"heatmap\": [{\"colorbar\": {\"outlinewidth\": 0, \"ticks\": \"\"}, \"colorscale\": [[0.0, \"#0d0887\"], [0.1111111111111111, \"#46039f\"], [0.2222222222222222, \"#7201a8\"], [0.3333333333333333, \"#9c179e\"], [0.4444444444444444, \"#bd3786\"], [0.5555555555555556, \"#d8576b\"], [0.6666666666666666, \"#ed7953\"], [0.7777777777777778, \"#fb9f3a\"], [0.8888888888888888, \"#fdca26\"], [1.0, \"#f0f921\"]], \"type\": \"heatmap\"}], \"heatmapgl\": [{\"colorbar\": {\"outlinewidth\": 0, \"ticks\": \"\"}, \"colorscale\": [[0.0, \"#0d0887\"], [0.1111111111111111, \"#46039f\"], [0.2222222222222222, \"#7201a8\"], [0.3333333333333333, \"#9c179e\"], [0.4444444444444444, \"#bd3786\"], [0.5555555555555556, \"#d8576b\"], [0.6666666666666666, \"#ed7953\"], [0.7777777777777778, \"#fb9f3a\"], [0.8888888888888888, \"#fdca26\"], [1.0, \"#f0f921\"]], \"type\": \"heatmapgl\"}], \"histogram\": [{\"marker\": {\"colorbar\": {\"outlinewidth\": 0, \"ticks\": \"\"}}, \"type\": \"histogram\"}], \"histogram2d\": [{\"colorbar\": {\"outlinewidth\": 0, \"ticks\": \"\"}, \"colorscale\": [[0.0, \"#0d0887\"], [0.1111111111111111, \"#46039f\"], [0.2222222222222222, \"#7201a8\"], [0.3333333333333333, \"#9c179e\"], [0.4444444444444444, \"#bd3786\"], [0.5555555555555556, \"#d8576b\"], [0.6666666666666666, \"#ed7953\"], [0.7777777777777778, \"#fb9f3a\"], [0.8888888888888888, \"#fdca26\"], [1.0, \"#f0f921\"]], \"type\": \"histogram2d\"}], \"histogram2dcontour\": [{\"colorbar\": {\"outlinewidth\": 0, \"ticks\": \"\"}, \"colorscale\": [[0.0, \"#0d0887\"], [0.1111111111111111, \"#46039f\"], [0.2222222222222222, \"#7201a8\"], [0.3333333333333333, \"#9c179e\"], [0.4444444444444444, \"#bd3786\"], [0.5555555555555556, \"#d8576b\"], [0.6666666666666666, \"#ed7953\"], [0.7777777777777778, \"#fb9f3a\"], [0.8888888888888888, \"#fdca26\"], [1.0, \"#f0f921\"]], \"type\": \"histogram2dcontour\"}], \"mesh3d\": [{\"colorbar\": {\"outlinewidth\": 0, \"ticks\": \"\"}, \"type\": \"mesh3d\"}], \"parcoords\": [{\"line\": {\"colorbar\": {\"outlinewidth\": 0, \"ticks\": \"\"}}, \"type\": \"parcoords\"}], \"pie\": [{\"automargin\": true, \"type\": \"pie\"}], \"scatter\": [{\"marker\": {\"colorbar\": {\"outlinewidth\": 0, \"ticks\": \"\"}}, \"type\": \"scatter\"}], \"scatter3d\": [{\"line\": {\"colorbar\": {\"outlinewidth\": 0, \"ticks\": \"\"}}, \"marker\": {\"colorbar\": {\"outlinewidth\": 0, \"ticks\": \"\"}}, \"type\": \"scatter3d\"}], \"scattercarpet\": [{\"marker\": {\"colorbar\": {\"outlinewidth\": 0, \"ticks\": \"\"}}, \"type\": \"scattercarpet\"}], \"scattergeo\": [{\"marker\": {\"colorbar\": {\"outlinewidth\": 0, \"ticks\": \"\"}}, \"type\": \"scattergeo\"}], \"scattergl\": [{\"marker\": {\"colorbar\": {\"outlinewidth\": 0, \"ticks\": \"\"}}, \"type\": \"scattergl\"}], \"scattermapbox\": [{\"marker\": {\"colorbar\": {\"outlinewidth\": 0, \"ticks\": \"\"}}, \"type\": \"scattermapbox\"}], \"scatterpolar\": [{\"marker\": {\"colorbar\": {\"outlinewidth\": 0, \"ticks\": \"\"}}, \"type\": \"scatterpolar\"}], \"scatterpolargl\": [{\"marker\": {\"colorbar\": {\"outlinewidth\": 0, \"ticks\": \"\"}}, \"type\": \"scatterpolargl\"}], \"scatterternary\": [{\"marker\": {\"colorbar\": {\"outlinewidth\": 0, \"ticks\": \"\"}}, \"type\": \"scatterternary\"}], \"surface\": [{\"colorbar\": {\"outlinewidth\": 0, \"ticks\": \"\"}, \"colorscale\": [[0.0, \"#0d0887\"], [0.1111111111111111, \"#46039f\"], [0.2222222222222222, \"#7201a8\"], [0.3333333333333333, \"#9c179e\"], [0.4444444444444444, \"#bd3786\"], [0.5555555555555556, \"#d8576b\"], [0.6666666666666666, \"#ed7953\"], [0.7777777777777778, \"#fb9f3a\"], [0.8888888888888888, \"#fdca26\"], [1.0, \"#f0f921\"]], \"type\": \"surface\"}], \"table\": [{\"cells\": {\"fill\": {\"color\": \"#EBF0F8\"}, \"line\": {\"color\": \"white\"}}, \"header\": {\"fill\": {\"color\": \"#C8D4E3\"}, \"line\": {\"color\": \"white\"}}, \"type\": \"table\"}]}, \"layout\": {\"annotationdefaults\": {\"arrowcolor\": \"#2a3f5f\", \"arrowhead\": 0, \"arrowwidth\": 1}, \"coloraxis\": {\"colorbar\": {\"outlinewidth\": 0, \"ticks\": \"\"}}, \"colorscale\": {\"diverging\": [[0, \"#8e0152\"], [0.1, \"#c51b7d\"], [0.2, \"#de77ae\"], [0.3, \"#f1b6da\"], [0.4, \"#fde0ef\"], [0.5, \"#f7f7f7\"], [0.6, \"#e6f5d0\"], [0.7, \"#b8e186\"], [0.8, \"#7fbc41\"], [0.9, \"#4d9221\"], [1, \"#276419\"]], \"sequential\": [[0.0, \"#0d0887\"], [0.1111111111111111, \"#46039f\"], [0.2222222222222222, \"#7201a8\"], [0.3333333333333333, \"#9c179e\"], [0.4444444444444444, \"#bd3786\"], [0.5555555555555556, \"#d8576b\"], [0.6666666666666666, \"#ed7953\"], [0.7777777777777778, \"#fb9f3a\"], [0.8888888888888888, \"#fdca26\"], [1.0, \"#f0f921\"]], \"sequentialminus\": [[0.0, \"#0d0887\"], [0.1111111111111111, \"#46039f\"], [0.2222222222222222, \"#7201a8\"], [0.3333333333333333, \"#9c179e\"], [0.4444444444444444, \"#bd3786\"], [0.5555555555555556, \"#d8576b\"], [0.6666666666666666, \"#ed7953\"], [0.7777777777777778, \"#fb9f3a\"], [0.8888888888888888, \"#fdca26\"], [1.0, \"#f0f921\"]]}, \"colorway\": [\"#636efa\", \"#EF553B\", \"#00cc96\", \"#ab63fa\", \"#FFA15A\", \"#19d3f3\", \"#FF6692\", \"#B6E880\", \"#FF97FF\", \"#FECB52\"], \"font\": {\"color\": \"#2a3f5f\"}, \"geo\": {\"bgcolor\": \"white\", \"lakecolor\": \"white\", \"landcolor\": \"#E5ECF6\", \"showlakes\": true, \"showland\": true, \"subunitcolor\": \"white\"}, \"hoverlabel\": {\"align\": \"left\"}, \"hovermode\": \"closest\", \"mapbox\": {\"style\": \"light\"}, \"paper_bgcolor\": \"white\", \"plot_bgcolor\": \"#E5ECF6\", \"polar\": {\"angularaxis\": {\"gridcolor\": \"white\", \"linecolor\": \"white\", \"ticks\": \"\"}, \"bgcolor\": \"#E5ECF6\", \"radialaxis\": {\"gridcolor\": \"white\", \"linecolor\": \"white\", \"ticks\": \"\"}}, \"scene\": {\"xaxis\": {\"backgroundcolor\": \"#E5ECF6\", \"gridcolor\": \"white\", \"gridwidth\": 2, \"linecolor\": \"white\", \"showbackground\": true, \"ticks\": \"\", \"zerolinecolor\": \"white\"}, \"yaxis\": {\"backgroundcolor\": \"#E5ECF6\", \"gridcolor\": \"white\", \"gridwidth\": 2, \"linecolor\": \"white\", \"showbackground\": true, \"ticks\": \"\", \"zerolinecolor\": \"white\"}, \"zaxis\": {\"backgroundcolor\": \"#E5ECF6\", \"gridcolor\": \"white\", \"gridwidth\": 2, \"linecolor\": \"white\", \"showbackground\": true, \"ticks\": \"\", \"zerolinecolor\": \"white\"}}, \"shapedefaults\": {\"line\": {\"color\": \"#2a3f5f\"}}, \"ternary\": {\"aaxis\": {\"gridcolor\": \"white\", \"linecolor\": \"white\", \"ticks\": \"\"}, \"baxis\": {\"gridcolor\": \"white\", \"linecolor\": \"white\", \"ticks\": \"\"}, \"bgcolor\": \"#E5ECF6\", \"caxis\": {\"gridcolor\": \"white\", \"linecolor\": \"white\", \"ticks\": \"\"}}, \"title\": {\"x\": 0.05}, \"xaxis\": {\"automargin\": true, \"gridcolor\": \"white\", \"linecolor\": \"white\", \"ticks\": \"\", \"title\": {\"standoff\": 15}, \"zerolinecolor\": \"white\", \"zerolinewidth\": 2}, \"yaxis\": {\"automargin\": true, \"gridcolor\": \"white\", \"linecolor\": \"white\", \"ticks\": \"\", \"title\": {\"standoff\": 15}, \"zerolinecolor\": \"white\", \"zerolinewidth\": 2}}}, \"title\": {\"font\": {\"color\": \"#4D5663\"}}, \"xaxis\": {\"gridcolor\": \"#E1E5ED\", \"showgrid\": true, \"tickfont\": {\"color\": \"#4D5663\"}, \"title\": {\"font\": {\"color\": \"#4D5663\"}, \"text\": \"\"}, \"zerolinecolor\": \"#E1E5ED\"}, \"yaxis\": {\"gridcolor\": \"#E1E5ED\", \"showgrid\": true, \"tickfont\": {\"color\": \"#4D5663\"}, \"title\": {\"font\": {\"color\": \"#4D5663\"}, \"text\": \"\"}, \"zerolinecolor\": \"#E1E5ED\"}},\n",
       "                        {\"showLink\": true, \"linkText\": \"Export to plot.ly\", \"plotlyServerURL\": \"https://plot.ly\", \"responsive\": true}\n",
       "                    ).then(function(){\n",
       "                            \n",
       "var gd = document.getElementById('25b66a77-eb70-4b3f-ab81-912a0c299387');\n",
       "var x = new MutationObserver(function (mutations, observer) {{\n",
       "        var display = window.getComputedStyle(gd).display;\n",
       "        if (!display || display === 'none') {{\n",
       "            console.log([gd, 'removed!']);\n",
       "            Plotly.purge(gd);\n",
       "            observer.disconnect();\n",
       "        }}\n",
       "}});\n",
       "\n",
       "// Listen for the removal of the full notebook cells\n",
       "var notebookContainer = gd.closest('#notebook-container');\n",
       "if (notebookContainer) {{\n",
       "    x.observe(notebookContainer, {childList: true});\n",
       "}}\n",
       "\n",
       "// Listen for the clearing of the current output cell\n",
       "var outputEl = gd.closest('.output');\n",
       "if (outputEl) {{\n",
       "    x.observe(outputEl, {childList: true});\n",
       "}}\n",
       "\n",
       "                        })\n",
       "                };\n",
       "                });\n",
       "            </script>\n",
       "        </div>"
      ]
     },
     "metadata": {},
     "output_type": "display_data"
    }
   ],
   "source": [
    "df.iplot(kind='scatter',x='A',y='B',mode='markers',size=20)"
   ]
  },
  {
   "cell_type": "code",
   "execution_count": 26,
   "metadata": {},
   "outputs": [
    {
     "data": {
      "application/vnd.plotly.v1+json": {
       "config": {
        "linkText": "Export to plot.ly",
        "plotlyServerURL": "https://plot.ly",
        "showLink": true
       },
       "data": [
        {
         "marker": {
          "color": "rgba(255, 153, 51, 0.6)",
          "line": {
           "color": "rgba(255, 153, 51, 1.0)",
           "width": 1
          }
         },
         "name": "Values",
         "orientation": "v",
         "text": "",
         "type": "bar",
         "x": [
          "A",
          "B",
          "C"
         ],
         "y": [
          32,
          43,
          50
         ]
        }
       ],
       "layout": {
        "legend": {
         "bgcolor": "#F5F6F9",
         "font": {
          "color": "#4D5663"
         }
        },
        "paper_bgcolor": "#F5F6F9",
        "plot_bgcolor": "#F5F6F9",
        "template": {
         "data": {
          "bar": [
           {
            "error_x": {
             "color": "#2a3f5f"
            },
            "error_y": {
             "color": "#2a3f5f"
            },
            "marker": {
             "line": {
              "color": "#E5ECF6",
              "width": 0.5
             }
            },
            "type": "bar"
           }
          ],
          "barpolar": [
           {
            "marker": {
             "line": {
              "color": "#E5ECF6",
              "width": 0.5
             }
            },
            "type": "barpolar"
           }
          ],
          "carpet": [
           {
            "aaxis": {
             "endlinecolor": "#2a3f5f",
             "gridcolor": "white",
             "linecolor": "white",
             "minorgridcolor": "white",
             "startlinecolor": "#2a3f5f"
            },
            "baxis": {
             "endlinecolor": "#2a3f5f",
             "gridcolor": "white",
             "linecolor": "white",
             "minorgridcolor": "white",
             "startlinecolor": "#2a3f5f"
            },
            "type": "carpet"
           }
          ],
          "choropleth": [
           {
            "colorbar": {
             "outlinewidth": 0,
             "ticks": ""
            },
            "type": "choropleth"
           }
          ],
          "contour": [
           {
            "colorbar": {
             "outlinewidth": 0,
             "ticks": ""
            },
            "colorscale": [
             [
              0,
              "#0d0887"
             ],
             [
              0.1111111111111111,
              "#46039f"
             ],
             [
              0.2222222222222222,
              "#7201a8"
             ],
             [
              0.3333333333333333,
              "#9c179e"
             ],
             [
              0.4444444444444444,
              "#bd3786"
             ],
             [
              0.5555555555555556,
              "#d8576b"
             ],
             [
              0.6666666666666666,
              "#ed7953"
             ],
             [
              0.7777777777777778,
              "#fb9f3a"
             ],
             [
              0.8888888888888888,
              "#fdca26"
             ],
             [
              1,
              "#f0f921"
             ]
            ],
            "type": "contour"
           }
          ],
          "contourcarpet": [
           {
            "colorbar": {
             "outlinewidth": 0,
             "ticks": ""
            },
            "type": "contourcarpet"
           }
          ],
          "heatmap": [
           {
            "colorbar": {
             "outlinewidth": 0,
             "ticks": ""
            },
            "colorscale": [
             [
              0,
              "#0d0887"
             ],
             [
              0.1111111111111111,
              "#46039f"
             ],
             [
              0.2222222222222222,
              "#7201a8"
             ],
             [
              0.3333333333333333,
              "#9c179e"
             ],
             [
              0.4444444444444444,
              "#bd3786"
             ],
             [
              0.5555555555555556,
              "#d8576b"
             ],
             [
              0.6666666666666666,
              "#ed7953"
             ],
             [
              0.7777777777777778,
              "#fb9f3a"
             ],
             [
              0.8888888888888888,
              "#fdca26"
             ],
             [
              1,
              "#f0f921"
             ]
            ],
            "type": "heatmap"
           }
          ],
          "heatmapgl": [
           {
            "colorbar": {
             "outlinewidth": 0,
             "ticks": ""
            },
            "colorscale": [
             [
              0,
              "#0d0887"
             ],
             [
              0.1111111111111111,
              "#46039f"
             ],
             [
              0.2222222222222222,
              "#7201a8"
             ],
             [
              0.3333333333333333,
              "#9c179e"
             ],
             [
              0.4444444444444444,
              "#bd3786"
             ],
             [
              0.5555555555555556,
              "#d8576b"
             ],
             [
              0.6666666666666666,
              "#ed7953"
             ],
             [
              0.7777777777777778,
              "#fb9f3a"
             ],
             [
              0.8888888888888888,
              "#fdca26"
             ],
             [
              1,
              "#f0f921"
             ]
            ],
            "type": "heatmapgl"
           }
          ],
          "histogram": [
           {
            "marker": {
             "colorbar": {
              "outlinewidth": 0,
              "ticks": ""
             }
            },
            "type": "histogram"
           }
          ],
          "histogram2d": [
           {
            "colorbar": {
             "outlinewidth": 0,
             "ticks": ""
            },
            "colorscale": [
             [
              0,
              "#0d0887"
             ],
             [
              0.1111111111111111,
              "#46039f"
             ],
             [
              0.2222222222222222,
              "#7201a8"
             ],
             [
              0.3333333333333333,
              "#9c179e"
             ],
             [
              0.4444444444444444,
              "#bd3786"
             ],
             [
              0.5555555555555556,
              "#d8576b"
             ],
             [
              0.6666666666666666,
              "#ed7953"
             ],
             [
              0.7777777777777778,
              "#fb9f3a"
             ],
             [
              0.8888888888888888,
              "#fdca26"
             ],
             [
              1,
              "#f0f921"
             ]
            ],
            "type": "histogram2d"
           }
          ],
          "histogram2dcontour": [
           {
            "colorbar": {
             "outlinewidth": 0,
             "ticks": ""
            },
            "colorscale": [
             [
              0,
              "#0d0887"
             ],
             [
              0.1111111111111111,
              "#46039f"
             ],
             [
              0.2222222222222222,
              "#7201a8"
             ],
             [
              0.3333333333333333,
              "#9c179e"
             ],
             [
              0.4444444444444444,
              "#bd3786"
             ],
             [
              0.5555555555555556,
              "#d8576b"
             ],
             [
              0.6666666666666666,
              "#ed7953"
             ],
             [
              0.7777777777777778,
              "#fb9f3a"
             ],
             [
              0.8888888888888888,
              "#fdca26"
             ],
             [
              1,
              "#f0f921"
             ]
            ],
            "type": "histogram2dcontour"
           }
          ],
          "mesh3d": [
           {
            "colorbar": {
             "outlinewidth": 0,
             "ticks": ""
            },
            "type": "mesh3d"
           }
          ],
          "parcoords": [
           {
            "line": {
             "colorbar": {
              "outlinewidth": 0,
              "ticks": ""
             }
            },
            "type": "parcoords"
           }
          ],
          "pie": [
           {
            "automargin": true,
            "type": "pie"
           }
          ],
          "scatter": [
           {
            "marker": {
             "colorbar": {
              "outlinewidth": 0,
              "ticks": ""
             }
            },
            "type": "scatter"
           }
          ],
          "scatter3d": [
           {
            "line": {
             "colorbar": {
              "outlinewidth": 0,
              "ticks": ""
             }
            },
            "marker": {
             "colorbar": {
              "outlinewidth": 0,
              "ticks": ""
             }
            },
            "type": "scatter3d"
           }
          ],
          "scattercarpet": [
           {
            "marker": {
             "colorbar": {
              "outlinewidth": 0,
              "ticks": ""
             }
            },
            "type": "scattercarpet"
           }
          ],
          "scattergeo": [
           {
            "marker": {
             "colorbar": {
              "outlinewidth": 0,
              "ticks": ""
             }
            },
            "type": "scattergeo"
           }
          ],
          "scattergl": [
           {
            "marker": {
             "colorbar": {
              "outlinewidth": 0,
              "ticks": ""
             }
            },
            "type": "scattergl"
           }
          ],
          "scattermapbox": [
           {
            "marker": {
             "colorbar": {
              "outlinewidth": 0,
              "ticks": ""
             }
            },
            "type": "scattermapbox"
           }
          ],
          "scatterpolar": [
           {
            "marker": {
             "colorbar": {
              "outlinewidth": 0,
              "ticks": ""
             }
            },
            "type": "scatterpolar"
           }
          ],
          "scatterpolargl": [
           {
            "marker": {
             "colorbar": {
              "outlinewidth": 0,
              "ticks": ""
             }
            },
            "type": "scatterpolargl"
           }
          ],
          "scatterternary": [
           {
            "marker": {
             "colorbar": {
              "outlinewidth": 0,
              "ticks": ""
             }
            },
            "type": "scatterternary"
           }
          ],
          "surface": [
           {
            "colorbar": {
             "outlinewidth": 0,
             "ticks": ""
            },
            "colorscale": [
             [
              0,
              "#0d0887"
             ],
             [
              0.1111111111111111,
              "#46039f"
             ],
             [
              0.2222222222222222,
              "#7201a8"
             ],
             [
              0.3333333333333333,
              "#9c179e"
             ],
             [
              0.4444444444444444,
              "#bd3786"
             ],
             [
              0.5555555555555556,
              "#d8576b"
             ],
             [
              0.6666666666666666,
              "#ed7953"
             ],
             [
              0.7777777777777778,
              "#fb9f3a"
             ],
             [
              0.8888888888888888,
              "#fdca26"
             ],
             [
              1,
              "#f0f921"
             ]
            ],
            "type": "surface"
           }
          ],
          "table": [
           {
            "cells": {
             "fill": {
              "color": "#EBF0F8"
             },
             "line": {
              "color": "white"
             }
            },
            "header": {
             "fill": {
              "color": "#C8D4E3"
             },
             "line": {
              "color": "white"
             }
            },
            "type": "table"
           }
          ]
         },
         "layout": {
          "annotationdefaults": {
           "arrowcolor": "#2a3f5f",
           "arrowhead": 0,
           "arrowwidth": 1
          },
          "coloraxis": {
           "colorbar": {
            "outlinewidth": 0,
            "ticks": ""
           }
          },
          "colorscale": {
           "diverging": [
            [
             0,
             "#8e0152"
            ],
            [
             0.1,
             "#c51b7d"
            ],
            [
             0.2,
             "#de77ae"
            ],
            [
             0.3,
             "#f1b6da"
            ],
            [
             0.4,
             "#fde0ef"
            ],
            [
             0.5,
             "#f7f7f7"
            ],
            [
             0.6,
             "#e6f5d0"
            ],
            [
             0.7,
             "#b8e186"
            ],
            [
             0.8,
             "#7fbc41"
            ],
            [
             0.9,
             "#4d9221"
            ],
            [
             1,
             "#276419"
            ]
           ],
           "sequential": [
            [
             0,
             "#0d0887"
            ],
            [
             0.1111111111111111,
             "#46039f"
            ],
            [
             0.2222222222222222,
             "#7201a8"
            ],
            [
             0.3333333333333333,
             "#9c179e"
            ],
            [
             0.4444444444444444,
             "#bd3786"
            ],
            [
             0.5555555555555556,
             "#d8576b"
            ],
            [
             0.6666666666666666,
             "#ed7953"
            ],
            [
             0.7777777777777778,
             "#fb9f3a"
            ],
            [
             0.8888888888888888,
             "#fdca26"
            ],
            [
             1,
             "#f0f921"
            ]
           ],
           "sequentialminus": [
            [
             0,
             "#0d0887"
            ],
            [
             0.1111111111111111,
             "#46039f"
            ],
            [
             0.2222222222222222,
             "#7201a8"
            ],
            [
             0.3333333333333333,
             "#9c179e"
            ],
            [
             0.4444444444444444,
             "#bd3786"
            ],
            [
             0.5555555555555556,
             "#d8576b"
            ],
            [
             0.6666666666666666,
             "#ed7953"
            ],
            [
             0.7777777777777778,
             "#fb9f3a"
            ],
            [
             0.8888888888888888,
             "#fdca26"
            ],
            [
             1,
             "#f0f921"
            ]
           ]
          },
          "colorway": [
           "#636efa",
           "#EF553B",
           "#00cc96",
           "#ab63fa",
           "#FFA15A",
           "#19d3f3",
           "#FF6692",
           "#B6E880",
           "#FF97FF",
           "#FECB52"
          ],
          "font": {
           "color": "#2a3f5f"
          },
          "geo": {
           "bgcolor": "white",
           "lakecolor": "white",
           "landcolor": "#E5ECF6",
           "showlakes": true,
           "showland": true,
           "subunitcolor": "white"
          },
          "hoverlabel": {
           "align": "left"
          },
          "hovermode": "closest",
          "mapbox": {
           "style": "light"
          },
          "paper_bgcolor": "white",
          "plot_bgcolor": "#E5ECF6",
          "polar": {
           "angularaxis": {
            "gridcolor": "white",
            "linecolor": "white",
            "ticks": ""
           },
           "bgcolor": "#E5ECF6",
           "radialaxis": {
            "gridcolor": "white",
            "linecolor": "white",
            "ticks": ""
           }
          },
          "scene": {
           "xaxis": {
            "backgroundcolor": "#E5ECF6",
            "gridcolor": "white",
            "gridwidth": 2,
            "linecolor": "white",
            "showbackground": true,
            "ticks": "",
            "zerolinecolor": "white"
           },
           "yaxis": {
            "backgroundcolor": "#E5ECF6",
            "gridcolor": "white",
            "gridwidth": 2,
            "linecolor": "white",
            "showbackground": true,
            "ticks": "",
            "zerolinecolor": "white"
           },
           "zaxis": {
            "backgroundcolor": "#E5ECF6",
            "gridcolor": "white",
            "gridwidth": 2,
            "linecolor": "white",
            "showbackground": true,
            "ticks": "",
            "zerolinecolor": "white"
           }
          },
          "shapedefaults": {
           "line": {
            "color": "#2a3f5f"
           }
          },
          "ternary": {
           "aaxis": {
            "gridcolor": "white",
            "linecolor": "white",
            "ticks": ""
           },
           "baxis": {
            "gridcolor": "white",
            "linecolor": "white",
            "ticks": ""
           },
           "bgcolor": "#E5ECF6",
           "caxis": {
            "gridcolor": "white",
            "linecolor": "white",
            "ticks": ""
           }
          },
          "title": {
           "x": 0.05
          },
          "xaxis": {
           "automargin": true,
           "gridcolor": "white",
           "linecolor": "white",
           "ticks": "",
           "title": {
            "standoff": 15
           },
           "zerolinecolor": "white",
           "zerolinewidth": 2
          },
          "yaxis": {
           "automargin": true,
           "gridcolor": "white",
           "linecolor": "white",
           "ticks": "",
           "title": {
            "standoff": 15
           },
           "zerolinecolor": "white",
           "zerolinewidth": 2
          }
         }
        },
        "title": {
         "font": {
          "color": "#4D5663"
         }
        },
        "xaxis": {
         "gridcolor": "#E1E5ED",
         "showgrid": true,
         "tickfont": {
          "color": "#4D5663"
         },
         "title": {
          "font": {
           "color": "#4D5663"
          },
          "text": ""
         },
         "zerolinecolor": "#E1E5ED"
        },
        "yaxis": {
         "gridcolor": "#E1E5ED",
         "showgrid": true,
         "tickfont": {
          "color": "#4D5663"
         },
         "title": {
          "font": {
           "color": "#4D5663"
          },
          "text": ""
         },
         "zerolinecolor": "#E1E5ED"
        }
       }
      },
      "text/html": [
       "<div>\n",
       "        \n",
       "        \n",
       "            <div id=\"70a5c9b6-8649-4de6-a0c5-f3312cf89239\" class=\"plotly-graph-div\" style=\"height:525px; width:100%;\"></div>\n",
       "            <script type=\"text/javascript\">\n",
       "                require([\"plotly\"], function(Plotly) {\n",
       "                    window.PLOTLYENV=window.PLOTLYENV || {};\n",
       "                    window.PLOTLYENV.BASE_URL='https://plot.ly';\n",
       "                    \n",
       "                if (document.getElementById(\"70a5c9b6-8649-4de6-a0c5-f3312cf89239\")) {\n",
       "                    Plotly.newPlot(\n",
       "                        '70a5c9b6-8649-4de6-a0c5-f3312cf89239',\n",
       "                        [{\"marker\": {\"color\": \"rgba(255, 153, 51, 0.6)\", \"line\": {\"color\": \"rgba(255, 153, 51, 1.0)\", \"width\": 1}}, \"name\": \"Values\", \"orientation\": \"v\", \"text\": \"\", \"type\": \"bar\", \"x\": [\"A\", \"B\", \"C\"], \"y\": [32, 43, 50]}],\n",
       "                        {\"legend\": {\"bgcolor\": \"#F5F6F9\", \"font\": {\"color\": \"#4D5663\"}}, \"paper_bgcolor\": \"#F5F6F9\", \"plot_bgcolor\": \"#F5F6F9\", \"template\": {\"data\": {\"bar\": [{\"error_x\": {\"color\": \"#2a3f5f\"}, \"error_y\": {\"color\": \"#2a3f5f\"}, \"marker\": {\"line\": {\"color\": \"#E5ECF6\", \"width\": 0.5}}, \"type\": \"bar\"}], \"barpolar\": [{\"marker\": {\"line\": {\"color\": \"#E5ECF6\", \"width\": 0.5}}, \"type\": \"barpolar\"}], \"carpet\": [{\"aaxis\": {\"endlinecolor\": \"#2a3f5f\", \"gridcolor\": \"white\", \"linecolor\": \"white\", \"minorgridcolor\": \"white\", \"startlinecolor\": \"#2a3f5f\"}, \"baxis\": {\"endlinecolor\": \"#2a3f5f\", \"gridcolor\": \"white\", \"linecolor\": \"white\", \"minorgridcolor\": \"white\", \"startlinecolor\": \"#2a3f5f\"}, \"type\": \"carpet\"}], \"choropleth\": [{\"colorbar\": {\"outlinewidth\": 0, \"ticks\": \"\"}, \"type\": \"choropleth\"}], \"contour\": [{\"colorbar\": {\"outlinewidth\": 0, \"ticks\": \"\"}, \"colorscale\": [[0.0, \"#0d0887\"], [0.1111111111111111, \"#46039f\"], [0.2222222222222222, \"#7201a8\"], [0.3333333333333333, \"#9c179e\"], [0.4444444444444444, \"#bd3786\"], [0.5555555555555556, \"#d8576b\"], [0.6666666666666666, \"#ed7953\"], [0.7777777777777778, \"#fb9f3a\"], [0.8888888888888888, \"#fdca26\"], [1.0, \"#f0f921\"]], \"type\": \"contour\"}], \"contourcarpet\": [{\"colorbar\": {\"outlinewidth\": 0, \"ticks\": \"\"}, \"type\": \"contourcarpet\"}], \"heatmap\": [{\"colorbar\": {\"outlinewidth\": 0, \"ticks\": \"\"}, \"colorscale\": [[0.0, \"#0d0887\"], [0.1111111111111111, \"#46039f\"], [0.2222222222222222, \"#7201a8\"], [0.3333333333333333, \"#9c179e\"], [0.4444444444444444, \"#bd3786\"], [0.5555555555555556, \"#d8576b\"], [0.6666666666666666, \"#ed7953\"], [0.7777777777777778, \"#fb9f3a\"], [0.8888888888888888, \"#fdca26\"], [1.0, \"#f0f921\"]], \"type\": \"heatmap\"}], \"heatmapgl\": [{\"colorbar\": {\"outlinewidth\": 0, \"ticks\": \"\"}, \"colorscale\": [[0.0, \"#0d0887\"], [0.1111111111111111, \"#46039f\"], [0.2222222222222222, \"#7201a8\"], [0.3333333333333333, \"#9c179e\"], [0.4444444444444444, \"#bd3786\"], [0.5555555555555556, \"#d8576b\"], [0.6666666666666666, \"#ed7953\"], [0.7777777777777778, \"#fb9f3a\"], [0.8888888888888888, \"#fdca26\"], [1.0, \"#f0f921\"]], \"type\": \"heatmapgl\"}], \"histogram\": [{\"marker\": {\"colorbar\": {\"outlinewidth\": 0, \"ticks\": \"\"}}, \"type\": \"histogram\"}], \"histogram2d\": [{\"colorbar\": {\"outlinewidth\": 0, \"ticks\": \"\"}, \"colorscale\": [[0.0, \"#0d0887\"], [0.1111111111111111, \"#46039f\"], [0.2222222222222222, \"#7201a8\"], [0.3333333333333333, \"#9c179e\"], [0.4444444444444444, \"#bd3786\"], [0.5555555555555556, \"#d8576b\"], [0.6666666666666666, \"#ed7953\"], [0.7777777777777778, \"#fb9f3a\"], [0.8888888888888888, \"#fdca26\"], [1.0, \"#f0f921\"]], \"type\": \"histogram2d\"}], \"histogram2dcontour\": [{\"colorbar\": {\"outlinewidth\": 0, \"ticks\": \"\"}, \"colorscale\": [[0.0, \"#0d0887\"], [0.1111111111111111, \"#46039f\"], [0.2222222222222222, \"#7201a8\"], [0.3333333333333333, \"#9c179e\"], [0.4444444444444444, \"#bd3786\"], [0.5555555555555556, \"#d8576b\"], [0.6666666666666666, \"#ed7953\"], [0.7777777777777778, \"#fb9f3a\"], [0.8888888888888888, \"#fdca26\"], [1.0, \"#f0f921\"]], \"type\": \"histogram2dcontour\"}], \"mesh3d\": [{\"colorbar\": {\"outlinewidth\": 0, \"ticks\": \"\"}, \"type\": \"mesh3d\"}], \"parcoords\": [{\"line\": {\"colorbar\": {\"outlinewidth\": 0, \"ticks\": \"\"}}, \"type\": \"parcoords\"}], \"pie\": [{\"automargin\": true, \"type\": \"pie\"}], \"scatter\": [{\"marker\": {\"colorbar\": {\"outlinewidth\": 0, \"ticks\": \"\"}}, \"type\": \"scatter\"}], \"scatter3d\": [{\"line\": {\"colorbar\": {\"outlinewidth\": 0, \"ticks\": \"\"}}, \"marker\": {\"colorbar\": {\"outlinewidth\": 0, \"ticks\": \"\"}}, \"type\": \"scatter3d\"}], \"scattercarpet\": [{\"marker\": {\"colorbar\": {\"outlinewidth\": 0, \"ticks\": \"\"}}, \"type\": \"scattercarpet\"}], \"scattergeo\": [{\"marker\": {\"colorbar\": {\"outlinewidth\": 0, \"ticks\": \"\"}}, \"type\": \"scattergeo\"}], \"scattergl\": [{\"marker\": {\"colorbar\": {\"outlinewidth\": 0, \"ticks\": \"\"}}, \"type\": \"scattergl\"}], \"scattermapbox\": [{\"marker\": {\"colorbar\": {\"outlinewidth\": 0, \"ticks\": \"\"}}, \"type\": \"scattermapbox\"}], \"scatterpolar\": [{\"marker\": {\"colorbar\": {\"outlinewidth\": 0, \"ticks\": \"\"}}, \"type\": \"scatterpolar\"}], \"scatterpolargl\": [{\"marker\": {\"colorbar\": {\"outlinewidth\": 0, \"ticks\": \"\"}}, \"type\": \"scatterpolargl\"}], \"scatterternary\": [{\"marker\": {\"colorbar\": {\"outlinewidth\": 0, \"ticks\": \"\"}}, \"type\": \"scatterternary\"}], \"surface\": [{\"colorbar\": {\"outlinewidth\": 0, \"ticks\": \"\"}, \"colorscale\": [[0.0, \"#0d0887\"], [0.1111111111111111, \"#46039f\"], [0.2222222222222222, \"#7201a8\"], [0.3333333333333333, \"#9c179e\"], [0.4444444444444444, \"#bd3786\"], [0.5555555555555556, \"#d8576b\"], [0.6666666666666666, \"#ed7953\"], [0.7777777777777778, \"#fb9f3a\"], [0.8888888888888888, \"#fdca26\"], [1.0, \"#f0f921\"]], \"type\": \"surface\"}], \"table\": [{\"cells\": {\"fill\": {\"color\": \"#EBF0F8\"}, \"line\": {\"color\": \"white\"}}, \"header\": {\"fill\": {\"color\": \"#C8D4E3\"}, \"line\": {\"color\": \"white\"}}, \"type\": \"table\"}]}, \"layout\": {\"annotationdefaults\": {\"arrowcolor\": \"#2a3f5f\", \"arrowhead\": 0, \"arrowwidth\": 1}, \"coloraxis\": {\"colorbar\": {\"outlinewidth\": 0, \"ticks\": \"\"}}, \"colorscale\": {\"diverging\": [[0, \"#8e0152\"], [0.1, \"#c51b7d\"], [0.2, \"#de77ae\"], [0.3, \"#f1b6da\"], [0.4, \"#fde0ef\"], [0.5, \"#f7f7f7\"], [0.6, \"#e6f5d0\"], [0.7, \"#b8e186\"], [0.8, \"#7fbc41\"], [0.9, \"#4d9221\"], [1, \"#276419\"]], \"sequential\": [[0.0, \"#0d0887\"], [0.1111111111111111, \"#46039f\"], [0.2222222222222222, \"#7201a8\"], [0.3333333333333333, \"#9c179e\"], [0.4444444444444444, \"#bd3786\"], [0.5555555555555556, \"#d8576b\"], [0.6666666666666666, \"#ed7953\"], [0.7777777777777778, \"#fb9f3a\"], [0.8888888888888888, \"#fdca26\"], [1.0, \"#f0f921\"]], \"sequentialminus\": [[0.0, \"#0d0887\"], [0.1111111111111111, \"#46039f\"], [0.2222222222222222, \"#7201a8\"], [0.3333333333333333, \"#9c179e\"], [0.4444444444444444, \"#bd3786\"], [0.5555555555555556, \"#d8576b\"], [0.6666666666666666, \"#ed7953\"], [0.7777777777777778, \"#fb9f3a\"], [0.8888888888888888, \"#fdca26\"], [1.0, \"#f0f921\"]]}, \"colorway\": [\"#636efa\", \"#EF553B\", \"#00cc96\", \"#ab63fa\", \"#FFA15A\", \"#19d3f3\", \"#FF6692\", \"#B6E880\", \"#FF97FF\", \"#FECB52\"], \"font\": {\"color\": \"#2a3f5f\"}, \"geo\": {\"bgcolor\": \"white\", \"lakecolor\": \"white\", \"landcolor\": \"#E5ECF6\", \"showlakes\": true, \"showland\": true, \"subunitcolor\": \"white\"}, \"hoverlabel\": {\"align\": \"left\"}, \"hovermode\": \"closest\", \"mapbox\": {\"style\": \"light\"}, \"paper_bgcolor\": \"white\", \"plot_bgcolor\": \"#E5ECF6\", \"polar\": {\"angularaxis\": {\"gridcolor\": \"white\", \"linecolor\": \"white\", \"ticks\": \"\"}, \"bgcolor\": \"#E5ECF6\", \"radialaxis\": {\"gridcolor\": \"white\", \"linecolor\": \"white\", \"ticks\": \"\"}}, \"scene\": {\"xaxis\": {\"backgroundcolor\": \"#E5ECF6\", \"gridcolor\": \"white\", \"gridwidth\": 2, \"linecolor\": \"white\", \"showbackground\": true, \"ticks\": \"\", \"zerolinecolor\": \"white\"}, \"yaxis\": {\"backgroundcolor\": \"#E5ECF6\", \"gridcolor\": \"white\", \"gridwidth\": 2, \"linecolor\": \"white\", \"showbackground\": true, \"ticks\": \"\", \"zerolinecolor\": \"white\"}, \"zaxis\": {\"backgroundcolor\": \"#E5ECF6\", \"gridcolor\": \"white\", \"gridwidth\": 2, \"linecolor\": \"white\", \"showbackground\": true, \"ticks\": \"\", \"zerolinecolor\": \"white\"}}, \"shapedefaults\": {\"line\": {\"color\": \"#2a3f5f\"}}, \"ternary\": {\"aaxis\": {\"gridcolor\": \"white\", \"linecolor\": \"white\", \"ticks\": \"\"}, \"baxis\": {\"gridcolor\": \"white\", \"linecolor\": \"white\", \"ticks\": \"\"}, \"bgcolor\": \"#E5ECF6\", \"caxis\": {\"gridcolor\": \"white\", \"linecolor\": \"white\", \"ticks\": \"\"}}, \"title\": {\"x\": 0.05}, \"xaxis\": {\"automargin\": true, \"gridcolor\": \"white\", \"linecolor\": \"white\", \"ticks\": \"\", \"title\": {\"standoff\": 15}, \"zerolinecolor\": \"white\", \"zerolinewidth\": 2}, \"yaxis\": {\"automargin\": true, \"gridcolor\": \"white\", \"linecolor\": \"white\", \"ticks\": \"\", \"title\": {\"standoff\": 15}, \"zerolinecolor\": \"white\", \"zerolinewidth\": 2}}}, \"title\": {\"font\": {\"color\": \"#4D5663\"}}, \"xaxis\": {\"gridcolor\": \"#E1E5ED\", \"showgrid\": true, \"tickfont\": {\"color\": \"#4D5663\"}, \"title\": {\"font\": {\"color\": \"#4D5663\"}, \"text\": \"\"}, \"zerolinecolor\": \"#E1E5ED\"}, \"yaxis\": {\"gridcolor\": \"#E1E5ED\", \"showgrid\": true, \"tickfont\": {\"color\": \"#4D5663\"}, \"title\": {\"font\": {\"color\": \"#4D5663\"}, \"text\": \"\"}, \"zerolinecolor\": \"#E1E5ED\"}},\n",
       "                        {\"showLink\": true, \"linkText\": \"Export to plot.ly\", \"plotlyServerURL\": \"https://plot.ly\", \"responsive\": true}\n",
       "                    ).then(function(){\n",
       "                            \n",
       "var gd = document.getElementById('70a5c9b6-8649-4de6-a0c5-f3312cf89239');\n",
       "var x = new MutationObserver(function (mutations, observer) {{\n",
       "        var display = window.getComputedStyle(gd).display;\n",
       "        if (!display || display === 'none') {{\n",
       "            console.log([gd, 'removed!']);\n",
       "            Plotly.purge(gd);\n",
       "            observer.disconnect();\n",
       "        }}\n",
       "}});\n",
       "\n",
       "// Listen for the removal of the full notebook cells\n",
       "var notebookContainer = gd.closest('#notebook-container');\n",
       "if (notebookContainer) {{\n",
       "    x.observe(notebookContainer, {childList: true});\n",
       "}}\n",
       "\n",
       "// Listen for the clearing of the current output cell\n",
       "var outputEl = gd.closest('.output');\n",
       "if (outputEl) {{\n",
       "    x.observe(outputEl, {childList: true});\n",
       "}}\n",
       "\n",
       "                        })\n",
       "                };\n",
       "                });\n",
       "            </script>\n",
       "        </div>"
      ]
     },
     "metadata": {},
     "output_type": "display_data"
    }
   ],
   "source": [
    "df2.iplot(kind='bar',x='Category', y='Values')   # x need to be categorical for bar"
   ]
  },
  {
   "cell_type": "code",
   "execution_count": 27,
   "metadata": {},
   "outputs": [
    {
     "data": {
      "application/vnd.plotly.v1+json": {
       "config": {
        "linkText": "Export to plot.ly",
        "plotlyServerURL": "https://plot.ly",
        "showLink": true
       },
       "data": [
        {
         "marker": {
          "color": "rgba(255, 153, 51, 0.6)",
          "line": {
           "color": "rgba(255, 153, 51, 1.0)",
           "width": 1
          }
         },
         "name": "None",
         "orientation": "v",
         "text": "",
         "type": "bar",
         "x": [
          "A",
          "B",
          "C",
          "D"
         ],
         "y": [
          100,
          100,
          100,
          100
         ]
        }
       ],
       "layout": {
        "legend": {
         "bgcolor": "#F5F6F9",
         "font": {
          "color": "#4D5663"
         }
        },
        "paper_bgcolor": "#F5F6F9",
        "plot_bgcolor": "#F5F6F9",
        "template": {
         "data": {
          "bar": [
           {
            "error_x": {
             "color": "#2a3f5f"
            },
            "error_y": {
             "color": "#2a3f5f"
            },
            "marker": {
             "line": {
              "color": "#E5ECF6",
              "width": 0.5
             }
            },
            "type": "bar"
           }
          ],
          "barpolar": [
           {
            "marker": {
             "line": {
              "color": "#E5ECF6",
              "width": 0.5
             }
            },
            "type": "barpolar"
           }
          ],
          "carpet": [
           {
            "aaxis": {
             "endlinecolor": "#2a3f5f",
             "gridcolor": "white",
             "linecolor": "white",
             "minorgridcolor": "white",
             "startlinecolor": "#2a3f5f"
            },
            "baxis": {
             "endlinecolor": "#2a3f5f",
             "gridcolor": "white",
             "linecolor": "white",
             "minorgridcolor": "white",
             "startlinecolor": "#2a3f5f"
            },
            "type": "carpet"
           }
          ],
          "choropleth": [
           {
            "colorbar": {
             "outlinewidth": 0,
             "ticks": ""
            },
            "type": "choropleth"
           }
          ],
          "contour": [
           {
            "colorbar": {
             "outlinewidth": 0,
             "ticks": ""
            },
            "colorscale": [
             [
              0,
              "#0d0887"
             ],
             [
              0.1111111111111111,
              "#46039f"
             ],
             [
              0.2222222222222222,
              "#7201a8"
             ],
             [
              0.3333333333333333,
              "#9c179e"
             ],
             [
              0.4444444444444444,
              "#bd3786"
             ],
             [
              0.5555555555555556,
              "#d8576b"
             ],
             [
              0.6666666666666666,
              "#ed7953"
             ],
             [
              0.7777777777777778,
              "#fb9f3a"
             ],
             [
              0.8888888888888888,
              "#fdca26"
             ],
             [
              1,
              "#f0f921"
             ]
            ],
            "type": "contour"
           }
          ],
          "contourcarpet": [
           {
            "colorbar": {
             "outlinewidth": 0,
             "ticks": ""
            },
            "type": "contourcarpet"
           }
          ],
          "heatmap": [
           {
            "colorbar": {
             "outlinewidth": 0,
             "ticks": ""
            },
            "colorscale": [
             [
              0,
              "#0d0887"
             ],
             [
              0.1111111111111111,
              "#46039f"
             ],
             [
              0.2222222222222222,
              "#7201a8"
             ],
             [
              0.3333333333333333,
              "#9c179e"
             ],
             [
              0.4444444444444444,
              "#bd3786"
             ],
             [
              0.5555555555555556,
              "#d8576b"
             ],
             [
              0.6666666666666666,
              "#ed7953"
             ],
             [
              0.7777777777777778,
              "#fb9f3a"
             ],
             [
              0.8888888888888888,
              "#fdca26"
             ],
             [
              1,
              "#f0f921"
             ]
            ],
            "type": "heatmap"
           }
          ],
          "heatmapgl": [
           {
            "colorbar": {
             "outlinewidth": 0,
             "ticks": ""
            },
            "colorscale": [
             [
              0,
              "#0d0887"
             ],
             [
              0.1111111111111111,
              "#46039f"
             ],
             [
              0.2222222222222222,
              "#7201a8"
             ],
             [
              0.3333333333333333,
              "#9c179e"
             ],
             [
              0.4444444444444444,
              "#bd3786"
             ],
             [
              0.5555555555555556,
              "#d8576b"
             ],
             [
              0.6666666666666666,
              "#ed7953"
             ],
             [
              0.7777777777777778,
              "#fb9f3a"
             ],
             [
              0.8888888888888888,
              "#fdca26"
             ],
             [
              1,
              "#f0f921"
             ]
            ],
            "type": "heatmapgl"
           }
          ],
          "histogram": [
           {
            "marker": {
             "colorbar": {
              "outlinewidth": 0,
              "ticks": ""
             }
            },
            "type": "histogram"
           }
          ],
          "histogram2d": [
           {
            "colorbar": {
             "outlinewidth": 0,
             "ticks": ""
            },
            "colorscale": [
             [
              0,
              "#0d0887"
             ],
             [
              0.1111111111111111,
              "#46039f"
             ],
             [
              0.2222222222222222,
              "#7201a8"
             ],
             [
              0.3333333333333333,
              "#9c179e"
             ],
             [
              0.4444444444444444,
              "#bd3786"
             ],
             [
              0.5555555555555556,
              "#d8576b"
             ],
             [
              0.6666666666666666,
              "#ed7953"
             ],
             [
              0.7777777777777778,
              "#fb9f3a"
             ],
             [
              0.8888888888888888,
              "#fdca26"
             ],
             [
              1,
              "#f0f921"
             ]
            ],
            "type": "histogram2d"
           }
          ],
          "histogram2dcontour": [
           {
            "colorbar": {
             "outlinewidth": 0,
             "ticks": ""
            },
            "colorscale": [
             [
              0,
              "#0d0887"
             ],
             [
              0.1111111111111111,
              "#46039f"
             ],
             [
              0.2222222222222222,
              "#7201a8"
             ],
             [
              0.3333333333333333,
              "#9c179e"
             ],
             [
              0.4444444444444444,
              "#bd3786"
             ],
             [
              0.5555555555555556,
              "#d8576b"
             ],
             [
              0.6666666666666666,
              "#ed7953"
             ],
             [
              0.7777777777777778,
              "#fb9f3a"
             ],
             [
              0.8888888888888888,
              "#fdca26"
             ],
             [
              1,
              "#f0f921"
             ]
            ],
            "type": "histogram2dcontour"
           }
          ],
          "mesh3d": [
           {
            "colorbar": {
             "outlinewidth": 0,
             "ticks": ""
            },
            "type": "mesh3d"
           }
          ],
          "parcoords": [
           {
            "line": {
             "colorbar": {
              "outlinewidth": 0,
              "ticks": ""
             }
            },
            "type": "parcoords"
           }
          ],
          "pie": [
           {
            "automargin": true,
            "type": "pie"
           }
          ],
          "scatter": [
           {
            "marker": {
             "colorbar": {
              "outlinewidth": 0,
              "ticks": ""
             }
            },
            "type": "scatter"
           }
          ],
          "scatter3d": [
           {
            "line": {
             "colorbar": {
              "outlinewidth": 0,
              "ticks": ""
             }
            },
            "marker": {
             "colorbar": {
              "outlinewidth": 0,
              "ticks": ""
             }
            },
            "type": "scatter3d"
           }
          ],
          "scattercarpet": [
           {
            "marker": {
             "colorbar": {
              "outlinewidth": 0,
              "ticks": ""
             }
            },
            "type": "scattercarpet"
           }
          ],
          "scattergeo": [
           {
            "marker": {
             "colorbar": {
              "outlinewidth": 0,
              "ticks": ""
             }
            },
            "type": "scattergeo"
           }
          ],
          "scattergl": [
           {
            "marker": {
             "colorbar": {
              "outlinewidth": 0,
              "ticks": ""
             }
            },
            "type": "scattergl"
           }
          ],
          "scattermapbox": [
           {
            "marker": {
             "colorbar": {
              "outlinewidth": 0,
              "ticks": ""
             }
            },
            "type": "scattermapbox"
           }
          ],
          "scatterpolar": [
           {
            "marker": {
             "colorbar": {
              "outlinewidth": 0,
              "ticks": ""
             }
            },
            "type": "scatterpolar"
           }
          ],
          "scatterpolargl": [
           {
            "marker": {
             "colorbar": {
              "outlinewidth": 0,
              "ticks": ""
             }
            },
            "type": "scatterpolargl"
           }
          ],
          "scatterternary": [
           {
            "marker": {
             "colorbar": {
              "outlinewidth": 0,
              "ticks": ""
             }
            },
            "type": "scatterternary"
           }
          ],
          "surface": [
           {
            "colorbar": {
             "outlinewidth": 0,
             "ticks": ""
            },
            "colorscale": [
             [
              0,
              "#0d0887"
             ],
             [
              0.1111111111111111,
              "#46039f"
             ],
             [
              0.2222222222222222,
              "#7201a8"
             ],
             [
              0.3333333333333333,
              "#9c179e"
             ],
             [
              0.4444444444444444,
              "#bd3786"
             ],
             [
              0.5555555555555556,
              "#d8576b"
             ],
             [
              0.6666666666666666,
              "#ed7953"
             ],
             [
              0.7777777777777778,
              "#fb9f3a"
             ],
             [
              0.8888888888888888,
              "#fdca26"
             ],
             [
              1,
              "#f0f921"
             ]
            ],
            "type": "surface"
           }
          ],
          "table": [
           {
            "cells": {
             "fill": {
              "color": "#EBF0F8"
             },
             "line": {
              "color": "white"
             }
            },
            "header": {
             "fill": {
              "color": "#C8D4E3"
             },
             "line": {
              "color": "white"
             }
            },
            "type": "table"
           }
          ]
         },
         "layout": {
          "annotationdefaults": {
           "arrowcolor": "#2a3f5f",
           "arrowhead": 0,
           "arrowwidth": 1
          },
          "coloraxis": {
           "colorbar": {
            "outlinewidth": 0,
            "ticks": ""
           }
          },
          "colorscale": {
           "diverging": [
            [
             0,
             "#8e0152"
            ],
            [
             0.1,
             "#c51b7d"
            ],
            [
             0.2,
             "#de77ae"
            ],
            [
             0.3,
             "#f1b6da"
            ],
            [
             0.4,
             "#fde0ef"
            ],
            [
             0.5,
             "#f7f7f7"
            ],
            [
             0.6,
             "#e6f5d0"
            ],
            [
             0.7,
             "#b8e186"
            ],
            [
             0.8,
             "#7fbc41"
            ],
            [
             0.9,
             "#4d9221"
            ],
            [
             1,
             "#276419"
            ]
           ],
           "sequential": [
            [
             0,
             "#0d0887"
            ],
            [
             0.1111111111111111,
             "#46039f"
            ],
            [
             0.2222222222222222,
             "#7201a8"
            ],
            [
             0.3333333333333333,
             "#9c179e"
            ],
            [
             0.4444444444444444,
             "#bd3786"
            ],
            [
             0.5555555555555556,
             "#d8576b"
            ],
            [
             0.6666666666666666,
             "#ed7953"
            ],
            [
             0.7777777777777778,
             "#fb9f3a"
            ],
            [
             0.8888888888888888,
             "#fdca26"
            ],
            [
             1,
             "#f0f921"
            ]
           ],
           "sequentialminus": [
            [
             0,
             "#0d0887"
            ],
            [
             0.1111111111111111,
             "#46039f"
            ],
            [
             0.2222222222222222,
             "#7201a8"
            ],
            [
             0.3333333333333333,
             "#9c179e"
            ],
            [
             0.4444444444444444,
             "#bd3786"
            ],
            [
             0.5555555555555556,
             "#d8576b"
            ],
            [
             0.6666666666666666,
             "#ed7953"
            ],
            [
             0.7777777777777778,
             "#fb9f3a"
            ],
            [
             0.8888888888888888,
             "#fdca26"
            ],
            [
             1,
             "#f0f921"
            ]
           ]
          },
          "colorway": [
           "#636efa",
           "#EF553B",
           "#00cc96",
           "#ab63fa",
           "#FFA15A",
           "#19d3f3",
           "#FF6692",
           "#B6E880",
           "#FF97FF",
           "#FECB52"
          ],
          "font": {
           "color": "#2a3f5f"
          },
          "geo": {
           "bgcolor": "white",
           "lakecolor": "white",
           "landcolor": "#E5ECF6",
           "showlakes": true,
           "showland": true,
           "subunitcolor": "white"
          },
          "hoverlabel": {
           "align": "left"
          },
          "hovermode": "closest",
          "mapbox": {
           "style": "light"
          },
          "paper_bgcolor": "white",
          "plot_bgcolor": "#E5ECF6",
          "polar": {
           "angularaxis": {
            "gridcolor": "white",
            "linecolor": "white",
            "ticks": ""
           },
           "bgcolor": "#E5ECF6",
           "radialaxis": {
            "gridcolor": "white",
            "linecolor": "white",
            "ticks": ""
           }
          },
          "scene": {
           "xaxis": {
            "backgroundcolor": "#E5ECF6",
            "gridcolor": "white",
            "gridwidth": 2,
            "linecolor": "white",
            "showbackground": true,
            "ticks": "",
            "zerolinecolor": "white"
           },
           "yaxis": {
            "backgroundcolor": "#E5ECF6",
            "gridcolor": "white",
            "gridwidth": 2,
            "linecolor": "white",
            "showbackground": true,
            "ticks": "",
            "zerolinecolor": "white"
           },
           "zaxis": {
            "backgroundcolor": "#E5ECF6",
            "gridcolor": "white",
            "gridwidth": 2,
            "linecolor": "white",
            "showbackground": true,
            "ticks": "",
            "zerolinecolor": "white"
           }
          },
          "shapedefaults": {
           "line": {
            "color": "#2a3f5f"
           }
          },
          "ternary": {
           "aaxis": {
            "gridcolor": "white",
            "linecolor": "white",
            "ticks": ""
           },
           "baxis": {
            "gridcolor": "white",
            "linecolor": "white",
            "ticks": ""
           },
           "bgcolor": "#E5ECF6",
           "caxis": {
            "gridcolor": "white",
            "linecolor": "white",
            "ticks": ""
           }
          },
          "title": {
           "x": 0.05
          },
          "xaxis": {
           "automargin": true,
           "gridcolor": "white",
           "linecolor": "white",
           "ticks": "",
           "title": {
            "standoff": 15
           },
           "zerolinecolor": "white",
           "zerolinewidth": 2
          },
          "yaxis": {
           "automargin": true,
           "gridcolor": "white",
           "linecolor": "white",
           "ticks": "",
           "title": {
            "standoff": 15
           },
           "zerolinecolor": "white",
           "zerolinewidth": 2
          }
         }
        },
        "title": {
         "font": {
          "color": "#4D5663"
         }
        },
        "xaxis": {
         "gridcolor": "#E1E5ED",
         "showgrid": true,
         "tickfont": {
          "color": "#4D5663"
         },
         "title": {
          "font": {
           "color": "#4D5663"
          },
          "text": ""
         },
         "zerolinecolor": "#E1E5ED"
        },
        "yaxis": {
         "gridcolor": "#E1E5ED",
         "showgrid": true,
         "tickfont": {
          "color": "#4D5663"
         },
         "title": {
          "font": {
           "color": "#4D5663"
          },
          "text": ""
         },
         "zerolinecolor": "#E1E5ED"
        }
       }
      },
      "text/html": [
       "<div>\n",
       "        \n",
       "        \n",
       "            <div id=\"8604f363-682b-42d9-90ac-858ca0ab90cd\" class=\"plotly-graph-div\" style=\"height:525px; width:100%;\"></div>\n",
       "            <script type=\"text/javascript\">\n",
       "                require([\"plotly\"], function(Plotly) {\n",
       "                    window.PLOTLYENV=window.PLOTLYENV || {};\n",
       "                    window.PLOTLYENV.BASE_URL='https://plot.ly';\n",
       "                    \n",
       "                if (document.getElementById(\"8604f363-682b-42d9-90ac-858ca0ab90cd\")) {\n",
       "                    Plotly.newPlot(\n",
       "                        '8604f363-682b-42d9-90ac-858ca0ab90cd',\n",
       "                        [{\"marker\": {\"color\": \"rgba(255, 153, 51, 0.6)\", \"line\": {\"color\": \"rgba(255, 153, 51, 1.0)\", \"width\": 1}}, \"name\": \"None\", \"orientation\": \"v\", \"text\": \"\", \"type\": \"bar\", \"x\": [\"A\", \"B\", \"C\", \"D\"], \"y\": [100, 100, 100, 100]}],\n",
       "                        {\"legend\": {\"bgcolor\": \"#F5F6F9\", \"font\": {\"color\": \"#4D5663\"}}, \"paper_bgcolor\": \"#F5F6F9\", \"plot_bgcolor\": \"#F5F6F9\", \"template\": {\"data\": {\"bar\": [{\"error_x\": {\"color\": \"#2a3f5f\"}, \"error_y\": {\"color\": \"#2a3f5f\"}, \"marker\": {\"line\": {\"color\": \"#E5ECF6\", \"width\": 0.5}}, \"type\": \"bar\"}], \"barpolar\": [{\"marker\": {\"line\": {\"color\": \"#E5ECF6\", \"width\": 0.5}}, \"type\": \"barpolar\"}], \"carpet\": [{\"aaxis\": {\"endlinecolor\": \"#2a3f5f\", \"gridcolor\": \"white\", \"linecolor\": \"white\", \"minorgridcolor\": \"white\", \"startlinecolor\": \"#2a3f5f\"}, \"baxis\": {\"endlinecolor\": \"#2a3f5f\", \"gridcolor\": \"white\", \"linecolor\": \"white\", \"minorgridcolor\": \"white\", \"startlinecolor\": \"#2a3f5f\"}, \"type\": \"carpet\"}], \"choropleth\": [{\"colorbar\": {\"outlinewidth\": 0, \"ticks\": \"\"}, \"type\": \"choropleth\"}], \"contour\": [{\"colorbar\": {\"outlinewidth\": 0, \"ticks\": \"\"}, \"colorscale\": [[0.0, \"#0d0887\"], [0.1111111111111111, \"#46039f\"], [0.2222222222222222, \"#7201a8\"], [0.3333333333333333, \"#9c179e\"], [0.4444444444444444, \"#bd3786\"], [0.5555555555555556, \"#d8576b\"], [0.6666666666666666, \"#ed7953\"], [0.7777777777777778, \"#fb9f3a\"], [0.8888888888888888, \"#fdca26\"], [1.0, \"#f0f921\"]], \"type\": \"contour\"}], \"contourcarpet\": [{\"colorbar\": {\"outlinewidth\": 0, \"ticks\": \"\"}, \"type\": \"contourcarpet\"}], \"heatmap\": [{\"colorbar\": {\"outlinewidth\": 0, \"ticks\": \"\"}, \"colorscale\": [[0.0, \"#0d0887\"], [0.1111111111111111, \"#46039f\"], [0.2222222222222222, \"#7201a8\"], [0.3333333333333333, \"#9c179e\"], [0.4444444444444444, \"#bd3786\"], [0.5555555555555556, \"#d8576b\"], [0.6666666666666666, \"#ed7953\"], [0.7777777777777778, \"#fb9f3a\"], [0.8888888888888888, \"#fdca26\"], [1.0, \"#f0f921\"]], \"type\": \"heatmap\"}], \"heatmapgl\": [{\"colorbar\": {\"outlinewidth\": 0, \"ticks\": \"\"}, \"colorscale\": [[0.0, \"#0d0887\"], [0.1111111111111111, \"#46039f\"], [0.2222222222222222, \"#7201a8\"], [0.3333333333333333, \"#9c179e\"], [0.4444444444444444, \"#bd3786\"], [0.5555555555555556, \"#d8576b\"], [0.6666666666666666, \"#ed7953\"], [0.7777777777777778, \"#fb9f3a\"], [0.8888888888888888, \"#fdca26\"], [1.0, \"#f0f921\"]], \"type\": \"heatmapgl\"}], \"histogram\": [{\"marker\": {\"colorbar\": {\"outlinewidth\": 0, \"ticks\": \"\"}}, \"type\": \"histogram\"}], \"histogram2d\": [{\"colorbar\": {\"outlinewidth\": 0, \"ticks\": \"\"}, \"colorscale\": [[0.0, \"#0d0887\"], [0.1111111111111111, \"#46039f\"], [0.2222222222222222, \"#7201a8\"], [0.3333333333333333, \"#9c179e\"], [0.4444444444444444, \"#bd3786\"], [0.5555555555555556, \"#d8576b\"], [0.6666666666666666, \"#ed7953\"], [0.7777777777777778, \"#fb9f3a\"], [0.8888888888888888, \"#fdca26\"], [1.0, \"#f0f921\"]], \"type\": \"histogram2d\"}], \"histogram2dcontour\": [{\"colorbar\": {\"outlinewidth\": 0, \"ticks\": \"\"}, \"colorscale\": [[0.0, \"#0d0887\"], [0.1111111111111111, \"#46039f\"], [0.2222222222222222, \"#7201a8\"], [0.3333333333333333, \"#9c179e\"], [0.4444444444444444, \"#bd3786\"], [0.5555555555555556, \"#d8576b\"], [0.6666666666666666, \"#ed7953\"], [0.7777777777777778, \"#fb9f3a\"], [0.8888888888888888, \"#fdca26\"], [1.0, \"#f0f921\"]], \"type\": \"histogram2dcontour\"}], \"mesh3d\": [{\"colorbar\": {\"outlinewidth\": 0, \"ticks\": \"\"}, \"type\": \"mesh3d\"}], \"parcoords\": [{\"line\": {\"colorbar\": {\"outlinewidth\": 0, \"ticks\": \"\"}}, \"type\": \"parcoords\"}], \"pie\": [{\"automargin\": true, \"type\": \"pie\"}], \"scatter\": [{\"marker\": {\"colorbar\": {\"outlinewidth\": 0, \"ticks\": \"\"}}, \"type\": \"scatter\"}], \"scatter3d\": [{\"line\": {\"colorbar\": {\"outlinewidth\": 0, \"ticks\": \"\"}}, \"marker\": {\"colorbar\": {\"outlinewidth\": 0, \"ticks\": \"\"}}, \"type\": \"scatter3d\"}], \"scattercarpet\": [{\"marker\": {\"colorbar\": {\"outlinewidth\": 0, \"ticks\": \"\"}}, \"type\": \"scattercarpet\"}], \"scattergeo\": [{\"marker\": {\"colorbar\": {\"outlinewidth\": 0, \"ticks\": \"\"}}, \"type\": \"scattergeo\"}], \"scattergl\": [{\"marker\": {\"colorbar\": {\"outlinewidth\": 0, \"ticks\": \"\"}}, \"type\": \"scattergl\"}], \"scattermapbox\": [{\"marker\": {\"colorbar\": {\"outlinewidth\": 0, \"ticks\": \"\"}}, \"type\": \"scattermapbox\"}], \"scatterpolar\": [{\"marker\": {\"colorbar\": {\"outlinewidth\": 0, \"ticks\": \"\"}}, \"type\": \"scatterpolar\"}], \"scatterpolargl\": [{\"marker\": {\"colorbar\": {\"outlinewidth\": 0, \"ticks\": \"\"}}, \"type\": \"scatterpolargl\"}], \"scatterternary\": [{\"marker\": {\"colorbar\": {\"outlinewidth\": 0, \"ticks\": \"\"}}, \"type\": \"scatterternary\"}], \"surface\": [{\"colorbar\": {\"outlinewidth\": 0, \"ticks\": \"\"}, \"colorscale\": [[0.0, \"#0d0887\"], [0.1111111111111111, \"#46039f\"], [0.2222222222222222, \"#7201a8\"], [0.3333333333333333, \"#9c179e\"], [0.4444444444444444, \"#bd3786\"], [0.5555555555555556, \"#d8576b\"], [0.6666666666666666, \"#ed7953\"], [0.7777777777777778, \"#fb9f3a\"], [0.8888888888888888, \"#fdca26\"], [1.0, \"#f0f921\"]], \"type\": \"surface\"}], \"table\": [{\"cells\": {\"fill\": {\"color\": \"#EBF0F8\"}, \"line\": {\"color\": \"white\"}}, \"header\": {\"fill\": {\"color\": \"#C8D4E3\"}, \"line\": {\"color\": \"white\"}}, \"type\": \"table\"}]}, \"layout\": {\"annotationdefaults\": {\"arrowcolor\": \"#2a3f5f\", \"arrowhead\": 0, \"arrowwidth\": 1}, \"coloraxis\": {\"colorbar\": {\"outlinewidth\": 0, \"ticks\": \"\"}}, \"colorscale\": {\"diverging\": [[0, \"#8e0152\"], [0.1, \"#c51b7d\"], [0.2, \"#de77ae\"], [0.3, \"#f1b6da\"], [0.4, \"#fde0ef\"], [0.5, \"#f7f7f7\"], [0.6, \"#e6f5d0\"], [0.7, \"#b8e186\"], [0.8, \"#7fbc41\"], [0.9, \"#4d9221\"], [1, \"#276419\"]], \"sequential\": [[0.0, \"#0d0887\"], [0.1111111111111111, \"#46039f\"], [0.2222222222222222, \"#7201a8\"], [0.3333333333333333, \"#9c179e\"], [0.4444444444444444, \"#bd3786\"], [0.5555555555555556, \"#d8576b\"], [0.6666666666666666, \"#ed7953\"], [0.7777777777777778, \"#fb9f3a\"], [0.8888888888888888, \"#fdca26\"], [1.0, \"#f0f921\"]], \"sequentialminus\": [[0.0, \"#0d0887\"], [0.1111111111111111, \"#46039f\"], [0.2222222222222222, \"#7201a8\"], [0.3333333333333333, \"#9c179e\"], [0.4444444444444444, \"#bd3786\"], [0.5555555555555556, \"#d8576b\"], [0.6666666666666666, \"#ed7953\"], [0.7777777777777778, \"#fb9f3a\"], [0.8888888888888888, \"#fdca26\"], [1.0, \"#f0f921\"]]}, \"colorway\": [\"#636efa\", \"#EF553B\", \"#00cc96\", \"#ab63fa\", \"#FFA15A\", \"#19d3f3\", \"#FF6692\", \"#B6E880\", \"#FF97FF\", \"#FECB52\"], \"font\": {\"color\": \"#2a3f5f\"}, \"geo\": {\"bgcolor\": \"white\", \"lakecolor\": \"white\", \"landcolor\": \"#E5ECF6\", \"showlakes\": true, \"showland\": true, \"subunitcolor\": \"white\"}, \"hoverlabel\": {\"align\": \"left\"}, \"hovermode\": \"closest\", \"mapbox\": {\"style\": \"light\"}, \"paper_bgcolor\": \"white\", \"plot_bgcolor\": \"#E5ECF6\", \"polar\": {\"angularaxis\": {\"gridcolor\": \"white\", \"linecolor\": \"white\", \"ticks\": \"\"}, \"bgcolor\": \"#E5ECF6\", \"radialaxis\": {\"gridcolor\": \"white\", \"linecolor\": \"white\", \"ticks\": \"\"}}, \"scene\": {\"xaxis\": {\"backgroundcolor\": \"#E5ECF6\", \"gridcolor\": \"white\", \"gridwidth\": 2, \"linecolor\": \"white\", \"showbackground\": true, \"ticks\": \"\", \"zerolinecolor\": \"white\"}, \"yaxis\": {\"backgroundcolor\": \"#E5ECF6\", \"gridcolor\": \"white\", \"gridwidth\": 2, \"linecolor\": \"white\", \"showbackground\": true, \"ticks\": \"\", \"zerolinecolor\": \"white\"}, \"zaxis\": {\"backgroundcolor\": \"#E5ECF6\", \"gridcolor\": \"white\", \"gridwidth\": 2, \"linecolor\": \"white\", \"showbackground\": true, \"ticks\": \"\", \"zerolinecolor\": \"white\"}}, \"shapedefaults\": {\"line\": {\"color\": \"#2a3f5f\"}}, \"ternary\": {\"aaxis\": {\"gridcolor\": \"white\", \"linecolor\": \"white\", \"ticks\": \"\"}, \"baxis\": {\"gridcolor\": \"white\", \"linecolor\": \"white\", \"ticks\": \"\"}, \"bgcolor\": \"#E5ECF6\", \"caxis\": {\"gridcolor\": \"white\", \"linecolor\": \"white\", \"ticks\": \"\"}}, \"title\": {\"x\": 0.05}, \"xaxis\": {\"automargin\": true, \"gridcolor\": \"white\", \"linecolor\": \"white\", \"ticks\": \"\", \"title\": {\"standoff\": 15}, \"zerolinecolor\": \"white\", \"zerolinewidth\": 2}, \"yaxis\": {\"automargin\": true, \"gridcolor\": \"white\", \"linecolor\": \"white\", \"ticks\": \"\", \"title\": {\"standoff\": 15}, \"zerolinecolor\": \"white\", \"zerolinewidth\": 2}}}, \"title\": {\"font\": {\"color\": \"#4D5663\"}}, \"xaxis\": {\"gridcolor\": \"#E1E5ED\", \"showgrid\": true, \"tickfont\": {\"color\": \"#4D5663\"}, \"title\": {\"font\": {\"color\": \"#4D5663\"}, \"text\": \"\"}, \"zerolinecolor\": \"#E1E5ED\"}, \"yaxis\": {\"gridcolor\": \"#E1E5ED\", \"showgrid\": true, \"tickfont\": {\"color\": \"#4D5663\"}, \"title\": {\"font\": {\"color\": \"#4D5663\"}, \"text\": \"\"}, \"zerolinecolor\": \"#E1E5ED\"}},\n",
       "                        {\"showLink\": true, \"linkText\": \"Export to plot.ly\", \"plotlyServerURL\": \"https://plot.ly\", \"responsive\": true}\n",
       "                    ).then(function(){\n",
       "                            \n",
       "var gd = document.getElementById('8604f363-682b-42d9-90ac-858ca0ab90cd');\n",
       "var x = new MutationObserver(function (mutations, observer) {{\n",
       "        var display = window.getComputedStyle(gd).display;\n",
       "        if (!display || display === 'none') {{\n",
       "            console.log([gd, 'removed!']);\n",
       "            Plotly.purge(gd);\n",
       "            observer.disconnect();\n",
       "        }}\n",
       "}});\n",
       "\n",
       "// Listen for the removal of the full notebook cells\n",
       "var notebookContainer = gd.closest('#notebook-container');\n",
       "if (notebookContainer) {{\n",
       "    x.observe(notebookContainer, {childList: true});\n",
       "}}\n",
       "\n",
       "// Listen for the clearing of the current output cell\n",
       "var outputEl = gd.closest('.output');\n",
       "if (outputEl) {{\n",
       "    x.observe(outputEl, {childList: true});\n",
       "}}\n",
       "\n",
       "                        })\n",
       "                };\n",
       "                });\n",
       "            </script>\n",
       "        </div>"
      ]
     },
     "metadata": {},
     "output_type": "display_data"
    }
   ],
   "source": [
    "df.count().iplot(kind='bar')"
   ]
  },
  {
   "cell_type": "code",
   "execution_count": 28,
   "metadata": {},
   "outputs": [
    {
     "data": {
      "application/vnd.plotly.v1+json": {
       "config": {
        "linkText": "Export to plot.ly",
        "plotlyServerURL": "https://plot.ly",
        "showLink": true
       },
       "data": [
        {
         "marker": {
          "color": "rgba(255, 153, 51, 0.6)",
          "line": {
           "color": "rgba(255, 153, 51, 1.0)",
           "width": 1
          }
         },
         "name": "None",
         "orientation": "v",
         "text": "",
         "type": "bar",
         "x": [
          "A",
          "B",
          "C",
          "D"
         ],
         "y": [
          -25.978510939748812,
          9.693928285130305,
          -6.731162322465489,
          -10.002460426537645
         ]
        }
       ],
       "layout": {
        "legend": {
         "bgcolor": "#F5F6F9",
         "font": {
          "color": "#4D5663"
         }
        },
        "paper_bgcolor": "#F5F6F9",
        "plot_bgcolor": "#F5F6F9",
        "template": {
         "data": {
          "bar": [
           {
            "error_x": {
             "color": "#2a3f5f"
            },
            "error_y": {
             "color": "#2a3f5f"
            },
            "marker": {
             "line": {
              "color": "#E5ECF6",
              "width": 0.5
             }
            },
            "type": "bar"
           }
          ],
          "barpolar": [
           {
            "marker": {
             "line": {
              "color": "#E5ECF6",
              "width": 0.5
             }
            },
            "type": "barpolar"
           }
          ],
          "carpet": [
           {
            "aaxis": {
             "endlinecolor": "#2a3f5f",
             "gridcolor": "white",
             "linecolor": "white",
             "minorgridcolor": "white",
             "startlinecolor": "#2a3f5f"
            },
            "baxis": {
             "endlinecolor": "#2a3f5f",
             "gridcolor": "white",
             "linecolor": "white",
             "minorgridcolor": "white",
             "startlinecolor": "#2a3f5f"
            },
            "type": "carpet"
           }
          ],
          "choropleth": [
           {
            "colorbar": {
             "outlinewidth": 0,
             "ticks": ""
            },
            "type": "choropleth"
           }
          ],
          "contour": [
           {
            "colorbar": {
             "outlinewidth": 0,
             "ticks": ""
            },
            "colorscale": [
             [
              0,
              "#0d0887"
             ],
             [
              0.1111111111111111,
              "#46039f"
             ],
             [
              0.2222222222222222,
              "#7201a8"
             ],
             [
              0.3333333333333333,
              "#9c179e"
             ],
             [
              0.4444444444444444,
              "#bd3786"
             ],
             [
              0.5555555555555556,
              "#d8576b"
             ],
             [
              0.6666666666666666,
              "#ed7953"
             ],
             [
              0.7777777777777778,
              "#fb9f3a"
             ],
             [
              0.8888888888888888,
              "#fdca26"
             ],
             [
              1,
              "#f0f921"
             ]
            ],
            "type": "contour"
           }
          ],
          "contourcarpet": [
           {
            "colorbar": {
             "outlinewidth": 0,
             "ticks": ""
            },
            "type": "contourcarpet"
           }
          ],
          "heatmap": [
           {
            "colorbar": {
             "outlinewidth": 0,
             "ticks": ""
            },
            "colorscale": [
             [
              0,
              "#0d0887"
             ],
             [
              0.1111111111111111,
              "#46039f"
             ],
             [
              0.2222222222222222,
              "#7201a8"
             ],
             [
              0.3333333333333333,
              "#9c179e"
             ],
             [
              0.4444444444444444,
              "#bd3786"
             ],
             [
              0.5555555555555556,
              "#d8576b"
             ],
             [
              0.6666666666666666,
              "#ed7953"
             ],
             [
              0.7777777777777778,
              "#fb9f3a"
             ],
             [
              0.8888888888888888,
              "#fdca26"
             ],
             [
              1,
              "#f0f921"
             ]
            ],
            "type": "heatmap"
           }
          ],
          "heatmapgl": [
           {
            "colorbar": {
             "outlinewidth": 0,
             "ticks": ""
            },
            "colorscale": [
             [
              0,
              "#0d0887"
             ],
             [
              0.1111111111111111,
              "#46039f"
             ],
             [
              0.2222222222222222,
              "#7201a8"
             ],
             [
              0.3333333333333333,
              "#9c179e"
             ],
             [
              0.4444444444444444,
              "#bd3786"
             ],
             [
              0.5555555555555556,
              "#d8576b"
             ],
             [
              0.6666666666666666,
              "#ed7953"
             ],
             [
              0.7777777777777778,
              "#fb9f3a"
             ],
             [
              0.8888888888888888,
              "#fdca26"
             ],
             [
              1,
              "#f0f921"
             ]
            ],
            "type": "heatmapgl"
           }
          ],
          "histogram": [
           {
            "marker": {
             "colorbar": {
              "outlinewidth": 0,
              "ticks": ""
             }
            },
            "type": "histogram"
           }
          ],
          "histogram2d": [
           {
            "colorbar": {
             "outlinewidth": 0,
             "ticks": ""
            },
            "colorscale": [
             [
              0,
              "#0d0887"
             ],
             [
              0.1111111111111111,
              "#46039f"
             ],
             [
              0.2222222222222222,
              "#7201a8"
             ],
             [
              0.3333333333333333,
              "#9c179e"
             ],
             [
              0.4444444444444444,
              "#bd3786"
             ],
             [
              0.5555555555555556,
              "#d8576b"
             ],
             [
              0.6666666666666666,
              "#ed7953"
             ],
             [
              0.7777777777777778,
              "#fb9f3a"
             ],
             [
              0.8888888888888888,
              "#fdca26"
             ],
             [
              1,
              "#f0f921"
             ]
            ],
            "type": "histogram2d"
           }
          ],
          "histogram2dcontour": [
           {
            "colorbar": {
             "outlinewidth": 0,
             "ticks": ""
            },
            "colorscale": [
             [
              0,
              "#0d0887"
             ],
             [
              0.1111111111111111,
              "#46039f"
             ],
             [
              0.2222222222222222,
              "#7201a8"
             ],
             [
              0.3333333333333333,
              "#9c179e"
             ],
             [
              0.4444444444444444,
              "#bd3786"
             ],
             [
              0.5555555555555556,
              "#d8576b"
             ],
             [
              0.6666666666666666,
              "#ed7953"
             ],
             [
              0.7777777777777778,
              "#fb9f3a"
             ],
             [
              0.8888888888888888,
              "#fdca26"
             ],
             [
              1,
              "#f0f921"
             ]
            ],
            "type": "histogram2dcontour"
           }
          ],
          "mesh3d": [
           {
            "colorbar": {
             "outlinewidth": 0,
             "ticks": ""
            },
            "type": "mesh3d"
           }
          ],
          "parcoords": [
           {
            "line": {
             "colorbar": {
              "outlinewidth": 0,
              "ticks": ""
             }
            },
            "type": "parcoords"
           }
          ],
          "pie": [
           {
            "automargin": true,
            "type": "pie"
           }
          ],
          "scatter": [
           {
            "marker": {
             "colorbar": {
              "outlinewidth": 0,
              "ticks": ""
             }
            },
            "type": "scatter"
           }
          ],
          "scatter3d": [
           {
            "line": {
             "colorbar": {
              "outlinewidth": 0,
              "ticks": ""
             }
            },
            "marker": {
             "colorbar": {
              "outlinewidth": 0,
              "ticks": ""
             }
            },
            "type": "scatter3d"
           }
          ],
          "scattercarpet": [
           {
            "marker": {
             "colorbar": {
              "outlinewidth": 0,
              "ticks": ""
             }
            },
            "type": "scattercarpet"
           }
          ],
          "scattergeo": [
           {
            "marker": {
             "colorbar": {
              "outlinewidth": 0,
              "ticks": ""
             }
            },
            "type": "scattergeo"
           }
          ],
          "scattergl": [
           {
            "marker": {
             "colorbar": {
              "outlinewidth": 0,
              "ticks": ""
             }
            },
            "type": "scattergl"
           }
          ],
          "scattermapbox": [
           {
            "marker": {
             "colorbar": {
              "outlinewidth": 0,
              "ticks": ""
             }
            },
            "type": "scattermapbox"
           }
          ],
          "scatterpolar": [
           {
            "marker": {
             "colorbar": {
              "outlinewidth": 0,
              "ticks": ""
             }
            },
            "type": "scatterpolar"
           }
          ],
          "scatterpolargl": [
           {
            "marker": {
             "colorbar": {
              "outlinewidth": 0,
              "ticks": ""
             }
            },
            "type": "scatterpolargl"
           }
          ],
          "scatterternary": [
           {
            "marker": {
             "colorbar": {
              "outlinewidth": 0,
              "ticks": ""
             }
            },
            "type": "scatterternary"
           }
          ],
          "surface": [
           {
            "colorbar": {
             "outlinewidth": 0,
             "ticks": ""
            },
            "colorscale": [
             [
              0,
              "#0d0887"
             ],
             [
              0.1111111111111111,
              "#46039f"
             ],
             [
              0.2222222222222222,
              "#7201a8"
             ],
             [
              0.3333333333333333,
              "#9c179e"
             ],
             [
              0.4444444444444444,
              "#bd3786"
             ],
             [
              0.5555555555555556,
              "#d8576b"
             ],
             [
              0.6666666666666666,
              "#ed7953"
             ],
             [
              0.7777777777777778,
              "#fb9f3a"
             ],
             [
              0.8888888888888888,
              "#fdca26"
             ],
             [
              1,
              "#f0f921"
             ]
            ],
            "type": "surface"
           }
          ],
          "table": [
           {
            "cells": {
             "fill": {
              "color": "#EBF0F8"
             },
             "line": {
              "color": "white"
             }
            },
            "header": {
             "fill": {
              "color": "#C8D4E3"
             },
             "line": {
              "color": "white"
             }
            },
            "type": "table"
           }
          ]
         },
         "layout": {
          "annotationdefaults": {
           "arrowcolor": "#2a3f5f",
           "arrowhead": 0,
           "arrowwidth": 1
          },
          "coloraxis": {
           "colorbar": {
            "outlinewidth": 0,
            "ticks": ""
           }
          },
          "colorscale": {
           "diverging": [
            [
             0,
             "#8e0152"
            ],
            [
             0.1,
             "#c51b7d"
            ],
            [
             0.2,
             "#de77ae"
            ],
            [
             0.3,
             "#f1b6da"
            ],
            [
             0.4,
             "#fde0ef"
            ],
            [
             0.5,
             "#f7f7f7"
            ],
            [
             0.6,
             "#e6f5d0"
            ],
            [
             0.7,
             "#b8e186"
            ],
            [
             0.8,
             "#7fbc41"
            ],
            [
             0.9,
             "#4d9221"
            ],
            [
             1,
             "#276419"
            ]
           ],
           "sequential": [
            [
             0,
             "#0d0887"
            ],
            [
             0.1111111111111111,
             "#46039f"
            ],
            [
             0.2222222222222222,
             "#7201a8"
            ],
            [
             0.3333333333333333,
             "#9c179e"
            ],
            [
             0.4444444444444444,
             "#bd3786"
            ],
            [
             0.5555555555555556,
             "#d8576b"
            ],
            [
             0.6666666666666666,
             "#ed7953"
            ],
            [
             0.7777777777777778,
             "#fb9f3a"
            ],
            [
             0.8888888888888888,
             "#fdca26"
            ],
            [
             1,
             "#f0f921"
            ]
           ],
           "sequentialminus": [
            [
             0,
             "#0d0887"
            ],
            [
             0.1111111111111111,
             "#46039f"
            ],
            [
             0.2222222222222222,
             "#7201a8"
            ],
            [
             0.3333333333333333,
             "#9c179e"
            ],
            [
             0.4444444444444444,
             "#bd3786"
            ],
            [
             0.5555555555555556,
             "#d8576b"
            ],
            [
             0.6666666666666666,
             "#ed7953"
            ],
            [
             0.7777777777777778,
             "#fb9f3a"
            ],
            [
             0.8888888888888888,
             "#fdca26"
            ],
            [
             1,
             "#f0f921"
            ]
           ]
          },
          "colorway": [
           "#636efa",
           "#EF553B",
           "#00cc96",
           "#ab63fa",
           "#FFA15A",
           "#19d3f3",
           "#FF6692",
           "#B6E880",
           "#FF97FF",
           "#FECB52"
          ],
          "font": {
           "color": "#2a3f5f"
          },
          "geo": {
           "bgcolor": "white",
           "lakecolor": "white",
           "landcolor": "#E5ECF6",
           "showlakes": true,
           "showland": true,
           "subunitcolor": "white"
          },
          "hoverlabel": {
           "align": "left"
          },
          "hovermode": "closest",
          "mapbox": {
           "style": "light"
          },
          "paper_bgcolor": "white",
          "plot_bgcolor": "#E5ECF6",
          "polar": {
           "angularaxis": {
            "gridcolor": "white",
            "linecolor": "white",
            "ticks": ""
           },
           "bgcolor": "#E5ECF6",
           "radialaxis": {
            "gridcolor": "white",
            "linecolor": "white",
            "ticks": ""
           }
          },
          "scene": {
           "xaxis": {
            "backgroundcolor": "#E5ECF6",
            "gridcolor": "white",
            "gridwidth": 2,
            "linecolor": "white",
            "showbackground": true,
            "ticks": "",
            "zerolinecolor": "white"
           },
           "yaxis": {
            "backgroundcolor": "#E5ECF6",
            "gridcolor": "white",
            "gridwidth": 2,
            "linecolor": "white",
            "showbackground": true,
            "ticks": "",
            "zerolinecolor": "white"
           },
           "zaxis": {
            "backgroundcolor": "#E5ECF6",
            "gridcolor": "white",
            "gridwidth": 2,
            "linecolor": "white",
            "showbackground": true,
            "ticks": "",
            "zerolinecolor": "white"
           }
          },
          "shapedefaults": {
           "line": {
            "color": "#2a3f5f"
           }
          },
          "ternary": {
           "aaxis": {
            "gridcolor": "white",
            "linecolor": "white",
            "ticks": ""
           },
           "baxis": {
            "gridcolor": "white",
            "linecolor": "white",
            "ticks": ""
           },
           "bgcolor": "#E5ECF6",
           "caxis": {
            "gridcolor": "white",
            "linecolor": "white",
            "ticks": ""
           }
          },
          "title": {
           "x": 0.05
          },
          "xaxis": {
           "automargin": true,
           "gridcolor": "white",
           "linecolor": "white",
           "ticks": "",
           "title": {
            "standoff": 15
           },
           "zerolinecolor": "white",
           "zerolinewidth": 2
          },
          "yaxis": {
           "automargin": true,
           "gridcolor": "white",
           "linecolor": "white",
           "ticks": "",
           "title": {
            "standoff": 15
           },
           "zerolinecolor": "white",
           "zerolinewidth": 2
          }
         }
        },
        "title": {
         "font": {
          "color": "#4D5663"
         }
        },
        "xaxis": {
         "gridcolor": "#E1E5ED",
         "showgrid": true,
         "tickfont": {
          "color": "#4D5663"
         },
         "title": {
          "font": {
           "color": "#4D5663"
          },
          "text": ""
         },
         "zerolinecolor": "#E1E5ED"
        },
        "yaxis": {
         "gridcolor": "#E1E5ED",
         "showgrid": true,
         "tickfont": {
          "color": "#4D5663"
         },
         "title": {
          "font": {
           "color": "#4D5663"
          },
          "text": ""
         },
         "zerolinecolor": "#E1E5ED"
        }
       }
      },
      "text/html": [
       "<div>\n",
       "        \n",
       "        \n",
       "            <div id=\"6fae76e0-10e0-4cff-8176-3bbf26e377bd\" class=\"plotly-graph-div\" style=\"height:525px; width:100%;\"></div>\n",
       "            <script type=\"text/javascript\">\n",
       "                require([\"plotly\"], function(Plotly) {\n",
       "                    window.PLOTLYENV=window.PLOTLYENV || {};\n",
       "                    window.PLOTLYENV.BASE_URL='https://plot.ly';\n",
       "                    \n",
       "                if (document.getElementById(\"6fae76e0-10e0-4cff-8176-3bbf26e377bd\")) {\n",
       "                    Plotly.newPlot(\n",
       "                        '6fae76e0-10e0-4cff-8176-3bbf26e377bd',\n",
       "                        [{\"marker\": {\"color\": \"rgba(255, 153, 51, 0.6)\", \"line\": {\"color\": \"rgba(255, 153, 51, 1.0)\", \"width\": 1}}, \"name\": \"None\", \"orientation\": \"v\", \"text\": \"\", \"type\": \"bar\", \"x\": [\"A\", \"B\", \"C\", \"D\"], \"y\": [-25.978510939748812, 9.693928285130305, -6.731162322465489, -10.002460426537645]}],\n",
       "                        {\"legend\": {\"bgcolor\": \"#F5F6F9\", \"font\": {\"color\": \"#4D5663\"}}, \"paper_bgcolor\": \"#F5F6F9\", \"plot_bgcolor\": \"#F5F6F9\", \"template\": {\"data\": {\"bar\": [{\"error_x\": {\"color\": \"#2a3f5f\"}, \"error_y\": {\"color\": \"#2a3f5f\"}, \"marker\": {\"line\": {\"color\": \"#E5ECF6\", \"width\": 0.5}}, \"type\": \"bar\"}], \"barpolar\": [{\"marker\": {\"line\": {\"color\": \"#E5ECF6\", \"width\": 0.5}}, \"type\": \"barpolar\"}], \"carpet\": [{\"aaxis\": {\"endlinecolor\": \"#2a3f5f\", \"gridcolor\": \"white\", \"linecolor\": \"white\", \"minorgridcolor\": \"white\", \"startlinecolor\": \"#2a3f5f\"}, \"baxis\": {\"endlinecolor\": \"#2a3f5f\", \"gridcolor\": \"white\", \"linecolor\": \"white\", \"minorgridcolor\": \"white\", \"startlinecolor\": \"#2a3f5f\"}, \"type\": \"carpet\"}], \"choropleth\": [{\"colorbar\": {\"outlinewidth\": 0, \"ticks\": \"\"}, \"type\": \"choropleth\"}], \"contour\": [{\"colorbar\": {\"outlinewidth\": 0, \"ticks\": \"\"}, \"colorscale\": [[0.0, \"#0d0887\"], [0.1111111111111111, \"#46039f\"], [0.2222222222222222, \"#7201a8\"], [0.3333333333333333, \"#9c179e\"], [0.4444444444444444, \"#bd3786\"], [0.5555555555555556, \"#d8576b\"], [0.6666666666666666, \"#ed7953\"], [0.7777777777777778, \"#fb9f3a\"], [0.8888888888888888, \"#fdca26\"], [1.0, \"#f0f921\"]], \"type\": \"contour\"}], \"contourcarpet\": [{\"colorbar\": {\"outlinewidth\": 0, \"ticks\": \"\"}, \"type\": \"contourcarpet\"}], \"heatmap\": [{\"colorbar\": {\"outlinewidth\": 0, \"ticks\": \"\"}, \"colorscale\": [[0.0, \"#0d0887\"], [0.1111111111111111, \"#46039f\"], [0.2222222222222222, \"#7201a8\"], [0.3333333333333333, \"#9c179e\"], [0.4444444444444444, \"#bd3786\"], [0.5555555555555556, \"#d8576b\"], [0.6666666666666666, \"#ed7953\"], [0.7777777777777778, \"#fb9f3a\"], [0.8888888888888888, \"#fdca26\"], [1.0, \"#f0f921\"]], \"type\": \"heatmap\"}], \"heatmapgl\": [{\"colorbar\": {\"outlinewidth\": 0, \"ticks\": \"\"}, \"colorscale\": [[0.0, \"#0d0887\"], [0.1111111111111111, \"#46039f\"], [0.2222222222222222, \"#7201a8\"], [0.3333333333333333, \"#9c179e\"], [0.4444444444444444, \"#bd3786\"], [0.5555555555555556, \"#d8576b\"], [0.6666666666666666, \"#ed7953\"], [0.7777777777777778, \"#fb9f3a\"], [0.8888888888888888, \"#fdca26\"], [1.0, \"#f0f921\"]], \"type\": \"heatmapgl\"}], \"histogram\": [{\"marker\": {\"colorbar\": {\"outlinewidth\": 0, \"ticks\": \"\"}}, \"type\": \"histogram\"}], \"histogram2d\": [{\"colorbar\": {\"outlinewidth\": 0, \"ticks\": \"\"}, \"colorscale\": [[0.0, \"#0d0887\"], [0.1111111111111111, \"#46039f\"], [0.2222222222222222, \"#7201a8\"], [0.3333333333333333, \"#9c179e\"], [0.4444444444444444, \"#bd3786\"], [0.5555555555555556, \"#d8576b\"], [0.6666666666666666, \"#ed7953\"], [0.7777777777777778, \"#fb9f3a\"], [0.8888888888888888, \"#fdca26\"], [1.0, \"#f0f921\"]], \"type\": \"histogram2d\"}], \"histogram2dcontour\": [{\"colorbar\": {\"outlinewidth\": 0, \"ticks\": \"\"}, \"colorscale\": [[0.0, \"#0d0887\"], [0.1111111111111111, \"#46039f\"], [0.2222222222222222, \"#7201a8\"], [0.3333333333333333, \"#9c179e\"], [0.4444444444444444, \"#bd3786\"], [0.5555555555555556, \"#d8576b\"], [0.6666666666666666, \"#ed7953\"], [0.7777777777777778, \"#fb9f3a\"], [0.8888888888888888, \"#fdca26\"], [1.0, \"#f0f921\"]], \"type\": \"histogram2dcontour\"}], \"mesh3d\": [{\"colorbar\": {\"outlinewidth\": 0, \"ticks\": \"\"}, \"type\": \"mesh3d\"}], \"parcoords\": [{\"line\": {\"colorbar\": {\"outlinewidth\": 0, \"ticks\": \"\"}}, \"type\": \"parcoords\"}], \"pie\": [{\"automargin\": true, \"type\": \"pie\"}], \"scatter\": [{\"marker\": {\"colorbar\": {\"outlinewidth\": 0, \"ticks\": \"\"}}, \"type\": \"scatter\"}], \"scatter3d\": [{\"line\": {\"colorbar\": {\"outlinewidth\": 0, \"ticks\": \"\"}}, \"marker\": {\"colorbar\": {\"outlinewidth\": 0, \"ticks\": \"\"}}, \"type\": \"scatter3d\"}], \"scattercarpet\": [{\"marker\": {\"colorbar\": {\"outlinewidth\": 0, \"ticks\": \"\"}}, \"type\": \"scattercarpet\"}], \"scattergeo\": [{\"marker\": {\"colorbar\": {\"outlinewidth\": 0, \"ticks\": \"\"}}, \"type\": \"scattergeo\"}], \"scattergl\": [{\"marker\": {\"colorbar\": {\"outlinewidth\": 0, \"ticks\": \"\"}}, \"type\": \"scattergl\"}], \"scattermapbox\": [{\"marker\": {\"colorbar\": {\"outlinewidth\": 0, \"ticks\": \"\"}}, \"type\": \"scattermapbox\"}], \"scatterpolar\": [{\"marker\": {\"colorbar\": {\"outlinewidth\": 0, \"ticks\": \"\"}}, \"type\": \"scatterpolar\"}], \"scatterpolargl\": [{\"marker\": {\"colorbar\": {\"outlinewidth\": 0, \"ticks\": \"\"}}, \"type\": \"scatterpolargl\"}], \"scatterternary\": [{\"marker\": {\"colorbar\": {\"outlinewidth\": 0, \"ticks\": \"\"}}, \"type\": \"scatterternary\"}], \"surface\": [{\"colorbar\": {\"outlinewidth\": 0, \"ticks\": \"\"}, \"colorscale\": [[0.0, \"#0d0887\"], [0.1111111111111111, \"#46039f\"], [0.2222222222222222, \"#7201a8\"], [0.3333333333333333, \"#9c179e\"], [0.4444444444444444, \"#bd3786\"], [0.5555555555555556, \"#d8576b\"], [0.6666666666666666, \"#ed7953\"], [0.7777777777777778, \"#fb9f3a\"], [0.8888888888888888, \"#fdca26\"], [1.0, \"#f0f921\"]], \"type\": \"surface\"}], \"table\": [{\"cells\": {\"fill\": {\"color\": \"#EBF0F8\"}, \"line\": {\"color\": \"white\"}}, \"header\": {\"fill\": {\"color\": \"#C8D4E3\"}, \"line\": {\"color\": \"white\"}}, \"type\": \"table\"}]}, \"layout\": {\"annotationdefaults\": {\"arrowcolor\": \"#2a3f5f\", \"arrowhead\": 0, \"arrowwidth\": 1}, \"coloraxis\": {\"colorbar\": {\"outlinewidth\": 0, \"ticks\": \"\"}}, \"colorscale\": {\"diverging\": [[0, \"#8e0152\"], [0.1, \"#c51b7d\"], [0.2, \"#de77ae\"], [0.3, \"#f1b6da\"], [0.4, \"#fde0ef\"], [0.5, \"#f7f7f7\"], [0.6, \"#e6f5d0\"], [0.7, \"#b8e186\"], [0.8, \"#7fbc41\"], [0.9, \"#4d9221\"], [1, \"#276419\"]], \"sequential\": [[0.0, \"#0d0887\"], [0.1111111111111111, \"#46039f\"], [0.2222222222222222, \"#7201a8\"], [0.3333333333333333, \"#9c179e\"], [0.4444444444444444, \"#bd3786\"], [0.5555555555555556, \"#d8576b\"], [0.6666666666666666, \"#ed7953\"], [0.7777777777777778, \"#fb9f3a\"], [0.8888888888888888, \"#fdca26\"], [1.0, \"#f0f921\"]], \"sequentialminus\": [[0.0, \"#0d0887\"], [0.1111111111111111, \"#46039f\"], [0.2222222222222222, \"#7201a8\"], [0.3333333333333333, \"#9c179e\"], [0.4444444444444444, \"#bd3786\"], [0.5555555555555556, \"#d8576b\"], [0.6666666666666666, \"#ed7953\"], [0.7777777777777778, \"#fb9f3a\"], [0.8888888888888888, \"#fdca26\"], [1.0, \"#f0f921\"]]}, \"colorway\": [\"#636efa\", \"#EF553B\", \"#00cc96\", \"#ab63fa\", \"#FFA15A\", \"#19d3f3\", \"#FF6692\", \"#B6E880\", \"#FF97FF\", \"#FECB52\"], \"font\": {\"color\": \"#2a3f5f\"}, \"geo\": {\"bgcolor\": \"white\", \"lakecolor\": \"white\", \"landcolor\": \"#E5ECF6\", \"showlakes\": true, \"showland\": true, \"subunitcolor\": \"white\"}, \"hoverlabel\": {\"align\": \"left\"}, \"hovermode\": \"closest\", \"mapbox\": {\"style\": \"light\"}, \"paper_bgcolor\": \"white\", \"plot_bgcolor\": \"#E5ECF6\", \"polar\": {\"angularaxis\": {\"gridcolor\": \"white\", \"linecolor\": \"white\", \"ticks\": \"\"}, \"bgcolor\": \"#E5ECF6\", \"radialaxis\": {\"gridcolor\": \"white\", \"linecolor\": \"white\", \"ticks\": \"\"}}, \"scene\": {\"xaxis\": {\"backgroundcolor\": \"#E5ECF6\", \"gridcolor\": \"white\", \"gridwidth\": 2, \"linecolor\": \"white\", \"showbackground\": true, \"ticks\": \"\", \"zerolinecolor\": \"white\"}, \"yaxis\": {\"backgroundcolor\": \"#E5ECF6\", \"gridcolor\": \"white\", \"gridwidth\": 2, \"linecolor\": \"white\", \"showbackground\": true, \"ticks\": \"\", \"zerolinecolor\": \"white\"}, \"zaxis\": {\"backgroundcolor\": \"#E5ECF6\", \"gridcolor\": \"white\", \"gridwidth\": 2, \"linecolor\": \"white\", \"showbackground\": true, \"ticks\": \"\", \"zerolinecolor\": \"white\"}}, \"shapedefaults\": {\"line\": {\"color\": \"#2a3f5f\"}}, \"ternary\": {\"aaxis\": {\"gridcolor\": \"white\", \"linecolor\": \"white\", \"ticks\": \"\"}, \"baxis\": {\"gridcolor\": \"white\", \"linecolor\": \"white\", \"ticks\": \"\"}, \"bgcolor\": \"#E5ECF6\", \"caxis\": {\"gridcolor\": \"white\", \"linecolor\": \"white\", \"ticks\": \"\"}}, \"title\": {\"x\": 0.05}, \"xaxis\": {\"automargin\": true, \"gridcolor\": \"white\", \"linecolor\": \"white\", \"ticks\": \"\", \"title\": {\"standoff\": 15}, \"zerolinecolor\": \"white\", \"zerolinewidth\": 2}, \"yaxis\": {\"automargin\": true, \"gridcolor\": \"white\", \"linecolor\": \"white\", \"ticks\": \"\", \"title\": {\"standoff\": 15}, \"zerolinecolor\": \"white\", \"zerolinewidth\": 2}}}, \"title\": {\"font\": {\"color\": \"#4D5663\"}}, \"xaxis\": {\"gridcolor\": \"#E1E5ED\", \"showgrid\": true, \"tickfont\": {\"color\": \"#4D5663\"}, \"title\": {\"font\": {\"color\": \"#4D5663\"}, \"text\": \"\"}, \"zerolinecolor\": \"#E1E5ED\"}, \"yaxis\": {\"gridcolor\": \"#E1E5ED\", \"showgrid\": true, \"tickfont\": {\"color\": \"#4D5663\"}, \"title\": {\"font\": {\"color\": \"#4D5663\"}, \"text\": \"\"}, \"zerolinecolor\": \"#E1E5ED\"}},\n",
       "                        {\"showLink\": true, \"linkText\": \"Export to plot.ly\", \"plotlyServerURL\": \"https://plot.ly\", \"responsive\": true}\n",
       "                    ).then(function(){\n",
       "                            \n",
       "var gd = document.getElementById('6fae76e0-10e0-4cff-8176-3bbf26e377bd');\n",
       "var x = new MutationObserver(function (mutations, observer) {{\n",
       "        var display = window.getComputedStyle(gd).display;\n",
       "        if (!display || display === 'none') {{\n",
       "            console.log([gd, 'removed!']);\n",
       "            Plotly.purge(gd);\n",
       "            observer.disconnect();\n",
       "        }}\n",
       "}});\n",
       "\n",
       "// Listen for the removal of the full notebook cells\n",
       "var notebookContainer = gd.closest('#notebook-container');\n",
       "if (notebookContainer) {{\n",
       "    x.observe(notebookContainer, {childList: true});\n",
       "}}\n",
       "\n",
       "// Listen for the clearing of the current output cell\n",
       "var outputEl = gd.closest('.output');\n",
       "if (outputEl) {{\n",
       "    x.observe(outputEl, {childList: true});\n",
       "}}\n",
       "\n",
       "                        })\n",
       "                };\n",
       "                });\n",
       "            </script>\n",
       "        </div>"
      ]
     },
     "metadata": {},
     "output_type": "display_data"
    }
   ],
   "source": [
    "df.sum().iplot(kind='bar')"
   ]
  },
  {
   "cell_type": "code",
   "execution_count": 29,
   "metadata": {},
   "outputs": [
    {
     "data": {
      "application/vnd.plotly.v1+json": {
       "config": {
        "linkText": "Export to plot.ly",
        "plotlyServerURL": "https://plot.ly",
        "showLink": true
       },
       "data": [
        {
         "boxpoints": false,
         "line": {
          "width": 1.3
         },
         "marker": {
          "color": "rgba(255, 153, 51, 1.0)"
         },
         "name": "A",
         "orientation": "v",
         "type": "box",
         "y": [
          1.9072310072255976,
          0.45664251731057026,
          1.8735593319249753,
          -1.2764623848263121,
          1.3628530085372335,
          -0.4325085498941139,
          -2.130565106550025,
          -0.3478882665499311,
          -1.8065591069816318,
          1.2802855972530267,
          0.9099690101147678,
          -0.7254302350257974,
          -1.357689466572614,
          -0.2924728207932572,
          -0.6520631482874802,
          0.004148547838381575,
          0.6844015451212803,
          0.4768351538690697,
          0.6533129371097708,
          -0.8033735902053046,
          0.10436594645935798,
          0.5988000624309174,
          -0.6343639773656216,
          -0.13527773819219185,
          -0.20256767414639978,
          -0.015873236886170233,
          1.0333180007396285,
          0.6233280465126437,
          1.8054087268203456,
          -0.3483139337287294,
          -1.6450789071911471,
          -0.07367633128762816,
          0.9661664795196275,
          -3.554540119417503,
          -0.3517884347890016,
          -0.011080518665749637,
          0.621422551146316,
          -1.2531579594339688,
          -0.10051082015301586,
          -0.24054607341946016,
          -0.3839538033661071,
          -1.0575974259826995,
          -1.752757339947482,
          0.2774973963127115,
          -1.4494616998409102,
          0.16015295976718663,
          -1.5104556329789018,
          -0.8063273303499235,
          -0.3947630414938095,
          0.43441231346843795,
          1.226504273411426,
          0.2024939514122735,
          -0.00835533148028108,
          -0.36256325006618495,
          0.5359156853817274,
          -1.0969121025292958,
          0.43187469434509806,
          0.8496889764272824,
          -1.2082731388454349,
          -1.7089121213718867,
          -0.5170724026485997,
          -0.03994284400890909,
          -0.25932188432990816,
          0.07953898183032124,
          1.0458832881768172,
          -1.9579149340336046,
          0.5453127632430007,
          1.854844673262272,
          -2.5673923034531083,
          -0.09091067989192657,
          -0.3884470822677006,
          -1.8469698500964709,
          -1.5158324196916066,
          -0.38138223397344256,
          -0.05805129919084255,
          1.087493238981735,
          0.7534415222757022,
          -0.6284540050680987,
          -0.38751599288043437,
          -1.2084618045487636,
          0.0514634408368774,
          -1.082918557354612,
          -0.4992107264311093,
          -1.9452028837154631,
          0.7273056387902339,
          -0.8955610849268126,
          -0.8234617655936936,
          0.532065163647017,
          -1.1028862381850142,
          -1.7582423251578894,
          -1.3791246147712828,
          0.10042152710117103,
          -0.5716713526590748,
          -0.9735284618191417,
          -0.058716214204821274,
          0.5119956539665943,
          0.11718988426468993,
          0.006329341436323806,
          -0.620841952508306,
          0.8187717540053973
         ]
        },
        {
         "boxpoints": false,
         "line": {
          "width": 1.3
         },
         "marker": {
          "color": "rgba(55, 128, 191, 1.0)"
         },
         "name": "B",
         "orientation": "v",
         "type": "box",
         "y": [
          0.5397341984256421,
          1.4273648820401585,
          -0.2699470460701567,
          -0.009205707259470066,
          0.38245509704051034,
          -0.6121410983025236,
          1.471122536385358,
          0.008852038627531702,
          -1.0322725314491903,
          0.8203466329622852,
          0.40274543333508517,
          1.1710113832309024,
          -0.8490119147891786,
          0.37012452704623977,
          0.6727839097825701,
          -0.7146490926729023,
          -1.1710925815152915,
          0.829667151217231,
          1.6254325510413408,
          -0.03523386729780477,
          0.8344690832208976,
          -0.013325006634558746,
          0.731317913467702,
          -0.34730864357214936,
          0.43023502387456686,
          1.4329446581756315,
          -0.7491845032709245,
          0.3510417309197764,
          0.14083899715516177,
          -1.1861006093411341,
          0.06372821563374959,
          -0.5482268710062057,
          0.5358156468037663,
          1.860518121810859,
          1.0586200684408351,
          -0.0639731090133942,
          -0.08212677769362468,
          -1.3644617085653952,
          2.306486236434318,
          0.2299424870881697,
          0.277553325627394,
          -0.7310389683951801,
          0.7855790026429404,
          1.991062673583806,
          0.42083892064389616,
          0.3312184872102766,
          -0.948280317204048,
          -0.9568068650540437,
          0.06219846171557773,
          -0.6894903418517699,
          0.9426582104357005,
          -0.6549530029210485,
          -0.27693993710331516,
          0.5794679612177993,
          -0.17445332930955162,
          1.973689765686015,
          -1.1221081740462968,
          -0.5689439814189605,
          -0.812476104079502,
          2.106994461930286,
          0.32736395155534453,
          0.1312433407250468,
          -0.18047861897329853,
          -0.772626615251416,
          0.3228290458457046,
          -0.3876374046636482,
          0.1833422829766309,
          1.9087468843804094,
          -0.15516628138100658,
          -1.4163623544697346,
          0.6147553608766299,
          0.6285689877845728,
          0.46983514730252834,
          -1.891043424119729,
          -0.41109171089752206,
          -0.19882089607141482,
          0.26050507326347166,
          -0.021940889213982018,
          0.35818838870948727,
          0.8607668916844468,
          -0.76838927683406,
          -0.627976710508572,
          -0.6366917226484422,
          0.04068231456785195,
          1.0800854230491712,
          -0.5362280813309173,
          0.9978930275747946,
          -1.7791250497361506,
          -0.677962460840107,
          0.7572816499590634,
          -0.287425248846891,
          -0.47888022308913814,
          -1.1274959646162466,
          0.2324095143049378,
          0.8683229396351135,
          1.829117056821466,
          -1.816751591989605,
          -0.5924861572089956,
          0.8017402458379345,
          -1.4002762640497939
         ]
        },
        {
         "boxpoints": false,
         "line": {
          "width": 1.3
         },
         "marker": {
          "color": "rgba(50, 171, 96, 1.0)"
         },
         "name": "C",
         "orientation": "v",
         "type": "box",
         "y": [
          0.1290518449288295,
          -0.8942693898422739,
          -0.0603885969808389,
          0.8888571827253696,
          0.3303216544253686,
          -0.6962016615371871,
          0.6847180896334788,
          1.634685536133902,
          -0.7768311097265821,
          -1.0497817281496105,
          0.04260478899227552,
          0.2838691156189989,
          -0.2912038460934214,
          0.81625304472437,
          -1.3331321265578724,
          -0.911191847865561,
          -0.19687587859455705,
          -1.2485335063985736,
          1.6254466265754193,
          -0.13264571807983716,
          0.029233385616819835,
          -0.3835662646984012,
          -0.5998151436263172,
          0.06629171046788511,
          -0.5334147456940839,
          -1.4752559631396605,
          -2.043165615565392,
          -0.9073109239546666,
          -0.5635336272430629,
          -0.008789992072936102,
          -1.7101997598000038,
          1.918910794788815,
          0.12651018891030594,
          -2.6736508129888765,
          0.04090428461982828,
          -0.6267744176315131,
          1.3335525230802128,
          -0.4120113575547163,
          -0.5594431836696315,
          -0.22065240576609835,
          0.12305168424365334,
          -0.22595737428925225,
          0.5349659874982043,
          0.04224545942985787,
          0.08866425256121034,
          0.45401509544651464,
          -1.7797491351659889,
          0.19668438010122313,
          -0.004817687438065632,
          1.3282039365181113,
          0.7042870811841475,
          0.32056053960947095,
          -0.26560675795858235,
          -0.3716990673752184,
          -0.3452507209114012,
          1.44433585382595,
          -0.25495549926528543,
          -0.24335827103759927,
          -0.5360389588075302,
          0.8772550092169797,
          0.36905944121709056,
          0.687483714658491,
          -0.8763895837530766,
          2.151432620163798,
          0.9758341259438752,
          -0.4232591087195389,
          -0.7263409692947592,
          -1.4283884300059841,
          0.3749006863824324,
          1.2615256423879257,
          -0.47739720739320624,
          0.007655163420542726,
          -0.7326569236558824,
          -0.23816640030265812,
          0.5891064824477343,
          0.6667209587695969,
          -2.2238868518942123,
          0.7101794040876726,
          -1.1067475414415793,
          -0.43368631367219096,
          1.1127113699512454,
          -3.5180754076422085,
          1.6894351549143032,
          0.7375479091898545,
          2.273084648207982,
          0.2093410158696672,
          0.1275858696546415,
          0.5877413023474375,
          -0.7730905034289465,
          1.6960758468267494,
          -0.4795135980211943,
          -0.4670536994748242,
          -1.7923554266762372,
          -1.2489568643422548,
          0.4584963812339756,
          0.7321164288932169,
          0.5720135489933249,
          -0.8741127283123019,
          0.5753286511533514,
          0.7941319134540555
         ]
        },
        {
         "boxpoints": false,
         "line": {
          "width": 1.3
         },
         "marker": {
          "color": "rgba(128, 0, 128, 1.0)"
         },
         "name": "D",
         "orientation": "v",
         "type": "box",
         "y": [
          -1.98391637917484,
          0.7709525668191602,
          1.035419861330941,
          1.4417704578205035,
          -0.08896422052327554,
          0.17092025951416737,
          -2.1080136681225032,
          -1.5250922351857676,
          -0.026762787820439168,
          1.0998460693649141,
          0.23091058917948548,
          0.6325655245214455,
          1.5835804818769312,
          -0.11428329863210708,
          -2.2778561659483683,
          0.891607490588241,
          0.31025493453159747,
          -0.8377068774275928,
          -0.807822956343638,
          0.8518053651312106,
          0.21457144606777215,
          1.0315235223368702,
          -1.5243672016317151,
          1.6683287308670112,
          -2.7931280269506984,
          0.6940655689111038,
          1.9623415527581394,
          -0.7624118235995387,
          -0.20056846446995488,
          -0.6501963503967874,
          0.9884059568672299,
          -1.633055927710676,
          -0.2494597122289142,
          0.8714462386930537,
          -1.0646442724071206,
          0.149190137888478,
          0.10274451793225345,
          0.03370701950596059,
          0.42813908436603065,
          -0.48177266293926635,
          -0.8879242106159551,
          0.23221415955640232,
          0.6842347650504285,
          -0.10955251785708613,
          0.4867956662898185,
          -0.7054283503401905,
          0.06474989591599337,
          -0.7876540054494298,
          0.5343136394302063,
          0.042684352308633405,
          -0.16673198141396978,
          1.7112143089213487,
          -0.38324163790884314,
          1.2098094860548758,
          1.8915333419114813,
          -0.661764747587267,
          0.25871649531212054,
          -0.4705028898091924,
          0.9897176320289679,
          -0.15343691337338916,
          0.42192977920907715,
          -0.12430850661724739,
          0.5981619565209743,
          0.482735136064605,
          -1.1030235985469987,
          1.242240587844812,
          -0.6021944852896283,
          -1.054917278224973,
          0.15523086441313563,
          -1.6450536445743458,
          -0.5380979389961633,
          -0.17748978975832785,
          -0.6296565012042219,
          0.3373686044484245,
          -1.1803469192277745,
          -0.967283447322248,
          -0.5570452871077222,
          -1.5746819791076703,
          0.7529814075319013,
          -0.9005719235209542,
          -0.5444797659642279,
          -1.2654592599808787,
          0.01627521893794739,
          0.7535658105375982,
          -0.20653782340574864,
          -0.37983754807719283,
          -0.6997601308318075,
          -0.325757900081184,
          0.4129298817199609,
          0.46756150246359696,
          -1.1029938903553604,
          -0.3530223408861881,
          1.0456733358176729,
          -0.4518373908910548,
          -0.9629326506667446,
          0.5473940570622489,
          -0.027340882510283653,
          -1.3424921764772848,
          0.07934729391308067,
          -0.41255363718070104
         ]
        }
       ],
       "layout": {
        "legend": {
         "bgcolor": "#F5F6F9",
         "font": {
          "color": "#4D5663"
         }
        },
        "paper_bgcolor": "#F5F6F9",
        "plot_bgcolor": "#F5F6F9",
        "template": {
         "data": {
          "bar": [
           {
            "error_x": {
             "color": "#2a3f5f"
            },
            "error_y": {
             "color": "#2a3f5f"
            },
            "marker": {
             "line": {
              "color": "#E5ECF6",
              "width": 0.5
             }
            },
            "type": "bar"
           }
          ],
          "barpolar": [
           {
            "marker": {
             "line": {
              "color": "#E5ECF6",
              "width": 0.5
             }
            },
            "type": "barpolar"
           }
          ],
          "carpet": [
           {
            "aaxis": {
             "endlinecolor": "#2a3f5f",
             "gridcolor": "white",
             "linecolor": "white",
             "minorgridcolor": "white",
             "startlinecolor": "#2a3f5f"
            },
            "baxis": {
             "endlinecolor": "#2a3f5f",
             "gridcolor": "white",
             "linecolor": "white",
             "minorgridcolor": "white",
             "startlinecolor": "#2a3f5f"
            },
            "type": "carpet"
           }
          ],
          "choropleth": [
           {
            "colorbar": {
             "outlinewidth": 0,
             "ticks": ""
            },
            "type": "choropleth"
           }
          ],
          "contour": [
           {
            "colorbar": {
             "outlinewidth": 0,
             "ticks": ""
            },
            "colorscale": [
             [
              0,
              "#0d0887"
             ],
             [
              0.1111111111111111,
              "#46039f"
             ],
             [
              0.2222222222222222,
              "#7201a8"
             ],
             [
              0.3333333333333333,
              "#9c179e"
             ],
             [
              0.4444444444444444,
              "#bd3786"
             ],
             [
              0.5555555555555556,
              "#d8576b"
             ],
             [
              0.6666666666666666,
              "#ed7953"
             ],
             [
              0.7777777777777778,
              "#fb9f3a"
             ],
             [
              0.8888888888888888,
              "#fdca26"
             ],
             [
              1,
              "#f0f921"
             ]
            ],
            "type": "contour"
           }
          ],
          "contourcarpet": [
           {
            "colorbar": {
             "outlinewidth": 0,
             "ticks": ""
            },
            "type": "contourcarpet"
           }
          ],
          "heatmap": [
           {
            "colorbar": {
             "outlinewidth": 0,
             "ticks": ""
            },
            "colorscale": [
             [
              0,
              "#0d0887"
             ],
             [
              0.1111111111111111,
              "#46039f"
             ],
             [
              0.2222222222222222,
              "#7201a8"
             ],
             [
              0.3333333333333333,
              "#9c179e"
             ],
             [
              0.4444444444444444,
              "#bd3786"
             ],
             [
              0.5555555555555556,
              "#d8576b"
             ],
             [
              0.6666666666666666,
              "#ed7953"
             ],
             [
              0.7777777777777778,
              "#fb9f3a"
             ],
             [
              0.8888888888888888,
              "#fdca26"
             ],
             [
              1,
              "#f0f921"
             ]
            ],
            "type": "heatmap"
           }
          ],
          "heatmapgl": [
           {
            "colorbar": {
             "outlinewidth": 0,
             "ticks": ""
            },
            "colorscale": [
             [
              0,
              "#0d0887"
             ],
             [
              0.1111111111111111,
              "#46039f"
             ],
             [
              0.2222222222222222,
              "#7201a8"
             ],
             [
              0.3333333333333333,
              "#9c179e"
             ],
             [
              0.4444444444444444,
              "#bd3786"
             ],
             [
              0.5555555555555556,
              "#d8576b"
             ],
             [
              0.6666666666666666,
              "#ed7953"
             ],
             [
              0.7777777777777778,
              "#fb9f3a"
             ],
             [
              0.8888888888888888,
              "#fdca26"
             ],
             [
              1,
              "#f0f921"
             ]
            ],
            "type": "heatmapgl"
           }
          ],
          "histogram": [
           {
            "marker": {
             "colorbar": {
              "outlinewidth": 0,
              "ticks": ""
             }
            },
            "type": "histogram"
           }
          ],
          "histogram2d": [
           {
            "colorbar": {
             "outlinewidth": 0,
             "ticks": ""
            },
            "colorscale": [
             [
              0,
              "#0d0887"
             ],
             [
              0.1111111111111111,
              "#46039f"
             ],
             [
              0.2222222222222222,
              "#7201a8"
             ],
             [
              0.3333333333333333,
              "#9c179e"
             ],
             [
              0.4444444444444444,
              "#bd3786"
             ],
             [
              0.5555555555555556,
              "#d8576b"
             ],
             [
              0.6666666666666666,
              "#ed7953"
             ],
             [
              0.7777777777777778,
              "#fb9f3a"
             ],
             [
              0.8888888888888888,
              "#fdca26"
             ],
             [
              1,
              "#f0f921"
             ]
            ],
            "type": "histogram2d"
           }
          ],
          "histogram2dcontour": [
           {
            "colorbar": {
             "outlinewidth": 0,
             "ticks": ""
            },
            "colorscale": [
             [
              0,
              "#0d0887"
             ],
             [
              0.1111111111111111,
              "#46039f"
             ],
             [
              0.2222222222222222,
              "#7201a8"
             ],
             [
              0.3333333333333333,
              "#9c179e"
             ],
             [
              0.4444444444444444,
              "#bd3786"
             ],
             [
              0.5555555555555556,
              "#d8576b"
             ],
             [
              0.6666666666666666,
              "#ed7953"
             ],
             [
              0.7777777777777778,
              "#fb9f3a"
             ],
             [
              0.8888888888888888,
              "#fdca26"
             ],
             [
              1,
              "#f0f921"
             ]
            ],
            "type": "histogram2dcontour"
           }
          ],
          "mesh3d": [
           {
            "colorbar": {
             "outlinewidth": 0,
             "ticks": ""
            },
            "type": "mesh3d"
           }
          ],
          "parcoords": [
           {
            "line": {
             "colorbar": {
              "outlinewidth": 0,
              "ticks": ""
             }
            },
            "type": "parcoords"
           }
          ],
          "pie": [
           {
            "automargin": true,
            "type": "pie"
           }
          ],
          "scatter": [
           {
            "marker": {
             "colorbar": {
              "outlinewidth": 0,
              "ticks": ""
             }
            },
            "type": "scatter"
           }
          ],
          "scatter3d": [
           {
            "line": {
             "colorbar": {
              "outlinewidth": 0,
              "ticks": ""
             }
            },
            "marker": {
             "colorbar": {
              "outlinewidth": 0,
              "ticks": ""
             }
            },
            "type": "scatter3d"
           }
          ],
          "scattercarpet": [
           {
            "marker": {
             "colorbar": {
              "outlinewidth": 0,
              "ticks": ""
             }
            },
            "type": "scattercarpet"
           }
          ],
          "scattergeo": [
           {
            "marker": {
             "colorbar": {
              "outlinewidth": 0,
              "ticks": ""
             }
            },
            "type": "scattergeo"
           }
          ],
          "scattergl": [
           {
            "marker": {
             "colorbar": {
              "outlinewidth": 0,
              "ticks": ""
             }
            },
            "type": "scattergl"
           }
          ],
          "scattermapbox": [
           {
            "marker": {
             "colorbar": {
              "outlinewidth": 0,
              "ticks": ""
             }
            },
            "type": "scattermapbox"
           }
          ],
          "scatterpolar": [
           {
            "marker": {
             "colorbar": {
              "outlinewidth": 0,
              "ticks": ""
             }
            },
            "type": "scatterpolar"
           }
          ],
          "scatterpolargl": [
           {
            "marker": {
             "colorbar": {
              "outlinewidth": 0,
              "ticks": ""
             }
            },
            "type": "scatterpolargl"
           }
          ],
          "scatterternary": [
           {
            "marker": {
             "colorbar": {
              "outlinewidth": 0,
              "ticks": ""
             }
            },
            "type": "scatterternary"
           }
          ],
          "surface": [
           {
            "colorbar": {
             "outlinewidth": 0,
             "ticks": ""
            },
            "colorscale": [
             [
              0,
              "#0d0887"
             ],
             [
              0.1111111111111111,
              "#46039f"
             ],
             [
              0.2222222222222222,
              "#7201a8"
             ],
             [
              0.3333333333333333,
              "#9c179e"
             ],
             [
              0.4444444444444444,
              "#bd3786"
             ],
             [
              0.5555555555555556,
              "#d8576b"
             ],
             [
              0.6666666666666666,
              "#ed7953"
             ],
             [
              0.7777777777777778,
              "#fb9f3a"
             ],
             [
              0.8888888888888888,
              "#fdca26"
             ],
             [
              1,
              "#f0f921"
             ]
            ],
            "type": "surface"
           }
          ],
          "table": [
           {
            "cells": {
             "fill": {
              "color": "#EBF0F8"
             },
             "line": {
              "color": "white"
             }
            },
            "header": {
             "fill": {
              "color": "#C8D4E3"
             },
             "line": {
              "color": "white"
             }
            },
            "type": "table"
           }
          ]
         },
         "layout": {
          "annotationdefaults": {
           "arrowcolor": "#2a3f5f",
           "arrowhead": 0,
           "arrowwidth": 1
          },
          "coloraxis": {
           "colorbar": {
            "outlinewidth": 0,
            "ticks": ""
           }
          },
          "colorscale": {
           "diverging": [
            [
             0,
             "#8e0152"
            ],
            [
             0.1,
             "#c51b7d"
            ],
            [
             0.2,
             "#de77ae"
            ],
            [
             0.3,
             "#f1b6da"
            ],
            [
             0.4,
             "#fde0ef"
            ],
            [
             0.5,
             "#f7f7f7"
            ],
            [
             0.6,
             "#e6f5d0"
            ],
            [
             0.7,
             "#b8e186"
            ],
            [
             0.8,
             "#7fbc41"
            ],
            [
             0.9,
             "#4d9221"
            ],
            [
             1,
             "#276419"
            ]
           ],
           "sequential": [
            [
             0,
             "#0d0887"
            ],
            [
             0.1111111111111111,
             "#46039f"
            ],
            [
             0.2222222222222222,
             "#7201a8"
            ],
            [
             0.3333333333333333,
             "#9c179e"
            ],
            [
             0.4444444444444444,
             "#bd3786"
            ],
            [
             0.5555555555555556,
             "#d8576b"
            ],
            [
             0.6666666666666666,
             "#ed7953"
            ],
            [
             0.7777777777777778,
             "#fb9f3a"
            ],
            [
             0.8888888888888888,
             "#fdca26"
            ],
            [
             1,
             "#f0f921"
            ]
           ],
           "sequentialminus": [
            [
             0,
             "#0d0887"
            ],
            [
             0.1111111111111111,
             "#46039f"
            ],
            [
             0.2222222222222222,
             "#7201a8"
            ],
            [
             0.3333333333333333,
             "#9c179e"
            ],
            [
             0.4444444444444444,
             "#bd3786"
            ],
            [
             0.5555555555555556,
             "#d8576b"
            ],
            [
             0.6666666666666666,
             "#ed7953"
            ],
            [
             0.7777777777777778,
             "#fb9f3a"
            ],
            [
             0.8888888888888888,
             "#fdca26"
            ],
            [
             1,
             "#f0f921"
            ]
           ]
          },
          "colorway": [
           "#636efa",
           "#EF553B",
           "#00cc96",
           "#ab63fa",
           "#FFA15A",
           "#19d3f3",
           "#FF6692",
           "#B6E880",
           "#FF97FF",
           "#FECB52"
          ],
          "font": {
           "color": "#2a3f5f"
          },
          "geo": {
           "bgcolor": "white",
           "lakecolor": "white",
           "landcolor": "#E5ECF6",
           "showlakes": true,
           "showland": true,
           "subunitcolor": "white"
          },
          "hoverlabel": {
           "align": "left"
          },
          "hovermode": "closest",
          "mapbox": {
           "style": "light"
          },
          "paper_bgcolor": "white",
          "plot_bgcolor": "#E5ECF6",
          "polar": {
           "angularaxis": {
            "gridcolor": "white",
            "linecolor": "white",
            "ticks": ""
           },
           "bgcolor": "#E5ECF6",
           "radialaxis": {
            "gridcolor": "white",
            "linecolor": "white",
            "ticks": ""
           }
          },
          "scene": {
           "xaxis": {
            "backgroundcolor": "#E5ECF6",
            "gridcolor": "white",
            "gridwidth": 2,
            "linecolor": "white",
            "showbackground": true,
            "ticks": "",
            "zerolinecolor": "white"
           },
           "yaxis": {
            "backgroundcolor": "#E5ECF6",
            "gridcolor": "white",
            "gridwidth": 2,
            "linecolor": "white",
            "showbackground": true,
            "ticks": "",
            "zerolinecolor": "white"
           },
           "zaxis": {
            "backgroundcolor": "#E5ECF6",
            "gridcolor": "white",
            "gridwidth": 2,
            "linecolor": "white",
            "showbackground": true,
            "ticks": "",
            "zerolinecolor": "white"
           }
          },
          "shapedefaults": {
           "line": {
            "color": "#2a3f5f"
           }
          },
          "ternary": {
           "aaxis": {
            "gridcolor": "white",
            "linecolor": "white",
            "ticks": ""
           },
           "baxis": {
            "gridcolor": "white",
            "linecolor": "white",
            "ticks": ""
           },
           "bgcolor": "#E5ECF6",
           "caxis": {
            "gridcolor": "white",
            "linecolor": "white",
            "ticks": ""
           }
          },
          "title": {
           "x": 0.05
          },
          "xaxis": {
           "automargin": true,
           "gridcolor": "white",
           "linecolor": "white",
           "ticks": "",
           "title": {
            "standoff": 15
           },
           "zerolinecolor": "white",
           "zerolinewidth": 2
          },
          "yaxis": {
           "automargin": true,
           "gridcolor": "white",
           "linecolor": "white",
           "ticks": "",
           "title": {
            "standoff": 15
           },
           "zerolinecolor": "white",
           "zerolinewidth": 2
          }
         }
        },
        "title": {
         "font": {
          "color": "#4D5663"
         }
        },
        "xaxis": {
         "gridcolor": "#E1E5ED",
         "showgrid": true,
         "tickfont": {
          "color": "#4D5663"
         },
         "title": {
          "font": {
           "color": "#4D5663"
          },
          "text": ""
         },
         "zerolinecolor": "#E1E5ED"
        },
        "yaxis": {
         "gridcolor": "#E1E5ED",
         "showgrid": true,
         "tickfont": {
          "color": "#4D5663"
         },
         "title": {
          "font": {
           "color": "#4D5663"
          },
          "text": ""
         },
         "zerolinecolor": "#E1E5ED"
        }
       }
      },
      "text/html": [
       "<div>\n",
       "        \n",
       "        \n",
       "            <div id=\"a07e01fa-df5c-47b0-8280-b43a70bbaa0d\" class=\"plotly-graph-div\" style=\"height:525px; width:100%;\"></div>\n",
       "            <script type=\"text/javascript\">\n",
       "                require([\"plotly\"], function(Plotly) {\n",
       "                    window.PLOTLYENV=window.PLOTLYENV || {};\n",
       "                    window.PLOTLYENV.BASE_URL='https://plot.ly';\n",
       "                    \n",
       "                if (document.getElementById(\"a07e01fa-df5c-47b0-8280-b43a70bbaa0d\")) {\n",
       "                    Plotly.newPlot(\n",
       "                        'a07e01fa-df5c-47b0-8280-b43a70bbaa0d',\n",
       "                        [{\"boxpoints\": false, \"line\": {\"width\": 1.3}, \"marker\": {\"color\": \"rgba(255, 153, 51, 1.0)\"}, \"name\": \"A\", \"orientation\": \"v\", \"type\": \"box\", \"y\": [1.9072310072255976, 0.45664251731057026, 1.8735593319249753, -1.2764623848263121, 1.3628530085372335, -0.4325085498941139, -2.130565106550025, -0.3478882665499311, -1.8065591069816318, 1.2802855972530267, 0.9099690101147678, -0.7254302350257974, -1.357689466572614, -0.2924728207932572, -0.6520631482874802, 0.004148547838381575, 0.6844015451212803, 0.4768351538690697, 0.6533129371097708, -0.8033735902053046, 0.10436594645935798, 0.5988000624309174, -0.6343639773656216, -0.13527773819219185, -0.20256767414639978, -0.015873236886170233, 1.0333180007396285, 0.6233280465126437, 1.8054087268203456, -0.3483139337287294, -1.6450789071911471, -0.07367633128762816, 0.9661664795196275, -3.554540119417503, -0.3517884347890016, -0.011080518665749637, 0.621422551146316, -1.2531579594339688, -0.10051082015301586, -0.24054607341946016, -0.3839538033661071, -1.0575974259826995, -1.752757339947482, 0.2774973963127115, -1.4494616998409102, 0.16015295976718663, -1.5104556329789018, -0.8063273303499235, -0.3947630414938095, 0.43441231346843795, 1.226504273411426, 0.2024939514122735, -0.00835533148028108, -0.36256325006618495, 0.5359156853817274, -1.0969121025292958, 0.43187469434509806, 0.8496889764272824, -1.2082731388454349, -1.7089121213718867, -0.5170724026485997, -0.03994284400890909, -0.25932188432990816, 0.07953898183032124, 1.0458832881768172, -1.9579149340336046, 0.5453127632430007, 1.854844673262272, -2.5673923034531083, -0.09091067989192657, -0.3884470822677006, -1.8469698500964709, -1.5158324196916066, -0.38138223397344256, -0.05805129919084255, 1.087493238981735, 0.7534415222757022, -0.6284540050680987, -0.38751599288043437, -1.2084618045487636, 0.0514634408368774, -1.082918557354612, -0.4992107264311093, -1.9452028837154631, 0.7273056387902339, -0.8955610849268126, -0.8234617655936936, 0.532065163647017, -1.1028862381850142, -1.7582423251578894, -1.3791246147712828, 0.10042152710117103, -0.5716713526590748, -0.9735284618191417, -0.058716214204821274, 0.5119956539665943, 0.11718988426468993, 0.006329341436323806, -0.620841952508306, 0.8187717540053973]}, {\"boxpoints\": false, \"line\": {\"width\": 1.3}, \"marker\": {\"color\": \"rgba(55, 128, 191, 1.0)\"}, \"name\": \"B\", \"orientation\": \"v\", \"type\": \"box\", \"y\": [0.5397341984256421, 1.4273648820401585, -0.2699470460701567, -0.009205707259470066, 0.38245509704051034, -0.6121410983025236, 1.471122536385358, 0.008852038627531702, -1.0322725314491903, 0.8203466329622852, 0.40274543333508517, 1.1710113832309024, -0.8490119147891786, 0.37012452704623977, 0.6727839097825701, -0.7146490926729023, -1.1710925815152915, 0.829667151217231, 1.6254325510413408, -0.03523386729780477, 0.8344690832208976, -0.013325006634558746, 0.731317913467702, -0.34730864357214936, 0.43023502387456686, 1.4329446581756315, -0.7491845032709245, 0.3510417309197764, 0.14083899715516177, -1.1861006093411341, 0.06372821563374959, -0.5482268710062057, 0.5358156468037663, 1.860518121810859, 1.0586200684408351, -0.0639731090133942, -0.08212677769362468, -1.3644617085653952, 2.306486236434318, 0.2299424870881697, 0.277553325627394, -0.7310389683951801, 0.7855790026429404, 1.991062673583806, 0.42083892064389616, 0.3312184872102766, -0.948280317204048, -0.9568068650540437, 0.06219846171557773, -0.6894903418517699, 0.9426582104357005, -0.6549530029210485, -0.27693993710331516, 0.5794679612177993, -0.17445332930955162, 1.973689765686015, -1.1221081740462968, -0.5689439814189605, -0.812476104079502, 2.106994461930286, 0.32736395155534453, 0.1312433407250468, -0.18047861897329853, -0.772626615251416, 0.3228290458457046, -0.3876374046636482, 0.1833422829766309, 1.9087468843804094, -0.15516628138100658, -1.4163623544697346, 0.6147553608766299, 0.6285689877845728, 0.46983514730252834, -1.891043424119729, -0.41109171089752206, -0.19882089607141482, 0.26050507326347166, -0.021940889213982018, 0.35818838870948727, 0.8607668916844468, -0.76838927683406, -0.627976710508572, -0.6366917226484422, 0.04068231456785195, 1.0800854230491712, -0.5362280813309173, 0.9978930275747946, -1.7791250497361506, -0.677962460840107, 0.7572816499590634, -0.287425248846891, -0.47888022308913814, -1.1274959646162466, 0.2324095143049378, 0.8683229396351135, 1.829117056821466, -1.816751591989605, -0.5924861572089956, 0.8017402458379345, -1.4002762640497939]}, {\"boxpoints\": false, \"line\": {\"width\": 1.3}, \"marker\": {\"color\": \"rgba(50, 171, 96, 1.0)\"}, \"name\": \"C\", \"orientation\": \"v\", \"type\": \"box\", \"y\": [0.1290518449288295, -0.8942693898422739, -0.0603885969808389, 0.8888571827253696, 0.3303216544253686, -0.6962016615371871, 0.6847180896334788, 1.634685536133902, -0.7768311097265821, -1.0497817281496105, 0.04260478899227552, 0.2838691156189989, -0.2912038460934214, 0.81625304472437, -1.3331321265578724, -0.911191847865561, -0.19687587859455705, -1.2485335063985736, 1.6254466265754193, -0.13264571807983716, 0.029233385616819835, -0.3835662646984012, -0.5998151436263172, 0.06629171046788511, -0.5334147456940839, -1.4752559631396605, -2.043165615565392, -0.9073109239546666, -0.5635336272430629, -0.008789992072936102, -1.7101997598000038, 1.918910794788815, 0.12651018891030594, -2.6736508129888765, 0.04090428461982828, -0.6267744176315131, 1.3335525230802128, -0.4120113575547163, -0.5594431836696315, -0.22065240576609835, 0.12305168424365334, -0.22595737428925225, 0.5349659874982043, 0.04224545942985787, 0.08866425256121034, 0.45401509544651464, -1.7797491351659889, 0.19668438010122313, -0.004817687438065632, 1.3282039365181113, 0.7042870811841475, 0.32056053960947095, -0.26560675795858235, -0.3716990673752184, -0.3452507209114012, 1.44433585382595, -0.25495549926528543, -0.24335827103759927, -0.5360389588075302, 0.8772550092169797, 0.36905944121709056, 0.687483714658491, -0.8763895837530766, 2.151432620163798, 0.9758341259438752, -0.4232591087195389, -0.7263409692947592, -1.4283884300059841, 0.3749006863824324, 1.2615256423879257, -0.47739720739320624, 0.007655163420542726, -0.7326569236558824, -0.23816640030265812, 0.5891064824477343, 0.6667209587695969, -2.2238868518942123, 0.7101794040876726, -1.1067475414415793, -0.43368631367219096, 1.1127113699512454, -3.5180754076422085, 1.6894351549143032, 0.7375479091898545, 2.273084648207982, 0.2093410158696672, 0.1275858696546415, 0.5877413023474375, -0.7730905034289465, 1.6960758468267494, -0.4795135980211943, -0.4670536994748242, -1.7923554266762372, -1.2489568643422548, 0.4584963812339756, 0.7321164288932169, 0.5720135489933249, -0.8741127283123019, 0.5753286511533514, 0.7941319134540555]}, {\"boxpoints\": false, \"line\": {\"width\": 1.3}, \"marker\": {\"color\": \"rgba(128, 0, 128, 1.0)\"}, \"name\": \"D\", \"orientation\": \"v\", \"type\": \"box\", \"y\": [-1.98391637917484, 0.7709525668191602, 1.035419861330941, 1.4417704578205035, -0.08896422052327554, 0.17092025951416737, -2.1080136681225032, -1.5250922351857676, -0.026762787820439168, 1.0998460693649141, 0.23091058917948548, 0.6325655245214455, 1.5835804818769312, -0.11428329863210708, -2.2778561659483683, 0.891607490588241, 0.31025493453159747, -0.8377068774275928, -0.807822956343638, 0.8518053651312106, 0.21457144606777215, 1.0315235223368702, -1.5243672016317151, 1.6683287308670112, -2.7931280269506984, 0.6940655689111038, 1.9623415527581394, -0.7624118235995387, -0.20056846446995488, -0.6501963503967874, 0.9884059568672299, -1.633055927710676, -0.2494597122289142, 0.8714462386930537, -1.0646442724071206, 0.149190137888478, 0.10274451793225345, 0.03370701950596059, 0.42813908436603065, -0.48177266293926635, -0.8879242106159551, 0.23221415955640232, 0.6842347650504285, -0.10955251785708613, 0.4867956662898185, -0.7054283503401905, 0.06474989591599337, -0.7876540054494298, 0.5343136394302063, 0.042684352308633405, -0.16673198141396978, 1.7112143089213487, -0.38324163790884314, 1.2098094860548758, 1.8915333419114813, -0.661764747587267, 0.25871649531212054, -0.4705028898091924, 0.9897176320289679, -0.15343691337338916, 0.42192977920907715, -0.12430850661724739, 0.5981619565209743, 0.482735136064605, -1.1030235985469987, 1.242240587844812, -0.6021944852896283, -1.054917278224973, 0.15523086441313563, -1.6450536445743458, -0.5380979389961633, -0.17748978975832785, -0.6296565012042219, 0.3373686044484245, -1.1803469192277745, -0.967283447322248, -0.5570452871077222, -1.5746819791076703, 0.7529814075319013, -0.9005719235209542, -0.5444797659642279, -1.2654592599808787, 0.01627521893794739, 0.7535658105375982, -0.20653782340574864, -0.37983754807719283, -0.6997601308318075, -0.325757900081184, 0.4129298817199609, 0.46756150246359696, -1.1029938903553604, -0.3530223408861881, 1.0456733358176729, -0.4518373908910548, -0.9629326506667446, 0.5473940570622489, -0.027340882510283653, -1.3424921764772848, 0.07934729391308067, -0.41255363718070104]}],\n",
       "                        {\"legend\": {\"bgcolor\": \"#F5F6F9\", \"font\": {\"color\": \"#4D5663\"}}, \"paper_bgcolor\": \"#F5F6F9\", \"plot_bgcolor\": \"#F5F6F9\", \"template\": {\"data\": {\"bar\": [{\"error_x\": {\"color\": \"#2a3f5f\"}, \"error_y\": {\"color\": \"#2a3f5f\"}, \"marker\": {\"line\": {\"color\": \"#E5ECF6\", \"width\": 0.5}}, \"type\": \"bar\"}], \"barpolar\": [{\"marker\": {\"line\": {\"color\": \"#E5ECF6\", \"width\": 0.5}}, \"type\": \"barpolar\"}], \"carpet\": [{\"aaxis\": {\"endlinecolor\": \"#2a3f5f\", \"gridcolor\": \"white\", \"linecolor\": \"white\", \"minorgridcolor\": \"white\", \"startlinecolor\": \"#2a3f5f\"}, \"baxis\": {\"endlinecolor\": \"#2a3f5f\", \"gridcolor\": \"white\", \"linecolor\": \"white\", \"minorgridcolor\": \"white\", \"startlinecolor\": \"#2a3f5f\"}, \"type\": \"carpet\"}], \"choropleth\": [{\"colorbar\": {\"outlinewidth\": 0, \"ticks\": \"\"}, \"type\": \"choropleth\"}], \"contour\": [{\"colorbar\": {\"outlinewidth\": 0, \"ticks\": \"\"}, \"colorscale\": [[0.0, \"#0d0887\"], [0.1111111111111111, \"#46039f\"], [0.2222222222222222, \"#7201a8\"], [0.3333333333333333, \"#9c179e\"], [0.4444444444444444, \"#bd3786\"], [0.5555555555555556, \"#d8576b\"], [0.6666666666666666, \"#ed7953\"], [0.7777777777777778, \"#fb9f3a\"], [0.8888888888888888, \"#fdca26\"], [1.0, \"#f0f921\"]], \"type\": \"contour\"}], \"contourcarpet\": [{\"colorbar\": {\"outlinewidth\": 0, \"ticks\": \"\"}, \"type\": \"contourcarpet\"}], \"heatmap\": [{\"colorbar\": {\"outlinewidth\": 0, \"ticks\": \"\"}, \"colorscale\": [[0.0, \"#0d0887\"], [0.1111111111111111, \"#46039f\"], [0.2222222222222222, \"#7201a8\"], [0.3333333333333333, \"#9c179e\"], [0.4444444444444444, \"#bd3786\"], [0.5555555555555556, \"#d8576b\"], [0.6666666666666666, \"#ed7953\"], [0.7777777777777778, \"#fb9f3a\"], [0.8888888888888888, \"#fdca26\"], [1.0, \"#f0f921\"]], \"type\": \"heatmap\"}], \"heatmapgl\": [{\"colorbar\": {\"outlinewidth\": 0, \"ticks\": \"\"}, \"colorscale\": [[0.0, \"#0d0887\"], [0.1111111111111111, \"#46039f\"], [0.2222222222222222, \"#7201a8\"], [0.3333333333333333, \"#9c179e\"], [0.4444444444444444, \"#bd3786\"], [0.5555555555555556, \"#d8576b\"], [0.6666666666666666, \"#ed7953\"], [0.7777777777777778, \"#fb9f3a\"], [0.8888888888888888, \"#fdca26\"], [1.0, \"#f0f921\"]], \"type\": \"heatmapgl\"}], \"histogram\": [{\"marker\": {\"colorbar\": {\"outlinewidth\": 0, \"ticks\": \"\"}}, \"type\": \"histogram\"}], \"histogram2d\": [{\"colorbar\": {\"outlinewidth\": 0, \"ticks\": \"\"}, \"colorscale\": [[0.0, \"#0d0887\"], [0.1111111111111111, \"#46039f\"], [0.2222222222222222, \"#7201a8\"], [0.3333333333333333, \"#9c179e\"], [0.4444444444444444, \"#bd3786\"], [0.5555555555555556, \"#d8576b\"], [0.6666666666666666, \"#ed7953\"], [0.7777777777777778, \"#fb9f3a\"], [0.8888888888888888, \"#fdca26\"], [1.0, \"#f0f921\"]], \"type\": \"histogram2d\"}], \"histogram2dcontour\": [{\"colorbar\": {\"outlinewidth\": 0, \"ticks\": \"\"}, \"colorscale\": [[0.0, \"#0d0887\"], [0.1111111111111111, \"#46039f\"], [0.2222222222222222, \"#7201a8\"], [0.3333333333333333, \"#9c179e\"], [0.4444444444444444, \"#bd3786\"], [0.5555555555555556, \"#d8576b\"], [0.6666666666666666, \"#ed7953\"], [0.7777777777777778, \"#fb9f3a\"], [0.8888888888888888, \"#fdca26\"], [1.0, \"#f0f921\"]], \"type\": \"histogram2dcontour\"}], \"mesh3d\": [{\"colorbar\": {\"outlinewidth\": 0, \"ticks\": \"\"}, \"type\": \"mesh3d\"}], \"parcoords\": [{\"line\": {\"colorbar\": {\"outlinewidth\": 0, \"ticks\": \"\"}}, \"type\": \"parcoords\"}], \"pie\": [{\"automargin\": true, \"type\": \"pie\"}], \"scatter\": [{\"marker\": {\"colorbar\": {\"outlinewidth\": 0, \"ticks\": \"\"}}, \"type\": \"scatter\"}], \"scatter3d\": [{\"line\": {\"colorbar\": {\"outlinewidth\": 0, \"ticks\": \"\"}}, \"marker\": {\"colorbar\": {\"outlinewidth\": 0, \"ticks\": \"\"}}, \"type\": \"scatter3d\"}], \"scattercarpet\": [{\"marker\": {\"colorbar\": {\"outlinewidth\": 0, \"ticks\": \"\"}}, \"type\": \"scattercarpet\"}], \"scattergeo\": [{\"marker\": {\"colorbar\": {\"outlinewidth\": 0, \"ticks\": \"\"}}, \"type\": \"scattergeo\"}], \"scattergl\": [{\"marker\": {\"colorbar\": {\"outlinewidth\": 0, \"ticks\": \"\"}}, \"type\": \"scattergl\"}], \"scattermapbox\": [{\"marker\": {\"colorbar\": {\"outlinewidth\": 0, \"ticks\": \"\"}}, \"type\": \"scattermapbox\"}], \"scatterpolar\": [{\"marker\": {\"colorbar\": {\"outlinewidth\": 0, \"ticks\": \"\"}}, \"type\": \"scatterpolar\"}], \"scatterpolargl\": [{\"marker\": {\"colorbar\": {\"outlinewidth\": 0, \"ticks\": \"\"}}, \"type\": \"scatterpolargl\"}], \"scatterternary\": [{\"marker\": {\"colorbar\": {\"outlinewidth\": 0, \"ticks\": \"\"}}, \"type\": \"scatterternary\"}], \"surface\": [{\"colorbar\": {\"outlinewidth\": 0, \"ticks\": \"\"}, \"colorscale\": [[0.0, \"#0d0887\"], [0.1111111111111111, \"#46039f\"], [0.2222222222222222, \"#7201a8\"], [0.3333333333333333, \"#9c179e\"], [0.4444444444444444, \"#bd3786\"], [0.5555555555555556, \"#d8576b\"], [0.6666666666666666, \"#ed7953\"], [0.7777777777777778, \"#fb9f3a\"], [0.8888888888888888, \"#fdca26\"], [1.0, \"#f0f921\"]], \"type\": \"surface\"}], \"table\": [{\"cells\": {\"fill\": {\"color\": \"#EBF0F8\"}, \"line\": {\"color\": \"white\"}}, \"header\": {\"fill\": {\"color\": \"#C8D4E3\"}, \"line\": {\"color\": \"white\"}}, \"type\": \"table\"}]}, \"layout\": {\"annotationdefaults\": {\"arrowcolor\": \"#2a3f5f\", \"arrowhead\": 0, \"arrowwidth\": 1}, \"coloraxis\": {\"colorbar\": {\"outlinewidth\": 0, \"ticks\": \"\"}}, \"colorscale\": {\"diverging\": [[0, \"#8e0152\"], [0.1, \"#c51b7d\"], [0.2, \"#de77ae\"], [0.3, \"#f1b6da\"], [0.4, \"#fde0ef\"], [0.5, \"#f7f7f7\"], [0.6, \"#e6f5d0\"], [0.7, \"#b8e186\"], [0.8, \"#7fbc41\"], [0.9, \"#4d9221\"], [1, \"#276419\"]], \"sequential\": [[0.0, \"#0d0887\"], [0.1111111111111111, \"#46039f\"], [0.2222222222222222, \"#7201a8\"], [0.3333333333333333, \"#9c179e\"], [0.4444444444444444, \"#bd3786\"], [0.5555555555555556, \"#d8576b\"], [0.6666666666666666, \"#ed7953\"], [0.7777777777777778, \"#fb9f3a\"], [0.8888888888888888, \"#fdca26\"], [1.0, \"#f0f921\"]], \"sequentialminus\": [[0.0, \"#0d0887\"], [0.1111111111111111, \"#46039f\"], [0.2222222222222222, \"#7201a8\"], [0.3333333333333333, \"#9c179e\"], [0.4444444444444444, \"#bd3786\"], [0.5555555555555556, \"#d8576b\"], [0.6666666666666666, \"#ed7953\"], [0.7777777777777778, \"#fb9f3a\"], [0.8888888888888888, \"#fdca26\"], [1.0, \"#f0f921\"]]}, \"colorway\": [\"#636efa\", \"#EF553B\", \"#00cc96\", \"#ab63fa\", \"#FFA15A\", \"#19d3f3\", \"#FF6692\", \"#B6E880\", \"#FF97FF\", \"#FECB52\"], \"font\": {\"color\": \"#2a3f5f\"}, \"geo\": {\"bgcolor\": \"white\", \"lakecolor\": \"white\", \"landcolor\": \"#E5ECF6\", \"showlakes\": true, \"showland\": true, \"subunitcolor\": \"white\"}, \"hoverlabel\": {\"align\": \"left\"}, \"hovermode\": \"closest\", \"mapbox\": {\"style\": \"light\"}, \"paper_bgcolor\": \"white\", \"plot_bgcolor\": \"#E5ECF6\", \"polar\": {\"angularaxis\": {\"gridcolor\": \"white\", \"linecolor\": \"white\", \"ticks\": \"\"}, \"bgcolor\": \"#E5ECF6\", \"radialaxis\": {\"gridcolor\": \"white\", \"linecolor\": \"white\", \"ticks\": \"\"}}, \"scene\": {\"xaxis\": {\"backgroundcolor\": \"#E5ECF6\", \"gridcolor\": \"white\", \"gridwidth\": 2, \"linecolor\": \"white\", \"showbackground\": true, \"ticks\": \"\", \"zerolinecolor\": \"white\"}, \"yaxis\": {\"backgroundcolor\": \"#E5ECF6\", \"gridcolor\": \"white\", \"gridwidth\": 2, \"linecolor\": \"white\", \"showbackground\": true, \"ticks\": \"\", \"zerolinecolor\": \"white\"}, \"zaxis\": {\"backgroundcolor\": \"#E5ECF6\", \"gridcolor\": \"white\", \"gridwidth\": 2, \"linecolor\": \"white\", \"showbackground\": true, \"ticks\": \"\", \"zerolinecolor\": \"white\"}}, \"shapedefaults\": {\"line\": {\"color\": \"#2a3f5f\"}}, \"ternary\": {\"aaxis\": {\"gridcolor\": \"white\", \"linecolor\": \"white\", \"ticks\": \"\"}, \"baxis\": {\"gridcolor\": \"white\", \"linecolor\": \"white\", \"ticks\": \"\"}, \"bgcolor\": \"#E5ECF6\", \"caxis\": {\"gridcolor\": \"white\", \"linecolor\": \"white\", \"ticks\": \"\"}}, \"title\": {\"x\": 0.05}, \"xaxis\": {\"automargin\": true, \"gridcolor\": \"white\", \"linecolor\": \"white\", \"ticks\": \"\", \"title\": {\"standoff\": 15}, \"zerolinecolor\": \"white\", \"zerolinewidth\": 2}, \"yaxis\": {\"automargin\": true, \"gridcolor\": \"white\", \"linecolor\": \"white\", \"ticks\": \"\", \"title\": {\"standoff\": 15}, \"zerolinecolor\": \"white\", \"zerolinewidth\": 2}}}, \"title\": {\"font\": {\"color\": \"#4D5663\"}}, \"xaxis\": {\"gridcolor\": \"#E1E5ED\", \"showgrid\": true, \"tickfont\": {\"color\": \"#4D5663\"}, \"title\": {\"font\": {\"color\": \"#4D5663\"}, \"text\": \"\"}, \"zerolinecolor\": \"#E1E5ED\"}, \"yaxis\": {\"gridcolor\": \"#E1E5ED\", \"showgrid\": true, \"tickfont\": {\"color\": \"#4D5663\"}, \"title\": {\"font\": {\"color\": \"#4D5663\"}, \"text\": \"\"}, \"zerolinecolor\": \"#E1E5ED\"}},\n",
       "                        {\"showLink\": true, \"linkText\": \"Export to plot.ly\", \"plotlyServerURL\": \"https://plot.ly\", \"responsive\": true}\n",
       "                    ).then(function(){\n",
       "                            \n",
       "var gd = document.getElementById('a07e01fa-df5c-47b0-8280-b43a70bbaa0d');\n",
       "var x = new MutationObserver(function (mutations, observer) {{\n",
       "        var display = window.getComputedStyle(gd).display;\n",
       "        if (!display || display === 'none') {{\n",
       "            console.log([gd, 'removed!']);\n",
       "            Plotly.purge(gd);\n",
       "            observer.disconnect();\n",
       "        }}\n",
       "}});\n",
       "\n",
       "// Listen for the removal of the full notebook cells\n",
       "var notebookContainer = gd.closest('#notebook-container');\n",
       "if (notebookContainer) {{\n",
       "    x.observe(notebookContainer, {childList: true});\n",
       "}}\n",
       "\n",
       "// Listen for the clearing of the current output cell\n",
       "var outputEl = gd.closest('.output');\n",
       "if (outputEl) {{\n",
       "    x.observe(outputEl, {childList: true});\n",
       "}}\n",
       "\n",
       "                        })\n",
       "                };\n",
       "                });\n",
       "            </script>\n",
       "        </div>"
      ]
     },
     "metadata": {},
     "output_type": "display_data"
    }
   ],
   "source": [
    "df.iplot(kind='box')"
   ]
  },
  {
   "cell_type": "code",
   "execution_count": 30,
   "metadata": {},
   "outputs": [],
   "source": [
    "df3 = pd.DataFrame({'x':[1,2,3,4,5],'y':[10,20,30,20,10],'z':[500,400,300,200,100]})"
   ]
  },
  {
   "cell_type": "code",
   "execution_count": 31,
   "metadata": {},
   "outputs": [
    {
     "data": {
      "text/html": [
       "<div>\n",
       "<style scoped>\n",
       "    .dataframe tbody tr th:only-of-type {\n",
       "        vertical-align: middle;\n",
       "    }\n",
       "\n",
       "    .dataframe tbody tr th {\n",
       "        vertical-align: top;\n",
       "    }\n",
       "\n",
       "    .dataframe thead th {\n",
       "        text-align: right;\n",
       "    }\n",
       "</style>\n",
       "<table border=\"1\" class=\"dataframe\">\n",
       "  <thead>\n",
       "    <tr style=\"text-align: right;\">\n",
       "      <th></th>\n",
       "      <th>x</th>\n",
       "      <th>y</th>\n",
       "      <th>z</th>\n",
       "    </tr>\n",
       "  </thead>\n",
       "  <tbody>\n",
       "    <tr>\n",
       "      <th>0</th>\n",
       "      <td>1</td>\n",
       "      <td>10</td>\n",
       "      <td>500</td>\n",
       "    </tr>\n",
       "    <tr>\n",
       "      <th>1</th>\n",
       "      <td>2</td>\n",
       "      <td>20</td>\n",
       "      <td>400</td>\n",
       "    </tr>\n",
       "    <tr>\n",
       "      <th>2</th>\n",
       "      <td>3</td>\n",
       "      <td>30</td>\n",
       "      <td>300</td>\n",
       "    </tr>\n",
       "    <tr>\n",
       "      <th>3</th>\n",
       "      <td>4</td>\n",
       "      <td>20</td>\n",
       "      <td>200</td>\n",
       "    </tr>\n",
       "    <tr>\n",
       "      <th>4</th>\n",
       "      <td>5</td>\n",
       "      <td>10</td>\n",
       "      <td>100</td>\n",
       "    </tr>\n",
       "  </tbody>\n",
       "</table>\n",
       "</div>"
      ],
      "text/plain": [
       "   x   y    z\n",
       "0  1  10  500\n",
       "1  2  20  400\n",
       "2  3  30  300\n",
       "3  4  20  200\n",
       "4  5  10  100"
      ]
     },
     "execution_count": 31,
     "metadata": {},
     "output_type": "execute_result"
    }
   ],
   "source": [
    "df3"
   ]
  },
  {
   "cell_type": "code",
   "execution_count": 32,
   "metadata": {},
   "outputs": [
    {
     "data": {
      "application/vnd.plotly.v1+json": {
       "config": {
        "linkText": "Export to plot.ly",
        "plotlyServerURL": "https://plot.ly",
        "showLink": true
       },
       "data": [
        {
         "colorscale": [
          [
           0,
           "rgb(255, 153, 51)"
          ],
          [
           0.1111111111111111,
           "rgb(55, 128, 191)"
          ],
          [
           0.2222222222222222,
           "rgb(50, 171, 96)"
          ],
          [
           0.3333333333333333,
           "rgb(128, 0, 128)"
          ],
          [
           0.4444444444444444,
           "rgb(219, 64, 82)"
          ],
          [
           0.5555555555555556,
           "rgb(0, 128, 128)"
          ],
          [
           0.6666666666666666,
           "rgb(255, 255, 51)"
          ],
          [
           0.7777777777777778,
           "rgb(128, 128, 0)"
          ],
          [
           0.8888888888888888,
           "rgb(251, 128, 114)"
          ],
          [
           1,
           "rgb(128, 177, 211)"
          ]
         ],
         "type": "surface",
         "x": [
          0,
          1,
          2,
          3,
          4
         ],
         "y": [
          "x",
          "y",
          "z"
         ],
         "z": [
          [
           1,
           2,
           3,
           4,
           5
          ],
          [
           10,
           20,
           30,
           20,
           10
          ],
          [
           500,
           400,
           300,
           200,
           100
          ]
         ]
        }
       ],
       "layout": {
        "legend": {
         "bgcolor": "#F5F6F9",
         "font": {
          "color": "#4D5663"
         }
        },
        "paper_bgcolor": "#F5F6F9",
        "plot_bgcolor": "#F5F6F9",
        "template": {
         "data": {
          "bar": [
           {
            "error_x": {
             "color": "#2a3f5f"
            },
            "error_y": {
             "color": "#2a3f5f"
            },
            "marker": {
             "line": {
              "color": "#E5ECF6",
              "width": 0.5
             }
            },
            "type": "bar"
           }
          ],
          "barpolar": [
           {
            "marker": {
             "line": {
              "color": "#E5ECF6",
              "width": 0.5
             }
            },
            "type": "barpolar"
           }
          ],
          "carpet": [
           {
            "aaxis": {
             "endlinecolor": "#2a3f5f",
             "gridcolor": "white",
             "linecolor": "white",
             "minorgridcolor": "white",
             "startlinecolor": "#2a3f5f"
            },
            "baxis": {
             "endlinecolor": "#2a3f5f",
             "gridcolor": "white",
             "linecolor": "white",
             "minorgridcolor": "white",
             "startlinecolor": "#2a3f5f"
            },
            "type": "carpet"
           }
          ],
          "choropleth": [
           {
            "colorbar": {
             "outlinewidth": 0,
             "ticks": ""
            },
            "type": "choropleth"
           }
          ],
          "contour": [
           {
            "colorbar": {
             "outlinewidth": 0,
             "ticks": ""
            },
            "colorscale": [
             [
              0,
              "#0d0887"
             ],
             [
              0.1111111111111111,
              "#46039f"
             ],
             [
              0.2222222222222222,
              "#7201a8"
             ],
             [
              0.3333333333333333,
              "#9c179e"
             ],
             [
              0.4444444444444444,
              "#bd3786"
             ],
             [
              0.5555555555555556,
              "#d8576b"
             ],
             [
              0.6666666666666666,
              "#ed7953"
             ],
             [
              0.7777777777777778,
              "#fb9f3a"
             ],
             [
              0.8888888888888888,
              "#fdca26"
             ],
             [
              1,
              "#f0f921"
             ]
            ],
            "type": "contour"
           }
          ],
          "contourcarpet": [
           {
            "colorbar": {
             "outlinewidth": 0,
             "ticks": ""
            },
            "type": "contourcarpet"
           }
          ],
          "heatmap": [
           {
            "colorbar": {
             "outlinewidth": 0,
             "ticks": ""
            },
            "colorscale": [
             [
              0,
              "#0d0887"
             ],
             [
              0.1111111111111111,
              "#46039f"
             ],
             [
              0.2222222222222222,
              "#7201a8"
             ],
             [
              0.3333333333333333,
              "#9c179e"
             ],
             [
              0.4444444444444444,
              "#bd3786"
             ],
             [
              0.5555555555555556,
              "#d8576b"
             ],
             [
              0.6666666666666666,
              "#ed7953"
             ],
             [
              0.7777777777777778,
              "#fb9f3a"
             ],
             [
              0.8888888888888888,
              "#fdca26"
             ],
             [
              1,
              "#f0f921"
             ]
            ],
            "type": "heatmap"
           }
          ],
          "heatmapgl": [
           {
            "colorbar": {
             "outlinewidth": 0,
             "ticks": ""
            },
            "colorscale": [
             [
              0,
              "#0d0887"
             ],
             [
              0.1111111111111111,
              "#46039f"
             ],
             [
              0.2222222222222222,
              "#7201a8"
             ],
             [
              0.3333333333333333,
              "#9c179e"
             ],
             [
              0.4444444444444444,
              "#bd3786"
             ],
             [
              0.5555555555555556,
              "#d8576b"
             ],
             [
              0.6666666666666666,
              "#ed7953"
             ],
             [
              0.7777777777777778,
              "#fb9f3a"
             ],
             [
              0.8888888888888888,
              "#fdca26"
             ],
             [
              1,
              "#f0f921"
             ]
            ],
            "type": "heatmapgl"
           }
          ],
          "histogram": [
           {
            "marker": {
             "colorbar": {
              "outlinewidth": 0,
              "ticks": ""
             }
            },
            "type": "histogram"
           }
          ],
          "histogram2d": [
           {
            "colorbar": {
             "outlinewidth": 0,
             "ticks": ""
            },
            "colorscale": [
             [
              0,
              "#0d0887"
             ],
             [
              0.1111111111111111,
              "#46039f"
             ],
             [
              0.2222222222222222,
              "#7201a8"
             ],
             [
              0.3333333333333333,
              "#9c179e"
             ],
             [
              0.4444444444444444,
              "#bd3786"
             ],
             [
              0.5555555555555556,
              "#d8576b"
             ],
             [
              0.6666666666666666,
              "#ed7953"
             ],
             [
              0.7777777777777778,
              "#fb9f3a"
             ],
             [
              0.8888888888888888,
              "#fdca26"
             ],
             [
              1,
              "#f0f921"
             ]
            ],
            "type": "histogram2d"
           }
          ],
          "histogram2dcontour": [
           {
            "colorbar": {
             "outlinewidth": 0,
             "ticks": ""
            },
            "colorscale": [
             [
              0,
              "#0d0887"
             ],
             [
              0.1111111111111111,
              "#46039f"
             ],
             [
              0.2222222222222222,
              "#7201a8"
             ],
             [
              0.3333333333333333,
              "#9c179e"
             ],
             [
              0.4444444444444444,
              "#bd3786"
             ],
             [
              0.5555555555555556,
              "#d8576b"
             ],
             [
              0.6666666666666666,
              "#ed7953"
             ],
             [
              0.7777777777777778,
              "#fb9f3a"
             ],
             [
              0.8888888888888888,
              "#fdca26"
             ],
             [
              1,
              "#f0f921"
             ]
            ],
            "type": "histogram2dcontour"
           }
          ],
          "mesh3d": [
           {
            "colorbar": {
             "outlinewidth": 0,
             "ticks": ""
            },
            "type": "mesh3d"
           }
          ],
          "parcoords": [
           {
            "line": {
             "colorbar": {
              "outlinewidth": 0,
              "ticks": ""
             }
            },
            "type": "parcoords"
           }
          ],
          "pie": [
           {
            "automargin": true,
            "type": "pie"
           }
          ],
          "scatter": [
           {
            "marker": {
             "colorbar": {
              "outlinewidth": 0,
              "ticks": ""
             }
            },
            "type": "scatter"
           }
          ],
          "scatter3d": [
           {
            "line": {
             "colorbar": {
              "outlinewidth": 0,
              "ticks": ""
             }
            },
            "marker": {
             "colorbar": {
              "outlinewidth": 0,
              "ticks": ""
             }
            },
            "type": "scatter3d"
           }
          ],
          "scattercarpet": [
           {
            "marker": {
             "colorbar": {
              "outlinewidth": 0,
              "ticks": ""
             }
            },
            "type": "scattercarpet"
           }
          ],
          "scattergeo": [
           {
            "marker": {
             "colorbar": {
              "outlinewidth": 0,
              "ticks": ""
             }
            },
            "type": "scattergeo"
           }
          ],
          "scattergl": [
           {
            "marker": {
             "colorbar": {
              "outlinewidth": 0,
              "ticks": ""
             }
            },
            "type": "scattergl"
           }
          ],
          "scattermapbox": [
           {
            "marker": {
             "colorbar": {
              "outlinewidth": 0,
              "ticks": ""
             }
            },
            "type": "scattermapbox"
           }
          ],
          "scatterpolar": [
           {
            "marker": {
             "colorbar": {
              "outlinewidth": 0,
              "ticks": ""
             }
            },
            "type": "scatterpolar"
           }
          ],
          "scatterpolargl": [
           {
            "marker": {
             "colorbar": {
              "outlinewidth": 0,
              "ticks": ""
             }
            },
            "type": "scatterpolargl"
           }
          ],
          "scatterternary": [
           {
            "marker": {
             "colorbar": {
              "outlinewidth": 0,
              "ticks": ""
             }
            },
            "type": "scatterternary"
           }
          ],
          "surface": [
           {
            "colorbar": {
             "outlinewidth": 0,
             "ticks": ""
            },
            "colorscale": [
             [
              0,
              "#0d0887"
             ],
             [
              0.1111111111111111,
              "#46039f"
             ],
             [
              0.2222222222222222,
              "#7201a8"
             ],
             [
              0.3333333333333333,
              "#9c179e"
             ],
             [
              0.4444444444444444,
              "#bd3786"
             ],
             [
              0.5555555555555556,
              "#d8576b"
             ],
             [
              0.6666666666666666,
              "#ed7953"
             ],
             [
              0.7777777777777778,
              "#fb9f3a"
             ],
             [
              0.8888888888888888,
              "#fdca26"
             ],
             [
              1,
              "#f0f921"
             ]
            ],
            "type": "surface"
           }
          ],
          "table": [
           {
            "cells": {
             "fill": {
              "color": "#EBF0F8"
             },
             "line": {
              "color": "white"
             }
            },
            "header": {
             "fill": {
              "color": "#C8D4E3"
             },
             "line": {
              "color": "white"
             }
            },
            "type": "table"
           }
          ]
         },
         "layout": {
          "annotationdefaults": {
           "arrowcolor": "#2a3f5f",
           "arrowhead": 0,
           "arrowwidth": 1
          },
          "coloraxis": {
           "colorbar": {
            "outlinewidth": 0,
            "ticks": ""
           }
          },
          "colorscale": {
           "diverging": [
            [
             0,
             "#8e0152"
            ],
            [
             0.1,
             "#c51b7d"
            ],
            [
             0.2,
             "#de77ae"
            ],
            [
             0.3,
             "#f1b6da"
            ],
            [
             0.4,
             "#fde0ef"
            ],
            [
             0.5,
             "#f7f7f7"
            ],
            [
             0.6,
             "#e6f5d0"
            ],
            [
             0.7,
             "#b8e186"
            ],
            [
             0.8,
             "#7fbc41"
            ],
            [
             0.9,
             "#4d9221"
            ],
            [
             1,
             "#276419"
            ]
           ],
           "sequential": [
            [
             0,
             "#0d0887"
            ],
            [
             0.1111111111111111,
             "#46039f"
            ],
            [
             0.2222222222222222,
             "#7201a8"
            ],
            [
             0.3333333333333333,
             "#9c179e"
            ],
            [
             0.4444444444444444,
             "#bd3786"
            ],
            [
             0.5555555555555556,
             "#d8576b"
            ],
            [
             0.6666666666666666,
             "#ed7953"
            ],
            [
             0.7777777777777778,
             "#fb9f3a"
            ],
            [
             0.8888888888888888,
             "#fdca26"
            ],
            [
             1,
             "#f0f921"
            ]
           ],
           "sequentialminus": [
            [
             0,
             "#0d0887"
            ],
            [
             0.1111111111111111,
             "#46039f"
            ],
            [
             0.2222222222222222,
             "#7201a8"
            ],
            [
             0.3333333333333333,
             "#9c179e"
            ],
            [
             0.4444444444444444,
             "#bd3786"
            ],
            [
             0.5555555555555556,
             "#d8576b"
            ],
            [
             0.6666666666666666,
             "#ed7953"
            ],
            [
             0.7777777777777778,
             "#fb9f3a"
            ],
            [
             0.8888888888888888,
             "#fdca26"
            ],
            [
             1,
             "#f0f921"
            ]
           ]
          },
          "colorway": [
           "#636efa",
           "#EF553B",
           "#00cc96",
           "#ab63fa",
           "#FFA15A",
           "#19d3f3",
           "#FF6692",
           "#B6E880",
           "#FF97FF",
           "#FECB52"
          ],
          "font": {
           "color": "#2a3f5f"
          },
          "geo": {
           "bgcolor": "white",
           "lakecolor": "white",
           "landcolor": "#E5ECF6",
           "showlakes": true,
           "showland": true,
           "subunitcolor": "white"
          },
          "hoverlabel": {
           "align": "left"
          },
          "hovermode": "closest",
          "mapbox": {
           "style": "light"
          },
          "paper_bgcolor": "white",
          "plot_bgcolor": "#E5ECF6",
          "polar": {
           "angularaxis": {
            "gridcolor": "white",
            "linecolor": "white",
            "ticks": ""
           },
           "bgcolor": "#E5ECF6",
           "radialaxis": {
            "gridcolor": "white",
            "linecolor": "white",
            "ticks": ""
           }
          },
          "scene": {
           "xaxis": {
            "backgroundcolor": "#E5ECF6",
            "gridcolor": "white",
            "gridwidth": 2,
            "linecolor": "white",
            "showbackground": true,
            "ticks": "",
            "zerolinecolor": "white"
           },
           "yaxis": {
            "backgroundcolor": "#E5ECF6",
            "gridcolor": "white",
            "gridwidth": 2,
            "linecolor": "white",
            "showbackground": true,
            "ticks": "",
            "zerolinecolor": "white"
           },
           "zaxis": {
            "backgroundcolor": "#E5ECF6",
            "gridcolor": "white",
            "gridwidth": 2,
            "linecolor": "white",
            "showbackground": true,
            "ticks": "",
            "zerolinecolor": "white"
           }
          },
          "shapedefaults": {
           "line": {
            "color": "#2a3f5f"
           }
          },
          "ternary": {
           "aaxis": {
            "gridcolor": "white",
            "linecolor": "white",
            "ticks": ""
           },
           "baxis": {
            "gridcolor": "white",
            "linecolor": "white",
            "ticks": ""
           },
           "bgcolor": "#E5ECF6",
           "caxis": {
            "gridcolor": "white",
            "linecolor": "white",
            "ticks": ""
           }
          },
          "title": {
           "x": 0.05
          },
          "xaxis": {
           "automargin": true,
           "gridcolor": "white",
           "linecolor": "white",
           "ticks": "",
           "title": {
            "standoff": 15
           },
           "zerolinecolor": "white",
           "zerolinewidth": 2
          },
          "yaxis": {
           "automargin": true,
           "gridcolor": "white",
           "linecolor": "white",
           "ticks": "",
           "title": {
            "standoff": 15
           },
           "zerolinecolor": "white",
           "zerolinewidth": 2
          }
         }
        },
        "title": {
         "font": {
          "color": "#4D5663"
         }
        },
        "xaxis": {
         "gridcolor": "#E1E5ED",
         "showgrid": true,
         "tickfont": {
          "color": "#4D5663"
         },
         "title": {
          "font": {
           "color": "#4D5663"
          },
          "text": ""
         },
         "zerolinecolor": "#E1E5ED"
        },
        "yaxis": {
         "gridcolor": "#E1E5ED",
         "showgrid": true,
         "tickfont": {
          "color": "#4D5663"
         },
         "title": {
          "font": {
           "color": "#4D5663"
          },
          "text": ""
         },
         "zerolinecolor": "#E1E5ED"
        }
       }
      },
      "text/html": [
       "<div>\n",
       "        \n",
       "        \n",
       "            <div id=\"d6cd1e01-3ad5-4d41-8e37-7bfa6059b568\" class=\"plotly-graph-div\" style=\"height:525px; width:100%;\"></div>\n",
       "            <script type=\"text/javascript\">\n",
       "                require([\"plotly\"], function(Plotly) {\n",
       "                    window.PLOTLYENV=window.PLOTLYENV || {};\n",
       "                    window.PLOTLYENV.BASE_URL='https://plot.ly';\n",
       "                    \n",
       "                if (document.getElementById(\"d6cd1e01-3ad5-4d41-8e37-7bfa6059b568\")) {\n",
       "                    Plotly.newPlot(\n",
       "                        'd6cd1e01-3ad5-4d41-8e37-7bfa6059b568',\n",
       "                        [{\"colorscale\": [[0.0, \"rgb(255, 153, 51)\"], [0.1111111111111111, \"rgb(55, 128, 191)\"], [0.2222222222222222, \"rgb(50, 171, 96)\"], [0.3333333333333333, \"rgb(128, 0, 128)\"], [0.4444444444444444, \"rgb(219, 64, 82)\"], [0.5555555555555556, \"rgb(0, 128, 128)\"], [0.6666666666666666, \"rgb(255, 255, 51)\"], [0.7777777777777778, \"rgb(128, 128, 0)\"], [0.8888888888888888, \"rgb(251, 128, 114)\"], [1.0, \"rgb(128, 177, 211)\"]], \"type\": \"surface\", \"x\": [0, 1, 2, 3, 4], \"y\": [\"x\", \"y\", \"z\"], \"z\": [[1, 2, 3, 4, 5], [10, 20, 30, 20, 10], [500, 400, 300, 200, 100]]}],\n",
       "                        {\"legend\": {\"bgcolor\": \"#F5F6F9\", \"font\": {\"color\": \"#4D5663\"}}, \"paper_bgcolor\": \"#F5F6F9\", \"plot_bgcolor\": \"#F5F6F9\", \"template\": {\"data\": {\"bar\": [{\"error_x\": {\"color\": \"#2a3f5f\"}, \"error_y\": {\"color\": \"#2a3f5f\"}, \"marker\": {\"line\": {\"color\": \"#E5ECF6\", \"width\": 0.5}}, \"type\": \"bar\"}], \"barpolar\": [{\"marker\": {\"line\": {\"color\": \"#E5ECF6\", \"width\": 0.5}}, \"type\": \"barpolar\"}], \"carpet\": [{\"aaxis\": {\"endlinecolor\": \"#2a3f5f\", \"gridcolor\": \"white\", \"linecolor\": \"white\", \"minorgridcolor\": \"white\", \"startlinecolor\": \"#2a3f5f\"}, \"baxis\": {\"endlinecolor\": \"#2a3f5f\", \"gridcolor\": \"white\", \"linecolor\": \"white\", \"minorgridcolor\": \"white\", \"startlinecolor\": \"#2a3f5f\"}, \"type\": \"carpet\"}], \"choropleth\": [{\"colorbar\": {\"outlinewidth\": 0, \"ticks\": \"\"}, \"type\": \"choropleth\"}], \"contour\": [{\"colorbar\": {\"outlinewidth\": 0, \"ticks\": \"\"}, \"colorscale\": [[0.0, \"#0d0887\"], [0.1111111111111111, \"#46039f\"], [0.2222222222222222, \"#7201a8\"], [0.3333333333333333, \"#9c179e\"], [0.4444444444444444, \"#bd3786\"], [0.5555555555555556, \"#d8576b\"], [0.6666666666666666, \"#ed7953\"], [0.7777777777777778, \"#fb9f3a\"], [0.8888888888888888, \"#fdca26\"], [1.0, \"#f0f921\"]], \"type\": \"contour\"}], \"contourcarpet\": [{\"colorbar\": {\"outlinewidth\": 0, \"ticks\": \"\"}, \"type\": \"contourcarpet\"}], \"heatmap\": [{\"colorbar\": {\"outlinewidth\": 0, \"ticks\": \"\"}, \"colorscale\": [[0.0, \"#0d0887\"], [0.1111111111111111, \"#46039f\"], [0.2222222222222222, \"#7201a8\"], [0.3333333333333333, \"#9c179e\"], [0.4444444444444444, \"#bd3786\"], [0.5555555555555556, \"#d8576b\"], [0.6666666666666666, \"#ed7953\"], [0.7777777777777778, \"#fb9f3a\"], [0.8888888888888888, \"#fdca26\"], [1.0, \"#f0f921\"]], \"type\": \"heatmap\"}], \"heatmapgl\": [{\"colorbar\": {\"outlinewidth\": 0, \"ticks\": \"\"}, \"colorscale\": [[0.0, \"#0d0887\"], [0.1111111111111111, \"#46039f\"], [0.2222222222222222, \"#7201a8\"], [0.3333333333333333, \"#9c179e\"], [0.4444444444444444, \"#bd3786\"], [0.5555555555555556, \"#d8576b\"], [0.6666666666666666, \"#ed7953\"], [0.7777777777777778, \"#fb9f3a\"], [0.8888888888888888, \"#fdca26\"], [1.0, \"#f0f921\"]], \"type\": \"heatmapgl\"}], \"histogram\": [{\"marker\": {\"colorbar\": {\"outlinewidth\": 0, \"ticks\": \"\"}}, \"type\": \"histogram\"}], \"histogram2d\": [{\"colorbar\": {\"outlinewidth\": 0, \"ticks\": \"\"}, \"colorscale\": [[0.0, \"#0d0887\"], [0.1111111111111111, \"#46039f\"], [0.2222222222222222, \"#7201a8\"], [0.3333333333333333, \"#9c179e\"], [0.4444444444444444, \"#bd3786\"], [0.5555555555555556, \"#d8576b\"], [0.6666666666666666, \"#ed7953\"], [0.7777777777777778, \"#fb9f3a\"], [0.8888888888888888, \"#fdca26\"], [1.0, \"#f0f921\"]], \"type\": \"histogram2d\"}], \"histogram2dcontour\": [{\"colorbar\": {\"outlinewidth\": 0, \"ticks\": \"\"}, \"colorscale\": [[0.0, \"#0d0887\"], [0.1111111111111111, \"#46039f\"], [0.2222222222222222, \"#7201a8\"], [0.3333333333333333, \"#9c179e\"], [0.4444444444444444, \"#bd3786\"], [0.5555555555555556, \"#d8576b\"], [0.6666666666666666, \"#ed7953\"], [0.7777777777777778, \"#fb9f3a\"], [0.8888888888888888, \"#fdca26\"], [1.0, \"#f0f921\"]], \"type\": \"histogram2dcontour\"}], \"mesh3d\": [{\"colorbar\": {\"outlinewidth\": 0, \"ticks\": \"\"}, \"type\": \"mesh3d\"}], \"parcoords\": [{\"line\": {\"colorbar\": {\"outlinewidth\": 0, \"ticks\": \"\"}}, \"type\": \"parcoords\"}], \"pie\": [{\"automargin\": true, \"type\": \"pie\"}], \"scatter\": [{\"marker\": {\"colorbar\": {\"outlinewidth\": 0, \"ticks\": \"\"}}, \"type\": \"scatter\"}], \"scatter3d\": [{\"line\": {\"colorbar\": {\"outlinewidth\": 0, \"ticks\": \"\"}}, \"marker\": {\"colorbar\": {\"outlinewidth\": 0, \"ticks\": \"\"}}, \"type\": \"scatter3d\"}], \"scattercarpet\": [{\"marker\": {\"colorbar\": {\"outlinewidth\": 0, \"ticks\": \"\"}}, \"type\": \"scattercarpet\"}], \"scattergeo\": [{\"marker\": {\"colorbar\": {\"outlinewidth\": 0, \"ticks\": \"\"}}, \"type\": \"scattergeo\"}], \"scattergl\": [{\"marker\": {\"colorbar\": {\"outlinewidth\": 0, \"ticks\": \"\"}}, \"type\": \"scattergl\"}], \"scattermapbox\": [{\"marker\": {\"colorbar\": {\"outlinewidth\": 0, \"ticks\": \"\"}}, \"type\": \"scattermapbox\"}], \"scatterpolar\": [{\"marker\": {\"colorbar\": {\"outlinewidth\": 0, \"ticks\": \"\"}}, \"type\": \"scatterpolar\"}], \"scatterpolargl\": [{\"marker\": {\"colorbar\": {\"outlinewidth\": 0, \"ticks\": \"\"}}, \"type\": \"scatterpolargl\"}], \"scatterternary\": [{\"marker\": {\"colorbar\": {\"outlinewidth\": 0, \"ticks\": \"\"}}, \"type\": \"scatterternary\"}], \"surface\": [{\"colorbar\": {\"outlinewidth\": 0, \"ticks\": \"\"}, \"colorscale\": [[0.0, \"#0d0887\"], [0.1111111111111111, \"#46039f\"], [0.2222222222222222, \"#7201a8\"], [0.3333333333333333, \"#9c179e\"], [0.4444444444444444, \"#bd3786\"], [0.5555555555555556, \"#d8576b\"], [0.6666666666666666, \"#ed7953\"], [0.7777777777777778, \"#fb9f3a\"], [0.8888888888888888, \"#fdca26\"], [1.0, \"#f0f921\"]], \"type\": \"surface\"}], \"table\": [{\"cells\": {\"fill\": {\"color\": \"#EBF0F8\"}, \"line\": {\"color\": \"white\"}}, \"header\": {\"fill\": {\"color\": \"#C8D4E3\"}, \"line\": {\"color\": \"white\"}}, \"type\": \"table\"}]}, \"layout\": {\"annotationdefaults\": {\"arrowcolor\": \"#2a3f5f\", \"arrowhead\": 0, \"arrowwidth\": 1}, \"coloraxis\": {\"colorbar\": {\"outlinewidth\": 0, \"ticks\": \"\"}}, \"colorscale\": {\"diverging\": [[0, \"#8e0152\"], [0.1, \"#c51b7d\"], [0.2, \"#de77ae\"], [0.3, \"#f1b6da\"], [0.4, \"#fde0ef\"], [0.5, \"#f7f7f7\"], [0.6, \"#e6f5d0\"], [0.7, \"#b8e186\"], [0.8, \"#7fbc41\"], [0.9, \"#4d9221\"], [1, \"#276419\"]], \"sequential\": [[0.0, \"#0d0887\"], [0.1111111111111111, \"#46039f\"], [0.2222222222222222, \"#7201a8\"], [0.3333333333333333, \"#9c179e\"], [0.4444444444444444, \"#bd3786\"], [0.5555555555555556, \"#d8576b\"], [0.6666666666666666, \"#ed7953\"], [0.7777777777777778, \"#fb9f3a\"], [0.8888888888888888, \"#fdca26\"], [1.0, \"#f0f921\"]], \"sequentialminus\": [[0.0, \"#0d0887\"], [0.1111111111111111, \"#46039f\"], [0.2222222222222222, \"#7201a8\"], [0.3333333333333333, \"#9c179e\"], [0.4444444444444444, \"#bd3786\"], [0.5555555555555556, \"#d8576b\"], [0.6666666666666666, \"#ed7953\"], [0.7777777777777778, \"#fb9f3a\"], [0.8888888888888888, \"#fdca26\"], [1.0, \"#f0f921\"]]}, \"colorway\": [\"#636efa\", \"#EF553B\", \"#00cc96\", \"#ab63fa\", \"#FFA15A\", \"#19d3f3\", \"#FF6692\", \"#B6E880\", \"#FF97FF\", \"#FECB52\"], \"font\": {\"color\": \"#2a3f5f\"}, \"geo\": {\"bgcolor\": \"white\", \"lakecolor\": \"white\", \"landcolor\": \"#E5ECF6\", \"showlakes\": true, \"showland\": true, \"subunitcolor\": \"white\"}, \"hoverlabel\": {\"align\": \"left\"}, \"hovermode\": \"closest\", \"mapbox\": {\"style\": \"light\"}, \"paper_bgcolor\": \"white\", \"plot_bgcolor\": \"#E5ECF6\", \"polar\": {\"angularaxis\": {\"gridcolor\": \"white\", \"linecolor\": \"white\", \"ticks\": \"\"}, \"bgcolor\": \"#E5ECF6\", \"radialaxis\": {\"gridcolor\": \"white\", \"linecolor\": \"white\", \"ticks\": \"\"}}, \"scene\": {\"xaxis\": {\"backgroundcolor\": \"#E5ECF6\", \"gridcolor\": \"white\", \"gridwidth\": 2, \"linecolor\": \"white\", \"showbackground\": true, \"ticks\": \"\", \"zerolinecolor\": \"white\"}, \"yaxis\": {\"backgroundcolor\": \"#E5ECF6\", \"gridcolor\": \"white\", \"gridwidth\": 2, \"linecolor\": \"white\", \"showbackground\": true, \"ticks\": \"\", \"zerolinecolor\": \"white\"}, \"zaxis\": {\"backgroundcolor\": \"#E5ECF6\", \"gridcolor\": \"white\", \"gridwidth\": 2, \"linecolor\": \"white\", \"showbackground\": true, \"ticks\": \"\", \"zerolinecolor\": \"white\"}}, \"shapedefaults\": {\"line\": {\"color\": \"#2a3f5f\"}}, \"ternary\": {\"aaxis\": {\"gridcolor\": \"white\", \"linecolor\": \"white\", \"ticks\": \"\"}, \"baxis\": {\"gridcolor\": \"white\", \"linecolor\": \"white\", \"ticks\": \"\"}, \"bgcolor\": \"#E5ECF6\", \"caxis\": {\"gridcolor\": \"white\", \"linecolor\": \"white\", \"ticks\": \"\"}}, \"title\": {\"x\": 0.05}, \"xaxis\": {\"automargin\": true, \"gridcolor\": \"white\", \"linecolor\": \"white\", \"ticks\": \"\", \"title\": {\"standoff\": 15}, \"zerolinecolor\": \"white\", \"zerolinewidth\": 2}, \"yaxis\": {\"automargin\": true, \"gridcolor\": \"white\", \"linecolor\": \"white\", \"ticks\": \"\", \"title\": {\"standoff\": 15}, \"zerolinecolor\": \"white\", \"zerolinewidth\": 2}}}, \"title\": {\"font\": {\"color\": \"#4D5663\"}}, \"xaxis\": {\"gridcolor\": \"#E1E5ED\", \"showgrid\": true, \"tickfont\": {\"color\": \"#4D5663\"}, \"title\": {\"font\": {\"color\": \"#4D5663\"}, \"text\": \"\"}, \"zerolinecolor\": \"#E1E5ED\"}, \"yaxis\": {\"gridcolor\": \"#E1E5ED\", \"showgrid\": true, \"tickfont\": {\"color\": \"#4D5663\"}, \"title\": {\"font\": {\"color\": \"#4D5663\"}, \"text\": \"\"}, \"zerolinecolor\": \"#E1E5ED\"}},\n",
       "                        {\"showLink\": true, \"linkText\": \"Export to plot.ly\", \"plotlyServerURL\": \"https://plot.ly\", \"responsive\": true}\n",
       "                    ).then(function(){\n",
       "                            \n",
       "var gd = document.getElementById('d6cd1e01-3ad5-4d41-8e37-7bfa6059b568');\n",
       "var x = new MutationObserver(function (mutations, observer) {{\n",
       "        var display = window.getComputedStyle(gd).display;\n",
       "        if (!display || display === 'none') {{\n",
       "            console.log([gd, 'removed!']);\n",
       "            Plotly.purge(gd);\n",
       "            observer.disconnect();\n",
       "        }}\n",
       "}});\n",
       "\n",
       "// Listen for the removal of the full notebook cells\n",
       "var notebookContainer = gd.closest('#notebook-container');\n",
       "if (notebookContainer) {{\n",
       "    x.observe(notebookContainer, {childList: true});\n",
       "}}\n",
       "\n",
       "// Listen for the clearing of the current output cell\n",
       "var outputEl = gd.closest('.output');\n",
       "if (outputEl) {{\n",
       "    x.observe(outputEl, {childList: true});\n",
       "}}\n",
       "\n",
       "                        })\n",
       "                };\n",
       "                });\n",
       "            </script>\n",
       "        </div>"
      ]
     },
     "metadata": {},
     "output_type": "display_data"
    }
   ],
   "source": [
    "df3.iplot(kind='surface')"
   ]
  },
  {
   "cell_type": "code",
   "execution_count": 33,
   "metadata": {},
   "outputs": [],
   "source": [
    "df3 = pd.DataFrame({'x':[1,2,3,4,5],'y':[10,20,30,20,10],'z':[5,4,3,2,1]})"
   ]
  },
  {
   "cell_type": "code",
   "execution_count": 34,
   "metadata": {
    "scrolled": true
   },
   "outputs": [
    {
     "data": {
      "application/vnd.plotly.v1+json": {
       "config": {
        "linkText": "Export to plot.ly",
        "plotlyServerURL": "https://plot.ly",
        "showLink": true
       },
       "data": [
        {
         "colorscale": [
          [
           0,
           "rgb(255, 153, 51)"
          ],
          [
           0.1111111111111111,
           "rgb(55, 128, 191)"
          ],
          [
           0.2222222222222222,
           "rgb(50, 171, 96)"
          ],
          [
           0.3333333333333333,
           "rgb(128, 0, 128)"
          ],
          [
           0.4444444444444444,
           "rgb(219, 64, 82)"
          ],
          [
           0.5555555555555556,
           "rgb(0, 128, 128)"
          ],
          [
           0.6666666666666666,
           "rgb(255, 255, 51)"
          ],
          [
           0.7777777777777778,
           "rgb(128, 128, 0)"
          ],
          [
           0.8888888888888888,
           "rgb(251, 128, 114)"
          ],
          [
           1,
           "rgb(128, 177, 211)"
          ]
         ],
         "type": "surface",
         "x": [
          0,
          1,
          2,
          3,
          4
         ],
         "y": [
          "x",
          "y",
          "z"
         ],
         "z": [
          [
           1,
           2,
           3,
           4,
           5
          ],
          [
           10,
           20,
           30,
           20,
           10
          ],
          [
           5,
           4,
           3,
           2,
           1
          ]
         ]
        }
       ],
       "layout": {
        "legend": {
         "bgcolor": "#F5F6F9",
         "font": {
          "color": "#4D5663"
         }
        },
        "paper_bgcolor": "#F5F6F9",
        "plot_bgcolor": "#F5F6F9",
        "template": {
         "data": {
          "bar": [
           {
            "error_x": {
             "color": "#2a3f5f"
            },
            "error_y": {
             "color": "#2a3f5f"
            },
            "marker": {
             "line": {
              "color": "#E5ECF6",
              "width": 0.5
             }
            },
            "type": "bar"
           }
          ],
          "barpolar": [
           {
            "marker": {
             "line": {
              "color": "#E5ECF6",
              "width": 0.5
             }
            },
            "type": "barpolar"
           }
          ],
          "carpet": [
           {
            "aaxis": {
             "endlinecolor": "#2a3f5f",
             "gridcolor": "white",
             "linecolor": "white",
             "minorgridcolor": "white",
             "startlinecolor": "#2a3f5f"
            },
            "baxis": {
             "endlinecolor": "#2a3f5f",
             "gridcolor": "white",
             "linecolor": "white",
             "minorgridcolor": "white",
             "startlinecolor": "#2a3f5f"
            },
            "type": "carpet"
           }
          ],
          "choropleth": [
           {
            "colorbar": {
             "outlinewidth": 0,
             "ticks": ""
            },
            "type": "choropleth"
           }
          ],
          "contour": [
           {
            "colorbar": {
             "outlinewidth": 0,
             "ticks": ""
            },
            "colorscale": [
             [
              0,
              "#0d0887"
             ],
             [
              0.1111111111111111,
              "#46039f"
             ],
             [
              0.2222222222222222,
              "#7201a8"
             ],
             [
              0.3333333333333333,
              "#9c179e"
             ],
             [
              0.4444444444444444,
              "#bd3786"
             ],
             [
              0.5555555555555556,
              "#d8576b"
             ],
             [
              0.6666666666666666,
              "#ed7953"
             ],
             [
              0.7777777777777778,
              "#fb9f3a"
             ],
             [
              0.8888888888888888,
              "#fdca26"
             ],
             [
              1,
              "#f0f921"
             ]
            ],
            "type": "contour"
           }
          ],
          "contourcarpet": [
           {
            "colorbar": {
             "outlinewidth": 0,
             "ticks": ""
            },
            "type": "contourcarpet"
           }
          ],
          "heatmap": [
           {
            "colorbar": {
             "outlinewidth": 0,
             "ticks": ""
            },
            "colorscale": [
             [
              0,
              "#0d0887"
             ],
             [
              0.1111111111111111,
              "#46039f"
             ],
             [
              0.2222222222222222,
              "#7201a8"
             ],
             [
              0.3333333333333333,
              "#9c179e"
             ],
             [
              0.4444444444444444,
              "#bd3786"
             ],
             [
              0.5555555555555556,
              "#d8576b"
             ],
             [
              0.6666666666666666,
              "#ed7953"
             ],
             [
              0.7777777777777778,
              "#fb9f3a"
             ],
             [
              0.8888888888888888,
              "#fdca26"
             ],
             [
              1,
              "#f0f921"
             ]
            ],
            "type": "heatmap"
           }
          ],
          "heatmapgl": [
           {
            "colorbar": {
             "outlinewidth": 0,
             "ticks": ""
            },
            "colorscale": [
             [
              0,
              "#0d0887"
             ],
             [
              0.1111111111111111,
              "#46039f"
             ],
             [
              0.2222222222222222,
              "#7201a8"
             ],
             [
              0.3333333333333333,
              "#9c179e"
             ],
             [
              0.4444444444444444,
              "#bd3786"
             ],
             [
              0.5555555555555556,
              "#d8576b"
             ],
             [
              0.6666666666666666,
              "#ed7953"
             ],
             [
              0.7777777777777778,
              "#fb9f3a"
             ],
             [
              0.8888888888888888,
              "#fdca26"
             ],
             [
              1,
              "#f0f921"
             ]
            ],
            "type": "heatmapgl"
           }
          ],
          "histogram": [
           {
            "marker": {
             "colorbar": {
              "outlinewidth": 0,
              "ticks": ""
             }
            },
            "type": "histogram"
           }
          ],
          "histogram2d": [
           {
            "colorbar": {
             "outlinewidth": 0,
             "ticks": ""
            },
            "colorscale": [
             [
              0,
              "#0d0887"
             ],
             [
              0.1111111111111111,
              "#46039f"
             ],
             [
              0.2222222222222222,
              "#7201a8"
             ],
             [
              0.3333333333333333,
              "#9c179e"
             ],
             [
              0.4444444444444444,
              "#bd3786"
             ],
             [
              0.5555555555555556,
              "#d8576b"
             ],
             [
              0.6666666666666666,
              "#ed7953"
             ],
             [
              0.7777777777777778,
              "#fb9f3a"
             ],
             [
              0.8888888888888888,
              "#fdca26"
             ],
             [
              1,
              "#f0f921"
             ]
            ],
            "type": "histogram2d"
           }
          ],
          "histogram2dcontour": [
           {
            "colorbar": {
             "outlinewidth": 0,
             "ticks": ""
            },
            "colorscale": [
             [
              0,
              "#0d0887"
             ],
             [
              0.1111111111111111,
              "#46039f"
             ],
             [
              0.2222222222222222,
              "#7201a8"
             ],
             [
              0.3333333333333333,
              "#9c179e"
             ],
             [
              0.4444444444444444,
              "#bd3786"
             ],
             [
              0.5555555555555556,
              "#d8576b"
             ],
             [
              0.6666666666666666,
              "#ed7953"
             ],
             [
              0.7777777777777778,
              "#fb9f3a"
             ],
             [
              0.8888888888888888,
              "#fdca26"
             ],
             [
              1,
              "#f0f921"
             ]
            ],
            "type": "histogram2dcontour"
           }
          ],
          "mesh3d": [
           {
            "colorbar": {
             "outlinewidth": 0,
             "ticks": ""
            },
            "type": "mesh3d"
           }
          ],
          "parcoords": [
           {
            "line": {
             "colorbar": {
              "outlinewidth": 0,
              "ticks": ""
             }
            },
            "type": "parcoords"
           }
          ],
          "pie": [
           {
            "automargin": true,
            "type": "pie"
           }
          ],
          "scatter": [
           {
            "marker": {
             "colorbar": {
              "outlinewidth": 0,
              "ticks": ""
             }
            },
            "type": "scatter"
           }
          ],
          "scatter3d": [
           {
            "line": {
             "colorbar": {
              "outlinewidth": 0,
              "ticks": ""
             }
            },
            "marker": {
             "colorbar": {
              "outlinewidth": 0,
              "ticks": ""
             }
            },
            "type": "scatter3d"
           }
          ],
          "scattercarpet": [
           {
            "marker": {
             "colorbar": {
              "outlinewidth": 0,
              "ticks": ""
             }
            },
            "type": "scattercarpet"
           }
          ],
          "scattergeo": [
           {
            "marker": {
             "colorbar": {
              "outlinewidth": 0,
              "ticks": ""
             }
            },
            "type": "scattergeo"
           }
          ],
          "scattergl": [
           {
            "marker": {
             "colorbar": {
              "outlinewidth": 0,
              "ticks": ""
             }
            },
            "type": "scattergl"
           }
          ],
          "scattermapbox": [
           {
            "marker": {
             "colorbar": {
              "outlinewidth": 0,
              "ticks": ""
             }
            },
            "type": "scattermapbox"
           }
          ],
          "scatterpolar": [
           {
            "marker": {
             "colorbar": {
              "outlinewidth": 0,
              "ticks": ""
             }
            },
            "type": "scatterpolar"
           }
          ],
          "scatterpolargl": [
           {
            "marker": {
             "colorbar": {
              "outlinewidth": 0,
              "ticks": ""
             }
            },
            "type": "scatterpolargl"
           }
          ],
          "scatterternary": [
           {
            "marker": {
             "colorbar": {
              "outlinewidth": 0,
              "ticks": ""
             }
            },
            "type": "scatterternary"
           }
          ],
          "surface": [
           {
            "colorbar": {
             "outlinewidth": 0,
             "ticks": ""
            },
            "colorscale": [
             [
              0,
              "#0d0887"
             ],
             [
              0.1111111111111111,
              "#46039f"
             ],
             [
              0.2222222222222222,
              "#7201a8"
             ],
             [
              0.3333333333333333,
              "#9c179e"
             ],
             [
              0.4444444444444444,
              "#bd3786"
             ],
             [
              0.5555555555555556,
              "#d8576b"
             ],
             [
              0.6666666666666666,
              "#ed7953"
             ],
             [
              0.7777777777777778,
              "#fb9f3a"
             ],
             [
              0.8888888888888888,
              "#fdca26"
             ],
             [
              1,
              "#f0f921"
             ]
            ],
            "type": "surface"
           }
          ],
          "table": [
           {
            "cells": {
             "fill": {
              "color": "#EBF0F8"
             },
             "line": {
              "color": "white"
             }
            },
            "header": {
             "fill": {
              "color": "#C8D4E3"
             },
             "line": {
              "color": "white"
             }
            },
            "type": "table"
           }
          ]
         },
         "layout": {
          "annotationdefaults": {
           "arrowcolor": "#2a3f5f",
           "arrowhead": 0,
           "arrowwidth": 1
          },
          "coloraxis": {
           "colorbar": {
            "outlinewidth": 0,
            "ticks": ""
           }
          },
          "colorscale": {
           "diverging": [
            [
             0,
             "#8e0152"
            ],
            [
             0.1,
             "#c51b7d"
            ],
            [
             0.2,
             "#de77ae"
            ],
            [
             0.3,
             "#f1b6da"
            ],
            [
             0.4,
             "#fde0ef"
            ],
            [
             0.5,
             "#f7f7f7"
            ],
            [
             0.6,
             "#e6f5d0"
            ],
            [
             0.7,
             "#b8e186"
            ],
            [
             0.8,
             "#7fbc41"
            ],
            [
             0.9,
             "#4d9221"
            ],
            [
             1,
             "#276419"
            ]
           ],
           "sequential": [
            [
             0,
             "#0d0887"
            ],
            [
             0.1111111111111111,
             "#46039f"
            ],
            [
             0.2222222222222222,
             "#7201a8"
            ],
            [
             0.3333333333333333,
             "#9c179e"
            ],
            [
             0.4444444444444444,
             "#bd3786"
            ],
            [
             0.5555555555555556,
             "#d8576b"
            ],
            [
             0.6666666666666666,
             "#ed7953"
            ],
            [
             0.7777777777777778,
             "#fb9f3a"
            ],
            [
             0.8888888888888888,
             "#fdca26"
            ],
            [
             1,
             "#f0f921"
            ]
           ],
           "sequentialminus": [
            [
             0,
             "#0d0887"
            ],
            [
             0.1111111111111111,
             "#46039f"
            ],
            [
             0.2222222222222222,
             "#7201a8"
            ],
            [
             0.3333333333333333,
             "#9c179e"
            ],
            [
             0.4444444444444444,
             "#bd3786"
            ],
            [
             0.5555555555555556,
             "#d8576b"
            ],
            [
             0.6666666666666666,
             "#ed7953"
            ],
            [
             0.7777777777777778,
             "#fb9f3a"
            ],
            [
             0.8888888888888888,
             "#fdca26"
            ],
            [
             1,
             "#f0f921"
            ]
           ]
          },
          "colorway": [
           "#636efa",
           "#EF553B",
           "#00cc96",
           "#ab63fa",
           "#FFA15A",
           "#19d3f3",
           "#FF6692",
           "#B6E880",
           "#FF97FF",
           "#FECB52"
          ],
          "font": {
           "color": "#2a3f5f"
          },
          "geo": {
           "bgcolor": "white",
           "lakecolor": "white",
           "landcolor": "#E5ECF6",
           "showlakes": true,
           "showland": true,
           "subunitcolor": "white"
          },
          "hoverlabel": {
           "align": "left"
          },
          "hovermode": "closest",
          "mapbox": {
           "style": "light"
          },
          "paper_bgcolor": "white",
          "plot_bgcolor": "#E5ECF6",
          "polar": {
           "angularaxis": {
            "gridcolor": "white",
            "linecolor": "white",
            "ticks": ""
           },
           "bgcolor": "#E5ECF6",
           "radialaxis": {
            "gridcolor": "white",
            "linecolor": "white",
            "ticks": ""
           }
          },
          "scene": {
           "xaxis": {
            "backgroundcolor": "#E5ECF6",
            "gridcolor": "white",
            "gridwidth": 2,
            "linecolor": "white",
            "showbackground": true,
            "ticks": "",
            "zerolinecolor": "white"
           },
           "yaxis": {
            "backgroundcolor": "#E5ECF6",
            "gridcolor": "white",
            "gridwidth": 2,
            "linecolor": "white",
            "showbackground": true,
            "ticks": "",
            "zerolinecolor": "white"
           },
           "zaxis": {
            "backgroundcolor": "#E5ECF6",
            "gridcolor": "white",
            "gridwidth": 2,
            "linecolor": "white",
            "showbackground": true,
            "ticks": "",
            "zerolinecolor": "white"
           }
          },
          "shapedefaults": {
           "line": {
            "color": "#2a3f5f"
           }
          },
          "ternary": {
           "aaxis": {
            "gridcolor": "white",
            "linecolor": "white",
            "ticks": ""
           },
           "baxis": {
            "gridcolor": "white",
            "linecolor": "white",
            "ticks": ""
           },
           "bgcolor": "#E5ECF6",
           "caxis": {
            "gridcolor": "white",
            "linecolor": "white",
            "ticks": ""
           }
          },
          "title": {
           "x": 0.05
          },
          "xaxis": {
           "automargin": true,
           "gridcolor": "white",
           "linecolor": "white",
           "ticks": "",
           "title": {
            "standoff": 15
           },
           "zerolinecolor": "white",
           "zerolinewidth": 2
          },
          "yaxis": {
           "automargin": true,
           "gridcolor": "white",
           "linecolor": "white",
           "ticks": "",
           "title": {
            "standoff": 15
           },
           "zerolinecolor": "white",
           "zerolinewidth": 2
          }
         }
        },
        "title": {
         "font": {
          "color": "#4D5663"
         }
        },
        "xaxis": {
         "gridcolor": "#E1E5ED",
         "showgrid": true,
         "tickfont": {
          "color": "#4D5663"
         },
         "title": {
          "font": {
           "color": "#4D5663"
          },
          "text": ""
         },
         "zerolinecolor": "#E1E5ED"
        },
        "yaxis": {
         "gridcolor": "#E1E5ED",
         "showgrid": true,
         "tickfont": {
          "color": "#4D5663"
         },
         "title": {
          "font": {
           "color": "#4D5663"
          },
          "text": ""
         },
         "zerolinecolor": "#E1E5ED"
        }
       }
      },
      "text/html": [
       "<div>\n",
       "        \n",
       "        \n",
       "            <div id=\"77788aae-029c-47a7-b4ff-5712c544b6b4\" class=\"plotly-graph-div\" style=\"height:525px; width:100%;\"></div>\n",
       "            <script type=\"text/javascript\">\n",
       "                require([\"plotly\"], function(Plotly) {\n",
       "                    window.PLOTLYENV=window.PLOTLYENV || {};\n",
       "                    window.PLOTLYENV.BASE_URL='https://plot.ly';\n",
       "                    \n",
       "                if (document.getElementById(\"77788aae-029c-47a7-b4ff-5712c544b6b4\")) {\n",
       "                    Plotly.newPlot(\n",
       "                        '77788aae-029c-47a7-b4ff-5712c544b6b4',\n",
       "                        [{\"colorscale\": [[0.0, \"rgb(255, 153, 51)\"], [0.1111111111111111, \"rgb(55, 128, 191)\"], [0.2222222222222222, \"rgb(50, 171, 96)\"], [0.3333333333333333, \"rgb(128, 0, 128)\"], [0.4444444444444444, \"rgb(219, 64, 82)\"], [0.5555555555555556, \"rgb(0, 128, 128)\"], [0.6666666666666666, \"rgb(255, 255, 51)\"], [0.7777777777777778, \"rgb(128, 128, 0)\"], [0.8888888888888888, \"rgb(251, 128, 114)\"], [1.0, \"rgb(128, 177, 211)\"]], \"type\": \"surface\", \"x\": [0, 1, 2, 3, 4], \"y\": [\"x\", \"y\", \"z\"], \"z\": [[1, 2, 3, 4, 5], [10, 20, 30, 20, 10], [5, 4, 3, 2, 1]]}],\n",
       "                        {\"legend\": {\"bgcolor\": \"#F5F6F9\", \"font\": {\"color\": \"#4D5663\"}}, \"paper_bgcolor\": \"#F5F6F9\", \"plot_bgcolor\": \"#F5F6F9\", \"template\": {\"data\": {\"bar\": [{\"error_x\": {\"color\": \"#2a3f5f\"}, \"error_y\": {\"color\": \"#2a3f5f\"}, \"marker\": {\"line\": {\"color\": \"#E5ECF6\", \"width\": 0.5}}, \"type\": \"bar\"}], \"barpolar\": [{\"marker\": {\"line\": {\"color\": \"#E5ECF6\", \"width\": 0.5}}, \"type\": \"barpolar\"}], \"carpet\": [{\"aaxis\": {\"endlinecolor\": \"#2a3f5f\", \"gridcolor\": \"white\", \"linecolor\": \"white\", \"minorgridcolor\": \"white\", \"startlinecolor\": \"#2a3f5f\"}, \"baxis\": {\"endlinecolor\": \"#2a3f5f\", \"gridcolor\": \"white\", \"linecolor\": \"white\", \"minorgridcolor\": \"white\", \"startlinecolor\": \"#2a3f5f\"}, \"type\": \"carpet\"}], \"choropleth\": [{\"colorbar\": {\"outlinewidth\": 0, \"ticks\": \"\"}, \"type\": \"choropleth\"}], \"contour\": [{\"colorbar\": {\"outlinewidth\": 0, \"ticks\": \"\"}, \"colorscale\": [[0.0, \"#0d0887\"], [0.1111111111111111, \"#46039f\"], [0.2222222222222222, \"#7201a8\"], [0.3333333333333333, \"#9c179e\"], [0.4444444444444444, \"#bd3786\"], [0.5555555555555556, \"#d8576b\"], [0.6666666666666666, \"#ed7953\"], [0.7777777777777778, \"#fb9f3a\"], [0.8888888888888888, \"#fdca26\"], [1.0, \"#f0f921\"]], \"type\": \"contour\"}], \"contourcarpet\": [{\"colorbar\": {\"outlinewidth\": 0, \"ticks\": \"\"}, \"type\": \"contourcarpet\"}], \"heatmap\": [{\"colorbar\": {\"outlinewidth\": 0, \"ticks\": \"\"}, \"colorscale\": [[0.0, \"#0d0887\"], [0.1111111111111111, \"#46039f\"], [0.2222222222222222, \"#7201a8\"], [0.3333333333333333, \"#9c179e\"], [0.4444444444444444, \"#bd3786\"], [0.5555555555555556, \"#d8576b\"], [0.6666666666666666, \"#ed7953\"], [0.7777777777777778, \"#fb9f3a\"], [0.8888888888888888, \"#fdca26\"], [1.0, \"#f0f921\"]], \"type\": \"heatmap\"}], \"heatmapgl\": [{\"colorbar\": {\"outlinewidth\": 0, \"ticks\": \"\"}, \"colorscale\": [[0.0, \"#0d0887\"], [0.1111111111111111, \"#46039f\"], [0.2222222222222222, \"#7201a8\"], [0.3333333333333333, \"#9c179e\"], [0.4444444444444444, \"#bd3786\"], [0.5555555555555556, \"#d8576b\"], [0.6666666666666666, \"#ed7953\"], [0.7777777777777778, \"#fb9f3a\"], [0.8888888888888888, \"#fdca26\"], [1.0, \"#f0f921\"]], \"type\": \"heatmapgl\"}], \"histogram\": [{\"marker\": {\"colorbar\": {\"outlinewidth\": 0, \"ticks\": \"\"}}, \"type\": \"histogram\"}], \"histogram2d\": [{\"colorbar\": {\"outlinewidth\": 0, \"ticks\": \"\"}, \"colorscale\": [[0.0, \"#0d0887\"], [0.1111111111111111, \"#46039f\"], [0.2222222222222222, \"#7201a8\"], [0.3333333333333333, \"#9c179e\"], [0.4444444444444444, \"#bd3786\"], [0.5555555555555556, \"#d8576b\"], [0.6666666666666666, \"#ed7953\"], [0.7777777777777778, \"#fb9f3a\"], [0.8888888888888888, \"#fdca26\"], [1.0, \"#f0f921\"]], \"type\": \"histogram2d\"}], \"histogram2dcontour\": [{\"colorbar\": {\"outlinewidth\": 0, \"ticks\": \"\"}, \"colorscale\": [[0.0, \"#0d0887\"], [0.1111111111111111, \"#46039f\"], [0.2222222222222222, \"#7201a8\"], [0.3333333333333333, \"#9c179e\"], [0.4444444444444444, \"#bd3786\"], [0.5555555555555556, \"#d8576b\"], [0.6666666666666666, \"#ed7953\"], [0.7777777777777778, \"#fb9f3a\"], [0.8888888888888888, \"#fdca26\"], [1.0, \"#f0f921\"]], \"type\": \"histogram2dcontour\"}], \"mesh3d\": [{\"colorbar\": {\"outlinewidth\": 0, \"ticks\": \"\"}, \"type\": \"mesh3d\"}], \"parcoords\": [{\"line\": {\"colorbar\": {\"outlinewidth\": 0, \"ticks\": \"\"}}, \"type\": \"parcoords\"}], \"pie\": [{\"automargin\": true, \"type\": \"pie\"}], \"scatter\": [{\"marker\": {\"colorbar\": {\"outlinewidth\": 0, \"ticks\": \"\"}}, \"type\": \"scatter\"}], \"scatter3d\": [{\"line\": {\"colorbar\": {\"outlinewidth\": 0, \"ticks\": \"\"}}, \"marker\": {\"colorbar\": {\"outlinewidth\": 0, \"ticks\": \"\"}}, \"type\": \"scatter3d\"}], \"scattercarpet\": [{\"marker\": {\"colorbar\": {\"outlinewidth\": 0, \"ticks\": \"\"}}, \"type\": \"scattercarpet\"}], \"scattergeo\": [{\"marker\": {\"colorbar\": {\"outlinewidth\": 0, \"ticks\": \"\"}}, \"type\": \"scattergeo\"}], \"scattergl\": [{\"marker\": {\"colorbar\": {\"outlinewidth\": 0, \"ticks\": \"\"}}, \"type\": \"scattergl\"}], \"scattermapbox\": [{\"marker\": {\"colorbar\": {\"outlinewidth\": 0, \"ticks\": \"\"}}, \"type\": \"scattermapbox\"}], \"scatterpolar\": [{\"marker\": {\"colorbar\": {\"outlinewidth\": 0, \"ticks\": \"\"}}, \"type\": \"scatterpolar\"}], \"scatterpolargl\": [{\"marker\": {\"colorbar\": {\"outlinewidth\": 0, \"ticks\": \"\"}}, \"type\": \"scatterpolargl\"}], \"scatterternary\": [{\"marker\": {\"colorbar\": {\"outlinewidth\": 0, \"ticks\": \"\"}}, \"type\": \"scatterternary\"}], \"surface\": [{\"colorbar\": {\"outlinewidth\": 0, \"ticks\": \"\"}, \"colorscale\": [[0.0, \"#0d0887\"], [0.1111111111111111, \"#46039f\"], [0.2222222222222222, \"#7201a8\"], [0.3333333333333333, \"#9c179e\"], [0.4444444444444444, \"#bd3786\"], [0.5555555555555556, \"#d8576b\"], [0.6666666666666666, \"#ed7953\"], [0.7777777777777778, \"#fb9f3a\"], [0.8888888888888888, \"#fdca26\"], [1.0, \"#f0f921\"]], \"type\": \"surface\"}], \"table\": [{\"cells\": {\"fill\": {\"color\": \"#EBF0F8\"}, \"line\": {\"color\": \"white\"}}, \"header\": {\"fill\": {\"color\": \"#C8D4E3\"}, \"line\": {\"color\": \"white\"}}, \"type\": \"table\"}]}, \"layout\": {\"annotationdefaults\": {\"arrowcolor\": \"#2a3f5f\", \"arrowhead\": 0, \"arrowwidth\": 1}, \"coloraxis\": {\"colorbar\": {\"outlinewidth\": 0, \"ticks\": \"\"}}, \"colorscale\": {\"diverging\": [[0, \"#8e0152\"], [0.1, \"#c51b7d\"], [0.2, \"#de77ae\"], [0.3, \"#f1b6da\"], [0.4, \"#fde0ef\"], [0.5, \"#f7f7f7\"], [0.6, \"#e6f5d0\"], [0.7, \"#b8e186\"], [0.8, \"#7fbc41\"], [0.9, \"#4d9221\"], [1, \"#276419\"]], \"sequential\": [[0.0, \"#0d0887\"], [0.1111111111111111, \"#46039f\"], [0.2222222222222222, \"#7201a8\"], [0.3333333333333333, \"#9c179e\"], [0.4444444444444444, \"#bd3786\"], [0.5555555555555556, \"#d8576b\"], [0.6666666666666666, \"#ed7953\"], [0.7777777777777778, \"#fb9f3a\"], [0.8888888888888888, \"#fdca26\"], [1.0, \"#f0f921\"]], \"sequentialminus\": [[0.0, \"#0d0887\"], [0.1111111111111111, \"#46039f\"], [0.2222222222222222, \"#7201a8\"], [0.3333333333333333, \"#9c179e\"], [0.4444444444444444, \"#bd3786\"], [0.5555555555555556, \"#d8576b\"], [0.6666666666666666, \"#ed7953\"], [0.7777777777777778, \"#fb9f3a\"], [0.8888888888888888, \"#fdca26\"], [1.0, \"#f0f921\"]]}, \"colorway\": [\"#636efa\", \"#EF553B\", \"#00cc96\", \"#ab63fa\", \"#FFA15A\", \"#19d3f3\", \"#FF6692\", \"#B6E880\", \"#FF97FF\", \"#FECB52\"], \"font\": {\"color\": \"#2a3f5f\"}, \"geo\": {\"bgcolor\": \"white\", \"lakecolor\": \"white\", \"landcolor\": \"#E5ECF6\", \"showlakes\": true, \"showland\": true, \"subunitcolor\": \"white\"}, \"hoverlabel\": {\"align\": \"left\"}, \"hovermode\": \"closest\", \"mapbox\": {\"style\": \"light\"}, \"paper_bgcolor\": \"white\", \"plot_bgcolor\": \"#E5ECF6\", \"polar\": {\"angularaxis\": {\"gridcolor\": \"white\", \"linecolor\": \"white\", \"ticks\": \"\"}, \"bgcolor\": \"#E5ECF6\", \"radialaxis\": {\"gridcolor\": \"white\", \"linecolor\": \"white\", \"ticks\": \"\"}}, \"scene\": {\"xaxis\": {\"backgroundcolor\": \"#E5ECF6\", \"gridcolor\": \"white\", \"gridwidth\": 2, \"linecolor\": \"white\", \"showbackground\": true, \"ticks\": \"\", \"zerolinecolor\": \"white\"}, \"yaxis\": {\"backgroundcolor\": \"#E5ECF6\", \"gridcolor\": \"white\", \"gridwidth\": 2, \"linecolor\": \"white\", \"showbackground\": true, \"ticks\": \"\", \"zerolinecolor\": \"white\"}, \"zaxis\": {\"backgroundcolor\": \"#E5ECF6\", \"gridcolor\": \"white\", \"gridwidth\": 2, \"linecolor\": \"white\", \"showbackground\": true, \"ticks\": \"\", \"zerolinecolor\": \"white\"}}, \"shapedefaults\": {\"line\": {\"color\": \"#2a3f5f\"}}, \"ternary\": {\"aaxis\": {\"gridcolor\": \"white\", \"linecolor\": \"white\", \"ticks\": \"\"}, \"baxis\": {\"gridcolor\": \"white\", \"linecolor\": \"white\", \"ticks\": \"\"}, \"bgcolor\": \"#E5ECF6\", \"caxis\": {\"gridcolor\": \"white\", \"linecolor\": \"white\", \"ticks\": \"\"}}, \"title\": {\"x\": 0.05}, \"xaxis\": {\"automargin\": true, \"gridcolor\": \"white\", \"linecolor\": \"white\", \"ticks\": \"\", \"title\": {\"standoff\": 15}, \"zerolinecolor\": \"white\", \"zerolinewidth\": 2}, \"yaxis\": {\"automargin\": true, \"gridcolor\": \"white\", \"linecolor\": \"white\", \"ticks\": \"\", \"title\": {\"standoff\": 15}, \"zerolinecolor\": \"white\", \"zerolinewidth\": 2}}}, \"title\": {\"font\": {\"color\": \"#4D5663\"}}, \"xaxis\": {\"gridcolor\": \"#E1E5ED\", \"showgrid\": true, \"tickfont\": {\"color\": \"#4D5663\"}, \"title\": {\"font\": {\"color\": \"#4D5663\"}, \"text\": \"\"}, \"zerolinecolor\": \"#E1E5ED\"}, \"yaxis\": {\"gridcolor\": \"#E1E5ED\", \"showgrid\": true, \"tickfont\": {\"color\": \"#4D5663\"}, \"title\": {\"font\": {\"color\": \"#4D5663\"}, \"text\": \"\"}, \"zerolinecolor\": \"#E1E5ED\"}},\n",
       "                        {\"showLink\": true, \"linkText\": \"Export to plot.ly\", \"plotlyServerURL\": \"https://plot.ly\", \"responsive\": true}\n",
       "                    ).then(function(){\n",
       "                            \n",
       "var gd = document.getElementById('77788aae-029c-47a7-b4ff-5712c544b6b4');\n",
       "var x = new MutationObserver(function (mutations, observer) {{\n",
       "        var display = window.getComputedStyle(gd).display;\n",
       "        if (!display || display === 'none') {{\n",
       "            console.log([gd, 'removed!']);\n",
       "            Plotly.purge(gd);\n",
       "            observer.disconnect();\n",
       "        }}\n",
       "}});\n",
       "\n",
       "// Listen for the removal of the full notebook cells\n",
       "var notebookContainer = gd.closest('#notebook-container');\n",
       "if (notebookContainer) {{\n",
       "    x.observe(notebookContainer, {childList: true});\n",
       "}}\n",
       "\n",
       "// Listen for the clearing of the current output cell\n",
       "var outputEl = gd.closest('.output');\n",
       "if (outputEl) {{\n",
       "    x.observe(outputEl, {childList: true});\n",
       "}}\n",
       "\n",
       "                        })\n",
       "                };\n",
       "                });\n",
       "            </script>\n",
       "        </div>"
      ]
     },
     "metadata": {},
     "output_type": "display_data"
    }
   ],
   "source": [
    "df3.iplot(kind='surface')"
   ]
  },
  {
   "cell_type": "code",
   "execution_count": 36,
   "metadata": {
    "scrolled": true
   },
   "outputs": [
    {
     "data": {
      "application/vnd.plotly.v1+json": {
       "config": {
        "linkText": "Export to plot.ly",
        "plotlyServerURL": "https://plot.ly",
        "showLink": true
       },
       "data": [
        {
         "colorscale": [
          [
           0,
           "rgb(165,0,38)"
          ],
          [
           0.1,
           "rgb(215,48,39)"
          ],
          [
           0.2,
           "rgb(244,109,67)"
          ],
          [
           0.3,
           "rgb(253,174,97)"
          ],
          [
           0.4,
           "rgb(254,224,144)"
          ],
          [
           0.5,
           "rgb(255,255,191)"
          ],
          [
           0.6,
           "rgb(224,243,248)"
          ],
          [
           0.7,
           "rgb(171,217,233)"
          ],
          [
           0.8,
           "rgb(116,173,209)"
          ],
          [
           0.9,
           "rgb(69,117,180)"
          ],
          [
           1,
           "rgb(49,54,149)"
          ]
         ],
         "type": "surface",
         "x": [
          0,
          1,
          2,
          3,
          4
         ],
         "y": [
          "x",
          "y",
          "z"
         ],
         "z": [
          [
           1,
           2,
           3,
           4,
           5
          ],
          [
           10,
           20,
           30,
           20,
           10
          ],
          [
           5,
           4,
           3,
           2,
           1
          ]
         ]
        }
       ],
       "layout": {
        "legend": {
         "bgcolor": "#F5F6F9",
         "font": {
          "color": "#4D5663"
         }
        },
        "paper_bgcolor": "#F5F6F9",
        "plot_bgcolor": "#F5F6F9",
        "template": {
         "data": {
          "bar": [
           {
            "error_x": {
             "color": "#2a3f5f"
            },
            "error_y": {
             "color": "#2a3f5f"
            },
            "marker": {
             "line": {
              "color": "#E5ECF6",
              "width": 0.5
             }
            },
            "type": "bar"
           }
          ],
          "barpolar": [
           {
            "marker": {
             "line": {
              "color": "#E5ECF6",
              "width": 0.5
             }
            },
            "type": "barpolar"
           }
          ],
          "carpet": [
           {
            "aaxis": {
             "endlinecolor": "#2a3f5f",
             "gridcolor": "white",
             "linecolor": "white",
             "minorgridcolor": "white",
             "startlinecolor": "#2a3f5f"
            },
            "baxis": {
             "endlinecolor": "#2a3f5f",
             "gridcolor": "white",
             "linecolor": "white",
             "minorgridcolor": "white",
             "startlinecolor": "#2a3f5f"
            },
            "type": "carpet"
           }
          ],
          "choropleth": [
           {
            "colorbar": {
             "outlinewidth": 0,
             "ticks": ""
            },
            "type": "choropleth"
           }
          ],
          "contour": [
           {
            "colorbar": {
             "outlinewidth": 0,
             "ticks": ""
            },
            "colorscale": [
             [
              0,
              "#0d0887"
             ],
             [
              0.1111111111111111,
              "#46039f"
             ],
             [
              0.2222222222222222,
              "#7201a8"
             ],
             [
              0.3333333333333333,
              "#9c179e"
             ],
             [
              0.4444444444444444,
              "#bd3786"
             ],
             [
              0.5555555555555556,
              "#d8576b"
             ],
             [
              0.6666666666666666,
              "#ed7953"
             ],
             [
              0.7777777777777778,
              "#fb9f3a"
             ],
             [
              0.8888888888888888,
              "#fdca26"
             ],
             [
              1,
              "#f0f921"
             ]
            ],
            "type": "contour"
           }
          ],
          "contourcarpet": [
           {
            "colorbar": {
             "outlinewidth": 0,
             "ticks": ""
            },
            "type": "contourcarpet"
           }
          ],
          "heatmap": [
           {
            "colorbar": {
             "outlinewidth": 0,
             "ticks": ""
            },
            "colorscale": [
             [
              0,
              "#0d0887"
             ],
             [
              0.1111111111111111,
              "#46039f"
             ],
             [
              0.2222222222222222,
              "#7201a8"
             ],
             [
              0.3333333333333333,
              "#9c179e"
             ],
             [
              0.4444444444444444,
              "#bd3786"
             ],
             [
              0.5555555555555556,
              "#d8576b"
             ],
             [
              0.6666666666666666,
              "#ed7953"
             ],
             [
              0.7777777777777778,
              "#fb9f3a"
             ],
             [
              0.8888888888888888,
              "#fdca26"
             ],
             [
              1,
              "#f0f921"
             ]
            ],
            "type": "heatmap"
           }
          ],
          "heatmapgl": [
           {
            "colorbar": {
             "outlinewidth": 0,
             "ticks": ""
            },
            "colorscale": [
             [
              0,
              "#0d0887"
             ],
             [
              0.1111111111111111,
              "#46039f"
             ],
             [
              0.2222222222222222,
              "#7201a8"
             ],
             [
              0.3333333333333333,
              "#9c179e"
             ],
             [
              0.4444444444444444,
              "#bd3786"
             ],
             [
              0.5555555555555556,
              "#d8576b"
             ],
             [
              0.6666666666666666,
              "#ed7953"
             ],
             [
              0.7777777777777778,
              "#fb9f3a"
             ],
             [
              0.8888888888888888,
              "#fdca26"
             ],
             [
              1,
              "#f0f921"
             ]
            ],
            "type": "heatmapgl"
           }
          ],
          "histogram": [
           {
            "marker": {
             "colorbar": {
              "outlinewidth": 0,
              "ticks": ""
             }
            },
            "type": "histogram"
           }
          ],
          "histogram2d": [
           {
            "colorbar": {
             "outlinewidth": 0,
             "ticks": ""
            },
            "colorscale": [
             [
              0,
              "#0d0887"
             ],
             [
              0.1111111111111111,
              "#46039f"
             ],
             [
              0.2222222222222222,
              "#7201a8"
             ],
             [
              0.3333333333333333,
              "#9c179e"
             ],
             [
              0.4444444444444444,
              "#bd3786"
             ],
             [
              0.5555555555555556,
              "#d8576b"
             ],
             [
              0.6666666666666666,
              "#ed7953"
             ],
             [
              0.7777777777777778,
              "#fb9f3a"
             ],
             [
              0.8888888888888888,
              "#fdca26"
             ],
             [
              1,
              "#f0f921"
             ]
            ],
            "type": "histogram2d"
           }
          ],
          "histogram2dcontour": [
           {
            "colorbar": {
             "outlinewidth": 0,
             "ticks": ""
            },
            "colorscale": [
             [
              0,
              "#0d0887"
             ],
             [
              0.1111111111111111,
              "#46039f"
             ],
             [
              0.2222222222222222,
              "#7201a8"
             ],
             [
              0.3333333333333333,
              "#9c179e"
             ],
             [
              0.4444444444444444,
              "#bd3786"
             ],
             [
              0.5555555555555556,
              "#d8576b"
             ],
             [
              0.6666666666666666,
              "#ed7953"
             ],
             [
              0.7777777777777778,
              "#fb9f3a"
             ],
             [
              0.8888888888888888,
              "#fdca26"
             ],
             [
              1,
              "#f0f921"
             ]
            ],
            "type": "histogram2dcontour"
           }
          ],
          "mesh3d": [
           {
            "colorbar": {
             "outlinewidth": 0,
             "ticks": ""
            },
            "type": "mesh3d"
           }
          ],
          "parcoords": [
           {
            "line": {
             "colorbar": {
              "outlinewidth": 0,
              "ticks": ""
             }
            },
            "type": "parcoords"
           }
          ],
          "pie": [
           {
            "automargin": true,
            "type": "pie"
           }
          ],
          "scatter": [
           {
            "marker": {
             "colorbar": {
              "outlinewidth": 0,
              "ticks": ""
             }
            },
            "type": "scatter"
           }
          ],
          "scatter3d": [
           {
            "line": {
             "colorbar": {
              "outlinewidth": 0,
              "ticks": ""
             }
            },
            "marker": {
             "colorbar": {
              "outlinewidth": 0,
              "ticks": ""
             }
            },
            "type": "scatter3d"
           }
          ],
          "scattercarpet": [
           {
            "marker": {
             "colorbar": {
              "outlinewidth": 0,
              "ticks": ""
             }
            },
            "type": "scattercarpet"
           }
          ],
          "scattergeo": [
           {
            "marker": {
             "colorbar": {
              "outlinewidth": 0,
              "ticks": ""
             }
            },
            "type": "scattergeo"
           }
          ],
          "scattergl": [
           {
            "marker": {
             "colorbar": {
              "outlinewidth": 0,
              "ticks": ""
             }
            },
            "type": "scattergl"
           }
          ],
          "scattermapbox": [
           {
            "marker": {
             "colorbar": {
              "outlinewidth": 0,
              "ticks": ""
             }
            },
            "type": "scattermapbox"
           }
          ],
          "scatterpolar": [
           {
            "marker": {
             "colorbar": {
              "outlinewidth": 0,
              "ticks": ""
             }
            },
            "type": "scatterpolar"
           }
          ],
          "scatterpolargl": [
           {
            "marker": {
             "colorbar": {
              "outlinewidth": 0,
              "ticks": ""
             }
            },
            "type": "scatterpolargl"
           }
          ],
          "scatterternary": [
           {
            "marker": {
             "colorbar": {
              "outlinewidth": 0,
              "ticks": ""
             }
            },
            "type": "scatterternary"
           }
          ],
          "surface": [
           {
            "colorbar": {
             "outlinewidth": 0,
             "ticks": ""
            },
            "colorscale": [
             [
              0,
              "#0d0887"
             ],
             [
              0.1111111111111111,
              "#46039f"
             ],
             [
              0.2222222222222222,
              "#7201a8"
             ],
             [
              0.3333333333333333,
              "#9c179e"
             ],
             [
              0.4444444444444444,
              "#bd3786"
             ],
             [
              0.5555555555555556,
              "#d8576b"
             ],
             [
              0.6666666666666666,
              "#ed7953"
             ],
             [
              0.7777777777777778,
              "#fb9f3a"
             ],
             [
              0.8888888888888888,
              "#fdca26"
             ],
             [
              1,
              "#f0f921"
             ]
            ],
            "type": "surface"
           }
          ],
          "table": [
           {
            "cells": {
             "fill": {
              "color": "#EBF0F8"
             },
             "line": {
              "color": "white"
             }
            },
            "header": {
             "fill": {
              "color": "#C8D4E3"
             },
             "line": {
              "color": "white"
             }
            },
            "type": "table"
           }
          ]
         },
         "layout": {
          "annotationdefaults": {
           "arrowcolor": "#2a3f5f",
           "arrowhead": 0,
           "arrowwidth": 1
          },
          "coloraxis": {
           "colorbar": {
            "outlinewidth": 0,
            "ticks": ""
           }
          },
          "colorscale": {
           "diverging": [
            [
             0,
             "#8e0152"
            ],
            [
             0.1,
             "#c51b7d"
            ],
            [
             0.2,
             "#de77ae"
            ],
            [
             0.3,
             "#f1b6da"
            ],
            [
             0.4,
             "#fde0ef"
            ],
            [
             0.5,
             "#f7f7f7"
            ],
            [
             0.6,
             "#e6f5d0"
            ],
            [
             0.7,
             "#b8e186"
            ],
            [
             0.8,
             "#7fbc41"
            ],
            [
             0.9,
             "#4d9221"
            ],
            [
             1,
             "#276419"
            ]
           ],
           "sequential": [
            [
             0,
             "#0d0887"
            ],
            [
             0.1111111111111111,
             "#46039f"
            ],
            [
             0.2222222222222222,
             "#7201a8"
            ],
            [
             0.3333333333333333,
             "#9c179e"
            ],
            [
             0.4444444444444444,
             "#bd3786"
            ],
            [
             0.5555555555555556,
             "#d8576b"
            ],
            [
             0.6666666666666666,
             "#ed7953"
            ],
            [
             0.7777777777777778,
             "#fb9f3a"
            ],
            [
             0.8888888888888888,
             "#fdca26"
            ],
            [
             1,
             "#f0f921"
            ]
           ],
           "sequentialminus": [
            [
             0,
             "#0d0887"
            ],
            [
             0.1111111111111111,
             "#46039f"
            ],
            [
             0.2222222222222222,
             "#7201a8"
            ],
            [
             0.3333333333333333,
             "#9c179e"
            ],
            [
             0.4444444444444444,
             "#bd3786"
            ],
            [
             0.5555555555555556,
             "#d8576b"
            ],
            [
             0.6666666666666666,
             "#ed7953"
            ],
            [
             0.7777777777777778,
             "#fb9f3a"
            ],
            [
             0.8888888888888888,
             "#fdca26"
            ],
            [
             1,
             "#f0f921"
            ]
           ]
          },
          "colorway": [
           "#636efa",
           "#EF553B",
           "#00cc96",
           "#ab63fa",
           "#FFA15A",
           "#19d3f3",
           "#FF6692",
           "#B6E880",
           "#FF97FF",
           "#FECB52"
          ],
          "font": {
           "color": "#2a3f5f"
          },
          "geo": {
           "bgcolor": "white",
           "lakecolor": "white",
           "landcolor": "#E5ECF6",
           "showlakes": true,
           "showland": true,
           "subunitcolor": "white"
          },
          "hoverlabel": {
           "align": "left"
          },
          "hovermode": "closest",
          "mapbox": {
           "style": "light"
          },
          "paper_bgcolor": "white",
          "plot_bgcolor": "#E5ECF6",
          "polar": {
           "angularaxis": {
            "gridcolor": "white",
            "linecolor": "white",
            "ticks": ""
           },
           "bgcolor": "#E5ECF6",
           "radialaxis": {
            "gridcolor": "white",
            "linecolor": "white",
            "ticks": ""
           }
          },
          "scene": {
           "xaxis": {
            "backgroundcolor": "#E5ECF6",
            "gridcolor": "white",
            "gridwidth": 2,
            "linecolor": "white",
            "showbackground": true,
            "ticks": "",
            "zerolinecolor": "white"
           },
           "yaxis": {
            "backgroundcolor": "#E5ECF6",
            "gridcolor": "white",
            "gridwidth": 2,
            "linecolor": "white",
            "showbackground": true,
            "ticks": "",
            "zerolinecolor": "white"
           },
           "zaxis": {
            "backgroundcolor": "#E5ECF6",
            "gridcolor": "white",
            "gridwidth": 2,
            "linecolor": "white",
            "showbackground": true,
            "ticks": "",
            "zerolinecolor": "white"
           }
          },
          "shapedefaults": {
           "line": {
            "color": "#2a3f5f"
           }
          },
          "ternary": {
           "aaxis": {
            "gridcolor": "white",
            "linecolor": "white",
            "ticks": ""
           },
           "baxis": {
            "gridcolor": "white",
            "linecolor": "white",
            "ticks": ""
           },
           "bgcolor": "#E5ECF6",
           "caxis": {
            "gridcolor": "white",
            "linecolor": "white",
            "ticks": ""
           }
          },
          "title": {
           "x": 0.05
          },
          "xaxis": {
           "automargin": true,
           "gridcolor": "white",
           "linecolor": "white",
           "ticks": "",
           "title": {
            "standoff": 15
           },
           "zerolinecolor": "white",
           "zerolinewidth": 2
          },
          "yaxis": {
           "automargin": true,
           "gridcolor": "white",
           "linecolor": "white",
           "ticks": "",
           "title": {
            "standoff": 15
           },
           "zerolinecolor": "white",
           "zerolinewidth": 2
          }
         }
        },
        "title": {
         "font": {
          "color": "#4D5663"
         }
        },
        "xaxis": {
         "gridcolor": "#E1E5ED",
         "showgrid": true,
         "tickfont": {
          "color": "#4D5663"
         },
         "title": {
          "font": {
           "color": "#4D5663"
          },
          "text": ""
         },
         "zerolinecolor": "#E1E5ED"
        },
        "yaxis": {
         "gridcolor": "#E1E5ED",
         "showgrid": true,
         "tickfont": {
          "color": "#4D5663"
         },
         "title": {
          "font": {
           "color": "#4D5663"
          },
          "text": ""
         },
         "zerolinecolor": "#E1E5ED"
        }
       }
      },
      "text/html": [
       "<div>\n",
       "        \n",
       "        \n",
       "            <div id=\"b336ed5a-e2f0-4321-920c-93b75c1ce14e\" class=\"plotly-graph-div\" style=\"height:525px; width:100%;\"></div>\n",
       "            <script type=\"text/javascript\">\n",
       "                require([\"plotly\"], function(Plotly) {\n",
       "                    window.PLOTLYENV=window.PLOTLYENV || {};\n",
       "                    window.PLOTLYENV.BASE_URL='https://plot.ly';\n",
       "                    \n",
       "                if (document.getElementById(\"b336ed5a-e2f0-4321-920c-93b75c1ce14e\")) {\n",
       "                    Plotly.newPlot(\n",
       "                        'b336ed5a-e2f0-4321-920c-93b75c1ce14e',\n",
       "                        [{\"colorscale\": [[0.0, \"rgb(165,0,38)\"], [0.1, \"rgb(215,48,39)\"], [0.2, \"rgb(244,109,67)\"], [0.3, \"rgb(253,174,97)\"], [0.4, \"rgb(254,224,144)\"], [0.5, \"rgb(255,255,191)\"], [0.6, \"rgb(224,243,248)\"], [0.7, \"rgb(171,217,233)\"], [0.8, \"rgb(116,173,209)\"], [0.9, \"rgb(69,117,180)\"], [1.0, \"rgb(49,54,149)\"]], \"type\": \"surface\", \"x\": [0, 1, 2, 3, 4], \"y\": [\"x\", \"y\", \"z\"], \"z\": [[1, 2, 3, 4, 5], [10, 20, 30, 20, 10], [5, 4, 3, 2, 1]]}],\n",
       "                        {\"legend\": {\"bgcolor\": \"#F5F6F9\", \"font\": {\"color\": \"#4D5663\"}}, \"paper_bgcolor\": \"#F5F6F9\", \"plot_bgcolor\": \"#F5F6F9\", \"template\": {\"data\": {\"bar\": [{\"error_x\": {\"color\": \"#2a3f5f\"}, \"error_y\": {\"color\": \"#2a3f5f\"}, \"marker\": {\"line\": {\"color\": \"#E5ECF6\", \"width\": 0.5}}, \"type\": \"bar\"}], \"barpolar\": [{\"marker\": {\"line\": {\"color\": \"#E5ECF6\", \"width\": 0.5}}, \"type\": \"barpolar\"}], \"carpet\": [{\"aaxis\": {\"endlinecolor\": \"#2a3f5f\", \"gridcolor\": \"white\", \"linecolor\": \"white\", \"minorgridcolor\": \"white\", \"startlinecolor\": \"#2a3f5f\"}, \"baxis\": {\"endlinecolor\": \"#2a3f5f\", \"gridcolor\": \"white\", \"linecolor\": \"white\", \"minorgridcolor\": \"white\", \"startlinecolor\": \"#2a3f5f\"}, \"type\": \"carpet\"}], \"choropleth\": [{\"colorbar\": {\"outlinewidth\": 0, \"ticks\": \"\"}, \"type\": \"choropleth\"}], \"contour\": [{\"colorbar\": {\"outlinewidth\": 0, \"ticks\": \"\"}, \"colorscale\": [[0.0, \"#0d0887\"], [0.1111111111111111, \"#46039f\"], [0.2222222222222222, \"#7201a8\"], [0.3333333333333333, \"#9c179e\"], [0.4444444444444444, \"#bd3786\"], [0.5555555555555556, \"#d8576b\"], [0.6666666666666666, \"#ed7953\"], [0.7777777777777778, \"#fb9f3a\"], [0.8888888888888888, \"#fdca26\"], [1.0, \"#f0f921\"]], \"type\": \"contour\"}], \"contourcarpet\": [{\"colorbar\": {\"outlinewidth\": 0, \"ticks\": \"\"}, \"type\": \"contourcarpet\"}], \"heatmap\": [{\"colorbar\": {\"outlinewidth\": 0, \"ticks\": \"\"}, \"colorscale\": [[0.0, \"#0d0887\"], [0.1111111111111111, \"#46039f\"], [0.2222222222222222, \"#7201a8\"], [0.3333333333333333, \"#9c179e\"], [0.4444444444444444, \"#bd3786\"], [0.5555555555555556, \"#d8576b\"], [0.6666666666666666, \"#ed7953\"], [0.7777777777777778, \"#fb9f3a\"], [0.8888888888888888, \"#fdca26\"], [1.0, \"#f0f921\"]], \"type\": \"heatmap\"}], \"heatmapgl\": [{\"colorbar\": {\"outlinewidth\": 0, \"ticks\": \"\"}, \"colorscale\": [[0.0, \"#0d0887\"], [0.1111111111111111, \"#46039f\"], [0.2222222222222222, \"#7201a8\"], [0.3333333333333333, \"#9c179e\"], [0.4444444444444444, \"#bd3786\"], [0.5555555555555556, \"#d8576b\"], [0.6666666666666666, \"#ed7953\"], [0.7777777777777778, \"#fb9f3a\"], [0.8888888888888888, \"#fdca26\"], [1.0, \"#f0f921\"]], \"type\": \"heatmapgl\"}], \"histogram\": [{\"marker\": {\"colorbar\": {\"outlinewidth\": 0, \"ticks\": \"\"}}, \"type\": \"histogram\"}], \"histogram2d\": [{\"colorbar\": {\"outlinewidth\": 0, \"ticks\": \"\"}, \"colorscale\": [[0.0, \"#0d0887\"], [0.1111111111111111, \"#46039f\"], [0.2222222222222222, \"#7201a8\"], [0.3333333333333333, \"#9c179e\"], [0.4444444444444444, \"#bd3786\"], [0.5555555555555556, \"#d8576b\"], [0.6666666666666666, \"#ed7953\"], [0.7777777777777778, \"#fb9f3a\"], [0.8888888888888888, \"#fdca26\"], [1.0, \"#f0f921\"]], \"type\": \"histogram2d\"}], \"histogram2dcontour\": [{\"colorbar\": {\"outlinewidth\": 0, \"ticks\": \"\"}, \"colorscale\": [[0.0, \"#0d0887\"], [0.1111111111111111, \"#46039f\"], [0.2222222222222222, \"#7201a8\"], [0.3333333333333333, \"#9c179e\"], [0.4444444444444444, \"#bd3786\"], [0.5555555555555556, \"#d8576b\"], [0.6666666666666666, \"#ed7953\"], [0.7777777777777778, \"#fb9f3a\"], [0.8888888888888888, \"#fdca26\"], [1.0, \"#f0f921\"]], \"type\": \"histogram2dcontour\"}], \"mesh3d\": [{\"colorbar\": {\"outlinewidth\": 0, \"ticks\": \"\"}, \"type\": \"mesh3d\"}], \"parcoords\": [{\"line\": {\"colorbar\": {\"outlinewidth\": 0, \"ticks\": \"\"}}, \"type\": \"parcoords\"}], \"pie\": [{\"automargin\": true, \"type\": \"pie\"}], \"scatter\": [{\"marker\": {\"colorbar\": {\"outlinewidth\": 0, \"ticks\": \"\"}}, \"type\": \"scatter\"}], \"scatter3d\": [{\"line\": {\"colorbar\": {\"outlinewidth\": 0, \"ticks\": \"\"}}, \"marker\": {\"colorbar\": {\"outlinewidth\": 0, \"ticks\": \"\"}}, \"type\": \"scatter3d\"}], \"scattercarpet\": [{\"marker\": {\"colorbar\": {\"outlinewidth\": 0, \"ticks\": \"\"}}, \"type\": \"scattercarpet\"}], \"scattergeo\": [{\"marker\": {\"colorbar\": {\"outlinewidth\": 0, \"ticks\": \"\"}}, \"type\": \"scattergeo\"}], \"scattergl\": [{\"marker\": {\"colorbar\": {\"outlinewidth\": 0, \"ticks\": \"\"}}, \"type\": \"scattergl\"}], \"scattermapbox\": [{\"marker\": {\"colorbar\": {\"outlinewidth\": 0, \"ticks\": \"\"}}, \"type\": \"scattermapbox\"}], \"scatterpolar\": [{\"marker\": {\"colorbar\": {\"outlinewidth\": 0, \"ticks\": \"\"}}, \"type\": \"scatterpolar\"}], \"scatterpolargl\": [{\"marker\": {\"colorbar\": {\"outlinewidth\": 0, \"ticks\": \"\"}}, \"type\": \"scatterpolargl\"}], \"scatterternary\": [{\"marker\": {\"colorbar\": {\"outlinewidth\": 0, \"ticks\": \"\"}}, \"type\": \"scatterternary\"}], \"surface\": [{\"colorbar\": {\"outlinewidth\": 0, \"ticks\": \"\"}, \"colorscale\": [[0.0, \"#0d0887\"], [0.1111111111111111, \"#46039f\"], [0.2222222222222222, \"#7201a8\"], [0.3333333333333333, \"#9c179e\"], [0.4444444444444444, \"#bd3786\"], [0.5555555555555556, \"#d8576b\"], [0.6666666666666666, \"#ed7953\"], [0.7777777777777778, \"#fb9f3a\"], [0.8888888888888888, \"#fdca26\"], [1.0, \"#f0f921\"]], \"type\": \"surface\"}], \"table\": [{\"cells\": {\"fill\": {\"color\": \"#EBF0F8\"}, \"line\": {\"color\": \"white\"}}, \"header\": {\"fill\": {\"color\": \"#C8D4E3\"}, \"line\": {\"color\": \"white\"}}, \"type\": \"table\"}]}, \"layout\": {\"annotationdefaults\": {\"arrowcolor\": \"#2a3f5f\", \"arrowhead\": 0, \"arrowwidth\": 1}, \"coloraxis\": {\"colorbar\": {\"outlinewidth\": 0, \"ticks\": \"\"}}, \"colorscale\": {\"diverging\": [[0, \"#8e0152\"], [0.1, \"#c51b7d\"], [0.2, \"#de77ae\"], [0.3, \"#f1b6da\"], [0.4, \"#fde0ef\"], [0.5, \"#f7f7f7\"], [0.6, \"#e6f5d0\"], [0.7, \"#b8e186\"], [0.8, \"#7fbc41\"], [0.9, \"#4d9221\"], [1, \"#276419\"]], \"sequential\": [[0.0, \"#0d0887\"], [0.1111111111111111, \"#46039f\"], [0.2222222222222222, \"#7201a8\"], [0.3333333333333333, \"#9c179e\"], [0.4444444444444444, \"#bd3786\"], [0.5555555555555556, \"#d8576b\"], [0.6666666666666666, \"#ed7953\"], [0.7777777777777778, \"#fb9f3a\"], [0.8888888888888888, \"#fdca26\"], [1.0, \"#f0f921\"]], \"sequentialminus\": [[0.0, \"#0d0887\"], [0.1111111111111111, \"#46039f\"], [0.2222222222222222, \"#7201a8\"], [0.3333333333333333, \"#9c179e\"], [0.4444444444444444, \"#bd3786\"], [0.5555555555555556, \"#d8576b\"], [0.6666666666666666, \"#ed7953\"], [0.7777777777777778, \"#fb9f3a\"], [0.8888888888888888, \"#fdca26\"], [1.0, \"#f0f921\"]]}, \"colorway\": [\"#636efa\", \"#EF553B\", \"#00cc96\", \"#ab63fa\", \"#FFA15A\", \"#19d3f3\", \"#FF6692\", \"#B6E880\", \"#FF97FF\", \"#FECB52\"], \"font\": {\"color\": \"#2a3f5f\"}, \"geo\": {\"bgcolor\": \"white\", \"lakecolor\": \"white\", \"landcolor\": \"#E5ECF6\", \"showlakes\": true, \"showland\": true, \"subunitcolor\": \"white\"}, \"hoverlabel\": {\"align\": \"left\"}, \"hovermode\": \"closest\", \"mapbox\": {\"style\": \"light\"}, \"paper_bgcolor\": \"white\", \"plot_bgcolor\": \"#E5ECF6\", \"polar\": {\"angularaxis\": {\"gridcolor\": \"white\", \"linecolor\": \"white\", \"ticks\": \"\"}, \"bgcolor\": \"#E5ECF6\", \"radialaxis\": {\"gridcolor\": \"white\", \"linecolor\": \"white\", \"ticks\": \"\"}}, \"scene\": {\"xaxis\": {\"backgroundcolor\": \"#E5ECF6\", \"gridcolor\": \"white\", \"gridwidth\": 2, \"linecolor\": \"white\", \"showbackground\": true, \"ticks\": \"\", \"zerolinecolor\": \"white\"}, \"yaxis\": {\"backgroundcolor\": \"#E5ECF6\", \"gridcolor\": \"white\", \"gridwidth\": 2, \"linecolor\": \"white\", \"showbackground\": true, \"ticks\": \"\", \"zerolinecolor\": \"white\"}, \"zaxis\": {\"backgroundcolor\": \"#E5ECF6\", \"gridcolor\": \"white\", \"gridwidth\": 2, \"linecolor\": \"white\", \"showbackground\": true, \"ticks\": \"\", \"zerolinecolor\": \"white\"}}, \"shapedefaults\": {\"line\": {\"color\": \"#2a3f5f\"}}, \"ternary\": {\"aaxis\": {\"gridcolor\": \"white\", \"linecolor\": \"white\", \"ticks\": \"\"}, \"baxis\": {\"gridcolor\": \"white\", \"linecolor\": \"white\", \"ticks\": \"\"}, \"bgcolor\": \"#E5ECF6\", \"caxis\": {\"gridcolor\": \"white\", \"linecolor\": \"white\", \"ticks\": \"\"}}, \"title\": {\"x\": 0.05}, \"xaxis\": {\"automargin\": true, \"gridcolor\": \"white\", \"linecolor\": \"white\", \"ticks\": \"\", \"title\": {\"standoff\": 15}, \"zerolinecolor\": \"white\", \"zerolinewidth\": 2}, \"yaxis\": {\"automargin\": true, \"gridcolor\": \"white\", \"linecolor\": \"white\", \"ticks\": \"\", \"title\": {\"standoff\": 15}, \"zerolinecolor\": \"white\", \"zerolinewidth\": 2}}}, \"title\": {\"font\": {\"color\": \"#4D5663\"}}, \"xaxis\": {\"gridcolor\": \"#E1E5ED\", \"showgrid\": true, \"tickfont\": {\"color\": \"#4D5663\"}, \"title\": {\"font\": {\"color\": \"#4D5663\"}, \"text\": \"\"}, \"zerolinecolor\": \"#E1E5ED\"}, \"yaxis\": {\"gridcolor\": \"#E1E5ED\", \"showgrid\": true, \"tickfont\": {\"color\": \"#4D5663\"}, \"title\": {\"font\": {\"color\": \"#4D5663\"}, \"text\": \"\"}, \"zerolinecolor\": \"#E1E5ED\"}},\n",
       "                        {\"showLink\": true, \"linkText\": \"Export to plot.ly\", \"plotlyServerURL\": \"https://plot.ly\", \"responsive\": true}\n",
       "                    ).then(function(){\n",
       "                            \n",
       "var gd = document.getElementById('b336ed5a-e2f0-4321-920c-93b75c1ce14e');\n",
       "var x = new MutationObserver(function (mutations, observer) {{\n",
       "        var display = window.getComputedStyle(gd).display;\n",
       "        if (!display || display === 'none') {{\n",
       "            console.log([gd, 'removed!']);\n",
       "            Plotly.purge(gd);\n",
       "            observer.disconnect();\n",
       "        }}\n",
       "}});\n",
       "\n",
       "// Listen for the removal of the full notebook cells\n",
       "var notebookContainer = gd.closest('#notebook-container');\n",
       "if (notebookContainer) {{\n",
       "    x.observe(notebookContainer, {childList: true});\n",
       "}}\n",
       "\n",
       "// Listen for the clearing of the current output cell\n",
       "var outputEl = gd.closest('.output');\n",
       "if (outputEl) {{\n",
       "    x.observe(outputEl, {childList: true});\n",
       "}}\n",
       "\n",
       "                        })\n",
       "                };\n",
       "                });\n",
       "            </script>\n",
       "        </div>"
      ]
     },
     "metadata": {},
     "output_type": "display_data"
    }
   ],
   "source": [
    "df3.iplot(kind='surface', colorscale='rdylbu')"
   ]
  },
  {
   "cell_type": "code",
   "execution_count": 37,
   "metadata": {},
   "outputs": [
    {
     "data": {
      "application/vnd.plotly.v1+json": {
       "config": {
        "linkText": "Export to plot.ly",
        "plotlyServerURL": "https://plot.ly",
        "showLink": true
       },
       "data": [
        {
         "histfunc": "count",
         "histnorm": "",
         "marker": {
          "color": "rgba(255, 153, 51, 1.0)",
          "line": {
           "color": "#4D5663",
           "width": 1.3
          }
         },
         "name": "A",
         "nbinsx": 50,
         "opacity": 0.8,
         "orientation": "v",
         "type": "histogram",
         "x": [
          1.9072310072255976,
          0.45664251731057026,
          1.8735593319249753,
          -1.2764623848263121,
          1.3628530085372335,
          -0.4325085498941139,
          -2.130565106550025,
          -0.3478882665499311,
          -1.8065591069816318,
          1.2802855972530267,
          0.9099690101147678,
          -0.7254302350257974,
          -1.357689466572614,
          -0.2924728207932572,
          -0.6520631482874802,
          0.004148547838381575,
          0.6844015451212803,
          0.4768351538690697,
          0.6533129371097708,
          -0.8033735902053046,
          0.10436594645935798,
          0.5988000624309174,
          -0.6343639773656216,
          -0.13527773819219185,
          -0.20256767414639978,
          -0.015873236886170233,
          1.0333180007396285,
          0.6233280465126437,
          1.8054087268203456,
          -0.3483139337287294,
          -1.6450789071911471,
          -0.07367633128762816,
          0.9661664795196275,
          -3.554540119417503,
          -0.3517884347890016,
          -0.011080518665749637,
          0.621422551146316,
          -1.2531579594339688,
          -0.10051082015301586,
          -0.24054607341946016,
          -0.3839538033661071,
          -1.0575974259826995,
          -1.752757339947482,
          0.2774973963127115,
          -1.4494616998409102,
          0.16015295976718663,
          -1.5104556329789018,
          -0.8063273303499235,
          -0.3947630414938095,
          0.43441231346843795,
          1.226504273411426,
          0.2024939514122735,
          -0.00835533148028108,
          -0.36256325006618495,
          0.5359156853817274,
          -1.0969121025292958,
          0.43187469434509806,
          0.8496889764272824,
          -1.2082731388454349,
          -1.7089121213718867,
          -0.5170724026485997,
          -0.03994284400890909,
          -0.25932188432990816,
          0.07953898183032124,
          1.0458832881768172,
          -1.9579149340336046,
          0.5453127632430007,
          1.854844673262272,
          -2.5673923034531083,
          -0.09091067989192657,
          -0.3884470822677006,
          -1.8469698500964709,
          -1.5158324196916066,
          -0.38138223397344256,
          -0.05805129919084255,
          1.087493238981735,
          0.7534415222757022,
          -0.6284540050680987,
          -0.38751599288043437,
          -1.2084618045487636,
          0.0514634408368774,
          -1.082918557354612,
          -0.4992107264311093,
          -1.9452028837154631,
          0.7273056387902339,
          -0.8955610849268126,
          -0.8234617655936936,
          0.532065163647017,
          -1.1028862381850142,
          -1.7582423251578894,
          -1.3791246147712828,
          0.10042152710117103,
          -0.5716713526590748,
          -0.9735284618191417,
          -0.058716214204821274,
          0.5119956539665943,
          0.11718988426468993,
          0.006329341436323806,
          -0.620841952508306,
          0.8187717540053973
         ]
        }
       ],
       "layout": {
        "barmode": "overlay",
        "legend": {
         "bgcolor": "#F5F6F9",
         "font": {
          "color": "#4D5663"
         }
        },
        "paper_bgcolor": "#F5F6F9",
        "plot_bgcolor": "#F5F6F9",
        "template": {
         "data": {
          "bar": [
           {
            "error_x": {
             "color": "#2a3f5f"
            },
            "error_y": {
             "color": "#2a3f5f"
            },
            "marker": {
             "line": {
              "color": "#E5ECF6",
              "width": 0.5
             }
            },
            "type": "bar"
           }
          ],
          "barpolar": [
           {
            "marker": {
             "line": {
              "color": "#E5ECF6",
              "width": 0.5
             }
            },
            "type": "barpolar"
           }
          ],
          "carpet": [
           {
            "aaxis": {
             "endlinecolor": "#2a3f5f",
             "gridcolor": "white",
             "linecolor": "white",
             "minorgridcolor": "white",
             "startlinecolor": "#2a3f5f"
            },
            "baxis": {
             "endlinecolor": "#2a3f5f",
             "gridcolor": "white",
             "linecolor": "white",
             "minorgridcolor": "white",
             "startlinecolor": "#2a3f5f"
            },
            "type": "carpet"
           }
          ],
          "choropleth": [
           {
            "colorbar": {
             "outlinewidth": 0,
             "ticks": ""
            },
            "type": "choropleth"
           }
          ],
          "contour": [
           {
            "colorbar": {
             "outlinewidth": 0,
             "ticks": ""
            },
            "colorscale": [
             [
              0,
              "#0d0887"
             ],
             [
              0.1111111111111111,
              "#46039f"
             ],
             [
              0.2222222222222222,
              "#7201a8"
             ],
             [
              0.3333333333333333,
              "#9c179e"
             ],
             [
              0.4444444444444444,
              "#bd3786"
             ],
             [
              0.5555555555555556,
              "#d8576b"
             ],
             [
              0.6666666666666666,
              "#ed7953"
             ],
             [
              0.7777777777777778,
              "#fb9f3a"
             ],
             [
              0.8888888888888888,
              "#fdca26"
             ],
             [
              1,
              "#f0f921"
             ]
            ],
            "type": "contour"
           }
          ],
          "contourcarpet": [
           {
            "colorbar": {
             "outlinewidth": 0,
             "ticks": ""
            },
            "type": "contourcarpet"
           }
          ],
          "heatmap": [
           {
            "colorbar": {
             "outlinewidth": 0,
             "ticks": ""
            },
            "colorscale": [
             [
              0,
              "#0d0887"
             ],
             [
              0.1111111111111111,
              "#46039f"
             ],
             [
              0.2222222222222222,
              "#7201a8"
             ],
             [
              0.3333333333333333,
              "#9c179e"
             ],
             [
              0.4444444444444444,
              "#bd3786"
             ],
             [
              0.5555555555555556,
              "#d8576b"
             ],
             [
              0.6666666666666666,
              "#ed7953"
             ],
             [
              0.7777777777777778,
              "#fb9f3a"
             ],
             [
              0.8888888888888888,
              "#fdca26"
             ],
             [
              1,
              "#f0f921"
             ]
            ],
            "type": "heatmap"
           }
          ],
          "heatmapgl": [
           {
            "colorbar": {
             "outlinewidth": 0,
             "ticks": ""
            },
            "colorscale": [
             [
              0,
              "#0d0887"
             ],
             [
              0.1111111111111111,
              "#46039f"
             ],
             [
              0.2222222222222222,
              "#7201a8"
             ],
             [
              0.3333333333333333,
              "#9c179e"
             ],
             [
              0.4444444444444444,
              "#bd3786"
             ],
             [
              0.5555555555555556,
              "#d8576b"
             ],
             [
              0.6666666666666666,
              "#ed7953"
             ],
             [
              0.7777777777777778,
              "#fb9f3a"
             ],
             [
              0.8888888888888888,
              "#fdca26"
             ],
             [
              1,
              "#f0f921"
             ]
            ],
            "type": "heatmapgl"
           }
          ],
          "histogram": [
           {
            "marker": {
             "colorbar": {
              "outlinewidth": 0,
              "ticks": ""
             }
            },
            "type": "histogram"
           }
          ],
          "histogram2d": [
           {
            "colorbar": {
             "outlinewidth": 0,
             "ticks": ""
            },
            "colorscale": [
             [
              0,
              "#0d0887"
             ],
             [
              0.1111111111111111,
              "#46039f"
             ],
             [
              0.2222222222222222,
              "#7201a8"
             ],
             [
              0.3333333333333333,
              "#9c179e"
             ],
             [
              0.4444444444444444,
              "#bd3786"
             ],
             [
              0.5555555555555556,
              "#d8576b"
             ],
             [
              0.6666666666666666,
              "#ed7953"
             ],
             [
              0.7777777777777778,
              "#fb9f3a"
             ],
             [
              0.8888888888888888,
              "#fdca26"
             ],
             [
              1,
              "#f0f921"
             ]
            ],
            "type": "histogram2d"
           }
          ],
          "histogram2dcontour": [
           {
            "colorbar": {
             "outlinewidth": 0,
             "ticks": ""
            },
            "colorscale": [
             [
              0,
              "#0d0887"
             ],
             [
              0.1111111111111111,
              "#46039f"
             ],
             [
              0.2222222222222222,
              "#7201a8"
             ],
             [
              0.3333333333333333,
              "#9c179e"
             ],
             [
              0.4444444444444444,
              "#bd3786"
             ],
             [
              0.5555555555555556,
              "#d8576b"
             ],
             [
              0.6666666666666666,
              "#ed7953"
             ],
             [
              0.7777777777777778,
              "#fb9f3a"
             ],
             [
              0.8888888888888888,
              "#fdca26"
             ],
             [
              1,
              "#f0f921"
             ]
            ],
            "type": "histogram2dcontour"
           }
          ],
          "mesh3d": [
           {
            "colorbar": {
             "outlinewidth": 0,
             "ticks": ""
            },
            "type": "mesh3d"
           }
          ],
          "parcoords": [
           {
            "line": {
             "colorbar": {
              "outlinewidth": 0,
              "ticks": ""
             }
            },
            "type": "parcoords"
           }
          ],
          "pie": [
           {
            "automargin": true,
            "type": "pie"
           }
          ],
          "scatter": [
           {
            "marker": {
             "colorbar": {
              "outlinewidth": 0,
              "ticks": ""
             }
            },
            "type": "scatter"
           }
          ],
          "scatter3d": [
           {
            "line": {
             "colorbar": {
              "outlinewidth": 0,
              "ticks": ""
             }
            },
            "marker": {
             "colorbar": {
              "outlinewidth": 0,
              "ticks": ""
             }
            },
            "type": "scatter3d"
           }
          ],
          "scattercarpet": [
           {
            "marker": {
             "colorbar": {
              "outlinewidth": 0,
              "ticks": ""
             }
            },
            "type": "scattercarpet"
           }
          ],
          "scattergeo": [
           {
            "marker": {
             "colorbar": {
              "outlinewidth": 0,
              "ticks": ""
             }
            },
            "type": "scattergeo"
           }
          ],
          "scattergl": [
           {
            "marker": {
             "colorbar": {
              "outlinewidth": 0,
              "ticks": ""
             }
            },
            "type": "scattergl"
           }
          ],
          "scattermapbox": [
           {
            "marker": {
             "colorbar": {
              "outlinewidth": 0,
              "ticks": ""
             }
            },
            "type": "scattermapbox"
           }
          ],
          "scatterpolar": [
           {
            "marker": {
             "colorbar": {
              "outlinewidth": 0,
              "ticks": ""
             }
            },
            "type": "scatterpolar"
           }
          ],
          "scatterpolargl": [
           {
            "marker": {
             "colorbar": {
              "outlinewidth": 0,
              "ticks": ""
             }
            },
            "type": "scatterpolargl"
           }
          ],
          "scatterternary": [
           {
            "marker": {
             "colorbar": {
              "outlinewidth": 0,
              "ticks": ""
             }
            },
            "type": "scatterternary"
           }
          ],
          "surface": [
           {
            "colorbar": {
             "outlinewidth": 0,
             "ticks": ""
            },
            "colorscale": [
             [
              0,
              "#0d0887"
             ],
             [
              0.1111111111111111,
              "#46039f"
             ],
             [
              0.2222222222222222,
              "#7201a8"
             ],
             [
              0.3333333333333333,
              "#9c179e"
             ],
             [
              0.4444444444444444,
              "#bd3786"
             ],
             [
              0.5555555555555556,
              "#d8576b"
             ],
             [
              0.6666666666666666,
              "#ed7953"
             ],
             [
              0.7777777777777778,
              "#fb9f3a"
             ],
             [
              0.8888888888888888,
              "#fdca26"
             ],
             [
              1,
              "#f0f921"
             ]
            ],
            "type": "surface"
           }
          ],
          "table": [
           {
            "cells": {
             "fill": {
              "color": "#EBF0F8"
             },
             "line": {
              "color": "white"
             }
            },
            "header": {
             "fill": {
              "color": "#C8D4E3"
             },
             "line": {
              "color": "white"
             }
            },
            "type": "table"
           }
          ]
         },
         "layout": {
          "annotationdefaults": {
           "arrowcolor": "#2a3f5f",
           "arrowhead": 0,
           "arrowwidth": 1
          },
          "coloraxis": {
           "colorbar": {
            "outlinewidth": 0,
            "ticks": ""
           }
          },
          "colorscale": {
           "diverging": [
            [
             0,
             "#8e0152"
            ],
            [
             0.1,
             "#c51b7d"
            ],
            [
             0.2,
             "#de77ae"
            ],
            [
             0.3,
             "#f1b6da"
            ],
            [
             0.4,
             "#fde0ef"
            ],
            [
             0.5,
             "#f7f7f7"
            ],
            [
             0.6,
             "#e6f5d0"
            ],
            [
             0.7,
             "#b8e186"
            ],
            [
             0.8,
             "#7fbc41"
            ],
            [
             0.9,
             "#4d9221"
            ],
            [
             1,
             "#276419"
            ]
           ],
           "sequential": [
            [
             0,
             "#0d0887"
            ],
            [
             0.1111111111111111,
             "#46039f"
            ],
            [
             0.2222222222222222,
             "#7201a8"
            ],
            [
             0.3333333333333333,
             "#9c179e"
            ],
            [
             0.4444444444444444,
             "#bd3786"
            ],
            [
             0.5555555555555556,
             "#d8576b"
            ],
            [
             0.6666666666666666,
             "#ed7953"
            ],
            [
             0.7777777777777778,
             "#fb9f3a"
            ],
            [
             0.8888888888888888,
             "#fdca26"
            ],
            [
             1,
             "#f0f921"
            ]
           ],
           "sequentialminus": [
            [
             0,
             "#0d0887"
            ],
            [
             0.1111111111111111,
             "#46039f"
            ],
            [
             0.2222222222222222,
             "#7201a8"
            ],
            [
             0.3333333333333333,
             "#9c179e"
            ],
            [
             0.4444444444444444,
             "#bd3786"
            ],
            [
             0.5555555555555556,
             "#d8576b"
            ],
            [
             0.6666666666666666,
             "#ed7953"
            ],
            [
             0.7777777777777778,
             "#fb9f3a"
            ],
            [
             0.8888888888888888,
             "#fdca26"
            ],
            [
             1,
             "#f0f921"
            ]
           ]
          },
          "colorway": [
           "#636efa",
           "#EF553B",
           "#00cc96",
           "#ab63fa",
           "#FFA15A",
           "#19d3f3",
           "#FF6692",
           "#B6E880",
           "#FF97FF",
           "#FECB52"
          ],
          "font": {
           "color": "#2a3f5f"
          },
          "geo": {
           "bgcolor": "white",
           "lakecolor": "white",
           "landcolor": "#E5ECF6",
           "showlakes": true,
           "showland": true,
           "subunitcolor": "white"
          },
          "hoverlabel": {
           "align": "left"
          },
          "hovermode": "closest",
          "mapbox": {
           "style": "light"
          },
          "paper_bgcolor": "white",
          "plot_bgcolor": "#E5ECF6",
          "polar": {
           "angularaxis": {
            "gridcolor": "white",
            "linecolor": "white",
            "ticks": ""
           },
           "bgcolor": "#E5ECF6",
           "radialaxis": {
            "gridcolor": "white",
            "linecolor": "white",
            "ticks": ""
           }
          },
          "scene": {
           "xaxis": {
            "backgroundcolor": "#E5ECF6",
            "gridcolor": "white",
            "gridwidth": 2,
            "linecolor": "white",
            "showbackground": true,
            "ticks": "",
            "zerolinecolor": "white"
           },
           "yaxis": {
            "backgroundcolor": "#E5ECF6",
            "gridcolor": "white",
            "gridwidth": 2,
            "linecolor": "white",
            "showbackground": true,
            "ticks": "",
            "zerolinecolor": "white"
           },
           "zaxis": {
            "backgroundcolor": "#E5ECF6",
            "gridcolor": "white",
            "gridwidth": 2,
            "linecolor": "white",
            "showbackground": true,
            "ticks": "",
            "zerolinecolor": "white"
           }
          },
          "shapedefaults": {
           "line": {
            "color": "#2a3f5f"
           }
          },
          "ternary": {
           "aaxis": {
            "gridcolor": "white",
            "linecolor": "white",
            "ticks": ""
           },
           "baxis": {
            "gridcolor": "white",
            "linecolor": "white",
            "ticks": ""
           },
           "bgcolor": "#E5ECF6",
           "caxis": {
            "gridcolor": "white",
            "linecolor": "white",
            "ticks": ""
           }
          },
          "title": {
           "x": 0.05
          },
          "xaxis": {
           "automargin": true,
           "gridcolor": "white",
           "linecolor": "white",
           "ticks": "",
           "title": {
            "standoff": 15
           },
           "zerolinecolor": "white",
           "zerolinewidth": 2
          },
          "yaxis": {
           "automargin": true,
           "gridcolor": "white",
           "linecolor": "white",
           "ticks": "",
           "title": {
            "standoff": 15
           },
           "zerolinecolor": "white",
           "zerolinewidth": 2
          }
         }
        },
        "title": {
         "font": {
          "color": "#4D5663"
         }
        },
        "xaxis": {
         "gridcolor": "#E1E5ED",
         "showgrid": true,
         "tickfont": {
          "color": "#4D5663"
         },
         "title": {
          "font": {
           "color": "#4D5663"
          },
          "text": ""
         },
         "zerolinecolor": "#E1E5ED"
        },
        "yaxis": {
         "gridcolor": "#E1E5ED",
         "showgrid": true,
         "tickfont": {
          "color": "#4D5663"
         },
         "title": {
          "font": {
           "color": "#4D5663"
          },
          "text": ""
         },
         "zerolinecolor": "#E1E5ED"
        }
       }
      },
      "text/html": [
       "<div>\n",
       "        \n",
       "        \n",
       "            <div id=\"51c1d40d-5a09-41ae-8943-56838b2ac5df\" class=\"plotly-graph-div\" style=\"height:525px; width:100%;\"></div>\n",
       "            <script type=\"text/javascript\">\n",
       "                require([\"plotly\"], function(Plotly) {\n",
       "                    window.PLOTLYENV=window.PLOTLYENV || {};\n",
       "                    window.PLOTLYENV.BASE_URL='https://plot.ly';\n",
       "                    \n",
       "                if (document.getElementById(\"51c1d40d-5a09-41ae-8943-56838b2ac5df\")) {\n",
       "                    Plotly.newPlot(\n",
       "                        '51c1d40d-5a09-41ae-8943-56838b2ac5df',\n",
       "                        [{\"histfunc\": \"count\", \"histnorm\": \"\", \"marker\": {\"color\": \"rgba(255, 153, 51, 1.0)\", \"line\": {\"color\": \"#4D5663\", \"width\": 1.3}}, \"name\": \"A\", \"nbinsx\": 50, \"opacity\": 0.8, \"orientation\": \"v\", \"type\": \"histogram\", \"x\": [1.9072310072255976, 0.45664251731057026, 1.8735593319249753, -1.2764623848263121, 1.3628530085372335, -0.4325085498941139, -2.130565106550025, -0.3478882665499311, -1.8065591069816318, 1.2802855972530267, 0.9099690101147678, -0.7254302350257974, -1.357689466572614, -0.2924728207932572, -0.6520631482874802, 0.004148547838381575, 0.6844015451212803, 0.4768351538690697, 0.6533129371097708, -0.8033735902053046, 0.10436594645935798, 0.5988000624309174, -0.6343639773656216, -0.13527773819219185, -0.20256767414639978, -0.015873236886170233, 1.0333180007396285, 0.6233280465126437, 1.8054087268203456, -0.3483139337287294, -1.6450789071911471, -0.07367633128762816, 0.9661664795196275, -3.554540119417503, -0.3517884347890016, -0.011080518665749637, 0.621422551146316, -1.2531579594339688, -0.10051082015301586, -0.24054607341946016, -0.3839538033661071, -1.0575974259826995, -1.752757339947482, 0.2774973963127115, -1.4494616998409102, 0.16015295976718663, -1.5104556329789018, -0.8063273303499235, -0.3947630414938095, 0.43441231346843795, 1.226504273411426, 0.2024939514122735, -0.00835533148028108, -0.36256325006618495, 0.5359156853817274, -1.0969121025292958, 0.43187469434509806, 0.8496889764272824, -1.2082731388454349, -1.7089121213718867, -0.5170724026485997, -0.03994284400890909, -0.25932188432990816, 0.07953898183032124, 1.0458832881768172, -1.9579149340336046, 0.5453127632430007, 1.854844673262272, -2.5673923034531083, -0.09091067989192657, -0.3884470822677006, -1.8469698500964709, -1.5158324196916066, -0.38138223397344256, -0.05805129919084255, 1.087493238981735, 0.7534415222757022, -0.6284540050680987, -0.38751599288043437, -1.2084618045487636, 0.0514634408368774, -1.082918557354612, -0.4992107264311093, -1.9452028837154631, 0.7273056387902339, -0.8955610849268126, -0.8234617655936936, 0.532065163647017, -1.1028862381850142, -1.7582423251578894, -1.3791246147712828, 0.10042152710117103, -0.5716713526590748, -0.9735284618191417, -0.058716214204821274, 0.5119956539665943, 0.11718988426468993, 0.006329341436323806, -0.620841952508306, 0.8187717540053973]}],\n",
       "                        {\"barmode\": \"overlay\", \"legend\": {\"bgcolor\": \"#F5F6F9\", \"font\": {\"color\": \"#4D5663\"}}, \"paper_bgcolor\": \"#F5F6F9\", \"plot_bgcolor\": \"#F5F6F9\", \"template\": {\"data\": {\"bar\": [{\"error_x\": {\"color\": \"#2a3f5f\"}, \"error_y\": {\"color\": \"#2a3f5f\"}, \"marker\": {\"line\": {\"color\": \"#E5ECF6\", \"width\": 0.5}}, \"type\": \"bar\"}], \"barpolar\": [{\"marker\": {\"line\": {\"color\": \"#E5ECF6\", \"width\": 0.5}}, \"type\": \"barpolar\"}], \"carpet\": [{\"aaxis\": {\"endlinecolor\": \"#2a3f5f\", \"gridcolor\": \"white\", \"linecolor\": \"white\", \"minorgridcolor\": \"white\", \"startlinecolor\": \"#2a3f5f\"}, \"baxis\": {\"endlinecolor\": \"#2a3f5f\", \"gridcolor\": \"white\", \"linecolor\": \"white\", \"minorgridcolor\": \"white\", \"startlinecolor\": \"#2a3f5f\"}, \"type\": \"carpet\"}], \"choropleth\": [{\"colorbar\": {\"outlinewidth\": 0, \"ticks\": \"\"}, \"type\": \"choropleth\"}], \"contour\": [{\"colorbar\": {\"outlinewidth\": 0, \"ticks\": \"\"}, \"colorscale\": [[0.0, \"#0d0887\"], [0.1111111111111111, \"#46039f\"], [0.2222222222222222, \"#7201a8\"], [0.3333333333333333, \"#9c179e\"], [0.4444444444444444, \"#bd3786\"], [0.5555555555555556, \"#d8576b\"], [0.6666666666666666, \"#ed7953\"], [0.7777777777777778, \"#fb9f3a\"], [0.8888888888888888, \"#fdca26\"], [1.0, \"#f0f921\"]], \"type\": \"contour\"}], \"contourcarpet\": [{\"colorbar\": {\"outlinewidth\": 0, \"ticks\": \"\"}, \"type\": \"contourcarpet\"}], \"heatmap\": [{\"colorbar\": {\"outlinewidth\": 0, \"ticks\": \"\"}, \"colorscale\": [[0.0, \"#0d0887\"], [0.1111111111111111, \"#46039f\"], [0.2222222222222222, \"#7201a8\"], [0.3333333333333333, \"#9c179e\"], [0.4444444444444444, \"#bd3786\"], [0.5555555555555556, \"#d8576b\"], [0.6666666666666666, \"#ed7953\"], [0.7777777777777778, \"#fb9f3a\"], [0.8888888888888888, \"#fdca26\"], [1.0, \"#f0f921\"]], \"type\": \"heatmap\"}], \"heatmapgl\": [{\"colorbar\": {\"outlinewidth\": 0, \"ticks\": \"\"}, \"colorscale\": [[0.0, \"#0d0887\"], [0.1111111111111111, \"#46039f\"], [0.2222222222222222, \"#7201a8\"], [0.3333333333333333, \"#9c179e\"], [0.4444444444444444, \"#bd3786\"], [0.5555555555555556, \"#d8576b\"], [0.6666666666666666, \"#ed7953\"], [0.7777777777777778, \"#fb9f3a\"], [0.8888888888888888, \"#fdca26\"], [1.0, \"#f0f921\"]], \"type\": \"heatmapgl\"}], \"histogram\": [{\"marker\": {\"colorbar\": {\"outlinewidth\": 0, \"ticks\": \"\"}}, \"type\": \"histogram\"}], \"histogram2d\": [{\"colorbar\": {\"outlinewidth\": 0, \"ticks\": \"\"}, \"colorscale\": [[0.0, \"#0d0887\"], [0.1111111111111111, \"#46039f\"], [0.2222222222222222, \"#7201a8\"], [0.3333333333333333, \"#9c179e\"], [0.4444444444444444, \"#bd3786\"], [0.5555555555555556, \"#d8576b\"], [0.6666666666666666, \"#ed7953\"], [0.7777777777777778, \"#fb9f3a\"], [0.8888888888888888, \"#fdca26\"], [1.0, \"#f0f921\"]], \"type\": \"histogram2d\"}], \"histogram2dcontour\": [{\"colorbar\": {\"outlinewidth\": 0, \"ticks\": \"\"}, \"colorscale\": [[0.0, \"#0d0887\"], [0.1111111111111111, \"#46039f\"], [0.2222222222222222, \"#7201a8\"], [0.3333333333333333, \"#9c179e\"], [0.4444444444444444, \"#bd3786\"], [0.5555555555555556, \"#d8576b\"], [0.6666666666666666, \"#ed7953\"], [0.7777777777777778, \"#fb9f3a\"], [0.8888888888888888, \"#fdca26\"], [1.0, \"#f0f921\"]], \"type\": \"histogram2dcontour\"}], \"mesh3d\": [{\"colorbar\": {\"outlinewidth\": 0, \"ticks\": \"\"}, \"type\": \"mesh3d\"}], \"parcoords\": [{\"line\": {\"colorbar\": {\"outlinewidth\": 0, \"ticks\": \"\"}}, \"type\": \"parcoords\"}], \"pie\": [{\"automargin\": true, \"type\": \"pie\"}], \"scatter\": [{\"marker\": {\"colorbar\": {\"outlinewidth\": 0, \"ticks\": \"\"}}, \"type\": \"scatter\"}], \"scatter3d\": [{\"line\": {\"colorbar\": {\"outlinewidth\": 0, \"ticks\": \"\"}}, \"marker\": {\"colorbar\": {\"outlinewidth\": 0, \"ticks\": \"\"}}, \"type\": \"scatter3d\"}], \"scattercarpet\": [{\"marker\": {\"colorbar\": {\"outlinewidth\": 0, \"ticks\": \"\"}}, \"type\": \"scattercarpet\"}], \"scattergeo\": [{\"marker\": {\"colorbar\": {\"outlinewidth\": 0, \"ticks\": \"\"}}, \"type\": \"scattergeo\"}], \"scattergl\": [{\"marker\": {\"colorbar\": {\"outlinewidth\": 0, \"ticks\": \"\"}}, \"type\": \"scattergl\"}], \"scattermapbox\": [{\"marker\": {\"colorbar\": {\"outlinewidth\": 0, \"ticks\": \"\"}}, \"type\": \"scattermapbox\"}], \"scatterpolar\": [{\"marker\": {\"colorbar\": {\"outlinewidth\": 0, \"ticks\": \"\"}}, \"type\": \"scatterpolar\"}], \"scatterpolargl\": [{\"marker\": {\"colorbar\": {\"outlinewidth\": 0, \"ticks\": \"\"}}, \"type\": \"scatterpolargl\"}], \"scatterternary\": [{\"marker\": {\"colorbar\": {\"outlinewidth\": 0, \"ticks\": \"\"}}, \"type\": \"scatterternary\"}], \"surface\": [{\"colorbar\": {\"outlinewidth\": 0, \"ticks\": \"\"}, \"colorscale\": [[0.0, \"#0d0887\"], [0.1111111111111111, \"#46039f\"], [0.2222222222222222, \"#7201a8\"], [0.3333333333333333, \"#9c179e\"], [0.4444444444444444, \"#bd3786\"], [0.5555555555555556, \"#d8576b\"], [0.6666666666666666, \"#ed7953\"], [0.7777777777777778, \"#fb9f3a\"], [0.8888888888888888, \"#fdca26\"], [1.0, \"#f0f921\"]], \"type\": \"surface\"}], \"table\": [{\"cells\": {\"fill\": {\"color\": \"#EBF0F8\"}, \"line\": {\"color\": \"white\"}}, \"header\": {\"fill\": {\"color\": \"#C8D4E3\"}, \"line\": {\"color\": \"white\"}}, \"type\": \"table\"}]}, \"layout\": {\"annotationdefaults\": {\"arrowcolor\": \"#2a3f5f\", \"arrowhead\": 0, \"arrowwidth\": 1}, \"coloraxis\": {\"colorbar\": {\"outlinewidth\": 0, \"ticks\": \"\"}}, \"colorscale\": {\"diverging\": [[0, \"#8e0152\"], [0.1, \"#c51b7d\"], [0.2, \"#de77ae\"], [0.3, \"#f1b6da\"], [0.4, \"#fde0ef\"], [0.5, \"#f7f7f7\"], [0.6, \"#e6f5d0\"], [0.7, \"#b8e186\"], [0.8, \"#7fbc41\"], [0.9, \"#4d9221\"], [1, \"#276419\"]], \"sequential\": [[0.0, \"#0d0887\"], [0.1111111111111111, \"#46039f\"], [0.2222222222222222, \"#7201a8\"], [0.3333333333333333, \"#9c179e\"], [0.4444444444444444, \"#bd3786\"], [0.5555555555555556, \"#d8576b\"], [0.6666666666666666, \"#ed7953\"], [0.7777777777777778, \"#fb9f3a\"], [0.8888888888888888, \"#fdca26\"], [1.0, \"#f0f921\"]], \"sequentialminus\": [[0.0, \"#0d0887\"], [0.1111111111111111, \"#46039f\"], [0.2222222222222222, \"#7201a8\"], [0.3333333333333333, \"#9c179e\"], [0.4444444444444444, \"#bd3786\"], [0.5555555555555556, \"#d8576b\"], [0.6666666666666666, \"#ed7953\"], [0.7777777777777778, \"#fb9f3a\"], [0.8888888888888888, \"#fdca26\"], [1.0, \"#f0f921\"]]}, \"colorway\": [\"#636efa\", \"#EF553B\", \"#00cc96\", \"#ab63fa\", \"#FFA15A\", \"#19d3f3\", \"#FF6692\", \"#B6E880\", \"#FF97FF\", \"#FECB52\"], \"font\": {\"color\": \"#2a3f5f\"}, \"geo\": {\"bgcolor\": \"white\", \"lakecolor\": \"white\", \"landcolor\": \"#E5ECF6\", \"showlakes\": true, \"showland\": true, \"subunitcolor\": \"white\"}, \"hoverlabel\": {\"align\": \"left\"}, \"hovermode\": \"closest\", \"mapbox\": {\"style\": \"light\"}, \"paper_bgcolor\": \"white\", \"plot_bgcolor\": \"#E5ECF6\", \"polar\": {\"angularaxis\": {\"gridcolor\": \"white\", \"linecolor\": \"white\", \"ticks\": \"\"}, \"bgcolor\": \"#E5ECF6\", \"radialaxis\": {\"gridcolor\": \"white\", \"linecolor\": \"white\", \"ticks\": \"\"}}, \"scene\": {\"xaxis\": {\"backgroundcolor\": \"#E5ECF6\", \"gridcolor\": \"white\", \"gridwidth\": 2, \"linecolor\": \"white\", \"showbackground\": true, \"ticks\": \"\", \"zerolinecolor\": \"white\"}, \"yaxis\": {\"backgroundcolor\": \"#E5ECF6\", \"gridcolor\": \"white\", \"gridwidth\": 2, \"linecolor\": \"white\", \"showbackground\": true, \"ticks\": \"\", \"zerolinecolor\": \"white\"}, \"zaxis\": {\"backgroundcolor\": \"#E5ECF6\", \"gridcolor\": \"white\", \"gridwidth\": 2, \"linecolor\": \"white\", \"showbackground\": true, \"ticks\": \"\", \"zerolinecolor\": \"white\"}}, \"shapedefaults\": {\"line\": {\"color\": \"#2a3f5f\"}}, \"ternary\": {\"aaxis\": {\"gridcolor\": \"white\", \"linecolor\": \"white\", \"ticks\": \"\"}, \"baxis\": {\"gridcolor\": \"white\", \"linecolor\": \"white\", \"ticks\": \"\"}, \"bgcolor\": \"#E5ECF6\", \"caxis\": {\"gridcolor\": \"white\", \"linecolor\": \"white\", \"ticks\": \"\"}}, \"title\": {\"x\": 0.05}, \"xaxis\": {\"automargin\": true, \"gridcolor\": \"white\", \"linecolor\": \"white\", \"ticks\": \"\", \"title\": {\"standoff\": 15}, \"zerolinecolor\": \"white\", \"zerolinewidth\": 2}, \"yaxis\": {\"automargin\": true, \"gridcolor\": \"white\", \"linecolor\": \"white\", \"ticks\": \"\", \"title\": {\"standoff\": 15}, \"zerolinecolor\": \"white\", \"zerolinewidth\": 2}}}, \"title\": {\"font\": {\"color\": \"#4D5663\"}}, \"xaxis\": {\"gridcolor\": \"#E1E5ED\", \"showgrid\": true, \"tickfont\": {\"color\": \"#4D5663\"}, \"title\": {\"font\": {\"color\": \"#4D5663\"}, \"text\": \"\"}, \"zerolinecolor\": \"#E1E5ED\"}, \"yaxis\": {\"gridcolor\": \"#E1E5ED\", \"showgrid\": true, \"tickfont\": {\"color\": \"#4D5663\"}, \"title\": {\"font\": {\"color\": \"#4D5663\"}, \"text\": \"\"}, \"zerolinecolor\": \"#E1E5ED\"}},\n",
       "                        {\"showLink\": true, \"linkText\": \"Export to plot.ly\", \"plotlyServerURL\": \"https://plot.ly\", \"responsive\": true}\n",
       "                    ).then(function(){\n",
       "                            \n",
       "var gd = document.getElementById('51c1d40d-5a09-41ae-8943-56838b2ac5df');\n",
       "var x = new MutationObserver(function (mutations, observer) {{\n",
       "        var display = window.getComputedStyle(gd).display;\n",
       "        if (!display || display === 'none') {{\n",
       "            console.log([gd, 'removed!']);\n",
       "            Plotly.purge(gd);\n",
       "            observer.disconnect();\n",
       "        }}\n",
       "}});\n",
       "\n",
       "// Listen for the removal of the full notebook cells\n",
       "var notebookContainer = gd.closest('#notebook-container');\n",
       "if (notebookContainer) {{\n",
       "    x.observe(notebookContainer, {childList: true});\n",
       "}}\n",
       "\n",
       "// Listen for the clearing of the current output cell\n",
       "var outputEl = gd.closest('.output');\n",
       "if (outputEl) {{\n",
       "    x.observe(outputEl, {childList: true});\n",
       "}}\n",
       "\n",
       "                        })\n",
       "                };\n",
       "                });\n",
       "            </script>\n",
       "        </div>"
      ]
     },
     "metadata": {},
     "output_type": "display_data"
    }
   ],
   "source": [
    "df['A'].iplot(kind='hist',bins=50)"
   ]
  },
  {
   "cell_type": "code",
   "execution_count": 38,
   "metadata": {},
   "outputs": [
    {
     "data": {
      "application/vnd.plotly.v1+json": {
       "config": {
        "linkText": "Export to plot.ly",
        "plotlyServerURL": "https://plot.ly",
        "showLink": true
       },
       "data": [
        {
         "histfunc": "count",
         "histnorm": "",
         "marker": {
          "color": "rgba(255, 153, 51, 1.0)",
          "line": {
           "color": "#4D5663",
           "width": 1.3
          }
         },
         "name": "A",
         "opacity": 0.8,
         "orientation": "v",
         "type": "histogram",
         "x": [
          1.9072310072255976,
          0.45664251731057026,
          1.8735593319249753,
          -1.2764623848263121,
          1.3628530085372335,
          -0.4325085498941139,
          -2.130565106550025,
          -0.3478882665499311,
          -1.8065591069816318,
          1.2802855972530267,
          0.9099690101147678,
          -0.7254302350257974,
          -1.357689466572614,
          -0.2924728207932572,
          -0.6520631482874802,
          0.004148547838381575,
          0.6844015451212803,
          0.4768351538690697,
          0.6533129371097708,
          -0.8033735902053046,
          0.10436594645935798,
          0.5988000624309174,
          -0.6343639773656216,
          -0.13527773819219185,
          -0.20256767414639978,
          -0.015873236886170233,
          1.0333180007396285,
          0.6233280465126437,
          1.8054087268203456,
          -0.3483139337287294,
          -1.6450789071911471,
          -0.07367633128762816,
          0.9661664795196275,
          -3.554540119417503,
          -0.3517884347890016,
          -0.011080518665749637,
          0.621422551146316,
          -1.2531579594339688,
          -0.10051082015301586,
          -0.24054607341946016,
          -0.3839538033661071,
          -1.0575974259826995,
          -1.752757339947482,
          0.2774973963127115,
          -1.4494616998409102,
          0.16015295976718663,
          -1.5104556329789018,
          -0.8063273303499235,
          -0.3947630414938095,
          0.43441231346843795,
          1.226504273411426,
          0.2024939514122735,
          -0.00835533148028108,
          -0.36256325006618495,
          0.5359156853817274,
          -1.0969121025292958,
          0.43187469434509806,
          0.8496889764272824,
          -1.2082731388454349,
          -1.7089121213718867,
          -0.5170724026485997,
          -0.03994284400890909,
          -0.25932188432990816,
          0.07953898183032124,
          1.0458832881768172,
          -1.9579149340336046,
          0.5453127632430007,
          1.854844673262272,
          -2.5673923034531083,
          -0.09091067989192657,
          -0.3884470822677006,
          -1.8469698500964709,
          -1.5158324196916066,
          -0.38138223397344256,
          -0.05805129919084255,
          1.087493238981735,
          0.7534415222757022,
          -0.6284540050680987,
          -0.38751599288043437,
          -1.2084618045487636,
          0.0514634408368774,
          -1.082918557354612,
          -0.4992107264311093,
          -1.9452028837154631,
          0.7273056387902339,
          -0.8955610849268126,
          -0.8234617655936936,
          0.532065163647017,
          -1.1028862381850142,
          -1.7582423251578894,
          -1.3791246147712828,
          0.10042152710117103,
          -0.5716713526590748,
          -0.9735284618191417,
          -0.058716214204821274,
          0.5119956539665943,
          0.11718988426468993,
          0.006329341436323806,
          -0.620841952508306,
          0.8187717540053973
         ]
        },
        {
         "histfunc": "count",
         "histnorm": "",
         "marker": {
          "color": "rgba(55, 128, 191, 1.0)",
          "line": {
           "color": "#4D5663",
           "width": 1.3
          }
         },
         "name": "B",
         "opacity": 0.8,
         "orientation": "v",
         "type": "histogram",
         "x": [
          0.5397341984256421,
          1.4273648820401585,
          -0.2699470460701567,
          -0.009205707259470066,
          0.38245509704051034,
          -0.6121410983025236,
          1.471122536385358,
          0.008852038627531702,
          -1.0322725314491903,
          0.8203466329622852,
          0.40274543333508517,
          1.1710113832309024,
          -0.8490119147891786,
          0.37012452704623977,
          0.6727839097825701,
          -0.7146490926729023,
          -1.1710925815152915,
          0.829667151217231,
          1.6254325510413408,
          -0.03523386729780477,
          0.8344690832208976,
          -0.013325006634558746,
          0.731317913467702,
          -0.34730864357214936,
          0.43023502387456686,
          1.4329446581756315,
          -0.7491845032709245,
          0.3510417309197764,
          0.14083899715516177,
          -1.1861006093411341,
          0.06372821563374959,
          -0.5482268710062057,
          0.5358156468037663,
          1.860518121810859,
          1.0586200684408351,
          -0.0639731090133942,
          -0.08212677769362468,
          -1.3644617085653952,
          2.306486236434318,
          0.2299424870881697,
          0.277553325627394,
          -0.7310389683951801,
          0.7855790026429404,
          1.991062673583806,
          0.42083892064389616,
          0.3312184872102766,
          -0.948280317204048,
          -0.9568068650540437,
          0.06219846171557773,
          -0.6894903418517699,
          0.9426582104357005,
          -0.6549530029210485,
          -0.27693993710331516,
          0.5794679612177993,
          -0.17445332930955162,
          1.973689765686015,
          -1.1221081740462968,
          -0.5689439814189605,
          -0.812476104079502,
          2.106994461930286,
          0.32736395155534453,
          0.1312433407250468,
          -0.18047861897329853,
          -0.772626615251416,
          0.3228290458457046,
          -0.3876374046636482,
          0.1833422829766309,
          1.9087468843804094,
          -0.15516628138100658,
          -1.4163623544697346,
          0.6147553608766299,
          0.6285689877845728,
          0.46983514730252834,
          -1.891043424119729,
          -0.41109171089752206,
          -0.19882089607141482,
          0.26050507326347166,
          -0.021940889213982018,
          0.35818838870948727,
          0.8607668916844468,
          -0.76838927683406,
          -0.627976710508572,
          -0.6366917226484422,
          0.04068231456785195,
          1.0800854230491712,
          -0.5362280813309173,
          0.9978930275747946,
          -1.7791250497361506,
          -0.677962460840107,
          0.7572816499590634,
          -0.287425248846891,
          -0.47888022308913814,
          -1.1274959646162466,
          0.2324095143049378,
          0.8683229396351135,
          1.829117056821466,
          -1.816751591989605,
          -0.5924861572089956,
          0.8017402458379345,
          -1.4002762640497939
         ]
        },
        {
         "histfunc": "count",
         "histnorm": "",
         "marker": {
          "color": "rgba(50, 171, 96, 1.0)",
          "line": {
           "color": "#4D5663",
           "width": 1.3
          }
         },
         "name": "C",
         "opacity": 0.8,
         "orientation": "v",
         "type": "histogram",
         "x": [
          0.1290518449288295,
          -0.8942693898422739,
          -0.0603885969808389,
          0.8888571827253696,
          0.3303216544253686,
          -0.6962016615371871,
          0.6847180896334788,
          1.634685536133902,
          -0.7768311097265821,
          -1.0497817281496105,
          0.04260478899227552,
          0.2838691156189989,
          -0.2912038460934214,
          0.81625304472437,
          -1.3331321265578724,
          -0.911191847865561,
          -0.19687587859455705,
          -1.2485335063985736,
          1.6254466265754193,
          -0.13264571807983716,
          0.029233385616819835,
          -0.3835662646984012,
          -0.5998151436263172,
          0.06629171046788511,
          -0.5334147456940839,
          -1.4752559631396605,
          -2.043165615565392,
          -0.9073109239546666,
          -0.5635336272430629,
          -0.008789992072936102,
          -1.7101997598000038,
          1.918910794788815,
          0.12651018891030594,
          -2.6736508129888765,
          0.04090428461982828,
          -0.6267744176315131,
          1.3335525230802128,
          -0.4120113575547163,
          -0.5594431836696315,
          -0.22065240576609835,
          0.12305168424365334,
          -0.22595737428925225,
          0.5349659874982043,
          0.04224545942985787,
          0.08866425256121034,
          0.45401509544651464,
          -1.7797491351659889,
          0.19668438010122313,
          -0.004817687438065632,
          1.3282039365181113,
          0.7042870811841475,
          0.32056053960947095,
          -0.26560675795858235,
          -0.3716990673752184,
          -0.3452507209114012,
          1.44433585382595,
          -0.25495549926528543,
          -0.24335827103759927,
          -0.5360389588075302,
          0.8772550092169797,
          0.36905944121709056,
          0.687483714658491,
          -0.8763895837530766,
          2.151432620163798,
          0.9758341259438752,
          -0.4232591087195389,
          -0.7263409692947592,
          -1.4283884300059841,
          0.3749006863824324,
          1.2615256423879257,
          -0.47739720739320624,
          0.007655163420542726,
          -0.7326569236558824,
          -0.23816640030265812,
          0.5891064824477343,
          0.6667209587695969,
          -2.2238868518942123,
          0.7101794040876726,
          -1.1067475414415793,
          -0.43368631367219096,
          1.1127113699512454,
          -3.5180754076422085,
          1.6894351549143032,
          0.7375479091898545,
          2.273084648207982,
          0.2093410158696672,
          0.1275858696546415,
          0.5877413023474375,
          -0.7730905034289465,
          1.6960758468267494,
          -0.4795135980211943,
          -0.4670536994748242,
          -1.7923554266762372,
          -1.2489568643422548,
          0.4584963812339756,
          0.7321164288932169,
          0.5720135489933249,
          -0.8741127283123019,
          0.5753286511533514,
          0.7941319134540555
         ]
        },
        {
         "histfunc": "count",
         "histnorm": "",
         "marker": {
          "color": "rgba(128, 0, 128, 1.0)",
          "line": {
           "color": "#4D5663",
           "width": 1.3
          }
         },
         "name": "D",
         "opacity": 0.8,
         "orientation": "v",
         "type": "histogram",
         "x": [
          -1.98391637917484,
          0.7709525668191602,
          1.035419861330941,
          1.4417704578205035,
          -0.08896422052327554,
          0.17092025951416737,
          -2.1080136681225032,
          -1.5250922351857676,
          -0.026762787820439168,
          1.0998460693649141,
          0.23091058917948548,
          0.6325655245214455,
          1.5835804818769312,
          -0.11428329863210708,
          -2.2778561659483683,
          0.891607490588241,
          0.31025493453159747,
          -0.8377068774275928,
          -0.807822956343638,
          0.8518053651312106,
          0.21457144606777215,
          1.0315235223368702,
          -1.5243672016317151,
          1.6683287308670112,
          -2.7931280269506984,
          0.6940655689111038,
          1.9623415527581394,
          -0.7624118235995387,
          -0.20056846446995488,
          -0.6501963503967874,
          0.9884059568672299,
          -1.633055927710676,
          -0.2494597122289142,
          0.8714462386930537,
          -1.0646442724071206,
          0.149190137888478,
          0.10274451793225345,
          0.03370701950596059,
          0.42813908436603065,
          -0.48177266293926635,
          -0.8879242106159551,
          0.23221415955640232,
          0.6842347650504285,
          -0.10955251785708613,
          0.4867956662898185,
          -0.7054283503401905,
          0.06474989591599337,
          -0.7876540054494298,
          0.5343136394302063,
          0.042684352308633405,
          -0.16673198141396978,
          1.7112143089213487,
          -0.38324163790884314,
          1.2098094860548758,
          1.8915333419114813,
          -0.661764747587267,
          0.25871649531212054,
          -0.4705028898091924,
          0.9897176320289679,
          -0.15343691337338916,
          0.42192977920907715,
          -0.12430850661724739,
          0.5981619565209743,
          0.482735136064605,
          -1.1030235985469987,
          1.242240587844812,
          -0.6021944852896283,
          -1.054917278224973,
          0.15523086441313563,
          -1.6450536445743458,
          -0.5380979389961633,
          -0.17748978975832785,
          -0.6296565012042219,
          0.3373686044484245,
          -1.1803469192277745,
          -0.967283447322248,
          -0.5570452871077222,
          -1.5746819791076703,
          0.7529814075319013,
          -0.9005719235209542,
          -0.5444797659642279,
          -1.2654592599808787,
          0.01627521893794739,
          0.7535658105375982,
          -0.20653782340574864,
          -0.37983754807719283,
          -0.6997601308318075,
          -0.325757900081184,
          0.4129298817199609,
          0.46756150246359696,
          -1.1029938903553604,
          -0.3530223408861881,
          1.0456733358176729,
          -0.4518373908910548,
          -0.9629326506667446,
          0.5473940570622489,
          -0.027340882510283653,
          -1.3424921764772848,
          0.07934729391308067,
          -0.41255363718070104
         ]
        }
       ],
       "layout": {
        "barmode": "overlay",
        "legend": {
         "bgcolor": "#F5F6F9",
         "font": {
          "color": "#4D5663"
         }
        },
        "paper_bgcolor": "#F5F6F9",
        "plot_bgcolor": "#F5F6F9",
        "template": {
         "data": {
          "bar": [
           {
            "error_x": {
             "color": "#2a3f5f"
            },
            "error_y": {
             "color": "#2a3f5f"
            },
            "marker": {
             "line": {
              "color": "#E5ECF6",
              "width": 0.5
             }
            },
            "type": "bar"
           }
          ],
          "barpolar": [
           {
            "marker": {
             "line": {
              "color": "#E5ECF6",
              "width": 0.5
             }
            },
            "type": "barpolar"
           }
          ],
          "carpet": [
           {
            "aaxis": {
             "endlinecolor": "#2a3f5f",
             "gridcolor": "white",
             "linecolor": "white",
             "minorgridcolor": "white",
             "startlinecolor": "#2a3f5f"
            },
            "baxis": {
             "endlinecolor": "#2a3f5f",
             "gridcolor": "white",
             "linecolor": "white",
             "minorgridcolor": "white",
             "startlinecolor": "#2a3f5f"
            },
            "type": "carpet"
           }
          ],
          "choropleth": [
           {
            "colorbar": {
             "outlinewidth": 0,
             "ticks": ""
            },
            "type": "choropleth"
           }
          ],
          "contour": [
           {
            "colorbar": {
             "outlinewidth": 0,
             "ticks": ""
            },
            "colorscale": [
             [
              0,
              "#0d0887"
             ],
             [
              0.1111111111111111,
              "#46039f"
             ],
             [
              0.2222222222222222,
              "#7201a8"
             ],
             [
              0.3333333333333333,
              "#9c179e"
             ],
             [
              0.4444444444444444,
              "#bd3786"
             ],
             [
              0.5555555555555556,
              "#d8576b"
             ],
             [
              0.6666666666666666,
              "#ed7953"
             ],
             [
              0.7777777777777778,
              "#fb9f3a"
             ],
             [
              0.8888888888888888,
              "#fdca26"
             ],
             [
              1,
              "#f0f921"
             ]
            ],
            "type": "contour"
           }
          ],
          "contourcarpet": [
           {
            "colorbar": {
             "outlinewidth": 0,
             "ticks": ""
            },
            "type": "contourcarpet"
           }
          ],
          "heatmap": [
           {
            "colorbar": {
             "outlinewidth": 0,
             "ticks": ""
            },
            "colorscale": [
             [
              0,
              "#0d0887"
             ],
             [
              0.1111111111111111,
              "#46039f"
             ],
             [
              0.2222222222222222,
              "#7201a8"
             ],
             [
              0.3333333333333333,
              "#9c179e"
             ],
             [
              0.4444444444444444,
              "#bd3786"
             ],
             [
              0.5555555555555556,
              "#d8576b"
             ],
             [
              0.6666666666666666,
              "#ed7953"
             ],
             [
              0.7777777777777778,
              "#fb9f3a"
             ],
             [
              0.8888888888888888,
              "#fdca26"
             ],
             [
              1,
              "#f0f921"
             ]
            ],
            "type": "heatmap"
           }
          ],
          "heatmapgl": [
           {
            "colorbar": {
             "outlinewidth": 0,
             "ticks": ""
            },
            "colorscale": [
             [
              0,
              "#0d0887"
             ],
             [
              0.1111111111111111,
              "#46039f"
             ],
             [
              0.2222222222222222,
              "#7201a8"
             ],
             [
              0.3333333333333333,
              "#9c179e"
             ],
             [
              0.4444444444444444,
              "#bd3786"
             ],
             [
              0.5555555555555556,
              "#d8576b"
             ],
             [
              0.6666666666666666,
              "#ed7953"
             ],
             [
              0.7777777777777778,
              "#fb9f3a"
             ],
             [
              0.8888888888888888,
              "#fdca26"
             ],
             [
              1,
              "#f0f921"
             ]
            ],
            "type": "heatmapgl"
           }
          ],
          "histogram": [
           {
            "marker": {
             "colorbar": {
              "outlinewidth": 0,
              "ticks": ""
             }
            },
            "type": "histogram"
           }
          ],
          "histogram2d": [
           {
            "colorbar": {
             "outlinewidth": 0,
             "ticks": ""
            },
            "colorscale": [
             [
              0,
              "#0d0887"
             ],
             [
              0.1111111111111111,
              "#46039f"
             ],
             [
              0.2222222222222222,
              "#7201a8"
             ],
             [
              0.3333333333333333,
              "#9c179e"
             ],
             [
              0.4444444444444444,
              "#bd3786"
             ],
             [
              0.5555555555555556,
              "#d8576b"
             ],
             [
              0.6666666666666666,
              "#ed7953"
             ],
             [
              0.7777777777777778,
              "#fb9f3a"
             ],
             [
              0.8888888888888888,
              "#fdca26"
             ],
             [
              1,
              "#f0f921"
             ]
            ],
            "type": "histogram2d"
           }
          ],
          "histogram2dcontour": [
           {
            "colorbar": {
             "outlinewidth": 0,
             "ticks": ""
            },
            "colorscale": [
             [
              0,
              "#0d0887"
             ],
             [
              0.1111111111111111,
              "#46039f"
             ],
             [
              0.2222222222222222,
              "#7201a8"
             ],
             [
              0.3333333333333333,
              "#9c179e"
             ],
             [
              0.4444444444444444,
              "#bd3786"
             ],
             [
              0.5555555555555556,
              "#d8576b"
             ],
             [
              0.6666666666666666,
              "#ed7953"
             ],
             [
              0.7777777777777778,
              "#fb9f3a"
             ],
             [
              0.8888888888888888,
              "#fdca26"
             ],
             [
              1,
              "#f0f921"
             ]
            ],
            "type": "histogram2dcontour"
           }
          ],
          "mesh3d": [
           {
            "colorbar": {
             "outlinewidth": 0,
             "ticks": ""
            },
            "type": "mesh3d"
           }
          ],
          "parcoords": [
           {
            "line": {
             "colorbar": {
              "outlinewidth": 0,
              "ticks": ""
             }
            },
            "type": "parcoords"
           }
          ],
          "pie": [
           {
            "automargin": true,
            "type": "pie"
           }
          ],
          "scatter": [
           {
            "marker": {
             "colorbar": {
              "outlinewidth": 0,
              "ticks": ""
             }
            },
            "type": "scatter"
           }
          ],
          "scatter3d": [
           {
            "line": {
             "colorbar": {
              "outlinewidth": 0,
              "ticks": ""
             }
            },
            "marker": {
             "colorbar": {
              "outlinewidth": 0,
              "ticks": ""
             }
            },
            "type": "scatter3d"
           }
          ],
          "scattercarpet": [
           {
            "marker": {
             "colorbar": {
              "outlinewidth": 0,
              "ticks": ""
             }
            },
            "type": "scattercarpet"
           }
          ],
          "scattergeo": [
           {
            "marker": {
             "colorbar": {
              "outlinewidth": 0,
              "ticks": ""
             }
            },
            "type": "scattergeo"
           }
          ],
          "scattergl": [
           {
            "marker": {
             "colorbar": {
              "outlinewidth": 0,
              "ticks": ""
             }
            },
            "type": "scattergl"
           }
          ],
          "scattermapbox": [
           {
            "marker": {
             "colorbar": {
              "outlinewidth": 0,
              "ticks": ""
             }
            },
            "type": "scattermapbox"
           }
          ],
          "scatterpolar": [
           {
            "marker": {
             "colorbar": {
              "outlinewidth": 0,
              "ticks": ""
             }
            },
            "type": "scatterpolar"
           }
          ],
          "scatterpolargl": [
           {
            "marker": {
             "colorbar": {
              "outlinewidth": 0,
              "ticks": ""
             }
            },
            "type": "scatterpolargl"
           }
          ],
          "scatterternary": [
           {
            "marker": {
             "colorbar": {
              "outlinewidth": 0,
              "ticks": ""
             }
            },
            "type": "scatterternary"
           }
          ],
          "surface": [
           {
            "colorbar": {
             "outlinewidth": 0,
             "ticks": ""
            },
            "colorscale": [
             [
              0,
              "#0d0887"
             ],
             [
              0.1111111111111111,
              "#46039f"
             ],
             [
              0.2222222222222222,
              "#7201a8"
             ],
             [
              0.3333333333333333,
              "#9c179e"
             ],
             [
              0.4444444444444444,
              "#bd3786"
             ],
             [
              0.5555555555555556,
              "#d8576b"
             ],
             [
              0.6666666666666666,
              "#ed7953"
             ],
             [
              0.7777777777777778,
              "#fb9f3a"
             ],
             [
              0.8888888888888888,
              "#fdca26"
             ],
             [
              1,
              "#f0f921"
             ]
            ],
            "type": "surface"
           }
          ],
          "table": [
           {
            "cells": {
             "fill": {
              "color": "#EBF0F8"
             },
             "line": {
              "color": "white"
             }
            },
            "header": {
             "fill": {
              "color": "#C8D4E3"
             },
             "line": {
              "color": "white"
             }
            },
            "type": "table"
           }
          ]
         },
         "layout": {
          "annotationdefaults": {
           "arrowcolor": "#2a3f5f",
           "arrowhead": 0,
           "arrowwidth": 1
          },
          "coloraxis": {
           "colorbar": {
            "outlinewidth": 0,
            "ticks": ""
           }
          },
          "colorscale": {
           "diverging": [
            [
             0,
             "#8e0152"
            ],
            [
             0.1,
             "#c51b7d"
            ],
            [
             0.2,
             "#de77ae"
            ],
            [
             0.3,
             "#f1b6da"
            ],
            [
             0.4,
             "#fde0ef"
            ],
            [
             0.5,
             "#f7f7f7"
            ],
            [
             0.6,
             "#e6f5d0"
            ],
            [
             0.7,
             "#b8e186"
            ],
            [
             0.8,
             "#7fbc41"
            ],
            [
             0.9,
             "#4d9221"
            ],
            [
             1,
             "#276419"
            ]
           ],
           "sequential": [
            [
             0,
             "#0d0887"
            ],
            [
             0.1111111111111111,
             "#46039f"
            ],
            [
             0.2222222222222222,
             "#7201a8"
            ],
            [
             0.3333333333333333,
             "#9c179e"
            ],
            [
             0.4444444444444444,
             "#bd3786"
            ],
            [
             0.5555555555555556,
             "#d8576b"
            ],
            [
             0.6666666666666666,
             "#ed7953"
            ],
            [
             0.7777777777777778,
             "#fb9f3a"
            ],
            [
             0.8888888888888888,
             "#fdca26"
            ],
            [
             1,
             "#f0f921"
            ]
           ],
           "sequentialminus": [
            [
             0,
             "#0d0887"
            ],
            [
             0.1111111111111111,
             "#46039f"
            ],
            [
             0.2222222222222222,
             "#7201a8"
            ],
            [
             0.3333333333333333,
             "#9c179e"
            ],
            [
             0.4444444444444444,
             "#bd3786"
            ],
            [
             0.5555555555555556,
             "#d8576b"
            ],
            [
             0.6666666666666666,
             "#ed7953"
            ],
            [
             0.7777777777777778,
             "#fb9f3a"
            ],
            [
             0.8888888888888888,
             "#fdca26"
            ],
            [
             1,
             "#f0f921"
            ]
           ]
          },
          "colorway": [
           "#636efa",
           "#EF553B",
           "#00cc96",
           "#ab63fa",
           "#FFA15A",
           "#19d3f3",
           "#FF6692",
           "#B6E880",
           "#FF97FF",
           "#FECB52"
          ],
          "font": {
           "color": "#2a3f5f"
          },
          "geo": {
           "bgcolor": "white",
           "lakecolor": "white",
           "landcolor": "#E5ECF6",
           "showlakes": true,
           "showland": true,
           "subunitcolor": "white"
          },
          "hoverlabel": {
           "align": "left"
          },
          "hovermode": "closest",
          "mapbox": {
           "style": "light"
          },
          "paper_bgcolor": "white",
          "plot_bgcolor": "#E5ECF6",
          "polar": {
           "angularaxis": {
            "gridcolor": "white",
            "linecolor": "white",
            "ticks": ""
           },
           "bgcolor": "#E5ECF6",
           "radialaxis": {
            "gridcolor": "white",
            "linecolor": "white",
            "ticks": ""
           }
          },
          "scene": {
           "xaxis": {
            "backgroundcolor": "#E5ECF6",
            "gridcolor": "white",
            "gridwidth": 2,
            "linecolor": "white",
            "showbackground": true,
            "ticks": "",
            "zerolinecolor": "white"
           },
           "yaxis": {
            "backgroundcolor": "#E5ECF6",
            "gridcolor": "white",
            "gridwidth": 2,
            "linecolor": "white",
            "showbackground": true,
            "ticks": "",
            "zerolinecolor": "white"
           },
           "zaxis": {
            "backgroundcolor": "#E5ECF6",
            "gridcolor": "white",
            "gridwidth": 2,
            "linecolor": "white",
            "showbackground": true,
            "ticks": "",
            "zerolinecolor": "white"
           }
          },
          "shapedefaults": {
           "line": {
            "color": "#2a3f5f"
           }
          },
          "ternary": {
           "aaxis": {
            "gridcolor": "white",
            "linecolor": "white",
            "ticks": ""
           },
           "baxis": {
            "gridcolor": "white",
            "linecolor": "white",
            "ticks": ""
           },
           "bgcolor": "#E5ECF6",
           "caxis": {
            "gridcolor": "white",
            "linecolor": "white",
            "ticks": ""
           }
          },
          "title": {
           "x": 0.05
          },
          "xaxis": {
           "automargin": true,
           "gridcolor": "white",
           "linecolor": "white",
           "ticks": "",
           "title": {
            "standoff": 15
           },
           "zerolinecolor": "white",
           "zerolinewidth": 2
          },
          "yaxis": {
           "automargin": true,
           "gridcolor": "white",
           "linecolor": "white",
           "ticks": "",
           "title": {
            "standoff": 15
           },
           "zerolinecolor": "white",
           "zerolinewidth": 2
          }
         }
        },
        "title": {
         "font": {
          "color": "#4D5663"
         }
        },
        "xaxis": {
         "gridcolor": "#E1E5ED",
         "showgrid": true,
         "tickfont": {
          "color": "#4D5663"
         },
         "title": {
          "font": {
           "color": "#4D5663"
          },
          "text": ""
         },
         "zerolinecolor": "#E1E5ED"
        },
        "yaxis": {
         "gridcolor": "#E1E5ED",
         "showgrid": true,
         "tickfont": {
          "color": "#4D5663"
         },
         "title": {
          "font": {
           "color": "#4D5663"
          },
          "text": ""
         },
         "zerolinecolor": "#E1E5ED"
        }
       }
      },
      "text/html": [
       "<div>\n",
       "        \n",
       "        \n",
       "            <div id=\"54627ac2-1966-4a52-b448-42df51845956\" class=\"plotly-graph-div\" style=\"height:525px; width:100%;\"></div>\n",
       "            <script type=\"text/javascript\">\n",
       "                require([\"plotly\"], function(Plotly) {\n",
       "                    window.PLOTLYENV=window.PLOTLYENV || {};\n",
       "                    window.PLOTLYENV.BASE_URL='https://plot.ly';\n",
       "                    \n",
       "                if (document.getElementById(\"54627ac2-1966-4a52-b448-42df51845956\")) {\n",
       "                    Plotly.newPlot(\n",
       "                        '54627ac2-1966-4a52-b448-42df51845956',\n",
       "                        [{\"histfunc\": \"count\", \"histnorm\": \"\", \"marker\": {\"color\": \"rgba(255, 153, 51, 1.0)\", \"line\": {\"color\": \"#4D5663\", \"width\": 1.3}}, \"name\": \"A\", \"opacity\": 0.8, \"orientation\": \"v\", \"type\": \"histogram\", \"x\": [1.9072310072255976, 0.45664251731057026, 1.8735593319249753, -1.2764623848263121, 1.3628530085372335, -0.4325085498941139, -2.130565106550025, -0.3478882665499311, -1.8065591069816318, 1.2802855972530267, 0.9099690101147678, -0.7254302350257974, -1.357689466572614, -0.2924728207932572, -0.6520631482874802, 0.004148547838381575, 0.6844015451212803, 0.4768351538690697, 0.6533129371097708, -0.8033735902053046, 0.10436594645935798, 0.5988000624309174, -0.6343639773656216, -0.13527773819219185, -0.20256767414639978, -0.015873236886170233, 1.0333180007396285, 0.6233280465126437, 1.8054087268203456, -0.3483139337287294, -1.6450789071911471, -0.07367633128762816, 0.9661664795196275, -3.554540119417503, -0.3517884347890016, -0.011080518665749637, 0.621422551146316, -1.2531579594339688, -0.10051082015301586, -0.24054607341946016, -0.3839538033661071, -1.0575974259826995, -1.752757339947482, 0.2774973963127115, -1.4494616998409102, 0.16015295976718663, -1.5104556329789018, -0.8063273303499235, -0.3947630414938095, 0.43441231346843795, 1.226504273411426, 0.2024939514122735, -0.00835533148028108, -0.36256325006618495, 0.5359156853817274, -1.0969121025292958, 0.43187469434509806, 0.8496889764272824, -1.2082731388454349, -1.7089121213718867, -0.5170724026485997, -0.03994284400890909, -0.25932188432990816, 0.07953898183032124, 1.0458832881768172, -1.9579149340336046, 0.5453127632430007, 1.854844673262272, -2.5673923034531083, -0.09091067989192657, -0.3884470822677006, -1.8469698500964709, -1.5158324196916066, -0.38138223397344256, -0.05805129919084255, 1.087493238981735, 0.7534415222757022, -0.6284540050680987, -0.38751599288043437, -1.2084618045487636, 0.0514634408368774, -1.082918557354612, -0.4992107264311093, -1.9452028837154631, 0.7273056387902339, -0.8955610849268126, -0.8234617655936936, 0.532065163647017, -1.1028862381850142, -1.7582423251578894, -1.3791246147712828, 0.10042152710117103, -0.5716713526590748, -0.9735284618191417, -0.058716214204821274, 0.5119956539665943, 0.11718988426468993, 0.006329341436323806, -0.620841952508306, 0.8187717540053973]}, {\"histfunc\": \"count\", \"histnorm\": \"\", \"marker\": {\"color\": \"rgba(55, 128, 191, 1.0)\", \"line\": {\"color\": \"#4D5663\", \"width\": 1.3}}, \"name\": \"B\", \"opacity\": 0.8, \"orientation\": \"v\", \"type\": \"histogram\", \"x\": [0.5397341984256421, 1.4273648820401585, -0.2699470460701567, -0.009205707259470066, 0.38245509704051034, -0.6121410983025236, 1.471122536385358, 0.008852038627531702, -1.0322725314491903, 0.8203466329622852, 0.40274543333508517, 1.1710113832309024, -0.8490119147891786, 0.37012452704623977, 0.6727839097825701, -0.7146490926729023, -1.1710925815152915, 0.829667151217231, 1.6254325510413408, -0.03523386729780477, 0.8344690832208976, -0.013325006634558746, 0.731317913467702, -0.34730864357214936, 0.43023502387456686, 1.4329446581756315, -0.7491845032709245, 0.3510417309197764, 0.14083899715516177, -1.1861006093411341, 0.06372821563374959, -0.5482268710062057, 0.5358156468037663, 1.860518121810859, 1.0586200684408351, -0.0639731090133942, -0.08212677769362468, -1.3644617085653952, 2.306486236434318, 0.2299424870881697, 0.277553325627394, -0.7310389683951801, 0.7855790026429404, 1.991062673583806, 0.42083892064389616, 0.3312184872102766, -0.948280317204048, -0.9568068650540437, 0.06219846171557773, -0.6894903418517699, 0.9426582104357005, -0.6549530029210485, -0.27693993710331516, 0.5794679612177993, -0.17445332930955162, 1.973689765686015, -1.1221081740462968, -0.5689439814189605, -0.812476104079502, 2.106994461930286, 0.32736395155534453, 0.1312433407250468, -0.18047861897329853, -0.772626615251416, 0.3228290458457046, -0.3876374046636482, 0.1833422829766309, 1.9087468843804094, -0.15516628138100658, -1.4163623544697346, 0.6147553608766299, 0.6285689877845728, 0.46983514730252834, -1.891043424119729, -0.41109171089752206, -0.19882089607141482, 0.26050507326347166, -0.021940889213982018, 0.35818838870948727, 0.8607668916844468, -0.76838927683406, -0.627976710508572, -0.6366917226484422, 0.04068231456785195, 1.0800854230491712, -0.5362280813309173, 0.9978930275747946, -1.7791250497361506, -0.677962460840107, 0.7572816499590634, -0.287425248846891, -0.47888022308913814, -1.1274959646162466, 0.2324095143049378, 0.8683229396351135, 1.829117056821466, -1.816751591989605, -0.5924861572089956, 0.8017402458379345, -1.4002762640497939]}, {\"histfunc\": \"count\", \"histnorm\": \"\", \"marker\": {\"color\": \"rgba(50, 171, 96, 1.0)\", \"line\": {\"color\": \"#4D5663\", \"width\": 1.3}}, \"name\": \"C\", \"opacity\": 0.8, \"orientation\": \"v\", \"type\": \"histogram\", \"x\": [0.1290518449288295, -0.8942693898422739, -0.0603885969808389, 0.8888571827253696, 0.3303216544253686, -0.6962016615371871, 0.6847180896334788, 1.634685536133902, -0.7768311097265821, -1.0497817281496105, 0.04260478899227552, 0.2838691156189989, -0.2912038460934214, 0.81625304472437, -1.3331321265578724, -0.911191847865561, -0.19687587859455705, -1.2485335063985736, 1.6254466265754193, -0.13264571807983716, 0.029233385616819835, -0.3835662646984012, -0.5998151436263172, 0.06629171046788511, -0.5334147456940839, -1.4752559631396605, -2.043165615565392, -0.9073109239546666, -0.5635336272430629, -0.008789992072936102, -1.7101997598000038, 1.918910794788815, 0.12651018891030594, -2.6736508129888765, 0.04090428461982828, -0.6267744176315131, 1.3335525230802128, -0.4120113575547163, -0.5594431836696315, -0.22065240576609835, 0.12305168424365334, -0.22595737428925225, 0.5349659874982043, 0.04224545942985787, 0.08866425256121034, 0.45401509544651464, -1.7797491351659889, 0.19668438010122313, -0.004817687438065632, 1.3282039365181113, 0.7042870811841475, 0.32056053960947095, -0.26560675795858235, -0.3716990673752184, -0.3452507209114012, 1.44433585382595, -0.25495549926528543, -0.24335827103759927, -0.5360389588075302, 0.8772550092169797, 0.36905944121709056, 0.687483714658491, -0.8763895837530766, 2.151432620163798, 0.9758341259438752, -0.4232591087195389, -0.7263409692947592, -1.4283884300059841, 0.3749006863824324, 1.2615256423879257, -0.47739720739320624, 0.007655163420542726, -0.7326569236558824, -0.23816640030265812, 0.5891064824477343, 0.6667209587695969, -2.2238868518942123, 0.7101794040876726, -1.1067475414415793, -0.43368631367219096, 1.1127113699512454, -3.5180754076422085, 1.6894351549143032, 0.7375479091898545, 2.273084648207982, 0.2093410158696672, 0.1275858696546415, 0.5877413023474375, -0.7730905034289465, 1.6960758468267494, -0.4795135980211943, -0.4670536994748242, -1.7923554266762372, -1.2489568643422548, 0.4584963812339756, 0.7321164288932169, 0.5720135489933249, -0.8741127283123019, 0.5753286511533514, 0.7941319134540555]}, {\"histfunc\": \"count\", \"histnorm\": \"\", \"marker\": {\"color\": \"rgba(128, 0, 128, 1.0)\", \"line\": {\"color\": \"#4D5663\", \"width\": 1.3}}, \"name\": \"D\", \"opacity\": 0.8, \"orientation\": \"v\", \"type\": \"histogram\", \"x\": [-1.98391637917484, 0.7709525668191602, 1.035419861330941, 1.4417704578205035, -0.08896422052327554, 0.17092025951416737, -2.1080136681225032, -1.5250922351857676, -0.026762787820439168, 1.0998460693649141, 0.23091058917948548, 0.6325655245214455, 1.5835804818769312, -0.11428329863210708, -2.2778561659483683, 0.891607490588241, 0.31025493453159747, -0.8377068774275928, -0.807822956343638, 0.8518053651312106, 0.21457144606777215, 1.0315235223368702, -1.5243672016317151, 1.6683287308670112, -2.7931280269506984, 0.6940655689111038, 1.9623415527581394, -0.7624118235995387, -0.20056846446995488, -0.6501963503967874, 0.9884059568672299, -1.633055927710676, -0.2494597122289142, 0.8714462386930537, -1.0646442724071206, 0.149190137888478, 0.10274451793225345, 0.03370701950596059, 0.42813908436603065, -0.48177266293926635, -0.8879242106159551, 0.23221415955640232, 0.6842347650504285, -0.10955251785708613, 0.4867956662898185, -0.7054283503401905, 0.06474989591599337, -0.7876540054494298, 0.5343136394302063, 0.042684352308633405, -0.16673198141396978, 1.7112143089213487, -0.38324163790884314, 1.2098094860548758, 1.8915333419114813, -0.661764747587267, 0.25871649531212054, -0.4705028898091924, 0.9897176320289679, -0.15343691337338916, 0.42192977920907715, -0.12430850661724739, 0.5981619565209743, 0.482735136064605, -1.1030235985469987, 1.242240587844812, -0.6021944852896283, -1.054917278224973, 0.15523086441313563, -1.6450536445743458, -0.5380979389961633, -0.17748978975832785, -0.6296565012042219, 0.3373686044484245, -1.1803469192277745, -0.967283447322248, -0.5570452871077222, -1.5746819791076703, 0.7529814075319013, -0.9005719235209542, -0.5444797659642279, -1.2654592599808787, 0.01627521893794739, 0.7535658105375982, -0.20653782340574864, -0.37983754807719283, -0.6997601308318075, -0.325757900081184, 0.4129298817199609, 0.46756150246359696, -1.1029938903553604, -0.3530223408861881, 1.0456733358176729, -0.4518373908910548, -0.9629326506667446, 0.5473940570622489, -0.027340882510283653, -1.3424921764772848, 0.07934729391308067, -0.41255363718070104]}],\n",
       "                        {\"barmode\": \"overlay\", \"legend\": {\"bgcolor\": \"#F5F6F9\", \"font\": {\"color\": \"#4D5663\"}}, \"paper_bgcolor\": \"#F5F6F9\", \"plot_bgcolor\": \"#F5F6F9\", \"template\": {\"data\": {\"bar\": [{\"error_x\": {\"color\": \"#2a3f5f\"}, \"error_y\": {\"color\": \"#2a3f5f\"}, \"marker\": {\"line\": {\"color\": \"#E5ECF6\", \"width\": 0.5}}, \"type\": \"bar\"}], \"barpolar\": [{\"marker\": {\"line\": {\"color\": \"#E5ECF6\", \"width\": 0.5}}, \"type\": \"barpolar\"}], \"carpet\": [{\"aaxis\": {\"endlinecolor\": \"#2a3f5f\", \"gridcolor\": \"white\", \"linecolor\": \"white\", \"minorgridcolor\": \"white\", \"startlinecolor\": \"#2a3f5f\"}, \"baxis\": {\"endlinecolor\": \"#2a3f5f\", \"gridcolor\": \"white\", \"linecolor\": \"white\", \"minorgridcolor\": \"white\", \"startlinecolor\": \"#2a3f5f\"}, \"type\": \"carpet\"}], \"choropleth\": [{\"colorbar\": {\"outlinewidth\": 0, \"ticks\": \"\"}, \"type\": \"choropleth\"}], \"contour\": [{\"colorbar\": {\"outlinewidth\": 0, \"ticks\": \"\"}, \"colorscale\": [[0.0, \"#0d0887\"], [0.1111111111111111, \"#46039f\"], [0.2222222222222222, \"#7201a8\"], [0.3333333333333333, \"#9c179e\"], [0.4444444444444444, \"#bd3786\"], [0.5555555555555556, \"#d8576b\"], [0.6666666666666666, \"#ed7953\"], [0.7777777777777778, \"#fb9f3a\"], [0.8888888888888888, \"#fdca26\"], [1.0, \"#f0f921\"]], \"type\": \"contour\"}], \"contourcarpet\": [{\"colorbar\": {\"outlinewidth\": 0, \"ticks\": \"\"}, \"type\": \"contourcarpet\"}], \"heatmap\": [{\"colorbar\": {\"outlinewidth\": 0, \"ticks\": \"\"}, \"colorscale\": [[0.0, \"#0d0887\"], [0.1111111111111111, \"#46039f\"], [0.2222222222222222, \"#7201a8\"], [0.3333333333333333, \"#9c179e\"], [0.4444444444444444, \"#bd3786\"], [0.5555555555555556, \"#d8576b\"], [0.6666666666666666, \"#ed7953\"], [0.7777777777777778, \"#fb9f3a\"], [0.8888888888888888, \"#fdca26\"], [1.0, \"#f0f921\"]], \"type\": \"heatmap\"}], \"heatmapgl\": [{\"colorbar\": {\"outlinewidth\": 0, \"ticks\": \"\"}, \"colorscale\": [[0.0, \"#0d0887\"], [0.1111111111111111, \"#46039f\"], [0.2222222222222222, \"#7201a8\"], [0.3333333333333333, \"#9c179e\"], [0.4444444444444444, \"#bd3786\"], [0.5555555555555556, \"#d8576b\"], [0.6666666666666666, \"#ed7953\"], [0.7777777777777778, \"#fb9f3a\"], [0.8888888888888888, \"#fdca26\"], [1.0, \"#f0f921\"]], \"type\": \"heatmapgl\"}], \"histogram\": [{\"marker\": {\"colorbar\": {\"outlinewidth\": 0, \"ticks\": \"\"}}, \"type\": \"histogram\"}], \"histogram2d\": [{\"colorbar\": {\"outlinewidth\": 0, \"ticks\": \"\"}, \"colorscale\": [[0.0, \"#0d0887\"], [0.1111111111111111, \"#46039f\"], [0.2222222222222222, \"#7201a8\"], [0.3333333333333333, \"#9c179e\"], [0.4444444444444444, \"#bd3786\"], [0.5555555555555556, \"#d8576b\"], [0.6666666666666666, \"#ed7953\"], [0.7777777777777778, \"#fb9f3a\"], [0.8888888888888888, \"#fdca26\"], [1.0, \"#f0f921\"]], \"type\": \"histogram2d\"}], \"histogram2dcontour\": [{\"colorbar\": {\"outlinewidth\": 0, \"ticks\": \"\"}, \"colorscale\": [[0.0, \"#0d0887\"], [0.1111111111111111, \"#46039f\"], [0.2222222222222222, \"#7201a8\"], [0.3333333333333333, \"#9c179e\"], [0.4444444444444444, \"#bd3786\"], [0.5555555555555556, \"#d8576b\"], [0.6666666666666666, \"#ed7953\"], [0.7777777777777778, \"#fb9f3a\"], [0.8888888888888888, \"#fdca26\"], [1.0, \"#f0f921\"]], \"type\": \"histogram2dcontour\"}], \"mesh3d\": [{\"colorbar\": {\"outlinewidth\": 0, \"ticks\": \"\"}, \"type\": \"mesh3d\"}], \"parcoords\": [{\"line\": {\"colorbar\": {\"outlinewidth\": 0, \"ticks\": \"\"}}, \"type\": \"parcoords\"}], \"pie\": [{\"automargin\": true, \"type\": \"pie\"}], \"scatter\": [{\"marker\": {\"colorbar\": {\"outlinewidth\": 0, \"ticks\": \"\"}}, \"type\": \"scatter\"}], \"scatter3d\": [{\"line\": {\"colorbar\": {\"outlinewidth\": 0, \"ticks\": \"\"}}, \"marker\": {\"colorbar\": {\"outlinewidth\": 0, \"ticks\": \"\"}}, \"type\": \"scatter3d\"}], \"scattercarpet\": [{\"marker\": {\"colorbar\": {\"outlinewidth\": 0, \"ticks\": \"\"}}, \"type\": \"scattercarpet\"}], \"scattergeo\": [{\"marker\": {\"colorbar\": {\"outlinewidth\": 0, \"ticks\": \"\"}}, \"type\": \"scattergeo\"}], \"scattergl\": [{\"marker\": {\"colorbar\": {\"outlinewidth\": 0, \"ticks\": \"\"}}, \"type\": \"scattergl\"}], \"scattermapbox\": [{\"marker\": {\"colorbar\": {\"outlinewidth\": 0, \"ticks\": \"\"}}, \"type\": \"scattermapbox\"}], \"scatterpolar\": [{\"marker\": {\"colorbar\": {\"outlinewidth\": 0, \"ticks\": \"\"}}, \"type\": \"scatterpolar\"}], \"scatterpolargl\": [{\"marker\": {\"colorbar\": {\"outlinewidth\": 0, \"ticks\": \"\"}}, \"type\": \"scatterpolargl\"}], \"scatterternary\": [{\"marker\": {\"colorbar\": {\"outlinewidth\": 0, \"ticks\": \"\"}}, \"type\": \"scatterternary\"}], \"surface\": [{\"colorbar\": {\"outlinewidth\": 0, \"ticks\": \"\"}, \"colorscale\": [[0.0, \"#0d0887\"], [0.1111111111111111, \"#46039f\"], [0.2222222222222222, \"#7201a8\"], [0.3333333333333333, \"#9c179e\"], [0.4444444444444444, \"#bd3786\"], [0.5555555555555556, \"#d8576b\"], [0.6666666666666666, \"#ed7953\"], [0.7777777777777778, \"#fb9f3a\"], [0.8888888888888888, \"#fdca26\"], [1.0, \"#f0f921\"]], \"type\": \"surface\"}], \"table\": [{\"cells\": {\"fill\": {\"color\": \"#EBF0F8\"}, \"line\": {\"color\": \"white\"}}, \"header\": {\"fill\": {\"color\": \"#C8D4E3\"}, \"line\": {\"color\": \"white\"}}, \"type\": \"table\"}]}, \"layout\": {\"annotationdefaults\": {\"arrowcolor\": \"#2a3f5f\", \"arrowhead\": 0, \"arrowwidth\": 1}, \"coloraxis\": {\"colorbar\": {\"outlinewidth\": 0, \"ticks\": \"\"}}, \"colorscale\": {\"diverging\": [[0, \"#8e0152\"], [0.1, \"#c51b7d\"], [0.2, \"#de77ae\"], [0.3, \"#f1b6da\"], [0.4, \"#fde0ef\"], [0.5, \"#f7f7f7\"], [0.6, \"#e6f5d0\"], [0.7, \"#b8e186\"], [0.8, \"#7fbc41\"], [0.9, \"#4d9221\"], [1, \"#276419\"]], \"sequential\": [[0.0, \"#0d0887\"], [0.1111111111111111, \"#46039f\"], [0.2222222222222222, \"#7201a8\"], [0.3333333333333333, \"#9c179e\"], [0.4444444444444444, \"#bd3786\"], [0.5555555555555556, \"#d8576b\"], [0.6666666666666666, \"#ed7953\"], [0.7777777777777778, \"#fb9f3a\"], [0.8888888888888888, \"#fdca26\"], [1.0, \"#f0f921\"]], \"sequentialminus\": [[0.0, \"#0d0887\"], [0.1111111111111111, \"#46039f\"], [0.2222222222222222, \"#7201a8\"], [0.3333333333333333, \"#9c179e\"], [0.4444444444444444, \"#bd3786\"], [0.5555555555555556, \"#d8576b\"], [0.6666666666666666, \"#ed7953\"], [0.7777777777777778, \"#fb9f3a\"], [0.8888888888888888, \"#fdca26\"], [1.0, \"#f0f921\"]]}, \"colorway\": [\"#636efa\", \"#EF553B\", \"#00cc96\", \"#ab63fa\", \"#FFA15A\", \"#19d3f3\", \"#FF6692\", \"#B6E880\", \"#FF97FF\", \"#FECB52\"], \"font\": {\"color\": \"#2a3f5f\"}, \"geo\": {\"bgcolor\": \"white\", \"lakecolor\": \"white\", \"landcolor\": \"#E5ECF6\", \"showlakes\": true, \"showland\": true, \"subunitcolor\": \"white\"}, \"hoverlabel\": {\"align\": \"left\"}, \"hovermode\": \"closest\", \"mapbox\": {\"style\": \"light\"}, \"paper_bgcolor\": \"white\", \"plot_bgcolor\": \"#E5ECF6\", \"polar\": {\"angularaxis\": {\"gridcolor\": \"white\", \"linecolor\": \"white\", \"ticks\": \"\"}, \"bgcolor\": \"#E5ECF6\", \"radialaxis\": {\"gridcolor\": \"white\", \"linecolor\": \"white\", \"ticks\": \"\"}}, \"scene\": {\"xaxis\": {\"backgroundcolor\": \"#E5ECF6\", \"gridcolor\": \"white\", \"gridwidth\": 2, \"linecolor\": \"white\", \"showbackground\": true, \"ticks\": \"\", \"zerolinecolor\": \"white\"}, \"yaxis\": {\"backgroundcolor\": \"#E5ECF6\", \"gridcolor\": \"white\", \"gridwidth\": 2, \"linecolor\": \"white\", \"showbackground\": true, \"ticks\": \"\", \"zerolinecolor\": \"white\"}, \"zaxis\": {\"backgroundcolor\": \"#E5ECF6\", \"gridcolor\": \"white\", \"gridwidth\": 2, \"linecolor\": \"white\", \"showbackground\": true, \"ticks\": \"\", \"zerolinecolor\": \"white\"}}, \"shapedefaults\": {\"line\": {\"color\": \"#2a3f5f\"}}, \"ternary\": {\"aaxis\": {\"gridcolor\": \"white\", \"linecolor\": \"white\", \"ticks\": \"\"}, \"baxis\": {\"gridcolor\": \"white\", \"linecolor\": \"white\", \"ticks\": \"\"}, \"bgcolor\": \"#E5ECF6\", \"caxis\": {\"gridcolor\": \"white\", \"linecolor\": \"white\", \"ticks\": \"\"}}, \"title\": {\"x\": 0.05}, \"xaxis\": {\"automargin\": true, \"gridcolor\": \"white\", \"linecolor\": \"white\", \"ticks\": \"\", \"title\": {\"standoff\": 15}, \"zerolinecolor\": \"white\", \"zerolinewidth\": 2}, \"yaxis\": {\"automargin\": true, \"gridcolor\": \"white\", \"linecolor\": \"white\", \"ticks\": \"\", \"title\": {\"standoff\": 15}, \"zerolinecolor\": \"white\", \"zerolinewidth\": 2}}}, \"title\": {\"font\": {\"color\": \"#4D5663\"}}, \"xaxis\": {\"gridcolor\": \"#E1E5ED\", \"showgrid\": true, \"tickfont\": {\"color\": \"#4D5663\"}, \"title\": {\"font\": {\"color\": \"#4D5663\"}, \"text\": \"\"}, \"zerolinecolor\": \"#E1E5ED\"}, \"yaxis\": {\"gridcolor\": \"#E1E5ED\", \"showgrid\": true, \"tickfont\": {\"color\": \"#4D5663\"}, \"title\": {\"font\": {\"color\": \"#4D5663\"}, \"text\": \"\"}, \"zerolinecolor\": \"#E1E5ED\"}},\n",
       "                        {\"showLink\": true, \"linkText\": \"Export to plot.ly\", \"plotlyServerURL\": \"https://plot.ly\", \"responsive\": true}\n",
       "                    ).then(function(){\n",
       "                            \n",
       "var gd = document.getElementById('54627ac2-1966-4a52-b448-42df51845956');\n",
       "var x = new MutationObserver(function (mutations, observer) {{\n",
       "        var display = window.getComputedStyle(gd).display;\n",
       "        if (!display || display === 'none') {{\n",
       "            console.log([gd, 'removed!']);\n",
       "            Plotly.purge(gd);\n",
       "            observer.disconnect();\n",
       "        }}\n",
       "}});\n",
       "\n",
       "// Listen for the removal of the full notebook cells\n",
       "var notebookContainer = gd.closest('#notebook-container');\n",
       "if (notebookContainer) {{\n",
       "    x.observe(notebookContainer, {childList: true});\n",
       "}}\n",
       "\n",
       "// Listen for the clearing of the current output cell\n",
       "var outputEl = gd.closest('.output');\n",
       "if (outputEl) {{\n",
       "    x.observe(outputEl, {childList: true});\n",
       "}}\n",
       "\n",
       "                        })\n",
       "                };\n",
       "                });\n",
       "            </script>\n",
       "        </div>"
      ]
     },
     "metadata": {},
     "output_type": "display_data"
    }
   ],
   "source": [
    "df.iplot(kind='hist')    # overlapping histogram of all columns of df"
   ]
  },
  {
   "cell_type": "code",
   "execution_count": 40,
   "metadata": {},
   "outputs": [
    {
     "data": {
      "application/vnd.plotly.v1+json": {
       "config": {
        "linkText": "Export to plot.ly",
        "plotlyServerURL": "https://plot.ly",
        "showLink": true
       },
       "data": [
        {
         "line": {
          "color": "rgba(255, 153, 51, 1.0)",
          "dash": "solid",
          "shape": "linear",
          "width": 1.3
         },
         "mode": "lines",
         "name": "A",
         "text": "",
         "type": "scatter",
         "x": [
          0,
          1,
          2,
          3,
          4,
          5,
          6,
          7,
          8,
          9,
          10,
          11,
          12,
          13,
          14,
          15,
          16,
          17,
          18,
          19,
          20,
          21,
          22,
          23,
          24,
          25,
          26,
          27,
          28,
          29,
          30,
          31,
          32,
          33,
          34,
          35,
          36,
          37,
          38,
          39,
          40,
          41,
          42,
          43,
          44,
          45,
          46,
          47,
          48,
          49,
          50,
          51,
          52,
          53,
          54,
          55,
          56,
          57,
          58,
          59,
          60,
          61,
          62,
          63,
          64,
          65,
          66,
          67,
          68,
          69,
          70,
          71,
          72,
          73,
          74,
          75,
          76,
          77,
          78,
          79,
          80,
          81,
          82,
          83,
          84,
          85,
          86,
          87,
          88,
          89,
          90,
          91,
          92,
          93,
          94,
          95,
          96,
          97,
          98,
          99
         ],
         "y": [
          1.9072310072255976,
          0.45664251731057026,
          1.8735593319249753,
          -1.2764623848263121,
          1.3628530085372335,
          -0.4325085498941139,
          -2.130565106550025,
          -0.3478882665499311,
          -1.8065591069816318,
          1.2802855972530267,
          0.9099690101147678,
          -0.7254302350257974,
          -1.357689466572614,
          -0.2924728207932572,
          -0.6520631482874802,
          0.004148547838381575,
          0.6844015451212803,
          0.4768351538690697,
          0.6533129371097708,
          -0.8033735902053046,
          0.10436594645935798,
          0.5988000624309174,
          -0.6343639773656216,
          -0.13527773819219185,
          -0.20256767414639978,
          -0.015873236886170233,
          1.0333180007396285,
          0.6233280465126437,
          1.8054087268203456,
          -0.3483139337287294,
          -1.6450789071911471,
          -0.07367633128762816,
          0.9661664795196275,
          -3.554540119417503,
          -0.3517884347890016,
          -0.011080518665749637,
          0.621422551146316,
          -1.2531579594339688,
          -0.10051082015301586,
          -0.24054607341946016,
          -0.3839538033661071,
          -1.0575974259826995,
          -1.752757339947482,
          0.2774973963127115,
          -1.4494616998409102,
          0.16015295976718663,
          -1.5104556329789018,
          -0.8063273303499235,
          -0.3947630414938095,
          0.43441231346843795,
          1.226504273411426,
          0.2024939514122735,
          -0.00835533148028108,
          -0.36256325006618495,
          0.5359156853817274,
          -1.0969121025292958,
          0.43187469434509806,
          0.8496889764272824,
          -1.2082731388454349,
          -1.7089121213718867,
          -0.5170724026485997,
          -0.03994284400890909,
          -0.25932188432990816,
          0.07953898183032124,
          1.0458832881768172,
          -1.9579149340336046,
          0.5453127632430007,
          1.854844673262272,
          -2.5673923034531083,
          -0.09091067989192657,
          -0.3884470822677006,
          -1.8469698500964709,
          -1.5158324196916066,
          -0.38138223397344256,
          -0.05805129919084255,
          1.087493238981735,
          0.7534415222757022,
          -0.6284540050680987,
          -0.38751599288043437,
          -1.2084618045487636,
          0.0514634408368774,
          -1.082918557354612,
          -0.4992107264311093,
          -1.9452028837154631,
          0.7273056387902339,
          -0.8955610849268126,
          -0.8234617655936936,
          0.532065163647017,
          -1.1028862381850142,
          -1.7582423251578894,
          -1.3791246147712828,
          0.10042152710117103,
          -0.5716713526590748,
          -0.9735284618191417,
          -0.058716214204821274,
          0.5119956539665943,
          0.11718988426468993,
          0.006329341436323806,
          -0.620841952508306,
          0.8187717540053973
         ]
        },
        {
         "line": {
          "color": "rgba(55, 128, 191, 1.0)",
          "dash": "solid",
          "shape": "linear",
          "width": 1.3
         },
         "mode": "lines",
         "name": "B",
         "text": "",
         "type": "scatter",
         "x": [
          0,
          1,
          2,
          3,
          4,
          5,
          6,
          7,
          8,
          9,
          10,
          11,
          12,
          13,
          14,
          15,
          16,
          17,
          18,
          19,
          20,
          21,
          22,
          23,
          24,
          25,
          26,
          27,
          28,
          29,
          30,
          31,
          32,
          33,
          34,
          35,
          36,
          37,
          38,
          39,
          40,
          41,
          42,
          43,
          44,
          45,
          46,
          47,
          48,
          49,
          50,
          51,
          52,
          53,
          54,
          55,
          56,
          57,
          58,
          59,
          60,
          61,
          62,
          63,
          64,
          65,
          66,
          67,
          68,
          69,
          70,
          71,
          72,
          73,
          74,
          75,
          76,
          77,
          78,
          79,
          80,
          81,
          82,
          83,
          84,
          85,
          86,
          87,
          88,
          89,
          90,
          91,
          92,
          93,
          94,
          95,
          96,
          97,
          98,
          99
         ],
         "y": [
          0.5397341984256421,
          1.4273648820401585,
          -0.2699470460701567,
          -0.009205707259470066,
          0.38245509704051034,
          -0.6121410983025236,
          1.471122536385358,
          0.008852038627531702,
          -1.0322725314491903,
          0.8203466329622852,
          0.40274543333508517,
          1.1710113832309024,
          -0.8490119147891786,
          0.37012452704623977,
          0.6727839097825701,
          -0.7146490926729023,
          -1.1710925815152915,
          0.829667151217231,
          1.6254325510413408,
          -0.03523386729780477,
          0.8344690832208976,
          -0.013325006634558746,
          0.731317913467702,
          -0.34730864357214936,
          0.43023502387456686,
          1.4329446581756315,
          -0.7491845032709245,
          0.3510417309197764,
          0.14083899715516177,
          -1.1861006093411341,
          0.06372821563374959,
          -0.5482268710062057,
          0.5358156468037663,
          1.860518121810859,
          1.0586200684408351,
          -0.0639731090133942,
          -0.08212677769362468,
          -1.3644617085653952,
          2.306486236434318,
          0.2299424870881697,
          0.277553325627394,
          -0.7310389683951801,
          0.7855790026429404,
          1.991062673583806,
          0.42083892064389616,
          0.3312184872102766,
          -0.948280317204048,
          -0.9568068650540437,
          0.06219846171557773,
          -0.6894903418517699,
          0.9426582104357005,
          -0.6549530029210485,
          -0.27693993710331516,
          0.5794679612177993,
          -0.17445332930955162,
          1.973689765686015,
          -1.1221081740462968,
          -0.5689439814189605,
          -0.812476104079502,
          2.106994461930286,
          0.32736395155534453,
          0.1312433407250468,
          -0.18047861897329853,
          -0.772626615251416,
          0.3228290458457046,
          -0.3876374046636482,
          0.1833422829766309,
          1.9087468843804094,
          -0.15516628138100658,
          -1.4163623544697346,
          0.6147553608766299,
          0.6285689877845728,
          0.46983514730252834,
          -1.891043424119729,
          -0.41109171089752206,
          -0.19882089607141482,
          0.26050507326347166,
          -0.021940889213982018,
          0.35818838870948727,
          0.8607668916844468,
          -0.76838927683406,
          -0.627976710508572,
          -0.6366917226484422,
          0.04068231456785195,
          1.0800854230491712,
          -0.5362280813309173,
          0.9978930275747946,
          -1.7791250497361506,
          -0.677962460840107,
          0.7572816499590634,
          -0.287425248846891,
          -0.47888022308913814,
          -1.1274959646162466,
          0.2324095143049378,
          0.8683229396351135,
          1.829117056821466,
          -1.816751591989605,
          -0.5924861572089956,
          0.8017402458379345,
          -1.4002762640497939
         ]
        },
        {
         "connectgaps": false,
         "fill": "tozeroy",
         "line": {
          "color": "green",
          "dash": "solid",
          "shape": "linear",
          "width": 0.5
         },
         "mode": "lines",
         "name": "Spread",
         "showlegend": false,
         "type": "scatter",
         "x": [
          0,
          1,
          2,
          3,
          4,
          5,
          6,
          7,
          8,
          9,
          10,
          11,
          12,
          13,
          14,
          15,
          16,
          17,
          18,
          19,
          20,
          21,
          22,
          23,
          24,
          25,
          26,
          27,
          28,
          29,
          30,
          31,
          32,
          33,
          34,
          35,
          36,
          37,
          38,
          39,
          40,
          41,
          42,
          43,
          44,
          45,
          46,
          47,
          48,
          49,
          50,
          51,
          52,
          53,
          54,
          55,
          56,
          57,
          58,
          59,
          60,
          61,
          62,
          63,
          64,
          65,
          66,
          67,
          68,
          69,
          70,
          71,
          72,
          73,
          74,
          75,
          76,
          77,
          78,
          79,
          80,
          81,
          82,
          83,
          84,
          85,
          86,
          87,
          88,
          89,
          90,
          91,
          92,
          93,
          94,
          95,
          96,
          97,
          98,
          99
         ],
         "xaxis": "x2",
         "y": [
          1.3674968087999555,
          "",
          2.143506377995132,
          "",
          0.9803979114967232,
          0.1796325484084097,
          "",
          "",
          "",
          0.45993896429074155,
          0.5072235767796827,
          "",
          "",
          "",
          "",
          0.7187976405112839,
          1.8554941266365717,
          "",
          "",
          "",
          "",
          0.6121250690654761,
          "",
          0.2120309053799575,
          "",
          "",
          1.7825025040105529,
          0.2722863155928673,
          1.6645697296651838,
          0.8377866756124048,
          "",
          0.4745505397185775,
          0.4303508327158613,
          "",
          "",
          0.05289259034764457,
          0.7035493288399406,
          0.11130374913142638,
          "",
          "",
          "",
          "",
          "",
          "",
          "",
          "",
          "",
          0.15047953470412012,
          "",
          1.1239026553202078,
          0.28384606297572545,
          0.8574469543333221,
          0.2685846056230341,
          "",
          0.710369014691279,
          "",
          1.5539828683913948,
          1.4186329578462429,
          "",
          "",
          "",
          "",
          "",
          0.8521655970817372,
          0.7230542423311126,
          "",
          0.3619704802663698,
          "",
          "",
          1.325451674577808,
          "",
          "",
          "",
          1.5096611901462864,
          0.3530404117066795,
          1.28631413505315,
          0.4929364490122305,
          "",
          "",
          "",
          0.8198527176709374,
          "",
          0.1374809962173329,
          "",
          "",
          "",
          "",
          2.3111902133831674,
          "",
          "",
          "",
          0.5793017501903092,
          0.5558246119571718,
          "",
          "",
          "",
          1.9339414762542948,
          0.5988154986453194,
          "",
          2.219048018055191
         ],
         "yaxis": "y2"
        },
        {
         "connectgaps": false,
         "fill": "tozeroy",
         "line": {
          "color": "red",
          "dash": "solid",
          "shape": "linear",
          "width": 0.5
         },
         "mode": "lines",
         "name": "Spread",
         "showlegend": false,
         "type": "scatter",
         "x": [
          0,
          1,
          2,
          3,
          4,
          5,
          6,
          7,
          8,
          9,
          10,
          11,
          12,
          13,
          14,
          15,
          16,
          17,
          18,
          19,
          20,
          21,
          22,
          23,
          24,
          25,
          26,
          27,
          28,
          29,
          30,
          31,
          32,
          33,
          34,
          35,
          36,
          37,
          38,
          39,
          40,
          41,
          42,
          43,
          44,
          45,
          46,
          47,
          48,
          49,
          50,
          51,
          52,
          53,
          54,
          55,
          56,
          57,
          58,
          59,
          60,
          61,
          62,
          63,
          64,
          65,
          66,
          67,
          68,
          69,
          70,
          71,
          72,
          73,
          74,
          75,
          76,
          77,
          78,
          79,
          80,
          81,
          82,
          83,
          84,
          85,
          86,
          87,
          88,
          89,
          90,
          91,
          92,
          93,
          94,
          95,
          96,
          97,
          98,
          99
         ],
         "xaxis": "x2",
         "y": [
          "",
          -0.9707223647295883,
          "",
          -1.2672566775668421,
          "",
          "",
          -3.6016876429353832,
          -0.3567403051774628,
          -0.7742865755324415,
          "",
          "",
          -1.8964416182566999,
          -0.5086775517834354,
          -0.662597347839497,
          -1.3248470580700502,
          "",
          "",
          -0.3528319973481613,
          -0.97211961393157,
          -0.7681397229074999,
          -0.7301031367615396,
          "",
          -1.3656818908333235,
          "",
          -0.6328026980209667,
          -1.4488178950618018,
          "",
          "",
          "",
          "",
          -1.7088071228248967,
          "",
          "",
          -5.415058241228362,
          -1.4104085032298368,
          "",
          "",
          "",
          -2.406997056587334,
          -0.4704885605076299,
          -0.6615071289935011,
          -0.32655845758751934,
          -2.5383363425904224,
          -1.7135652772710945,
          -1.8703006204848065,
          -0.17106552744308995,
          -0.5621753157748538,
          "",
          -0.4569615032093872,
          "",
          "",
          "",
          "",
          -0.9420312112839843,
          "",
          -3.070601868215311,
          "",
          "",
          -0.39579703476593286,
          -3.815906583302173,
          -0.8444363542039441,
          -0.17118618473395586,
          -0.07884326535660963,
          "",
          "",
          -1.5702775293699565,
          "",
          -0.05390221111813731,
          -2.412226022072102,
          "",
          -1.0032024431443305,
          -2.475538837881044,
          -1.985667566994135,
          "",
          "",
          "",
          "",
          -0.6065131158541166,
          -0.7457043815899216,
          -2.0692286962332105,
          "",
          -0.4549418468460401,
          "",
          -1.985885198283315,
          -0.3527797842589373,
          -0.3593330035958954,
          -1.8213547931684881,
          "",
          -0.42492377734490716,
          -2.515523975116953,
          -1.0916993659243919,
          "",
          "",
          -1.2059379761240794,
          -0.9270391538399348,
          -1.317121402854872,
          "",
          "",
          -1.4225821983462406,
          ""
         ],
         "yaxis": "y2"
        }
       ],
       "layout": {
        "hovermode": "x",
        "legend": {
         "bgcolor": "#F5F6F9",
         "font": {
          "color": "#4D5663"
         }
        },
        "paper_bgcolor": "#F5F6F9",
        "plot_bgcolor": "#F5F6F9",
        "template": {
         "data": {
          "bar": [
           {
            "error_x": {
             "color": "#2a3f5f"
            },
            "error_y": {
             "color": "#2a3f5f"
            },
            "marker": {
             "line": {
              "color": "#E5ECF6",
              "width": 0.5
             }
            },
            "type": "bar"
           }
          ],
          "barpolar": [
           {
            "marker": {
             "line": {
              "color": "#E5ECF6",
              "width": 0.5
             }
            },
            "type": "barpolar"
           }
          ],
          "carpet": [
           {
            "aaxis": {
             "endlinecolor": "#2a3f5f",
             "gridcolor": "white",
             "linecolor": "white",
             "minorgridcolor": "white",
             "startlinecolor": "#2a3f5f"
            },
            "baxis": {
             "endlinecolor": "#2a3f5f",
             "gridcolor": "white",
             "linecolor": "white",
             "minorgridcolor": "white",
             "startlinecolor": "#2a3f5f"
            },
            "type": "carpet"
           }
          ],
          "choropleth": [
           {
            "colorbar": {
             "outlinewidth": 0,
             "ticks": ""
            },
            "type": "choropleth"
           }
          ],
          "contour": [
           {
            "colorbar": {
             "outlinewidth": 0,
             "ticks": ""
            },
            "colorscale": [
             [
              0,
              "#0d0887"
             ],
             [
              0.1111111111111111,
              "#46039f"
             ],
             [
              0.2222222222222222,
              "#7201a8"
             ],
             [
              0.3333333333333333,
              "#9c179e"
             ],
             [
              0.4444444444444444,
              "#bd3786"
             ],
             [
              0.5555555555555556,
              "#d8576b"
             ],
             [
              0.6666666666666666,
              "#ed7953"
             ],
             [
              0.7777777777777778,
              "#fb9f3a"
             ],
             [
              0.8888888888888888,
              "#fdca26"
             ],
             [
              1,
              "#f0f921"
             ]
            ],
            "type": "contour"
           }
          ],
          "contourcarpet": [
           {
            "colorbar": {
             "outlinewidth": 0,
             "ticks": ""
            },
            "type": "contourcarpet"
           }
          ],
          "heatmap": [
           {
            "colorbar": {
             "outlinewidth": 0,
             "ticks": ""
            },
            "colorscale": [
             [
              0,
              "#0d0887"
             ],
             [
              0.1111111111111111,
              "#46039f"
             ],
             [
              0.2222222222222222,
              "#7201a8"
             ],
             [
              0.3333333333333333,
              "#9c179e"
             ],
             [
              0.4444444444444444,
              "#bd3786"
             ],
             [
              0.5555555555555556,
              "#d8576b"
             ],
             [
              0.6666666666666666,
              "#ed7953"
             ],
             [
              0.7777777777777778,
              "#fb9f3a"
             ],
             [
              0.8888888888888888,
              "#fdca26"
             ],
             [
              1,
              "#f0f921"
             ]
            ],
            "type": "heatmap"
           }
          ],
          "heatmapgl": [
           {
            "colorbar": {
             "outlinewidth": 0,
             "ticks": ""
            },
            "colorscale": [
             [
              0,
              "#0d0887"
             ],
             [
              0.1111111111111111,
              "#46039f"
             ],
             [
              0.2222222222222222,
              "#7201a8"
             ],
             [
              0.3333333333333333,
              "#9c179e"
             ],
             [
              0.4444444444444444,
              "#bd3786"
             ],
             [
              0.5555555555555556,
              "#d8576b"
             ],
             [
              0.6666666666666666,
              "#ed7953"
             ],
             [
              0.7777777777777778,
              "#fb9f3a"
             ],
             [
              0.8888888888888888,
              "#fdca26"
             ],
             [
              1,
              "#f0f921"
             ]
            ],
            "type": "heatmapgl"
           }
          ],
          "histogram": [
           {
            "marker": {
             "colorbar": {
              "outlinewidth": 0,
              "ticks": ""
             }
            },
            "type": "histogram"
           }
          ],
          "histogram2d": [
           {
            "colorbar": {
             "outlinewidth": 0,
             "ticks": ""
            },
            "colorscale": [
             [
              0,
              "#0d0887"
             ],
             [
              0.1111111111111111,
              "#46039f"
             ],
             [
              0.2222222222222222,
              "#7201a8"
             ],
             [
              0.3333333333333333,
              "#9c179e"
             ],
             [
              0.4444444444444444,
              "#bd3786"
             ],
             [
              0.5555555555555556,
              "#d8576b"
             ],
             [
              0.6666666666666666,
              "#ed7953"
             ],
             [
              0.7777777777777778,
              "#fb9f3a"
             ],
             [
              0.8888888888888888,
              "#fdca26"
             ],
             [
              1,
              "#f0f921"
             ]
            ],
            "type": "histogram2d"
           }
          ],
          "histogram2dcontour": [
           {
            "colorbar": {
             "outlinewidth": 0,
             "ticks": ""
            },
            "colorscale": [
             [
              0,
              "#0d0887"
             ],
             [
              0.1111111111111111,
              "#46039f"
             ],
             [
              0.2222222222222222,
              "#7201a8"
             ],
             [
              0.3333333333333333,
              "#9c179e"
             ],
             [
              0.4444444444444444,
              "#bd3786"
             ],
             [
              0.5555555555555556,
              "#d8576b"
             ],
             [
              0.6666666666666666,
              "#ed7953"
             ],
             [
              0.7777777777777778,
              "#fb9f3a"
             ],
             [
              0.8888888888888888,
              "#fdca26"
             ],
             [
              1,
              "#f0f921"
             ]
            ],
            "type": "histogram2dcontour"
           }
          ],
          "mesh3d": [
           {
            "colorbar": {
             "outlinewidth": 0,
             "ticks": ""
            },
            "type": "mesh3d"
           }
          ],
          "parcoords": [
           {
            "line": {
             "colorbar": {
              "outlinewidth": 0,
              "ticks": ""
             }
            },
            "type": "parcoords"
           }
          ],
          "pie": [
           {
            "automargin": true,
            "type": "pie"
           }
          ],
          "scatter": [
           {
            "marker": {
             "colorbar": {
              "outlinewidth": 0,
              "ticks": ""
             }
            },
            "type": "scatter"
           }
          ],
          "scatter3d": [
           {
            "line": {
             "colorbar": {
              "outlinewidth": 0,
              "ticks": ""
             }
            },
            "marker": {
             "colorbar": {
              "outlinewidth": 0,
              "ticks": ""
             }
            },
            "type": "scatter3d"
           }
          ],
          "scattercarpet": [
           {
            "marker": {
             "colorbar": {
              "outlinewidth": 0,
              "ticks": ""
             }
            },
            "type": "scattercarpet"
           }
          ],
          "scattergeo": [
           {
            "marker": {
             "colorbar": {
              "outlinewidth": 0,
              "ticks": ""
             }
            },
            "type": "scattergeo"
           }
          ],
          "scattergl": [
           {
            "marker": {
             "colorbar": {
              "outlinewidth": 0,
              "ticks": ""
             }
            },
            "type": "scattergl"
           }
          ],
          "scattermapbox": [
           {
            "marker": {
             "colorbar": {
              "outlinewidth": 0,
              "ticks": ""
             }
            },
            "type": "scattermapbox"
           }
          ],
          "scatterpolar": [
           {
            "marker": {
             "colorbar": {
              "outlinewidth": 0,
              "ticks": ""
             }
            },
            "type": "scatterpolar"
           }
          ],
          "scatterpolargl": [
           {
            "marker": {
             "colorbar": {
              "outlinewidth": 0,
              "ticks": ""
             }
            },
            "type": "scatterpolargl"
           }
          ],
          "scatterternary": [
           {
            "marker": {
             "colorbar": {
              "outlinewidth": 0,
              "ticks": ""
             }
            },
            "type": "scatterternary"
           }
          ],
          "surface": [
           {
            "colorbar": {
             "outlinewidth": 0,
             "ticks": ""
            },
            "colorscale": [
             [
              0,
              "#0d0887"
             ],
             [
              0.1111111111111111,
              "#46039f"
             ],
             [
              0.2222222222222222,
              "#7201a8"
             ],
             [
              0.3333333333333333,
              "#9c179e"
             ],
             [
              0.4444444444444444,
              "#bd3786"
             ],
             [
              0.5555555555555556,
              "#d8576b"
             ],
             [
              0.6666666666666666,
              "#ed7953"
             ],
             [
              0.7777777777777778,
              "#fb9f3a"
             ],
             [
              0.8888888888888888,
              "#fdca26"
             ],
             [
              1,
              "#f0f921"
             ]
            ],
            "type": "surface"
           }
          ],
          "table": [
           {
            "cells": {
             "fill": {
              "color": "#EBF0F8"
             },
             "line": {
              "color": "white"
             }
            },
            "header": {
             "fill": {
              "color": "#C8D4E3"
             },
             "line": {
              "color": "white"
             }
            },
            "type": "table"
           }
          ]
         },
         "layout": {
          "annotationdefaults": {
           "arrowcolor": "#2a3f5f",
           "arrowhead": 0,
           "arrowwidth": 1
          },
          "coloraxis": {
           "colorbar": {
            "outlinewidth": 0,
            "ticks": ""
           }
          },
          "colorscale": {
           "diverging": [
            [
             0,
             "#8e0152"
            ],
            [
             0.1,
             "#c51b7d"
            ],
            [
             0.2,
             "#de77ae"
            ],
            [
             0.3,
             "#f1b6da"
            ],
            [
             0.4,
             "#fde0ef"
            ],
            [
             0.5,
             "#f7f7f7"
            ],
            [
             0.6,
             "#e6f5d0"
            ],
            [
             0.7,
             "#b8e186"
            ],
            [
             0.8,
             "#7fbc41"
            ],
            [
             0.9,
             "#4d9221"
            ],
            [
             1,
             "#276419"
            ]
           ],
           "sequential": [
            [
             0,
             "#0d0887"
            ],
            [
             0.1111111111111111,
             "#46039f"
            ],
            [
             0.2222222222222222,
             "#7201a8"
            ],
            [
             0.3333333333333333,
             "#9c179e"
            ],
            [
             0.4444444444444444,
             "#bd3786"
            ],
            [
             0.5555555555555556,
             "#d8576b"
            ],
            [
             0.6666666666666666,
             "#ed7953"
            ],
            [
             0.7777777777777778,
             "#fb9f3a"
            ],
            [
             0.8888888888888888,
             "#fdca26"
            ],
            [
             1,
             "#f0f921"
            ]
           ],
           "sequentialminus": [
            [
             0,
             "#0d0887"
            ],
            [
             0.1111111111111111,
             "#46039f"
            ],
            [
             0.2222222222222222,
             "#7201a8"
            ],
            [
             0.3333333333333333,
             "#9c179e"
            ],
            [
             0.4444444444444444,
             "#bd3786"
            ],
            [
             0.5555555555555556,
             "#d8576b"
            ],
            [
             0.6666666666666666,
             "#ed7953"
            ],
            [
             0.7777777777777778,
             "#fb9f3a"
            ],
            [
             0.8888888888888888,
             "#fdca26"
            ],
            [
             1,
             "#f0f921"
            ]
           ]
          },
          "colorway": [
           "#636efa",
           "#EF553B",
           "#00cc96",
           "#ab63fa",
           "#FFA15A",
           "#19d3f3",
           "#FF6692",
           "#B6E880",
           "#FF97FF",
           "#FECB52"
          ],
          "font": {
           "color": "#2a3f5f"
          },
          "geo": {
           "bgcolor": "white",
           "lakecolor": "white",
           "landcolor": "#E5ECF6",
           "showlakes": true,
           "showland": true,
           "subunitcolor": "white"
          },
          "hoverlabel": {
           "align": "left"
          },
          "hovermode": "closest",
          "mapbox": {
           "style": "light"
          },
          "paper_bgcolor": "white",
          "plot_bgcolor": "#E5ECF6",
          "polar": {
           "angularaxis": {
            "gridcolor": "white",
            "linecolor": "white",
            "ticks": ""
           },
           "bgcolor": "#E5ECF6",
           "radialaxis": {
            "gridcolor": "white",
            "linecolor": "white",
            "ticks": ""
           }
          },
          "scene": {
           "xaxis": {
            "backgroundcolor": "#E5ECF6",
            "gridcolor": "white",
            "gridwidth": 2,
            "linecolor": "white",
            "showbackground": true,
            "ticks": "",
            "zerolinecolor": "white"
           },
           "yaxis": {
            "backgroundcolor": "#E5ECF6",
            "gridcolor": "white",
            "gridwidth": 2,
            "linecolor": "white",
            "showbackground": true,
            "ticks": "",
            "zerolinecolor": "white"
           },
           "zaxis": {
            "backgroundcolor": "#E5ECF6",
            "gridcolor": "white",
            "gridwidth": 2,
            "linecolor": "white",
            "showbackground": true,
            "ticks": "",
            "zerolinecolor": "white"
           }
          },
          "shapedefaults": {
           "line": {
            "color": "#2a3f5f"
           }
          },
          "ternary": {
           "aaxis": {
            "gridcolor": "white",
            "linecolor": "white",
            "ticks": ""
           },
           "baxis": {
            "gridcolor": "white",
            "linecolor": "white",
            "ticks": ""
           },
           "bgcolor": "#E5ECF6",
           "caxis": {
            "gridcolor": "white",
            "linecolor": "white",
            "ticks": ""
           }
          },
          "title": {
           "x": 0.05
          },
          "xaxis": {
           "automargin": true,
           "gridcolor": "white",
           "linecolor": "white",
           "ticks": "",
           "title": {
            "standoff": 15
           },
           "zerolinecolor": "white",
           "zerolinewidth": 2
          },
          "yaxis": {
           "automargin": true,
           "gridcolor": "white",
           "linecolor": "white",
           "ticks": "",
           "title": {
            "standoff": 15
           },
           "zerolinecolor": "white",
           "zerolinewidth": 2
          }
         }
        },
        "title": {
         "font": {
          "color": "#4D5663"
         }
        },
        "xaxis": {
         "gridcolor": "#E1E5ED",
         "showgrid": true,
         "tickfont": {
          "color": "#4D5663"
         },
         "title": {
          "font": {
           "color": "#4D5663"
          },
          "text": ""
         },
         "zerolinecolor": "#E1E5ED"
        },
        "xaxis2": {
         "anchor": "y2",
         "gridcolor": "#E1E5ED",
         "showgrid": true,
         "showticklabels": false,
         "tickfont": {
          "color": "#4D5663"
         },
         "title": {
          "font": {
           "color": "#4D5663"
          },
          "text": ""
         },
         "zerolinecolor": "#E1E5ED"
        },
        "yaxis": {
         "domain": [
          0.3,
          1
         ],
         "gridcolor": "#E1E5ED",
         "showgrid": true,
         "tickfont": {
          "color": "#4D5663"
         },
         "title": {
          "font": {
           "color": "#4D5663"
          },
          "text": ""
         },
         "zerolinecolor": "#E1E5ED"
        },
        "yaxis2": {
         "domain": [
          0,
          0.25
         ],
         "gridcolor": "#E1E5ED",
         "showgrid": true,
         "tickfont": {
          "color": "#4D5663"
         },
         "title": {
          "font": {
           "color": "#4D5663"
          },
          "text": "Spread"
         },
         "zerolinecolor": "#E1E5ED"
        }
       }
      },
      "text/html": [
       "<div>\n",
       "        \n",
       "        \n",
       "            <div id=\"71fbfd98-4d48-4dc3-b2ad-6e8642137781\" class=\"plotly-graph-div\" style=\"height:525px; width:100%;\"></div>\n",
       "            <script type=\"text/javascript\">\n",
       "                require([\"plotly\"], function(Plotly) {\n",
       "                    window.PLOTLYENV=window.PLOTLYENV || {};\n",
       "                    window.PLOTLYENV.BASE_URL='https://plot.ly';\n",
       "                    \n",
       "                if (document.getElementById(\"71fbfd98-4d48-4dc3-b2ad-6e8642137781\")) {\n",
       "                    Plotly.newPlot(\n",
       "                        '71fbfd98-4d48-4dc3-b2ad-6e8642137781',\n",
       "                        [{\"line\": {\"color\": \"rgba(255, 153, 51, 1.0)\", \"dash\": \"solid\", \"shape\": \"linear\", \"width\": 1.3}, \"mode\": \"lines\", \"name\": \"A\", \"text\": \"\", \"type\": \"scatter\", \"x\": [0, 1, 2, 3, 4, 5, 6, 7, 8, 9, 10, 11, 12, 13, 14, 15, 16, 17, 18, 19, 20, 21, 22, 23, 24, 25, 26, 27, 28, 29, 30, 31, 32, 33, 34, 35, 36, 37, 38, 39, 40, 41, 42, 43, 44, 45, 46, 47, 48, 49, 50, 51, 52, 53, 54, 55, 56, 57, 58, 59, 60, 61, 62, 63, 64, 65, 66, 67, 68, 69, 70, 71, 72, 73, 74, 75, 76, 77, 78, 79, 80, 81, 82, 83, 84, 85, 86, 87, 88, 89, 90, 91, 92, 93, 94, 95, 96, 97, 98, 99], \"y\": [1.9072310072255976, 0.45664251731057026, 1.8735593319249753, -1.2764623848263121, 1.3628530085372335, -0.4325085498941139, -2.130565106550025, -0.3478882665499311, -1.8065591069816318, 1.2802855972530267, 0.9099690101147678, -0.7254302350257974, -1.357689466572614, -0.2924728207932572, -0.6520631482874802, 0.004148547838381575, 0.6844015451212803, 0.4768351538690697, 0.6533129371097708, -0.8033735902053046, 0.10436594645935798, 0.5988000624309174, -0.6343639773656216, -0.13527773819219185, -0.20256767414639978, -0.015873236886170233, 1.0333180007396285, 0.6233280465126437, 1.8054087268203456, -0.3483139337287294, -1.6450789071911471, -0.07367633128762816, 0.9661664795196275, -3.554540119417503, -0.3517884347890016, -0.011080518665749637, 0.621422551146316, -1.2531579594339688, -0.10051082015301586, -0.24054607341946016, -0.3839538033661071, -1.0575974259826995, -1.752757339947482, 0.2774973963127115, -1.4494616998409102, 0.16015295976718663, -1.5104556329789018, -0.8063273303499235, -0.3947630414938095, 0.43441231346843795, 1.226504273411426, 0.2024939514122735, -0.00835533148028108, -0.36256325006618495, 0.5359156853817274, -1.0969121025292958, 0.43187469434509806, 0.8496889764272824, -1.2082731388454349, -1.7089121213718867, -0.5170724026485997, -0.03994284400890909, -0.25932188432990816, 0.07953898183032124, 1.0458832881768172, -1.9579149340336046, 0.5453127632430007, 1.854844673262272, -2.5673923034531083, -0.09091067989192657, -0.3884470822677006, -1.8469698500964709, -1.5158324196916066, -0.38138223397344256, -0.05805129919084255, 1.087493238981735, 0.7534415222757022, -0.6284540050680987, -0.38751599288043437, -1.2084618045487636, 0.0514634408368774, -1.082918557354612, -0.4992107264311093, -1.9452028837154631, 0.7273056387902339, -0.8955610849268126, -0.8234617655936936, 0.532065163647017, -1.1028862381850142, -1.7582423251578894, -1.3791246147712828, 0.10042152710117103, -0.5716713526590748, -0.9735284618191417, -0.058716214204821274, 0.5119956539665943, 0.11718988426468993, 0.006329341436323806, -0.620841952508306, 0.8187717540053973]}, {\"line\": {\"color\": \"rgba(55, 128, 191, 1.0)\", \"dash\": \"solid\", \"shape\": \"linear\", \"width\": 1.3}, \"mode\": \"lines\", \"name\": \"B\", \"text\": \"\", \"type\": \"scatter\", \"x\": [0, 1, 2, 3, 4, 5, 6, 7, 8, 9, 10, 11, 12, 13, 14, 15, 16, 17, 18, 19, 20, 21, 22, 23, 24, 25, 26, 27, 28, 29, 30, 31, 32, 33, 34, 35, 36, 37, 38, 39, 40, 41, 42, 43, 44, 45, 46, 47, 48, 49, 50, 51, 52, 53, 54, 55, 56, 57, 58, 59, 60, 61, 62, 63, 64, 65, 66, 67, 68, 69, 70, 71, 72, 73, 74, 75, 76, 77, 78, 79, 80, 81, 82, 83, 84, 85, 86, 87, 88, 89, 90, 91, 92, 93, 94, 95, 96, 97, 98, 99], \"y\": [0.5397341984256421, 1.4273648820401585, -0.2699470460701567, -0.009205707259470066, 0.38245509704051034, -0.6121410983025236, 1.471122536385358, 0.008852038627531702, -1.0322725314491903, 0.8203466329622852, 0.40274543333508517, 1.1710113832309024, -0.8490119147891786, 0.37012452704623977, 0.6727839097825701, -0.7146490926729023, -1.1710925815152915, 0.829667151217231, 1.6254325510413408, -0.03523386729780477, 0.8344690832208976, -0.013325006634558746, 0.731317913467702, -0.34730864357214936, 0.43023502387456686, 1.4329446581756315, -0.7491845032709245, 0.3510417309197764, 0.14083899715516177, -1.1861006093411341, 0.06372821563374959, -0.5482268710062057, 0.5358156468037663, 1.860518121810859, 1.0586200684408351, -0.0639731090133942, -0.08212677769362468, -1.3644617085653952, 2.306486236434318, 0.2299424870881697, 0.277553325627394, -0.7310389683951801, 0.7855790026429404, 1.991062673583806, 0.42083892064389616, 0.3312184872102766, -0.948280317204048, -0.9568068650540437, 0.06219846171557773, -0.6894903418517699, 0.9426582104357005, -0.6549530029210485, -0.27693993710331516, 0.5794679612177993, -0.17445332930955162, 1.973689765686015, -1.1221081740462968, -0.5689439814189605, -0.812476104079502, 2.106994461930286, 0.32736395155534453, 0.1312433407250468, -0.18047861897329853, -0.772626615251416, 0.3228290458457046, -0.3876374046636482, 0.1833422829766309, 1.9087468843804094, -0.15516628138100658, -1.4163623544697346, 0.6147553608766299, 0.6285689877845728, 0.46983514730252834, -1.891043424119729, -0.41109171089752206, -0.19882089607141482, 0.26050507326347166, -0.021940889213982018, 0.35818838870948727, 0.8607668916844468, -0.76838927683406, -0.627976710508572, -0.6366917226484422, 0.04068231456785195, 1.0800854230491712, -0.5362280813309173, 0.9978930275747946, -1.7791250497361506, -0.677962460840107, 0.7572816499590634, -0.287425248846891, -0.47888022308913814, -1.1274959646162466, 0.2324095143049378, 0.8683229396351135, 1.829117056821466, -1.816751591989605, -0.5924861572089956, 0.8017402458379345, -1.4002762640497939]}, {\"connectgaps\": false, \"fill\": \"tozeroy\", \"line\": {\"color\": \"green\", \"dash\": \"solid\", \"shape\": \"linear\", \"width\": 0.5}, \"mode\": \"lines\", \"name\": \"Spread\", \"showlegend\": false, \"type\": \"scatter\", \"x\": [0, 1, 2, 3, 4, 5, 6, 7, 8, 9, 10, 11, 12, 13, 14, 15, 16, 17, 18, 19, 20, 21, 22, 23, 24, 25, 26, 27, 28, 29, 30, 31, 32, 33, 34, 35, 36, 37, 38, 39, 40, 41, 42, 43, 44, 45, 46, 47, 48, 49, 50, 51, 52, 53, 54, 55, 56, 57, 58, 59, 60, 61, 62, 63, 64, 65, 66, 67, 68, 69, 70, 71, 72, 73, 74, 75, 76, 77, 78, 79, 80, 81, 82, 83, 84, 85, 86, 87, 88, 89, 90, 91, 92, 93, 94, 95, 96, 97, 98, 99], \"xaxis\": \"x2\", \"y\": [1.3674968087999555, \"\", 2.143506377995132, \"\", 0.9803979114967232, 0.1796325484084097, \"\", \"\", \"\", 0.45993896429074155, 0.5072235767796827, \"\", \"\", \"\", \"\", 0.7187976405112839, 1.8554941266365717, \"\", \"\", \"\", \"\", 0.6121250690654761, \"\", 0.2120309053799575, \"\", \"\", 1.7825025040105529, 0.2722863155928673, 1.6645697296651838, 0.8377866756124048, \"\", 0.4745505397185775, 0.4303508327158613, \"\", \"\", 0.05289259034764457, 0.7035493288399406, 0.11130374913142638, \"\", \"\", \"\", \"\", \"\", \"\", \"\", \"\", \"\", 0.15047953470412012, \"\", 1.1239026553202078, 0.28384606297572545, 0.8574469543333221, 0.2685846056230341, \"\", 0.710369014691279, \"\", 1.5539828683913948, 1.4186329578462429, \"\", \"\", \"\", \"\", \"\", 0.8521655970817372, 0.7230542423311126, \"\", 0.3619704802663698, \"\", \"\", 1.325451674577808, \"\", \"\", \"\", 1.5096611901462864, 0.3530404117066795, 1.28631413505315, 0.4929364490122305, \"\", \"\", \"\", 0.8198527176709374, \"\", 0.1374809962173329, \"\", \"\", \"\", \"\", 2.3111902133831674, \"\", \"\", \"\", 0.5793017501903092, 0.5558246119571718, \"\", \"\", \"\", 1.9339414762542948, 0.5988154986453194, \"\", 2.219048018055191], \"yaxis\": \"y2\"}, {\"connectgaps\": false, \"fill\": \"tozeroy\", \"line\": {\"color\": \"red\", \"dash\": \"solid\", \"shape\": \"linear\", \"width\": 0.5}, \"mode\": \"lines\", \"name\": \"Spread\", \"showlegend\": false, \"type\": \"scatter\", \"x\": [0, 1, 2, 3, 4, 5, 6, 7, 8, 9, 10, 11, 12, 13, 14, 15, 16, 17, 18, 19, 20, 21, 22, 23, 24, 25, 26, 27, 28, 29, 30, 31, 32, 33, 34, 35, 36, 37, 38, 39, 40, 41, 42, 43, 44, 45, 46, 47, 48, 49, 50, 51, 52, 53, 54, 55, 56, 57, 58, 59, 60, 61, 62, 63, 64, 65, 66, 67, 68, 69, 70, 71, 72, 73, 74, 75, 76, 77, 78, 79, 80, 81, 82, 83, 84, 85, 86, 87, 88, 89, 90, 91, 92, 93, 94, 95, 96, 97, 98, 99], \"xaxis\": \"x2\", \"y\": [\"\", -0.9707223647295883, \"\", -1.2672566775668421, \"\", \"\", -3.6016876429353832, -0.3567403051774628, -0.7742865755324415, \"\", \"\", -1.8964416182566999, -0.5086775517834354, -0.662597347839497, -1.3248470580700502, \"\", \"\", -0.3528319973481613, -0.97211961393157, -0.7681397229074999, -0.7301031367615396, \"\", -1.3656818908333235, \"\", -0.6328026980209667, -1.4488178950618018, \"\", \"\", \"\", \"\", -1.7088071228248967, \"\", \"\", -5.415058241228362, -1.4104085032298368, \"\", \"\", \"\", -2.406997056587334, -0.4704885605076299, -0.6615071289935011, -0.32655845758751934, -2.5383363425904224, -1.7135652772710945, -1.8703006204848065, -0.17106552744308995, -0.5621753157748538, \"\", -0.4569615032093872, \"\", \"\", \"\", \"\", -0.9420312112839843, \"\", -3.070601868215311, \"\", \"\", -0.39579703476593286, -3.815906583302173, -0.8444363542039441, -0.17118618473395586, -0.07884326535660963, \"\", \"\", -1.5702775293699565, \"\", -0.05390221111813731, -2.412226022072102, \"\", -1.0032024431443305, -2.475538837881044, -1.985667566994135, \"\", \"\", \"\", \"\", -0.6065131158541166, -0.7457043815899216, -2.0692286962332105, \"\", -0.4549418468460401, \"\", -1.985885198283315, -0.3527797842589373, -0.3593330035958954, -1.8213547931684881, \"\", -0.42492377734490716, -2.515523975116953, -1.0916993659243919, \"\", \"\", -1.2059379761240794, -0.9270391538399348, -1.317121402854872, \"\", \"\", -1.4225821983462406, \"\"], \"yaxis\": \"y2\"}],\n",
       "                        {\"hovermode\": \"x\", \"legend\": {\"bgcolor\": \"#F5F6F9\", \"font\": {\"color\": \"#4D5663\"}}, \"paper_bgcolor\": \"#F5F6F9\", \"plot_bgcolor\": \"#F5F6F9\", \"template\": {\"data\": {\"bar\": [{\"error_x\": {\"color\": \"#2a3f5f\"}, \"error_y\": {\"color\": \"#2a3f5f\"}, \"marker\": {\"line\": {\"color\": \"#E5ECF6\", \"width\": 0.5}}, \"type\": \"bar\"}], \"barpolar\": [{\"marker\": {\"line\": {\"color\": \"#E5ECF6\", \"width\": 0.5}}, \"type\": \"barpolar\"}], \"carpet\": [{\"aaxis\": {\"endlinecolor\": \"#2a3f5f\", \"gridcolor\": \"white\", \"linecolor\": \"white\", \"minorgridcolor\": \"white\", \"startlinecolor\": \"#2a3f5f\"}, \"baxis\": {\"endlinecolor\": \"#2a3f5f\", \"gridcolor\": \"white\", \"linecolor\": \"white\", \"minorgridcolor\": \"white\", \"startlinecolor\": \"#2a3f5f\"}, \"type\": \"carpet\"}], \"choropleth\": [{\"colorbar\": {\"outlinewidth\": 0, \"ticks\": \"\"}, \"type\": \"choropleth\"}], \"contour\": [{\"colorbar\": {\"outlinewidth\": 0, \"ticks\": \"\"}, \"colorscale\": [[0.0, \"#0d0887\"], [0.1111111111111111, \"#46039f\"], [0.2222222222222222, \"#7201a8\"], [0.3333333333333333, \"#9c179e\"], [0.4444444444444444, \"#bd3786\"], [0.5555555555555556, \"#d8576b\"], [0.6666666666666666, \"#ed7953\"], [0.7777777777777778, \"#fb9f3a\"], [0.8888888888888888, \"#fdca26\"], [1.0, \"#f0f921\"]], \"type\": \"contour\"}], \"contourcarpet\": [{\"colorbar\": {\"outlinewidth\": 0, \"ticks\": \"\"}, \"type\": \"contourcarpet\"}], \"heatmap\": [{\"colorbar\": {\"outlinewidth\": 0, \"ticks\": \"\"}, \"colorscale\": [[0.0, \"#0d0887\"], [0.1111111111111111, \"#46039f\"], [0.2222222222222222, \"#7201a8\"], [0.3333333333333333, \"#9c179e\"], [0.4444444444444444, \"#bd3786\"], [0.5555555555555556, \"#d8576b\"], [0.6666666666666666, \"#ed7953\"], [0.7777777777777778, \"#fb9f3a\"], [0.8888888888888888, \"#fdca26\"], [1.0, \"#f0f921\"]], \"type\": \"heatmap\"}], \"heatmapgl\": [{\"colorbar\": {\"outlinewidth\": 0, \"ticks\": \"\"}, \"colorscale\": [[0.0, \"#0d0887\"], [0.1111111111111111, \"#46039f\"], [0.2222222222222222, \"#7201a8\"], [0.3333333333333333, \"#9c179e\"], [0.4444444444444444, \"#bd3786\"], [0.5555555555555556, \"#d8576b\"], [0.6666666666666666, \"#ed7953\"], [0.7777777777777778, \"#fb9f3a\"], [0.8888888888888888, \"#fdca26\"], [1.0, \"#f0f921\"]], \"type\": \"heatmapgl\"}], \"histogram\": [{\"marker\": {\"colorbar\": {\"outlinewidth\": 0, \"ticks\": \"\"}}, \"type\": \"histogram\"}], \"histogram2d\": [{\"colorbar\": {\"outlinewidth\": 0, \"ticks\": \"\"}, \"colorscale\": [[0.0, \"#0d0887\"], [0.1111111111111111, \"#46039f\"], [0.2222222222222222, \"#7201a8\"], [0.3333333333333333, \"#9c179e\"], [0.4444444444444444, \"#bd3786\"], [0.5555555555555556, \"#d8576b\"], [0.6666666666666666, \"#ed7953\"], [0.7777777777777778, \"#fb9f3a\"], [0.8888888888888888, \"#fdca26\"], [1.0, \"#f0f921\"]], \"type\": \"histogram2d\"}], \"histogram2dcontour\": [{\"colorbar\": {\"outlinewidth\": 0, \"ticks\": \"\"}, \"colorscale\": [[0.0, \"#0d0887\"], [0.1111111111111111, \"#46039f\"], [0.2222222222222222, \"#7201a8\"], [0.3333333333333333, \"#9c179e\"], [0.4444444444444444, \"#bd3786\"], [0.5555555555555556, \"#d8576b\"], [0.6666666666666666, \"#ed7953\"], [0.7777777777777778, \"#fb9f3a\"], [0.8888888888888888, \"#fdca26\"], [1.0, \"#f0f921\"]], \"type\": \"histogram2dcontour\"}], \"mesh3d\": [{\"colorbar\": {\"outlinewidth\": 0, \"ticks\": \"\"}, \"type\": \"mesh3d\"}], \"parcoords\": [{\"line\": {\"colorbar\": {\"outlinewidth\": 0, \"ticks\": \"\"}}, \"type\": \"parcoords\"}], \"pie\": [{\"automargin\": true, \"type\": \"pie\"}], \"scatter\": [{\"marker\": {\"colorbar\": {\"outlinewidth\": 0, \"ticks\": \"\"}}, \"type\": \"scatter\"}], \"scatter3d\": [{\"line\": {\"colorbar\": {\"outlinewidth\": 0, \"ticks\": \"\"}}, \"marker\": {\"colorbar\": {\"outlinewidth\": 0, \"ticks\": \"\"}}, \"type\": \"scatter3d\"}], \"scattercarpet\": [{\"marker\": {\"colorbar\": {\"outlinewidth\": 0, \"ticks\": \"\"}}, \"type\": \"scattercarpet\"}], \"scattergeo\": [{\"marker\": {\"colorbar\": {\"outlinewidth\": 0, \"ticks\": \"\"}}, \"type\": \"scattergeo\"}], \"scattergl\": [{\"marker\": {\"colorbar\": {\"outlinewidth\": 0, \"ticks\": \"\"}}, \"type\": \"scattergl\"}], \"scattermapbox\": [{\"marker\": {\"colorbar\": {\"outlinewidth\": 0, \"ticks\": \"\"}}, \"type\": \"scattermapbox\"}], \"scatterpolar\": [{\"marker\": {\"colorbar\": {\"outlinewidth\": 0, \"ticks\": \"\"}}, \"type\": \"scatterpolar\"}], \"scatterpolargl\": [{\"marker\": {\"colorbar\": {\"outlinewidth\": 0, \"ticks\": \"\"}}, \"type\": \"scatterpolargl\"}], \"scatterternary\": [{\"marker\": {\"colorbar\": {\"outlinewidth\": 0, \"ticks\": \"\"}}, \"type\": \"scatterternary\"}], \"surface\": [{\"colorbar\": {\"outlinewidth\": 0, \"ticks\": \"\"}, \"colorscale\": [[0.0, \"#0d0887\"], [0.1111111111111111, \"#46039f\"], [0.2222222222222222, \"#7201a8\"], [0.3333333333333333, \"#9c179e\"], [0.4444444444444444, \"#bd3786\"], [0.5555555555555556, \"#d8576b\"], [0.6666666666666666, \"#ed7953\"], [0.7777777777777778, \"#fb9f3a\"], [0.8888888888888888, \"#fdca26\"], [1.0, \"#f0f921\"]], \"type\": \"surface\"}], \"table\": [{\"cells\": {\"fill\": {\"color\": \"#EBF0F8\"}, \"line\": {\"color\": \"white\"}}, \"header\": {\"fill\": {\"color\": \"#C8D4E3\"}, \"line\": {\"color\": \"white\"}}, \"type\": \"table\"}]}, \"layout\": {\"annotationdefaults\": {\"arrowcolor\": \"#2a3f5f\", \"arrowhead\": 0, \"arrowwidth\": 1}, \"coloraxis\": {\"colorbar\": {\"outlinewidth\": 0, \"ticks\": \"\"}}, \"colorscale\": {\"diverging\": [[0, \"#8e0152\"], [0.1, \"#c51b7d\"], [0.2, \"#de77ae\"], [0.3, \"#f1b6da\"], [0.4, \"#fde0ef\"], [0.5, \"#f7f7f7\"], [0.6, \"#e6f5d0\"], [0.7, \"#b8e186\"], [0.8, \"#7fbc41\"], [0.9, \"#4d9221\"], [1, \"#276419\"]], \"sequential\": [[0.0, \"#0d0887\"], [0.1111111111111111, \"#46039f\"], [0.2222222222222222, \"#7201a8\"], [0.3333333333333333, \"#9c179e\"], [0.4444444444444444, \"#bd3786\"], [0.5555555555555556, \"#d8576b\"], [0.6666666666666666, \"#ed7953\"], [0.7777777777777778, \"#fb9f3a\"], [0.8888888888888888, \"#fdca26\"], [1.0, \"#f0f921\"]], \"sequentialminus\": [[0.0, \"#0d0887\"], [0.1111111111111111, \"#46039f\"], [0.2222222222222222, \"#7201a8\"], [0.3333333333333333, \"#9c179e\"], [0.4444444444444444, \"#bd3786\"], [0.5555555555555556, \"#d8576b\"], [0.6666666666666666, \"#ed7953\"], [0.7777777777777778, \"#fb9f3a\"], [0.8888888888888888, \"#fdca26\"], [1.0, \"#f0f921\"]]}, \"colorway\": [\"#636efa\", \"#EF553B\", \"#00cc96\", \"#ab63fa\", \"#FFA15A\", \"#19d3f3\", \"#FF6692\", \"#B6E880\", \"#FF97FF\", \"#FECB52\"], \"font\": {\"color\": \"#2a3f5f\"}, \"geo\": {\"bgcolor\": \"white\", \"lakecolor\": \"white\", \"landcolor\": \"#E5ECF6\", \"showlakes\": true, \"showland\": true, \"subunitcolor\": \"white\"}, \"hoverlabel\": {\"align\": \"left\"}, \"hovermode\": \"closest\", \"mapbox\": {\"style\": \"light\"}, \"paper_bgcolor\": \"white\", \"plot_bgcolor\": \"#E5ECF6\", \"polar\": {\"angularaxis\": {\"gridcolor\": \"white\", \"linecolor\": \"white\", \"ticks\": \"\"}, \"bgcolor\": \"#E5ECF6\", \"radialaxis\": {\"gridcolor\": \"white\", \"linecolor\": \"white\", \"ticks\": \"\"}}, \"scene\": {\"xaxis\": {\"backgroundcolor\": \"#E5ECF6\", \"gridcolor\": \"white\", \"gridwidth\": 2, \"linecolor\": \"white\", \"showbackground\": true, \"ticks\": \"\", \"zerolinecolor\": \"white\"}, \"yaxis\": {\"backgroundcolor\": \"#E5ECF6\", \"gridcolor\": \"white\", \"gridwidth\": 2, \"linecolor\": \"white\", \"showbackground\": true, \"ticks\": \"\", \"zerolinecolor\": \"white\"}, \"zaxis\": {\"backgroundcolor\": \"#E5ECF6\", \"gridcolor\": \"white\", \"gridwidth\": 2, \"linecolor\": \"white\", \"showbackground\": true, \"ticks\": \"\", \"zerolinecolor\": \"white\"}}, \"shapedefaults\": {\"line\": {\"color\": \"#2a3f5f\"}}, \"ternary\": {\"aaxis\": {\"gridcolor\": \"white\", \"linecolor\": \"white\", \"ticks\": \"\"}, \"baxis\": {\"gridcolor\": \"white\", \"linecolor\": \"white\", \"ticks\": \"\"}, \"bgcolor\": \"#E5ECF6\", \"caxis\": {\"gridcolor\": \"white\", \"linecolor\": \"white\", \"ticks\": \"\"}}, \"title\": {\"x\": 0.05}, \"xaxis\": {\"automargin\": true, \"gridcolor\": \"white\", \"linecolor\": \"white\", \"ticks\": \"\", \"title\": {\"standoff\": 15}, \"zerolinecolor\": \"white\", \"zerolinewidth\": 2}, \"yaxis\": {\"automargin\": true, \"gridcolor\": \"white\", \"linecolor\": \"white\", \"ticks\": \"\", \"title\": {\"standoff\": 15}, \"zerolinecolor\": \"white\", \"zerolinewidth\": 2}}}, \"title\": {\"font\": {\"color\": \"#4D5663\"}}, \"xaxis\": {\"gridcolor\": \"#E1E5ED\", \"showgrid\": true, \"tickfont\": {\"color\": \"#4D5663\"}, \"title\": {\"font\": {\"color\": \"#4D5663\"}, \"text\": \"\"}, \"zerolinecolor\": \"#E1E5ED\"}, \"xaxis2\": {\"anchor\": \"y2\", \"gridcolor\": \"#E1E5ED\", \"showgrid\": true, \"showticklabels\": false, \"tickfont\": {\"color\": \"#4D5663\"}, \"title\": {\"font\": {\"color\": \"#4D5663\"}, \"text\": \"\"}, \"zerolinecolor\": \"#E1E5ED\"}, \"yaxis\": {\"domain\": [0.3, 1], \"gridcolor\": \"#E1E5ED\", \"showgrid\": true, \"tickfont\": {\"color\": \"#4D5663\"}, \"title\": {\"font\": {\"color\": \"#4D5663\"}, \"text\": \"\"}, \"zerolinecolor\": \"#E1E5ED\"}, \"yaxis2\": {\"domain\": [0, 0.25], \"gridcolor\": \"#E1E5ED\", \"showgrid\": true, \"tickfont\": {\"color\": \"#4D5663\"}, \"title\": {\"font\": {\"color\": \"#4D5663\"}, \"text\": \"Spread\"}, \"zerolinecolor\": \"#E1E5ED\"}},\n",
       "                        {\"showLink\": true, \"linkText\": \"Export to plot.ly\", \"plotlyServerURL\": \"https://plot.ly\", \"responsive\": true}\n",
       "                    ).then(function(){\n",
       "                            \n",
       "var gd = document.getElementById('71fbfd98-4d48-4dc3-b2ad-6e8642137781');\n",
       "var x = new MutationObserver(function (mutations, observer) {{\n",
       "        var display = window.getComputedStyle(gd).display;\n",
       "        if (!display || display === 'none') {{\n",
       "            console.log([gd, 'removed!']);\n",
       "            Plotly.purge(gd);\n",
       "            observer.disconnect();\n",
       "        }}\n",
       "}});\n",
       "\n",
       "// Listen for the removal of the full notebook cells\n",
       "var notebookContainer = gd.closest('#notebook-container');\n",
       "if (notebookContainer) {{\n",
       "    x.observe(notebookContainer, {childList: true});\n",
       "}}\n",
       "\n",
       "// Listen for the clearing of the current output cell\n",
       "var outputEl = gd.closest('.output');\n",
       "if (outputEl) {{\n",
       "    x.observe(outputEl, {childList: true});\n",
       "}}\n",
       "\n",
       "                        })\n",
       "                };\n",
       "                });\n",
       "            </script>\n",
       "        </div>"
      ]
     },
     "metadata": {},
     "output_type": "display_data"
    }
   ],
   "source": [
    "# spread type for stocks\n",
    "df[['A','B']].iplot(kind='spread')\n",
    "\n",
    "# to check spread between two stocks"
   ]
  },
  {
   "cell_type": "code",
   "execution_count": 42,
   "metadata": {},
   "outputs": [
    {
     "data": {
      "application/vnd.plotly.v1+json": {
       "config": {
        "linkText": "Export to plot.ly",
        "plotlyServerURL": "https://plot.ly",
        "showLink": true
       },
       "data": [
        {
         "marker": {
          "color": [
           "rgb(255, 153, 51)",
           "rgb(55, 128, 191)",
           "rgb(50, 171, 96)",
           "rgb(128, 0, 128)",
           "rgb(219, 64, 82)",
           "rgb(0, 128, 128)",
           "rgb(255, 255, 51)",
           "rgb(128, 128, 0)",
           "rgb(251, 128, 114)",
           "rgb(128, 177, 211)"
          ],
          "line": {
           "width": 1.3
          },
          "size": [
           74,
           57,
           71,
           88,
           78,
           60,
           84,
           100,
           59,
           54,
           73,
           77,
           67,
           86,
           49,
           57,
           69,
           51,
           100,
           70,
           73,
           66,
           62,
           73,
           63,
           47,
           37,
           57,
           63,
           72,
           43,
           105,
           74,
           26,
           73,
           61,
           95,
           65,
           63,
           68,
           74,
           68,
           81,
           73,
           74,
           80,
           42,
           76,
           72,
           95,
           84,
           78,
           68,
           66,
           66,
           97,
           68,
           68,
           63,
           87,
           79,
           84,
           57,
           109,
           89,
           65,
           60,
           48,
           79,
           94,
           64,
           72,
           60,
           68,
           82,
           84,
           34,
           85,
           53,
           65,
           91,
           12,
           101,
           85,
           112,
           76,
           74,
           82,
           59,
           102,
           64,
           64,
           41,
           51,
           80,
           85,
           82,
           57,
           82,
           86
          ],
          "symbol": "circle"
         },
         "mode": "markers",
         "text": "",
         "type": "scatter",
         "x": [
          1.9072310072255976,
          0.45664251731057026,
          1.8735593319249753,
          -1.2764623848263121,
          1.3628530085372335,
          -0.4325085498941139,
          -2.130565106550025,
          -0.3478882665499311,
          -1.8065591069816318,
          1.2802855972530267,
          0.9099690101147678,
          -0.7254302350257974,
          -1.357689466572614,
          -0.2924728207932572,
          -0.6520631482874802,
          0.004148547838381575,
          0.6844015451212803,
          0.4768351538690697,
          0.6533129371097708,
          -0.8033735902053046,
          0.10436594645935798,
          0.5988000624309174,
          -0.6343639773656216,
          -0.13527773819219185,
          -0.20256767414639978,
          -0.015873236886170233,
          1.0333180007396285,
          0.6233280465126437,
          1.8054087268203456,
          -0.3483139337287294,
          -1.6450789071911471,
          -0.07367633128762816,
          0.9661664795196275,
          -3.554540119417503,
          -0.3517884347890016,
          -0.011080518665749637,
          0.621422551146316,
          -1.2531579594339688,
          -0.10051082015301586,
          -0.24054607341946016,
          -0.3839538033661071,
          -1.0575974259826995,
          -1.752757339947482,
          0.2774973963127115,
          -1.4494616998409102,
          0.16015295976718663,
          -1.5104556329789018,
          -0.8063273303499235,
          -0.3947630414938095,
          0.43441231346843795,
          1.226504273411426,
          0.2024939514122735,
          -0.00835533148028108,
          -0.36256325006618495,
          0.5359156853817274,
          -1.0969121025292958,
          0.43187469434509806,
          0.8496889764272824,
          -1.2082731388454349,
          -1.7089121213718867,
          -0.5170724026485997,
          -0.03994284400890909,
          -0.25932188432990816,
          0.07953898183032124,
          1.0458832881768172,
          -1.9579149340336046,
          0.5453127632430007,
          1.854844673262272,
          -2.5673923034531083,
          -0.09091067989192657,
          -0.3884470822677006,
          -1.8469698500964709,
          -1.5158324196916066,
          -0.38138223397344256,
          -0.05805129919084255,
          1.087493238981735,
          0.7534415222757022,
          -0.6284540050680987,
          -0.38751599288043437,
          -1.2084618045487636,
          0.0514634408368774,
          -1.082918557354612,
          -0.4992107264311093,
          -1.9452028837154631,
          0.7273056387902339,
          -0.8955610849268126,
          -0.8234617655936936,
          0.532065163647017,
          -1.1028862381850142,
          -1.7582423251578894,
          -1.3791246147712828,
          0.10042152710117103,
          -0.5716713526590748,
          -0.9735284618191417,
          -0.058716214204821274,
          0.5119956539665943,
          0.11718988426468993,
          0.006329341436323806,
          -0.620841952508306,
          0.8187717540053973
         ],
         "y": [
          0.5397341984256421,
          1.4273648820401585,
          -0.2699470460701567,
          -0.009205707259470066,
          0.38245509704051034,
          -0.6121410983025236,
          1.471122536385358,
          0.008852038627531702,
          -1.0322725314491903,
          0.8203466329622852,
          0.40274543333508517,
          1.1710113832309024,
          -0.8490119147891786,
          0.37012452704623977,
          0.6727839097825701,
          -0.7146490926729023,
          -1.1710925815152915,
          0.829667151217231,
          1.6254325510413408,
          -0.03523386729780477,
          0.8344690832208976,
          -0.013325006634558746,
          0.731317913467702,
          -0.34730864357214936,
          0.43023502387456686,
          1.4329446581756315,
          -0.7491845032709245,
          0.3510417309197764,
          0.14083899715516177,
          -1.1861006093411341,
          0.06372821563374959,
          -0.5482268710062057,
          0.5358156468037663,
          1.860518121810859,
          1.0586200684408351,
          -0.0639731090133942,
          -0.08212677769362468,
          -1.3644617085653952,
          2.306486236434318,
          0.2299424870881697,
          0.277553325627394,
          -0.7310389683951801,
          0.7855790026429404,
          1.991062673583806,
          0.42083892064389616,
          0.3312184872102766,
          -0.948280317204048,
          -0.9568068650540437,
          0.06219846171557773,
          -0.6894903418517699,
          0.9426582104357005,
          -0.6549530029210485,
          -0.27693993710331516,
          0.5794679612177993,
          -0.17445332930955162,
          1.973689765686015,
          -1.1221081740462968,
          -0.5689439814189605,
          -0.812476104079502,
          2.106994461930286,
          0.32736395155534453,
          0.1312433407250468,
          -0.18047861897329853,
          -0.772626615251416,
          0.3228290458457046,
          -0.3876374046636482,
          0.1833422829766309,
          1.9087468843804094,
          -0.15516628138100658,
          -1.4163623544697346,
          0.6147553608766299,
          0.6285689877845728,
          0.46983514730252834,
          -1.891043424119729,
          -0.41109171089752206,
          -0.19882089607141482,
          0.26050507326347166,
          -0.021940889213982018,
          0.35818838870948727,
          0.8607668916844468,
          -0.76838927683406,
          -0.627976710508572,
          -0.6366917226484422,
          0.04068231456785195,
          1.0800854230491712,
          -0.5362280813309173,
          0.9978930275747946,
          -1.7791250497361506,
          -0.677962460840107,
          0.7572816499590634,
          -0.287425248846891,
          -0.47888022308913814,
          -1.1274959646162466,
          0.2324095143049378,
          0.8683229396351135,
          1.829117056821466,
          -1.816751591989605,
          -0.5924861572089956,
          0.8017402458379345,
          -1.4002762640497939
         ]
        }
       ],
       "layout": {
        "legend": {
         "bgcolor": "#F5F6F9",
         "font": {
          "color": "#4D5663"
         }
        },
        "paper_bgcolor": "#F5F6F9",
        "plot_bgcolor": "#F5F6F9",
        "template": {
         "data": {
          "bar": [
           {
            "error_x": {
             "color": "#2a3f5f"
            },
            "error_y": {
             "color": "#2a3f5f"
            },
            "marker": {
             "line": {
              "color": "#E5ECF6",
              "width": 0.5
             }
            },
            "type": "bar"
           }
          ],
          "barpolar": [
           {
            "marker": {
             "line": {
              "color": "#E5ECF6",
              "width": 0.5
             }
            },
            "type": "barpolar"
           }
          ],
          "carpet": [
           {
            "aaxis": {
             "endlinecolor": "#2a3f5f",
             "gridcolor": "white",
             "linecolor": "white",
             "minorgridcolor": "white",
             "startlinecolor": "#2a3f5f"
            },
            "baxis": {
             "endlinecolor": "#2a3f5f",
             "gridcolor": "white",
             "linecolor": "white",
             "minorgridcolor": "white",
             "startlinecolor": "#2a3f5f"
            },
            "type": "carpet"
           }
          ],
          "choropleth": [
           {
            "colorbar": {
             "outlinewidth": 0,
             "ticks": ""
            },
            "type": "choropleth"
           }
          ],
          "contour": [
           {
            "colorbar": {
             "outlinewidth": 0,
             "ticks": ""
            },
            "colorscale": [
             [
              0,
              "#0d0887"
             ],
             [
              0.1111111111111111,
              "#46039f"
             ],
             [
              0.2222222222222222,
              "#7201a8"
             ],
             [
              0.3333333333333333,
              "#9c179e"
             ],
             [
              0.4444444444444444,
              "#bd3786"
             ],
             [
              0.5555555555555556,
              "#d8576b"
             ],
             [
              0.6666666666666666,
              "#ed7953"
             ],
             [
              0.7777777777777778,
              "#fb9f3a"
             ],
             [
              0.8888888888888888,
              "#fdca26"
             ],
             [
              1,
              "#f0f921"
             ]
            ],
            "type": "contour"
           }
          ],
          "contourcarpet": [
           {
            "colorbar": {
             "outlinewidth": 0,
             "ticks": ""
            },
            "type": "contourcarpet"
           }
          ],
          "heatmap": [
           {
            "colorbar": {
             "outlinewidth": 0,
             "ticks": ""
            },
            "colorscale": [
             [
              0,
              "#0d0887"
             ],
             [
              0.1111111111111111,
              "#46039f"
             ],
             [
              0.2222222222222222,
              "#7201a8"
             ],
             [
              0.3333333333333333,
              "#9c179e"
             ],
             [
              0.4444444444444444,
              "#bd3786"
             ],
             [
              0.5555555555555556,
              "#d8576b"
             ],
             [
              0.6666666666666666,
              "#ed7953"
             ],
             [
              0.7777777777777778,
              "#fb9f3a"
             ],
             [
              0.8888888888888888,
              "#fdca26"
             ],
             [
              1,
              "#f0f921"
             ]
            ],
            "type": "heatmap"
           }
          ],
          "heatmapgl": [
           {
            "colorbar": {
             "outlinewidth": 0,
             "ticks": ""
            },
            "colorscale": [
             [
              0,
              "#0d0887"
             ],
             [
              0.1111111111111111,
              "#46039f"
             ],
             [
              0.2222222222222222,
              "#7201a8"
             ],
             [
              0.3333333333333333,
              "#9c179e"
             ],
             [
              0.4444444444444444,
              "#bd3786"
             ],
             [
              0.5555555555555556,
              "#d8576b"
             ],
             [
              0.6666666666666666,
              "#ed7953"
             ],
             [
              0.7777777777777778,
              "#fb9f3a"
             ],
             [
              0.8888888888888888,
              "#fdca26"
             ],
             [
              1,
              "#f0f921"
             ]
            ],
            "type": "heatmapgl"
           }
          ],
          "histogram": [
           {
            "marker": {
             "colorbar": {
              "outlinewidth": 0,
              "ticks": ""
             }
            },
            "type": "histogram"
           }
          ],
          "histogram2d": [
           {
            "colorbar": {
             "outlinewidth": 0,
             "ticks": ""
            },
            "colorscale": [
             [
              0,
              "#0d0887"
             ],
             [
              0.1111111111111111,
              "#46039f"
             ],
             [
              0.2222222222222222,
              "#7201a8"
             ],
             [
              0.3333333333333333,
              "#9c179e"
             ],
             [
              0.4444444444444444,
              "#bd3786"
             ],
             [
              0.5555555555555556,
              "#d8576b"
             ],
             [
              0.6666666666666666,
              "#ed7953"
             ],
             [
              0.7777777777777778,
              "#fb9f3a"
             ],
             [
              0.8888888888888888,
              "#fdca26"
             ],
             [
              1,
              "#f0f921"
             ]
            ],
            "type": "histogram2d"
           }
          ],
          "histogram2dcontour": [
           {
            "colorbar": {
             "outlinewidth": 0,
             "ticks": ""
            },
            "colorscale": [
             [
              0,
              "#0d0887"
             ],
             [
              0.1111111111111111,
              "#46039f"
             ],
             [
              0.2222222222222222,
              "#7201a8"
             ],
             [
              0.3333333333333333,
              "#9c179e"
             ],
             [
              0.4444444444444444,
              "#bd3786"
             ],
             [
              0.5555555555555556,
              "#d8576b"
             ],
             [
              0.6666666666666666,
              "#ed7953"
             ],
             [
              0.7777777777777778,
              "#fb9f3a"
             ],
             [
              0.8888888888888888,
              "#fdca26"
             ],
             [
              1,
              "#f0f921"
             ]
            ],
            "type": "histogram2dcontour"
           }
          ],
          "mesh3d": [
           {
            "colorbar": {
             "outlinewidth": 0,
             "ticks": ""
            },
            "type": "mesh3d"
           }
          ],
          "parcoords": [
           {
            "line": {
             "colorbar": {
              "outlinewidth": 0,
              "ticks": ""
             }
            },
            "type": "parcoords"
           }
          ],
          "pie": [
           {
            "automargin": true,
            "type": "pie"
           }
          ],
          "scatter": [
           {
            "marker": {
             "colorbar": {
              "outlinewidth": 0,
              "ticks": ""
             }
            },
            "type": "scatter"
           }
          ],
          "scatter3d": [
           {
            "line": {
             "colorbar": {
              "outlinewidth": 0,
              "ticks": ""
             }
            },
            "marker": {
             "colorbar": {
              "outlinewidth": 0,
              "ticks": ""
             }
            },
            "type": "scatter3d"
           }
          ],
          "scattercarpet": [
           {
            "marker": {
             "colorbar": {
              "outlinewidth": 0,
              "ticks": ""
             }
            },
            "type": "scattercarpet"
           }
          ],
          "scattergeo": [
           {
            "marker": {
             "colorbar": {
              "outlinewidth": 0,
              "ticks": ""
             }
            },
            "type": "scattergeo"
           }
          ],
          "scattergl": [
           {
            "marker": {
             "colorbar": {
              "outlinewidth": 0,
              "ticks": ""
             }
            },
            "type": "scattergl"
           }
          ],
          "scattermapbox": [
           {
            "marker": {
             "colorbar": {
              "outlinewidth": 0,
              "ticks": ""
             }
            },
            "type": "scattermapbox"
           }
          ],
          "scatterpolar": [
           {
            "marker": {
             "colorbar": {
              "outlinewidth": 0,
              "ticks": ""
             }
            },
            "type": "scatterpolar"
           }
          ],
          "scatterpolargl": [
           {
            "marker": {
             "colorbar": {
              "outlinewidth": 0,
              "ticks": ""
             }
            },
            "type": "scatterpolargl"
           }
          ],
          "scatterternary": [
           {
            "marker": {
             "colorbar": {
              "outlinewidth": 0,
              "ticks": ""
             }
            },
            "type": "scatterternary"
           }
          ],
          "surface": [
           {
            "colorbar": {
             "outlinewidth": 0,
             "ticks": ""
            },
            "colorscale": [
             [
              0,
              "#0d0887"
             ],
             [
              0.1111111111111111,
              "#46039f"
             ],
             [
              0.2222222222222222,
              "#7201a8"
             ],
             [
              0.3333333333333333,
              "#9c179e"
             ],
             [
              0.4444444444444444,
              "#bd3786"
             ],
             [
              0.5555555555555556,
              "#d8576b"
             ],
             [
              0.6666666666666666,
              "#ed7953"
             ],
             [
              0.7777777777777778,
              "#fb9f3a"
             ],
             [
              0.8888888888888888,
              "#fdca26"
             ],
             [
              1,
              "#f0f921"
             ]
            ],
            "type": "surface"
           }
          ],
          "table": [
           {
            "cells": {
             "fill": {
              "color": "#EBF0F8"
             },
             "line": {
              "color": "white"
             }
            },
            "header": {
             "fill": {
              "color": "#C8D4E3"
             },
             "line": {
              "color": "white"
             }
            },
            "type": "table"
           }
          ]
         },
         "layout": {
          "annotationdefaults": {
           "arrowcolor": "#2a3f5f",
           "arrowhead": 0,
           "arrowwidth": 1
          },
          "coloraxis": {
           "colorbar": {
            "outlinewidth": 0,
            "ticks": ""
           }
          },
          "colorscale": {
           "diverging": [
            [
             0,
             "#8e0152"
            ],
            [
             0.1,
             "#c51b7d"
            ],
            [
             0.2,
             "#de77ae"
            ],
            [
             0.3,
             "#f1b6da"
            ],
            [
             0.4,
             "#fde0ef"
            ],
            [
             0.5,
             "#f7f7f7"
            ],
            [
             0.6,
             "#e6f5d0"
            ],
            [
             0.7,
             "#b8e186"
            ],
            [
             0.8,
             "#7fbc41"
            ],
            [
             0.9,
             "#4d9221"
            ],
            [
             1,
             "#276419"
            ]
           ],
           "sequential": [
            [
             0,
             "#0d0887"
            ],
            [
             0.1111111111111111,
             "#46039f"
            ],
            [
             0.2222222222222222,
             "#7201a8"
            ],
            [
             0.3333333333333333,
             "#9c179e"
            ],
            [
             0.4444444444444444,
             "#bd3786"
            ],
            [
             0.5555555555555556,
             "#d8576b"
            ],
            [
             0.6666666666666666,
             "#ed7953"
            ],
            [
             0.7777777777777778,
             "#fb9f3a"
            ],
            [
             0.8888888888888888,
             "#fdca26"
            ],
            [
             1,
             "#f0f921"
            ]
           ],
           "sequentialminus": [
            [
             0,
             "#0d0887"
            ],
            [
             0.1111111111111111,
             "#46039f"
            ],
            [
             0.2222222222222222,
             "#7201a8"
            ],
            [
             0.3333333333333333,
             "#9c179e"
            ],
            [
             0.4444444444444444,
             "#bd3786"
            ],
            [
             0.5555555555555556,
             "#d8576b"
            ],
            [
             0.6666666666666666,
             "#ed7953"
            ],
            [
             0.7777777777777778,
             "#fb9f3a"
            ],
            [
             0.8888888888888888,
             "#fdca26"
            ],
            [
             1,
             "#f0f921"
            ]
           ]
          },
          "colorway": [
           "#636efa",
           "#EF553B",
           "#00cc96",
           "#ab63fa",
           "#FFA15A",
           "#19d3f3",
           "#FF6692",
           "#B6E880",
           "#FF97FF",
           "#FECB52"
          ],
          "font": {
           "color": "#2a3f5f"
          },
          "geo": {
           "bgcolor": "white",
           "lakecolor": "white",
           "landcolor": "#E5ECF6",
           "showlakes": true,
           "showland": true,
           "subunitcolor": "white"
          },
          "hoverlabel": {
           "align": "left"
          },
          "hovermode": "closest",
          "mapbox": {
           "style": "light"
          },
          "paper_bgcolor": "white",
          "plot_bgcolor": "#E5ECF6",
          "polar": {
           "angularaxis": {
            "gridcolor": "white",
            "linecolor": "white",
            "ticks": ""
           },
           "bgcolor": "#E5ECF6",
           "radialaxis": {
            "gridcolor": "white",
            "linecolor": "white",
            "ticks": ""
           }
          },
          "scene": {
           "xaxis": {
            "backgroundcolor": "#E5ECF6",
            "gridcolor": "white",
            "gridwidth": 2,
            "linecolor": "white",
            "showbackground": true,
            "ticks": "",
            "zerolinecolor": "white"
           },
           "yaxis": {
            "backgroundcolor": "#E5ECF6",
            "gridcolor": "white",
            "gridwidth": 2,
            "linecolor": "white",
            "showbackground": true,
            "ticks": "",
            "zerolinecolor": "white"
           },
           "zaxis": {
            "backgroundcolor": "#E5ECF6",
            "gridcolor": "white",
            "gridwidth": 2,
            "linecolor": "white",
            "showbackground": true,
            "ticks": "",
            "zerolinecolor": "white"
           }
          },
          "shapedefaults": {
           "line": {
            "color": "#2a3f5f"
           }
          },
          "ternary": {
           "aaxis": {
            "gridcolor": "white",
            "linecolor": "white",
            "ticks": ""
           },
           "baxis": {
            "gridcolor": "white",
            "linecolor": "white",
            "ticks": ""
           },
           "bgcolor": "#E5ECF6",
           "caxis": {
            "gridcolor": "white",
            "linecolor": "white",
            "ticks": ""
           }
          },
          "title": {
           "x": 0.05
          },
          "xaxis": {
           "automargin": true,
           "gridcolor": "white",
           "linecolor": "white",
           "ticks": "",
           "title": {
            "standoff": 15
           },
           "zerolinecolor": "white",
           "zerolinewidth": 2
          },
          "yaxis": {
           "automargin": true,
           "gridcolor": "white",
           "linecolor": "white",
           "ticks": "",
           "title": {
            "standoff": 15
           },
           "zerolinecolor": "white",
           "zerolinewidth": 2
          }
         }
        },
        "title": {
         "font": {
          "color": "#4D5663"
         }
        },
        "xaxis": {
         "gridcolor": "#E1E5ED",
         "showgrid": true,
         "tickfont": {
          "color": "#4D5663"
         },
         "title": {
          "font": {
           "color": "#4D5663"
          },
          "text": ""
         },
         "zerolinecolor": "#E1E5ED"
        },
        "yaxis": {
         "gridcolor": "#E1E5ED",
         "showgrid": true,
         "tickfont": {
          "color": "#4D5663"
         },
         "title": {
          "font": {
           "color": "#4D5663"
          },
          "text": ""
         },
         "zerolinecolor": "#E1E5ED"
        }
       }
      },
      "text/html": [
       "<div>\n",
       "        \n",
       "        \n",
       "            <div id=\"4ba9327c-dfd4-4c7d-b734-397ae9a01ecd\" class=\"plotly-graph-div\" style=\"height:525px; width:100%;\"></div>\n",
       "            <script type=\"text/javascript\">\n",
       "                require([\"plotly\"], function(Plotly) {\n",
       "                    window.PLOTLYENV=window.PLOTLYENV || {};\n",
       "                    window.PLOTLYENV.BASE_URL='https://plot.ly';\n",
       "                    \n",
       "                if (document.getElementById(\"4ba9327c-dfd4-4c7d-b734-397ae9a01ecd\")) {\n",
       "                    Plotly.newPlot(\n",
       "                        '4ba9327c-dfd4-4c7d-b734-397ae9a01ecd',\n",
       "                        [{\"marker\": {\"color\": [\"rgb(255, 153, 51)\", \"rgb(55, 128, 191)\", \"rgb(50, 171, 96)\", \"rgb(128, 0, 128)\", \"rgb(219, 64, 82)\", \"rgb(0, 128, 128)\", \"rgb(255, 255, 51)\", \"rgb(128, 128, 0)\", \"rgb(251, 128, 114)\", \"rgb(128, 177, 211)\"], \"line\": {\"width\": 1.3}, \"size\": [74, 57, 71, 88, 78, 60, 84, 100, 59, 54, 73, 77, 67, 86, 49, 57, 69, 51, 100, 70, 73, 66, 62, 73, 63, 47, 37, 57, 63, 72, 43, 105, 74, 26, 73, 61, 95, 65, 63, 68, 74, 68, 81, 73, 74, 80, 42, 76, 72, 95, 84, 78, 68, 66, 66, 97, 68, 68, 63, 87, 79, 84, 57, 109, 89, 65, 60, 48, 79, 94, 64, 72, 60, 68, 82, 84, 34, 85, 53, 65, 91, 12, 101, 85, 112, 76, 74, 82, 59, 102, 64, 64, 41, 51, 80, 85, 82, 57, 82, 86], \"symbol\": \"circle\"}, \"mode\": \"markers\", \"text\": \"\", \"type\": \"scatter\", \"x\": [1.9072310072255976, 0.45664251731057026, 1.8735593319249753, -1.2764623848263121, 1.3628530085372335, -0.4325085498941139, -2.130565106550025, -0.3478882665499311, -1.8065591069816318, 1.2802855972530267, 0.9099690101147678, -0.7254302350257974, -1.357689466572614, -0.2924728207932572, -0.6520631482874802, 0.004148547838381575, 0.6844015451212803, 0.4768351538690697, 0.6533129371097708, -0.8033735902053046, 0.10436594645935798, 0.5988000624309174, -0.6343639773656216, -0.13527773819219185, -0.20256767414639978, -0.015873236886170233, 1.0333180007396285, 0.6233280465126437, 1.8054087268203456, -0.3483139337287294, -1.6450789071911471, -0.07367633128762816, 0.9661664795196275, -3.554540119417503, -0.3517884347890016, -0.011080518665749637, 0.621422551146316, -1.2531579594339688, -0.10051082015301586, -0.24054607341946016, -0.3839538033661071, -1.0575974259826995, -1.752757339947482, 0.2774973963127115, -1.4494616998409102, 0.16015295976718663, -1.5104556329789018, -0.8063273303499235, -0.3947630414938095, 0.43441231346843795, 1.226504273411426, 0.2024939514122735, -0.00835533148028108, -0.36256325006618495, 0.5359156853817274, -1.0969121025292958, 0.43187469434509806, 0.8496889764272824, -1.2082731388454349, -1.7089121213718867, -0.5170724026485997, -0.03994284400890909, -0.25932188432990816, 0.07953898183032124, 1.0458832881768172, -1.9579149340336046, 0.5453127632430007, 1.854844673262272, -2.5673923034531083, -0.09091067989192657, -0.3884470822677006, -1.8469698500964709, -1.5158324196916066, -0.38138223397344256, -0.05805129919084255, 1.087493238981735, 0.7534415222757022, -0.6284540050680987, -0.38751599288043437, -1.2084618045487636, 0.0514634408368774, -1.082918557354612, -0.4992107264311093, -1.9452028837154631, 0.7273056387902339, -0.8955610849268126, -0.8234617655936936, 0.532065163647017, -1.1028862381850142, -1.7582423251578894, -1.3791246147712828, 0.10042152710117103, -0.5716713526590748, -0.9735284618191417, -0.058716214204821274, 0.5119956539665943, 0.11718988426468993, 0.006329341436323806, -0.620841952508306, 0.8187717540053973], \"y\": [0.5397341984256421, 1.4273648820401585, -0.2699470460701567, -0.009205707259470066, 0.38245509704051034, -0.6121410983025236, 1.471122536385358, 0.008852038627531702, -1.0322725314491903, 0.8203466329622852, 0.40274543333508517, 1.1710113832309024, -0.8490119147891786, 0.37012452704623977, 0.6727839097825701, -0.7146490926729023, -1.1710925815152915, 0.829667151217231, 1.6254325510413408, -0.03523386729780477, 0.8344690832208976, -0.013325006634558746, 0.731317913467702, -0.34730864357214936, 0.43023502387456686, 1.4329446581756315, -0.7491845032709245, 0.3510417309197764, 0.14083899715516177, -1.1861006093411341, 0.06372821563374959, -0.5482268710062057, 0.5358156468037663, 1.860518121810859, 1.0586200684408351, -0.0639731090133942, -0.08212677769362468, -1.3644617085653952, 2.306486236434318, 0.2299424870881697, 0.277553325627394, -0.7310389683951801, 0.7855790026429404, 1.991062673583806, 0.42083892064389616, 0.3312184872102766, -0.948280317204048, -0.9568068650540437, 0.06219846171557773, -0.6894903418517699, 0.9426582104357005, -0.6549530029210485, -0.27693993710331516, 0.5794679612177993, -0.17445332930955162, 1.973689765686015, -1.1221081740462968, -0.5689439814189605, -0.812476104079502, 2.106994461930286, 0.32736395155534453, 0.1312433407250468, -0.18047861897329853, -0.772626615251416, 0.3228290458457046, -0.3876374046636482, 0.1833422829766309, 1.9087468843804094, -0.15516628138100658, -1.4163623544697346, 0.6147553608766299, 0.6285689877845728, 0.46983514730252834, -1.891043424119729, -0.41109171089752206, -0.19882089607141482, 0.26050507326347166, -0.021940889213982018, 0.35818838870948727, 0.8607668916844468, -0.76838927683406, -0.627976710508572, -0.6366917226484422, 0.04068231456785195, 1.0800854230491712, -0.5362280813309173, 0.9978930275747946, -1.7791250497361506, -0.677962460840107, 0.7572816499590634, -0.287425248846891, -0.47888022308913814, -1.1274959646162466, 0.2324095143049378, 0.8683229396351135, 1.829117056821466, -1.816751591989605, -0.5924861572089956, 0.8017402458379345, -1.4002762640497939]}],\n",
       "                        {\"legend\": {\"bgcolor\": \"#F5F6F9\", \"font\": {\"color\": \"#4D5663\"}}, \"paper_bgcolor\": \"#F5F6F9\", \"plot_bgcolor\": \"#F5F6F9\", \"template\": {\"data\": {\"bar\": [{\"error_x\": {\"color\": \"#2a3f5f\"}, \"error_y\": {\"color\": \"#2a3f5f\"}, \"marker\": {\"line\": {\"color\": \"#E5ECF6\", \"width\": 0.5}}, \"type\": \"bar\"}], \"barpolar\": [{\"marker\": {\"line\": {\"color\": \"#E5ECF6\", \"width\": 0.5}}, \"type\": \"barpolar\"}], \"carpet\": [{\"aaxis\": {\"endlinecolor\": \"#2a3f5f\", \"gridcolor\": \"white\", \"linecolor\": \"white\", \"minorgridcolor\": \"white\", \"startlinecolor\": \"#2a3f5f\"}, \"baxis\": {\"endlinecolor\": \"#2a3f5f\", \"gridcolor\": \"white\", \"linecolor\": \"white\", \"minorgridcolor\": \"white\", \"startlinecolor\": \"#2a3f5f\"}, \"type\": \"carpet\"}], \"choropleth\": [{\"colorbar\": {\"outlinewidth\": 0, \"ticks\": \"\"}, \"type\": \"choropleth\"}], \"contour\": [{\"colorbar\": {\"outlinewidth\": 0, \"ticks\": \"\"}, \"colorscale\": [[0.0, \"#0d0887\"], [0.1111111111111111, \"#46039f\"], [0.2222222222222222, \"#7201a8\"], [0.3333333333333333, \"#9c179e\"], [0.4444444444444444, \"#bd3786\"], [0.5555555555555556, \"#d8576b\"], [0.6666666666666666, \"#ed7953\"], [0.7777777777777778, \"#fb9f3a\"], [0.8888888888888888, \"#fdca26\"], [1.0, \"#f0f921\"]], \"type\": \"contour\"}], \"contourcarpet\": [{\"colorbar\": {\"outlinewidth\": 0, \"ticks\": \"\"}, \"type\": \"contourcarpet\"}], \"heatmap\": [{\"colorbar\": {\"outlinewidth\": 0, \"ticks\": \"\"}, \"colorscale\": [[0.0, \"#0d0887\"], [0.1111111111111111, \"#46039f\"], [0.2222222222222222, \"#7201a8\"], [0.3333333333333333, \"#9c179e\"], [0.4444444444444444, \"#bd3786\"], [0.5555555555555556, \"#d8576b\"], [0.6666666666666666, \"#ed7953\"], [0.7777777777777778, \"#fb9f3a\"], [0.8888888888888888, \"#fdca26\"], [1.0, \"#f0f921\"]], \"type\": \"heatmap\"}], \"heatmapgl\": [{\"colorbar\": {\"outlinewidth\": 0, \"ticks\": \"\"}, \"colorscale\": [[0.0, \"#0d0887\"], [0.1111111111111111, \"#46039f\"], [0.2222222222222222, \"#7201a8\"], [0.3333333333333333, \"#9c179e\"], [0.4444444444444444, \"#bd3786\"], [0.5555555555555556, \"#d8576b\"], [0.6666666666666666, \"#ed7953\"], [0.7777777777777778, \"#fb9f3a\"], [0.8888888888888888, \"#fdca26\"], [1.0, \"#f0f921\"]], \"type\": \"heatmapgl\"}], \"histogram\": [{\"marker\": {\"colorbar\": {\"outlinewidth\": 0, \"ticks\": \"\"}}, \"type\": \"histogram\"}], \"histogram2d\": [{\"colorbar\": {\"outlinewidth\": 0, \"ticks\": \"\"}, \"colorscale\": [[0.0, \"#0d0887\"], [0.1111111111111111, \"#46039f\"], [0.2222222222222222, \"#7201a8\"], [0.3333333333333333, \"#9c179e\"], [0.4444444444444444, \"#bd3786\"], [0.5555555555555556, \"#d8576b\"], [0.6666666666666666, \"#ed7953\"], [0.7777777777777778, \"#fb9f3a\"], [0.8888888888888888, \"#fdca26\"], [1.0, \"#f0f921\"]], \"type\": \"histogram2d\"}], \"histogram2dcontour\": [{\"colorbar\": {\"outlinewidth\": 0, \"ticks\": \"\"}, \"colorscale\": [[0.0, \"#0d0887\"], [0.1111111111111111, \"#46039f\"], [0.2222222222222222, \"#7201a8\"], [0.3333333333333333, \"#9c179e\"], [0.4444444444444444, \"#bd3786\"], [0.5555555555555556, \"#d8576b\"], [0.6666666666666666, \"#ed7953\"], [0.7777777777777778, \"#fb9f3a\"], [0.8888888888888888, \"#fdca26\"], [1.0, \"#f0f921\"]], \"type\": \"histogram2dcontour\"}], \"mesh3d\": [{\"colorbar\": {\"outlinewidth\": 0, \"ticks\": \"\"}, \"type\": \"mesh3d\"}], \"parcoords\": [{\"line\": {\"colorbar\": {\"outlinewidth\": 0, \"ticks\": \"\"}}, \"type\": \"parcoords\"}], \"pie\": [{\"automargin\": true, \"type\": \"pie\"}], \"scatter\": [{\"marker\": {\"colorbar\": {\"outlinewidth\": 0, \"ticks\": \"\"}}, \"type\": \"scatter\"}], \"scatter3d\": [{\"line\": {\"colorbar\": {\"outlinewidth\": 0, \"ticks\": \"\"}}, \"marker\": {\"colorbar\": {\"outlinewidth\": 0, \"ticks\": \"\"}}, \"type\": \"scatter3d\"}], \"scattercarpet\": [{\"marker\": {\"colorbar\": {\"outlinewidth\": 0, \"ticks\": \"\"}}, \"type\": \"scattercarpet\"}], \"scattergeo\": [{\"marker\": {\"colorbar\": {\"outlinewidth\": 0, \"ticks\": \"\"}}, \"type\": \"scattergeo\"}], \"scattergl\": [{\"marker\": {\"colorbar\": {\"outlinewidth\": 0, \"ticks\": \"\"}}, \"type\": \"scattergl\"}], \"scattermapbox\": [{\"marker\": {\"colorbar\": {\"outlinewidth\": 0, \"ticks\": \"\"}}, \"type\": \"scattermapbox\"}], \"scatterpolar\": [{\"marker\": {\"colorbar\": {\"outlinewidth\": 0, \"ticks\": \"\"}}, \"type\": \"scatterpolar\"}], \"scatterpolargl\": [{\"marker\": {\"colorbar\": {\"outlinewidth\": 0, \"ticks\": \"\"}}, \"type\": \"scatterpolargl\"}], \"scatterternary\": [{\"marker\": {\"colorbar\": {\"outlinewidth\": 0, \"ticks\": \"\"}}, \"type\": \"scatterternary\"}], \"surface\": [{\"colorbar\": {\"outlinewidth\": 0, \"ticks\": \"\"}, \"colorscale\": [[0.0, \"#0d0887\"], [0.1111111111111111, \"#46039f\"], [0.2222222222222222, \"#7201a8\"], [0.3333333333333333, \"#9c179e\"], [0.4444444444444444, \"#bd3786\"], [0.5555555555555556, \"#d8576b\"], [0.6666666666666666, \"#ed7953\"], [0.7777777777777778, \"#fb9f3a\"], [0.8888888888888888, \"#fdca26\"], [1.0, \"#f0f921\"]], \"type\": \"surface\"}], \"table\": [{\"cells\": {\"fill\": {\"color\": \"#EBF0F8\"}, \"line\": {\"color\": \"white\"}}, \"header\": {\"fill\": {\"color\": \"#C8D4E3\"}, \"line\": {\"color\": \"white\"}}, \"type\": \"table\"}]}, \"layout\": {\"annotationdefaults\": {\"arrowcolor\": \"#2a3f5f\", \"arrowhead\": 0, \"arrowwidth\": 1}, \"coloraxis\": {\"colorbar\": {\"outlinewidth\": 0, \"ticks\": \"\"}}, \"colorscale\": {\"diverging\": [[0, \"#8e0152\"], [0.1, \"#c51b7d\"], [0.2, \"#de77ae\"], [0.3, \"#f1b6da\"], [0.4, \"#fde0ef\"], [0.5, \"#f7f7f7\"], [0.6, \"#e6f5d0\"], [0.7, \"#b8e186\"], [0.8, \"#7fbc41\"], [0.9, \"#4d9221\"], [1, \"#276419\"]], \"sequential\": [[0.0, \"#0d0887\"], [0.1111111111111111, \"#46039f\"], [0.2222222222222222, \"#7201a8\"], [0.3333333333333333, \"#9c179e\"], [0.4444444444444444, \"#bd3786\"], [0.5555555555555556, \"#d8576b\"], [0.6666666666666666, \"#ed7953\"], [0.7777777777777778, \"#fb9f3a\"], [0.8888888888888888, \"#fdca26\"], [1.0, \"#f0f921\"]], \"sequentialminus\": [[0.0, \"#0d0887\"], [0.1111111111111111, \"#46039f\"], [0.2222222222222222, \"#7201a8\"], [0.3333333333333333, \"#9c179e\"], [0.4444444444444444, \"#bd3786\"], [0.5555555555555556, \"#d8576b\"], [0.6666666666666666, \"#ed7953\"], [0.7777777777777778, \"#fb9f3a\"], [0.8888888888888888, \"#fdca26\"], [1.0, \"#f0f921\"]]}, \"colorway\": [\"#636efa\", \"#EF553B\", \"#00cc96\", \"#ab63fa\", \"#FFA15A\", \"#19d3f3\", \"#FF6692\", \"#B6E880\", \"#FF97FF\", \"#FECB52\"], \"font\": {\"color\": \"#2a3f5f\"}, \"geo\": {\"bgcolor\": \"white\", \"lakecolor\": \"white\", \"landcolor\": \"#E5ECF6\", \"showlakes\": true, \"showland\": true, \"subunitcolor\": \"white\"}, \"hoverlabel\": {\"align\": \"left\"}, \"hovermode\": \"closest\", \"mapbox\": {\"style\": \"light\"}, \"paper_bgcolor\": \"white\", \"plot_bgcolor\": \"#E5ECF6\", \"polar\": {\"angularaxis\": {\"gridcolor\": \"white\", \"linecolor\": \"white\", \"ticks\": \"\"}, \"bgcolor\": \"#E5ECF6\", \"radialaxis\": {\"gridcolor\": \"white\", \"linecolor\": \"white\", \"ticks\": \"\"}}, \"scene\": {\"xaxis\": {\"backgroundcolor\": \"#E5ECF6\", \"gridcolor\": \"white\", \"gridwidth\": 2, \"linecolor\": \"white\", \"showbackground\": true, \"ticks\": \"\", \"zerolinecolor\": \"white\"}, \"yaxis\": {\"backgroundcolor\": \"#E5ECF6\", \"gridcolor\": \"white\", \"gridwidth\": 2, \"linecolor\": \"white\", \"showbackground\": true, \"ticks\": \"\", \"zerolinecolor\": \"white\"}, \"zaxis\": {\"backgroundcolor\": \"#E5ECF6\", \"gridcolor\": \"white\", \"gridwidth\": 2, \"linecolor\": \"white\", \"showbackground\": true, \"ticks\": \"\", \"zerolinecolor\": \"white\"}}, \"shapedefaults\": {\"line\": {\"color\": \"#2a3f5f\"}}, \"ternary\": {\"aaxis\": {\"gridcolor\": \"white\", \"linecolor\": \"white\", \"ticks\": \"\"}, \"baxis\": {\"gridcolor\": \"white\", \"linecolor\": \"white\", \"ticks\": \"\"}, \"bgcolor\": \"#E5ECF6\", \"caxis\": {\"gridcolor\": \"white\", \"linecolor\": \"white\", \"ticks\": \"\"}}, \"title\": {\"x\": 0.05}, \"xaxis\": {\"automargin\": true, \"gridcolor\": \"white\", \"linecolor\": \"white\", \"ticks\": \"\", \"title\": {\"standoff\": 15}, \"zerolinecolor\": \"white\", \"zerolinewidth\": 2}, \"yaxis\": {\"automargin\": true, \"gridcolor\": \"white\", \"linecolor\": \"white\", \"ticks\": \"\", \"title\": {\"standoff\": 15}, \"zerolinecolor\": \"white\", \"zerolinewidth\": 2}}}, \"title\": {\"font\": {\"color\": \"#4D5663\"}}, \"xaxis\": {\"gridcolor\": \"#E1E5ED\", \"showgrid\": true, \"tickfont\": {\"color\": \"#4D5663\"}, \"title\": {\"font\": {\"color\": \"#4D5663\"}, \"text\": \"\"}, \"zerolinecolor\": \"#E1E5ED\"}, \"yaxis\": {\"gridcolor\": \"#E1E5ED\", \"showgrid\": true, \"tickfont\": {\"color\": \"#4D5663\"}, \"title\": {\"font\": {\"color\": \"#4D5663\"}, \"text\": \"\"}, \"zerolinecolor\": \"#E1E5ED\"}},\n",
       "                        {\"showLink\": true, \"linkText\": \"Export to plot.ly\", \"plotlyServerURL\": \"https://plot.ly\", \"responsive\": true}\n",
       "                    ).then(function(){\n",
       "                            \n",
       "var gd = document.getElementById('4ba9327c-dfd4-4c7d-b734-397ae9a01ecd');\n",
       "var x = new MutationObserver(function (mutations, observer) {{\n",
       "        var display = window.getComputedStyle(gd).display;\n",
       "        if (!display || display === 'none') {{\n",
       "            console.log([gd, 'removed!']);\n",
       "            Plotly.purge(gd);\n",
       "            observer.disconnect();\n",
       "        }}\n",
       "}});\n",
       "\n",
       "// Listen for the removal of the full notebook cells\n",
       "var notebookContainer = gd.closest('#notebook-container');\n",
       "if (notebookContainer) {{\n",
       "    x.observe(notebookContainer, {childList: true});\n",
       "}}\n",
       "\n",
       "// Listen for the clearing of the current output cell\n",
       "var outputEl = gd.closest('.output');\n",
       "if (outputEl) {{\n",
       "    x.observe(outputEl, {childList: true});\n",
       "}}\n",
       "\n",
       "                        })\n",
       "                };\n",
       "                });\n",
       "            </script>\n",
       "        </div>"
      ]
     },
     "metadata": {},
     "output_type": "display_data"
    }
   ],
   "source": [
    "# bubble plot, same as scatter plot, but it changes the size of the points based on other column\n",
    "df.iplot(kind='bubble',x='A',y='B',size='C')"
   ]
  },
  {
   "cell_type": "code",
   "execution_count": 43,
   "metadata": {},
   "outputs": [
    {
     "data": {
      "application/vnd.plotly.v1+json": {
       "config": {
        "linkText": "Export to plot.ly",
        "plotlyServerURL": "https://plot.ly",
        "showLink": true
       },
       "data": [
        {
         "histfunc": "count",
         "histnorm": "",
         "marker": {
          "color": "rgba(255, 153, 51, 1.0)",
          "line": {
           "color": "#4D5663",
           "width": 1.3
          }
         },
         "name": "A",
         "nbinsx": 10,
         "opacity": 0.8,
         "orientation": "v",
         "type": "histogram",
         "x": [
          1.9072310072255976,
          0.45664251731057026,
          1.8735593319249753,
          -1.2764623848263121,
          1.3628530085372335,
          -0.4325085498941139,
          -2.130565106550025,
          -0.3478882665499311,
          -1.8065591069816318,
          1.2802855972530267,
          0.9099690101147678,
          -0.7254302350257974,
          -1.357689466572614,
          -0.2924728207932572,
          -0.6520631482874802,
          0.004148547838381575,
          0.6844015451212803,
          0.4768351538690697,
          0.6533129371097708,
          -0.8033735902053046,
          0.10436594645935798,
          0.5988000624309174,
          -0.6343639773656216,
          -0.13527773819219185,
          -0.20256767414639978,
          -0.015873236886170233,
          1.0333180007396285,
          0.6233280465126437,
          1.8054087268203456,
          -0.3483139337287294,
          -1.6450789071911471,
          -0.07367633128762816,
          0.9661664795196275,
          -3.554540119417503,
          -0.3517884347890016,
          -0.011080518665749637,
          0.621422551146316,
          -1.2531579594339688,
          -0.10051082015301586,
          -0.24054607341946016,
          -0.3839538033661071,
          -1.0575974259826995,
          -1.752757339947482,
          0.2774973963127115,
          -1.4494616998409102,
          0.16015295976718663,
          -1.5104556329789018,
          -0.8063273303499235,
          -0.3947630414938095,
          0.43441231346843795,
          1.226504273411426,
          0.2024939514122735,
          -0.00835533148028108,
          -0.36256325006618495,
          0.5359156853817274,
          -1.0969121025292958,
          0.43187469434509806,
          0.8496889764272824,
          -1.2082731388454349,
          -1.7089121213718867,
          -0.5170724026485997,
          -0.03994284400890909,
          -0.25932188432990816,
          0.07953898183032124,
          1.0458832881768172,
          -1.9579149340336046,
          0.5453127632430007,
          1.854844673262272,
          -2.5673923034531083,
          -0.09091067989192657,
          -0.3884470822677006,
          -1.8469698500964709,
          -1.5158324196916066,
          -0.38138223397344256,
          -0.05805129919084255,
          1.087493238981735,
          0.7534415222757022,
          -0.6284540050680987,
          -0.38751599288043437,
          -1.2084618045487636,
          0.0514634408368774,
          -1.082918557354612,
          -0.4992107264311093,
          -1.9452028837154631,
          0.7273056387902339,
          -0.8955610849268126,
          -0.8234617655936936,
          0.532065163647017,
          -1.1028862381850142,
          -1.7582423251578894,
          -1.3791246147712828,
          0.10042152710117103,
          -0.5716713526590748,
          -0.9735284618191417,
          -0.058716214204821274,
          0.5119956539665943,
          0.11718988426468993,
          0.006329341436323806,
          -0.620841952508306,
          0.8187717540053973
         ],
         "xaxis": "x",
         "yaxis": "y"
        },
        {
         "line": {
          "color": "rgba(128, 128, 128, 1.0)",
          "dash": "solid",
          "shape": "linear",
          "width": 1.3
         },
         "marker": {
          "size": 2,
          "symbol": "circle"
         },
         "mode": "markers",
         "name": "A",
         "text": "",
         "type": "scatter",
         "x": [
          0.5397341984256421,
          1.4273648820401585,
          -0.2699470460701567,
          -0.009205707259470066,
          0.38245509704051034,
          -0.6121410983025236,
          1.471122536385358,
          0.008852038627531702,
          -1.0322725314491903,
          0.8203466329622852,
          0.40274543333508517,
          1.1710113832309024,
          -0.8490119147891786,
          0.37012452704623977,
          0.6727839097825701,
          -0.7146490926729023,
          -1.1710925815152915,
          0.829667151217231,
          1.6254325510413408,
          -0.03523386729780477,
          0.8344690832208976,
          -0.013325006634558746,
          0.731317913467702,
          -0.34730864357214936,
          0.43023502387456686,
          1.4329446581756315,
          -0.7491845032709245,
          0.3510417309197764,
          0.14083899715516177,
          -1.1861006093411341,
          0.06372821563374959,
          -0.5482268710062057,
          0.5358156468037663,
          1.860518121810859,
          1.0586200684408351,
          -0.0639731090133942,
          -0.08212677769362468,
          -1.3644617085653952,
          2.306486236434318,
          0.2299424870881697,
          0.277553325627394,
          -0.7310389683951801,
          0.7855790026429404,
          1.991062673583806,
          0.42083892064389616,
          0.3312184872102766,
          -0.948280317204048,
          -0.9568068650540437,
          0.06219846171557773,
          -0.6894903418517699,
          0.9426582104357005,
          -0.6549530029210485,
          -0.27693993710331516,
          0.5794679612177993,
          -0.17445332930955162,
          1.973689765686015,
          -1.1221081740462968,
          -0.5689439814189605,
          -0.812476104079502,
          2.106994461930286,
          0.32736395155534453,
          0.1312433407250468,
          -0.18047861897329853,
          -0.772626615251416,
          0.3228290458457046,
          -0.3876374046636482,
          0.1833422829766309,
          1.9087468843804094,
          -0.15516628138100658,
          -1.4163623544697346,
          0.6147553608766299,
          0.6285689877845728,
          0.46983514730252834,
          -1.891043424119729,
          -0.41109171089752206,
          -0.19882089607141482,
          0.26050507326347166,
          -0.021940889213982018,
          0.35818838870948727,
          0.8607668916844468,
          -0.76838927683406,
          -0.627976710508572,
          -0.6366917226484422,
          0.04068231456785195,
          1.0800854230491712,
          -0.5362280813309173,
          0.9978930275747946,
          -1.7791250497361506,
          -0.677962460840107,
          0.7572816499590634,
          -0.287425248846891,
          -0.47888022308913814,
          -1.1274959646162466,
          0.2324095143049378,
          0.8683229396351135,
          1.829117056821466,
          -1.816751591989605,
          -0.5924861572089956,
          0.8017402458379345,
          -1.4002762640497939
         ],
         "xaxis": "x2",
         "y": [
          1.9072310072255976,
          0.45664251731057026,
          1.8735593319249753,
          -1.2764623848263121,
          1.3628530085372335,
          -0.4325085498941139,
          -2.130565106550025,
          -0.3478882665499311,
          -1.8065591069816318,
          1.2802855972530267,
          0.9099690101147678,
          -0.7254302350257974,
          -1.357689466572614,
          -0.2924728207932572,
          -0.6520631482874802,
          0.004148547838381575,
          0.6844015451212803,
          0.4768351538690697,
          0.6533129371097708,
          -0.8033735902053046,
          0.10436594645935798,
          0.5988000624309174,
          -0.6343639773656216,
          -0.13527773819219185,
          -0.20256767414639978,
          -0.015873236886170233,
          1.0333180007396285,
          0.6233280465126437,
          1.8054087268203456,
          -0.3483139337287294,
          -1.6450789071911471,
          -0.07367633128762816,
          0.9661664795196275,
          -3.554540119417503,
          -0.3517884347890016,
          -0.011080518665749637,
          0.621422551146316,
          -1.2531579594339688,
          -0.10051082015301586,
          -0.24054607341946016,
          -0.3839538033661071,
          -1.0575974259826995,
          -1.752757339947482,
          0.2774973963127115,
          -1.4494616998409102,
          0.16015295976718663,
          -1.5104556329789018,
          -0.8063273303499235,
          -0.3947630414938095,
          0.43441231346843795,
          1.226504273411426,
          0.2024939514122735,
          -0.00835533148028108,
          -0.36256325006618495,
          0.5359156853817274,
          -1.0969121025292958,
          0.43187469434509806,
          0.8496889764272824,
          -1.2082731388454349,
          -1.7089121213718867,
          -0.5170724026485997,
          -0.03994284400890909,
          -0.25932188432990816,
          0.07953898183032124,
          1.0458832881768172,
          -1.9579149340336046,
          0.5453127632430007,
          1.854844673262272,
          -2.5673923034531083,
          -0.09091067989192657,
          -0.3884470822677006,
          -1.8469698500964709,
          -1.5158324196916066,
          -0.38138223397344256,
          -0.05805129919084255,
          1.087493238981735,
          0.7534415222757022,
          -0.6284540050680987,
          -0.38751599288043437,
          -1.2084618045487636,
          0.0514634408368774,
          -1.082918557354612,
          -0.4992107264311093,
          -1.9452028837154631,
          0.7273056387902339,
          -0.8955610849268126,
          -0.8234617655936936,
          0.532065163647017,
          -1.1028862381850142,
          -1.7582423251578894,
          -1.3791246147712828,
          0.10042152710117103,
          -0.5716713526590748,
          -0.9735284618191417,
          -0.058716214204821274,
          0.5119956539665943,
          0.11718988426468993,
          0.006329341436323806,
          -0.620841952508306,
          0.8187717540053973
         ],
         "yaxis": "y2"
        },
        {
         "line": {
          "color": "rgba(128, 128, 128, 1.0)",
          "dash": "solid",
          "shape": "linear",
          "width": 1.3
         },
         "marker": {
          "size": 2,
          "symbol": "circle"
         },
         "mode": "markers",
         "name": "A",
         "text": "",
         "type": "scatter",
         "x": [
          0.1290518449288295,
          -0.8942693898422739,
          -0.0603885969808389,
          0.8888571827253696,
          0.3303216544253686,
          -0.6962016615371871,
          0.6847180896334788,
          1.634685536133902,
          -0.7768311097265821,
          -1.0497817281496105,
          0.04260478899227552,
          0.2838691156189989,
          -0.2912038460934214,
          0.81625304472437,
          -1.3331321265578724,
          -0.911191847865561,
          -0.19687587859455705,
          -1.2485335063985736,
          1.6254466265754193,
          -0.13264571807983716,
          0.029233385616819835,
          -0.3835662646984012,
          -0.5998151436263172,
          0.06629171046788511,
          -0.5334147456940839,
          -1.4752559631396605,
          -2.043165615565392,
          -0.9073109239546666,
          -0.5635336272430629,
          -0.008789992072936102,
          -1.7101997598000038,
          1.918910794788815,
          0.12651018891030594,
          -2.6736508129888765,
          0.04090428461982828,
          -0.6267744176315131,
          1.3335525230802128,
          -0.4120113575547163,
          -0.5594431836696315,
          -0.22065240576609835,
          0.12305168424365334,
          -0.22595737428925225,
          0.5349659874982043,
          0.04224545942985787,
          0.08866425256121034,
          0.45401509544651464,
          -1.7797491351659889,
          0.19668438010122313,
          -0.004817687438065632,
          1.3282039365181113,
          0.7042870811841475,
          0.32056053960947095,
          -0.26560675795858235,
          -0.3716990673752184,
          -0.3452507209114012,
          1.44433585382595,
          -0.25495549926528543,
          -0.24335827103759927,
          -0.5360389588075302,
          0.8772550092169797,
          0.36905944121709056,
          0.687483714658491,
          -0.8763895837530766,
          2.151432620163798,
          0.9758341259438752,
          -0.4232591087195389,
          -0.7263409692947592,
          -1.4283884300059841,
          0.3749006863824324,
          1.2615256423879257,
          -0.47739720739320624,
          0.007655163420542726,
          -0.7326569236558824,
          -0.23816640030265812,
          0.5891064824477343,
          0.6667209587695969,
          -2.2238868518942123,
          0.7101794040876726,
          -1.1067475414415793,
          -0.43368631367219096,
          1.1127113699512454,
          -3.5180754076422085,
          1.6894351549143032,
          0.7375479091898545,
          2.273084648207982,
          0.2093410158696672,
          0.1275858696546415,
          0.5877413023474375,
          -0.7730905034289465,
          1.6960758468267494,
          -0.4795135980211943,
          -0.4670536994748242,
          -1.7923554266762372,
          -1.2489568643422548,
          0.4584963812339756,
          0.7321164288932169,
          0.5720135489933249,
          -0.8741127283123019,
          0.5753286511533514,
          0.7941319134540555
         ],
         "xaxis": "x3",
         "y": [
          1.9072310072255976,
          0.45664251731057026,
          1.8735593319249753,
          -1.2764623848263121,
          1.3628530085372335,
          -0.4325085498941139,
          -2.130565106550025,
          -0.3478882665499311,
          -1.8065591069816318,
          1.2802855972530267,
          0.9099690101147678,
          -0.7254302350257974,
          -1.357689466572614,
          -0.2924728207932572,
          -0.6520631482874802,
          0.004148547838381575,
          0.6844015451212803,
          0.4768351538690697,
          0.6533129371097708,
          -0.8033735902053046,
          0.10436594645935798,
          0.5988000624309174,
          -0.6343639773656216,
          -0.13527773819219185,
          -0.20256767414639978,
          -0.015873236886170233,
          1.0333180007396285,
          0.6233280465126437,
          1.8054087268203456,
          -0.3483139337287294,
          -1.6450789071911471,
          -0.07367633128762816,
          0.9661664795196275,
          -3.554540119417503,
          -0.3517884347890016,
          -0.011080518665749637,
          0.621422551146316,
          -1.2531579594339688,
          -0.10051082015301586,
          -0.24054607341946016,
          -0.3839538033661071,
          -1.0575974259826995,
          -1.752757339947482,
          0.2774973963127115,
          -1.4494616998409102,
          0.16015295976718663,
          -1.5104556329789018,
          -0.8063273303499235,
          -0.3947630414938095,
          0.43441231346843795,
          1.226504273411426,
          0.2024939514122735,
          -0.00835533148028108,
          -0.36256325006618495,
          0.5359156853817274,
          -1.0969121025292958,
          0.43187469434509806,
          0.8496889764272824,
          -1.2082731388454349,
          -1.7089121213718867,
          -0.5170724026485997,
          -0.03994284400890909,
          -0.25932188432990816,
          0.07953898183032124,
          1.0458832881768172,
          -1.9579149340336046,
          0.5453127632430007,
          1.854844673262272,
          -2.5673923034531083,
          -0.09091067989192657,
          -0.3884470822677006,
          -1.8469698500964709,
          -1.5158324196916066,
          -0.38138223397344256,
          -0.05805129919084255,
          1.087493238981735,
          0.7534415222757022,
          -0.6284540050680987,
          -0.38751599288043437,
          -1.2084618045487636,
          0.0514634408368774,
          -1.082918557354612,
          -0.4992107264311093,
          -1.9452028837154631,
          0.7273056387902339,
          -0.8955610849268126,
          -0.8234617655936936,
          0.532065163647017,
          -1.1028862381850142,
          -1.7582423251578894,
          -1.3791246147712828,
          0.10042152710117103,
          -0.5716713526590748,
          -0.9735284618191417,
          -0.058716214204821274,
          0.5119956539665943,
          0.11718988426468993,
          0.006329341436323806,
          -0.620841952508306,
          0.8187717540053973
         ],
         "yaxis": "y3"
        },
        {
         "line": {
          "color": "rgba(128, 128, 128, 1.0)",
          "dash": "solid",
          "shape": "linear",
          "width": 1.3
         },
         "marker": {
          "size": 2,
          "symbol": "circle"
         },
         "mode": "markers",
         "name": "A",
         "text": "",
         "type": "scatter",
         "x": [
          -1.98391637917484,
          0.7709525668191602,
          1.035419861330941,
          1.4417704578205035,
          -0.08896422052327554,
          0.17092025951416737,
          -2.1080136681225032,
          -1.5250922351857676,
          -0.026762787820439168,
          1.0998460693649141,
          0.23091058917948548,
          0.6325655245214455,
          1.5835804818769312,
          -0.11428329863210708,
          -2.2778561659483683,
          0.891607490588241,
          0.31025493453159747,
          -0.8377068774275928,
          -0.807822956343638,
          0.8518053651312106,
          0.21457144606777215,
          1.0315235223368702,
          -1.5243672016317151,
          1.6683287308670112,
          -2.7931280269506984,
          0.6940655689111038,
          1.9623415527581394,
          -0.7624118235995387,
          -0.20056846446995488,
          -0.6501963503967874,
          0.9884059568672299,
          -1.633055927710676,
          -0.2494597122289142,
          0.8714462386930537,
          -1.0646442724071206,
          0.149190137888478,
          0.10274451793225345,
          0.03370701950596059,
          0.42813908436603065,
          -0.48177266293926635,
          -0.8879242106159551,
          0.23221415955640232,
          0.6842347650504285,
          -0.10955251785708613,
          0.4867956662898185,
          -0.7054283503401905,
          0.06474989591599337,
          -0.7876540054494298,
          0.5343136394302063,
          0.042684352308633405,
          -0.16673198141396978,
          1.7112143089213487,
          -0.38324163790884314,
          1.2098094860548758,
          1.8915333419114813,
          -0.661764747587267,
          0.25871649531212054,
          -0.4705028898091924,
          0.9897176320289679,
          -0.15343691337338916,
          0.42192977920907715,
          -0.12430850661724739,
          0.5981619565209743,
          0.482735136064605,
          -1.1030235985469987,
          1.242240587844812,
          -0.6021944852896283,
          -1.054917278224973,
          0.15523086441313563,
          -1.6450536445743458,
          -0.5380979389961633,
          -0.17748978975832785,
          -0.6296565012042219,
          0.3373686044484245,
          -1.1803469192277745,
          -0.967283447322248,
          -0.5570452871077222,
          -1.5746819791076703,
          0.7529814075319013,
          -0.9005719235209542,
          -0.5444797659642279,
          -1.2654592599808787,
          0.01627521893794739,
          0.7535658105375982,
          -0.20653782340574864,
          -0.37983754807719283,
          -0.6997601308318075,
          -0.325757900081184,
          0.4129298817199609,
          0.46756150246359696,
          -1.1029938903553604,
          -0.3530223408861881,
          1.0456733358176729,
          -0.4518373908910548,
          -0.9629326506667446,
          0.5473940570622489,
          -0.027340882510283653,
          -1.3424921764772848,
          0.07934729391308067,
          -0.41255363718070104
         ],
         "xaxis": "x4",
         "y": [
          1.9072310072255976,
          0.45664251731057026,
          1.8735593319249753,
          -1.2764623848263121,
          1.3628530085372335,
          -0.4325085498941139,
          -2.130565106550025,
          -0.3478882665499311,
          -1.8065591069816318,
          1.2802855972530267,
          0.9099690101147678,
          -0.7254302350257974,
          -1.357689466572614,
          -0.2924728207932572,
          -0.6520631482874802,
          0.004148547838381575,
          0.6844015451212803,
          0.4768351538690697,
          0.6533129371097708,
          -0.8033735902053046,
          0.10436594645935798,
          0.5988000624309174,
          -0.6343639773656216,
          -0.13527773819219185,
          -0.20256767414639978,
          -0.015873236886170233,
          1.0333180007396285,
          0.6233280465126437,
          1.8054087268203456,
          -0.3483139337287294,
          -1.6450789071911471,
          -0.07367633128762816,
          0.9661664795196275,
          -3.554540119417503,
          -0.3517884347890016,
          -0.011080518665749637,
          0.621422551146316,
          -1.2531579594339688,
          -0.10051082015301586,
          -0.24054607341946016,
          -0.3839538033661071,
          -1.0575974259826995,
          -1.752757339947482,
          0.2774973963127115,
          -1.4494616998409102,
          0.16015295976718663,
          -1.5104556329789018,
          -0.8063273303499235,
          -0.3947630414938095,
          0.43441231346843795,
          1.226504273411426,
          0.2024939514122735,
          -0.00835533148028108,
          -0.36256325006618495,
          0.5359156853817274,
          -1.0969121025292958,
          0.43187469434509806,
          0.8496889764272824,
          -1.2082731388454349,
          -1.7089121213718867,
          -0.5170724026485997,
          -0.03994284400890909,
          -0.25932188432990816,
          0.07953898183032124,
          1.0458832881768172,
          -1.9579149340336046,
          0.5453127632430007,
          1.854844673262272,
          -2.5673923034531083,
          -0.09091067989192657,
          -0.3884470822677006,
          -1.8469698500964709,
          -1.5158324196916066,
          -0.38138223397344256,
          -0.05805129919084255,
          1.087493238981735,
          0.7534415222757022,
          -0.6284540050680987,
          -0.38751599288043437,
          -1.2084618045487636,
          0.0514634408368774,
          -1.082918557354612,
          -0.4992107264311093,
          -1.9452028837154631,
          0.7273056387902339,
          -0.8955610849268126,
          -0.8234617655936936,
          0.532065163647017,
          -1.1028862381850142,
          -1.7582423251578894,
          -1.3791246147712828,
          0.10042152710117103,
          -0.5716713526590748,
          -0.9735284618191417,
          -0.058716214204821274,
          0.5119956539665943,
          0.11718988426468993,
          0.006329341436323806,
          -0.620841952508306,
          0.8187717540053973
         ],
         "yaxis": "y4"
        },
        {
         "line": {
          "color": "rgba(128, 128, 128, 1.0)",
          "dash": "solid",
          "shape": "linear",
          "width": 1.3
         },
         "marker": {
          "size": 2,
          "symbol": "circle"
         },
         "mode": "markers",
         "name": "B",
         "text": "",
         "type": "scatter",
         "x": [
          1.9072310072255976,
          0.45664251731057026,
          1.8735593319249753,
          -1.2764623848263121,
          1.3628530085372335,
          -0.4325085498941139,
          -2.130565106550025,
          -0.3478882665499311,
          -1.8065591069816318,
          1.2802855972530267,
          0.9099690101147678,
          -0.7254302350257974,
          -1.357689466572614,
          -0.2924728207932572,
          -0.6520631482874802,
          0.004148547838381575,
          0.6844015451212803,
          0.4768351538690697,
          0.6533129371097708,
          -0.8033735902053046,
          0.10436594645935798,
          0.5988000624309174,
          -0.6343639773656216,
          -0.13527773819219185,
          -0.20256767414639978,
          -0.015873236886170233,
          1.0333180007396285,
          0.6233280465126437,
          1.8054087268203456,
          -0.3483139337287294,
          -1.6450789071911471,
          -0.07367633128762816,
          0.9661664795196275,
          -3.554540119417503,
          -0.3517884347890016,
          -0.011080518665749637,
          0.621422551146316,
          -1.2531579594339688,
          -0.10051082015301586,
          -0.24054607341946016,
          -0.3839538033661071,
          -1.0575974259826995,
          -1.752757339947482,
          0.2774973963127115,
          -1.4494616998409102,
          0.16015295976718663,
          -1.5104556329789018,
          -0.8063273303499235,
          -0.3947630414938095,
          0.43441231346843795,
          1.226504273411426,
          0.2024939514122735,
          -0.00835533148028108,
          -0.36256325006618495,
          0.5359156853817274,
          -1.0969121025292958,
          0.43187469434509806,
          0.8496889764272824,
          -1.2082731388454349,
          -1.7089121213718867,
          -0.5170724026485997,
          -0.03994284400890909,
          -0.25932188432990816,
          0.07953898183032124,
          1.0458832881768172,
          -1.9579149340336046,
          0.5453127632430007,
          1.854844673262272,
          -2.5673923034531083,
          -0.09091067989192657,
          -0.3884470822677006,
          -1.8469698500964709,
          -1.5158324196916066,
          -0.38138223397344256,
          -0.05805129919084255,
          1.087493238981735,
          0.7534415222757022,
          -0.6284540050680987,
          -0.38751599288043437,
          -1.2084618045487636,
          0.0514634408368774,
          -1.082918557354612,
          -0.4992107264311093,
          -1.9452028837154631,
          0.7273056387902339,
          -0.8955610849268126,
          -0.8234617655936936,
          0.532065163647017,
          -1.1028862381850142,
          -1.7582423251578894,
          -1.3791246147712828,
          0.10042152710117103,
          -0.5716713526590748,
          -0.9735284618191417,
          -0.058716214204821274,
          0.5119956539665943,
          0.11718988426468993,
          0.006329341436323806,
          -0.620841952508306,
          0.8187717540053973
         ],
         "xaxis": "x5",
         "y": [
          0.5397341984256421,
          1.4273648820401585,
          -0.2699470460701567,
          -0.009205707259470066,
          0.38245509704051034,
          -0.6121410983025236,
          1.471122536385358,
          0.008852038627531702,
          -1.0322725314491903,
          0.8203466329622852,
          0.40274543333508517,
          1.1710113832309024,
          -0.8490119147891786,
          0.37012452704623977,
          0.6727839097825701,
          -0.7146490926729023,
          -1.1710925815152915,
          0.829667151217231,
          1.6254325510413408,
          -0.03523386729780477,
          0.8344690832208976,
          -0.013325006634558746,
          0.731317913467702,
          -0.34730864357214936,
          0.43023502387456686,
          1.4329446581756315,
          -0.7491845032709245,
          0.3510417309197764,
          0.14083899715516177,
          -1.1861006093411341,
          0.06372821563374959,
          -0.5482268710062057,
          0.5358156468037663,
          1.860518121810859,
          1.0586200684408351,
          -0.0639731090133942,
          -0.08212677769362468,
          -1.3644617085653952,
          2.306486236434318,
          0.2299424870881697,
          0.277553325627394,
          -0.7310389683951801,
          0.7855790026429404,
          1.991062673583806,
          0.42083892064389616,
          0.3312184872102766,
          -0.948280317204048,
          -0.9568068650540437,
          0.06219846171557773,
          -0.6894903418517699,
          0.9426582104357005,
          -0.6549530029210485,
          -0.27693993710331516,
          0.5794679612177993,
          -0.17445332930955162,
          1.973689765686015,
          -1.1221081740462968,
          -0.5689439814189605,
          -0.812476104079502,
          2.106994461930286,
          0.32736395155534453,
          0.1312433407250468,
          -0.18047861897329853,
          -0.772626615251416,
          0.3228290458457046,
          -0.3876374046636482,
          0.1833422829766309,
          1.9087468843804094,
          -0.15516628138100658,
          -1.4163623544697346,
          0.6147553608766299,
          0.6285689877845728,
          0.46983514730252834,
          -1.891043424119729,
          -0.41109171089752206,
          -0.19882089607141482,
          0.26050507326347166,
          -0.021940889213982018,
          0.35818838870948727,
          0.8607668916844468,
          -0.76838927683406,
          -0.627976710508572,
          -0.6366917226484422,
          0.04068231456785195,
          1.0800854230491712,
          -0.5362280813309173,
          0.9978930275747946,
          -1.7791250497361506,
          -0.677962460840107,
          0.7572816499590634,
          -0.287425248846891,
          -0.47888022308913814,
          -1.1274959646162466,
          0.2324095143049378,
          0.8683229396351135,
          1.829117056821466,
          -1.816751591989605,
          -0.5924861572089956,
          0.8017402458379345,
          -1.4002762640497939
         ],
         "yaxis": "y5"
        },
        {
         "histfunc": "count",
         "histnorm": "",
         "marker": {
          "color": "rgba(55, 128, 191, 1.0)",
          "line": {
           "color": "#4D5663",
           "width": 1.3
          }
         },
         "name": "B",
         "nbinsx": 10,
         "opacity": 0.8,
         "orientation": "v",
         "type": "histogram",
         "x": [
          0.5397341984256421,
          1.4273648820401585,
          -0.2699470460701567,
          -0.009205707259470066,
          0.38245509704051034,
          -0.6121410983025236,
          1.471122536385358,
          0.008852038627531702,
          -1.0322725314491903,
          0.8203466329622852,
          0.40274543333508517,
          1.1710113832309024,
          -0.8490119147891786,
          0.37012452704623977,
          0.6727839097825701,
          -0.7146490926729023,
          -1.1710925815152915,
          0.829667151217231,
          1.6254325510413408,
          -0.03523386729780477,
          0.8344690832208976,
          -0.013325006634558746,
          0.731317913467702,
          -0.34730864357214936,
          0.43023502387456686,
          1.4329446581756315,
          -0.7491845032709245,
          0.3510417309197764,
          0.14083899715516177,
          -1.1861006093411341,
          0.06372821563374959,
          -0.5482268710062057,
          0.5358156468037663,
          1.860518121810859,
          1.0586200684408351,
          -0.0639731090133942,
          -0.08212677769362468,
          -1.3644617085653952,
          2.306486236434318,
          0.2299424870881697,
          0.277553325627394,
          -0.7310389683951801,
          0.7855790026429404,
          1.991062673583806,
          0.42083892064389616,
          0.3312184872102766,
          -0.948280317204048,
          -0.9568068650540437,
          0.06219846171557773,
          -0.6894903418517699,
          0.9426582104357005,
          -0.6549530029210485,
          -0.27693993710331516,
          0.5794679612177993,
          -0.17445332930955162,
          1.973689765686015,
          -1.1221081740462968,
          -0.5689439814189605,
          -0.812476104079502,
          2.106994461930286,
          0.32736395155534453,
          0.1312433407250468,
          -0.18047861897329853,
          -0.772626615251416,
          0.3228290458457046,
          -0.3876374046636482,
          0.1833422829766309,
          1.9087468843804094,
          -0.15516628138100658,
          -1.4163623544697346,
          0.6147553608766299,
          0.6285689877845728,
          0.46983514730252834,
          -1.891043424119729,
          -0.41109171089752206,
          -0.19882089607141482,
          0.26050507326347166,
          -0.021940889213982018,
          0.35818838870948727,
          0.8607668916844468,
          -0.76838927683406,
          -0.627976710508572,
          -0.6366917226484422,
          0.04068231456785195,
          1.0800854230491712,
          -0.5362280813309173,
          0.9978930275747946,
          -1.7791250497361506,
          -0.677962460840107,
          0.7572816499590634,
          -0.287425248846891,
          -0.47888022308913814,
          -1.1274959646162466,
          0.2324095143049378,
          0.8683229396351135,
          1.829117056821466,
          -1.816751591989605,
          -0.5924861572089956,
          0.8017402458379345,
          -1.4002762640497939
         ],
         "xaxis": "x6",
         "yaxis": "y6"
        },
        {
         "line": {
          "color": "rgba(128, 128, 128, 1.0)",
          "dash": "solid",
          "shape": "linear",
          "width": 1.3
         },
         "marker": {
          "size": 2,
          "symbol": "circle"
         },
         "mode": "markers",
         "name": "B",
         "text": "",
         "type": "scatter",
         "x": [
          0.1290518449288295,
          -0.8942693898422739,
          -0.0603885969808389,
          0.8888571827253696,
          0.3303216544253686,
          -0.6962016615371871,
          0.6847180896334788,
          1.634685536133902,
          -0.7768311097265821,
          -1.0497817281496105,
          0.04260478899227552,
          0.2838691156189989,
          -0.2912038460934214,
          0.81625304472437,
          -1.3331321265578724,
          -0.911191847865561,
          -0.19687587859455705,
          -1.2485335063985736,
          1.6254466265754193,
          -0.13264571807983716,
          0.029233385616819835,
          -0.3835662646984012,
          -0.5998151436263172,
          0.06629171046788511,
          -0.5334147456940839,
          -1.4752559631396605,
          -2.043165615565392,
          -0.9073109239546666,
          -0.5635336272430629,
          -0.008789992072936102,
          -1.7101997598000038,
          1.918910794788815,
          0.12651018891030594,
          -2.6736508129888765,
          0.04090428461982828,
          -0.6267744176315131,
          1.3335525230802128,
          -0.4120113575547163,
          -0.5594431836696315,
          -0.22065240576609835,
          0.12305168424365334,
          -0.22595737428925225,
          0.5349659874982043,
          0.04224545942985787,
          0.08866425256121034,
          0.45401509544651464,
          -1.7797491351659889,
          0.19668438010122313,
          -0.004817687438065632,
          1.3282039365181113,
          0.7042870811841475,
          0.32056053960947095,
          -0.26560675795858235,
          -0.3716990673752184,
          -0.3452507209114012,
          1.44433585382595,
          -0.25495549926528543,
          -0.24335827103759927,
          -0.5360389588075302,
          0.8772550092169797,
          0.36905944121709056,
          0.687483714658491,
          -0.8763895837530766,
          2.151432620163798,
          0.9758341259438752,
          -0.4232591087195389,
          -0.7263409692947592,
          -1.4283884300059841,
          0.3749006863824324,
          1.2615256423879257,
          -0.47739720739320624,
          0.007655163420542726,
          -0.7326569236558824,
          -0.23816640030265812,
          0.5891064824477343,
          0.6667209587695969,
          -2.2238868518942123,
          0.7101794040876726,
          -1.1067475414415793,
          -0.43368631367219096,
          1.1127113699512454,
          -3.5180754076422085,
          1.6894351549143032,
          0.7375479091898545,
          2.273084648207982,
          0.2093410158696672,
          0.1275858696546415,
          0.5877413023474375,
          -0.7730905034289465,
          1.6960758468267494,
          -0.4795135980211943,
          -0.4670536994748242,
          -1.7923554266762372,
          -1.2489568643422548,
          0.4584963812339756,
          0.7321164288932169,
          0.5720135489933249,
          -0.8741127283123019,
          0.5753286511533514,
          0.7941319134540555
         ],
         "xaxis": "x7",
         "y": [
          0.5397341984256421,
          1.4273648820401585,
          -0.2699470460701567,
          -0.009205707259470066,
          0.38245509704051034,
          -0.6121410983025236,
          1.471122536385358,
          0.008852038627531702,
          -1.0322725314491903,
          0.8203466329622852,
          0.40274543333508517,
          1.1710113832309024,
          -0.8490119147891786,
          0.37012452704623977,
          0.6727839097825701,
          -0.7146490926729023,
          -1.1710925815152915,
          0.829667151217231,
          1.6254325510413408,
          -0.03523386729780477,
          0.8344690832208976,
          -0.013325006634558746,
          0.731317913467702,
          -0.34730864357214936,
          0.43023502387456686,
          1.4329446581756315,
          -0.7491845032709245,
          0.3510417309197764,
          0.14083899715516177,
          -1.1861006093411341,
          0.06372821563374959,
          -0.5482268710062057,
          0.5358156468037663,
          1.860518121810859,
          1.0586200684408351,
          -0.0639731090133942,
          -0.08212677769362468,
          -1.3644617085653952,
          2.306486236434318,
          0.2299424870881697,
          0.277553325627394,
          -0.7310389683951801,
          0.7855790026429404,
          1.991062673583806,
          0.42083892064389616,
          0.3312184872102766,
          -0.948280317204048,
          -0.9568068650540437,
          0.06219846171557773,
          -0.6894903418517699,
          0.9426582104357005,
          -0.6549530029210485,
          -0.27693993710331516,
          0.5794679612177993,
          -0.17445332930955162,
          1.973689765686015,
          -1.1221081740462968,
          -0.5689439814189605,
          -0.812476104079502,
          2.106994461930286,
          0.32736395155534453,
          0.1312433407250468,
          -0.18047861897329853,
          -0.772626615251416,
          0.3228290458457046,
          -0.3876374046636482,
          0.1833422829766309,
          1.9087468843804094,
          -0.15516628138100658,
          -1.4163623544697346,
          0.6147553608766299,
          0.6285689877845728,
          0.46983514730252834,
          -1.891043424119729,
          -0.41109171089752206,
          -0.19882089607141482,
          0.26050507326347166,
          -0.021940889213982018,
          0.35818838870948727,
          0.8607668916844468,
          -0.76838927683406,
          -0.627976710508572,
          -0.6366917226484422,
          0.04068231456785195,
          1.0800854230491712,
          -0.5362280813309173,
          0.9978930275747946,
          -1.7791250497361506,
          -0.677962460840107,
          0.7572816499590634,
          -0.287425248846891,
          -0.47888022308913814,
          -1.1274959646162466,
          0.2324095143049378,
          0.8683229396351135,
          1.829117056821466,
          -1.816751591989605,
          -0.5924861572089956,
          0.8017402458379345,
          -1.4002762640497939
         ],
         "yaxis": "y7"
        },
        {
         "line": {
          "color": "rgba(128, 128, 128, 1.0)",
          "dash": "solid",
          "shape": "linear",
          "width": 1.3
         },
         "marker": {
          "size": 2,
          "symbol": "circle"
         },
         "mode": "markers",
         "name": "B",
         "text": "",
         "type": "scatter",
         "x": [
          -1.98391637917484,
          0.7709525668191602,
          1.035419861330941,
          1.4417704578205035,
          -0.08896422052327554,
          0.17092025951416737,
          -2.1080136681225032,
          -1.5250922351857676,
          -0.026762787820439168,
          1.0998460693649141,
          0.23091058917948548,
          0.6325655245214455,
          1.5835804818769312,
          -0.11428329863210708,
          -2.2778561659483683,
          0.891607490588241,
          0.31025493453159747,
          -0.8377068774275928,
          -0.807822956343638,
          0.8518053651312106,
          0.21457144606777215,
          1.0315235223368702,
          -1.5243672016317151,
          1.6683287308670112,
          -2.7931280269506984,
          0.6940655689111038,
          1.9623415527581394,
          -0.7624118235995387,
          -0.20056846446995488,
          -0.6501963503967874,
          0.9884059568672299,
          -1.633055927710676,
          -0.2494597122289142,
          0.8714462386930537,
          -1.0646442724071206,
          0.149190137888478,
          0.10274451793225345,
          0.03370701950596059,
          0.42813908436603065,
          -0.48177266293926635,
          -0.8879242106159551,
          0.23221415955640232,
          0.6842347650504285,
          -0.10955251785708613,
          0.4867956662898185,
          -0.7054283503401905,
          0.06474989591599337,
          -0.7876540054494298,
          0.5343136394302063,
          0.042684352308633405,
          -0.16673198141396978,
          1.7112143089213487,
          -0.38324163790884314,
          1.2098094860548758,
          1.8915333419114813,
          -0.661764747587267,
          0.25871649531212054,
          -0.4705028898091924,
          0.9897176320289679,
          -0.15343691337338916,
          0.42192977920907715,
          -0.12430850661724739,
          0.5981619565209743,
          0.482735136064605,
          -1.1030235985469987,
          1.242240587844812,
          -0.6021944852896283,
          -1.054917278224973,
          0.15523086441313563,
          -1.6450536445743458,
          -0.5380979389961633,
          -0.17748978975832785,
          -0.6296565012042219,
          0.3373686044484245,
          -1.1803469192277745,
          -0.967283447322248,
          -0.5570452871077222,
          -1.5746819791076703,
          0.7529814075319013,
          -0.9005719235209542,
          -0.5444797659642279,
          -1.2654592599808787,
          0.01627521893794739,
          0.7535658105375982,
          -0.20653782340574864,
          -0.37983754807719283,
          -0.6997601308318075,
          -0.325757900081184,
          0.4129298817199609,
          0.46756150246359696,
          -1.1029938903553604,
          -0.3530223408861881,
          1.0456733358176729,
          -0.4518373908910548,
          -0.9629326506667446,
          0.5473940570622489,
          -0.027340882510283653,
          -1.3424921764772848,
          0.07934729391308067,
          -0.41255363718070104
         ],
         "xaxis": "x8",
         "y": [
          0.5397341984256421,
          1.4273648820401585,
          -0.2699470460701567,
          -0.009205707259470066,
          0.38245509704051034,
          -0.6121410983025236,
          1.471122536385358,
          0.008852038627531702,
          -1.0322725314491903,
          0.8203466329622852,
          0.40274543333508517,
          1.1710113832309024,
          -0.8490119147891786,
          0.37012452704623977,
          0.6727839097825701,
          -0.7146490926729023,
          -1.1710925815152915,
          0.829667151217231,
          1.6254325510413408,
          -0.03523386729780477,
          0.8344690832208976,
          -0.013325006634558746,
          0.731317913467702,
          -0.34730864357214936,
          0.43023502387456686,
          1.4329446581756315,
          -0.7491845032709245,
          0.3510417309197764,
          0.14083899715516177,
          -1.1861006093411341,
          0.06372821563374959,
          -0.5482268710062057,
          0.5358156468037663,
          1.860518121810859,
          1.0586200684408351,
          -0.0639731090133942,
          -0.08212677769362468,
          -1.3644617085653952,
          2.306486236434318,
          0.2299424870881697,
          0.277553325627394,
          -0.7310389683951801,
          0.7855790026429404,
          1.991062673583806,
          0.42083892064389616,
          0.3312184872102766,
          -0.948280317204048,
          -0.9568068650540437,
          0.06219846171557773,
          -0.6894903418517699,
          0.9426582104357005,
          -0.6549530029210485,
          -0.27693993710331516,
          0.5794679612177993,
          -0.17445332930955162,
          1.973689765686015,
          -1.1221081740462968,
          -0.5689439814189605,
          -0.812476104079502,
          2.106994461930286,
          0.32736395155534453,
          0.1312433407250468,
          -0.18047861897329853,
          -0.772626615251416,
          0.3228290458457046,
          -0.3876374046636482,
          0.1833422829766309,
          1.9087468843804094,
          -0.15516628138100658,
          -1.4163623544697346,
          0.6147553608766299,
          0.6285689877845728,
          0.46983514730252834,
          -1.891043424119729,
          -0.41109171089752206,
          -0.19882089607141482,
          0.26050507326347166,
          -0.021940889213982018,
          0.35818838870948727,
          0.8607668916844468,
          -0.76838927683406,
          -0.627976710508572,
          -0.6366917226484422,
          0.04068231456785195,
          1.0800854230491712,
          -0.5362280813309173,
          0.9978930275747946,
          -1.7791250497361506,
          -0.677962460840107,
          0.7572816499590634,
          -0.287425248846891,
          -0.47888022308913814,
          -1.1274959646162466,
          0.2324095143049378,
          0.8683229396351135,
          1.829117056821466,
          -1.816751591989605,
          -0.5924861572089956,
          0.8017402458379345,
          -1.4002762640497939
         ],
         "yaxis": "y8"
        },
        {
         "line": {
          "color": "rgba(128, 128, 128, 1.0)",
          "dash": "solid",
          "shape": "linear",
          "width": 1.3
         },
         "marker": {
          "size": 2,
          "symbol": "circle"
         },
         "mode": "markers",
         "name": "C",
         "text": "",
         "type": "scatter",
         "x": [
          1.9072310072255976,
          0.45664251731057026,
          1.8735593319249753,
          -1.2764623848263121,
          1.3628530085372335,
          -0.4325085498941139,
          -2.130565106550025,
          -0.3478882665499311,
          -1.8065591069816318,
          1.2802855972530267,
          0.9099690101147678,
          -0.7254302350257974,
          -1.357689466572614,
          -0.2924728207932572,
          -0.6520631482874802,
          0.004148547838381575,
          0.6844015451212803,
          0.4768351538690697,
          0.6533129371097708,
          -0.8033735902053046,
          0.10436594645935798,
          0.5988000624309174,
          -0.6343639773656216,
          -0.13527773819219185,
          -0.20256767414639978,
          -0.015873236886170233,
          1.0333180007396285,
          0.6233280465126437,
          1.8054087268203456,
          -0.3483139337287294,
          -1.6450789071911471,
          -0.07367633128762816,
          0.9661664795196275,
          -3.554540119417503,
          -0.3517884347890016,
          -0.011080518665749637,
          0.621422551146316,
          -1.2531579594339688,
          -0.10051082015301586,
          -0.24054607341946016,
          -0.3839538033661071,
          -1.0575974259826995,
          -1.752757339947482,
          0.2774973963127115,
          -1.4494616998409102,
          0.16015295976718663,
          -1.5104556329789018,
          -0.8063273303499235,
          -0.3947630414938095,
          0.43441231346843795,
          1.226504273411426,
          0.2024939514122735,
          -0.00835533148028108,
          -0.36256325006618495,
          0.5359156853817274,
          -1.0969121025292958,
          0.43187469434509806,
          0.8496889764272824,
          -1.2082731388454349,
          -1.7089121213718867,
          -0.5170724026485997,
          -0.03994284400890909,
          -0.25932188432990816,
          0.07953898183032124,
          1.0458832881768172,
          -1.9579149340336046,
          0.5453127632430007,
          1.854844673262272,
          -2.5673923034531083,
          -0.09091067989192657,
          -0.3884470822677006,
          -1.8469698500964709,
          -1.5158324196916066,
          -0.38138223397344256,
          -0.05805129919084255,
          1.087493238981735,
          0.7534415222757022,
          -0.6284540050680987,
          -0.38751599288043437,
          -1.2084618045487636,
          0.0514634408368774,
          -1.082918557354612,
          -0.4992107264311093,
          -1.9452028837154631,
          0.7273056387902339,
          -0.8955610849268126,
          -0.8234617655936936,
          0.532065163647017,
          -1.1028862381850142,
          -1.7582423251578894,
          -1.3791246147712828,
          0.10042152710117103,
          -0.5716713526590748,
          -0.9735284618191417,
          -0.058716214204821274,
          0.5119956539665943,
          0.11718988426468993,
          0.006329341436323806,
          -0.620841952508306,
          0.8187717540053973
         ],
         "xaxis": "x9",
         "y": [
          0.1290518449288295,
          -0.8942693898422739,
          -0.0603885969808389,
          0.8888571827253696,
          0.3303216544253686,
          -0.6962016615371871,
          0.6847180896334788,
          1.634685536133902,
          -0.7768311097265821,
          -1.0497817281496105,
          0.04260478899227552,
          0.2838691156189989,
          -0.2912038460934214,
          0.81625304472437,
          -1.3331321265578724,
          -0.911191847865561,
          -0.19687587859455705,
          -1.2485335063985736,
          1.6254466265754193,
          -0.13264571807983716,
          0.029233385616819835,
          -0.3835662646984012,
          -0.5998151436263172,
          0.06629171046788511,
          -0.5334147456940839,
          -1.4752559631396605,
          -2.043165615565392,
          -0.9073109239546666,
          -0.5635336272430629,
          -0.008789992072936102,
          -1.7101997598000038,
          1.918910794788815,
          0.12651018891030594,
          -2.6736508129888765,
          0.04090428461982828,
          -0.6267744176315131,
          1.3335525230802128,
          -0.4120113575547163,
          -0.5594431836696315,
          -0.22065240576609835,
          0.12305168424365334,
          -0.22595737428925225,
          0.5349659874982043,
          0.04224545942985787,
          0.08866425256121034,
          0.45401509544651464,
          -1.7797491351659889,
          0.19668438010122313,
          -0.004817687438065632,
          1.3282039365181113,
          0.7042870811841475,
          0.32056053960947095,
          -0.26560675795858235,
          -0.3716990673752184,
          -0.3452507209114012,
          1.44433585382595,
          -0.25495549926528543,
          -0.24335827103759927,
          -0.5360389588075302,
          0.8772550092169797,
          0.36905944121709056,
          0.687483714658491,
          -0.8763895837530766,
          2.151432620163798,
          0.9758341259438752,
          -0.4232591087195389,
          -0.7263409692947592,
          -1.4283884300059841,
          0.3749006863824324,
          1.2615256423879257,
          -0.47739720739320624,
          0.007655163420542726,
          -0.7326569236558824,
          -0.23816640030265812,
          0.5891064824477343,
          0.6667209587695969,
          -2.2238868518942123,
          0.7101794040876726,
          -1.1067475414415793,
          -0.43368631367219096,
          1.1127113699512454,
          -3.5180754076422085,
          1.6894351549143032,
          0.7375479091898545,
          2.273084648207982,
          0.2093410158696672,
          0.1275858696546415,
          0.5877413023474375,
          -0.7730905034289465,
          1.6960758468267494,
          -0.4795135980211943,
          -0.4670536994748242,
          -1.7923554266762372,
          -1.2489568643422548,
          0.4584963812339756,
          0.7321164288932169,
          0.5720135489933249,
          -0.8741127283123019,
          0.5753286511533514,
          0.7941319134540555
         ],
         "yaxis": "y9"
        },
        {
         "line": {
          "color": "rgba(128, 128, 128, 1.0)",
          "dash": "solid",
          "shape": "linear",
          "width": 1.3
         },
         "marker": {
          "size": 2,
          "symbol": "circle"
         },
         "mode": "markers",
         "name": "C",
         "text": "",
         "type": "scatter",
         "x": [
          0.5397341984256421,
          1.4273648820401585,
          -0.2699470460701567,
          -0.009205707259470066,
          0.38245509704051034,
          -0.6121410983025236,
          1.471122536385358,
          0.008852038627531702,
          -1.0322725314491903,
          0.8203466329622852,
          0.40274543333508517,
          1.1710113832309024,
          -0.8490119147891786,
          0.37012452704623977,
          0.6727839097825701,
          -0.7146490926729023,
          -1.1710925815152915,
          0.829667151217231,
          1.6254325510413408,
          -0.03523386729780477,
          0.8344690832208976,
          -0.013325006634558746,
          0.731317913467702,
          -0.34730864357214936,
          0.43023502387456686,
          1.4329446581756315,
          -0.7491845032709245,
          0.3510417309197764,
          0.14083899715516177,
          -1.1861006093411341,
          0.06372821563374959,
          -0.5482268710062057,
          0.5358156468037663,
          1.860518121810859,
          1.0586200684408351,
          -0.0639731090133942,
          -0.08212677769362468,
          -1.3644617085653952,
          2.306486236434318,
          0.2299424870881697,
          0.277553325627394,
          -0.7310389683951801,
          0.7855790026429404,
          1.991062673583806,
          0.42083892064389616,
          0.3312184872102766,
          -0.948280317204048,
          -0.9568068650540437,
          0.06219846171557773,
          -0.6894903418517699,
          0.9426582104357005,
          -0.6549530029210485,
          -0.27693993710331516,
          0.5794679612177993,
          -0.17445332930955162,
          1.973689765686015,
          -1.1221081740462968,
          -0.5689439814189605,
          -0.812476104079502,
          2.106994461930286,
          0.32736395155534453,
          0.1312433407250468,
          -0.18047861897329853,
          -0.772626615251416,
          0.3228290458457046,
          -0.3876374046636482,
          0.1833422829766309,
          1.9087468843804094,
          -0.15516628138100658,
          -1.4163623544697346,
          0.6147553608766299,
          0.6285689877845728,
          0.46983514730252834,
          -1.891043424119729,
          -0.41109171089752206,
          -0.19882089607141482,
          0.26050507326347166,
          -0.021940889213982018,
          0.35818838870948727,
          0.8607668916844468,
          -0.76838927683406,
          -0.627976710508572,
          -0.6366917226484422,
          0.04068231456785195,
          1.0800854230491712,
          -0.5362280813309173,
          0.9978930275747946,
          -1.7791250497361506,
          -0.677962460840107,
          0.7572816499590634,
          -0.287425248846891,
          -0.47888022308913814,
          -1.1274959646162466,
          0.2324095143049378,
          0.8683229396351135,
          1.829117056821466,
          -1.816751591989605,
          -0.5924861572089956,
          0.8017402458379345,
          -1.4002762640497939
         ],
         "xaxis": "x10",
         "y": [
          0.1290518449288295,
          -0.8942693898422739,
          -0.0603885969808389,
          0.8888571827253696,
          0.3303216544253686,
          -0.6962016615371871,
          0.6847180896334788,
          1.634685536133902,
          -0.7768311097265821,
          -1.0497817281496105,
          0.04260478899227552,
          0.2838691156189989,
          -0.2912038460934214,
          0.81625304472437,
          -1.3331321265578724,
          -0.911191847865561,
          -0.19687587859455705,
          -1.2485335063985736,
          1.6254466265754193,
          -0.13264571807983716,
          0.029233385616819835,
          -0.3835662646984012,
          -0.5998151436263172,
          0.06629171046788511,
          -0.5334147456940839,
          -1.4752559631396605,
          -2.043165615565392,
          -0.9073109239546666,
          -0.5635336272430629,
          -0.008789992072936102,
          -1.7101997598000038,
          1.918910794788815,
          0.12651018891030594,
          -2.6736508129888765,
          0.04090428461982828,
          -0.6267744176315131,
          1.3335525230802128,
          -0.4120113575547163,
          -0.5594431836696315,
          -0.22065240576609835,
          0.12305168424365334,
          -0.22595737428925225,
          0.5349659874982043,
          0.04224545942985787,
          0.08866425256121034,
          0.45401509544651464,
          -1.7797491351659889,
          0.19668438010122313,
          -0.004817687438065632,
          1.3282039365181113,
          0.7042870811841475,
          0.32056053960947095,
          -0.26560675795858235,
          -0.3716990673752184,
          -0.3452507209114012,
          1.44433585382595,
          -0.25495549926528543,
          -0.24335827103759927,
          -0.5360389588075302,
          0.8772550092169797,
          0.36905944121709056,
          0.687483714658491,
          -0.8763895837530766,
          2.151432620163798,
          0.9758341259438752,
          -0.4232591087195389,
          -0.7263409692947592,
          -1.4283884300059841,
          0.3749006863824324,
          1.2615256423879257,
          -0.47739720739320624,
          0.007655163420542726,
          -0.7326569236558824,
          -0.23816640030265812,
          0.5891064824477343,
          0.6667209587695969,
          -2.2238868518942123,
          0.7101794040876726,
          -1.1067475414415793,
          -0.43368631367219096,
          1.1127113699512454,
          -3.5180754076422085,
          1.6894351549143032,
          0.7375479091898545,
          2.273084648207982,
          0.2093410158696672,
          0.1275858696546415,
          0.5877413023474375,
          -0.7730905034289465,
          1.6960758468267494,
          -0.4795135980211943,
          -0.4670536994748242,
          -1.7923554266762372,
          -1.2489568643422548,
          0.4584963812339756,
          0.7321164288932169,
          0.5720135489933249,
          -0.8741127283123019,
          0.5753286511533514,
          0.7941319134540555
         ],
         "yaxis": "y10"
        },
        {
         "histfunc": "count",
         "histnorm": "",
         "marker": {
          "color": "rgba(50, 171, 96, 1.0)",
          "line": {
           "color": "#4D5663",
           "width": 1.3
          }
         },
         "name": "C",
         "nbinsx": 10,
         "opacity": 0.8,
         "orientation": "v",
         "type": "histogram",
         "x": [
          0.1290518449288295,
          -0.8942693898422739,
          -0.0603885969808389,
          0.8888571827253696,
          0.3303216544253686,
          -0.6962016615371871,
          0.6847180896334788,
          1.634685536133902,
          -0.7768311097265821,
          -1.0497817281496105,
          0.04260478899227552,
          0.2838691156189989,
          -0.2912038460934214,
          0.81625304472437,
          -1.3331321265578724,
          -0.911191847865561,
          -0.19687587859455705,
          -1.2485335063985736,
          1.6254466265754193,
          -0.13264571807983716,
          0.029233385616819835,
          -0.3835662646984012,
          -0.5998151436263172,
          0.06629171046788511,
          -0.5334147456940839,
          -1.4752559631396605,
          -2.043165615565392,
          -0.9073109239546666,
          -0.5635336272430629,
          -0.008789992072936102,
          -1.7101997598000038,
          1.918910794788815,
          0.12651018891030594,
          -2.6736508129888765,
          0.04090428461982828,
          -0.6267744176315131,
          1.3335525230802128,
          -0.4120113575547163,
          -0.5594431836696315,
          -0.22065240576609835,
          0.12305168424365334,
          -0.22595737428925225,
          0.5349659874982043,
          0.04224545942985787,
          0.08866425256121034,
          0.45401509544651464,
          -1.7797491351659889,
          0.19668438010122313,
          -0.004817687438065632,
          1.3282039365181113,
          0.7042870811841475,
          0.32056053960947095,
          -0.26560675795858235,
          -0.3716990673752184,
          -0.3452507209114012,
          1.44433585382595,
          -0.25495549926528543,
          -0.24335827103759927,
          -0.5360389588075302,
          0.8772550092169797,
          0.36905944121709056,
          0.687483714658491,
          -0.8763895837530766,
          2.151432620163798,
          0.9758341259438752,
          -0.4232591087195389,
          -0.7263409692947592,
          -1.4283884300059841,
          0.3749006863824324,
          1.2615256423879257,
          -0.47739720739320624,
          0.007655163420542726,
          -0.7326569236558824,
          -0.23816640030265812,
          0.5891064824477343,
          0.6667209587695969,
          -2.2238868518942123,
          0.7101794040876726,
          -1.1067475414415793,
          -0.43368631367219096,
          1.1127113699512454,
          -3.5180754076422085,
          1.6894351549143032,
          0.7375479091898545,
          2.273084648207982,
          0.2093410158696672,
          0.1275858696546415,
          0.5877413023474375,
          -0.7730905034289465,
          1.6960758468267494,
          -0.4795135980211943,
          -0.4670536994748242,
          -1.7923554266762372,
          -1.2489568643422548,
          0.4584963812339756,
          0.7321164288932169,
          0.5720135489933249,
          -0.8741127283123019,
          0.5753286511533514,
          0.7941319134540555
         ],
         "xaxis": "x11",
         "yaxis": "y11"
        },
        {
         "line": {
          "color": "rgba(128, 128, 128, 1.0)",
          "dash": "solid",
          "shape": "linear",
          "width": 1.3
         },
         "marker": {
          "size": 2,
          "symbol": "circle"
         },
         "mode": "markers",
         "name": "C",
         "text": "",
         "type": "scatter",
         "x": [
          -1.98391637917484,
          0.7709525668191602,
          1.035419861330941,
          1.4417704578205035,
          -0.08896422052327554,
          0.17092025951416737,
          -2.1080136681225032,
          -1.5250922351857676,
          -0.026762787820439168,
          1.0998460693649141,
          0.23091058917948548,
          0.6325655245214455,
          1.5835804818769312,
          -0.11428329863210708,
          -2.2778561659483683,
          0.891607490588241,
          0.31025493453159747,
          -0.8377068774275928,
          -0.807822956343638,
          0.8518053651312106,
          0.21457144606777215,
          1.0315235223368702,
          -1.5243672016317151,
          1.6683287308670112,
          -2.7931280269506984,
          0.6940655689111038,
          1.9623415527581394,
          -0.7624118235995387,
          -0.20056846446995488,
          -0.6501963503967874,
          0.9884059568672299,
          -1.633055927710676,
          -0.2494597122289142,
          0.8714462386930537,
          -1.0646442724071206,
          0.149190137888478,
          0.10274451793225345,
          0.03370701950596059,
          0.42813908436603065,
          -0.48177266293926635,
          -0.8879242106159551,
          0.23221415955640232,
          0.6842347650504285,
          -0.10955251785708613,
          0.4867956662898185,
          -0.7054283503401905,
          0.06474989591599337,
          -0.7876540054494298,
          0.5343136394302063,
          0.042684352308633405,
          -0.16673198141396978,
          1.7112143089213487,
          -0.38324163790884314,
          1.2098094860548758,
          1.8915333419114813,
          -0.661764747587267,
          0.25871649531212054,
          -0.4705028898091924,
          0.9897176320289679,
          -0.15343691337338916,
          0.42192977920907715,
          -0.12430850661724739,
          0.5981619565209743,
          0.482735136064605,
          -1.1030235985469987,
          1.242240587844812,
          -0.6021944852896283,
          -1.054917278224973,
          0.15523086441313563,
          -1.6450536445743458,
          -0.5380979389961633,
          -0.17748978975832785,
          -0.6296565012042219,
          0.3373686044484245,
          -1.1803469192277745,
          -0.967283447322248,
          -0.5570452871077222,
          -1.5746819791076703,
          0.7529814075319013,
          -0.9005719235209542,
          -0.5444797659642279,
          -1.2654592599808787,
          0.01627521893794739,
          0.7535658105375982,
          -0.20653782340574864,
          -0.37983754807719283,
          -0.6997601308318075,
          -0.325757900081184,
          0.4129298817199609,
          0.46756150246359696,
          -1.1029938903553604,
          -0.3530223408861881,
          1.0456733358176729,
          -0.4518373908910548,
          -0.9629326506667446,
          0.5473940570622489,
          -0.027340882510283653,
          -1.3424921764772848,
          0.07934729391308067,
          -0.41255363718070104
         ],
         "xaxis": "x12",
         "y": [
          0.1290518449288295,
          -0.8942693898422739,
          -0.0603885969808389,
          0.8888571827253696,
          0.3303216544253686,
          -0.6962016615371871,
          0.6847180896334788,
          1.634685536133902,
          -0.7768311097265821,
          -1.0497817281496105,
          0.04260478899227552,
          0.2838691156189989,
          -0.2912038460934214,
          0.81625304472437,
          -1.3331321265578724,
          -0.911191847865561,
          -0.19687587859455705,
          -1.2485335063985736,
          1.6254466265754193,
          -0.13264571807983716,
          0.029233385616819835,
          -0.3835662646984012,
          -0.5998151436263172,
          0.06629171046788511,
          -0.5334147456940839,
          -1.4752559631396605,
          -2.043165615565392,
          -0.9073109239546666,
          -0.5635336272430629,
          -0.008789992072936102,
          -1.7101997598000038,
          1.918910794788815,
          0.12651018891030594,
          -2.6736508129888765,
          0.04090428461982828,
          -0.6267744176315131,
          1.3335525230802128,
          -0.4120113575547163,
          -0.5594431836696315,
          -0.22065240576609835,
          0.12305168424365334,
          -0.22595737428925225,
          0.5349659874982043,
          0.04224545942985787,
          0.08866425256121034,
          0.45401509544651464,
          -1.7797491351659889,
          0.19668438010122313,
          -0.004817687438065632,
          1.3282039365181113,
          0.7042870811841475,
          0.32056053960947095,
          -0.26560675795858235,
          -0.3716990673752184,
          -0.3452507209114012,
          1.44433585382595,
          -0.25495549926528543,
          -0.24335827103759927,
          -0.5360389588075302,
          0.8772550092169797,
          0.36905944121709056,
          0.687483714658491,
          -0.8763895837530766,
          2.151432620163798,
          0.9758341259438752,
          -0.4232591087195389,
          -0.7263409692947592,
          -1.4283884300059841,
          0.3749006863824324,
          1.2615256423879257,
          -0.47739720739320624,
          0.007655163420542726,
          -0.7326569236558824,
          -0.23816640030265812,
          0.5891064824477343,
          0.6667209587695969,
          -2.2238868518942123,
          0.7101794040876726,
          -1.1067475414415793,
          -0.43368631367219096,
          1.1127113699512454,
          -3.5180754076422085,
          1.6894351549143032,
          0.7375479091898545,
          2.273084648207982,
          0.2093410158696672,
          0.1275858696546415,
          0.5877413023474375,
          -0.7730905034289465,
          1.6960758468267494,
          -0.4795135980211943,
          -0.4670536994748242,
          -1.7923554266762372,
          -1.2489568643422548,
          0.4584963812339756,
          0.7321164288932169,
          0.5720135489933249,
          -0.8741127283123019,
          0.5753286511533514,
          0.7941319134540555
         ],
         "yaxis": "y12"
        },
        {
         "line": {
          "color": "rgba(128, 128, 128, 1.0)",
          "dash": "solid",
          "shape": "linear",
          "width": 1.3
         },
         "marker": {
          "size": 2,
          "symbol": "circle"
         },
         "mode": "markers",
         "name": "D",
         "text": "",
         "type": "scatter",
         "x": [
          1.9072310072255976,
          0.45664251731057026,
          1.8735593319249753,
          -1.2764623848263121,
          1.3628530085372335,
          -0.4325085498941139,
          -2.130565106550025,
          -0.3478882665499311,
          -1.8065591069816318,
          1.2802855972530267,
          0.9099690101147678,
          -0.7254302350257974,
          -1.357689466572614,
          -0.2924728207932572,
          -0.6520631482874802,
          0.004148547838381575,
          0.6844015451212803,
          0.4768351538690697,
          0.6533129371097708,
          -0.8033735902053046,
          0.10436594645935798,
          0.5988000624309174,
          -0.6343639773656216,
          -0.13527773819219185,
          -0.20256767414639978,
          -0.015873236886170233,
          1.0333180007396285,
          0.6233280465126437,
          1.8054087268203456,
          -0.3483139337287294,
          -1.6450789071911471,
          -0.07367633128762816,
          0.9661664795196275,
          -3.554540119417503,
          -0.3517884347890016,
          -0.011080518665749637,
          0.621422551146316,
          -1.2531579594339688,
          -0.10051082015301586,
          -0.24054607341946016,
          -0.3839538033661071,
          -1.0575974259826995,
          -1.752757339947482,
          0.2774973963127115,
          -1.4494616998409102,
          0.16015295976718663,
          -1.5104556329789018,
          -0.8063273303499235,
          -0.3947630414938095,
          0.43441231346843795,
          1.226504273411426,
          0.2024939514122735,
          -0.00835533148028108,
          -0.36256325006618495,
          0.5359156853817274,
          -1.0969121025292958,
          0.43187469434509806,
          0.8496889764272824,
          -1.2082731388454349,
          -1.7089121213718867,
          -0.5170724026485997,
          -0.03994284400890909,
          -0.25932188432990816,
          0.07953898183032124,
          1.0458832881768172,
          -1.9579149340336046,
          0.5453127632430007,
          1.854844673262272,
          -2.5673923034531083,
          -0.09091067989192657,
          -0.3884470822677006,
          -1.8469698500964709,
          -1.5158324196916066,
          -0.38138223397344256,
          -0.05805129919084255,
          1.087493238981735,
          0.7534415222757022,
          -0.6284540050680987,
          -0.38751599288043437,
          -1.2084618045487636,
          0.0514634408368774,
          -1.082918557354612,
          -0.4992107264311093,
          -1.9452028837154631,
          0.7273056387902339,
          -0.8955610849268126,
          -0.8234617655936936,
          0.532065163647017,
          -1.1028862381850142,
          -1.7582423251578894,
          -1.3791246147712828,
          0.10042152710117103,
          -0.5716713526590748,
          -0.9735284618191417,
          -0.058716214204821274,
          0.5119956539665943,
          0.11718988426468993,
          0.006329341436323806,
          -0.620841952508306,
          0.8187717540053973
         ],
         "xaxis": "x13",
         "y": [
          -1.98391637917484,
          0.7709525668191602,
          1.035419861330941,
          1.4417704578205035,
          -0.08896422052327554,
          0.17092025951416737,
          -2.1080136681225032,
          -1.5250922351857676,
          -0.026762787820439168,
          1.0998460693649141,
          0.23091058917948548,
          0.6325655245214455,
          1.5835804818769312,
          -0.11428329863210708,
          -2.2778561659483683,
          0.891607490588241,
          0.31025493453159747,
          -0.8377068774275928,
          -0.807822956343638,
          0.8518053651312106,
          0.21457144606777215,
          1.0315235223368702,
          -1.5243672016317151,
          1.6683287308670112,
          -2.7931280269506984,
          0.6940655689111038,
          1.9623415527581394,
          -0.7624118235995387,
          -0.20056846446995488,
          -0.6501963503967874,
          0.9884059568672299,
          -1.633055927710676,
          -0.2494597122289142,
          0.8714462386930537,
          -1.0646442724071206,
          0.149190137888478,
          0.10274451793225345,
          0.03370701950596059,
          0.42813908436603065,
          -0.48177266293926635,
          -0.8879242106159551,
          0.23221415955640232,
          0.6842347650504285,
          -0.10955251785708613,
          0.4867956662898185,
          -0.7054283503401905,
          0.06474989591599337,
          -0.7876540054494298,
          0.5343136394302063,
          0.042684352308633405,
          -0.16673198141396978,
          1.7112143089213487,
          -0.38324163790884314,
          1.2098094860548758,
          1.8915333419114813,
          -0.661764747587267,
          0.25871649531212054,
          -0.4705028898091924,
          0.9897176320289679,
          -0.15343691337338916,
          0.42192977920907715,
          -0.12430850661724739,
          0.5981619565209743,
          0.482735136064605,
          -1.1030235985469987,
          1.242240587844812,
          -0.6021944852896283,
          -1.054917278224973,
          0.15523086441313563,
          -1.6450536445743458,
          -0.5380979389961633,
          -0.17748978975832785,
          -0.6296565012042219,
          0.3373686044484245,
          -1.1803469192277745,
          -0.967283447322248,
          -0.5570452871077222,
          -1.5746819791076703,
          0.7529814075319013,
          -0.9005719235209542,
          -0.5444797659642279,
          -1.2654592599808787,
          0.01627521893794739,
          0.7535658105375982,
          -0.20653782340574864,
          -0.37983754807719283,
          -0.6997601308318075,
          -0.325757900081184,
          0.4129298817199609,
          0.46756150246359696,
          -1.1029938903553604,
          -0.3530223408861881,
          1.0456733358176729,
          -0.4518373908910548,
          -0.9629326506667446,
          0.5473940570622489,
          -0.027340882510283653,
          -1.3424921764772848,
          0.07934729391308067,
          -0.41255363718070104
         ],
         "yaxis": "y13"
        },
        {
         "line": {
          "color": "rgba(128, 128, 128, 1.0)",
          "dash": "solid",
          "shape": "linear",
          "width": 1.3
         },
         "marker": {
          "size": 2,
          "symbol": "circle"
         },
         "mode": "markers",
         "name": "D",
         "text": "",
         "type": "scatter",
         "x": [
          0.5397341984256421,
          1.4273648820401585,
          -0.2699470460701567,
          -0.009205707259470066,
          0.38245509704051034,
          -0.6121410983025236,
          1.471122536385358,
          0.008852038627531702,
          -1.0322725314491903,
          0.8203466329622852,
          0.40274543333508517,
          1.1710113832309024,
          -0.8490119147891786,
          0.37012452704623977,
          0.6727839097825701,
          -0.7146490926729023,
          -1.1710925815152915,
          0.829667151217231,
          1.6254325510413408,
          -0.03523386729780477,
          0.8344690832208976,
          -0.013325006634558746,
          0.731317913467702,
          -0.34730864357214936,
          0.43023502387456686,
          1.4329446581756315,
          -0.7491845032709245,
          0.3510417309197764,
          0.14083899715516177,
          -1.1861006093411341,
          0.06372821563374959,
          -0.5482268710062057,
          0.5358156468037663,
          1.860518121810859,
          1.0586200684408351,
          -0.0639731090133942,
          -0.08212677769362468,
          -1.3644617085653952,
          2.306486236434318,
          0.2299424870881697,
          0.277553325627394,
          -0.7310389683951801,
          0.7855790026429404,
          1.991062673583806,
          0.42083892064389616,
          0.3312184872102766,
          -0.948280317204048,
          -0.9568068650540437,
          0.06219846171557773,
          -0.6894903418517699,
          0.9426582104357005,
          -0.6549530029210485,
          -0.27693993710331516,
          0.5794679612177993,
          -0.17445332930955162,
          1.973689765686015,
          -1.1221081740462968,
          -0.5689439814189605,
          -0.812476104079502,
          2.106994461930286,
          0.32736395155534453,
          0.1312433407250468,
          -0.18047861897329853,
          -0.772626615251416,
          0.3228290458457046,
          -0.3876374046636482,
          0.1833422829766309,
          1.9087468843804094,
          -0.15516628138100658,
          -1.4163623544697346,
          0.6147553608766299,
          0.6285689877845728,
          0.46983514730252834,
          -1.891043424119729,
          -0.41109171089752206,
          -0.19882089607141482,
          0.26050507326347166,
          -0.021940889213982018,
          0.35818838870948727,
          0.8607668916844468,
          -0.76838927683406,
          -0.627976710508572,
          -0.6366917226484422,
          0.04068231456785195,
          1.0800854230491712,
          -0.5362280813309173,
          0.9978930275747946,
          -1.7791250497361506,
          -0.677962460840107,
          0.7572816499590634,
          -0.287425248846891,
          -0.47888022308913814,
          -1.1274959646162466,
          0.2324095143049378,
          0.8683229396351135,
          1.829117056821466,
          -1.816751591989605,
          -0.5924861572089956,
          0.8017402458379345,
          -1.4002762640497939
         ],
         "xaxis": "x14",
         "y": [
          -1.98391637917484,
          0.7709525668191602,
          1.035419861330941,
          1.4417704578205035,
          -0.08896422052327554,
          0.17092025951416737,
          -2.1080136681225032,
          -1.5250922351857676,
          -0.026762787820439168,
          1.0998460693649141,
          0.23091058917948548,
          0.6325655245214455,
          1.5835804818769312,
          -0.11428329863210708,
          -2.2778561659483683,
          0.891607490588241,
          0.31025493453159747,
          -0.8377068774275928,
          -0.807822956343638,
          0.8518053651312106,
          0.21457144606777215,
          1.0315235223368702,
          -1.5243672016317151,
          1.6683287308670112,
          -2.7931280269506984,
          0.6940655689111038,
          1.9623415527581394,
          -0.7624118235995387,
          -0.20056846446995488,
          -0.6501963503967874,
          0.9884059568672299,
          -1.633055927710676,
          -0.2494597122289142,
          0.8714462386930537,
          -1.0646442724071206,
          0.149190137888478,
          0.10274451793225345,
          0.03370701950596059,
          0.42813908436603065,
          -0.48177266293926635,
          -0.8879242106159551,
          0.23221415955640232,
          0.6842347650504285,
          -0.10955251785708613,
          0.4867956662898185,
          -0.7054283503401905,
          0.06474989591599337,
          -0.7876540054494298,
          0.5343136394302063,
          0.042684352308633405,
          -0.16673198141396978,
          1.7112143089213487,
          -0.38324163790884314,
          1.2098094860548758,
          1.8915333419114813,
          -0.661764747587267,
          0.25871649531212054,
          -0.4705028898091924,
          0.9897176320289679,
          -0.15343691337338916,
          0.42192977920907715,
          -0.12430850661724739,
          0.5981619565209743,
          0.482735136064605,
          -1.1030235985469987,
          1.242240587844812,
          -0.6021944852896283,
          -1.054917278224973,
          0.15523086441313563,
          -1.6450536445743458,
          -0.5380979389961633,
          -0.17748978975832785,
          -0.6296565012042219,
          0.3373686044484245,
          -1.1803469192277745,
          -0.967283447322248,
          -0.5570452871077222,
          -1.5746819791076703,
          0.7529814075319013,
          -0.9005719235209542,
          -0.5444797659642279,
          -1.2654592599808787,
          0.01627521893794739,
          0.7535658105375982,
          -0.20653782340574864,
          -0.37983754807719283,
          -0.6997601308318075,
          -0.325757900081184,
          0.4129298817199609,
          0.46756150246359696,
          -1.1029938903553604,
          -0.3530223408861881,
          1.0456733358176729,
          -0.4518373908910548,
          -0.9629326506667446,
          0.5473940570622489,
          -0.027340882510283653,
          -1.3424921764772848,
          0.07934729391308067,
          -0.41255363718070104
         ],
         "yaxis": "y14"
        },
        {
         "line": {
          "color": "rgba(128, 128, 128, 1.0)",
          "dash": "solid",
          "shape": "linear",
          "width": 1.3
         },
         "marker": {
          "size": 2,
          "symbol": "circle"
         },
         "mode": "markers",
         "name": "D",
         "text": "",
         "type": "scatter",
         "x": [
          0.1290518449288295,
          -0.8942693898422739,
          -0.0603885969808389,
          0.8888571827253696,
          0.3303216544253686,
          -0.6962016615371871,
          0.6847180896334788,
          1.634685536133902,
          -0.7768311097265821,
          -1.0497817281496105,
          0.04260478899227552,
          0.2838691156189989,
          -0.2912038460934214,
          0.81625304472437,
          -1.3331321265578724,
          -0.911191847865561,
          -0.19687587859455705,
          -1.2485335063985736,
          1.6254466265754193,
          -0.13264571807983716,
          0.029233385616819835,
          -0.3835662646984012,
          -0.5998151436263172,
          0.06629171046788511,
          -0.5334147456940839,
          -1.4752559631396605,
          -2.043165615565392,
          -0.9073109239546666,
          -0.5635336272430629,
          -0.008789992072936102,
          -1.7101997598000038,
          1.918910794788815,
          0.12651018891030594,
          -2.6736508129888765,
          0.04090428461982828,
          -0.6267744176315131,
          1.3335525230802128,
          -0.4120113575547163,
          -0.5594431836696315,
          -0.22065240576609835,
          0.12305168424365334,
          -0.22595737428925225,
          0.5349659874982043,
          0.04224545942985787,
          0.08866425256121034,
          0.45401509544651464,
          -1.7797491351659889,
          0.19668438010122313,
          -0.004817687438065632,
          1.3282039365181113,
          0.7042870811841475,
          0.32056053960947095,
          -0.26560675795858235,
          -0.3716990673752184,
          -0.3452507209114012,
          1.44433585382595,
          -0.25495549926528543,
          -0.24335827103759927,
          -0.5360389588075302,
          0.8772550092169797,
          0.36905944121709056,
          0.687483714658491,
          -0.8763895837530766,
          2.151432620163798,
          0.9758341259438752,
          -0.4232591087195389,
          -0.7263409692947592,
          -1.4283884300059841,
          0.3749006863824324,
          1.2615256423879257,
          -0.47739720739320624,
          0.007655163420542726,
          -0.7326569236558824,
          -0.23816640030265812,
          0.5891064824477343,
          0.6667209587695969,
          -2.2238868518942123,
          0.7101794040876726,
          -1.1067475414415793,
          -0.43368631367219096,
          1.1127113699512454,
          -3.5180754076422085,
          1.6894351549143032,
          0.7375479091898545,
          2.273084648207982,
          0.2093410158696672,
          0.1275858696546415,
          0.5877413023474375,
          -0.7730905034289465,
          1.6960758468267494,
          -0.4795135980211943,
          -0.4670536994748242,
          -1.7923554266762372,
          -1.2489568643422548,
          0.4584963812339756,
          0.7321164288932169,
          0.5720135489933249,
          -0.8741127283123019,
          0.5753286511533514,
          0.7941319134540555
         ],
         "xaxis": "x15",
         "y": [
          -1.98391637917484,
          0.7709525668191602,
          1.035419861330941,
          1.4417704578205035,
          -0.08896422052327554,
          0.17092025951416737,
          -2.1080136681225032,
          -1.5250922351857676,
          -0.026762787820439168,
          1.0998460693649141,
          0.23091058917948548,
          0.6325655245214455,
          1.5835804818769312,
          -0.11428329863210708,
          -2.2778561659483683,
          0.891607490588241,
          0.31025493453159747,
          -0.8377068774275928,
          -0.807822956343638,
          0.8518053651312106,
          0.21457144606777215,
          1.0315235223368702,
          -1.5243672016317151,
          1.6683287308670112,
          -2.7931280269506984,
          0.6940655689111038,
          1.9623415527581394,
          -0.7624118235995387,
          -0.20056846446995488,
          -0.6501963503967874,
          0.9884059568672299,
          -1.633055927710676,
          -0.2494597122289142,
          0.8714462386930537,
          -1.0646442724071206,
          0.149190137888478,
          0.10274451793225345,
          0.03370701950596059,
          0.42813908436603065,
          -0.48177266293926635,
          -0.8879242106159551,
          0.23221415955640232,
          0.6842347650504285,
          -0.10955251785708613,
          0.4867956662898185,
          -0.7054283503401905,
          0.06474989591599337,
          -0.7876540054494298,
          0.5343136394302063,
          0.042684352308633405,
          -0.16673198141396978,
          1.7112143089213487,
          -0.38324163790884314,
          1.2098094860548758,
          1.8915333419114813,
          -0.661764747587267,
          0.25871649531212054,
          -0.4705028898091924,
          0.9897176320289679,
          -0.15343691337338916,
          0.42192977920907715,
          -0.12430850661724739,
          0.5981619565209743,
          0.482735136064605,
          -1.1030235985469987,
          1.242240587844812,
          -0.6021944852896283,
          -1.054917278224973,
          0.15523086441313563,
          -1.6450536445743458,
          -0.5380979389961633,
          -0.17748978975832785,
          -0.6296565012042219,
          0.3373686044484245,
          -1.1803469192277745,
          -0.967283447322248,
          -0.5570452871077222,
          -1.5746819791076703,
          0.7529814075319013,
          -0.9005719235209542,
          -0.5444797659642279,
          -1.2654592599808787,
          0.01627521893794739,
          0.7535658105375982,
          -0.20653782340574864,
          -0.37983754807719283,
          -0.6997601308318075,
          -0.325757900081184,
          0.4129298817199609,
          0.46756150246359696,
          -1.1029938903553604,
          -0.3530223408861881,
          1.0456733358176729,
          -0.4518373908910548,
          -0.9629326506667446,
          0.5473940570622489,
          -0.027340882510283653,
          -1.3424921764772848,
          0.07934729391308067,
          -0.41255363718070104
         ],
         "yaxis": "y15"
        },
        {
         "histfunc": "count",
         "histnorm": "",
         "marker": {
          "color": "rgba(128, 0, 128, 1.0)",
          "line": {
           "color": "#4D5663",
           "width": 1.3
          }
         },
         "name": "D",
         "nbinsx": 10,
         "opacity": 0.8,
         "orientation": "v",
         "type": "histogram",
         "x": [
          -1.98391637917484,
          0.7709525668191602,
          1.035419861330941,
          1.4417704578205035,
          -0.08896422052327554,
          0.17092025951416737,
          -2.1080136681225032,
          -1.5250922351857676,
          -0.026762787820439168,
          1.0998460693649141,
          0.23091058917948548,
          0.6325655245214455,
          1.5835804818769312,
          -0.11428329863210708,
          -2.2778561659483683,
          0.891607490588241,
          0.31025493453159747,
          -0.8377068774275928,
          -0.807822956343638,
          0.8518053651312106,
          0.21457144606777215,
          1.0315235223368702,
          -1.5243672016317151,
          1.6683287308670112,
          -2.7931280269506984,
          0.6940655689111038,
          1.9623415527581394,
          -0.7624118235995387,
          -0.20056846446995488,
          -0.6501963503967874,
          0.9884059568672299,
          -1.633055927710676,
          -0.2494597122289142,
          0.8714462386930537,
          -1.0646442724071206,
          0.149190137888478,
          0.10274451793225345,
          0.03370701950596059,
          0.42813908436603065,
          -0.48177266293926635,
          -0.8879242106159551,
          0.23221415955640232,
          0.6842347650504285,
          -0.10955251785708613,
          0.4867956662898185,
          -0.7054283503401905,
          0.06474989591599337,
          -0.7876540054494298,
          0.5343136394302063,
          0.042684352308633405,
          -0.16673198141396978,
          1.7112143089213487,
          -0.38324163790884314,
          1.2098094860548758,
          1.8915333419114813,
          -0.661764747587267,
          0.25871649531212054,
          -0.4705028898091924,
          0.9897176320289679,
          -0.15343691337338916,
          0.42192977920907715,
          -0.12430850661724739,
          0.5981619565209743,
          0.482735136064605,
          -1.1030235985469987,
          1.242240587844812,
          -0.6021944852896283,
          -1.054917278224973,
          0.15523086441313563,
          -1.6450536445743458,
          -0.5380979389961633,
          -0.17748978975832785,
          -0.6296565012042219,
          0.3373686044484245,
          -1.1803469192277745,
          -0.967283447322248,
          -0.5570452871077222,
          -1.5746819791076703,
          0.7529814075319013,
          -0.9005719235209542,
          -0.5444797659642279,
          -1.2654592599808787,
          0.01627521893794739,
          0.7535658105375982,
          -0.20653782340574864,
          -0.37983754807719283,
          -0.6997601308318075,
          -0.325757900081184,
          0.4129298817199609,
          0.46756150246359696,
          -1.1029938903553604,
          -0.3530223408861881,
          1.0456733358176729,
          -0.4518373908910548,
          -0.9629326506667446,
          0.5473940570622489,
          -0.027340882510283653,
          -1.3424921764772848,
          0.07934729391308067,
          -0.41255363718070104
         ],
         "xaxis": "x16",
         "yaxis": "y16"
        }
       ],
       "layout": {
        "bargap": 0.02,
        "legend": {
         "bgcolor": "#F5F6F9",
         "font": {
          "color": "#4D5663"
         }
        },
        "paper_bgcolor": "#F5F6F9",
        "plot_bgcolor": "#F5F6F9",
        "showlegend": false,
        "template": {
         "data": {
          "bar": [
           {
            "error_x": {
             "color": "#2a3f5f"
            },
            "error_y": {
             "color": "#2a3f5f"
            },
            "marker": {
             "line": {
              "color": "#E5ECF6",
              "width": 0.5
             }
            },
            "type": "bar"
           }
          ],
          "barpolar": [
           {
            "marker": {
             "line": {
              "color": "#E5ECF6",
              "width": 0.5
             }
            },
            "type": "barpolar"
           }
          ],
          "carpet": [
           {
            "aaxis": {
             "endlinecolor": "#2a3f5f",
             "gridcolor": "white",
             "linecolor": "white",
             "minorgridcolor": "white",
             "startlinecolor": "#2a3f5f"
            },
            "baxis": {
             "endlinecolor": "#2a3f5f",
             "gridcolor": "white",
             "linecolor": "white",
             "minorgridcolor": "white",
             "startlinecolor": "#2a3f5f"
            },
            "type": "carpet"
           }
          ],
          "choropleth": [
           {
            "colorbar": {
             "outlinewidth": 0,
             "ticks": ""
            },
            "type": "choropleth"
           }
          ],
          "contour": [
           {
            "colorbar": {
             "outlinewidth": 0,
             "ticks": ""
            },
            "colorscale": [
             [
              0,
              "#0d0887"
             ],
             [
              0.1111111111111111,
              "#46039f"
             ],
             [
              0.2222222222222222,
              "#7201a8"
             ],
             [
              0.3333333333333333,
              "#9c179e"
             ],
             [
              0.4444444444444444,
              "#bd3786"
             ],
             [
              0.5555555555555556,
              "#d8576b"
             ],
             [
              0.6666666666666666,
              "#ed7953"
             ],
             [
              0.7777777777777778,
              "#fb9f3a"
             ],
             [
              0.8888888888888888,
              "#fdca26"
             ],
             [
              1,
              "#f0f921"
             ]
            ],
            "type": "contour"
           }
          ],
          "contourcarpet": [
           {
            "colorbar": {
             "outlinewidth": 0,
             "ticks": ""
            },
            "type": "contourcarpet"
           }
          ],
          "heatmap": [
           {
            "colorbar": {
             "outlinewidth": 0,
             "ticks": ""
            },
            "colorscale": [
             [
              0,
              "#0d0887"
             ],
             [
              0.1111111111111111,
              "#46039f"
             ],
             [
              0.2222222222222222,
              "#7201a8"
             ],
             [
              0.3333333333333333,
              "#9c179e"
             ],
             [
              0.4444444444444444,
              "#bd3786"
             ],
             [
              0.5555555555555556,
              "#d8576b"
             ],
             [
              0.6666666666666666,
              "#ed7953"
             ],
             [
              0.7777777777777778,
              "#fb9f3a"
             ],
             [
              0.8888888888888888,
              "#fdca26"
             ],
             [
              1,
              "#f0f921"
             ]
            ],
            "type": "heatmap"
           }
          ],
          "heatmapgl": [
           {
            "colorbar": {
             "outlinewidth": 0,
             "ticks": ""
            },
            "colorscale": [
             [
              0,
              "#0d0887"
             ],
             [
              0.1111111111111111,
              "#46039f"
             ],
             [
              0.2222222222222222,
              "#7201a8"
             ],
             [
              0.3333333333333333,
              "#9c179e"
             ],
             [
              0.4444444444444444,
              "#bd3786"
             ],
             [
              0.5555555555555556,
              "#d8576b"
             ],
             [
              0.6666666666666666,
              "#ed7953"
             ],
             [
              0.7777777777777778,
              "#fb9f3a"
             ],
             [
              0.8888888888888888,
              "#fdca26"
             ],
             [
              1,
              "#f0f921"
             ]
            ],
            "type": "heatmapgl"
           }
          ],
          "histogram": [
           {
            "marker": {
             "colorbar": {
              "outlinewidth": 0,
              "ticks": ""
             }
            },
            "type": "histogram"
           }
          ],
          "histogram2d": [
           {
            "colorbar": {
             "outlinewidth": 0,
             "ticks": ""
            },
            "colorscale": [
             [
              0,
              "#0d0887"
             ],
             [
              0.1111111111111111,
              "#46039f"
             ],
             [
              0.2222222222222222,
              "#7201a8"
             ],
             [
              0.3333333333333333,
              "#9c179e"
             ],
             [
              0.4444444444444444,
              "#bd3786"
             ],
             [
              0.5555555555555556,
              "#d8576b"
             ],
             [
              0.6666666666666666,
              "#ed7953"
             ],
             [
              0.7777777777777778,
              "#fb9f3a"
             ],
             [
              0.8888888888888888,
              "#fdca26"
             ],
             [
              1,
              "#f0f921"
             ]
            ],
            "type": "histogram2d"
           }
          ],
          "histogram2dcontour": [
           {
            "colorbar": {
             "outlinewidth": 0,
             "ticks": ""
            },
            "colorscale": [
             [
              0,
              "#0d0887"
             ],
             [
              0.1111111111111111,
              "#46039f"
             ],
             [
              0.2222222222222222,
              "#7201a8"
             ],
             [
              0.3333333333333333,
              "#9c179e"
             ],
             [
              0.4444444444444444,
              "#bd3786"
             ],
             [
              0.5555555555555556,
              "#d8576b"
             ],
             [
              0.6666666666666666,
              "#ed7953"
             ],
             [
              0.7777777777777778,
              "#fb9f3a"
             ],
             [
              0.8888888888888888,
              "#fdca26"
             ],
             [
              1,
              "#f0f921"
             ]
            ],
            "type": "histogram2dcontour"
           }
          ],
          "mesh3d": [
           {
            "colorbar": {
             "outlinewidth": 0,
             "ticks": ""
            },
            "type": "mesh3d"
           }
          ],
          "parcoords": [
           {
            "line": {
             "colorbar": {
              "outlinewidth": 0,
              "ticks": ""
             }
            },
            "type": "parcoords"
           }
          ],
          "pie": [
           {
            "automargin": true,
            "type": "pie"
           }
          ],
          "scatter": [
           {
            "marker": {
             "colorbar": {
              "outlinewidth": 0,
              "ticks": ""
             }
            },
            "type": "scatter"
           }
          ],
          "scatter3d": [
           {
            "line": {
             "colorbar": {
              "outlinewidth": 0,
              "ticks": ""
             }
            },
            "marker": {
             "colorbar": {
              "outlinewidth": 0,
              "ticks": ""
             }
            },
            "type": "scatter3d"
           }
          ],
          "scattercarpet": [
           {
            "marker": {
             "colorbar": {
              "outlinewidth": 0,
              "ticks": ""
             }
            },
            "type": "scattercarpet"
           }
          ],
          "scattergeo": [
           {
            "marker": {
             "colorbar": {
              "outlinewidth": 0,
              "ticks": ""
             }
            },
            "type": "scattergeo"
           }
          ],
          "scattergl": [
           {
            "marker": {
             "colorbar": {
              "outlinewidth": 0,
              "ticks": ""
             }
            },
            "type": "scattergl"
           }
          ],
          "scattermapbox": [
           {
            "marker": {
             "colorbar": {
              "outlinewidth": 0,
              "ticks": ""
             }
            },
            "type": "scattermapbox"
           }
          ],
          "scatterpolar": [
           {
            "marker": {
             "colorbar": {
              "outlinewidth": 0,
              "ticks": ""
             }
            },
            "type": "scatterpolar"
           }
          ],
          "scatterpolargl": [
           {
            "marker": {
             "colorbar": {
              "outlinewidth": 0,
              "ticks": ""
             }
            },
            "type": "scatterpolargl"
           }
          ],
          "scatterternary": [
           {
            "marker": {
             "colorbar": {
              "outlinewidth": 0,
              "ticks": ""
             }
            },
            "type": "scatterternary"
           }
          ],
          "surface": [
           {
            "colorbar": {
             "outlinewidth": 0,
             "ticks": ""
            },
            "colorscale": [
             [
              0,
              "#0d0887"
             ],
             [
              0.1111111111111111,
              "#46039f"
             ],
             [
              0.2222222222222222,
              "#7201a8"
             ],
             [
              0.3333333333333333,
              "#9c179e"
             ],
             [
              0.4444444444444444,
              "#bd3786"
             ],
             [
              0.5555555555555556,
              "#d8576b"
             ],
             [
              0.6666666666666666,
              "#ed7953"
             ],
             [
              0.7777777777777778,
              "#fb9f3a"
             ],
             [
              0.8888888888888888,
              "#fdca26"
             ],
             [
              1,
              "#f0f921"
             ]
            ],
            "type": "surface"
           }
          ],
          "table": [
           {
            "cells": {
             "fill": {
              "color": "#EBF0F8"
             },
             "line": {
              "color": "white"
             }
            },
            "header": {
             "fill": {
              "color": "#C8D4E3"
             },
             "line": {
              "color": "white"
             }
            },
            "type": "table"
           }
          ]
         },
         "layout": {
          "annotationdefaults": {
           "arrowcolor": "#2a3f5f",
           "arrowhead": 0,
           "arrowwidth": 1
          },
          "coloraxis": {
           "colorbar": {
            "outlinewidth": 0,
            "ticks": ""
           }
          },
          "colorscale": {
           "diverging": [
            [
             0,
             "#8e0152"
            ],
            [
             0.1,
             "#c51b7d"
            ],
            [
             0.2,
             "#de77ae"
            ],
            [
             0.3,
             "#f1b6da"
            ],
            [
             0.4,
             "#fde0ef"
            ],
            [
             0.5,
             "#f7f7f7"
            ],
            [
             0.6,
             "#e6f5d0"
            ],
            [
             0.7,
             "#b8e186"
            ],
            [
             0.8,
             "#7fbc41"
            ],
            [
             0.9,
             "#4d9221"
            ],
            [
             1,
             "#276419"
            ]
           ],
           "sequential": [
            [
             0,
             "#0d0887"
            ],
            [
             0.1111111111111111,
             "#46039f"
            ],
            [
             0.2222222222222222,
             "#7201a8"
            ],
            [
             0.3333333333333333,
             "#9c179e"
            ],
            [
             0.4444444444444444,
             "#bd3786"
            ],
            [
             0.5555555555555556,
             "#d8576b"
            ],
            [
             0.6666666666666666,
             "#ed7953"
            ],
            [
             0.7777777777777778,
             "#fb9f3a"
            ],
            [
             0.8888888888888888,
             "#fdca26"
            ],
            [
             1,
             "#f0f921"
            ]
           ],
           "sequentialminus": [
            [
             0,
             "#0d0887"
            ],
            [
             0.1111111111111111,
             "#46039f"
            ],
            [
             0.2222222222222222,
             "#7201a8"
            ],
            [
             0.3333333333333333,
             "#9c179e"
            ],
            [
             0.4444444444444444,
             "#bd3786"
            ],
            [
             0.5555555555555556,
             "#d8576b"
            ],
            [
             0.6666666666666666,
             "#ed7953"
            ],
            [
             0.7777777777777778,
             "#fb9f3a"
            ],
            [
             0.8888888888888888,
             "#fdca26"
            ],
            [
             1,
             "#f0f921"
            ]
           ]
          },
          "colorway": [
           "#636efa",
           "#EF553B",
           "#00cc96",
           "#ab63fa",
           "#FFA15A",
           "#19d3f3",
           "#FF6692",
           "#B6E880",
           "#FF97FF",
           "#FECB52"
          ],
          "font": {
           "color": "#2a3f5f"
          },
          "geo": {
           "bgcolor": "white",
           "lakecolor": "white",
           "landcolor": "#E5ECF6",
           "showlakes": true,
           "showland": true,
           "subunitcolor": "white"
          },
          "hoverlabel": {
           "align": "left"
          },
          "hovermode": "closest",
          "mapbox": {
           "style": "light"
          },
          "paper_bgcolor": "white",
          "plot_bgcolor": "#E5ECF6",
          "polar": {
           "angularaxis": {
            "gridcolor": "white",
            "linecolor": "white",
            "ticks": ""
           },
           "bgcolor": "#E5ECF6",
           "radialaxis": {
            "gridcolor": "white",
            "linecolor": "white",
            "ticks": ""
           }
          },
          "scene": {
           "xaxis": {
            "backgroundcolor": "#E5ECF6",
            "gridcolor": "white",
            "gridwidth": 2,
            "linecolor": "white",
            "showbackground": true,
            "ticks": "",
            "zerolinecolor": "white"
           },
           "yaxis": {
            "backgroundcolor": "#E5ECF6",
            "gridcolor": "white",
            "gridwidth": 2,
            "linecolor": "white",
            "showbackground": true,
            "ticks": "",
            "zerolinecolor": "white"
           },
           "zaxis": {
            "backgroundcolor": "#E5ECF6",
            "gridcolor": "white",
            "gridwidth": 2,
            "linecolor": "white",
            "showbackground": true,
            "ticks": "",
            "zerolinecolor": "white"
           }
          },
          "shapedefaults": {
           "line": {
            "color": "#2a3f5f"
           }
          },
          "ternary": {
           "aaxis": {
            "gridcolor": "white",
            "linecolor": "white",
            "ticks": ""
           },
           "baxis": {
            "gridcolor": "white",
            "linecolor": "white",
            "ticks": ""
           },
           "bgcolor": "#E5ECF6",
           "caxis": {
            "gridcolor": "white",
            "linecolor": "white",
            "ticks": ""
           }
          },
          "title": {
           "x": 0.05
          },
          "xaxis": {
           "automargin": true,
           "gridcolor": "white",
           "linecolor": "white",
           "ticks": "",
           "title": {
            "standoff": 15
           },
           "zerolinecolor": "white",
           "zerolinewidth": 2
          },
          "yaxis": {
           "automargin": true,
           "gridcolor": "white",
           "linecolor": "white",
           "ticks": "",
           "title": {
            "standoff": 15
           },
           "zerolinecolor": "white",
           "zerolinewidth": 2
          }
         }
        },
        "title": {
         "font": {
          "color": "#4D5663"
         }
        },
        "xaxis": {
         "anchor": "y",
         "domain": [
          0,
          0.2125
         ],
         "gridcolor": "#E1E5ED",
         "showgrid": false,
         "tickfont": {
          "color": "#4D5663"
         },
         "title": {
          "font": {
           "color": "#4D5663"
          },
          "text": ""
         },
         "zerolinecolor": "#E1E5ED"
        },
        "xaxis10": {
         "anchor": "y10",
         "domain": [
          0.2625,
          0.475
         ],
         "gridcolor": "#E1E5ED",
         "showgrid": false,
         "tickfont": {
          "color": "#4D5663"
         },
         "title": {
          "font": {
           "color": "#4D5663"
          },
          "text": ""
         },
         "zerolinecolor": "#E1E5ED"
        },
        "xaxis11": {
         "anchor": "y11",
         "domain": [
          0.525,
          0.7375
         ],
         "gridcolor": "#E1E5ED",
         "showgrid": false,
         "tickfont": {
          "color": "#4D5663"
         },
         "title": {
          "font": {
           "color": "#4D5663"
          },
          "text": ""
         },
         "zerolinecolor": "#E1E5ED"
        },
        "xaxis12": {
         "anchor": "y12",
         "domain": [
          0.7875,
          1
         ],
         "gridcolor": "#E1E5ED",
         "showgrid": false,
         "tickfont": {
          "color": "#4D5663"
         },
         "title": {
          "font": {
           "color": "#4D5663"
          },
          "text": ""
         },
         "zerolinecolor": "#E1E5ED"
        },
        "xaxis13": {
         "anchor": "y13",
         "domain": [
          0,
          0.2125
         ],
         "gridcolor": "#E1E5ED",
         "showgrid": false,
         "tickfont": {
          "color": "#4D5663"
         },
         "title": {
          "font": {
           "color": "#4D5663"
          },
          "text": ""
         },
         "zerolinecolor": "#E1E5ED"
        },
        "xaxis14": {
         "anchor": "y14",
         "domain": [
          0.2625,
          0.475
         ],
         "gridcolor": "#E1E5ED",
         "showgrid": false,
         "tickfont": {
          "color": "#4D5663"
         },
         "title": {
          "font": {
           "color": "#4D5663"
          },
          "text": ""
         },
         "zerolinecolor": "#E1E5ED"
        },
        "xaxis15": {
         "anchor": "y15",
         "domain": [
          0.525,
          0.7375
         ],
         "gridcolor": "#E1E5ED",
         "showgrid": false,
         "tickfont": {
          "color": "#4D5663"
         },
         "title": {
          "font": {
           "color": "#4D5663"
          },
          "text": ""
         },
         "zerolinecolor": "#E1E5ED"
        },
        "xaxis16": {
         "anchor": "y16",
         "domain": [
          0.7875,
          1
         ],
         "gridcolor": "#E1E5ED",
         "showgrid": false,
         "tickfont": {
          "color": "#4D5663"
         },
         "title": {
          "font": {
           "color": "#4D5663"
          },
          "text": ""
         },
         "zerolinecolor": "#E1E5ED"
        },
        "xaxis2": {
         "anchor": "y2",
         "domain": [
          0.2625,
          0.475
         ],
         "gridcolor": "#E1E5ED",
         "showgrid": false,
         "tickfont": {
          "color": "#4D5663"
         },
         "title": {
          "font": {
           "color": "#4D5663"
          },
          "text": ""
         },
         "zerolinecolor": "#E1E5ED"
        },
        "xaxis3": {
         "anchor": "y3",
         "domain": [
          0.525,
          0.7375
         ],
         "gridcolor": "#E1E5ED",
         "showgrid": false,
         "tickfont": {
          "color": "#4D5663"
         },
         "title": {
          "font": {
           "color": "#4D5663"
          },
          "text": ""
         },
         "zerolinecolor": "#E1E5ED"
        },
        "xaxis4": {
         "anchor": "y4",
         "domain": [
          0.7875,
          1
         ],
         "gridcolor": "#E1E5ED",
         "showgrid": false,
         "tickfont": {
          "color": "#4D5663"
         },
         "title": {
          "font": {
           "color": "#4D5663"
          },
          "text": ""
         },
         "zerolinecolor": "#E1E5ED"
        },
        "xaxis5": {
         "anchor": "y5",
         "domain": [
          0,
          0.2125
         ],
         "gridcolor": "#E1E5ED",
         "showgrid": false,
         "tickfont": {
          "color": "#4D5663"
         },
         "title": {
          "font": {
           "color": "#4D5663"
          },
          "text": ""
         },
         "zerolinecolor": "#E1E5ED"
        },
        "xaxis6": {
         "anchor": "y6",
         "domain": [
          0.2625,
          0.475
         ],
         "gridcolor": "#E1E5ED",
         "showgrid": false,
         "tickfont": {
          "color": "#4D5663"
         },
         "title": {
          "font": {
           "color": "#4D5663"
          },
          "text": ""
         },
         "zerolinecolor": "#E1E5ED"
        },
        "xaxis7": {
         "anchor": "y7",
         "domain": [
          0.525,
          0.7375
         ],
         "gridcolor": "#E1E5ED",
         "showgrid": false,
         "tickfont": {
          "color": "#4D5663"
         },
         "title": {
          "font": {
           "color": "#4D5663"
          },
          "text": ""
         },
         "zerolinecolor": "#E1E5ED"
        },
        "xaxis8": {
         "anchor": "y8",
         "domain": [
          0.7875,
          1
         ],
         "gridcolor": "#E1E5ED",
         "showgrid": false,
         "tickfont": {
          "color": "#4D5663"
         },
         "title": {
          "font": {
           "color": "#4D5663"
          },
          "text": ""
         },
         "zerolinecolor": "#E1E5ED"
        },
        "xaxis9": {
         "anchor": "y9",
         "domain": [
          0,
          0.2125
         ],
         "gridcolor": "#E1E5ED",
         "showgrid": false,
         "tickfont": {
          "color": "#4D5663"
         },
         "title": {
          "font": {
           "color": "#4D5663"
          },
          "text": ""
         },
         "zerolinecolor": "#E1E5ED"
        },
        "yaxis": {
         "anchor": "x",
         "domain": [
          0.8025,
          1
         ],
         "gridcolor": "#E1E5ED",
         "showgrid": false,
         "tickfont": {
          "color": "#4D5663"
         },
         "title": {
          "font": {
           "color": "#4D5663"
          },
          "text": ""
         },
         "zerolinecolor": "#E1E5ED"
        },
        "yaxis10": {
         "anchor": "x10",
         "domain": [
          0.2675,
          0.465
         ],
         "gridcolor": "#E1E5ED",
         "showgrid": false,
         "tickfont": {
          "color": "#4D5663"
         },
         "title": {
          "font": {
           "color": "#4D5663"
          },
          "text": ""
         },
         "zerolinecolor": "#E1E5ED"
        },
        "yaxis11": {
         "anchor": "x11",
         "domain": [
          0.2675,
          0.465
         ],
         "gridcolor": "#E1E5ED",
         "showgrid": false,
         "tickfont": {
          "color": "#4D5663"
         },
         "title": {
          "font": {
           "color": "#4D5663"
          },
          "text": ""
         },
         "zerolinecolor": "#E1E5ED"
        },
        "yaxis12": {
         "anchor": "x12",
         "domain": [
          0.2675,
          0.465
         ],
         "gridcolor": "#E1E5ED",
         "showgrid": false,
         "tickfont": {
          "color": "#4D5663"
         },
         "title": {
          "font": {
           "color": "#4D5663"
          },
          "text": ""
         },
         "zerolinecolor": "#E1E5ED"
        },
        "yaxis13": {
         "anchor": "x13",
         "domain": [
          0,
          0.1975
         ],
         "gridcolor": "#E1E5ED",
         "showgrid": false,
         "tickfont": {
          "color": "#4D5663"
         },
         "title": {
          "font": {
           "color": "#4D5663"
          },
          "text": ""
         },
         "zerolinecolor": "#E1E5ED"
        },
        "yaxis14": {
         "anchor": "x14",
         "domain": [
          0,
          0.1975
         ],
         "gridcolor": "#E1E5ED",
         "showgrid": false,
         "tickfont": {
          "color": "#4D5663"
         },
         "title": {
          "font": {
           "color": "#4D5663"
          },
          "text": ""
         },
         "zerolinecolor": "#E1E5ED"
        },
        "yaxis15": {
         "anchor": "x15",
         "domain": [
          0,
          0.1975
         ],
         "gridcolor": "#E1E5ED",
         "showgrid": false,
         "tickfont": {
          "color": "#4D5663"
         },
         "title": {
          "font": {
           "color": "#4D5663"
          },
          "text": ""
         },
         "zerolinecolor": "#E1E5ED"
        },
        "yaxis16": {
         "anchor": "x16",
         "domain": [
          0,
          0.1975
         ],
         "gridcolor": "#E1E5ED",
         "showgrid": false,
         "tickfont": {
          "color": "#4D5663"
         },
         "title": {
          "font": {
           "color": "#4D5663"
          },
          "text": ""
         },
         "zerolinecolor": "#E1E5ED"
        },
        "yaxis2": {
         "anchor": "x2",
         "domain": [
          0.8025,
          1
         ],
         "gridcolor": "#E1E5ED",
         "showgrid": false,
         "tickfont": {
          "color": "#4D5663"
         },
         "title": {
          "font": {
           "color": "#4D5663"
          },
          "text": ""
         },
         "zerolinecolor": "#E1E5ED"
        },
        "yaxis3": {
         "anchor": "x3",
         "domain": [
          0.8025,
          1
         ],
         "gridcolor": "#E1E5ED",
         "showgrid": false,
         "tickfont": {
          "color": "#4D5663"
         },
         "title": {
          "font": {
           "color": "#4D5663"
          },
          "text": ""
         },
         "zerolinecolor": "#E1E5ED"
        },
        "yaxis4": {
         "anchor": "x4",
         "domain": [
          0.8025,
          1
         ],
         "gridcolor": "#E1E5ED",
         "showgrid": false,
         "tickfont": {
          "color": "#4D5663"
         },
         "title": {
          "font": {
           "color": "#4D5663"
          },
          "text": ""
         },
         "zerolinecolor": "#E1E5ED"
        },
        "yaxis5": {
         "anchor": "x5",
         "domain": [
          0.535,
          0.7325
         ],
         "gridcolor": "#E1E5ED",
         "showgrid": false,
         "tickfont": {
          "color": "#4D5663"
         },
         "title": {
          "font": {
           "color": "#4D5663"
          },
          "text": ""
         },
         "zerolinecolor": "#E1E5ED"
        },
        "yaxis6": {
         "anchor": "x6",
         "domain": [
          0.535,
          0.7325
         ],
         "gridcolor": "#E1E5ED",
         "showgrid": false,
         "tickfont": {
          "color": "#4D5663"
         },
         "title": {
          "font": {
           "color": "#4D5663"
          },
          "text": ""
         },
         "zerolinecolor": "#E1E5ED"
        },
        "yaxis7": {
         "anchor": "x7",
         "domain": [
          0.535,
          0.7325
         ],
         "gridcolor": "#E1E5ED",
         "showgrid": false,
         "tickfont": {
          "color": "#4D5663"
         },
         "title": {
          "font": {
           "color": "#4D5663"
          },
          "text": ""
         },
         "zerolinecolor": "#E1E5ED"
        },
        "yaxis8": {
         "anchor": "x8",
         "domain": [
          0.535,
          0.7325
         ],
         "gridcolor": "#E1E5ED",
         "showgrid": false,
         "tickfont": {
          "color": "#4D5663"
         },
         "title": {
          "font": {
           "color": "#4D5663"
          },
          "text": ""
         },
         "zerolinecolor": "#E1E5ED"
        },
        "yaxis9": {
         "anchor": "x9",
         "domain": [
          0.2675,
          0.465
         ],
         "gridcolor": "#E1E5ED",
         "showgrid": false,
         "tickfont": {
          "color": "#4D5663"
         },
         "title": {
          "font": {
           "color": "#4D5663"
          },
          "text": ""
         },
         "zerolinecolor": "#E1E5ED"
        }
       }
      },
      "text/html": [
       "<div>\n",
       "        \n",
       "        \n",
       "            <div id=\"48ba1e36-00a9-40a6-9f39-8e3f5b8bcdc1\" class=\"plotly-graph-div\" style=\"height:525px; width:100%;\"></div>\n",
       "            <script type=\"text/javascript\">\n",
       "                require([\"plotly\"], function(Plotly) {\n",
       "                    window.PLOTLYENV=window.PLOTLYENV || {};\n",
       "                    window.PLOTLYENV.BASE_URL='https://plot.ly';\n",
       "                    \n",
       "                if (document.getElementById(\"48ba1e36-00a9-40a6-9f39-8e3f5b8bcdc1\")) {\n",
       "                    Plotly.newPlot(\n",
       "                        '48ba1e36-00a9-40a6-9f39-8e3f5b8bcdc1',\n",
       "                        [{\"histfunc\": \"count\", \"histnorm\": \"\", \"marker\": {\"color\": \"rgba(255, 153, 51, 1.0)\", \"line\": {\"color\": \"#4D5663\", \"width\": 1.3}}, \"name\": \"A\", \"nbinsx\": 10, \"opacity\": 0.8, \"orientation\": \"v\", \"type\": \"histogram\", \"x\": [1.9072310072255976, 0.45664251731057026, 1.8735593319249753, -1.2764623848263121, 1.3628530085372335, -0.4325085498941139, -2.130565106550025, -0.3478882665499311, -1.8065591069816318, 1.2802855972530267, 0.9099690101147678, -0.7254302350257974, -1.357689466572614, -0.2924728207932572, -0.6520631482874802, 0.004148547838381575, 0.6844015451212803, 0.4768351538690697, 0.6533129371097708, -0.8033735902053046, 0.10436594645935798, 0.5988000624309174, -0.6343639773656216, -0.13527773819219185, -0.20256767414639978, -0.015873236886170233, 1.0333180007396285, 0.6233280465126437, 1.8054087268203456, -0.3483139337287294, -1.6450789071911471, -0.07367633128762816, 0.9661664795196275, -3.554540119417503, -0.3517884347890016, -0.011080518665749637, 0.621422551146316, -1.2531579594339688, -0.10051082015301586, -0.24054607341946016, -0.3839538033661071, -1.0575974259826995, -1.752757339947482, 0.2774973963127115, -1.4494616998409102, 0.16015295976718663, -1.5104556329789018, -0.8063273303499235, -0.3947630414938095, 0.43441231346843795, 1.226504273411426, 0.2024939514122735, -0.00835533148028108, -0.36256325006618495, 0.5359156853817274, -1.0969121025292958, 0.43187469434509806, 0.8496889764272824, -1.2082731388454349, -1.7089121213718867, -0.5170724026485997, -0.03994284400890909, -0.25932188432990816, 0.07953898183032124, 1.0458832881768172, -1.9579149340336046, 0.5453127632430007, 1.854844673262272, -2.5673923034531083, -0.09091067989192657, -0.3884470822677006, -1.8469698500964709, -1.5158324196916066, -0.38138223397344256, -0.05805129919084255, 1.087493238981735, 0.7534415222757022, -0.6284540050680987, -0.38751599288043437, -1.2084618045487636, 0.0514634408368774, -1.082918557354612, -0.4992107264311093, -1.9452028837154631, 0.7273056387902339, -0.8955610849268126, -0.8234617655936936, 0.532065163647017, -1.1028862381850142, -1.7582423251578894, -1.3791246147712828, 0.10042152710117103, -0.5716713526590748, -0.9735284618191417, -0.058716214204821274, 0.5119956539665943, 0.11718988426468993, 0.006329341436323806, -0.620841952508306, 0.8187717540053973], \"xaxis\": \"x\", \"yaxis\": \"y\"}, {\"line\": {\"color\": \"rgba(128, 128, 128, 1.0)\", \"dash\": \"solid\", \"shape\": \"linear\", \"width\": 1.3}, \"marker\": {\"size\": 2, \"symbol\": \"circle\"}, \"mode\": \"markers\", \"name\": \"A\", \"text\": \"\", \"type\": \"scatter\", \"x\": [0.5397341984256421, 1.4273648820401585, -0.2699470460701567, -0.009205707259470066, 0.38245509704051034, -0.6121410983025236, 1.471122536385358, 0.008852038627531702, -1.0322725314491903, 0.8203466329622852, 0.40274543333508517, 1.1710113832309024, -0.8490119147891786, 0.37012452704623977, 0.6727839097825701, -0.7146490926729023, -1.1710925815152915, 0.829667151217231, 1.6254325510413408, -0.03523386729780477, 0.8344690832208976, -0.013325006634558746, 0.731317913467702, -0.34730864357214936, 0.43023502387456686, 1.4329446581756315, -0.7491845032709245, 0.3510417309197764, 0.14083899715516177, -1.1861006093411341, 0.06372821563374959, -0.5482268710062057, 0.5358156468037663, 1.860518121810859, 1.0586200684408351, -0.0639731090133942, -0.08212677769362468, -1.3644617085653952, 2.306486236434318, 0.2299424870881697, 0.277553325627394, -0.7310389683951801, 0.7855790026429404, 1.991062673583806, 0.42083892064389616, 0.3312184872102766, -0.948280317204048, -0.9568068650540437, 0.06219846171557773, -0.6894903418517699, 0.9426582104357005, -0.6549530029210485, -0.27693993710331516, 0.5794679612177993, -0.17445332930955162, 1.973689765686015, -1.1221081740462968, -0.5689439814189605, -0.812476104079502, 2.106994461930286, 0.32736395155534453, 0.1312433407250468, -0.18047861897329853, -0.772626615251416, 0.3228290458457046, -0.3876374046636482, 0.1833422829766309, 1.9087468843804094, -0.15516628138100658, -1.4163623544697346, 0.6147553608766299, 0.6285689877845728, 0.46983514730252834, -1.891043424119729, -0.41109171089752206, -0.19882089607141482, 0.26050507326347166, -0.021940889213982018, 0.35818838870948727, 0.8607668916844468, -0.76838927683406, -0.627976710508572, -0.6366917226484422, 0.04068231456785195, 1.0800854230491712, -0.5362280813309173, 0.9978930275747946, -1.7791250497361506, -0.677962460840107, 0.7572816499590634, -0.287425248846891, -0.47888022308913814, -1.1274959646162466, 0.2324095143049378, 0.8683229396351135, 1.829117056821466, -1.816751591989605, -0.5924861572089956, 0.8017402458379345, -1.4002762640497939], \"xaxis\": \"x2\", \"y\": [1.9072310072255976, 0.45664251731057026, 1.8735593319249753, -1.2764623848263121, 1.3628530085372335, -0.4325085498941139, -2.130565106550025, -0.3478882665499311, -1.8065591069816318, 1.2802855972530267, 0.9099690101147678, -0.7254302350257974, -1.357689466572614, -0.2924728207932572, -0.6520631482874802, 0.004148547838381575, 0.6844015451212803, 0.4768351538690697, 0.6533129371097708, -0.8033735902053046, 0.10436594645935798, 0.5988000624309174, -0.6343639773656216, -0.13527773819219185, -0.20256767414639978, -0.015873236886170233, 1.0333180007396285, 0.6233280465126437, 1.8054087268203456, -0.3483139337287294, -1.6450789071911471, -0.07367633128762816, 0.9661664795196275, -3.554540119417503, -0.3517884347890016, -0.011080518665749637, 0.621422551146316, -1.2531579594339688, -0.10051082015301586, -0.24054607341946016, -0.3839538033661071, -1.0575974259826995, -1.752757339947482, 0.2774973963127115, -1.4494616998409102, 0.16015295976718663, -1.5104556329789018, -0.8063273303499235, -0.3947630414938095, 0.43441231346843795, 1.226504273411426, 0.2024939514122735, -0.00835533148028108, -0.36256325006618495, 0.5359156853817274, -1.0969121025292958, 0.43187469434509806, 0.8496889764272824, -1.2082731388454349, -1.7089121213718867, -0.5170724026485997, -0.03994284400890909, -0.25932188432990816, 0.07953898183032124, 1.0458832881768172, -1.9579149340336046, 0.5453127632430007, 1.854844673262272, -2.5673923034531083, -0.09091067989192657, -0.3884470822677006, -1.8469698500964709, -1.5158324196916066, -0.38138223397344256, -0.05805129919084255, 1.087493238981735, 0.7534415222757022, -0.6284540050680987, -0.38751599288043437, -1.2084618045487636, 0.0514634408368774, -1.082918557354612, -0.4992107264311093, -1.9452028837154631, 0.7273056387902339, -0.8955610849268126, -0.8234617655936936, 0.532065163647017, -1.1028862381850142, -1.7582423251578894, -1.3791246147712828, 0.10042152710117103, -0.5716713526590748, -0.9735284618191417, -0.058716214204821274, 0.5119956539665943, 0.11718988426468993, 0.006329341436323806, -0.620841952508306, 0.8187717540053973], \"yaxis\": \"y2\"}, {\"line\": {\"color\": \"rgba(128, 128, 128, 1.0)\", \"dash\": \"solid\", \"shape\": \"linear\", \"width\": 1.3}, \"marker\": {\"size\": 2, \"symbol\": \"circle\"}, \"mode\": \"markers\", \"name\": \"A\", \"text\": \"\", \"type\": \"scatter\", \"x\": [0.1290518449288295, -0.8942693898422739, -0.0603885969808389, 0.8888571827253696, 0.3303216544253686, -0.6962016615371871, 0.6847180896334788, 1.634685536133902, -0.7768311097265821, -1.0497817281496105, 0.04260478899227552, 0.2838691156189989, -0.2912038460934214, 0.81625304472437, -1.3331321265578724, -0.911191847865561, -0.19687587859455705, -1.2485335063985736, 1.6254466265754193, -0.13264571807983716, 0.029233385616819835, -0.3835662646984012, -0.5998151436263172, 0.06629171046788511, -0.5334147456940839, -1.4752559631396605, -2.043165615565392, -0.9073109239546666, -0.5635336272430629, -0.008789992072936102, -1.7101997598000038, 1.918910794788815, 0.12651018891030594, -2.6736508129888765, 0.04090428461982828, -0.6267744176315131, 1.3335525230802128, -0.4120113575547163, -0.5594431836696315, -0.22065240576609835, 0.12305168424365334, -0.22595737428925225, 0.5349659874982043, 0.04224545942985787, 0.08866425256121034, 0.45401509544651464, -1.7797491351659889, 0.19668438010122313, -0.004817687438065632, 1.3282039365181113, 0.7042870811841475, 0.32056053960947095, -0.26560675795858235, -0.3716990673752184, -0.3452507209114012, 1.44433585382595, -0.25495549926528543, -0.24335827103759927, -0.5360389588075302, 0.8772550092169797, 0.36905944121709056, 0.687483714658491, -0.8763895837530766, 2.151432620163798, 0.9758341259438752, -0.4232591087195389, -0.7263409692947592, -1.4283884300059841, 0.3749006863824324, 1.2615256423879257, -0.47739720739320624, 0.007655163420542726, -0.7326569236558824, -0.23816640030265812, 0.5891064824477343, 0.6667209587695969, -2.2238868518942123, 0.7101794040876726, -1.1067475414415793, -0.43368631367219096, 1.1127113699512454, -3.5180754076422085, 1.6894351549143032, 0.7375479091898545, 2.273084648207982, 0.2093410158696672, 0.1275858696546415, 0.5877413023474375, -0.7730905034289465, 1.6960758468267494, -0.4795135980211943, -0.4670536994748242, -1.7923554266762372, -1.2489568643422548, 0.4584963812339756, 0.7321164288932169, 0.5720135489933249, -0.8741127283123019, 0.5753286511533514, 0.7941319134540555], \"xaxis\": \"x3\", \"y\": [1.9072310072255976, 0.45664251731057026, 1.8735593319249753, -1.2764623848263121, 1.3628530085372335, -0.4325085498941139, -2.130565106550025, -0.3478882665499311, -1.8065591069816318, 1.2802855972530267, 0.9099690101147678, -0.7254302350257974, -1.357689466572614, -0.2924728207932572, -0.6520631482874802, 0.004148547838381575, 0.6844015451212803, 0.4768351538690697, 0.6533129371097708, -0.8033735902053046, 0.10436594645935798, 0.5988000624309174, -0.6343639773656216, -0.13527773819219185, -0.20256767414639978, -0.015873236886170233, 1.0333180007396285, 0.6233280465126437, 1.8054087268203456, -0.3483139337287294, -1.6450789071911471, -0.07367633128762816, 0.9661664795196275, -3.554540119417503, -0.3517884347890016, -0.011080518665749637, 0.621422551146316, -1.2531579594339688, -0.10051082015301586, -0.24054607341946016, -0.3839538033661071, -1.0575974259826995, -1.752757339947482, 0.2774973963127115, -1.4494616998409102, 0.16015295976718663, -1.5104556329789018, -0.8063273303499235, -0.3947630414938095, 0.43441231346843795, 1.226504273411426, 0.2024939514122735, -0.00835533148028108, -0.36256325006618495, 0.5359156853817274, -1.0969121025292958, 0.43187469434509806, 0.8496889764272824, -1.2082731388454349, -1.7089121213718867, -0.5170724026485997, -0.03994284400890909, -0.25932188432990816, 0.07953898183032124, 1.0458832881768172, -1.9579149340336046, 0.5453127632430007, 1.854844673262272, -2.5673923034531083, -0.09091067989192657, -0.3884470822677006, -1.8469698500964709, -1.5158324196916066, -0.38138223397344256, -0.05805129919084255, 1.087493238981735, 0.7534415222757022, -0.6284540050680987, -0.38751599288043437, -1.2084618045487636, 0.0514634408368774, -1.082918557354612, -0.4992107264311093, -1.9452028837154631, 0.7273056387902339, -0.8955610849268126, -0.8234617655936936, 0.532065163647017, -1.1028862381850142, -1.7582423251578894, -1.3791246147712828, 0.10042152710117103, -0.5716713526590748, -0.9735284618191417, -0.058716214204821274, 0.5119956539665943, 0.11718988426468993, 0.006329341436323806, -0.620841952508306, 0.8187717540053973], \"yaxis\": \"y3\"}, {\"line\": {\"color\": \"rgba(128, 128, 128, 1.0)\", \"dash\": \"solid\", \"shape\": \"linear\", \"width\": 1.3}, \"marker\": {\"size\": 2, \"symbol\": \"circle\"}, \"mode\": \"markers\", \"name\": \"A\", \"text\": \"\", \"type\": \"scatter\", \"x\": [-1.98391637917484, 0.7709525668191602, 1.035419861330941, 1.4417704578205035, -0.08896422052327554, 0.17092025951416737, -2.1080136681225032, -1.5250922351857676, -0.026762787820439168, 1.0998460693649141, 0.23091058917948548, 0.6325655245214455, 1.5835804818769312, -0.11428329863210708, -2.2778561659483683, 0.891607490588241, 0.31025493453159747, -0.8377068774275928, -0.807822956343638, 0.8518053651312106, 0.21457144606777215, 1.0315235223368702, -1.5243672016317151, 1.6683287308670112, -2.7931280269506984, 0.6940655689111038, 1.9623415527581394, -0.7624118235995387, -0.20056846446995488, -0.6501963503967874, 0.9884059568672299, -1.633055927710676, -0.2494597122289142, 0.8714462386930537, -1.0646442724071206, 0.149190137888478, 0.10274451793225345, 0.03370701950596059, 0.42813908436603065, -0.48177266293926635, -0.8879242106159551, 0.23221415955640232, 0.6842347650504285, -0.10955251785708613, 0.4867956662898185, -0.7054283503401905, 0.06474989591599337, -0.7876540054494298, 0.5343136394302063, 0.042684352308633405, -0.16673198141396978, 1.7112143089213487, -0.38324163790884314, 1.2098094860548758, 1.8915333419114813, -0.661764747587267, 0.25871649531212054, -0.4705028898091924, 0.9897176320289679, -0.15343691337338916, 0.42192977920907715, -0.12430850661724739, 0.5981619565209743, 0.482735136064605, -1.1030235985469987, 1.242240587844812, -0.6021944852896283, -1.054917278224973, 0.15523086441313563, -1.6450536445743458, -0.5380979389961633, -0.17748978975832785, -0.6296565012042219, 0.3373686044484245, -1.1803469192277745, -0.967283447322248, -0.5570452871077222, -1.5746819791076703, 0.7529814075319013, -0.9005719235209542, -0.5444797659642279, -1.2654592599808787, 0.01627521893794739, 0.7535658105375982, -0.20653782340574864, -0.37983754807719283, -0.6997601308318075, -0.325757900081184, 0.4129298817199609, 0.46756150246359696, -1.1029938903553604, -0.3530223408861881, 1.0456733358176729, -0.4518373908910548, -0.9629326506667446, 0.5473940570622489, -0.027340882510283653, -1.3424921764772848, 0.07934729391308067, -0.41255363718070104], \"xaxis\": \"x4\", \"y\": [1.9072310072255976, 0.45664251731057026, 1.8735593319249753, -1.2764623848263121, 1.3628530085372335, -0.4325085498941139, -2.130565106550025, -0.3478882665499311, -1.8065591069816318, 1.2802855972530267, 0.9099690101147678, -0.7254302350257974, -1.357689466572614, -0.2924728207932572, -0.6520631482874802, 0.004148547838381575, 0.6844015451212803, 0.4768351538690697, 0.6533129371097708, -0.8033735902053046, 0.10436594645935798, 0.5988000624309174, -0.6343639773656216, -0.13527773819219185, -0.20256767414639978, -0.015873236886170233, 1.0333180007396285, 0.6233280465126437, 1.8054087268203456, -0.3483139337287294, -1.6450789071911471, -0.07367633128762816, 0.9661664795196275, -3.554540119417503, -0.3517884347890016, -0.011080518665749637, 0.621422551146316, -1.2531579594339688, -0.10051082015301586, -0.24054607341946016, -0.3839538033661071, -1.0575974259826995, -1.752757339947482, 0.2774973963127115, -1.4494616998409102, 0.16015295976718663, -1.5104556329789018, -0.8063273303499235, -0.3947630414938095, 0.43441231346843795, 1.226504273411426, 0.2024939514122735, -0.00835533148028108, -0.36256325006618495, 0.5359156853817274, -1.0969121025292958, 0.43187469434509806, 0.8496889764272824, -1.2082731388454349, -1.7089121213718867, -0.5170724026485997, -0.03994284400890909, -0.25932188432990816, 0.07953898183032124, 1.0458832881768172, -1.9579149340336046, 0.5453127632430007, 1.854844673262272, -2.5673923034531083, -0.09091067989192657, -0.3884470822677006, -1.8469698500964709, -1.5158324196916066, -0.38138223397344256, -0.05805129919084255, 1.087493238981735, 0.7534415222757022, -0.6284540050680987, -0.38751599288043437, -1.2084618045487636, 0.0514634408368774, -1.082918557354612, -0.4992107264311093, -1.9452028837154631, 0.7273056387902339, -0.8955610849268126, -0.8234617655936936, 0.532065163647017, -1.1028862381850142, -1.7582423251578894, -1.3791246147712828, 0.10042152710117103, -0.5716713526590748, -0.9735284618191417, -0.058716214204821274, 0.5119956539665943, 0.11718988426468993, 0.006329341436323806, -0.620841952508306, 0.8187717540053973], \"yaxis\": \"y4\"}, {\"line\": {\"color\": \"rgba(128, 128, 128, 1.0)\", \"dash\": \"solid\", \"shape\": \"linear\", \"width\": 1.3}, \"marker\": {\"size\": 2, \"symbol\": \"circle\"}, \"mode\": \"markers\", \"name\": \"B\", \"text\": \"\", \"type\": \"scatter\", \"x\": [1.9072310072255976, 0.45664251731057026, 1.8735593319249753, -1.2764623848263121, 1.3628530085372335, -0.4325085498941139, -2.130565106550025, -0.3478882665499311, -1.8065591069816318, 1.2802855972530267, 0.9099690101147678, -0.7254302350257974, -1.357689466572614, -0.2924728207932572, -0.6520631482874802, 0.004148547838381575, 0.6844015451212803, 0.4768351538690697, 0.6533129371097708, -0.8033735902053046, 0.10436594645935798, 0.5988000624309174, -0.6343639773656216, -0.13527773819219185, -0.20256767414639978, -0.015873236886170233, 1.0333180007396285, 0.6233280465126437, 1.8054087268203456, -0.3483139337287294, -1.6450789071911471, -0.07367633128762816, 0.9661664795196275, -3.554540119417503, -0.3517884347890016, -0.011080518665749637, 0.621422551146316, -1.2531579594339688, -0.10051082015301586, -0.24054607341946016, -0.3839538033661071, -1.0575974259826995, -1.752757339947482, 0.2774973963127115, -1.4494616998409102, 0.16015295976718663, -1.5104556329789018, -0.8063273303499235, -0.3947630414938095, 0.43441231346843795, 1.226504273411426, 0.2024939514122735, -0.00835533148028108, -0.36256325006618495, 0.5359156853817274, -1.0969121025292958, 0.43187469434509806, 0.8496889764272824, -1.2082731388454349, -1.7089121213718867, -0.5170724026485997, -0.03994284400890909, -0.25932188432990816, 0.07953898183032124, 1.0458832881768172, -1.9579149340336046, 0.5453127632430007, 1.854844673262272, -2.5673923034531083, -0.09091067989192657, -0.3884470822677006, -1.8469698500964709, -1.5158324196916066, -0.38138223397344256, -0.05805129919084255, 1.087493238981735, 0.7534415222757022, -0.6284540050680987, -0.38751599288043437, -1.2084618045487636, 0.0514634408368774, -1.082918557354612, -0.4992107264311093, -1.9452028837154631, 0.7273056387902339, -0.8955610849268126, -0.8234617655936936, 0.532065163647017, -1.1028862381850142, -1.7582423251578894, -1.3791246147712828, 0.10042152710117103, -0.5716713526590748, -0.9735284618191417, -0.058716214204821274, 0.5119956539665943, 0.11718988426468993, 0.006329341436323806, -0.620841952508306, 0.8187717540053973], \"xaxis\": \"x5\", \"y\": [0.5397341984256421, 1.4273648820401585, -0.2699470460701567, -0.009205707259470066, 0.38245509704051034, -0.6121410983025236, 1.471122536385358, 0.008852038627531702, -1.0322725314491903, 0.8203466329622852, 0.40274543333508517, 1.1710113832309024, -0.8490119147891786, 0.37012452704623977, 0.6727839097825701, -0.7146490926729023, -1.1710925815152915, 0.829667151217231, 1.6254325510413408, -0.03523386729780477, 0.8344690832208976, -0.013325006634558746, 0.731317913467702, -0.34730864357214936, 0.43023502387456686, 1.4329446581756315, -0.7491845032709245, 0.3510417309197764, 0.14083899715516177, -1.1861006093411341, 0.06372821563374959, -0.5482268710062057, 0.5358156468037663, 1.860518121810859, 1.0586200684408351, -0.0639731090133942, -0.08212677769362468, -1.3644617085653952, 2.306486236434318, 0.2299424870881697, 0.277553325627394, -0.7310389683951801, 0.7855790026429404, 1.991062673583806, 0.42083892064389616, 0.3312184872102766, -0.948280317204048, -0.9568068650540437, 0.06219846171557773, -0.6894903418517699, 0.9426582104357005, -0.6549530029210485, -0.27693993710331516, 0.5794679612177993, -0.17445332930955162, 1.973689765686015, -1.1221081740462968, -0.5689439814189605, -0.812476104079502, 2.106994461930286, 0.32736395155534453, 0.1312433407250468, -0.18047861897329853, -0.772626615251416, 0.3228290458457046, -0.3876374046636482, 0.1833422829766309, 1.9087468843804094, -0.15516628138100658, -1.4163623544697346, 0.6147553608766299, 0.6285689877845728, 0.46983514730252834, -1.891043424119729, -0.41109171089752206, -0.19882089607141482, 0.26050507326347166, -0.021940889213982018, 0.35818838870948727, 0.8607668916844468, -0.76838927683406, -0.627976710508572, -0.6366917226484422, 0.04068231456785195, 1.0800854230491712, -0.5362280813309173, 0.9978930275747946, -1.7791250497361506, -0.677962460840107, 0.7572816499590634, -0.287425248846891, -0.47888022308913814, -1.1274959646162466, 0.2324095143049378, 0.8683229396351135, 1.829117056821466, -1.816751591989605, -0.5924861572089956, 0.8017402458379345, -1.4002762640497939], \"yaxis\": \"y5\"}, {\"histfunc\": \"count\", \"histnorm\": \"\", \"marker\": {\"color\": \"rgba(55, 128, 191, 1.0)\", \"line\": {\"color\": \"#4D5663\", \"width\": 1.3}}, \"name\": \"B\", \"nbinsx\": 10, \"opacity\": 0.8, \"orientation\": \"v\", \"type\": \"histogram\", \"x\": [0.5397341984256421, 1.4273648820401585, -0.2699470460701567, -0.009205707259470066, 0.38245509704051034, -0.6121410983025236, 1.471122536385358, 0.008852038627531702, -1.0322725314491903, 0.8203466329622852, 0.40274543333508517, 1.1710113832309024, -0.8490119147891786, 0.37012452704623977, 0.6727839097825701, -0.7146490926729023, -1.1710925815152915, 0.829667151217231, 1.6254325510413408, -0.03523386729780477, 0.8344690832208976, -0.013325006634558746, 0.731317913467702, -0.34730864357214936, 0.43023502387456686, 1.4329446581756315, -0.7491845032709245, 0.3510417309197764, 0.14083899715516177, -1.1861006093411341, 0.06372821563374959, -0.5482268710062057, 0.5358156468037663, 1.860518121810859, 1.0586200684408351, -0.0639731090133942, -0.08212677769362468, -1.3644617085653952, 2.306486236434318, 0.2299424870881697, 0.277553325627394, -0.7310389683951801, 0.7855790026429404, 1.991062673583806, 0.42083892064389616, 0.3312184872102766, -0.948280317204048, -0.9568068650540437, 0.06219846171557773, -0.6894903418517699, 0.9426582104357005, -0.6549530029210485, -0.27693993710331516, 0.5794679612177993, -0.17445332930955162, 1.973689765686015, -1.1221081740462968, -0.5689439814189605, -0.812476104079502, 2.106994461930286, 0.32736395155534453, 0.1312433407250468, -0.18047861897329853, -0.772626615251416, 0.3228290458457046, -0.3876374046636482, 0.1833422829766309, 1.9087468843804094, -0.15516628138100658, -1.4163623544697346, 0.6147553608766299, 0.6285689877845728, 0.46983514730252834, -1.891043424119729, -0.41109171089752206, -0.19882089607141482, 0.26050507326347166, -0.021940889213982018, 0.35818838870948727, 0.8607668916844468, -0.76838927683406, -0.627976710508572, -0.6366917226484422, 0.04068231456785195, 1.0800854230491712, -0.5362280813309173, 0.9978930275747946, -1.7791250497361506, -0.677962460840107, 0.7572816499590634, -0.287425248846891, -0.47888022308913814, -1.1274959646162466, 0.2324095143049378, 0.8683229396351135, 1.829117056821466, -1.816751591989605, -0.5924861572089956, 0.8017402458379345, -1.4002762640497939], \"xaxis\": \"x6\", \"yaxis\": \"y6\"}, {\"line\": {\"color\": \"rgba(128, 128, 128, 1.0)\", \"dash\": \"solid\", \"shape\": \"linear\", \"width\": 1.3}, \"marker\": {\"size\": 2, \"symbol\": \"circle\"}, \"mode\": \"markers\", \"name\": \"B\", \"text\": \"\", \"type\": \"scatter\", \"x\": [0.1290518449288295, -0.8942693898422739, -0.0603885969808389, 0.8888571827253696, 0.3303216544253686, -0.6962016615371871, 0.6847180896334788, 1.634685536133902, -0.7768311097265821, -1.0497817281496105, 0.04260478899227552, 0.2838691156189989, -0.2912038460934214, 0.81625304472437, -1.3331321265578724, -0.911191847865561, -0.19687587859455705, -1.2485335063985736, 1.6254466265754193, -0.13264571807983716, 0.029233385616819835, -0.3835662646984012, -0.5998151436263172, 0.06629171046788511, -0.5334147456940839, -1.4752559631396605, -2.043165615565392, -0.9073109239546666, -0.5635336272430629, -0.008789992072936102, -1.7101997598000038, 1.918910794788815, 0.12651018891030594, -2.6736508129888765, 0.04090428461982828, -0.6267744176315131, 1.3335525230802128, -0.4120113575547163, -0.5594431836696315, -0.22065240576609835, 0.12305168424365334, -0.22595737428925225, 0.5349659874982043, 0.04224545942985787, 0.08866425256121034, 0.45401509544651464, -1.7797491351659889, 0.19668438010122313, -0.004817687438065632, 1.3282039365181113, 0.7042870811841475, 0.32056053960947095, -0.26560675795858235, -0.3716990673752184, -0.3452507209114012, 1.44433585382595, -0.25495549926528543, -0.24335827103759927, -0.5360389588075302, 0.8772550092169797, 0.36905944121709056, 0.687483714658491, -0.8763895837530766, 2.151432620163798, 0.9758341259438752, -0.4232591087195389, -0.7263409692947592, -1.4283884300059841, 0.3749006863824324, 1.2615256423879257, -0.47739720739320624, 0.007655163420542726, -0.7326569236558824, -0.23816640030265812, 0.5891064824477343, 0.6667209587695969, -2.2238868518942123, 0.7101794040876726, -1.1067475414415793, -0.43368631367219096, 1.1127113699512454, -3.5180754076422085, 1.6894351549143032, 0.7375479091898545, 2.273084648207982, 0.2093410158696672, 0.1275858696546415, 0.5877413023474375, -0.7730905034289465, 1.6960758468267494, -0.4795135980211943, -0.4670536994748242, -1.7923554266762372, -1.2489568643422548, 0.4584963812339756, 0.7321164288932169, 0.5720135489933249, -0.8741127283123019, 0.5753286511533514, 0.7941319134540555], \"xaxis\": \"x7\", \"y\": [0.5397341984256421, 1.4273648820401585, -0.2699470460701567, -0.009205707259470066, 0.38245509704051034, -0.6121410983025236, 1.471122536385358, 0.008852038627531702, -1.0322725314491903, 0.8203466329622852, 0.40274543333508517, 1.1710113832309024, -0.8490119147891786, 0.37012452704623977, 0.6727839097825701, -0.7146490926729023, -1.1710925815152915, 0.829667151217231, 1.6254325510413408, -0.03523386729780477, 0.8344690832208976, -0.013325006634558746, 0.731317913467702, -0.34730864357214936, 0.43023502387456686, 1.4329446581756315, -0.7491845032709245, 0.3510417309197764, 0.14083899715516177, -1.1861006093411341, 0.06372821563374959, -0.5482268710062057, 0.5358156468037663, 1.860518121810859, 1.0586200684408351, -0.0639731090133942, -0.08212677769362468, -1.3644617085653952, 2.306486236434318, 0.2299424870881697, 0.277553325627394, -0.7310389683951801, 0.7855790026429404, 1.991062673583806, 0.42083892064389616, 0.3312184872102766, -0.948280317204048, -0.9568068650540437, 0.06219846171557773, -0.6894903418517699, 0.9426582104357005, -0.6549530029210485, -0.27693993710331516, 0.5794679612177993, -0.17445332930955162, 1.973689765686015, -1.1221081740462968, -0.5689439814189605, -0.812476104079502, 2.106994461930286, 0.32736395155534453, 0.1312433407250468, -0.18047861897329853, -0.772626615251416, 0.3228290458457046, -0.3876374046636482, 0.1833422829766309, 1.9087468843804094, -0.15516628138100658, -1.4163623544697346, 0.6147553608766299, 0.6285689877845728, 0.46983514730252834, -1.891043424119729, -0.41109171089752206, -0.19882089607141482, 0.26050507326347166, -0.021940889213982018, 0.35818838870948727, 0.8607668916844468, -0.76838927683406, -0.627976710508572, -0.6366917226484422, 0.04068231456785195, 1.0800854230491712, -0.5362280813309173, 0.9978930275747946, -1.7791250497361506, -0.677962460840107, 0.7572816499590634, -0.287425248846891, -0.47888022308913814, -1.1274959646162466, 0.2324095143049378, 0.8683229396351135, 1.829117056821466, -1.816751591989605, -0.5924861572089956, 0.8017402458379345, -1.4002762640497939], \"yaxis\": \"y7\"}, {\"line\": {\"color\": \"rgba(128, 128, 128, 1.0)\", \"dash\": \"solid\", \"shape\": \"linear\", \"width\": 1.3}, \"marker\": {\"size\": 2, \"symbol\": \"circle\"}, \"mode\": \"markers\", \"name\": \"B\", \"text\": \"\", \"type\": \"scatter\", \"x\": [-1.98391637917484, 0.7709525668191602, 1.035419861330941, 1.4417704578205035, -0.08896422052327554, 0.17092025951416737, -2.1080136681225032, -1.5250922351857676, -0.026762787820439168, 1.0998460693649141, 0.23091058917948548, 0.6325655245214455, 1.5835804818769312, -0.11428329863210708, -2.2778561659483683, 0.891607490588241, 0.31025493453159747, -0.8377068774275928, -0.807822956343638, 0.8518053651312106, 0.21457144606777215, 1.0315235223368702, -1.5243672016317151, 1.6683287308670112, -2.7931280269506984, 0.6940655689111038, 1.9623415527581394, -0.7624118235995387, -0.20056846446995488, -0.6501963503967874, 0.9884059568672299, -1.633055927710676, -0.2494597122289142, 0.8714462386930537, -1.0646442724071206, 0.149190137888478, 0.10274451793225345, 0.03370701950596059, 0.42813908436603065, -0.48177266293926635, -0.8879242106159551, 0.23221415955640232, 0.6842347650504285, -0.10955251785708613, 0.4867956662898185, -0.7054283503401905, 0.06474989591599337, -0.7876540054494298, 0.5343136394302063, 0.042684352308633405, -0.16673198141396978, 1.7112143089213487, -0.38324163790884314, 1.2098094860548758, 1.8915333419114813, -0.661764747587267, 0.25871649531212054, -0.4705028898091924, 0.9897176320289679, -0.15343691337338916, 0.42192977920907715, -0.12430850661724739, 0.5981619565209743, 0.482735136064605, -1.1030235985469987, 1.242240587844812, -0.6021944852896283, -1.054917278224973, 0.15523086441313563, -1.6450536445743458, -0.5380979389961633, -0.17748978975832785, -0.6296565012042219, 0.3373686044484245, -1.1803469192277745, -0.967283447322248, -0.5570452871077222, -1.5746819791076703, 0.7529814075319013, -0.9005719235209542, -0.5444797659642279, -1.2654592599808787, 0.01627521893794739, 0.7535658105375982, -0.20653782340574864, -0.37983754807719283, -0.6997601308318075, -0.325757900081184, 0.4129298817199609, 0.46756150246359696, -1.1029938903553604, -0.3530223408861881, 1.0456733358176729, -0.4518373908910548, -0.9629326506667446, 0.5473940570622489, -0.027340882510283653, -1.3424921764772848, 0.07934729391308067, -0.41255363718070104], \"xaxis\": \"x8\", \"y\": [0.5397341984256421, 1.4273648820401585, -0.2699470460701567, -0.009205707259470066, 0.38245509704051034, -0.6121410983025236, 1.471122536385358, 0.008852038627531702, -1.0322725314491903, 0.8203466329622852, 0.40274543333508517, 1.1710113832309024, -0.8490119147891786, 0.37012452704623977, 0.6727839097825701, -0.7146490926729023, -1.1710925815152915, 0.829667151217231, 1.6254325510413408, -0.03523386729780477, 0.8344690832208976, -0.013325006634558746, 0.731317913467702, -0.34730864357214936, 0.43023502387456686, 1.4329446581756315, -0.7491845032709245, 0.3510417309197764, 0.14083899715516177, -1.1861006093411341, 0.06372821563374959, -0.5482268710062057, 0.5358156468037663, 1.860518121810859, 1.0586200684408351, -0.0639731090133942, -0.08212677769362468, -1.3644617085653952, 2.306486236434318, 0.2299424870881697, 0.277553325627394, -0.7310389683951801, 0.7855790026429404, 1.991062673583806, 0.42083892064389616, 0.3312184872102766, -0.948280317204048, -0.9568068650540437, 0.06219846171557773, -0.6894903418517699, 0.9426582104357005, -0.6549530029210485, -0.27693993710331516, 0.5794679612177993, -0.17445332930955162, 1.973689765686015, -1.1221081740462968, -0.5689439814189605, -0.812476104079502, 2.106994461930286, 0.32736395155534453, 0.1312433407250468, -0.18047861897329853, -0.772626615251416, 0.3228290458457046, -0.3876374046636482, 0.1833422829766309, 1.9087468843804094, -0.15516628138100658, -1.4163623544697346, 0.6147553608766299, 0.6285689877845728, 0.46983514730252834, -1.891043424119729, -0.41109171089752206, -0.19882089607141482, 0.26050507326347166, -0.021940889213982018, 0.35818838870948727, 0.8607668916844468, -0.76838927683406, -0.627976710508572, -0.6366917226484422, 0.04068231456785195, 1.0800854230491712, -0.5362280813309173, 0.9978930275747946, -1.7791250497361506, -0.677962460840107, 0.7572816499590634, -0.287425248846891, -0.47888022308913814, -1.1274959646162466, 0.2324095143049378, 0.8683229396351135, 1.829117056821466, -1.816751591989605, -0.5924861572089956, 0.8017402458379345, -1.4002762640497939], \"yaxis\": \"y8\"}, {\"line\": {\"color\": \"rgba(128, 128, 128, 1.0)\", \"dash\": \"solid\", \"shape\": \"linear\", \"width\": 1.3}, \"marker\": {\"size\": 2, \"symbol\": \"circle\"}, \"mode\": \"markers\", \"name\": \"C\", \"text\": \"\", \"type\": \"scatter\", \"x\": [1.9072310072255976, 0.45664251731057026, 1.8735593319249753, -1.2764623848263121, 1.3628530085372335, -0.4325085498941139, -2.130565106550025, -0.3478882665499311, -1.8065591069816318, 1.2802855972530267, 0.9099690101147678, -0.7254302350257974, -1.357689466572614, -0.2924728207932572, -0.6520631482874802, 0.004148547838381575, 0.6844015451212803, 0.4768351538690697, 0.6533129371097708, -0.8033735902053046, 0.10436594645935798, 0.5988000624309174, -0.6343639773656216, -0.13527773819219185, -0.20256767414639978, -0.015873236886170233, 1.0333180007396285, 0.6233280465126437, 1.8054087268203456, -0.3483139337287294, -1.6450789071911471, -0.07367633128762816, 0.9661664795196275, -3.554540119417503, -0.3517884347890016, -0.011080518665749637, 0.621422551146316, -1.2531579594339688, -0.10051082015301586, -0.24054607341946016, -0.3839538033661071, -1.0575974259826995, -1.752757339947482, 0.2774973963127115, -1.4494616998409102, 0.16015295976718663, -1.5104556329789018, -0.8063273303499235, -0.3947630414938095, 0.43441231346843795, 1.226504273411426, 0.2024939514122735, -0.00835533148028108, -0.36256325006618495, 0.5359156853817274, -1.0969121025292958, 0.43187469434509806, 0.8496889764272824, -1.2082731388454349, -1.7089121213718867, -0.5170724026485997, -0.03994284400890909, -0.25932188432990816, 0.07953898183032124, 1.0458832881768172, -1.9579149340336046, 0.5453127632430007, 1.854844673262272, -2.5673923034531083, -0.09091067989192657, -0.3884470822677006, -1.8469698500964709, -1.5158324196916066, -0.38138223397344256, -0.05805129919084255, 1.087493238981735, 0.7534415222757022, -0.6284540050680987, -0.38751599288043437, -1.2084618045487636, 0.0514634408368774, -1.082918557354612, -0.4992107264311093, -1.9452028837154631, 0.7273056387902339, -0.8955610849268126, -0.8234617655936936, 0.532065163647017, -1.1028862381850142, -1.7582423251578894, -1.3791246147712828, 0.10042152710117103, -0.5716713526590748, -0.9735284618191417, -0.058716214204821274, 0.5119956539665943, 0.11718988426468993, 0.006329341436323806, -0.620841952508306, 0.8187717540053973], \"xaxis\": \"x9\", \"y\": [0.1290518449288295, -0.8942693898422739, -0.0603885969808389, 0.8888571827253696, 0.3303216544253686, -0.6962016615371871, 0.6847180896334788, 1.634685536133902, -0.7768311097265821, -1.0497817281496105, 0.04260478899227552, 0.2838691156189989, -0.2912038460934214, 0.81625304472437, -1.3331321265578724, -0.911191847865561, -0.19687587859455705, -1.2485335063985736, 1.6254466265754193, -0.13264571807983716, 0.029233385616819835, -0.3835662646984012, -0.5998151436263172, 0.06629171046788511, -0.5334147456940839, -1.4752559631396605, -2.043165615565392, -0.9073109239546666, -0.5635336272430629, -0.008789992072936102, -1.7101997598000038, 1.918910794788815, 0.12651018891030594, -2.6736508129888765, 0.04090428461982828, -0.6267744176315131, 1.3335525230802128, -0.4120113575547163, -0.5594431836696315, -0.22065240576609835, 0.12305168424365334, -0.22595737428925225, 0.5349659874982043, 0.04224545942985787, 0.08866425256121034, 0.45401509544651464, -1.7797491351659889, 0.19668438010122313, -0.004817687438065632, 1.3282039365181113, 0.7042870811841475, 0.32056053960947095, -0.26560675795858235, -0.3716990673752184, -0.3452507209114012, 1.44433585382595, -0.25495549926528543, -0.24335827103759927, -0.5360389588075302, 0.8772550092169797, 0.36905944121709056, 0.687483714658491, -0.8763895837530766, 2.151432620163798, 0.9758341259438752, -0.4232591087195389, -0.7263409692947592, -1.4283884300059841, 0.3749006863824324, 1.2615256423879257, -0.47739720739320624, 0.007655163420542726, -0.7326569236558824, -0.23816640030265812, 0.5891064824477343, 0.6667209587695969, -2.2238868518942123, 0.7101794040876726, -1.1067475414415793, -0.43368631367219096, 1.1127113699512454, -3.5180754076422085, 1.6894351549143032, 0.7375479091898545, 2.273084648207982, 0.2093410158696672, 0.1275858696546415, 0.5877413023474375, -0.7730905034289465, 1.6960758468267494, -0.4795135980211943, -0.4670536994748242, -1.7923554266762372, -1.2489568643422548, 0.4584963812339756, 0.7321164288932169, 0.5720135489933249, -0.8741127283123019, 0.5753286511533514, 0.7941319134540555], \"yaxis\": \"y9\"}, {\"line\": {\"color\": \"rgba(128, 128, 128, 1.0)\", \"dash\": \"solid\", \"shape\": \"linear\", \"width\": 1.3}, \"marker\": {\"size\": 2, \"symbol\": \"circle\"}, \"mode\": \"markers\", \"name\": \"C\", \"text\": \"\", \"type\": \"scatter\", \"x\": [0.5397341984256421, 1.4273648820401585, -0.2699470460701567, -0.009205707259470066, 0.38245509704051034, -0.6121410983025236, 1.471122536385358, 0.008852038627531702, -1.0322725314491903, 0.8203466329622852, 0.40274543333508517, 1.1710113832309024, -0.8490119147891786, 0.37012452704623977, 0.6727839097825701, -0.7146490926729023, -1.1710925815152915, 0.829667151217231, 1.6254325510413408, -0.03523386729780477, 0.8344690832208976, -0.013325006634558746, 0.731317913467702, -0.34730864357214936, 0.43023502387456686, 1.4329446581756315, -0.7491845032709245, 0.3510417309197764, 0.14083899715516177, -1.1861006093411341, 0.06372821563374959, -0.5482268710062057, 0.5358156468037663, 1.860518121810859, 1.0586200684408351, -0.0639731090133942, -0.08212677769362468, -1.3644617085653952, 2.306486236434318, 0.2299424870881697, 0.277553325627394, -0.7310389683951801, 0.7855790026429404, 1.991062673583806, 0.42083892064389616, 0.3312184872102766, -0.948280317204048, -0.9568068650540437, 0.06219846171557773, -0.6894903418517699, 0.9426582104357005, -0.6549530029210485, -0.27693993710331516, 0.5794679612177993, -0.17445332930955162, 1.973689765686015, -1.1221081740462968, -0.5689439814189605, -0.812476104079502, 2.106994461930286, 0.32736395155534453, 0.1312433407250468, -0.18047861897329853, -0.772626615251416, 0.3228290458457046, -0.3876374046636482, 0.1833422829766309, 1.9087468843804094, -0.15516628138100658, -1.4163623544697346, 0.6147553608766299, 0.6285689877845728, 0.46983514730252834, -1.891043424119729, -0.41109171089752206, -0.19882089607141482, 0.26050507326347166, -0.021940889213982018, 0.35818838870948727, 0.8607668916844468, -0.76838927683406, -0.627976710508572, -0.6366917226484422, 0.04068231456785195, 1.0800854230491712, -0.5362280813309173, 0.9978930275747946, -1.7791250497361506, -0.677962460840107, 0.7572816499590634, -0.287425248846891, -0.47888022308913814, -1.1274959646162466, 0.2324095143049378, 0.8683229396351135, 1.829117056821466, -1.816751591989605, -0.5924861572089956, 0.8017402458379345, -1.4002762640497939], \"xaxis\": \"x10\", \"y\": [0.1290518449288295, -0.8942693898422739, -0.0603885969808389, 0.8888571827253696, 0.3303216544253686, -0.6962016615371871, 0.6847180896334788, 1.634685536133902, -0.7768311097265821, -1.0497817281496105, 0.04260478899227552, 0.2838691156189989, -0.2912038460934214, 0.81625304472437, -1.3331321265578724, -0.911191847865561, -0.19687587859455705, -1.2485335063985736, 1.6254466265754193, -0.13264571807983716, 0.029233385616819835, -0.3835662646984012, -0.5998151436263172, 0.06629171046788511, -0.5334147456940839, -1.4752559631396605, -2.043165615565392, -0.9073109239546666, -0.5635336272430629, -0.008789992072936102, -1.7101997598000038, 1.918910794788815, 0.12651018891030594, -2.6736508129888765, 0.04090428461982828, -0.6267744176315131, 1.3335525230802128, -0.4120113575547163, -0.5594431836696315, -0.22065240576609835, 0.12305168424365334, -0.22595737428925225, 0.5349659874982043, 0.04224545942985787, 0.08866425256121034, 0.45401509544651464, -1.7797491351659889, 0.19668438010122313, -0.004817687438065632, 1.3282039365181113, 0.7042870811841475, 0.32056053960947095, -0.26560675795858235, -0.3716990673752184, -0.3452507209114012, 1.44433585382595, -0.25495549926528543, -0.24335827103759927, -0.5360389588075302, 0.8772550092169797, 0.36905944121709056, 0.687483714658491, -0.8763895837530766, 2.151432620163798, 0.9758341259438752, -0.4232591087195389, -0.7263409692947592, -1.4283884300059841, 0.3749006863824324, 1.2615256423879257, -0.47739720739320624, 0.007655163420542726, -0.7326569236558824, -0.23816640030265812, 0.5891064824477343, 0.6667209587695969, -2.2238868518942123, 0.7101794040876726, -1.1067475414415793, -0.43368631367219096, 1.1127113699512454, -3.5180754076422085, 1.6894351549143032, 0.7375479091898545, 2.273084648207982, 0.2093410158696672, 0.1275858696546415, 0.5877413023474375, -0.7730905034289465, 1.6960758468267494, -0.4795135980211943, -0.4670536994748242, -1.7923554266762372, -1.2489568643422548, 0.4584963812339756, 0.7321164288932169, 0.5720135489933249, -0.8741127283123019, 0.5753286511533514, 0.7941319134540555], \"yaxis\": \"y10\"}, {\"histfunc\": \"count\", \"histnorm\": \"\", \"marker\": {\"color\": \"rgba(50, 171, 96, 1.0)\", \"line\": {\"color\": \"#4D5663\", \"width\": 1.3}}, \"name\": \"C\", \"nbinsx\": 10, \"opacity\": 0.8, \"orientation\": \"v\", \"type\": \"histogram\", \"x\": [0.1290518449288295, -0.8942693898422739, -0.0603885969808389, 0.8888571827253696, 0.3303216544253686, -0.6962016615371871, 0.6847180896334788, 1.634685536133902, -0.7768311097265821, -1.0497817281496105, 0.04260478899227552, 0.2838691156189989, -0.2912038460934214, 0.81625304472437, -1.3331321265578724, -0.911191847865561, -0.19687587859455705, -1.2485335063985736, 1.6254466265754193, -0.13264571807983716, 0.029233385616819835, -0.3835662646984012, -0.5998151436263172, 0.06629171046788511, -0.5334147456940839, -1.4752559631396605, -2.043165615565392, -0.9073109239546666, -0.5635336272430629, -0.008789992072936102, -1.7101997598000038, 1.918910794788815, 0.12651018891030594, -2.6736508129888765, 0.04090428461982828, -0.6267744176315131, 1.3335525230802128, -0.4120113575547163, -0.5594431836696315, -0.22065240576609835, 0.12305168424365334, -0.22595737428925225, 0.5349659874982043, 0.04224545942985787, 0.08866425256121034, 0.45401509544651464, -1.7797491351659889, 0.19668438010122313, -0.004817687438065632, 1.3282039365181113, 0.7042870811841475, 0.32056053960947095, -0.26560675795858235, -0.3716990673752184, -0.3452507209114012, 1.44433585382595, -0.25495549926528543, -0.24335827103759927, -0.5360389588075302, 0.8772550092169797, 0.36905944121709056, 0.687483714658491, -0.8763895837530766, 2.151432620163798, 0.9758341259438752, -0.4232591087195389, -0.7263409692947592, -1.4283884300059841, 0.3749006863824324, 1.2615256423879257, -0.47739720739320624, 0.007655163420542726, -0.7326569236558824, -0.23816640030265812, 0.5891064824477343, 0.6667209587695969, -2.2238868518942123, 0.7101794040876726, -1.1067475414415793, -0.43368631367219096, 1.1127113699512454, -3.5180754076422085, 1.6894351549143032, 0.7375479091898545, 2.273084648207982, 0.2093410158696672, 0.1275858696546415, 0.5877413023474375, -0.7730905034289465, 1.6960758468267494, -0.4795135980211943, -0.4670536994748242, -1.7923554266762372, -1.2489568643422548, 0.4584963812339756, 0.7321164288932169, 0.5720135489933249, -0.8741127283123019, 0.5753286511533514, 0.7941319134540555], \"xaxis\": \"x11\", \"yaxis\": \"y11\"}, {\"line\": {\"color\": \"rgba(128, 128, 128, 1.0)\", \"dash\": \"solid\", \"shape\": \"linear\", \"width\": 1.3}, \"marker\": {\"size\": 2, \"symbol\": \"circle\"}, \"mode\": \"markers\", \"name\": \"C\", \"text\": \"\", \"type\": \"scatter\", \"x\": [-1.98391637917484, 0.7709525668191602, 1.035419861330941, 1.4417704578205035, -0.08896422052327554, 0.17092025951416737, -2.1080136681225032, -1.5250922351857676, -0.026762787820439168, 1.0998460693649141, 0.23091058917948548, 0.6325655245214455, 1.5835804818769312, -0.11428329863210708, -2.2778561659483683, 0.891607490588241, 0.31025493453159747, -0.8377068774275928, -0.807822956343638, 0.8518053651312106, 0.21457144606777215, 1.0315235223368702, -1.5243672016317151, 1.6683287308670112, -2.7931280269506984, 0.6940655689111038, 1.9623415527581394, -0.7624118235995387, -0.20056846446995488, -0.6501963503967874, 0.9884059568672299, -1.633055927710676, -0.2494597122289142, 0.8714462386930537, -1.0646442724071206, 0.149190137888478, 0.10274451793225345, 0.03370701950596059, 0.42813908436603065, -0.48177266293926635, -0.8879242106159551, 0.23221415955640232, 0.6842347650504285, -0.10955251785708613, 0.4867956662898185, -0.7054283503401905, 0.06474989591599337, -0.7876540054494298, 0.5343136394302063, 0.042684352308633405, -0.16673198141396978, 1.7112143089213487, -0.38324163790884314, 1.2098094860548758, 1.8915333419114813, -0.661764747587267, 0.25871649531212054, -0.4705028898091924, 0.9897176320289679, -0.15343691337338916, 0.42192977920907715, -0.12430850661724739, 0.5981619565209743, 0.482735136064605, -1.1030235985469987, 1.242240587844812, -0.6021944852896283, -1.054917278224973, 0.15523086441313563, -1.6450536445743458, -0.5380979389961633, -0.17748978975832785, -0.6296565012042219, 0.3373686044484245, -1.1803469192277745, -0.967283447322248, -0.5570452871077222, -1.5746819791076703, 0.7529814075319013, -0.9005719235209542, -0.5444797659642279, -1.2654592599808787, 0.01627521893794739, 0.7535658105375982, -0.20653782340574864, -0.37983754807719283, -0.6997601308318075, -0.325757900081184, 0.4129298817199609, 0.46756150246359696, -1.1029938903553604, -0.3530223408861881, 1.0456733358176729, -0.4518373908910548, -0.9629326506667446, 0.5473940570622489, -0.027340882510283653, -1.3424921764772848, 0.07934729391308067, -0.41255363718070104], \"xaxis\": \"x12\", \"y\": [0.1290518449288295, -0.8942693898422739, -0.0603885969808389, 0.8888571827253696, 0.3303216544253686, -0.6962016615371871, 0.6847180896334788, 1.634685536133902, -0.7768311097265821, -1.0497817281496105, 0.04260478899227552, 0.2838691156189989, -0.2912038460934214, 0.81625304472437, -1.3331321265578724, -0.911191847865561, -0.19687587859455705, -1.2485335063985736, 1.6254466265754193, -0.13264571807983716, 0.029233385616819835, -0.3835662646984012, -0.5998151436263172, 0.06629171046788511, -0.5334147456940839, -1.4752559631396605, -2.043165615565392, -0.9073109239546666, -0.5635336272430629, -0.008789992072936102, -1.7101997598000038, 1.918910794788815, 0.12651018891030594, -2.6736508129888765, 0.04090428461982828, -0.6267744176315131, 1.3335525230802128, -0.4120113575547163, -0.5594431836696315, -0.22065240576609835, 0.12305168424365334, -0.22595737428925225, 0.5349659874982043, 0.04224545942985787, 0.08866425256121034, 0.45401509544651464, -1.7797491351659889, 0.19668438010122313, -0.004817687438065632, 1.3282039365181113, 0.7042870811841475, 0.32056053960947095, -0.26560675795858235, -0.3716990673752184, -0.3452507209114012, 1.44433585382595, -0.25495549926528543, -0.24335827103759927, -0.5360389588075302, 0.8772550092169797, 0.36905944121709056, 0.687483714658491, -0.8763895837530766, 2.151432620163798, 0.9758341259438752, -0.4232591087195389, -0.7263409692947592, -1.4283884300059841, 0.3749006863824324, 1.2615256423879257, -0.47739720739320624, 0.007655163420542726, -0.7326569236558824, -0.23816640030265812, 0.5891064824477343, 0.6667209587695969, -2.2238868518942123, 0.7101794040876726, -1.1067475414415793, -0.43368631367219096, 1.1127113699512454, -3.5180754076422085, 1.6894351549143032, 0.7375479091898545, 2.273084648207982, 0.2093410158696672, 0.1275858696546415, 0.5877413023474375, -0.7730905034289465, 1.6960758468267494, -0.4795135980211943, -0.4670536994748242, -1.7923554266762372, -1.2489568643422548, 0.4584963812339756, 0.7321164288932169, 0.5720135489933249, -0.8741127283123019, 0.5753286511533514, 0.7941319134540555], \"yaxis\": \"y12\"}, {\"line\": {\"color\": \"rgba(128, 128, 128, 1.0)\", \"dash\": \"solid\", \"shape\": \"linear\", \"width\": 1.3}, \"marker\": {\"size\": 2, \"symbol\": \"circle\"}, \"mode\": \"markers\", \"name\": \"D\", \"text\": \"\", \"type\": \"scatter\", \"x\": [1.9072310072255976, 0.45664251731057026, 1.8735593319249753, -1.2764623848263121, 1.3628530085372335, -0.4325085498941139, -2.130565106550025, -0.3478882665499311, -1.8065591069816318, 1.2802855972530267, 0.9099690101147678, -0.7254302350257974, -1.357689466572614, -0.2924728207932572, -0.6520631482874802, 0.004148547838381575, 0.6844015451212803, 0.4768351538690697, 0.6533129371097708, -0.8033735902053046, 0.10436594645935798, 0.5988000624309174, -0.6343639773656216, -0.13527773819219185, -0.20256767414639978, -0.015873236886170233, 1.0333180007396285, 0.6233280465126437, 1.8054087268203456, -0.3483139337287294, -1.6450789071911471, -0.07367633128762816, 0.9661664795196275, -3.554540119417503, -0.3517884347890016, -0.011080518665749637, 0.621422551146316, -1.2531579594339688, -0.10051082015301586, -0.24054607341946016, -0.3839538033661071, -1.0575974259826995, -1.752757339947482, 0.2774973963127115, -1.4494616998409102, 0.16015295976718663, -1.5104556329789018, -0.8063273303499235, -0.3947630414938095, 0.43441231346843795, 1.226504273411426, 0.2024939514122735, -0.00835533148028108, -0.36256325006618495, 0.5359156853817274, -1.0969121025292958, 0.43187469434509806, 0.8496889764272824, -1.2082731388454349, -1.7089121213718867, -0.5170724026485997, -0.03994284400890909, -0.25932188432990816, 0.07953898183032124, 1.0458832881768172, -1.9579149340336046, 0.5453127632430007, 1.854844673262272, -2.5673923034531083, -0.09091067989192657, -0.3884470822677006, -1.8469698500964709, -1.5158324196916066, -0.38138223397344256, -0.05805129919084255, 1.087493238981735, 0.7534415222757022, -0.6284540050680987, -0.38751599288043437, -1.2084618045487636, 0.0514634408368774, -1.082918557354612, -0.4992107264311093, -1.9452028837154631, 0.7273056387902339, -0.8955610849268126, -0.8234617655936936, 0.532065163647017, -1.1028862381850142, -1.7582423251578894, -1.3791246147712828, 0.10042152710117103, -0.5716713526590748, -0.9735284618191417, -0.058716214204821274, 0.5119956539665943, 0.11718988426468993, 0.006329341436323806, -0.620841952508306, 0.8187717540053973], \"xaxis\": \"x13\", \"y\": [-1.98391637917484, 0.7709525668191602, 1.035419861330941, 1.4417704578205035, -0.08896422052327554, 0.17092025951416737, -2.1080136681225032, -1.5250922351857676, -0.026762787820439168, 1.0998460693649141, 0.23091058917948548, 0.6325655245214455, 1.5835804818769312, -0.11428329863210708, -2.2778561659483683, 0.891607490588241, 0.31025493453159747, -0.8377068774275928, -0.807822956343638, 0.8518053651312106, 0.21457144606777215, 1.0315235223368702, -1.5243672016317151, 1.6683287308670112, -2.7931280269506984, 0.6940655689111038, 1.9623415527581394, -0.7624118235995387, -0.20056846446995488, -0.6501963503967874, 0.9884059568672299, -1.633055927710676, -0.2494597122289142, 0.8714462386930537, -1.0646442724071206, 0.149190137888478, 0.10274451793225345, 0.03370701950596059, 0.42813908436603065, -0.48177266293926635, -0.8879242106159551, 0.23221415955640232, 0.6842347650504285, -0.10955251785708613, 0.4867956662898185, -0.7054283503401905, 0.06474989591599337, -0.7876540054494298, 0.5343136394302063, 0.042684352308633405, -0.16673198141396978, 1.7112143089213487, -0.38324163790884314, 1.2098094860548758, 1.8915333419114813, -0.661764747587267, 0.25871649531212054, -0.4705028898091924, 0.9897176320289679, -0.15343691337338916, 0.42192977920907715, -0.12430850661724739, 0.5981619565209743, 0.482735136064605, -1.1030235985469987, 1.242240587844812, -0.6021944852896283, -1.054917278224973, 0.15523086441313563, -1.6450536445743458, -0.5380979389961633, -0.17748978975832785, -0.6296565012042219, 0.3373686044484245, -1.1803469192277745, -0.967283447322248, -0.5570452871077222, -1.5746819791076703, 0.7529814075319013, -0.9005719235209542, -0.5444797659642279, -1.2654592599808787, 0.01627521893794739, 0.7535658105375982, -0.20653782340574864, -0.37983754807719283, -0.6997601308318075, -0.325757900081184, 0.4129298817199609, 0.46756150246359696, -1.1029938903553604, -0.3530223408861881, 1.0456733358176729, -0.4518373908910548, -0.9629326506667446, 0.5473940570622489, -0.027340882510283653, -1.3424921764772848, 0.07934729391308067, -0.41255363718070104], \"yaxis\": \"y13\"}, {\"line\": {\"color\": \"rgba(128, 128, 128, 1.0)\", \"dash\": \"solid\", \"shape\": \"linear\", \"width\": 1.3}, \"marker\": {\"size\": 2, \"symbol\": \"circle\"}, \"mode\": \"markers\", \"name\": \"D\", \"text\": \"\", \"type\": \"scatter\", \"x\": [0.5397341984256421, 1.4273648820401585, -0.2699470460701567, -0.009205707259470066, 0.38245509704051034, -0.6121410983025236, 1.471122536385358, 0.008852038627531702, -1.0322725314491903, 0.8203466329622852, 0.40274543333508517, 1.1710113832309024, -0.8490119147891786, 0.37012452704623977, 0.6727839097825701, -0.7146490926729023, -1.1710925815152915, 0.829667151217231, 1.6254325510413408, -0.03523386729780477, 0.8344690832208976, -0.013325006634558746, 0.731317913467702, -0.34730864357214936, 0.43023502387456686, 1.4329446581756315, -0.7491845032709245, 0.3510417309197764, 0.14083899715516177, -1.1861006093411341, 0.06372821563374959, -0.5482268710062057, 0.5358156468037663, 1.860518121810859, 1.0586200684408351, -0.0639731090133942, -0.08212677769362468, -1.3644617085653952, 2.306486236434318, 0.2299424870881697, 0.277553325627394, -0.7310389683951801, 0.7855790026429404, 1.991062673583806, 0.42083892064389616, 0.3312184872102766, -0.948280317204048, -0.9568068650540437, 0.06219846171557773, -0.6894903418517699, 0.9426582104357005, -0.6549530029210485, -0.27693993710331516, 0.5794679612177993, -0.17445332930955162, 1.973689765686015, -1.1221081740462968, -0.5689439814189605, -0.812476104079502, 2.106994461930286, 0.32736395155534453, 0.1312433407250468, -0.18047861897329853, -0.772626615251416, 0.3228290458457046, -0.3876374046636482, 0.1833422829766309, 1.9087468843804094, -0.15516628138100658, -1.4163623544697346, 0.6147553608766299, 0.6285689877845728, 0.46983514730252834, -1.891043424119729, -0.41109171089752206, -0.19882089607141482, 0.26050507326347166, -0.021940889213982018, 0.35818838870948727, 0.8607668916844468, -0.76838927683406, -0.627976710508572, -0.6366917226484422, 0.04068231456785195, 1.0800854230491712, -0.5362280813309173, 0.9978930275747946, -1.7791250497361506, -0.677962460840107, 0.7572816499590634, -0.287425248846891, -0.47888022308913814, -1.1274959646162466, 0.2324095143049378, 0.8683229396351135, 1.829117056821466, -1.816751591989605, -0.5924861572089956, 0.8017402458379345, -1.4002762640497939], \"xaxis\": \"x14\", \"y\": [-1.98391637917484, 0.7709525668191602, 1.035419861330941, 1.4417704578205035, -0.08896422052327554, 0.17092025951416737, -2.1080136681225032, -1.5250922351857676, -0.026762787820439168, 1.0998460693649141, 0.23091058917948548, 0.6325655245214455, 1.5835804818769312, -0.11428329863210708, -2.2778561659483683, 0.891607490588241, 0.31025493453159747, -0.8377068774275928, -0.807822956343638, 0.8518053651312106, 0.21457144606777215, 1.0315235223368702, -1.5243672016317151, 1.6683287308670112, -2.7931280269506984, 0.6940655689111038, 1.9623415527581394, -0.7624118235995387, -0.20056846446995488, -0.6501963503967874, 0.9884059568672299, -1.633055927710676, -0.2494597122289142, 0.8714462386930537, -1.0646442724071206, 0.149190137888478, 0.10274451793225345, 0.03370701950596059, 0.42813908436603065, -0.48177266293926635, -0.8879242106159551, 0.23221415955640232, 0.6842347650504285, -0.10955251785708613, 0.4867956662898185, -0.7054283503401905, 0.06474989591599337, -0.7876540054494298, 0.5343136394302063, 0.042684352308633405, -0.16673198141396978, 1.7112143089213487, -0.38324163790884314, 1.2098094860548758, 1.8915333419114813, -0.661764747587267, 0.25871649531212054, -0.4705028898091924, 0.9897176320289679, -0.15343691337338916, 0.42192977920907715, -0.12430850661724739, 0.5981619565209743, 0.482735136064605, -1.1030235985469987, 1.242240587844812, -0.6021944852896283, -1.054917278224973, 0.15523086441313563, -1.6450536445743458, -0.5380979389961633, -0.17748978975832785, -0.6296565012042219, 0.3373686044484245, -1.1803469192277745, -0.967283447322248, -0.5570452871077222, -1.5746819791076703, 0.7529814075319013, -0.9005719235209542, -0.5444797659642279, -1.2654592599808787, 0.01627521893794739, 0.7535658105375982, -0.20653782340574864, -0.37983754807719283, -0.6997601308318075, -0.325757900081184, 0.4129298817199609, 0.46756150246359696, -1.1029938903553604, -0.3530223408861881, 1.0456733358176729, -0.4518373908910548, -0.9629326506667446, 0.5473940570622489, -0.027340882510283653, -1.3424921764772848, 0.07934729391308067, -0.41255363718070104], \"yaxis\": \"y14\"}, {\"line\": {\"color\": \"rgba(128, 128, 128, 1.0)\", \"dash\": \"solid\", \"shape\": \"linear\", \"width\": 1.3}, \"marker\": {\"size\": 2, \"symbol\": \"circle\"}, \"mode\": \"markers\", \"name\": \"D\", \"text\": \"\", \"type\": \"scatter\", \"x\": [0.1290518449288295, -0.8942693898422739, -0.0603885969808389, 0.8888571827253696, 0.3303216544253686, -0.6962016615371871, 0.6847180896334788, 1.634685536133902, -0.7768311097265821, -1.0497817281496105, 0.04260478899227552, 0.2838691156189989, -0.2912038460934214, 0.81625304472437, -1.3331321265578724, -0.911191847865561, -0.19687587859455705, -1.2485335063985736, 1.6254466265754193, -0.13264571807983716, 0.029233385616819835, -0.3835662646984012, -0.5998151436263172, 0.06629171046788511, -0.5334147456940839, -1.4752559631396605, -2.043165615565392, -0.9073109239546666, -0.5635336272430629, -0.008789992072936102, -1.7101997598000038, 1.918910794788815, 0.12651018891030594, -2.6736508129888765, 0.04090428461982828, -0.6267744176315131, 1.3335525230802128, -0.4120113575547163, -0.5594431836696315, -0.22065240576609835, 0.12305168424365334, -0.22595737428925225, 0.5349659874982043, 0.04224545942985787, 0.08866425256121034, 0.45401509544651464, -1.7797491351659889, 0.19668438010122313, -0.004817687438065632, 1.3282039365181113, 0.7042870811841475, 0.32056053960947095, -0.26560675795858235, -0.3716990673752184, -0.3452507209114012, 1.44433585382595, -0.25495549926528543, -0.24335827103759927, -0.5360389588075302, 0.8772550092169797, 0.36905944121709056, 0.687483714658491, -0.8763895837530766, 2.151432620163798, 0.9758341259438752, -0.4232591087195389, -0.7263409692947592, -1.4283884300059841, 0.3749006863824324, 1.2615256423879257, -0.47739720739320624, 0.007655163420542726, -0.7326569236558824, -0.23816640030265812, 0.5891064824477343, 0.6667209587695969, -2.2238868518942123, 0.7101794040876726, -1.1067475414415793, -0.43368631367219096, 1.1127113699512454, -3.5180754076422085, 1.6894351549143032, 0.7375479091898545, 2.273084648207982, 0.2093410158696672, 0.1275858696546415, 0.5877413023474375, -0.7730905034289465, 1.6960758468267494, -0.4795135980211943, -0.4670536994748242, -1.7923554266762372, -1.2489568643422548, 0.4584963812339756, 0.7321164288932169, 0.5720135489933249, -0.8741127283123019, 0.5753286511533514, 0.7941319134540555], \"xaxis\": \"x15\", \"y\": [-1.98391637917484, 0.7709525668191602, 1.035419861330941, 1.4417704578205035, -0.08896422052327554, 0.17092025951416737, -2.1080136681225032, -1.5250922351857676, -0.026762787820439168, 1.0998460693649141, 0.23091058917948548, 0.6325655245214455, 1.5835804818769312, -0.11428329863210708, -2.2778561659483683, 0.891607490588241, 0.31025493453159747, -0.8377068774275928, -0.807822956343638, 0.8518053651312106, 0.21457144606777215, 1.0315235223368702, -1.5243672016317151, 1.6683287308670112, -2.7931280269506984, 0.6940655689111038, 1.9623415527581394, -0.7624118235995387, -0.20056846446995488, -0.6501963503967874, 0.9884059568672299, -1.633055927710676, -0.2494597122289142, 0.8714462386930537, -1.0646442724071206, 0.149190137888478, 0.10274451793225345, 0.03370701950596059, 0.42813908436603065, -0.48177266293926635, -0.8879242106159551, 0.23221415955640232, 0.6842347650504285, -0.10955251785708613, 0.4867956662898185, -0.7054283503401905, 0.06474989591599337, -0.7876540054494298, 0.5343136394302063, 0.042684352308633405, -0.16673198141396978, 1.7112143089213487, -0.38324163790884314, 1.2098094860548758, 1.8915333419114813, -0.661764747587267, 0.25871649531212054, -0.4705028898091924, 0.9897176320289679, -0.15343691337338916, 0.42192977920907715, -0.12430850661724739, 0.5981619565209743, 0.482735136064605, -1.1030235985469987, 1.242240587844812, -0.6021944852896283, -1.054917278224973, 0.15523086441313563, -1.6450536445743458, -0.5380979389961633, -0.17748978975832785, -0.6296565012042219, 0.3373686044484245, -1.1803469192277745, -0.967283447322248, -0.5570452871077222, -1.5746819791076703, 0.7529814075319013, -0.9005719235209542, -0.5444797659642279, -1.2654592599808787, 0.01627521893794739, 0.7535658105375982, -0.20653782340574864, -0.37983754807719283, -0.6997601308318075, -0.325757900081184, 0.4129298817199609, 0.46756150246359696, -1.1029938903553604, -0.3530223408861881, 1.0456733358176729, -0.4518373908910548, -0.9629326506667446, 0.5473940570622489, -0.027340882510283653, -1.3424921764772848, 0.07934729391308067, -0.41255363718070104], \"yaxis\": \"y15\"}, {\"histfunc\": \"count\", \"histnorm\": \"\", \"marker\": {\"color\": \"rgba(128, 0, 128, 1.0)\", \"line\": {\"color\": \"#4D5663\", \"width\": 1.3}}, \"name\": \"D\", \"nbinsx\": 10, \"opacity\": 0.8, \"orientation\": \"v\", \"type\": \"histogram\", \"x\": [-1.98391637917484, 0.7709525668191602, 1.035419861330941, 1.4417704578205035, -0.08896422052327554, 0.17092025951416737, -2.1080136681225032, -1.5250922351857676, -0.026762787820439168, 1.0998460693649141, 0.23091058917948548, 0.6325655245214455, 1.5835804818769312, -0.11428329863210708, -2.2778561659483683, 0.891607490588241, 0.31025493453159747, -0.8377068774275928, -0.807822956343638, 0.8518053651312106, 0.21457144606777215, 1.0315235223368702, -1.5243672016317151, 1.6683287308670112, -2.7931280269506984, 0.6940655689111038, 1.9623415527581394, -0.7624118235995387, -0.20056846446995488, -0.6501963503967874, 0.9884059568672299, -1.633055927710676, -0.2494597122289142, 0.8714462386930537, -1.0646442724071206, 0.149190137888478, 0.10274451793225345, 0.03370701950596059, 0.42813908436603065, -0.48177266293926635, -0.8879242106159551, 0.23221415955640232, 0.6842347650504285, -0.10955251785708613, 0.4867956662898185, -0.7054283503401905, 0.06474989591599337, -0.7876540054494298, 0.5343136394302063, 0.042684352308633405, -0.16673198141396978, 1.7112143089213487, -0.38324163790884314, 1.2098094860548758, 1.8915333419114813, -0.661764747587267, 0.25871649531212054, -0.4705028898091924, 0.9897176320289679, -0.15343691337338916, 0.42192977920907715, -0.12430850661724739, 0.5981619565209743, 0.482735136064605, -1.1030235985469987, 1.242240587844812, -0.6021944852896283, -1.054917278224973, 0.15523086441313563, -1.6450536445743458, -0.5380979389961633, -0.17748978975832785, -0.6296565012042219, 0.3373686044484245, -1.1803469192277745, -0.967283447322248, -0.5570452871077222, -1.5746819791076703, 0.7529814075319013, -0.9005719235209542, -0.5444797659642279, -1.2654592599808787, 0.01627521893794739, 0.7535658105375982, -0.20653782340574864, -0.37983754807719283, -0.6997601308318075, -0.325757900081184, 0.4129298817199609, 0.46756150246359696, -1.1029938903553604, -0.3530223408861881, 1.0456733358176729, -0.4518373908910548, -0.9629326506667446, 0.5473940570622489, -0.027340882510283653, -1.3424921764772848, 0.07934729391308067, -0.41255363718070104], \"xaxis\": \"x16\", \"yaxis\": \"y16\"}],\n",
       "                        {\"bargap\": 0.02, \"legend\": {\"bgcolor\": \"#F5F6F9\", \"font\": {\"color\": \"#4D5663\"}}, \"paper_bgcolor\": \"#F5F6F9\", \"plot_bgcolor\": \"#F5F6F9\", \"showlegend\": false, \"template\": {\"data\": {\"bar\": [{\"error_x\": {\"color\": \"#2a3f5f\"}, \"error_y\": {\"color\": \"#2a3f5f\"}, \"marker\": {\"line\": {\"color\": \"#E5ECF6\", \"width\": 0.5}}, \"type\": \"bar\"}], \"barpolar\": [{\"marker\": {\"line\": {\"color\": \"#E5ECF6\", \"width\": 0.5}}, \"type\": \"barpolar\"}], \"carpet\": [{\"aaxis\": {\"endlinecolor\": \"#2a3f5f\", \"gridcolor\": \"white\", \"linecolor\": \"white\", \"minorgridcolor\": \"white\", \"startlinecolor\": \"#2a3f5f\"}, \"baxis\": {\"endlinecolor\": \"#2a3f5f\", \"gridcolor\": \"white\", \"linecolor\": \"white\", \"minorgridcolor\": \"white\", \"startlinecolor\": \"#2a3f5f\"}, \"type\": \"carpet\"}], \"choropleth\": [{\"colorbar\": {\"outlinewidth\": 0, \"ticks\": \"\"}, \"type\": \"choropleth\"}], \"contour\": [{\"colorbar\": {\"outlinewidth\": 0, \"ticks\": \"\"}, \"colorscale\": [[0.0, \"#0d0887\"], [0.1111111111111111, \"#46039f\"], [0.2222222222222222, \"#7201a8\"], [0.3333333333333333, \"#9c179e\"], [0.4444444444444444, \"#bd3786\"], [0.5555555555555556, \"#d8576b\"], [0.6666666666666666, \"#ed7953\"], [0.7777777777777778, \"#fb9f3a\"], [0.8888888888888888, \"#fdca26\"], [1.0, \"#f0f921\"]], \"type\": \"contour\"}], \"contourcarpet\": [{\"colorbar\": {\"outlinewidth\": 0, \"ticks\": \"\"}, \"type\": \"contourcarpet\"}], \"heatmap\": [{\"colorbar\": {\"outlinewidth\": 0, \"ticks\": \"\"}, \"colorscale\": [[0.0, \"#0d0887\"], [0.1111111111111111, \"#46039f\"], [0.2222222222222222, \"#7201a8\"], [0.3333333333333333, \"#9c179e\"], [0.4444444444444444, \"#bd3786\"], [0.5555555555555556, \"#d8576b\"], [0.6666666666666666, \"#ed7953\"], [0.7777777777777778, \"#fb9f3a\"], [0.8888888888888888, \"#fdca26\"], [1.0, \"#f0f921\"]], \"type\": \"heatmap\"}], \"heatmapgl\": [{\"colorbar\": {\"outlinewidth\": 0, \"ticks\": \"\"}, \"colorscale\": [[0.0, \"#0d0887\"], [0.1111111111111111, \"#46039f\"], [0.2222222222222222, \"#7201a8\"], [0.3333333333333333, \"#9c179e\"], [0.4444444444444444, \"#bd3786\"], [0.5555555555555556, \"#d8576b\"], [0.6666666666666666, \"#ed7953\"], [0.7777777777777778, \"#fb9f3a\"], [0.8888888888888888, \"#fdca26\"], [1.0, \"#f0f921\"]], \"type\": \"heatmapgl\"}], \"histogram\": [{\"marker\": {\"colorbar\": {\"outlinewidth\": 0, \"ticks\": \"\"}}, \"type\": \"histogram\"}], \"histogram2d\": [{\"colorbar\": {\"outlinewidth\": 0, \"ticks\": \"\"}, \"colorscale\": [[0.0, \"#0d0887\"], [0.1111111111111111, \"#46039f\"], [0.2222222222222222, \"#7201a8\"], [0.3333333333333333, \"#9c179e\"], [0.4444444444444444, \"#bd3786\"], [0.5555555555555556, \"#d8576b\"], [0.6666666666666666, \"#ed7953\"], [0.7777777777777778, \"#fb9f3a\"], [0.8888888888888888, \"#fdca26\"], [1.0, \"#f0f921\"]], \"type\": \"histogram2d\"}], \"histogram2dcontour\": [{\"colorbar\": {\"outlinewidth\": 0, \"ticks\": \"\"}, \"colorscale\": [[0.0, \"#0d0887\"], [0.1111111111111111, \"#46039f\"], [0.2222222222222222, \"#7201a8\"], [0.3333333333333333, \"#9c179e\"], [0.4444444444444444, \"#bd3786\"], [0.5555555555555556, \"#d8576b\"], [0.6666666666666666, \"#ed7953\"], [0.7777777777777778, \"#fb9f3a\"], [0.8888888888888888, \"#fdca26\"], [1.0, \"#f0f921\"]], \"type\": \"histogram2dcontour\"}], \"mesh3d\": [{\"colorbar\": {\"outlinewidth\": 0, \"ticks\": \"\"}, \"type\": \"mesh3d\"}], \"parcoords\": [{\"line\": {\"colorbar\": {\"outlinewidth\": 0, \"ticks\": \"\"}}, \"type\": \"parcoords\"}], \"pie\": [{\"automargin\": true, \"type\": \"pie\"}], \"scatter\": [{\"marker\": {\"colorbar\": {\"outlinewidth\": 0, \"ticks\": \"\"}}, \"type\": \"scatter\"}], \"scatter3d\": [{\"line\": {\"colorbar\": {\"outlinewidth\": 0, \"ticks\": \"\"}}, \"marker\": {\"colorbar\": {\"outlinewidth\": 0, \"ticks\": \"\"}}, \"type\": \"scatter3d\"}], \"scattercarpet\": [{\"marker\": {\"colorbar\": {\"outlinewidth\": 0, \"ticks\": \"\"}}, \"type\": \"scattercarpet\"}], \"scattergeo\": [{\"marker\": {\"colorbar\": {\"outlinewidth\": 0, \"ticks\": \"\"}}, \"type\": \"scattergeo\"}], \"scattergl\": [{\"marker\": {\"colorbar\": {\"outlinewidth\": 0, \"ticks\": \"\"}}, \"type\": \"scattergl\"}], \"scattermapbox\": [{\"marker\": {\"colorbar\": {\"outlinewidth\": 0, \"ticks\": \"\"}}, \"type\": \"scattermapbox\"}], \"scatterpolar\": [{\"marker\": {\"colorbar\": {\"outlinewidth\": 0, \"ticks\": \"\"}}, \"type\": \"scatterpolar\"}], \"scatterpolargl\": [{\"marker\": {\"colorbar\": {\"outlinewidth\": 0, \"ticks\": \"\"}}, \"type\": \"scatterpolargl\"}], \"scatterternary\": [{\"marker\": {\"colorbar\": {\"outlinewidth\": 0, \"ticks\": \"\"}}, \"type\": \"scatterternary\"}], \"surface\": [{\"colorbar\": {\"outlinewidth\": 0, \"ticks\": \"\"}, \"colorscale\": [[0.0, \"#0d0887\"], [0.1111111111111111, \"#46039f\"], [0.2222222222222222, \"#7201a8\"], [0.3333333333333333, \"#9c179e\"], [0.4444444444444444, \"#bd3786\"], [0.5555555555555556, \"#d8576b\"], [0.6666666666666666, \"#ed7953\"], [0.7777777777777778, \"#fb9f3a\"], [0.8888888888888888, \"#fdca26\"], [1.0, \"#f0f921\"]], \"type\": \"surface\"}], \"table\": [{\"cells\": {\"fill\": {\"color\": \"#EBF0F8\"}, \"line\": {\"color\": \"white\"}}, \"header\": {\"fill\": {\"color\": \"#C8D4E3\"}, \"line\": {\"color\": \"white\"}}, \"type\": \"table\"}]}, \"layout\": {\"annotationdefaults\": {\"arrowcolor\": \"#2a3f5f\", \"arrowhead\": 0, \"arrowwidth\": 1}, \"coloraxis\": {\"colorbar\": {\"outlinewidth\": 0, \"ticks\": \"\"}}, \"colorscale\": {\"diverging\": [[0, \"#8e0152\"], [0.1, \"#c51b7d\"], [0.2, \"#de77ae\"], [0.3, \"#f1b6da\"], [0.4, \"#fde0ef\"], [0.5, \"#f7f7f7\"], [0.6, \"#e6f5d0\"], [0.7, \"#b8e186\"], [0.8, \"#7fbc41\"], [0.9, \"#4d9221\"], [1, \"#276419\"]], \"sequential\": [[0.0, \"#0d0887\"], [0.1111111111111111, \"#46039f\"], [0.2222222222222222, \"#7201a8\"], [0.3333333333333333, \"#9c179e\"], [0.4444444444444444, \"#bd3786\"], [0.5555555555555556, \"#d8576b\"], [0.6666666666666666, \"#ed7953\"], [0.7777777777777778, \"#fb9f3a\"], [0.8888888888888888, \"#fdca26\"], [1.0, \"#f0f921\"]], \"sequentialminus\": [[0.0, \"#0d0887\"], [0.1111111111111111, \"#46039f\"], [0.2222222222222222, \"#7201a8\"], [0.3333333333333333, \"#9c179e\"], [0.4444444444444444, \"#bd3786\"], [0.5555555555555556, \"#d8576b\"], [0.6666666666666666, \"#ed7953\"], [0.7777777777777778, \"#fb9f3a\"], [0.8888888888888888, \"#fdca26\"], [1.0, \"#f0f921\"]]}, \"colorway\": [\"#636efa\", \"#EF553B\", \"#00cc96\", \"#ab63fa\", \"#FFA15A\", \"#19d3f3\", \"#FF6692\", \"#B6E880\", \"#FF97FF\", \"#FECB52\"], \"font\": {\"color\": \"#2a3f5f\"}, \"geo\": {\"bgcolor\": \"white\", \"lakecolor\": \"white\", \"landcolor\": \"#E5ECF6\", \"showlakes\": true, \"showland\": true, \"subunitcolor\": \"white\"}, \"hoverlabel\": {\"align\": \"left\"}, \"hovermode\": \"closest\", \"mapbox\": {\"style\": \"light\"}, \"paper_bgcolor\": \"white\", \"plot_bgcolor\": \"#E5ECF6\", \"polar\": {\"angularaxis\": {\"gridcolor\": \"white\", \"linecolor\": \"white\", \"ticks\": \"\"}, \"bgcolor\": \"#E5ECF6\", \"radialaxis\": {\"gridcolor\": \"white\", \"linecolor\": \"white\", \"ticks\": \"\"}}, \"scene\": {\"xaxis\": {\"backgroundcolor\": \"#E5ECF6\", \"gridcolor\": \"white\", \"gridwidth\": 2, \"linecolor\": \"white\", \"showbackground\": true, \"ticks\": \"\", \"zerolinecolor\": \"white\"}, \"yaxis\": {\"backgroundcolor\": \"#E5ECF6\", \"gridcolor\": \"white\", \"gridwidth\": 2, \"linecolor\": \"white\", \"showbackground\": true, \"ticks\": \"\", \"zerolinecolor\": \"white\"}, \"zaxis\": {\"backgroundcolor\": \"#E5ECF6\", \"gridcolor\": \"white\", \"gridwidth\": 2, \"linecolor\": \"white\", \"showbackground\": true, \"ticks\": \"\", \"zerolinecolor\": \"white\"}}, \"shapedefaults\": {\"line\": {\"color\": \"#2a3f5f\"}}, \"ternary\": {\"aaxis\": {\"gridcolor\": \"white\", \"linecolor\": \"white\", \"ticks\": \"\"}, \"baxis\": {\"gridcolor\": \"white\", \"linecolor\": \"white\", \"ticks\": \"\"}, \"bgcolor\": \"#E5ECF6\", \"caxis\": {\"gridcolor\": \"white\", \"linecolor\": \"white\", \"ticks\": \"\"}}, \"title\": {\"x\": 0.05}, \"xaxis\": {\"automargin\": true, \"gridcolor\": \"white\", \"linecolor\": \"white\", \"ticks\": \"\", \"title\": {\"standoff\": 15}, \"zerolinecolor\": \"white\", \"zerolinewidth\": 2}, \"yaxis\": {\"automargin\": true, \"gridcolor\": \"white\", \"linecolor\": \"white\", \"ticks\": \"\", \"title\": {\"standoff\": 15}, \"zerolinecolor\": \"white\", \"zerolinewidth\": 2}}}, \"title\": {\"font\": {\"color\": \"#4D5663\"}}, \"xaxis\": {\"anchor\": \"y\", \"domain\": [0.0, 0.2125], \"gridcolor\": \"#E1E5ED\", \"showgrid\": false, \"tickfont\": {\"color\": \"#4D5663\"}, \"title\": {\"font\": {\"color\": \"#4D5663\"}, \"text\": \"\"}, \"zerolinecolor\": \"#E1E5ED\"}, \"xaxis10\": {\"anchor\": \"y10\", \"domain\": [0.2625, 0.475], \"gridcolor\": \"#E1E5ED\", \"showgrid\": false, \"tickfont\": {\"color\": \"#4D5663\"}, \"title\": {\"font\": {\"color\": \"#4D5663\"}, \"text\": \"\"}, \"zerolinecolor\": \"#E1E5ED\"}, \"xaxis11\": {\"anchor\": \"y11\", \"domain\": [0.525, 0.7375], \"gridcolor\": \"#E1E5ED\", \"showgrid\": false, \"tickfont\": {\"color\": \"#4D5663\"}, \"title\": {\"font\": {\"color\": \"#4D5663\"}, \"text\": \"\"}, \"zerolinecolor\": \"#E1E5ED\"}, \"xaxis12\": {\"anchor\": \"y12\", \"domain\": [0.7875, 1.0], \"gridcolor\": \"#E1E5ED\", \"showgrid\": false, \"tickfont\": {\"color\": \"#4D5663\"}, \"title\": {\"font\": {\"color\": \"#4D5663\"}, \"text\": \"\"}, \"zerolinecolor\": \"#E1E5ED\"}, \"xaxis13\": {\"anchor\": \"y13\", \"domain\": [0.0, 0.2125], \"gridcolor\": \"#E1E5ED\", \"showgrid\": false, \"tickfont\": {\"color\": \"#4D5663\"}, \"title\": {\"font\": {\"color\": \"#4D5663\"}, \"text\": \"\"}, \"zerolinecolor\": \"#E1E5ED\"}, \"xaxis14\": {\"anchor\": \"y14\", \"domain\": [0.2625, 0.475], \"gridcolor\": \"#E1E5ED\", \"showgrid\": false, \"tickfont\": {\"color\": \"#4D5663\"}, \"title\": {\"font\": {\"color\": \"#4D5663\"}, \"text\": \"\"}, \"zerolinecolor\": \"#E1E5ED\"}, \"xaxis15\": {\"anchor\": \"y15\", \"domain\": [0.525, 0.7375], \"gridcolor\": \"#E1E5ED\", \"showgrid\": false, \"tickfont\": {\"color\": \"#4D5663\"}, \"title\": {\"font\": {\"color\": \"#4D5663\"}, \"text\": \"\"}, \"zerolinecolor\": \"#E1E5ED\"}, \"xaxis16\": {\"anchor\": \"y16\", \"domain\": [0.7875, 1.0], \"gridcolor\": \"#E1E5ED\", \"showgrid\": false, \"tickfont\": {\"color\": \"#4D5663\"}, \"title\": {\"font\": {\"color\": \"#4D5663\"}, \"text\": \"\"}, \"zerolinecolor\": \"#E1E5ED\"}, \"xaxis2\": {\"anchor\": \"y2\", \"domain\": [0.2625, 0.475], \"gridcolor\": \"#E1E5ED\", \"showgrid\": false, \"tickfont\": {\"color\": \"#4D5663\"}, \"title\": {\"font\": {\"color\": \"#4D5663\"}, \"text\": \"\"}, \"zerolinecolor\": \"#E1E5ED\"}, \"xaxis3\": {\"anchor\": \"y3\", \"domain\": [0.525, 0.7375], \"gridcolor\": \"#E1E5ED\", \"showgrid\": false, \"tickfont\": {\"color\": \"#4D5663\"}, \"title\": {\"font\": {\"color\": \"#4D5663\"}, \"text\": \"\"}, \"zerolinecolor\": \"#E1E5ED\"}, \"xaxis4\": {\"anchor\": \"y4\", \"domain\": [0.7875, 1.0], \"gridcolor\": \"#E1E5ED\", \"showgrid\": false, \"tickfont\": {\"color\": \"#4D5663\"}, \"title\": {\"font\": {\"color\": \"#4D5663\"}, \"text\": \"\"}, \"zerolinecolor\": \"#E1E5ED\"}, \"xaxis5\": {\"anchor\": \"y5\", \"domain\": [0.0, 0.2125], \"gridcolor\": \"#E1E5ED\", \"showgrid\": false, \"tickfont\": {\"color\": \"#4D5663\"}, \"title\": {\"font\": {\"color\": \"#4D5663\"}, \"text\": \"\"}, \"zerolinecolor\": \"#E1E5ED\"}, \"xaxis6\": {\"anchor\": \"y6\", \"domain\": [0.2625, 0.475], \"gridcolor\": \"#E1E5ED\", \"showgrid\": false, \"tickfont\": {\"color\": \"#4D5663\"}, \"title\": {\"font\": {\"color\": \"#4D5663\"}, \"text\": \"\"}, \"zerolinecolor\": \"#E1E5ED\"}, \"xaxis7\": {\"anchor\": \"y7\", \"domain\": [0.525, 0.7375], \"gridcolor\": \"#E1E5ED\", \"showgrid\": false, \"tickfont\": {\"color\": \"#4D5663\"}, \"title\": {\"font\": {\"color\": \"#4D5663\"}, \"text\": \"\"}, \"zerolinecolor\": \"#E1E5ED\"}, \"xaxis8\": {\"anchor\": \"y8\", \"domain\": [0.7875, 1.0], \"gridcolor\": \"#E1E5ED\", \"showgrid\": false, \"tickfont\": {\"color\": \"#4D5663\"}, \"title\": {\"font\": {\"color\": \"#4D5663\"}, \"text\": \"\"}, \"zerolinecolor\": \"#E1E5ED\"}, \"xaxis9\": {\"anchor\": \"y9\", \"domain\": [0.0, 0.2125], \"gridcolor\": \"#E1E5ED\", \"showgrid\": false, \"tickfont\": {\"color\": \"#4D5663\"}, \"title\": {\"font\": {\"color\": \"#4D5663\"}, \"text\": \"\"}, \"zerolinecolor\": \"#E1E5ED\"}, \"yaxis\": {\"anchor\": \"x\", \"domain\": [0.8025, 1.0], \"gridcolor\": \"#E1E5ED\", \"showgrid\": false, \"tickfont\": {\"color\": \"#4D5663\"}, \"title\": {\"font\": {\"color\": \"#4D5663\"}, \"text\": \"\"}, \"zerolinecolor\": \"#E1E5ED\"}, \"yaxis10\": {\"anchor\": \"x10\", \"domain\": [0.2675, 0.465], \"gridcolor\": \"#E1E5ED\", \"showgrid\": false, \"tickfont\": {\"color\": \"#4D5663\"}, \"title\": {\"font\": {\"color\": \"#4D5663\"}, \"text\": \"\"}, \"zerolinecolor\": \"#E1E5ED\"}, \"yaxis11\": {\"anchor\": \"x11\", \"domain\": [0.2675, 0.465], \"gridcolor\": \"#E1E5ED\", \"showgrid\": false, \"tickfont\": {\"color\": \"#4D5663\"}, \"title\": {\"font\": {\"color\": \"#4D5663\"}, \"text\": \"\"}, \"zerolinecolor\": \"#E1E5ED\"}, \"yaxis12\": {\"anchor\": \"x12\", \"domain\": [0.2675, 0.465], \"gridcolor\": \"#E1E5ED\", \"showgrid\": false, \"tickfont\": {\"color\": \"#4D5663\"}, \"title\": {\"font\": {\"color\": \"#4D5663\"}, \"text\": \"\"}, \"zerolinecolor\": \"#E1E5ED\"}, \"yaxis13\": {\"anchor\": \"x13\", \"domain\": [0.0, 0.1975], \"gridcolor\": \"#E1E5ED\", \"showgrid\": false, \"tickfont\": {\"color\": \"#4D5663\"}, \"title\": {\"font\": {\"color\": \"#4D5663\"}, \"text\": \"\"}, \"zerolinecolor\": \"#E1E5ED\"}, \"yaxis14\": {\"anchor\": \"x14\", \"domain\": [0.0, 0.1975], \"gridcolor\": \"#E1E5ED\", \"showgrid\": false, \"tickfont\": {\"color\": \"#4D5663\"}, \"title\": {\"font\": {\"color\": \"#4D5663\"}, \"text\": \"\"}, \"zerolinecolor\": \"#E1E5ED\"}, \"yaxis15\": {\"anchor\": \"x15\", \"domain\": [0.0, 0.1975], \"gridcolor\": \"#E1E5ED\", \"showgrid\": false, \"tickfont\": {\"color\": \"#4D5663\"}, \"title\": {\"font\": {\"color\": \"#4D5663\"}, \"text\": \"\"}, \"zerolinecolor\": \"#E1E5ED\"}, \"yaxis16\": {\"anchor\": \"x16\", \"domain\": [0.0, 0.1975], \"gridcolor\": \"#E1E5ED\", \"showgrid\": false, \"tickfont\": {\"color\": \"#4D5663\"}, \"title\": {\"font\": {\"color\": \"#4D5663\"}, \"text\": \"\"}, \"zerolinecolor\": \"#E1E5ED\"}, \"yaxis2\": {\"anchor\": \"x2\", \"domain\": [0.8025, 1.0], \"gridcolor\": \"#E1E5ED\", \"showgrid\": false, \"tickfont\": {\"color\": \"#4D5663\"}, \"title\": {\"font\": {\"color\": \"#4D5663\"}, \"text\": \"\"}, \"zerolinecolor\": \"#E1E5ED\"}, \"yaxis3\": {\"anchor\": \"x3\", \"domain\": [0.8025, 1.0], \"gridcolor\": \"#E1E5ED\", \"showgrid\": false, \"tickfont\": {\"color\": \"#4D5663\"}, \"title\": {\"font\": {\"color\": \"#4D5663\"}, \"text\": \"\"}, \"zerolinecolor\": \"#E1E5ED\"}, \"yaxis4\": {\"anchor\": \"x4\", \"domain\": [0.8025, 1.0], \"gridcolor\": \"#E1E5ED\", \"showgrid\": false, \"tickfont\": {\"color\": \"#4D5663\"}, \"title\": {\"font\": {\"color\": \"#4D5663\"}, \"text\": \"\"}, \"zerolinecolor\": \"#E1E5ED\"}, \"yaxis5\": {\"anchor\": \"x5\", \"domain\": [0.535, 0.7325], \"gridcolor\": \"#E1E5ED\", \"showgrid\": false, \"tickfont\": {\"color\": \"#4D5663\"}, \"title\": {\"font\": {\"color\": \"#4D5663\"}, \"text\": \"\"}, \"zerolinecolor\": \"#E1E5ED\"}, \"yaxis6\": {\"anchor\": \"x6\", \"domain\": [0.535, 0.7325], \"gridcolor\": \"#E1E5ED\", \"showgrid\": false, \"tickfont\": {\"color\": \"#4D5663\"}, \"title\": {\"font\": {\"color\": \"#4D5663\"}, \"text\": \"\"}, \"zerolinecolor\": \"#E1E5ED\"}, \"yaxis7\": {\"anchor\": \"x7\", \"domain\": [0.535, 0.7325], \"gridcolor\": \"#E1E5ED\", \"showgrid\": false, \"tickfont\": {\"color\": \"#4D5663\"}, \"title\": {\"font\": {\"color\": \"#4D5663\"}, \"text\": \"\"}, \"zerolinecolor\": \"#E1E5ED\"}, \"yaxis8\": {\"anchor\": \"x8\", \"domain\": [0.535, 0.7325], \"gridcolor\": \"#E1E5ED\", \"showgrid\": false, \"tickfont\": {\"color\": \"#4D5663\"}, \"title\": {\"font\": {\"color\": \"#4D5663\"}, \"text\": \"\"}, \"zerolinecolor\": \"#E1E5ED\"}, \"yaxis9\": {\"anchor\": \"x9\", \"domain\": [0.2675, 0.465], \"gridcolor\": \"#E1E5ED\", \"showgrid\": false, \"tickfont\": {\"color\": \"#4D5663\"}, \"title\": {\"font\": {\"color\": \"#4D5663\"}, \"text\": \"\"}, \"zerolinecolor\": \"#E1E5ED\"}},\n",
       "                        {\"showLink\": true, \"linkText\": \"Export to plot.ly\", \"plotlyServerURL\": \"https://plot.ly\", \"responsive\": true}\n",
       "                    ).then(function(){\n",
       "                            \n",
       "var gd = document.getElementById('48ba1e36-00a9-40a6-9f39-8e3f5b8bcdc1');\n",
       "var x = new MutationObserver(function (mutations, observer) {{\n",
       "        var display = window.getComputedStyle(gd).display;\n",
       "        if (!display || display === 'none') {{\n",
       "            console.log([gd, 'removed!']);\n",
       "            Plotly.purge(gd);\n",
       "            observer.disconnect();\n",
       "        }}\n",
       "}});\n",
       "\n",
       "// Listen for the removal of the full notebook cells\n",
       "var notebookContainer = gd.closest('#notebook-container');\n",
       "if (notebookContainer) {{\n",
       "    x.observe(notebookContainer, {childList: true});\n",
       "}}\n",
       "\n",
       "// Listen for the clearing of the current output cell\n",
       "var outputEl = gd.closest('.output');\n",
       "if (outputEl) {{\n",
       "    x.observe(outputEl, {childList: true});\n",
       "}}\n",
       "\n",
       "                        })\n",
       "                };\n",
       "                });\n",
       "            </script>\n",
       "        </div>"
      ]
     },
     "metadata": {},
     "output_type": "display_data"
    }
   ],
   "source": [
    "# scatter matrix plot.. similar to seaborn pair plot\n",
    "# scatter matrix of all the columns -- all columns should be numerical\n",
    "df.scatter_matrix()"
   ]
  },
  {
   "cell_type": "code",
   "execution_count": null,
   "metadata": {},
   "outputs": [],
   "source": []
  }
 ],
 "metadata": {
  "kernelspec": {
   "display_name": "Python 3",
   "language": "python",
   "name": "python3"
  },
  "language_info": {
   "codemirror_mode": {
    "name": "ipython",
    "version": 3
   },
   "file_extension": ".py",
   "mimetype": "text/x-python",
   "name": "python",
   "nbconvert_exporter": "python",
   "pygments_lexer": "ipython3",
   "version": "3.7.6"
  }
 },
 "nbformat": 4,
 "nbformat_minor": 4
}
